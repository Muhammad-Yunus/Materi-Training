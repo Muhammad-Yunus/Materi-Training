{
 "cells": [
  {
   "cell_type": "markdown",
   "metadata": {},
   "source": [
    "___\n",
    "# OpenCV\n",
    "<img src=\"resource/opencv.png\" style=\"width: 100px; \"></img>\n",
    "\n",
    "*Open Source Computer Vision Library* | an open source computer vision and machine learning software library."
   ]
  },
  {
   "cell_type": "markdown",
   "metadata": {},
   "source": [
    "**History | 20 Tahun  Library OpenCV**\n",
    "- Dirilis pertama kali oleh **Intel** pada tahun 1999\n",
    "- Versi alpha rilis secara public di *IEEE Conference on Computer Vision and Pattern Recognition* pada tahun 2000 \n",
    "- Versi 1.0 rilis pada tahun 2006 (C support) [(link)](https://opencv.org/anniversary/20/?p=366)\n",
    "- Versi 1.1 \"pre-release\" rilis tahun 2008\n",
    "- Development diserahkan kepada **Willow Garage** dan **Itseez** (*leading developer of OpenCV*) pada tahun 2008 [(link)](https://opencv.org/anniversary/20/?p=59)\n",
    "- **OpenCV 2**  (major update,  C++ support & Python Binding) rilis Oktober 2009 [(link)](https://opencv.org/anniversary/20/?p=145)\n",
    "- Pada tahun 2012 OpenCV di ambil alih oleh non-profit foundation **OpenCV.org** dan OpenCV mirasi ke **Github** [(link)](https://opencv.org/anniversary/20/?p=147)\n",
    "- **OpenCV 3.0**  release Juni 2015 (interface improvements, T-API – an OpenCL-based acceleration) [(link) ](https://opencv.org/anniversary/20/?p=150)\n",
    "- Pada tahun 2016 Intel mengakuisisi **Itseez**, sehingga OpenCV kembali dibawah **Intel** [(link)](https://opencv.org/anniversary/20/?p=152)\n",
    "- Akhir 2016 OpenCV merilis DNN module and JavaScript (**OpenCV.js**) support (OpenCV >= 3.3) [(link)](https://opencv.org/anniversary/20/?paged=2&cat=6)\n",
    "- Tahun 2018, Intel merilis **OpenVINO toolkit**, yang dapat digunakan sebagai backend OpenCV DNN [(link)](https://opencv.org/anniversary/20/?p=158) \n",
    "- **OpenCV 4.0**  release (C++11, Vulkan backend, etc.) Nov 2018\n",
    "- **OpenCV 4.4**  release Juli 2020\n",
    "- OpenCV merilis **OAK: Spatial AI Powered** pada Juli 2020\n",
    "\n",
    "<img src=\"resource/oak.jpg\" style=\"width: 500px; \"></img>"
   ]
  },
  {
   "cell_type": "markdown",
   "metadata": {},
   "source": [
    "**Support**\n",
    "- Programming Language : C++, Python, Java, MATLAB, etc.\n",
    "- Operating Systems : Windows, Linux, Android and Mac OS\n",
    "- Hardware Acceleration : CUDA (NVIDIA) & OpenCL"
   ]
  },
  {
   "cell_type": "markdown",
   "metadata": {},
   "source": [
    "### Citra Digital\n",
    "\n",
    "- Citra digital (umumnya) terdiri dari 3 layer (channel) warna R, G & B.\n",
    "- Tiap layer memiliki tinggi dan lebar citra yang sama.\n",
    "- Tiap titik pada layer memiliki nilai 8bit (0 - 255) yag di sebut pixel. "
   ]
  },
  {
   "cell_type": "markdown",
   "metadata": {},
   "source": [
    "<img src=\"resource/citradigital.png\" style=\"width: 500px; \"></img>"
   ]
  },
  {
   "cell_type": "markdown",
   "metadata": {},
   "source": [
    "- Ukuran citra bervariasi dari size yang kecil (320x240 pixel) hingga (4096x2190 pixel)/4K\n",
    "\n",
    "<img src=\"resource/ukurancitra.PNG\" style=\"width: 500px; \"></img>"
   ]
  },
  {
   "cell_type": "markdown",
   "metadata": {},
   "source": [
    "### OpenCV - Part 1\n",
    "\n",
    "- Access Individual pixel \n",
    "- Read, Show, & Save Image\n",
    "- Read, Show, & Save Video\n",
    "- Capture photo from camera\n",
    "- Capture video from camera\n",
    "\n",
    "___"
   ]
  },
  {
   "cell_type": "code",
   "execution_count": null,
   "metadata": {},
   "outputs": [],
   "source": [
    "import cv2"
   ]
  },
  {
   "cell_type": "code",
   "execution_count": null,
   "metadata": {},
   "outputs": [],
   "source": [
    "cv2.__version__"
   ]
  },
  {
   "cell_type": "code",
   "execution_count": null,
   "metadata": {},
   "outputs": [],
   "source": [
    "cv2.__file__"
   ]
  },
  {
   "cell_type": "markdown",
   "metadata": {},
   "source": [
    "### Read Image"
   ]
  },
  {
   "cell_type": "code",
   "execution_count": null,
   "metadata": {},
   "outputs": [],
   "source": [
    "img = cv2.imread(\"lena.jpg\")"
   ]
  },
  {
   "cell_type": "code",
   "execution_count": null,
   "metadata": {},
   "outputs": [],
   "source": [
    "type(img)"
   ]
  },
  {
   "cell_type": "markdown",
   "metadata": {},
   "source": [
    "### Image Matrix "
   ]
  },
  {
   "cell_type": "code",
   "execution_count": null,
   "metadata": {},
   "outputs": [],
   "source": [
    "img.shape"
   ]
  },
  {
   "cell_type": "code",
   "execution_count": null,
   "metadata": {},
   "outputs": [],
   "source": [
    "type(img.shape)"
   ]
  },
  {
   "cell_type": "code",
   "execution_count": null,
   "metadata": {},
   "outputs": [],
   "source": [
    "# tuple unpacking\n",
    "h, w, c = img.shape"
   ]
  },
  {
   "cell_type": "code",
   "execution_count": null,
   "metadata": {},
   "outputs": [],
   "source": [
    "h, w, c"
   ]
  },
  {
   "cell_type": "code",
   "execution_count": null,
   "metadata": {},
   "outputs": [],
   "source": [
    "h*w"
   ]
  },
  {
   "cell_type": "code",
   "execution_count": null,
   "metadata": {},
   "outputs": [],
   "source": [
    "img.nbytes #in Bytes"
   ]
  },
  {
   "cell_type": "code",
   "execution_count": null,
   "metadata": {},
   "outputs": [],
   "source": [
    "img.nbytes/1024 #in kB"
   ]
  },
  {
   "cell_type": "code",
   "execution_count": null,
   "metadata": {},
   "outputs": [],
   "source": [
    "import os"
   ]
  },
  {
   "cell_type": "code",
   "execution_count": null,
   "metadata": {},
   "outputs": [],
   "source": [
    "os.path.getsize(\"lena.jpg\")/1024 # jpeg compresed file (in kB)"
   ]
  },
  {
   "cell_type": "code",
   "execution_count": null,
   "metadata": {},
   "outputs": [],
   "source": [
    "img.ndim #3D"
   ]
  },
  {
   "cell_type": "code",
   "execution_count": null,
   "metadata": {},
   "outputs": [],
   "source": [
    "img.min()"
   ]
  },
  {
   "cell_type": "code",
   "execution_count": null,
   "metadata": {},
   "outputs": [],
   "source": [
    "img.max()"
   ]
  },
  {
   "cell_type": "code",
   "execution_count": null,
   "metadata": {},
   "outputs": [],
   "source": [
    "img.size # n pixel"
   ]
  },
  {
   "cell_type": "code",
   "execution_count": null,
   "metadata": {},
   "outputs": [],
   "source": [
    "h*w*c # n pixel"
   ]
  },
  {
   "cell_type": "markdown",
   "metadata": {},
   "source": [
    "### Access Image Channel"
   ]
  },
  {
   "cell_type": "code",
   "execution_count": null,
   "metadata": {},
   "outputs": [],
   "source": [
    "img[:, :, 0].shape # layer 0 (Blue)"
   ]
  },
  {
   "cell_type": "code",
   "execution_count": null,
   "metadata": {},
   "outputs": [],
   "source": [
    "img[:, :, 1].shape # layer 1 (Green)"
   ]
  },
  {
   "cell_type": "code",
   "execution_count": null,
   "metadata": {},
   "outputs": [],
   "source": [
    "img[:, :, 2].shape # layer 2 (Red)"
   ]
  },
  {
   "cell_type": "markdown",
   "metadata": {},
   "source": [
    "### Access Individual pixel"
   ]
  },
  {
   "cell_type": "code",
   "execution_count": null,
   "metadata": {},
   "outputs": [],
   "source": [
    "img[0, 0]"
   ]
  },
  {
   "cell_type": "code",
   "execution_count": null,
   "metadata": {},
   "outputs": [],
   "source": [
    "(B, G, R) = img[200, 200]\n",
    "\n",
    "print(\"R=%d, G=%d, B=%d\" % (R, G, B))"
   ]
  },
  {
   "cell_type": "code",
   "execution_count": null,
   "metadata": {},
   "outputs": [],
   "source": []
  },
  {
   "cell_type": "markdown",
   "metadata": {},
   "source": [
    "### Read & Display Image"
   ]
  },
  {
   "cell_type": "code",
   "execution_count": null,
   "metadata": {},
   "outputs": [],
   "source": [
    "import cv2"
   ]
  },
  {
   "cell_type": "code",
   "execution_count": null,
   "metadata": {},
   "outputs": [],
   "source": [
    "# read image\n",
    "img = cv2.imread('lena.jpg')"
   ]
  },
  {
   "cell_type": "markdown",
   "metadata": {},
   "source": [
    "- Menggunkan GUI OpenCV"
   ]
  },
  {
   "cell_type": "code",
   "execution_count": null,
   "metadata": {},
   "outputs": [],
   "source": [
    "# show image\n",
    "cv2.imshow('myapp',img)\n",
    "cv2.waitKey(0) #display the window infinitely until any keypress\n",
    "cv2.destroyAllWindows()"
   ]
  },
  {
   "cell_type": "code",
   "execution_count": null,
   "metadata": {},
   "outputs": [],
   "source": [
    "cv2.imshow('lena.jpg',img)\n",
    "res = cv2.waitKey(6000) # display the window for 6000 ms (6 s), \n",
    "                        # if any keypress detected before 6 s, \n",
    "                        # the window will be closed. \n",
    "print(res)\n",
    "cv2.destroyAllWindows()"
   ]
  },
  {
   "cell_type": "code",
   "execution_count": null,
   "metadata": {},
   "outputs": [],
   "source": [
    "# show image\n",
    "cv2.imshow('lena.jpg',img)\n",
    "res = cv2.waitKey(4000)\n",
    "print('You pressed : %s' % chr(res) if res >=0 and res <= 127 else '<unknown>')\n",
    "cv2.destroyAllWindows()"
   ]
  },
  {
   "cell_type": "markdown",
   "metadata": {},
   "source": [
    "- Menggunakan Matplotlib"
   ]
  },
  {
   "cell_type": "code",
   "execution_count": null,
   "metadata": {},
   "outputs": [],
   "source": [
    "%matplotlib inline\n",
    "import matplotlib.pyplot as plt\n",
    "\n",
    "plt.imshow(img)"
   ]
  },
  {
   "cell_type": "code",
   "execution_count": null,
   "metadata": {},
   "outputs": [],
   "source": [
    "img_rgb = img[:,:,::-1] # numpy reverse matrix (BGR to RGB)\n",
    "plt.imshow(img_rgb)"
   ]
  },
  {
   "cell_type": "code",
   "execution_count": null,
   "metadata": {},
   "outputs": [],
   "source": [
    "img_red = img[:,:, 2]\n",
    "\n",
    "plt.imshow(img_red, cmap='gray')"
   ]
  },
  {
   "cell_type": "code",
   "execution_count": null,
   "metadata": {},
   "outputs": [],
   "source": [
    "img_green = img[:,:, 1]\n",
    "\n",
    "plt.imshow(img_green, cmap='gray')"
   ]
  },
  {
   "cell_type": "code",
   "execution_count": null,
   "metadata": {},
   "outputs": [],
   "source": [
    "img_blue = img[:,:, 0]\n",
    "\n",
    "plt.imshow(img_blue, cmap='gray')"
   ]
  },
  {
   "cell_type": "markdown",
   "metadata": {},
   "source": [
    "___\n",
    "#### Numpy Slicing [start:stop:step]"
   ]
  },
  {
   "cell_type": "code",
   "execution_count": null,
   "metadata": {},
   "outputs": [],
   "source": [
    "import numpy as np"
   ]
  },
  {
   "cell_type": "code",
   "execution_count": null,
   "metadata": {},
   "outputs": [],
   "source": [
    "a = np.arange(5)"
   ]
  },
  {
   "cell_type": "code",
   "execution_count": null,
   "metadata": {},
   "outputs": [],
   "source": [
    "a"
   ]
  },
  {
   "cell_type": "code",
   "execution_count": null,
   "metadata": {},
   "outputs": [],
   "source": [
    "a[0:5]"
   ]
  },
  {
   "cell_type": "code",
   "execution_count": null,
   "metadata": {},
   "outputs": [],
   "source": [
    "a[0:5:2]"
   ]
  },
  {
   "cell_type": "markdown",
   "metadata": {},
   "source": [
    "- Numpy Slicing Notation\n",
    "\n",
    "`a[start:]` \\\n",
    "`a[:stop]` \\\n",
    "`a[start:stop]` \\\n",
    "`a[start:stop:step]`\n",
    "\n",
    "\n",
    "- Negative step (reverse array)\n",
    "\n",
    "`a[::-1]`    # all items in the array, reversed \\\n",
    "`a[1::-1]`   # the first two items, reversed \\\n",
    "`a[:-3:-1]`  # the last two items, reversed \\\n",
    "`a[-3::-1]`  # everything except the last two items, reversed\n"
   ]
  },
  {
   "cell_type": "markdown",
   "metadata": {},
   "source": [
    "- jika step bernilai negatif, start > stop"
   ]
  },
  {
   "cell_type": "code",
   "execution_count": null,
   "metadata": {},
   "outputs": [],
   "source": [
    "a[::-1] # reverse dari [0, 1, 2, 3, 4]"
   ]
  },
  {
   "cell_type": "code",
   "execution_count": null,
   "metadata": {},
   "outputs": [],
   "source": [
    "a[1::-1] # reverse, step -1, -> 1, 0"
   ]
  },
  {
   "cell_type": "code",
   "execution_count": null,
   "metadata": {},
   "outputs": [],
   "source": [
    "a[:-3:-1] # reverse, step -1, start 4, 3"
   ]
  },
  {
   "cell_type": "markdown",
   "metadata": {},
   "source": [
    "___"
   ]
  },
  {
   "cell_type": "markdown",
   "metadata": {},
   "source": [
    "- Convert menggunakan `cv2.cvtColor`"
   ]
  },
  {
   "cell_type": "code",
   "execution_count": null,
   "metadata": {},
   "outputs": [],
   "source": [
    "img_rgb = cv2.cvtColor(img, cv2.COLOR_BGR2RGB) # convert BGR to RGB color\n",
    "plt.imshow(img_rgb)"
   ]
  },
  {
   "cell_type": "code",
   "execution_count": null,
   "metadata": {},
   "outputs": [],
   "source": [
    "# task 2 GUI image using OpenCV GUI"
   ]
  },
  {
   "cell_type": "code",
   "execution_count": null,
   "metadata": {},
   "outputs": [],
   "source": [
    "# show image\n",
    "img1= cv2.imread('lena.jpg')\n",
    "img2= cv2.imread('myimage.jpg')\n",
    "cv2.imshow('myapp 1',img1)\n",
    "cv2.imshow('myapp 2',img2)\n",
    "cv2.waitKey(0) #display the window infinitely until any keypress\n",
    "cv2.destroyAllWindows()"
   ]
  },
  {
   "cell_type": "markdown",
   "metadata": {},
   "source": [
    "## Save Image "
   ]
  },
  {
   "cell_type": "code",
   "execution_count": null,
   "metadata": {},
   "outputs": [],
   "source": [
    "# show image\n",
    "cv2.imwrite('saved_lena.jpg', img)"
   ]
  },
  {
   "cell_type": "markdown",
   "metadata": {},
   "source": [
    "### Play Video"
   ]
  },
  {
   "cell_type": "code",
   "execution_count": null,
   "metadata": {},
   "outputs": [],
   "source": [
    "# load video\n",
    "cap = cv2.VideoCapture('video.mp4')\n",
    "\n",
    "# iterate for each frame in video\n",
    "while cap.isOpened():\n",
    "    \n",
    "    # get image on each frame\n",
    "    ret, frame = cap.read()\n",
    "\n",
    "    # show image\n",
    "    cv2.imshow('Frame',frame)\n",
    "\n",
    "    # wait 25ms per frame and close using 'q' \n",
    "    if cv2.waitKey(25) == ord('q'):\n",
    "          break\n",
    "\n",
    "#close video\n",
    "cap.release()\n",
    "#close window\n",
    "cv2.destroyAllWindows()"
   ]
  },
  {
   "cell_type": "code",
   "execution_count": null,
   "metadata": {},
   "outputs": [],
   "source": [
    "\n",
    "# load video\n",
    "cap = cv2.VideoCapture('video.mp4')\n",
    "           \n",
    "# iterate for each frame in video\n",
    "while cap.isOpened():\n",
    "    \n",
    "    # get image on each frame\n",
    "    ret, frame = cap.read()\n",
    "    if ret == True:\n",
    "        \n",
    "        # show image\n",
    "        cv2.imshow('Frame',frame)\n",
    "        \n",
    "        # wait 25ms per frame and close using 'q' \n",
    "        if cv2.waitKey(25) == ord('q'):\n",
    "              break\n",
    "        if cv2.waitKey(25) == ord('s'):\n",
    "            cv2.imwrite(\"foto_from_video.jpg\", frame)\n",
    "            print(\"foto captured!\")\n",
    "    else: \n",
    "        break\n",
    "\n",
    "#close video\n",
    "cap.release()\n",
    "#close window\n",
    "cv2.destroyAllWindows()"
   ]
  },
  {
   "cell_type": "markdown",
   "metadata": {},
   "source": [
    "### Capture Photo"
   ]
  },
  {
   "cell_type": "code",
   "execution_count": null,
   "metadata": {},
   "outputs": [],
   "source": [
    "cap = cv2.VideoCapture(1)\n",
    "ret, frame = cap.read()\n",
    "\n",
    "if ret :\n",
    "    cv2.imwrite(\"my_photo_2.jpg\", frame)\n",
    "else :\n",
    "    print(\"can't save photo\")\n",
    "    \n",
    "#close video\n",
    "cap.release()"
   ]
  },
  {
   "cell_type": "markdown",
   "metadata": {},
   "source": [
    "### Capture Video"
   ]
  },
  {
   "cell_type": "code",
   "execution_count": null,
   "metadata": {},
   "outputs": [],
   "source": [
    "cap = cv2.VideoCapture(0)\n",
    "\n",
    "cap.set(cv2.CAP_PROP_FRAME_WIDTH, 320)\n",
    "cap.set(cv2.CAP_PROP_FRAME_HEIGHT, 240)\n",
    "\n",
    "# Define the codec and create VideoWriter object\n",
    "# fourcc is a 4-byte code used to specify the video codec\n",
    "fourcc = cv2.VideoWriter_fourcc(*'MP4V') # fourcc for .avi\n",
    "\n",
    "out = cv2.VideoWriter('output_2.mp4',fourcc, 20, (320,240)) # name, fourcc, fps, size\n",
    "\n",
    "cv2.VideoWriter\n",
    "while(cap.isOpened()):\n",
    "    ret, frame = cap.read()\n",
    "    if ret:\n",
    "\n",
    "        # write the flipped frame\n",
    "        out.write(frame)\n",
    "\n",
    "        cv2.imshow('frame',frame)\n",
    "        key = cv2.waitKey(1) \n",
    "        if key == ord('q'):\n",
    "            break\n",
    "        if key == ord('s'):\n",
    "            cv2.imwrite(\"foto_from_video.jpg\", frame)\n",
    "            print(\"foto captured!\")\n",
    "    else:\n",
    "        break\n",
    "\n",
    "# Release everything if job is finished\n",
    "cap.release()\n",
    "out.release()\n",
    "cv2.destroyAllWindows()"
   ]
  },
  {
   "cell_type": "markdown",
   "metadata": {},
   "source": [
    "- `cap.set()` function"
   ]
  },
  {
   "cell_type": "markdown",
   "metadata": {},
   "source": [
    "0. CAP_PROP_POS_MSEC Current position of the video file in milliseconds.\n",
    "1. CAP_PROP_POS_FRAMES 0-based index of the frame to be decoded/captured next.\n",
    "2. CAP_PROP_POS_AVI_RATIO Relative position of the video file\n",
    "3. CAP_PROP_FRAME_WIDTH Width of the frames in the video stream.\n",
    "4. CAP_PROP_FRAME_HEIGHT Height of the frames in the video stream.\n",
    "5. CAP_PROP_FPS Frame rate.\n",
    "6. CAP_PROP_FOURCC 4-character code of codec.\n",
    "7. CAP_PROP_FRAME_COUNT Number of frames in the video file.\n",
    "8. CAP_PROP_FORMAT Format of the Mat objects returned by retrieve() .\n",
    "9. CAP_PROP_MODE Backend-specific value indicating the current capture mode.\n",
    "10. CAP_PROP_BRIGHTNESS Brightness of the image (only for cameras).\n",
    "11. CAP_PROP_CONTRAST Contrast of the image (only for cameras).\n",
    "12. CAP_PROP_SATURATION Saturation of the image (only for cameras).\n",
    "13. CAP_PROP_HUE Hue of the image (only for cameras).\n",
    "14. CAP_PROP_GAIN Gain of the image (only for cameras).\n",
    "15. CAP_PROP_EXPOSURE Exposure (only for cameras).\n",
    "16. CAP_PROP_CONVERT_RGB Boolean flags indicating whether images should be converted to RGB.\n",
    "17. CAP_PROP_WHITE_BALANCE Currently unsupported\n",
    "18. CAP_PROP_RECTIFICATION Rectification flag for stereo cameras (note: only supported by DC1394 v 2.x backend currently)"
   ]
  },
  {
   "cell_type": "markdown",
   "metadata": {},
   "source": [
    "- OpenCV fourcc video codec :\n",
    "'DIVX' -> .avi \\\n",
    "'mp4' -> .mp4 \\\n",
    "'H264' -> .h264 \\\n",
    "etc."
   ]
  },
  {
   "cell_type": "code",
   "execution_count": null,
   "metadata": {},
   "outputs": [],
   "source": []
  }
 ],
 "metadata": {
  "kernelspec": {
   "display_name": "Python [conda env:opencv_env]",
   "language": "python",
   "name": "conda-env-opencv_env-py"
  },
  "language_info": {
   "codemirror_mode": {
    "name": "ipython",
    "version": 3
   },
   "file_extension": ".py",
   "mimetype": "text/x-python",
   "name": "python",
   "nbconvert_exporter": "python",
   "pygments_lexer": "ipython3",
   "version": "3.8.6"
  }
 },
 "nbformat": 4,
 "nbformat_minor": 4
}
