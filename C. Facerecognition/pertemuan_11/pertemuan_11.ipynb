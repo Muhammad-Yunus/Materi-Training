{
 "cells": [
  {
   "cell_type": "markdown",
   "metadata": {},
   "source": [
    "# Pertemuan 11\n",
    "\n",
    "- Keras Transfer Learning with Flask\n",
    "    - Basic **Flask & SocketIO**\n",
    "    - **Background Job** using Flask SocketIO\n",
    "    - **Face Registration** Web App\n",
    "    - Transfer Learning Keras as Background Job Flask SocketIO\n",
    "- Flask & Bootstrap\n",
    "    - Create Template UI (Navigation Menu & Themes)\n",
    "    - Layouting Realtime Stream UI\n",
    "    - Layouting Face Registration UI"
   ]
  },
  {
   "cell_type": "markdown",
   "metadata": {},
   "source": [
    "### 1.1 Basic Flask SocketIO"
   ]
  },
  {
   "cell_type": "markdown",
   "metadata": {},
   "source": [
    "- install library"
   ]
  },
  {
   "cell_type": "code",
   "execution_count": 1,
   "metadata": {},
   "outputs": [
    {
     "name": "stdout",
     "output_type": "stream",
     "text": [
      "Collecting flask-socketio\n",
      "  Downloading Flask_SocketIO-5.0.1-py2.py3-none-any.whl (16 kB)\n",
      "Requirement already satisfied: Flask>=0.9 in c:\\users\\yunus\\anaconda3\\envs\\cvdl\\lib\\site-packages (from flask-socketio) (1.1.2)\n",
      "Requirement already satisfied: click>=5.1 in c:\\users\\yunus\\anaconda3\\envs\\cvdl\\lib\\site-packages (from Flask>=0.9->flask-socketio) (7.1.2)\n",
      "Requirement already satisfied: itsdangerous>=0.24 in c:\\users\\yunus\\anaconda3\\envs\\cvdl\\lib\\site-packages (from Flask>=0.9->flask-socketio) (1.1.0)\n",
      "Requirement already satisfied: Werkzeug>=0.15 in c:\\users\\yunus\\anaconda3\\envs\\cvdl\\lib\\site-packages (from Flask>=0.9->flask-socketio) (0.16.1)\n",
      "Requirement already satisfied: Jinja2>=2.10.1 in c:\\users\\yunus\\anaconda3\\envs\\cvdl\\lib\\site-packages (from Flask>=0.9->flask-socketio) (2.11.2)\n",
      "Requirement already satisfied: MarkupSafe>=0.23 in c:\\users\\yunus\\anaconda3\\envs\\cvdl\\lib\\site-packages (from Jinja2>=2.10.1->Flask>=0.9->flask-socketio) (1.1.1)\n",
      "Collecting python-socketio>=5.0.2\n",
      "  Downloading python_socketio-5.0.4-py2.py3-none-any.whl (52 kB)\n",
      "Collecting bidict>=0.21.0\n",
      "  Downloading bidict-0.21.2-py2.py3-none-any.whl (37 kB)\n",
      "Collecting python-engineio>=4\n",
      "  Downloading python_engineio-4.0.0-py2.py3-none-any.whl (50 kB)\n",
      "Installing collected packages: python-engineio, bidict, python-socketio, flask-socketio\n",
      "Successfully installed bidict-0.21.2 flask-socketio-5.0.1 python-engineio-4.0.0 python-socketio-5.0.4\n"
     ]
    }
   ],
   "source": [
    "! pip install flask-socketio"
   ]
  },
  {
   "cell_type": "code",
   "execution_count": 3,
   "metadata": {},
   "outputs": [
    {
     "name": "stdout",
     "output_type": "stream",
     "text": [
      "Collecting eventlet\n",
      "  Downloading eventlet-0.30.0-py2.py3-none-any.whl (224 kB)\n",
      "Requirement already satisfied: six>=1.10.0 in c:\\users\\yunus\\anaconda3\\envs\\cvdl\\lib\\site-packages (from eventlet) (1.15.0)\n",
      "Collecting dnspython<2.0.0,>=1.15.0\n",
      "  Using cached dnspython-1.16.0-py2.py3-none-any.whl (188 kB)\n",
      "Collecting greenlet>=0.3\n",
      "  Downloading greenlet-0.4.17-cp36-cp36m-win_amd64.whl (19 kB)\n",
      "Installing collected packages: greenlet, dnspython, eventlet\n",
      "Successfully installed dnspython-1.16.0 eventlet-0.30.0 greenlet-0.4.17\n"
     ]
    }
   ],
   "source": [
    "! pip install eventlet"
   ]
  },
  {
   "cell_type": "markdown",
   "metadata": {},
   "source": [
    "#### 1.1.1 About Socket.IO\n",
    "- **Socket.IO** is a library that enables **real-time**, **bidirectional** and **event-based** communication between the **browser** and the **server**.\n",
    "- official documentation : https://flask-socketio.readthedocs.io/en/latest/\n",
    "- requirement : asynchronous services (**evenlet** / **gavent**)\n",
    "- How websocket works : <br>\n",
    "![](resource/socket.png)\n",
    "<br><br>\n",
    "- Version compatibility : <br>\n",
    "![](resource/socket2.png)\n",
    "- Flask-SocketIO installed is version 5.0.1\n",
    "- Required javascript Socket.IO version is 3.x\n",
    "    - list of javascript Socket.IO : https://cdnjs.com/libraries/socket.io"
   ]
  },
  {
   "cell_type": "markdown",
   "metadata": {},
   "source": [
    "- Basic implementation : `1. Flask - SocketIO`\n",
    "- run `python ./1. Flask - SocketIO/app.py`\n"
   ]
  },
  {
   "cell_type": "code",
   "execution_count": null,
   "metadata": {},
   "outputs": [],
   "source": []
  }
 ],
 "metadata": {
  "kernelspec": {
   "display_name": "Python [conda env:CVDL]",
   "language": "python",
   "name": "conda-env-CVDL-py"
  },
  "language_info": {
   "codemirror_mode": {
    "name": "ipython",
    "version": 3
   },
   "file_extension": ".py",
   "mimetype": "text/x-python",
   "name": "python",
   "nbconvert_exporter": "python",
   "pygments_lexer": "ipython3",
   "version": "3.6.12"
  }
 },
 "nbformat": 4,
 "nbformat_minor": 4
}
