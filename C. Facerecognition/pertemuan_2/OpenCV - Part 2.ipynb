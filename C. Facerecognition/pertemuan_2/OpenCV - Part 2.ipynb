{
 "cells": [
  {
   "cell_type": "markdown",
   "metadata": {},
   "source": [
    "# OpenCV - Part 2\n",
    "\n",
    "- Image Crop \n",
    "- Image Resize \n",
    "- Image Blending "
   ]
  },
  {
   "cell_type": "code",
   "execution_count": null,
   "metadata": {},
   "outputs": [],
   "source": [
    "import cv2 "
   ]
  },
  {
   "cell_type": "markdown",
   "metadata": {},
   "source": [
    "## Image Crop"
   ]
  },
  {
   "cell_type": "markdown",
   "metadata": {},
   "source": [
    "- crop image pada OpenCV dilakukan dengan menggunakan *numpy slicing*\n",
    "- dengan notasi `image_array[y_min:y_max , x_min:x_max]`\n",
    "- dimana `y_min`, `y_max`, `x_min` dan `x_max` merupakan titik pixel batas area yang ingin di crop.\n",
    "\n",
    "<img src=\"resource/crop_img.png\" style=\"width: 400px;\"></img>"
   ]
  },
  {
   "cell_type": "code",
   "execution_count": null,
   "metadata": {},
   "outputs": [],
   "source": [
    "img = cv2.imread('lena.jpg')\n",
    "\n",
    "img.shape"
   ]
  },
  {
   "cell_type": "code",
   "execution_count": null,
   "metadata": {},
   "outputs": [],
   "source": [
    "# crop image[y_min:y_max , x_min:x_max]\n",
    "img_crop = img[0:250, 0:400] \n"
   ]
  },
  {
   "cell_type": "code",
   "execution_count": null,
   "metadata": {},
   "outputs": [],
   "source": [
    "# show image\n",
    "cv2.imshow('croped image',img_crop)\n",
    "cv2.imshow('original image',img)\n",
    "cv2.waitKey(0)\n",
    "cv2.destroyAllWindows()"
   ]
  },
  {
   "cell_type": "markdown",
   "metadata": {},
   "source": [
    "- crop dengan margin 50px"
   ]
  },
  {
   "cell_type": "code",
   "execution_count": null,
   "metadata": {},
   "outputs": [],
   "source": [
    "img_crop = img[50:-50, 50:-50] "
   ]
  },
  {
   "cell_type": "code",
   "execution_count": null,
   "metadata": {},
   "outputs": [],
   "source": [
    "# show image\n",
    "cv2.imshow('croped image',img_crop)\n",
    "cv2.imshow('original image',img)\n",
    "cv2.waitKey(0)\n",
    "cv2.destroyAllWindows()"
   ]
  },
  {
   "cell_type": "markdown",
   "metadata": {},
   "source": [
    "- Crop dengan margin 25%"
   ]
  },
  {
   "cell_type": "code",
   "execution_count": null,
   "metadata": {},
   "outputs": [],
   "source": [
    "h, w, c = img.shape\n",
    "\n",
    "x1 = int(w*0.20)\n",
    "x2 = int(w*0.70)\n",
    "y1 = int(h*0.20)\n",
    "y2 = int(h*0.70)\n",
    "\n",
    "img_crop = img[y1:y2, x1:x2] "
   ]
  },
  {
   "cell_type": "code",
   "execution_count": null,
   "metadata": {},
   "outputs": [],
   "source": [
    "# show image\n",
    "cv2.imshow('croped image',img_crop)\n",
    "cv2.imshow('original image',img)\n",
    "cv2.waitKey(0)\n",
    "cv2.destroyAllWindows()"
   ]
  },
  {
   "cell_type": "markdown",
   "metadata": {},
   "source": [
    "## Menggunakan Mouse Event Click pada OpenCV\n",
    "\n",
    "<img src=\"resource/crop_click.gif\" style=\"width:600px\"></img>\n",
    "- setup titik crop melalui mouse click "
   ]
  },
  {
   "cell_type": "code",
   "execution_count": null,
   "metadata": {},
   "outputs": [],
   "source": [
    "# review global variable\n",
    "x = 200\n",
    "\n",
    "def hitung(flag):\n",
    "    if flag == \"set\":\n",
    "        global x\n",
    "        x = 400\n",
    "    \n",
    "    if flag == \"print\":\n",
    "        print(x)\n",
    "    \n",
    "print(x)\n",
    "hitung(\"set\")\n",
    "hitung(\"print\")\n",
    "print(x)"
   ]
  },
  {
   "cell_type": "markdown",
   "metadata": {},
   "source": [
    "- untuk menggunakan event mouse click di OpenCV, diperkenalkan beberapa method sebagai berikut,\n",
    "    - `cv2.namedWindow` : set nama window tanpa memanggil `cv2.imshow` terlebih dahulu\n",
    "    - `cv2.setMouseCallback` : create mouse callback, ketika OpenCV mendeteksi ada envent click pada mouse, maka fungsi yang di set pada method ini akan di jalankan.\n",
    "    \n",
    "    \n",
    "    \n",
    "- mouse event parameter:\n",
    "    - `cv2.EVENT_RBUTTONDOWN`\n",
    "    - `cv2.EVENT_RBUTTONUP`\n",
    "    - `cv2.EVENT_LBUTTONDOWN`\n",
    "    - `cv2.EVENT_LBUTTONUP`\n",
    "    - `cv2.EVENT_MOUSEMOVE`\n",
    "    - etc."
   ]
  },
  {
   "cell_type": "code",
   "execution_count": null,
   "metadata": {},
   "outputs": [],
   "source": [
    "cv2.EVENT_RBUTTONUP"
   ]
  },
  {
   "cell_type": "markdown",
   "metadata": {},
   "source": [
    "- simple event click"
   ]
  },
  {
   "cell_type": "code",
   "execution_count": null,
   "metadata": {},
   "outputs": [],
   "source": [
    "windowName = \"Original Image\"\n",
    " \n",
    "def callback_function(event,x,y,flags,param):\n",
    "    print(\"\\revent : %d, x : %d, y : %d\" % (event, x, y), end='')\n",
    "\n",
    "cv2.namedWindow(windowName) \n",
    "cv2.setMouseCallback(windowName, callback_function) \n",
    "\n",
    "\n",
    "image = cv2.imread('lena.jpg')\n",
    "\n",
    "while True:\n",
    "    cv2.imshow(windowName, image)\n",
    "    if cv2.waitKey(1) == ord('q') :\n",
    "        break\n",
    "\n",
    "cv2.destroyAllWindows()\n"
   ]
  },
  {
   "cell_type": "markdown",
   "metadata": {},
   "source": [
    "- modifikasi program simple event click"
   ]
  },
  {
   "cell_type": "code",
   "execution_count": null,
   "metadata": {},
   "outputs": [],
   "source": [
    "windowName = \"Original Image\"\n",
    " \n",
    "def callback_function(event,x,y,flags,param):\n",
    "    \n",
    "    if event == cv2.EVENT_LBUTTONDOWN:\n",
    "        print(\"\\rleft button pressed  \", end='')\n",
    "    if event == cv2.EVENT_MOUSEMOVE:\n",
    "        print(\"\\rmouse moved          \", end='')\n",
    "    if event == cv2.EVENT_LBUTTONUP:\n",
    "        print(\"\\rleft button released \", end='')\n",
    "        \n",
    "cv2.namedWindow(windowName) \n",
    "cv2.setMouseCallback(windowName, callback_function) \n",
    "\n",
    "\n",
    "image = cv2.imread('lena.jpg')\n",
    "\n",
    "while True:\n",
    "    cv2.imshow(windowName, image)\n",
    "    if cv2.waitKey(1) == ord('q') :\n",
    "        break\n",
    "\n",
    "cv2.destroyAllWindows()\n"
   ]
  },
  {
   "cell_type": "markdown",
   "metadata": {},
   "source": [
    "- program crop image dengan mouse event click"
   ]
  },
  {
   "cell_type": "code",
   "execution_count": null,
   "metadata": {},
   "outputs": [],
   "source": [
    "x_start, y_start, x_end, y_end = 0, 0, 0, 0\n",
    "windowName = \"Original Image\"\n",
    " \n",
    "    \n",
    "def crop_image(event,x,y,flags,param):\n",
    "    \n",
    "    global x_start, y_start, x_end, y_end\n",
    "    \n",
    "    if event == cv2.EVENT_LBUTTONDOWN:\n",
    "        x_start, y_start, x_end, y_end = x, y, x, y\n",
    "\n",
    "    elif event == cv2.EVENT_MOUSEMOVE:\n",
    "        x_end, y_end = x, y\n",
    "\n",
    "    elif event == cv2.EVENT_LBUTTONUP:\n",
    "        croped_img = image[y_start:y_end, x_start:x_end]\n",
    "        cv2.imshow(\"Cropped Image\", croped_img)\n",
    "\n",
    "        \n",
    "cv2.namedWindow(windowName) \n",
    "cv2.setMouseCallback(windowName, crop_image) \n",
    "\n",
    "image = cv2.imread('lena.jpg')\n",
    "\n",
    "while True:\n",
    "    cv2.imshow(windowName, image)\n",
    "    if cv2.waitKey(1) == ord('q') :\n",
    "        break\n",
    "\n",
    "cv2.destroyAllWindows()\n"
   ]
  },
  {
   "cell_type": "markdown",
   "metadata": {},
   "source": [
    "### Task \n",
    "- modifikasi program diatas agar bisa save image saat ada event `cv2.EVENT_RBUTTONDOWN`\n",
    "\n",
    "```elif event == cv2.EVENT_RBUTTONDOWN:\n",
    "     # save image```"
   ]
  },
  {
   "cell_type": "code",
   "execution_count": null,
   "metadata": {},
   "outputs": [],
   "source": [
    "x_start, y_start, x_end, y_end = 0, 0, 0, 0\n",
    "windowName = \"Original Image\"\n",
    " \n",
    "    \n",
    "def crop_image(event,x,y,flags,param):\n",
    "    \n",
    "    global x_start, y_start, x_end, y_end\n",
    "    \n",
    "    if event == cv2.EVENT_LBUTTONDOWN:\n",
    "        x_start, y_start, x_end, y_end = x, y, x, y\n",
    "\n",
    "    elif event == cv2.EVENT_MOUSEMOVE:\n",
    "        x_end, y_end = x, y\n",
    "\n",
    "    elif event == cv2.EVENT_LBUTTONUP:\n",
    "        croped_img = image[y_start:y_end, x_start:x_end]\n",
    "        cv2.imshow(\"Cropped Image\", croped_img)\n",
    "    \n",
    "    elif event == cv2.EVENT_RBUTTONDOWN:\n",
    "        croped_img = image[y_start:y_end, x_start:x_end]\n",
    "        cv2.imwrite(\"croped_image.png\", croped_img)\n",
    "        print(\"image saved successfully!\")\n",
    "\n",
    "cv2.namedWindow(windowName) \n",
    "cv2.setMouseCallback(windowName, crop_image) \n",
    "\n",
    "image = cv2.imread('lena.jpg')\n",
    "\n",
    "while True:\n",
    "    cv2.imshow(windowName, image)\n",
    "    if cv2.waitKey(1) == ord('q') :\n",
    "        break\n",
    "\n",
    "cv2.destroyAllWindows()\n"
   ]
  },
  {
   "cell_type": "markdown",
   "metadata": {},
   "source": [
    "___\n",
    "___"
   ]
  },
  {
   "cell_type": "markdown",
   "metadata": {},
   "source": [
    "## Image Resize"
   ]
  },
  {
   "cell_type": "markdown",
   "metadata": {},
   "source": [
    "- untuk melakukan resize image pada OpenCV diprkenalkan beberapa method berikut :\n",
    "    - `cv2.resize(img, (w_new, h_new))` : resize `img` ke ukuran `w_new` x `h_new`"
   ]
  },
  {
   "cell_type": "code",
   "execution_count": null,
   "metadata": {},
   "outputs": [],
   "source": [
    "img = cv2.imread('lena.jpg')\n",
    "\n",
    "# resize image (new_widht, new_height)\n",
    "img_resize = cv2.resize(img, (320, 240))  \n",
    "\n",
    "# show image \n",
    "cv2.imshow('Original Image', img)\n",
    "cv2.imshow('Resized Image', img_resize)\n",
    "cv2.waitKey(0)\n",
    "cv2.destroyAllWindows()"
   ]
  },
  {
   "cell_type": "markdown",
   "metadata": {},
   "source": [
    "- resize dengan menggunakan rasio ukuran original (**hitung manual**)"
   ]
  },
  {
   "cell_type": "code",
   "execution_count": null,
   "metadata": {},
   "outputs": [],
   "source": [
    "ratio = float(input(\"masukan rasio resize [0 - 1.0] : \"))\n",
    "\n",
    "img = cv2.imread('lena.jpg')\n",
    "h, w, c = img.shape\n",
    "\n",
    "width = int(w * ratio)\n",
    "height = int(h * ratio)\n",
    "\n",
    "# resize image (new_widht, new_height)\n",
    "img_resize = cv2.resize(img, (width, height))  \n",
    "\n",
    "# show image \n",
    "cv2.imshow('Original Image', img)\n",
    "cv2.imshow('Resized Image', img_resize)\n",
    "cv2.waitKey(0)\n",
    "cv2.destroyAllWindows()"
   ]
  },
  {
   "cell_type": "markdown",
   "metadata": {},
   "source": [
    "- resize dengan menggunakan rasio ukuran original (`fx`, `fy`)"
   ]
  },
  {
   "cell_type": "code",
   "execution_count": null,
   "metadata": {},
   "outputs": [],
   "source": [
    "ratio = float(input(\"masukan rasio resize [0 - 1.0] : \"))\n",
    "\n",
    "img = cv2.imread('lena.jpg')\n",
    "\n",
    "# resize image (new_widht, new_height)\n",
    "img_resize = cv2.resize(img, (0,0), fx=ratio, fy=ratio)  \n",
    "\n",
    "# show image \n",
    "cv2.imshow('Original Image', img)\n",
    "cv2.imshow('Resized Image', img_resize)\n",
    "cv2.waitKey(0)\n",
    "cv2.destroyAllWindows()"
   ]
  },
  {
   "cell_type": "markdown",
   "metadata": {},
   "source": [
    "- resize with **interpolation**\n",
    "- Interpolation parameter :\n",
    "    - `cv2.INTER_NEAREST` : This is using a nearest-neighbor interpolation to shrink an image.\n",
    "    - `cv2.INTER_LINEAR` : This is primarily used when larging is required (default).\n",
    "    - `cv2.INTER_AREA` : This is used when we need need to shrink an image.\n",
    "    - `cv2.INTER_CUBIC` : This is slow for larging image, but more efficient (higer quality)."
   ]
  },
  {
   "cell_type": "code",
   "execution_count": null,
   "metadata": {},
   "outputs": [],
   "source": [
    "# ---------- shringking -------\n",
    "img = cv2.imread('apple.jpg')\n",
    "\n",
    "# resize image (new_widht, new_height)\n",
    "img_resize = cv2.resize(img, (0,0), fx=0.5, fy=0.5) \n",
    "img_resize_INTER_NEAREST = cv2.resize(img, (0,0), fx=0.5, fy=0.5, interpolation=cv2.INTER_NEAREST) \n",
    "\n",
    "# show image \n",
    "cv2.imshow('Original Image', img)\n",
    "cv2.imshow('INTER_LINEAR Resized Image', img_resize)\n",
    "cv2.imshow('INTER_NEAREST Resized Image', img_resize_INTER_NEAREST)\n",
    "cv2.waitKey(0)\n",
    "cv2.destroyAllWindows()"
   ]
  },
  {
   "cell_type": "code",
   "execution_count": null,
   "metadata": {},
   "outputs": [],
   "source": [
    "# ---------- larging -------\n",
    "img = cv2.imread('logo-python.png')\n",
    "\n",
    "# resize image (new_widht, new_height)\n",
    "img_resize = cv2.resize(img, (0,0), fx=2.5, fy=2.5) \n",
    "img_resize_INTER_CUBIC = cv2.resize(img, (0,0), fx=2.5, fy=2.5, interpolation=cv2.INTER_CUBIC) \n",
    "img_resize_INTER_NEAREST = cv2.resize(img, (0,0), fx=2.5, fy=2.5, interpolation=cv2.INTER_NEAREST) \n",
    "img_resize_INTER_AREA = cv2.resize(img, (0,0), fx=2.5, fy=2.5, interpolation=cv2.INTER_AREA) \n",
    "\n",
    "# show image \n",
    "cv2.imshow('Original Image', img)\n",
    "cv2.imshow('INTER_LINEAR Resized Image', img_resize)\n",
    "cv2.imshow('INTER_CUBIC Resized Image', img_resize_INTER_CUBIC)\n",
    "cv2.imshow('INTER_NEAREST Resized Image', img_resize_INTER_NEAREST)\n",
    "cv2.imshow('INTER_AREA Resized Image', img_resize_INTER_AREA)\n",
    "cv2.waitKey(0)\n",
    "cv2.destroyAllWindows()"
   ]
  },
  {
   "cell_type": "markdown",
   "metadata": {},
   "source": [
    "- Resize in window using mouse event click lanjutan <br>\n",
    "\n",
    "<img src=\"resource/resize_click.gif\" style=\"width:400px\"></img>"
   ]
  },
  {
   "cell_type": "code",
   "execution_count": null,
   "metadata": {},
   "outputs": [],
   "source": [
    "import numpy as np\n",
    "\n",
    "windowName = \"Original Image\"\n",
    "is_resize = False\n",
    "\n",
    "image = cv2.imread('lena.jpg')\n",
    "h, w, c = image.shape\n",
    "y_end, x_end = h, w\n",
    "\n",
    "background = np.zeros_like(image)\n",
    "\n",
    "def resize_image(event,x,y,flags,param):\n",
    "    \n",
    "    global x_end, y_end, is_resize\n",
    "    \n",
    "    if event == cv2.EVENT_LBUTTONDOWN:\n",
    "        x_end, y_end = x, y\n",
    "        is_resize = True\n",
    "\n",
    "    elif event == cv2.EVENT_MOUSEMOVE and is_resize:\n",
    "        x_end, y_end = x, y\n",
    "        x_end = x_end if x_end < w else w\n",
    "        y_end = y_end if y_end < h else h\n",
    "\n",
    "    elif event == cv2.EVENT_LBUTTONUP:\n",
    "        is_resize = False\n",
    "        \n",
    "cv2.namedWindow(windowName)\n",
    "cv2.setMouseCallback(windowName, resize_image)\n",
    "\n",
    "while True:\n",
    "    template = background.copy()\n",
    "\n",
    "    template[:y_end, :x_end] = cv2.resize(image, (x_end, y_end))\n",
    "\n",
    "    cv2.imshow(windowName, template)\n",
    "    if cv2.waitKey(1) == ord('q') :\n",
    "        break\n",
    "\n",
    "cv2.destroyAllWindows()\n"
   ]
  },
  {
   "cell_type": "markdown",
   "metadata": {},
   "source": [
    "___"
   ]
  },
  {
   "cell_type": "markdown",
   "metadata": {},
   "source": [
    "### Image Blending\n",
    "\n",
    "Image blending diformulasikan sebagai, \\\n",
    "$g(x)=(1−α)f0(x)+αf1(x)$ \\\n",
    "\\\n",
    "$f0$ merupakan gambar pertama, $f1$ merupakan gambar kedua, \\\n",
    "dan $α$ merupakan parameter *temporal cross-dissolve* antara kedua gambar, dimana α  bernilai 0→1.\n",
    "\n",
    "- method yang akan digunakan untuk melakukan image blending adalah `cv2.addWeighted(img1, alpha, img2, beta, gamma)`\n",
    "- dimana `beta = 1 - alpha`\n",
    "- dan `gamma` adalah konstanta untuk menambah atau mengurangi nilai pixel akhir hasil blending (0 - 255).\n",
    "- set `gamma` ke `0.0` untuk default."
   ]
  },
  {
   "cell_type": "code",
   "execution_count": null,
   "metadata": {},
   "outputs": [],
   "source": [
    "alpha = 0.2\n",
    "\n",
    "img1 = cv2.imread('lena.jpg')\n",
    "img2 = cv2.imread('apple.jpg')\n",
    "    \n",
    "beta = (1.0 - alpha)\n",
    "blending_img = cv2.addWeighted(img1, alpha, img2, beta, 0.0)\n",
    "\n",
    "cv2.imshow('Blending Result', blending_img)\n",
    "cv2.waitKey(0)\n",
    "cv2.destroyAllWindows()"
   ]
  },
  {
   "cell_type": "code",
   "execution_count": null,
   "metadata": {},
   "outputs": [],
   "source": []
  },
  {
   "cell_type": "markdown",
   "metadata": {},
   "source": [
    "- blend image with **different size**, using `cv2.resize()` -> **strech**"
   ]
  },
  {
   "cell_type": "code",
   "execution_count": null,
   "metadata": {},
   "outputs": [],
   "source": [
    "alpha = 0.5\n",
    "\n",
    "img1 = cv2.imread('apple.jpg')\n",
    "h, w, c = img1.shape\n",
    "\n",
    "img2 = cv2.imread('pisang.jpg')\n",
    "img2 = cv2.resize(img2, (w, h))\n",
    "\n",
    "beta = (1.0 - alpha)\n",
    "blending_img = cv2.addWeighted(img1, alpha, img2, beta, 0.0)\n",
    "\n",
    "cv2.imshow('Blending Result', blending_img)\n",
    "cv2.waitKey(0)\n",
    "cv2.destroyAllWindows()"
   ]
  },
  {
   "cell_type": "markdown",
   "metadata": {},
   "source": [
    "- blend image with **different size**, using `cv2.resize()` -> **fit window**\n",
    "\n",
    "<img src=\"resource/blend_diffsize.png\" style=\"width:800px;\"></img>"
   ]
  },
  {
   "cell_type": "code",
   "execution_count": null,
   "metadata": {},
   "outputs": [],
   "source": [
    "alpha = 0.3\n",
    "\n",
    "img1 = cv2.imread('apple.jpg')\n",
    "h1, w1, c1 = img1.shape\n",
    "\n",
    "img2 = cv2.imread('pisang.jpg')\n",
    "h2, w2, c2 = img2.shape\n",
    "\n",
    "frame_img = np.ones_like(img1)*255\n",
    "\n",
    "if h2 > w2 :\n",
    "    h = h1\n",
    "    w = int(w2*h1/h2)\n",
    "else :\n",
    "    w = w1\n",
    "    h = int(h2*w1/w2)\n",
    "    \n",
    "frame_img[0:h,0:w] = cv2.resize(img2, (w, h))\n",
    "\n",
    "beta = (1.0 - alpha)\n",
    "blending_img = cv2.addWeighted(img1, alpha, frame_img, beta, 0.0)\n",
    "\n",
    "cv2.imshow('Blending Result', blending_img)\n",
    "cv2.waitKey(0)\n",
    "cv2.destroyAllWindows()"
   ]
  },
  {
   "cell_type": "markdown",
   "metadata": {},
   "source": [
    "#### Overlay Transparent Image \n",
    "\n",
    "- Contoh penerapan overlay transparent "
   ]
  },
  {
   "cell_type": "markdown",
   "metadata": {},
   "source": [
    "<img src=\"resource/draw opencv.jpg\" style=\"width:500px\"></img>"
   ]
  },
  {
   "cell_type": "code",
   "execution_count": null,
   "metadata": {},
   "outputs": [],
   "source": [
    "alpha = 0.5\n",
    "\n",
    "img = cv2.imread('lena.jpg')\n",
    "\n",
    "overlay = np.zeros_like(img)\n",
    "overlay[10:300, 10:50, 1] = 255\n",
    "\n",
    "img_blend = cv2.addWeighted(img, 1, overlay, alpha, 0.0)\n",
    "\n",
    "\n",
    "cv2.imshow(\"Overlay Image\", img_blend)\n",
    "cv2.waitKey(0)\n",
    "cv2.destroyAllWindows()"
   ]
  },
  {
   "cell_type": "markdown",
   "metadata": {},
   "source": [
    "- Overlay two object"
   ]
  },
  {
   "cell_type": "code",
   "execution_count": null,
   "metadata": {},
   "outputs": [],
   "source": [
    "alpha = 0.5\n",
    "\n",
    "img = cv2.imread('lena.jpg')\n",
    "\n",
    "overlay = np.zeros_like(img)\n",
    "\n",
    "overlay_blue = overlay.copy()\n",
    "overlay_blue[10:300, 10:50, 0] = 255\n",
    "img_blend = cv2.addWeighted(img, 1, overlay_blue, alpha, 0.0)\n",
    "\n",
    "overlay_red = overlay.copy()\n",
    "overlay_red[10:100, 70:200, 2] = 255\n",
    "img_blend = cv2.addWeighted(img_blend, 1, overlay_red, alpha, 0.0)\n",
    "\n",
    "cv2.imshow(\"Overlay Image\", img_blend)\n",
    "cv2.waitKey(0)\n",
    "cv2.destroyAllWindows()"
   ]
  },
  {
   "cell_type": "markdown",
   "metadata": {},
   "source": [
    "### Homework\n",
    "\n",
    "- Menggunakan Mouse event click buat overlay `'biru'` pada gambar `'lena.jpg'`\n",
    "\n",
    "<img src=\"resource/blending_click.gif\" style=\"width:400px\"></img>"
   ]
  },
  {
   "cell_type": "markdown",
   "metadata": {},
   "source": [
    "___"
   ]
  },
  {
   "cell_type": "code",
   "execution_count": null,
   "metadata": {},
   "outputs": [],
   "source": [
    "import numpy as np\n",
    "\n",
    "windowName = \"Blending Image\"\n",
    "is_resize = False\n",
    "\n",
    "image = cv2.imread('lena.jpg')\n",
    "h, w, c = image.shape\n",
    "x_start, y_start, y_end, x_end = 0, 0, 0, 0\n",
    "\n",
    "background = np.zeros_like(image)\n",
    "\n",
    "def resize_image(event,x,y,flags,param):\n",
    "    \n",
    "    global x_start, y_start, y_end, x_end, is_resize\n",
    "    \n",
    "    if event == cv2.EVENT_LBUTTONDOWN:\n",
    "        x_start, y_start, x_end, y_end = x, y, x, y\n",
    "        is_resize = True\n",
    "\n",
    "    elif event == cv2.EVENT_MOUSEMOVE and is_resize:\n",
    "        x_end, y_end = x, y\n",
    "        x_end = x_end if x_end < w else w\n",
    "        y_end = y_end if y_end < h else h\n",
    "\n",
    "    elif event == cv2.EVENT_LBUTTONUP:\n",
    "        is_resize = False\n",
    "        \n",
    "cv2.namedWindow(windowName)\n",
    "cv2.setMouseCallback(windowName, resize_image)\n",
    "\n",
    "while True:\n",
    "    overlay_blue = background.copy()\n",
    "\n",
    "    # ---------- lengkapi ----------------\n",
    "    #\n",
    "    # apply color blue (0) from y_start -> y_end, x_start -> x_end for matrix `overlay_blue`\n",
    "    # apply cv2.addWeighted for img and overlay_blue\n",
    "    #\n",
    "    #\n",
    "    \n",
    "    cv2.imshow(windowName, img_blend)\n",
    "    if cv2.waitKey(1) == ord('q') :\n",
    "        break\n",
    "\n",
    "cv2.destroyAllWindows()\n"
   ]
  },
  {
   "cell_type": "code",
   "execution_count": null,
   "metadata": {},
   "outputs": [],
   "source": []
  }
 ],
 "metadata": {
  "kernelspec": {
   "display_name": "Python [conda env:opencv_env]",
   "language": "python",
   "name": "conda-env-opencv_env-py"
  },
  "language_info": {
   "codemirror_mode": {
    "name": "ipython",
    "version": 3
   },
   "file_extension": ".py",
   "mimetype": "text/x-python",
   "name": "python",
   "nbconvert_exporter": "python",
   "pygments_lexer": "ipython3",
   "version": "3.8.6"
  }
 },
 "nbformat": 4,
 "nbformat_minor": 4
}
