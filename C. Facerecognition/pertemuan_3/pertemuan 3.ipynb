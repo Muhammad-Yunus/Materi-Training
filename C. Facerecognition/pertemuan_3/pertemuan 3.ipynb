{
 "cells": [
  {
   "cell_type": "markdown",
   "metadata": {},
   "source": [
    "# Pertemuan 3"
   ]
  },
  {
   "cell_type": "code",
   "execution_count": null,
   "metadata": {},
   "outputs": [],
   "source": [
    "import cv2\n",
    "import numpy as np"
   ]
  },
  {
   "cell_type": "markdown",
   "metadata": {},
   "source": [
    "## 1. Image Color Conversion\n",
    "\n",
    "- Diperkenalkan method `cv2.cvtColor()` untuk color conversion pada OpenCV\n",
    "\n",
    "- Berikut adalah parameter convert color yang dapat digunakan :\n",
    "    - convert BGR <--> RGB \\\n",
    "    `cv2.COLOR_BGR2RGB` \\\n",
    "    `cv2.COLOR_RGB2BGR`\n",
    "\n",
    "    - convert BGR <--> HSV \\\n",
    "    `cv2.COLOR_BGR2HSV` \\\n",
    "    `cv2.COLOR_HSV2RGB`\n",
    "\n",
    "    - convert BGR <--> BGRA \\\n",
    "    `cv2.COLOR_BGR2BGRA` \\\n",
    "    `cv2.COLOR_BGRA2BGR`\n",
    "\n",
    "    - convert RGB <--> RGBA \\\n",
    "    `cv2.COLOR_RGB2BGRA` \\\n",
    "    `cv2.COLOR_RGBA2BGR`\n",
    "\n",
    "    - convert BGR <--> GRAY \\\n",
    "    `cv2.COLOR_BGR2GRAY` \\\n",
    "    `cv2.COLOR_GRAY2RGB`"
   ]
  },
  {
   "cell_type": "markdown",
   "metadata": {},
   "source": [
    "#### 1.1 Convert Image"
   ]
  },
  {
   "cell_type": "code",
   "execution_count": null,
   "metadata": {},
   "outputs": [],
   "source": [
    "# convert BGR to Gray\n",
    "img = cv2.imread(\"lena.jpg\")\n",
    "\n",
    "img_gray = cv2.cvtColor(img, cv2.COLOR_BGR2GRAY)\n",
    "\n",
    "cv2.imshow('Original Image', img)\n",
    "cv2.imshow('Grayscale Image', img_gray)\n",
    "cv2.waitKey(0)\n",
    "cv2.destroyAllWindows()"
   ]
  },
  {
   "cell_type": "code",
   "execution_count": null,
   "metadata": {},
   "outputs": [],
   "source": [
    "# convert BGR to RGB\n",
    "img = cv2.imread(\"lena.jpg\")\n",
    "\n",
    "img_rgb = cv2.cvtColor(img, cv2.COLOR_BGR2RGB)\n",
    "\n",
    "cv2.imshow('Original Image', img)\n",
    "cv2.imshow('RGB Image', img_rgb)\n",
    "cv2.waitKey(0)\n",
    "cv2.destroyAllWindows()"
   ]
  },
  {
   "cell_type": "code",
   "execution_count": null,
   "metadata": {},
   "outputs": [],
   "source": [
    "# convert BGR to BGRA\n",
    "img = cv2.imread(\"lena.jpg\")\n",
    "\n",
    "img_bgra = cv2.cvtColor(img, cv2.COLOR_BGR2BGRA)\n",
    "\n",
    "cv2.imshow('Original Image', img)\n",
    "cv2.imshow('BGRA Image', img_bgra)\n",
    "cv2.waitKey(0)\n",
    "cv2.destroyAllWindows()"
   ]
  },
  {
   "cell_type": "code",
   "execution_count": null,
   "metadata": {},
   "outputs": [],
   "source": [
    "img.shape"
   ]
  },
  {
   "cell_type": "code",
   "execution_count": null,
   "metadata": {},
   "outputs": [],
   "source": [
    "img_bgra.shape"
   ]
  },
  {
   "cell_type": "code",
   "execution_count": null,
   "metadata": {},
   "outputs": [],
   "source": [
    "img_bgra[0, 0] # B, G, R, A"
   ]
  },
  {
   "cell_type": "markdown",
   "metadata": {},
   "source": [
    "- `A` pada `BGRA` merupakan transparency level (0 - 255)"
   ]
  },
  {
   "cell_type": "code",
   "execution_count": null,
   "metadata": {},
   "outputs": [],
   "source": [
    "# set layer `A` menjadi 127 ( transparency 50%) 127 ~ 1/2 (255)\n",
    "img_bgra[:,:, 3] = 127"
   ]
  },
  {
   "cell_type": "code",
   "execution_count": null,
   "metadata": {},
   "outputs": [],
   "source": [
    "img_bgra[0, 0] # B, G, R, A"
   ]
  },
  {
   "cell_type": "code",
   "execution_count": null,
   "metadata": {},
   "outputs": [],
   "source": [
    "cv2.imshow('BGRA Image Edit', img_bgra)\n",
    "cv2.imshow('Original Image', img)\n",
    "cv2.waitKey(0)\n",
    "cv2.destroyAllWindows()"
   ]
  },
  {
   "cell_type": "markdown",
   "metadata": {},
   "source": [
    "- Saat di preview tidak terlihat perbedaanya,\n",
    "- Save untuk melihat hasil tranparency\n",
    "- Hanya bisa dilihat hasil tranparency nya dalam format (.png)"
   ]
  },
  {
   "cell_type": "code",
   "execution_count": null,
   "metadata": {},
   "outputs": [],
   "source": [
    "cv2.imwrite(\"logo-python-transparency.png\", img_bgra)"
   ]
  },
  {
   "cell_type": "code",
   "execution_count": null,
   "metadata": {},
   "outputs": [],
   "source": [
    "cv2.imwrite(\"logo-python-transparency.jpg\", img_bgra)"
   ]
  },
  {
   "cell_type": "code",
   "execution_count": null,
   "metadata": {},
   "outputs": [],
   "source": []
  },
  {
   "cell_type": "markdown",
   "metadata": {},
   "source": [
    "#### 1.2 Convert Video"
   ]
  },
  {
   "cell_type": "code",
   "execution_count": null,
   "metadata": {},
   "outputs": [],
   "source": [
    "cap = cv2.VideoCapture('video.mp4')\n",
    "\n",
    "while cap.isOpened():\n",
    "    ret, frame = cap.read()\n",
    "    \n",
    "    if ret:\n",
    "        gray = cv2.cvtColor(frame, cv2.COLOR_BGR2GRAY)\n",
    "        \n",
    "        cv2.imshow('grayscale video', gray)\n",
    "        \n",
    "        if cv2.waitKey(25) == ord('q'):\n",
    "            break\n",
    "    else :\n",
    "        break\n",
    "cv2.destroyAllWindows()"
   ]
  },
  {
   "cell_type": "markdown",
   "metadata": {},
   "source": [
    "- result  :\n",
    "\n",
    "<img src=\"resource/video-grayscale.png\" style=\"width:700\"></img>"
   ]
  },
  {
   "cell_type": "markdown",
   "metadata": {},
   "source": [
    "___"
   ]
  },
  {
   "cell_type": "markdown",
   "metadata": {},
   "source": [
    "## 2. Drawing Tool\n",
    "\n",
    "- Draw a **line** by using the OpenCV function `cv2.line()`\n",
    "- Draw an **ellipse** by using the OpenCV function `cv2.ellipse()`\n",
    "- Draw a **rectangle** by using the OpenCV function `cv2.rectangle()`\n",
    "- Draw a **circle** by using the OpenCV function `cv2.circle()`\n",
    "- Draw a **filled polygon** by using the OpenCV function `cv2.fillPoly()`\n",
    "- Write a **text** by using the OpenCV function `cv2.putText()`"
   ]
  },
  {
   "cell_type": "markdown",
   "metadata": {},
   "source": [
    "#### 2.1 Draw Line (`cv2.line()`)\n",
    "\n",
    "- Menggunakan method `cv2.line(img, (x0,y0), (xt,yt), (B, G, R), thickness, line_type)` \n",
    "- untuk :\n",
    "    - `img` : input image\n",
    "    - `(x0, y0)` : start point (tuple)\n",
    "    - `(xt, yt)` : end point (tuple)\n",
    "    - `(B, G, R)` : line color (tuple)\n",
    "    - `thickness` : line thickness \n",
    "    - `line_type` :\n",
    "        - `cv2.FILLED` : filled line\n",
    "        - `cv2.LINE_4` : 4-connected line\n",
    "        - `cv2.LINE_8` : 8-connected line\n",
    "        - `cv2.LINE_AA` : antialiased line\n",
    "        \n",
    "<img src=\"resource/draw-line.png\" style=\"width:700\"></img>"
   ]
  },
  {
   "cell_type": "markdown",
   "metadata": {},
   "source": [
    "- Simple draw line"
   ]
  },
  {
   "cell_type": "code",
   "execution_count": null,
   "metadata": {},
   "outputs": [],
   "source": [
    "background = np.zeros((400, 400, 3)).astype(np.uint8)\n",
    "\n",
    "#  horizontal line (red), y0 = yt\n",
    "cv2.line(background,  # input image matrix\n",
    "         (100, 350),  # (x1, y1)\n",
    "         (300, 350),  # (x2, y2)    \n",
    "         (50,0,255),  # (B, G, R)   \n",
    "         3)           # thickness \n",
    "\n",
    "cv2.imshow(\"Draw Line\", background)\n",
    "cv2.waitKey(0)\n",
    "cv2.destroyAllWindows()"
   ]
  },
  {
   "cell_type": "markdown",
   "metadata": {},
   "source": [
    "- Draw multiple line"
   ]
  },
  {
   "cell_type": "code",
   "execution_count": null,
   "metadata": {},
   "outputs": [],
   "source": [
    "background = np.zeros((400, 400, 3)).astype(np.uint8)\n",
    "\n",
    "#  horizontal line (red), y0 = yt\n",
    "cv2.line(background,\n",
    "         (100, 350),                \n",
    "         (300, 350),               \n",
    "         (50,0,255),              \n",
    "         3,\n",
    "         cv2.FILLED)                      \n",
    "\n",
    "# vertical line (green), x0 = xt\n",
    "cv2.line(background,\n",
    "         (50, 100),                \n",
    "         (50, 300),              \n",
    "         (25,255,0),               \n",
    "         20,\n",
    "         cv2.LINE_8)  \n",
    "\n",
    "# garis miring (pink)\n",
    "cv2.line(background,\n",
    "         (250, 300),                   \n",
    "         (230 ,100),              \n",
    "         (255,0,255),             \n",
    "         5,\n",
    "         cv2.LINE_4)  \n",
    "\n",
    "# garis miring (tosca)\n",
    "cv2.line(background,\n",
    "         (300, 300),                \n",
    "         (280, 100),              \n",
    "         (100,127,0),               \n",
    "         5,\n",
    "         cv2.LINE_AA) \n",
    "\n",
    "cv2.imshow(\"Draw Line\", background)\n",
    "cv2.waitKey(0)\n",
    "cv2.destroyAllWindows()"
   ]
  },
  {
   "cell_type": "markdown",
   "metadata": {},
   "source": [
    "#### 2.2 Draw Rectangle (`cv2.rectangle()`)\n",
    "\n",
    "\n",
    "- Menggunakan method `cv2.rectangle(img, (x0,y0), (xt,yt), (B, G, R), thickness, line_type)` \n",
    "- untuk :\n",
    "    - `img` : input image\n",
    "    - `(x0, y0)` : top-left-corner rectangle point (tuple)\n",
    "    - `(xt, yt)` : bottom-right-corner rectangle point (tuple)\n",
    "    - `(B, G, R)` : rectangle color (tuple)\n",
    "    - `thickness` : rectangle thickness (if negative, color will be user as fillcolor)\n",
    "    - `line_type` :\n",
    "        - `cv2.FILLED` : filled line\n",
    "        - `cv2.LINE_4` : 4-connected line\n",
    "        - `cv2.LINE_8` : 8-connected line\n",
    "        - `cv2.LINE_AA` : antialiased line\n",
    "        \n",
    "<img src=\"resource/draw-box.png\" style=\"width:700\"></img>"
   ]
  },
  {
   "cell_type": "markdown",
   "metadata": {},
   "source": [
    "- draw rectangle"
   ]
  },
  {
   "cell_type": "code",
   "execution_count": null,
   "metadata": {},
   "outputs": [],
   "source": [
    "background = np.zeros((400, 400, 3)).astype(np.uint8)\n",
    "\n",
    "cv2.rectangle(background, # input image\n",
    "              (15,25),    # (x1, y1)\n",
    "              (200,150),  # (x2, y2)\n",
    "              (0,0,255),  # (B, G, R)\n",
    "              5)          # thickness\n",
    "\n",
    "cv2.imshow(\"Draw Rectangle\", background)\n",
    "\n",
    "cv2.waitKey(0)\n",
    "cv2.destroyAllWindows()"
   ]
  },
  {
   "cell_type": "markdown",
   "metadata": {},
   "source": [
    "- draw filled rectangle"
   ]
  },
  {
   "cell_type": "code",
   "execution_count": null,
   "metadata": {},
   "outputs": [],
   "source": [
    "background = np.zeros((400, 400, 3)).astype(np.uint8)\n",
    "\n",
    "# outline color\n",
    "cv2.rectangle(background,\n",
    "              (15,25),    \n",
    "              (200,150),  \n",
    "              (0,0,255), \n",
    "              5)          \n",
    "\n",
    "# fill color\n",
    "cv2.rectangle(background,\n",
    "              (210,50),   \n",
    "              (270,270),  \n",
    "              (0,200,255),\n",
    "              -1,\n",
    "               cv2.LINE_AA)           \n",
    "\n",
    "cv2.imshow(\"Draw Rectangle\", background)\n",
    "\n",
    "cv2.waitKey(0)\n",
    "cv2.destroyAllWindows()"
   ]
  },
  {
   "cell_type": "markdown",
   "metadata": {},
   "source": [
    "#### 2.3 Draw Circle (`cv2.circle()`)\n",
    "\n",
    "\n",
    "- Menggunakan method `cv2.circle(img, (x,y), radius, (B, G, R), thickness, line_type)` \n",
    "- untuk :\n",
    "    - `img` : input image\n",
    "    - `(x, y)` : circle center point (tuple)\n",
    "    - `radius` : circle radius (in pixel)\n",
    "    - `(B, G, R)` : circle color (tuple)\n",
    "    - `thickness` : circle thickness  (if negative, color will be user as fillcolor)\n",
    "    - `line_type` :\n",
    "        - `cv2.FILLED` : filled line\n",
    "        - `cv2.LINE_4` : 4-connected line\n",
    "        - `cv2.LINE_8` : 8-connected line\n",
    "        - `cv2.LINE_AA` : antialiased line\n",
    "        \n",
    "<img src=\"resource/draw-circel.png\" style=\"width:700\"></img>"
   ]
  },
  {
   "cell_type": "markdown",
   "metadata": {},
   "source": [
    "- draw circle"
   ]
  },
  {
   "cell_type": "code",
   "execution_count": null,
   "metadata": {},
   "outputs": [],
   "source": [
    "img = cv2.imread(\"lena.jpg\")\n",
    "\n",
    "# circle outline\n",
    "cv2.circle(img,          # image matrix\n",
    "           (65, 65),     # (x, y)\n",
    "           55,           # radius\n",
    "           (0,255,150),  # (B, G, R)\n",
    "           2)            # thickness                \n",
    "     \n",
    "    \n",
    "cv2.imshow(\"Draw Circle\", img)\n",
    "\n",
    "cv2.waitKey(0)\n",
    "cv2.destroyAllWindows()"
   ]
  },
  {
   "cell_type": "markdown",
   "metadata": {},
   "source": [
    "- draw filled circle"
   ]
  },
  {
   "cell_type": "code",
   "execution_count": null,
   "metadata": {},
   "outputs": [],
   "source": [
    "img = cv2.imread(\"lena.jpg\")\n",
    "\n",
    "# circle outline\n",
    "cv2.circle(img,\n",
    "           (65, 65),         \n",
    "           55,               \n",
    "           (0,255,150),      \n",
    "           2,\n",
    "           cv2.LINE_AA)                \n",
    "\n",
    "# circle fill\n",
    "cv2.circle(img,\n",
    "           (65, 250),         \n",
    "           55,                \n",
    "           (0,50,250),       \n",
    "           -1,\n",
    "           cv2.LINE_AA)                \n",
    "                             \n",
    "    \n",
    "cv2.imshow(\"Draw Circle\", img)\n",
    "\n",
    "cv2.waitKey(0)\n",
    "cv2.destroyAllWindows()"
   ]
  },
  {
   "cell_type": "markdown",
   "metadata": {},
   "source": [
    "#### 2.4 Write Text (`cv2.putText()`)\n",
    "\n",
    "\n",
    "- Menggunakan method `cv2.putText(img, text, (x,y), font_type, font_scale, (B, G, R), thickness, line_type)` \n",
    "- untuk :\n",
    "    - `img` : input image\n",
    "    - `text` : string to write in image \n",
    "    - `(x, y)` : start-left position of text (tuple)\n",
    "    - `font_type` : \n",
    "        - `cv2.FONT_HERSHEY_SIMPLEX` : size sans-serif font\n",
    "        - `cv2.FONT_HERSHEY_PLAIN` : small size sans-serif font\n",
    "        - `cv2.FONT_HERSHEY_DUPLEX` : normal size sans-serif font (more complex than FONT_HERSHEY_SIMPLEX)\n",
    "        - `cv2.FONT_HERSHEY_COMPLEX` : normal size serif font\n",
    "        - `cv2.FONT_HERSHEY_TRIPLEX` : normal size serif font (more complex than FONT_HERSHEY_COMPLEX)\n",
    "        - `cv2.FONT_HERSHEY_COMPLEX_SMALL` : smaller version of FONT_HERSHEY_COMPLEX\n",
    "        - `cv2.FONT_HERSHEY_SCRIPT_SIMPLEX` : hand-writing style font\n",
    "        - `cv2.FONT_HERSHEY_SCRIPT_COMPLEX` : more complex variant of FONT_HERSHEY_SCRIPT_SIMPLEX\n",
    "        - `cv2.FONT_ITALIC` : flag for italic font\n",
    "    - `(B, G, R)` : circle color (tuple)\n",
    "    - `thickness` : circle thickness  (if negative, color will be user as fillcolor)\n",
    "    - `line_type` :\n",
    "        - `cv2.FILLED` : filled line\n",
    "        - `cv2.LINE_4` : 4-connected line\n",
    "        - `cv2.LINE_8` : 8-connected line\n",
    "        - `cv2.LINE_AA` : antialiased line\n",
    "        \n",
    "<img src=\"resource/draw-text.png\" style=\"width:700\"></img>"
   ]
  },
  {
   "cell_type": "markdown",
   "metadata": {},
   "source": [
    "- draw text"
   ]
  },
  {
   "cell_type": "code",
   "execution_count": null,
   "metadata": {},
   "outputs": [],
   "source": [
    "background = np.zeros((200, 400, 3)).astype(np.uint8)\n",
    "cv2.putText(background, \n",
    "            \"Hello world\", \n",
    "            (50, 50),                   \n",
    "            cv2.FONT_HERSHEY_SIMPLEX,     \n",
    "            0.9,                          \n",
    "            (0, 255, 127),                \n",
    "            1,\n",
    "            cv2.LINE_AA) \n",
    "\n",
    "cv2.imshow(\"Draw Text\", background)\n",
    "\n",
    "cv2.waitKey(0)\n",
    "cv2.destroyAllWindows()"
   ]
  },
  {
   "cell_type": "code",
   "execution_count": null,
   "metadata": {},
   "outputs": [],
   "source": [
    "img = cv2.imread(\"lena.jpg\")\n",
    "cv2.putText(img, \n",
    "            \"Hello world\", \n",
    "            (150, 250),                   \n",
    "            cv2.FONT_HERSHEY_SIMPLEX,     \n",
    "            0.9,                          \n",
    "            (255, 127, 0),                \n",
    "            2,\n",
    "            cv2.LINE_AA) \n",
    "\n",
    "cv2.imshow(\"Draw Text on Image\", img)\n",
    "\n",
    "cv2.waitKey(0)\n",
    "cv2.destroyAllWindows()"
   ]
  },
  {
   "cell_type": "code",
   "execution_count": null,
   "metadata": {},
   "outputs": [],
   "source": []
  },
  {
   "cell_type": "markdown",
   "metadata": {},
   "source": [
    "#### 2.5 Draw & Mouse Event Click"
   ]
  },
  {
   "cell_type": "markdown",
   "metadata": {},
   "source": [
    "- **Draw line** menggunakan mouse\n",
    "<img src=\"resource/drawline-click.gif\" style=\"width:500\"></img>"
   ]
  },
  {
   "cell_type": "code",
   "execution_count": null,
   "metadata": {},
   "outputs": [],
   "source": [
    "x0, y0, xt, yt = 0, 0, 0, 0\n",
    "\n",
    "title_window = \"Draw Line\"\n",
    "is_draw = False\n",
    "frame = np.ones((400, 400, 3)).astype(np.uint8)*255\n",
    " \n",
    "def draw_line(x0=0, y0=0, xt=0, yt=0):\n",
    "    background = frame.copy()\n",
    "    cv2.line(background, (x0, y0), (xt, yt), (255,0,255), 3, cv2.LINE_AA)\n",
    "    cv2.imshow(title_window, background)\n",
    "    \n",
    "    \n",
    "def read_line(event,x,y,flags,param):\n",
    "    \n",
    "    global x0, y0, xt, yt, is_draw\n",
    "    \n",
    "    if event == cv2.EVENT_LBUTTONDOWN:\n",
    "        x0, y0, xt, yt = x, y, x, y\n",
    "        is_draw = True\n",
    "\n",
    "    elif event == cv2.EVENT_MOUSEMOVE:\n",
    "        xt, yt = x, y\n",
    "\n",
    "    elif event == cv2.EVENT_LBUTTONUP:\n",
    "        xt, yt = x, y\n",
    "        is_draw = False\n",
    "        \n",
    "    if is_draw :\n",
    "        draw_line(x0, y0, xt, yt)\n",
    "    \n",
    "    \n",
    "cv2.namedWindow(title_window) \n",
    "cv2.setMouseCallback(title_window, read_line) \n",
    "\n",
    "draw_line()\n",
    "cv2.waitKey(0)\n",
    "cv2.destroyAllWindows()"
   ]
  },
  {
   "cell_type": "markdown",
   "metadata": {},
   "source": [
    "#### Task\n",
    "\n",
    "- **Draw Rectangle** menggunakan mouse event click"
   ]
  },
  {
   "cell_type": "code",
   "execution_count": null,
   "metadata": {},
   "outputs": [],
   "source": [
    "#\n",
    "#\n",
    "# function draw rectangle\n",
    "#\n",
    "#\n",
    "\n",
    "def draw_rectangle(x0=0, y0=0, xt=0, yt=0):\n",
    "    background = frame.copy()\n",
    "    cv2.rectangle(background, (x0, y0), (xt, yt), (255,0,255), 3, cv2.LINE_AA)\n",
    "    cv2.imshow(title_window, background)\n",
    "    "
   ]
  },
  {
   "cell_type": "code",
   "execution_count": null,
   "metadata": {},
   "outputs": [],
   "source": []
  },
  {
   "cell_type": "code",
   "execution_count": null,
   "metadata": {},
   "outputs": [],
   "source": []
  },
  {
   "cell_type": "markdown",
   "metadata": {},
   "source": [
    "- **draw circle** dan mouse event click\n",
    "\n",
    "hitung radius circle dengan menggunakan, \n",
    "\n",
    "$r = \\sqrt{(x - x0)^{2} + (y - y0)^{2}} $ \n",
    "\n",
    "untuk $x0$ dan $y0$ merupakan pusat lingkaran.\n",
    "\n",
    "<img src=\"resource/draw-circle-click.gif\" style=\"width:500\"></img>"
   ]
  },
  {
   "cell_type": "code",
   "execution_count": null,
   "metadata": {},
   "outputs": [],
   "source": [
    "import math\n",
    "x0, y0, r = 0, 0, 0\n",
    "\n",
    "title_window = \"Draw Circle\"\n",
    "is_draw = False\n",
    "frame = np.ones((400, 400, 3)).astype(np.uint8)*255\n",
    " \n",
    "def draw_circle(x0, y0, r):\n",
    "    background = frame.copy()\n",
    "    cv2.circle(background, (x0, y0), r, (0,255,150), 2, cv2.LINE_AA)\n",
    "    cv2.imshow(title_window, background)\n",
    "    \n",
    "    \n",
    "def read_circle(event,x,y,flags,param):\n",
    "    \n",
    "    global x0, y0, r, is_draw\n",
    "    \n",
    "    if event == cv2.EVENT_LBUTTONDOWN:\n",
    "        x0, y0, r = x, y, 0\n",
    "        is_draw = True\n",
    "\n",
    "    elif event == cv2.EVENT_MOUSEMOVE:\n",
    "        r = int(math.sqrt((x - x0)**2 + (y - y0)**2))\n",
    "\n",
    "    elif event == cv2.EVENT_LBUTTONUP:\n",
    "        r = int(math.sqrt((x - x0)**2 + (y - y0)**2))\n",
    "        is_draw = False\n",
    "        \n",
    "    if is_draw :\n",
    "        draw_circle(x0, y0, r)\n",
    "    \n",
    "    \n",
    "cv2.namedWindow(title_window) \n",
    "cv2.setMouseCallback(title_window, read_circle) \n",
    "\n",
    "draw_circle(x0, y0, r)\n",
    "cv2.waitKey(0)\n",
    "cv2.destroyAllWindows()"
   ]
  },
  {
   "cell_type": "code",
   "execution_count": null,
   "metadata": {},
   "outputs": [],
   "source": []
  },
  {
   "cell_type": "markdown",
   "metadata": {},
   "source": [
    "#### 2.6 Crop & Draw & Mouse Event Click\n",
    "\n",
    "- Modifikasi crop dengan event click\n",
    "\n",
    "<img src=\"resource/draw-crop-click.gif\" style=\"width:500\"></img>"
   ]
  },
  {
   "cell_type": "code",
   "execution_count": null,
   "metadata": {},
   "outputs": [],
   "source": [
    "x0, y0, xt, yt = 0, 0, 0, 0\n",
    "\n",
    "title_window = \"Draw Rectangle\"\n",
    "is_draw = False\n",
    "base_img = cv2.imread('lena.jpg')\n",
    "img = base_img.copy()\n",
    "\n",
    "def draw_rectangle(x0=0, y0=0, xt=0, yt=0):\n",
    "    img = base_img.copy()\n",
    "    cv2.rectangle(img, (x0, y0), (xt, yt), (255,0,255), 3, cv2.LINE_AA)\n",
    "    cv2.imshow(title_window, img)\n",
    "    \n",
    "def crop_image(crop_image):\n",
    "    img_crop = img[y0:yt, x0:xt]\n",
    "    cv2.imshow(\"croped image\", img_crop)\n",
    "    \n",
    "def read_rectangle(event,x,y,flags,param):\n",
    "    \n",
    "    global x0, y0, xt, yt, is_draw\n",
    "    \n",
    "    if event == cv2.EVENT_LBUTTONDOWN:\n",
    "        x0, y0, xt, yt = x, y, x, y\n",
    "        is_draw = True\n",
    "\n",
    "    elif event == cv2.EVENT_MOUSEMOVE:\n",
    "        xt, yt = x, y\n",
    "\n",
    "    elif event == cv2.EVENT_LBUTTONUP:\n",
    "        xt, yt = x, y\n",
    "        is_draw = False\n",
    "        crop_image(crop_image)\n",
    "        \n",
    "    if is_draw :\n",
    "        draw_rectangle(x0, y0, xt, yt)\n",
    "    \n",
    "cv2.namedWindow(title_window) \n",
    "cv2.setMouseCallback(title_window, read_rectangle) \n",
    "\n",
    "draw_rectangle()\n",
    "cv2.waitKey(0)\n",
    "cv2.destroyAllWindows()"
   ]
  },
  {
   "cell_type": "code",
   "execution_count": null,
   "metadata": {},
   "outputs": [],
   "source": []
  },
  {
   "cell_type": "markdown",
   "metadata": {},
   "source": [
    "### 2.7 Measure Text size before drawing"
   ]
  },
  {
   "cell_type": "markdown",
   "metadata": {},
   "source": [
    "- menggunakan method `cv2.getTextSize(text, fontFace, fontScale, thickness))`\n",
    "- mengembalikan dua variabel : \n",
    "    - `size` : dimensi (h, w) text \n",
    "    - `baseline` : y coord, relative to most bottom text\n",
    "    \n",
    "<img src=\"resource/text_size.png\" style=\"width:700\"></img>"
   ]
  },
  {
   "cell_type": "code",
   "execution_count": null,
   "metadata": {},
   "outputs": [],
   "source": [
    "cv2.getTextSize(\"hello\", cv2.FONT_HERSHEY_SIMPLEX, 0.5, 1)"
   ]
  },
  {
   "cell_type": "markdown",
   "metadata": {},
   "source": [
    "- **Draw text & Box** menggunakan (x, y) yang sama"
   ]
  },
  {
   "cell_type": "markdown",
   "metadata": {},
   "source": [
    "<img src=\"resource/text_n_box.png\" style=\"width:700\"></img>"
   ]
  },
  {
   "cell_type": "code",
   "execution_count": null,
   "metadata": {},
   "outputs": [],
   "source": [
    "background = np.zeros((200, 400, 3)).astype(np.uint8)\n",
    "\n",
    "cv2.rectangle(background, # input image\n",
    "              (50,100),    # (x1, y1)\n",
    "              (200,150),  # (x2, y2)\n",
    "              (0,0,255),  # (B, G, R)\n",
    "              -1)          # thickness\n",
    "\n",
    "cv2.putText(background, \n",
    "            \"Hello world\", \n",
    "            (50, 100),                   \n",
    "            cv2.FONT_HERSHEY_SIMPLEX,     \n",
    "            0.9,                          \n",
    "            (0, 255, 127),                \n",
    "            1,\n",
    "            cv2.LINE_AA) \n",
    "\n",
    "cv2.imshow(\"Draw Rectangle\", background)\n",
    "cv2.waitKey(0)\n",
    "cv2.destroyAllWindows()"
   ]
  },
  {
   "cell_type": "code",
   "execution_count": null,
   "metadata": {},
   "outputs": [],
   "source": []
  },
  {
   "cell_type": "markdown",
   "metadata": {},
   "source": [
    "- **Draw text & box** menggunakan (x,y) + `cv2.textSize()`\n",
    "\n",
    "<img src=\"resource/text_n_box_2.png\" style=\"width:700\"></img>"
   ]
  },
  {
   "cell_type": "code",
   "execution_count": null,
   "metadata": {},
   "outputs": [],
   "source": [
    "background = np.zeros((200, 400, 3)).astype(np.uint8)\n",
    "\n",
    "text = \"Hello world\"\n",
    "(w, h), baseline = cv2.getTextSize(text, cv2.FONT_HERSHEY_SIMPLEX, 0.9, 1)\n",
    "\n",
    "cv2.rectangle(background,\n",
    "              (50,100 - h),  \n",
    "              (50 + w, 100 + baseline), \n",
    "              (0,255,255), \n",
    "              -1)        \n",
    "\n",
    "cv2.putText(background, \n",
    "            text, \n",
    "            (50, 100),                   \n",
    "            cv2.FONT_HERSHEY_SIMPLEX,     \n",
    "            0.9,                          \n",
    "            (255, 0, 0),                \n",
    "            1,\n",
    "            cv2.LINE_AA) \n",
    "\n",
    "cv2.imshow(\"Draw Rectangle\", background)\n",
    "cv2.waitKey(0)\n",
    "cv2.destroyAllWindows()"
   ]
  },
  {
   "cell_type": "code",
   "execution_count": null,
   "metadata": {},
   "outputs": [],
   "source": []
  },
  {
   "cell_type": "markdown",
   "metadata": {},
   "source": [
    "- Wrap text & box into **function** `draw_label_box()`"
   ]
  },
  {
   "cell_type": "code",
   "execution_count": null,
   "metadata": {},
   "outputs": [],
   "source": [
    "def draw_label_box(img, label, x, y):\n",
    "    (w, h), baseline = cv2.getTextSize(label, cv2.FONT_HERSHEY_SIMPLEX, 0.9, 1)\n",
    "    cv2.rectangle(img,\n",
    "                  (x, y - h),  \n",
    "                  (x + w, y + baseline), \n",
    "                  (255,0,255), \n",
    "                  -1)        \n",
    "    cv2.putText(img, \n",
    "                label, \n",
    "                (x, y),                   \n",
    "                cv2.FONT_HERSHEY_SIMPLEX,     \n",
    "                0.9,                          \n",
    "                (255, 255, 255),                \n",
    "                1,\n",
    "                cv2.LINE_AA) \n",
    "    return img"
   ]
  },
  {
   "cell_type": "code",
   "execution_count": null,
   "metadata": {},
   "outputs": [],
   "source": [
    "background = np.zeros((400, 400, 3)).astype(np.uint8)\n",
    "\n",
    "background = draw_label_box(background, \"Belajar OpenCV\",50, 100)\n",
    "\n",
    "cv2.imshow(\"Draw Rectangle\", background)\n",
    "cv2.waitKey(0)\n",
    "cv2.destroyAllWindows()"
   ]
  },
  {
   "cell_type": "code",
   "execution_count": null,
   "metadata": {},
   "outputs": [],
   "source": []
  },
  {
   "cell_type": "markdown",
   "metadata": {},
   "source": [
    "#### 2.8 Bounding Box Object Detetction"
   ]
  },
  {
   "cell_type": "markdown",
   "metadata": {},
   "source": [
    "- Membuat **box object detetcion**\n",
    "\n",
    "<img src=\"resource/object-detection.gif\" style=\"width:700\"></img>\n",
    "\n",
    "- atur **label**\n",
    "- atur **posisi** (`x0, y0, xt, yt`)\n",
    "- atur **warna box & text**"
   ]
  },
  {
   "cell_type": "markdown",
   "metadata": {},
   "source": [
    "- Simple draw box"
   ]
  },
  {
   "cell_type": "code",
   "execution_count": null,
   "metadata": {},
   "outputs": [],
   "source": [
    "img = cv2.imread('lena.jpg')\n",
    "\n",
    "cv2.rectangle(img,\n",
    "              (50, 50),  \n",
    "              (300, 300), \n",
    "              (255,127,0), \n",
    "              2)\n",
    "\n",
    "cv2.imshow(\"Draw Rectangle\", img)\n",
    "cv2.waitKey(0)\n",
    "cv2.destroyAllWindows()\n"
   ]
  },
  {
   "cell_type": "markdown",
   "metadata": {},
   "source": [
    "- draw fill box with text"
   ]
  },
  {
   "cell_type": "code",
   "execution_count": null,
   "metadata": {},
   "outputs": [],
   "source": [
    "img = cv2.imread('lena.jpg')\n",
    "\n",
    "(w, h), baseline = cv2.getTextSize(\"lena.jpg\", cv2.FONT_HERSHEY_SIMPLEX, 0.5, 1)\n",
    "cv2.rectangle(img,\n",
    "              (50, 50 - h),  \n",
    "              (50 + w, 50 + baseline), \n",
    "              (255,127,0), \n",
    "              -1) \n",
    "cv2.putText(img, \n",
    "            \"lena.jpg\", \n",
    "            (50, 50),                   \n",
    "            cv2.FONT_HERSHEY_SIMPLEX,     \n",
    "            0.5,                          \n",
    "            (255,255,255),                \n",
    "            1,\n",
    "            cv2.LINE_AA) \n",
    "\n",
    "cv2.imshow(\"Draw Rectangle\", img)\n",
    "cv2.waitKey(0)\n",
    "cv2.destroyAllWindows()\n"
   ]
  },
  {
   "cell_type": "markdown",
   "metadata": {},
   "source": [
    "- combine together"
   ]
  },
  {
   "cell_type": "code",
   "execution_count": null,
   "metadata": {},
   "outputs": [],
   "source": [
    "img = cv2.imread('lena.jpg')\n",
    "\n",
    "(w, h), baseline = cv2.getTextSize(\"lena.jpg\", cv2.FONT_HERSHEY_SIMPLEX, 0.5, 1)\n",
    "cv2.rectangle(img,\n",
    "              (50, 50 + baseline),  \n",
    "              (300, 300), \n",
    "              (255,127,0), \n",
    "              2)\n",
    "cv2.rectangle(img,\n",
    "              (50, 50 - h),  \n",
    "              (50 + w, 50 + baseline), \n",
    "              (255,127,0), \n",
    "              -1) \n",
    "cv2.putText(img, \n",
    "            \"lena.jpg\", \n",
    "            (50, 50),                   \n",
    "            cv2.FONT_HERSHEY_SIMPLEX,     \n",
    "            0.5,                          \n",
    "            (255,255,255),                \n",
    "            1,\n",
    "            cv2.LINE_AA) \n",
    "\n",
    "cv2.imshow(\"Draw Rectangle\", img)\n",
    "cv2.waitKey(0)\n",
    "cv2.destroyAllWindows()\n"
   ]
  },
  {
   "cell_type": "code",
   "execution_count": null,
   "metadata": {},
   "outputs": [],
   "source": []
  },
  {
   "cell_type": "markdown",
   "metadata": {},
   "source": [
    "- wrap into **function**  `draw_ped()`"
   ]
  },
  {
   "cell_type": "code",
   "execution_count": null,
   "metadata": {},
   "outputs": [],
   "source": [
    "def draw_ped(img, label, x0, y0, xt, yt, color=(255,127,0), text_color=(255,255,255)):\n",
    "\n",
    "    (w, h), baseline = cv2.getTextSize(label, cv2.FONT_HERSHEY_SIMPLEX, 0.5, 1)\n",
    "    cv2.rectangle(img,\n",
    "                  (x0, y0 + baseline),  \n",
    "                  (max(xt, x0 + w), yt), \n",
    "                  color, \n",
    "                  2)\n",
    "    cv2.rectangle(img,\n",
    "                  (x0, y0 - h),  \n",
    "                  (x0 + w, y0 + baseline), \n",
    "                  color, \n",
    "                  -1)  \n",
    "    cv2.putText(img, \n",
    "                label, \n",
    "                (x0, y0),                   \n",
    "                cv2.FONT_HERSHEY_SIMPLEX,     \n",
    "                0.5,                          \n",
    "                text_color,                \n",
    "                1,\n",
    "                cv2.LINE_AA) \n",
    "    return img"
   ]
  },
  {
   "cell_type": "code",
   "execution_count": null,
   "metadata": {},
   "outputs": [],
   "source": [
    "img = cv2.imread('lena.jpg')\n",
    "\n",
    "img = draw_ped(img, \"image : lena.jpg\",50, 50, 300, 300)\n",
    "\n",
    "cv2.imshow(\"Draw Rectangle\", img)\n",
    "cv2.waitKey(0)\n",
    "cv2.destroyAllWindows()"
   ]
  },
  {
   "cell_type": "code",
   "execution_count": null,
   "metadata": {},
   "outputs": [],
   "source": []
  }
 ],
 "metadata": {
  "kernelspec": {
   "display_name": "Python [conda env:opencv_env]",
   "language": "python",
   "name": "conda-env-opencv_env-py"
  },
  "language_info": {
   "codemirror_mode": {
    "name": "ipython",
    "version": 3
   },
   "file_extension": ".py",
   "mimetype": "text/x-python",
   "name": "python",
   "nbconvert_exporter": "python",
   "pygments_lexer": "ipython3",
   "version": "3.8.6"
  }
 },
 "nbformat": 4,
 "nbformat_minor": 4
}
