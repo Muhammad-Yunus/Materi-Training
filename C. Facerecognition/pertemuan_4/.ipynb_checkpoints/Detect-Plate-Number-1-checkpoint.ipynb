{
 "cells": [
  {
   "cell_type": "markdown",
   "metadata": {},
   "source": [
    "## Licence Plate detection & Character segmentation"
   ]
  },
  {
   "cell_type": "markdown",
   "metadata": {},
   "source": [
    "![](resource/opsi_plate_number_recognition.png)"
   ]
  },
  {
   "cell_type": "code",
   "execution_count": 132,
   "metadata": {},
   "outputs": [],
   "source": [
    "import cv2\n",
    "import numpy as np\n",
    "import matplotlib.pyplot as plt"
   ]
  },
  {
   "cell_type": "code",
   "execution_count": 133,
   "metadata": {},
   "outputs": [],
   "source": [
    "def preprocessing(img, h1, h2):\n",
    "    # get roi & resize \n",
    "    h, w, c = img.shape\n",
    "    roi = img[int(h1):int(h2), int(w*0.30):int(w*0.70)]\n",
    "    scale = 300/roi.shape[0]\n",
    "    roi = cv2.resize(roi, (0,0), fx=scale, fy=scale)\n",
    "    \n",
    "    #convert to gray -> binary\n",
    "    gray = cv2.cvtColor(roi, cv2.COLOR_BGR2GRAY)\n",
    "    __, thresh = cv2.threshold(gray, 0, 255, cv2.THRESH_BINARY + cv2.THRESH_OTSU)\n",
    "    return thresh, roi\n",
    "    \n",
    "def get_contours(thresh):\n",
    "    contours, hierarchy = cv2.findContours(thresh, cv2.RETR_CCOMP, cv2.CHAIN_APPROX_SIMPLE)\n",
    "    h, w, c = img.shape\n",
    "    size = h*w\n",
    "    contours = [cc for i, cc in enumerate(contours) if contour_char_OK(cc, size)]\n",
    "    return contours\n",
    "\n",
    "def contour_char_OK(cc, size=1000000):\n",
    "    x, y, w, h = cv2.boundingRect(cc)\n",
    "    area = cv2.contourArea(cc)\n",
    "    \n",
    "    if w < 3 or h < 5 or area < 80: \n",
    "        return False\n",
    "    \n",
    "    validDimentson = w/h > 0.11 and w/h < 0.7\n",
    "    varidAreaRatio = area/(w*h)  > 0.2\n",
    "    #print(\"w/h = %.2f \\t | \\t area/(w*h) = %.2f \\t\" % (w/h, area/(w*h)))\n",
    "    return validDimentson and varidAreaRatio\n",
    "\n",
    "def sort_contours(contours, method=\"left-to-right\"):\n",
    "    reverse = False\n",
    "    i = 0\n",
    "    if method == \"right-to-left\" or method == \"bottom-to-top\":\n",
    "        reverse = True\n",
    "\n",
    "    if method == \"top-to-bottom\" or method == \"bottom-to-top\":\n",
    "        i = 1\n",
    "    boundingBoxes = [cv2.boundingRect(cnt) for cnt in contours]\n",
    "    \n",
    "    cnts, boundingBoxes = zip(*sorted(zip(contours, boundingBoxes), key=lambda b:b[1][i], reverse=reverse))\n",
    "    return cnts, boundingBoxes"
   ]
  },
  {
   "cell_type": "code",
   "execution_count": 134,
   "metadata": {},
   "outputs": [],
   "source": [
    "def crop_plate(thresh, contours):\n",
    "    rects = []\n",
    "    for i, cnt in enumerate(contours) :\n",
    "        rect = cv2.boundingRect(cnt)\n",
    "        rects.append(rect)\n",
    "\n",
    "    rects = np.array(rects)\n",
    "\n",
    "    if len(rects) < 4 :\n",
    "        return False, thresh\n",
    "    rects = similar_rect(rects, row=3, n=2) #similar rect for closest `h` (row 3)\n",
    "\n",
    "    if len(rects) < 4 :\n",
    "        return False, thresh\n",
    "    rects = similar_rect(rects, row=2, n=2) #similar rect for closest `w` (row 2)\n",
    "\n",
    "    if len(rects) < 4 :\n",
    "        return False, thresh\n",
    "    x1 = rects[:, 0].min()\n",
    "    x2 = rects[:, 0].max() + rects[:, 2].max()\n",
    "    y1 = rects[:, 1].min()\n",
    "    y2 = rects[:, 1].max() + rects[:, 3].max()\n",
    "    plate_number = thresh[y1:y2, x1:x2]\n",
    "    return True, plate_number\n",
    "\n",
    "def similar_rect(rects, row=3, n=2):\n",
    "    mean = np.mean(rects[:, row])\n",
    "    std = np.std(rects[:, row])\n",
    "    rects = np.array([rect for rect in rects if abs(rect[row] - mean) < n*std and rect_ok(rect)])\n",
    "    return rects\n",
    "\n",
    "def rect_ok(rect):\n",
    "    x, y, w, h = rect\n",
    "    return w/h > 0.11 and w/h < 0.7"
   ]
  },
  {
   "cell_type": "code",
   "execution_count": 140,
   "metadata": {},
   "outputs": [],
   "source": [
    "img = cv2.imread(\"plat-nomor-14.jpg\")\n",
    "\n",
    "h, w, c = img.shape\n",
    "thresh, roi = preprocessing(img, h1=0.5*h, h2=0.85*h )\n",
    "\n",
    "# get plate number image\n",
    "contours = get_contours(thresh)\n",
    "is_plate, plate_img = crop_plate(thresh, contours)\n",
    "\n",
    "if is_plate :\n",
    "    cv2.imshow(\"plate img\", plate_img)\n",
    "    # get char in detected plate number\n",
    "    contours = get_contours(plate_img)\n",
    "    if len(contours) > 1:\n",
    "        contours, __ = sort_contours(contours)\n",
    "        for i, cnt in enumerate(contours) :\n",
    "            x, y, w, h = cv2.boundingRect(cnt)\n",
    "            char_roi = plate_img[y:y+h, x:x+w]\n",
    "            cv2.imshow(\"ROI Char - %d\" % i, char_roi)\n",
    "\n",
    "cv2.imshow(\"roi\", roi)\n",
    "cv2.imshow(\"thresh\", thresh)\n",
    "cv2.waitKey(0)\n",
    "cv2.destroyAllWindows()"
   ]
  },
  {
   "cell_type": "code",
   "execution_count": 141,
   "metadata": {},
   "outputs": [],
   "source": [
    "import os\n",
    "\n",
    "for filename in os.listdir(\".\"):\n",
    "    if filename.find('plat-nomor-') == -1:\n",
    "        continue\n",
    "    img = cv2.imread(filename)\n",
    "\n",
    "    h, w, c = img.shape\n",
    "    thresh, roi = preprocessing(img, h1=0.5*h, h2=0.85*h )\n",
    "\n",
    "    # get plate number image\n",
    "    contours = get_contours(thresh)\n",
    "    is_plate, plate_img = crop_plate(thresh, contours)\n",
    "\n",
    "    if is_plate :\n",
    "        # get char in detected plate number\n",
    "        contours = get_contours(plate_img)\n",
    "        if len(contours) > 1:\n",
    "            contours, __ = sort_contours(contours)\n",
    "        for i, cnt in enumerate(contours) :\n",
    "            x, y, w, h = cv2.boundingRect(cnt)\n",
    "            char_roi = plate_img[y:y+h, x:x+w]\n",
    "            cv2.imshow(\"ROI Char - %d\" % i, char_roi)\n",
    "        cv2.imshow(\"plate img\", plate_img)\n",
    "\n",
    "    cv2.imshow(\"roi\", thresh)\n",
    "    cv2.waitKey(2000)\n",
    "    cv2.destroyAllWindows()"
   ]
  },
  {
   "cell_type": "code",
   "execution_count": null,
   "metadata": {},
   "outputs": [],
   "source": []
  },
  {
   "cell_type": "code",
   "execution_count": null,
   "metadata": {},
   "outputs": [],
   "source": []
  }
 ],
 "metadata": {
  "kernelspec": {
   "display_name": "Python [conda env:opencv_env]",
   "language": "python",
   "name": "conda-env-opencv_env-py"
  },
  "language_info": {
   "codemirror_mode": {
    "name": "ipython",
    "version": 3
   },
   "file_extension": ".py",
   "mimetype": "text/x-python",
   "name": "python",
   "nbconvert_exporter": "python",
   "pygments_lexer": "ipython3",
   "version": "3.8.5"
  }
 },
 "nbformat": 4,
 "nbformat_minor": 4
}
