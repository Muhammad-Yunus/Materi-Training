{
 "cells": [
  {
   "cell_type": "markdown",
   "metadata": {},
   "source": [
    "![](resource/ml_workflow.png)\n",
    "\n",
    "#### Previous Implementation\n",
    "- Face Detection : **Haar Cascade Classifier**\n",
    "    - Pros : \n",
    "            - processing speed  \n",
    "    - Cons : \n",
    "            - face need to be align to front\n",
    "    \n",
    "- Feature Extraction (Facial Descriptor) : **Local Binary Pattern Histogram (LBPH)**\n",
    "    - Pros : \n",
    "            - high discriminative, \n",
    "            - invariance to grayscale, \n",
    "            - simple computation.\n",
    "    - Cons : \n",
    "            - performace degradation to large dataset, \n",
    "            - miss the local structure, \n",
    "            - sensitive to noise.\n",
    "    \n",
    "- Classifier : **Support Vector Machine**\n",
    "    - Pros : \n",
    "            - works well on clear margin of separation,\n",
    "            - effective in high dimensional spaces,\n",
    "            - effective in cases where the number of dimensions is greater than the number of samples.\n",
    "    - Cons :\n",
    "            - doesn’t perform very well, when the data set has more noise i.e. target classes are overlapping,\n",
    "            - doesn’t directly provide probability estimates."
   ]
  },
  {
   "cell_type": "markdown",
   "metadata": {},
   "source": [
    "___\n",
    "![](resource/dl_workflow.png)\n",
    "\n",
    "#### Next Implementation\n",
    "- Deep Learning Algorithm :\n",
    "    - Deep Neural Network\n",
    "    - Convolution Nural Network\n",
    "    - Recurrent Neural Netwrork\n",
    "- Model Task :\n",
    "    - Detection (Face Detection)\n",
    "    - Feature Extraction \n",
    "    - Classification "
   ]
  },
  {
   "cell_type": "code",
   "execution_count": 1,
   "metadata": {},
   "outputs": [],
   "source": [
    "import os\n",
    "import cv2\n",
    "import itertools\n",
    "import numpy as np\n",
    "import matplotlib.pyplot as plt\n",
    "\n",
    "from sklearn.preprocessing import LabelEncoder\n",
    "from sklearn.model_selection import train_test_split\n",
    "from sklearn.metrics import classification_report\n",
    "from sklearn.metrics import confusion_matrix"
   ]
  },
  {
   "cell_type": "code",
   "execution_count": 2,
   "metadata": {},
   "outputs": [
    {
     "name": "stderr",
     "output_type": "stream",
     "text": [
      "Using TensorFlow backend.\n"
     ]
    }
   ],
   "source": [
    "import keras\n",
    "from keras.models import Sequential, Model\n",
    "from keras.layers import Dense, Activation, Input\n",
    "\n",
    "from keras.utils import to_categorical\n"
   ]
  },
  {
   "cell_type": "markdown",
   "metadata": {},
   "source": [
    "___\n",
    "# Keras Library\n",
    "- Keras API : https://keras.io/api/\n",
    "\n",
    "### Keras Base Model `Sequential`\n",
    "- Membuat model pad Keras :\n",
    ">```\n",
    "from keras.models import Sequential\n",
    "model = Sequential()\n",
    "model.add(...)\n",
    "model.add(...)\n",
    "model.add(...)\n",
    ">```\n",
    "- `keras.Sequential()`\n",
    "    - `Sequential` groups a **linear stack** of layers into a `tf.keras.Model`.\n",
    "    - `Sequential` provides training and inference features on this model.\n",
    "    - use `model.add()` to add neural network layer into sequential model.<br><br><br>\n",
    "\n",
    "### Dense Layer (Fully Connected Layer)\n",
    "- `keras.layers.Dense()` : Fully Conneted Layer Neural Network.\n",
    "- Add input layer pada Keras : **Layer pertama** pada Keras harus menyertakan `input_dim` atau `input_shape`,\n",
    ">```\n",
    "Dense(16, input_dim=8)\n",
    ">```\n",
    "- Hidden layer & Activation Layer\n",
    ">```\n",
    "Dense(16, activation='relu')\n",
    ">```\n",
    "- atau dapat ditulis sebagai berikut secara terpisah :\n",
    ">```\n",
    "Dense(16)\n",
    "Activation(\"relu\")\n",
    ">```\n",
    "- contoh Dense Layer :\n",
    ">```\n",
    "Input(3)\n",
    "Dense(5)\n",
    "Dense(2)\n",
    ">```\n",
    "\n",
    "<img src=\"resource/fcnn3.png\" class=\"width:200px\"></img>\n",
    "\n",
    "### Training Model\n",
    "- config network menggunakan `model.compile()`\n",
    "    - loss \n",
    "    - optimizer\n",
    "    - metric\n",
    ">```\n",
    "model.compile(optimizer='adam', \n",
    "          loss='categorical_crossentropy',\n",
    "          metrics = ['accuracy'])\n",
    ">```\n",
    "\n",
    "\n",
    "- training model menggunakan `model.fit()`:\n",
    ">```\n",
    "model.fit(X, y, epochs=, batch_size=)\n",
    ">```"
   ]
  },
  {
   "cell_type": "markdown",
   "metadata": {},
   "source": [
    "### Jenis Optimizer di Keras\n",
    "- SGD\n",
    "- RMSprop\n",
    "- Adam\n",
    "- Adadelta\n",
    "- Adagrad\n",
    "- Adamax\n",
    "- Nadam\n",
    "- selengkapnya : https://keras.io/api/optimizers/\n",
    "\n",
    "#### SGD vs Adam Optimizer\n",
    "- SGD Optimizer\n",
    ">```\n",
    "tf.keras.optimizers.SGD(\n",
    "    learning_rate=0.01, \n",
    "    momentum=0.0, \n",
    "    nesterov=False, \n",
    "    name=\"SGD\", \n",
    "    **kwargs\n",
    ")\n",
    ">```\n",
    "- Adam Optimizer (adaptive moment estimation)\n",
    ">```\n",
    "tf.keras.optimizers.Adam(\n",
    "    learning_rate=0.001,\n",
    "    beta_1=0.9,\n",
    "    beta_2=0.999,\n",
    "    epsilon=1e-07,\n",
    "    amsgrad=False,\n",
    "    name=\"Adam\",\n",
    "    **kwargs\n",
    ")\n",
    ">```\n",
    "\n",
    "\n",
    "### Jenis Loss Di Keras\n",
    "- **Probabilistic losses**\n",
    "    - BinaryCrossentropy class\n",
    "    - CategoricalCrossentropy class\n",
    "- **Regression losses**\n",
    "    - MeanSquaredError class\n",
    "- selengkapnya : https://keras.io/api/losses/\n",
    "\n",
    "### Jenis Metric di Keras\n",
    "- **Accuracy metrics**\n",
    "    - Accuracy class \n",
    "- ~~**Classification metrics based on True/False positives & negatives**~~ \n",
    "    - ~~Precision class~~ \n",
    "    - ~~Recall class~~\n",
    "- Precision & Recall di hilagkan dari `keras` 2.0 keatas [sumber](https://github.com/keras-team/keras/wiki/Keras-2.0-release-notes)\n",
    "- selengkapnya : https://keras.io/api/metrics/"
   ]
  },
  {
   "cell_type": "markdown",
   "metadata": {},
   "source": [
    "___\n",
    "# 0. Neural Network (Simple Keras Implementation)"
   ]
  },
  {
   "cell_type": "markdown",
   "metadata": {},
   "source": [
    "### 0.1 Generate Dateset (rundom number with 5 class data)"
   ]
  },
  {
   "cell_type": "code",
   "execution_count": 3,
   "metadata": {},
   "outputs": [],
   "source": [
    "def generate_dataset(size, classes=5, noise=10.5):\n",
    "    # Generate random datapoints\n",
    "    labels = np.random.randint(0, classes, size)\n",
    "    x1 = (np.random.rand(size) + labels) / classes\n",
    "    x2 = x1**2 + np.random.rand(size) * noise\n",
    "    \n",
    "    # Reshape data in order to merge them\n",
    "    x1 = x1.reshape(size, 1)\n",
    "    x2 = x2.reshape(size, 1)\n",
    "    labels = labels.reshape(size, 1)\n",
    "   \n",
    "    # Merge the data\n",
    "    data = np.hstack((x1, x2, labels))\n",
    "    return data"
   ]
  },
  {
   "cell_type": "code",
   "execution_count": 4,
   "metadata": {},
   "outputs": [],
   "source": [
    "dataset = generate_dataset(100)"
   ]
  },
  {
   "cell_type": "code",
   "execution_count": 5,
   "metadata": {
    "scrolled": true
   },
   "outputs": [
    {
     "data": {
      "text/plain": [
       "array([[6.63335796e-01, 4.56323343e+00, 3.00000000e+00],\n",
       "       [2.11514497e-01, 6.48912799e+00, 1.00000000e+00],\n",
       "       [6.97750065e-01, 1.27129066e+00, 3.00000000e+00],\n",
       "       [5.98478736e-01, 2.01487609e+00, 2.00000000e+00],\n",
       "       [2.68246448e-01, 1.04170328e+01, 1.00000000e+00],\n",
       "       [4.48165882e-01, 2.33495541e+00, 2.00000000e+00],\n",
       "       [9.64028036e-01, 7.80183257e+00, 4.00000000e+00],\n",
       "       [3.06001211e-01, 2.22431963e-01, 1.00000000e+00],\n",
       "       [3.43345318e-01, 2.43922356e+00, 1.00000000e+00],\n",
       "       [3.56730732e-01, 4.29437188e+00, 1.00000000e+00],\n",
       "       [4.43602219e-01, 1.01128011e+00, 2.00000000e+00],\n",
       "       [7.33862141e-01, 1.02099540e+01, 3.00000000e+00],\n",
       "       [7.83581505e-01, 1.74059245e+00, 3.00000000e+00],\n",
       "       [6.61274762e-01, 1.35441944e+00, 3.00000000e+00],\n",
       "       [8.10384189e-01, 1.68369593e+00, 4.00000000e+00],\n",
       "       [1.33900180e-02, 1.79692537e+00, 0.00000000e+00],\n",
       "       [5.82247679e-01, 4.69989381e+00, 2.00000000e+00],\n",
       "       [9.14111453e-01, 6.93873532e+00, 4.00000000e+00],\n",
       "       [1.37995758e-01, 8.03385482e+00, 0.00000000e+00],\n",
       "       [8.58328146e-01, 4.48082462e+00, 4.00000000e+00],\n",
       "       [9.29257019e-02, 6.90185892e+00, 0.00000000e+00],\n",
       "       [2.58691400e-01, 7.87312337e+00, 1.00000000e+00],\n",
       "       [8.93407693e-01, 1.04184898e+01, 4.00000000e+00],\n",
       "       [3.09244974e-01, 3.39254705e-01, 1.00000000e+00],\n",
       "       [4.07022541e-01, 7.50942082e+00, 2.00000000e+00],\n",
       "       [6.95506080e-01, 1.97189970e+00, 3.00000000e+00],\n",
       "       [7.30695953e-01, 9.43507997e+00, 3.00000000e+00],\n",
       "       [5.83949950e-01, 9.81369529e+00, 2.00000000e+00],\n",
       "       [8.29221968e-01, 7.08502628e+00, 4.00000000e+00],\n",
       "       [1.95853916e-02, 9.13517770e+00, 0.00000000e+00],\n",
       "       [6.53939814e-01, 6.97265874e+00, 3.00000000e+00],\n",
       "       [2.36901688e-01, 6.39818313e-01, 1.00000000e+00],\n",
       "       [2.64888050e-01, 3.55798371e+00, 1.00000000e+00],\n",
       "       [4.97719923e-01, 1.29517780e+00, 2.00000000e+00],\n",
       "       [9.52831278e-01, 9.88581381e+00, 4.00000000e+00],\n",
       "       [4.43567599e-01, 8.21843283e+00, 2.00000000e+00],\n",
       "       [8.23932901e-01, 6.55668391e+00, 4.00000000e+00],\n",
       "       [3.90297208e-01, 8.36484301e+00, 1.00000000e+00],\n",
       "       [3.73690872e-01, 8.37243485e+00, 1.00000000e+00],\n",
       "       [8.92683284e-01, 2.65039223e+00, 4.00000000e+00],\n",
       "       [7.58845175e-01, 9.15458385e+00, 3.00000000e+00],\n",
       "       [3.78339352e-01, 1.11066768e+00, 1.00000000e+00],\n",
       "       [3.40880069e-01, 6.29041866e+00, 1.00000000e+00],\n",
       "       [2.96318218e-01, 7.18998452e+00, 1.00000000e+00],\n",
       "       [3.16340841e-01, 7.34757558e+00, 1.00000000e+00],\n",
       "       [1.56064947e-01, 1.36828746e+00, 0.00000000e+00],\n",
       "       [2.05359776e-01, 1.34518757e+00, 1.00000000e+00],\n",
       "       [8.20539976e-01, 7.28496013e+00, 4.00000000e+00],\n",
       "       [1.40795083e-01, 4.84502868e-01, 0.00000000e+00],\n",
       "       [4.14222450e-01, 7.82782540e+00, 2.00000000e+00],\n",
       "       [9.79872277e-01, 6.55697174e+00, 4.00000000e+00],\n",
       "       [4.31171468e-01, 6.79429222e+00, 2.00000000e+00],\n",
       "       [3.31832727e-01, 1.03691108e+01, 1.00000000e+00],\n",
       "       [8.99323060e-01, 9.60961343e+00, 4.00000000e+00],\n",
       "       [2.64870364e-01, 3.63935842e-01, 1.00000000e+00],\n",
       "       [5.95893273e-01, 1.41838709e+00, 2.00000000e+00],\n",
       "       [2.11687088e-01, 3.80351598e+00, 1.00000000e+00],\n",
       "       [5.90425006e-01, 2.44643616e+00, 2.00000000e+00],\n",
       "       [7.85431066e-01, 1.06670465e+00, 3.00000000e+00],\n",
       "       [9.35407590e-01, 3.33567190e+00, 4.00000000e+00],\n",
       "       [2.83245413e-01, 6.49406853e+00, 1.00000000e+00],\n",
       "       [7.67802001e-01, 3.71383976e+00, 3.00000000e+00],\n",
       "       [5.36860318e-01, 6.01283178e+00, 2.00000000e+00],\n",
       "       [5.30292595e-01, 9.88788770e+00, 2.00000000e+00],\n",
       "       [6.91761997e-02, 8.39276963e+00, 0.00000000e+00],\n",
       "       [5.71842165e-01, 8.32322088e+00, 2.00000000e+00],\n",
       "       [1.42158570e-01, 8.03006936e-01, 0.00000000e+00],\n",
       "       [3.68320326e-01, 4.29455378e+00, 1.00000000e+00],\n",
       "       [6.47652106e-01, 6.62235859e+00, 3.00000000e+00],\n",
       "       [3.21134697e-01, 9.18361427e+00, 1.00000000e+00],\n",
       "       [6.60905594e-01, 9.88022783e+00, 3.00000000e+00],\n",
       "       [1.65173470e-02, 2.13695355e+00, 0.00000000e+00],\n",
       "       [1.57053702e-01, 5.15498515e+00, 0.00000000e+00],\n",
       "       [5.84169460e-01, 9.53430025e+00, 2.00000000e+00],\n",
       "       [3.99491144e-01, 1.58577766e+00, 1.00000000e+00],\n",
       "       [8.98947366e-01, 2.04550518e+00, 4.00000000e+00],\n",
       "       [1.73538239e-01, 5.76935308e-01, 0.00000000e+00],\n",
       "       [5.30113633e-01, 4.34063614e+00, 2.00000000e+00],\n",
       "       [5.76919077e-01, 8.70350572e+00, 2.00000000e+00],\n",
       "       [5.86191663e-01, 8.24443884e+00, 2.00000000e+00],\n",
       "       [4.90048840e-01, 4.09617379e+00, 2.00000000e+00],\n",
       "       [3.12506757e-02, 4.05551319e+00, 0.00000000e+00],\n",
       "       [2.27372456e-02, 4.40624756e+00, 0.00000000e+00],\n",
       "       [1.36099757e-01, 5.90561469e+00, 0.00000000e+00],\n",
       "       [2.39023837e-01, 2.02650876e+00, 1.00000000e+00],\n",
       "       [6.47814052e-01, 7.40243898e+00, 3.00000000e+00],\n",
       "       [8.90804301e-03, 2.47662997e+00, 0.00000000e+00],\n",
       "       [4.75590780e-01, 4.03062713e+00, 2.00000000e+00],\n",
       "       [7.71235095e-01, 7.69731367e+00, 3.00000000e+00],\n",
       "       [1.33496390e-01, 2.56282102e+00, 0.00000000e+00],\n",
       "       [3.63999571e-01, 5.37217782e+00, 1.00000000e+00],\n",
       "       [8.36926160e-01, 9.73405233e+00, 4.00000000e+00],\n",
       "       [3.67564907e-01, 2.81629368e+00, 1.00000000e+00],\n",
       "       [9.89795059e-01, 1.42565047e+00, 4.00000000e+00],\n",
       "       [8.74004873e-01, 1.04868066e+01, 4.00000000e+00],\n",
       "       [4.02785333e-01, 3.43597077e+00, 2.00000000e+00],\n",
       "       [7.50536085e-01, 5.97764546e+00, 3.00000000e+00],\n",
       "       [3.83503242e-01, 2.10016777e+00, 1.00000000e+00],\n",
       "       [7.45326780e-01, 9.50768639e+00, 3.00000000e+00],\n",
       "       [3.62774813e-01, 4.51632192e+00, 1.00000000e+00]])"
      ]
     },
     "execution_count": 5,
     "metadata": {},
     "output_type": "execute_result"
    }
   ],
   "source": [
    "dataset"
   ]
  },
  {
   "cell_type": "code",
   "execution_count": 6,
   "metadata": {},
   "outputs": [
    {
     "data": {
      "image/png": "[encoded data removed]",
      "text/plain": [
       "<Figure size 432x288 with 1 Axes>"
      ]
     },
     "metadata": {
      "needs_background": "light"
     },
     "output_type": "display_data"
    }
   ],
   "source": [
    "plt.scatter(dataset[:, 0], dataset[:, 1], c=dataset[:,2], s=5, cmap='rainbow')\n",
    "plt.grid()\n",
    "plt.show()"
   ]
  },
  {
   "cell_type": "code",
   "execution_count": 7,
   "metadata": {},
   "outputs": [],
   "source": [
    "X = dataset[:, :2]\n",
    "Y = dataset[:, 2]"
   ]
  },
  {
   "cell_type": "code",
   "execution_count": 8,
   "metadata": {},
   "outputs": [
    {
     "data": {
      "text/plain": [
       "((100, 2), (100,))"
      ]
     },
     "execution_count": 8,
     "metadata": {},
     "output_type": "execute_result"
    }
   ],
   "source": [
    "X.shape, Y.shape"
   ]
  },
  {
   "cell_type": "markdown",
   "metadata": {},
   "source": [
    "### 0.2 Encoding Label & categoricalization"
   ]
  },
  {
   "cell_type": "code",
   "execution_count": 9,
   "metadata": {},
   "outputs": [
    {
     "name": "stdout",
     "output_type": "stream",
     "text": [
      "Y : 3.0\n",
      "Y (label encoding): 3\n",
      "Y (categorical): [0. 0. 0. 1. 0.]\n"
     ]
    }
   ],
   "source": [
    "le = LabelEncoder()\n",
    "\n",
    "le.fit(Y)\n",
    "\n",
    "labels = le.classes_\n",
    "\n",
    "print(\"Y :\", Y[0])\n",
    "\n",
    "Y = le.transform(Y)\n",
    "print(\"Y (label encoding):\", Y[0])\n",
    "\n",
    "Y = to_categorical(Y)\n",
    "print(\"Y (categorical):\", Y[0])"
   ]
  },
  {
   "cell_type": "markdown",
   "metadata": {},
   "source": [
    "### 0.3 Split dataset"
   ]
  },
  {
   "cell_type": "code",
   "execution_count": 10,
   "metadata": {},
   "outputs": [],
   "source": [
    "x_train, x_test, y_train, y_test = train_test_split(X,   # input data\n",
    "                                                    Y,   # target/output data \n",
    "                                                    test_size=0.25, \n",
    "                                                    random_state=42)"
   ]
  },
  {
   "cell_type": "code",
   "execution_count": 11,
   "metadata": {},
   "outputs": [
    {
     "name": "stdout",
     "output_type": "stream",
     "text": [
      "(75, 2) (75, 5) (25, 2) (25, 5)\n"
     ]
    }
   ],
   "source": [
    "print(x_train.shape, y_train.shape, x_test.shape,  y_test.shape)"
   ]
  },
  {
   "cell_type": "markdown",
   "metadata": {},
   "source": [
    "### 0.4 Create Model"
   ]
  },
  {
   "cell_type": "code",
   "execution_count": 12,
   "metadata": {},
   "outputs": [],
   "source": [
    "def simple_model(input_dim):\n",
    "    \n",
    "    model = Sequential()\n",
    "    \n",
    "    model.add(Dense(64, \n",
    "                    activation= 'relu',\n",
    "                    input_shape=(input_dim,)))\n",
    "    model.add(Dense(128, activation= 'relu',))\n",
    "    model.add(Dense(32, activation= 'relu',))\n",
    "    model.add(Dense(5)) # equal to number of classes\n",
    "    model.add(Activation(\"sigmoid\"))\n",
    "    \n",
    "    # print model network\n",
    "    model.summary() \n",
    "    \n",
    "    # config model : add optimizer, loss & metrics\n",
    "    model.compile(optimizer='adam', \n",
    "                  loss='categorical_crossentropy',\n",
    "                  metrics = ['accuracy'])\n",
    "\n",
    "    return model"
   ]
  },
  {
   "cell_type": "markdown",
   "metadata": {},
   "source": [
    "### 0.5 Train Model"
   ]
  },
  {
   "cell_type": "code",
   "execution_count": null,
   "metadata": {},
   "outputs": [],
   "source": [
    "input_dim = x_train.shape[1]  \n",
    "\n",
    "EPOCHS = 100\n",
    "BATCH_SIZE = 64\n",
    "\n",
    "model = simple_model(input_dim)\n",
    "\n",
    "history = model.fit(x_train, \n",
    "                    y_train,\n",
    "                    epochs=EPOCHS,\n",
    "                    batch_size=BATCH_SIZE,\n",
    "                    validation_split=0.25   # 25% of train dataset will be used as validation set\n",
    "                    )"
   ]
  },
  {
   "cell_type": "markdown",
   "metadata": {},
   "source": [
    "- jalankan training dengan `EPOCHS` dan `BATCH_SIZE` yang telah diset.\n",
    "- `BATCH_SIZE` merupakan banyaknya sample yang akan di propagasikan kedalam Network\n",
    "- Benefit menggunakan `BATCH_SIZE` < training sample\n",
    "    - less memory to consume : karena menggunakan sedikit data saat diproses dalam network\n",
    "    - network lebih cepat melakukan proses learning \n",
    "- Penggunaan `BATCH_SIZE` terlalu kecil dapat mengakibatkan gradient update fluktuatif\n",
    "- 1 `EPOCH` artinya 1 forwardpass dan backwardpass untuk keseluruhan training sample\n",
    "- Jumlah `ITERASI` banyaknya forwardpass dan backwardpass untuk tiap `BATCH_SIZE`\n",
    "- contoh :\n",
    "    - kita memiliki 1000 training sample\n",
    "    - kita pilih `BATCH_SIZE` 10 dan `EPOCH` 5\n",
    "    - sehingga pada tiap `EPOCH` akan dilakukan forwardpass dan backwardpass untuk 1000 training sample yang dibagi meenjadi 10 batch, dimana tiap batch nya akan diproses 100 sample.\n",
    "    - Proses ini akan menghasilkan setidaknya 100x5 iterasi (forwardpass dan backwardpass)."
   ]
  },
  {
   "cell_type": "code",
   "execution_count": null,
   "metadata": {},
   "outputs": [],
   "source": [
    "def evaluate_model_(history):\n",
    "    names = [['acc', 'val_acc'], \n",
    "             ['loss', 'val_loss']]\n",
    "    for name in names :\n",
    "        fig1, ax_acc = plt.subplots()\n",
    "        plt.plot(history.history[name[0]])\n",
    "        plt.plot(history.history[name[1]])\n",
    "        plt.xlabel('Epoch')\n",
    "        plt.ylabel(name[0])\n",
    "        plt.title('Model - ' + name[0])\n",
    "        plt.legend(['Training', 'Validation'], loc='lower right')\n",
    "        plt.grid()\n",
    "        plt.show()\n",
    "        \n",
    "evaluate_model_(history)"
   ]
  },
  {
   "cell_type": "markdown",
   "metadata": {},
   "source": [
    "### 0.6 Predict to all test dataset"
   ]
  },
  {
   "cell_type": "code",
   "execution_count": null,
   "metadata": {},
   "outputs": [],
   "source": [
    "y_pred = model.predict(x_test)"
   ]
  },
  {
   "cell_type": "markdown",
   "metadata": {},
   "source": [
    "- check prediction result "
   ]
  },
  {
   "cell_type": "code",
   "execution_count": null,
   "metadata": {},
   "outputs": [],
   "source": [
    "y_pred[0]"
   ]
  },
  {
   "cell_type": "code",
   "execution_count": null,
   "metadata": {},
   "outputs": [],
   "source": [
    "y_test.argmax(axis=1)[0] # get actual/target class"
   ]
  },
  {
   "cell_type": "code",
   "execution_count": null,
   "metadata": {},
   "outputs": [],
   "source": [
    "y_pred.argmax(axis=1)[0] # get predicted class"
   ]
  },
  {
   "cell_type": "code",
   "execution_count": null,
   "metadata": {},
   "outputs": [],
   "source": [
    "y_pred.max(axis=1)[0]*100 # get confidence level (%) "
   ]
  },
  {
   "cell_type": "code",
   "execution_count": null,
   "metadata": {},
   "outputs": [],
   "source": [
    "plt.scatter(x_test[:, 0], x_test[:, 1], c=y_pred.argmax(axis=1), s=5, cmap='rainbow')\n",
    "plt.grid()\n",
    "plt.show()"
   ]
  },
  {
   "cell_type": "markdown",
   "metadata": {},
   "source": [
    "### 0.7 Report Summary"
   ]
  },
  {
   "cell_type": "code",
   "execution_count": null,
   "metadata": {},
   "outputs": [],
   "source": [
    "def plot_confusion_matrix(cm, classes,\n",
    "                          normalize=False,\n",
    "                          title='Confusion matrix',\n",
    "                          cmap=plt.cm.Blues):\n",
    "    if normalize:\n",
    "        cm = cm.astype('float') / cm.sum(axis=1)[:, np.newaxis]\n",
    "\n",
    "    plt.figure(figsize=(5, 5))\n",
    "    \n",
    "    plt.imshow(cm, interpolation='nearest', cmap=cmap)\n",
    "    plt.title(title)\n",
    "    plt.colorbar()\n",
    "    \n",
    "    tick_marks = np.arange(len(classes))\n",
    "    plt.xticks(tick_marks, classes, rotation=45)\n",
    "    plt.yticks(tick_marks, classes)\n",
    "\n",
    "    fmt = '.2f' if normalize else 'd'\n",
    "    thresh = cm.max() / 2.\n",
    "    for i, j in itertools.product(range(cm.shape[0]), range(cm.shape[1])):\n",
    "        plt.text(j, i, format(cm[i, j], fmt),\n",
    "                 horizontalalignment=\"center\",\n",
    "                 color=\"white\" if cm[i, j] > thresh else \"black\")\n",
    "\n",
    "    plt.tight_layout()\n",
    "    plt.ylabel('True label')\n",
    "    plt.xlabel('Predicted label')\n",
    "    plt.show()"
   ]
  },
  {
   "cell_type": "code",
   "execution_count": null,
   "metadata": {},
   "outputs": [],
   "source": [
    "# Compute confusion matrix\n",
    "cnf_matrix = confusion_matrix(y_test.argmax(axis=1), y_pred.argmax(axis=1))\n",
    "np.set_printoptions(precision=2)\n",
    "\n",
    "\n",
    "# Plot non-normalized confusion matrix\n",
    "plot_confusion_matrix(cnf_matrix, classes=labels,normalize=False,\n",
    "                      title='Confusion matrix')\n"
   ]
  },
  {
   "cell_type": "code",
   "execution_count": null,
   "metadata": {},
   "outputs": [],
   "source": [
    "print(classification_report(y_test.argmax(axis=1), \n",
    "                            y_pred.argmax(axis=1)))"
   ]
  },
  {
   "cell_type": "markdown",
   "metadata": {},
   "source": [
    "____\n"
   ]
  },
  {
   "cell_type": "markdown",
   "metadata": {},
   "source": [
    "# 1. Face Recognition using (Convolution Neural Network) CNN"
   ]
  },
  {
   "cell_type": "code",
   "execution_count": 3,
   "metadata": {},
   "outputs": [],
   "source": [
    "from keras.layers import Conv2D, MaxPool2D, Flatten"
   ]
  },
  {
   "cell_type": "markdown",
   "metadata": {},
   "source": [
    "#### Convolution Layer\n",
    "\n",
    "- `keras.layers.Conv2d(filter, kernel_size, strides, padding, activation)`\n",
    "> 2D convolution layer (e.g. spatial convolution over images).\\\n",
    "> This layer creates a convolution kernel that is convolved with the layer input to produce a tensor of outputs.\n",
    "- parameter :\n",
    "    - `filter` : Integer, the dimensionality of the output space.\n",
    "    - `kernel_size` : kernel_size: An integer or tuple/list of 2 integers, specifying the height and width of the 2D convolution window.\n",
    "    - `strides` : An integer or tuple/list of 2 integers, specifying the strides of the convolution along the height and width.\n",
    "    - `padding` : one of `\"valid\"` or `\"same\"` (case-insensitive)\n",
    "    - `activation` : Activation function to use. (`relu`, `sigmoid`, `softmax`, `linear`, .etc)"
   ]
  },
  {
   "cell_type": "markdown",
   "metadata": {},
   "source": [
    "#### Max Pooling Layer\n",
    "\n",
    "- `keras.layers.MaxPool2D(pool_size, strides, padding)`\n",
    "> 2D Max pooling operation for spatial data.\n",
    "- parameter :\n",
    "    - `pool_size` : integer or tuple of 2 integers, factors by which to downscale.\n",
    "    - `strides` : An integer or tuple/list of 2 integers, specifying the strides of the convolution along the height and width.\n",
    "    - `padding` : one of `\"valid\"` or `\"same\"` (case-insensitive)"
   ]
  },
  {
   "cell_type": "markdown",
   "metadata": {},
   "source": [
    "#### Flatten Layer\n",
    "\n",
    "\n",
    "- `keras.layers.Flatten()`\n",
    "> Flattens the input data to 1D tensor.\n",
    "- parameter :\n",
    "    - N/A"
   ]
  },
  {
   "cell_type": "markdown",
   "metadata": {},
   "source": [
    "## 1.1 read image & convert to grayscale"
   ]
  },
  {
   "cell_type": "markdown",
   "metadata": {},
   "source": [
    "- Download Dataset : \n",
    "    - **LFW - images aligned with deep funneling** : http://vis-www.cs.umass.edu/lfw/\n",
    "    \n",
    "    \n",
    "- Dataset Structure :\n",
    "\n",
    "```\n",
    "datset\\\n",
    "    label_name_A\\\n",
    "        label_name_A_001.jpg\n",
    "        label_name_A_002.jpg\n",
    "        label_name_A_003.jpg\n",
    "        .\n",
    "        .\n",
    "    label_name_B\\\n",
    "        label_name_B_001.jpg\n",
    "        label_name_B_002.jpg\n",
    "        label_name_B_003.jpg\n",
    "        .\n",
    "        .\n",
    "```"
   ]
  },
  {
   "cell_type": "code",
   "execution_count": 4,
   "metadata": {},
   "outputs": [],
   "source": [
    "def detect_face(img):\n",
    "    img = img[70:195,78:172]\n",
    "    img = cv2.cvtColor(img, cv2.COLOR_BGR2GRAY)\n",
    "    img = cv2.resize(img, (50, 50))\n",
    "    return img"
   ]
  },
  {
   "cell_type": "code",
   "execution_count": 5,
   "metadata": {},
   "outputs": [],
   "source": [
    "def print_progress(val, val_len, folder, bar_size=20):\n",
    "    progr = \"#\"*round((val)*bar_size/val_len) + \" \"*round((val_len - (val))*bar_size/val_len)\n",
    "    if val == 0:\n",
    "        print(\"\", end = \"\\n\")\n",
    "    else:\n",
    "        print(\"[%s] (%d samples)\\t label : %s \\t\\t\" % (progr, val+1, folder), end=\"\\r\")"
   ]
  },
  {
   "cell_type": "code",
   "execution_count": 6,
   "metadata": {},
   "outputs": [
    {
     "name": "stdout",
     "output_type": "stream",
     "text": [
      "\n",
      "[####################] (77 samples)\t label : Ariel_Sharon \t\t\n",
      "[####################] (150 samples)\t label : Colin_Powell \t\t\n",
      "[####################] (121 samples)\t label : Donald_Rumsfeld \t\t\n",
      "[####################] (150 samples)\t label : George_W_Bush \t\t\n",
      "[####################] (109 samples)\t label : Gerhard_Schroeder \t\t\n",
      "[####################] (71 samples)\t label : Hugo_Chavez \t\t\n",
      "[####################] (52 samples)\t label : Jacques_Chirac \t\t\n",
      "[####################] (55 samples)\t label : Jean_Chretien \t\t\n",
      "[####################] (53 samples)\t label : John_Ashcroft \t\t\n",
      "[####################] (60 samples)\t label : Junichiro_Koizumi \t\t\n",
      "[####################] (52 samples)\t label : Serena_Williams \t\t\n",
      "[####################] (144 samples)\t label : Tony_Blair \t\t\n",
      "[####################] (51 samples)\t label : Yunus \t\t\r"
     ]
    }
   ],
   "source": [
    "dataset_folder = \"dataset/\"\n",
    "\n",
    "names = []\n",
    "images = []\n",
    "for folder in os.listdir(dataset_folder):\n",
    "    files = os.listdir(os.path.join(dataset_folder, folder))[:150]\n",
    "    if len(files) < 50 :\n",
    "        continue\n",
    "    for i, name in enumerate(files): \n",
    "        if name.find(\".jpg\") > -1 :\n",
    "            img = cv2.imread(os.path.join(dataset_folder + folder, name))\n",
    "            img = detect_face(img) # detect face using mtcnn and crop to 100x100\n",
    "            if img is not None :\n",
    "                images.append(img)\n",
    "                names.append(folder)\n",
    "\n",
    "                print_progress(i, len(files), folder)"
   ]
  },
  {
   "cell_type": "code",
   "execution_count": 7,
   "metadata": {},
   "outputs": [
    {
     "name": "stdout",
     "output_type": "stream",
     "text": [
      "number of samples : 1145\n"
     ]
    }
   ],
   "source": [
    "print(\"number of samples :\", len(names))"
   ]
  },
  {
   "cell_type": "markdown",
   "metadata": {},
   "source": [
    "### 1.1.A Image Augmentation\n",
    "- To solve problem with small dataset on some class, we can augmenting the data to increase number of sample.\n",
    "- Image augmentation is a set of transfomration like translation, rotation, grayscale color adjust, etc. "
   ]
  },
  {
   "cell_type": "code",
   "execution_count": 8,
   "metadata": {},
   "outputs": [],
   "source": [
    "def img_augmentation(img):\n",
    "    h, w = img.shape\n",
    "    center = (w // 2, h // 2)\n",
    "    M_rot_5 = cv2.getRotationMatrix2D(center, 5, 1.0)\n",
    "    M_rot_neg_5 = cv2.getRotationMatrix2D(center, -5, 1.0)\n",
    "    M_rot_10 = cv2.getRotationMatrix2D(center, 10, 1.0)\n",
    "    M_rot_neg_10 = cv2.getRotationMatrix2D(center, -10, 1.0)\n",
    "    M_trans_3 = np.float32([[1, 0, 3], [0, 1, 0]])\n",
    "    M_trans_neg_3 = np.float32([[1, 0, -3], [0, 1, 0]])\n",
    "    M_trans_6 = np.float32([[1, 0, 6], [0, 1, 0]])\n",
    "    M_trans_neg_6 = np.float32([[1, 0, -6], [0, 1, 0]])\n",
    "    M_trans_y3 = np.float32([[1, 0, 0], [0, 1, 3]])\n",
    "    M_trans_neg_y3 = np.float32([[1, 0, 0], [0, 1, -3]])\n",
    "    M_trans_y6 = np.float32([[1, 0, 0], [0, 1, 6]])\n",
    "    M_trans_neg_y6 = np.float32([[1, 0, 0], [0, 1, -6]])\n",
    "    \n",
    "    imgs = []\n",
    "    imgs.append(cv2.warpAffine(img, M_rot_5, (w, h), borderValue=(255,255,255)))\n",
    "    imgs.append(cv2.warpAffine(img, M_rot_neg_5, (w, h), borderValue=(255,255,255)))\n",
    "    imgs.append(cv2.warpAffine(img, M_rot_10, (w, h), borderValue=(255,255,255)))\n",
    "    imgs.append(cv2.warpAffine(img, M_rot_neg_10, (w, h), borderValue=(255,255,255)))\n",
    "    imgs.append(cv2.warpAffine(img, M_trans_3, (w, h), borderValue=(255,255,255)))\n",
    "    imgs.append(cv2.warpAffine(img, M_trans_neg_3, (w, h), borderValue=(255,255,255)))\n",
    "    imgs.append(cv2.warpAffine(img, M_trans_6, (w, h), borderValue=(255,255,255)))\n",
    "    imgs.append(cv2.warpAffine(img, M_trans_neg_6, (w, h), borderValue=(255,255,255)))\n",
    "    imgs.append(cv2.warpAffine(img, M_trans_y3, (w, h), borderValue=(255,255,255)))\n",
    "    imgs.append(cv2.warpAffine(img, M_trans_neg_y3, (w, h), borderValue=(255,255,255)))\n",
    "    imgs.append(cv2.warpAffine(img, M_trans_y6, (w, h), borderValue=(255,255,255)))\n",
    "    imgs.append(cv2.warpAffine(img, M_trans_neg_y6, (w, h), borderValue=(255,255,255)))\n",
    "    imgs.append(cv2.add(img, 10))\n",
    "    imgs.append(cv2.add(img, 30))\n",
    "    imgs.append(cv2.add(img, -10))\n",
    "    imgs.append(cv2.add(img, -30)) \n",
    "    imgs.append(cv2.add(img, 15))\n",
    "    imgs.append(cv2.add(img, 45))\n",
    "    imgs.append(cv2.add(img, -15))\n",
    "    imgs.append(cv2.add(img, -45))\n",
    "    \n",
    "    return imgs"
   ]
  },
  {
   "cell_type": "markdown",
   "metadata": {},
   "source": [
    "- test augmentation result"
   ]
  },
  {
   "cell_type": "code",
   "execution_count": 9,
   "metadata": {},
   "outputs": [
    {
     "data": {
      "text/plain": [
       "<matplotlib.image.AxesImage at 0x1784c132978>"
      ]
     },
     "execution_count": 9,
     "metadata": {},
     "output_type": "execute_result"
    },
    {
     "data": {
      "image/png": "[encoded data removed]",
      "text/plain": [
       "<Figure size 432x288 with 1 Axes>"
      ]
     },
     "metadata": {
      "needs_background": "light"
     },
     "output_type": "display_data"
    }
   ],
   "source": [
    "plt.imshow(images[0], cmap=\"gray\")"
   ]
  },
  {
   "cell_type": "code",
   "execution_count": 10,
   "metadata": {},
   "outputs": [
    {
     "data": {
      "image/png": "[encoded data removed]",
      "text/plain": [
       "<Figure size 1080x720 with 20 Axes>"
      ]
     },
     "metadata": {
      "needs_background": "light"
     },
     "output_type": "display_data"
    }
   ],
   "source": [
    "img_test = images[0]\n",
    "\n",
    "augmented_image_test = img_augmentation(img_test)\n",
    "\n",
    "plt.figure(figsize=(15,10))\n",
    "for i, img in enumerate(augmented_image_test):\n",
    "    plt.subplot(4,5,i+1)\n",
    "    plt.imshow(img, cmap=\"gray\")\n",
    "plt.show()"
   ]
  },
  {
   "cell_type": "markdown",
   "metadata": {},
   "source": [
    "- apply augmentation to all images"
   ]
  },
  {
   "cell_type": "code",
   "execution_count": 10,
   "metadata": {},
   "outputs": [],
   "source": [
    "augmented_images = []\n",
    "augmented_names = []\n",
    "for i, img in enumerate(images):\n",
    "    try :\n",
    "        augmented_images.extend(img_augmentation(img))\n",
    "        augmented_names.extend([names[i]] * 20)\n",
    "    except :\n",
    "        print(i)"
   ]
  },
  {
   "cell_type": "markdown",
   "metadata": {},
   "source": [
    "- total augmentation image"
   ]
  },
  {
   "cell_type": "code",
   "execution_count": 11,
   "metadata": {},
   "outputs": [
    {
     "data": {
      "text/plain": [
       "(22900, 22900)"
      ]
     },
     "execution_count": 11,
     "metadata": {},
     "output_type": "execute_result"
    }
   ],
   "source": [
    "len(augmented_images), len(augmented_names)"
   ]
  },
  {
   "cell_type": "code",
   "execution_count": 12,
   "metadata": {},
   "outputs": [],
   "source": [
    "images.extend(augmented_images)\n",
    "names.extend(augmented_names)"
   ]
  },
  {
   "cell_type": "markdown",
   "metadata": {},
   "source": [
    "- total images augmentation + original"
   ]
  },
  {
   "cell_type": "code",
   "execution_count": 13,
   "metadata": {},
   "outputs": [
    {
     "data": {
      "text/plain": [
       "(24045, 24045)"
      ]
     },
     "execution_count": 13,
     "metadata": {},
     "output_type": "execute_result"
    }
   ],
   "source": [
    "len(images), len(names)"
   ]
  },
  {
   "cell_type": "code",
   "execution_count": 14,
   "metadata": {},
   "outputs": [
    {
     "name": "stdout",
     "output_type": "stream",
     "text": [
      "('Ariel_Sharon', 1617)\n",
      "('Colin_Powell', 3150)\n",
      "('Donald_Rumsfeld', 2541)\n",
      "('George_W_Bush', 3150)\n",
      "('Gerhard_Schroeder', 2289)\n",
      "('Hugo_Chavez', 1491)\n",
      "('Jacques_Chirac', 1092)\n",
      "('Jean_Chretien', 1155)\n",
      "('John_Ashcroft', 1113)\n",
      "('Junichiro_Koizumi', 1260)\n",
      "('Serena_Williams', 1092)\n",
      "('Tony_Blair', 3024)\n",
      "('Yunus', 1071)\n"
     ]
    }
   ],
   "source": [
    "unique, counts = np.unique(names, return_counts = True)\n",
    "\n",
    "for item in zip(unique, counts):\n",
    "    print(item)"
   ]
  },
  {
   "cell_type": "markdown",
   "metadata": {},
   "source": [
    "### 1.1.B Balancing Data"
   ]
  },
  {
   "cell_type": "code",
   "execution_count": null,
   "metadata": {},
   "outputs": [],
   "source": [
    "# preview data distribution\n",
    "\n",
    "def print_data(label_distr, label_name):\n",
    "    plt.figure(figsize=(12,6))\n",
    "\n",
    "    my_circle = plt.Circle( (0,0), 0.7, color='white')\n",
    "    plt.pie(label_distr, labels=label_name, autopct='%1.1f%%')\n",
    "    plt.gcf().gca().add_artist(my_circle)\n",
    "    plt.show()\n",
    "    \n",
    "unique = np.unique(names)\n",
    "label_distr = {i:names.count(i) for i in names}.values()\n",
    "print_data(label_distr, unique)"
   ]
  },
  {
   "cell_type": "code",
   "execution_count": null,
   "metadata": {},
   "outputs": [],
   "source": [
    "# reduce sample size per-class using numpy random choice\n",
    "n = 1000\n",
    "\n",
    "def randc(labels, l):\n",
    "    return np.random.choice(np.where(np.array(labels) == l)[0], n, replace=False)\n",
    "\n",
    "mask = np.hstack([randc(names, l) for l in np.unique(names)])"
   ]
  },
  {
   "cell_type": "code",
   "execution_count": null,
   "metadata": {},
   "outputs": [],
   "source": [
    "names = [names[m] for m in mask]\n",
    "images = [images[m] for m in mask]"
   ]
  },
  {
   "cell_type": "code",
   "execution_count": null,
   "metadata": {},
   "outputs": [],
   "source": [
    "label_distr = {i:names.count(i) for i in names}.values()\n",
    "print_data(label_distr, unique)"
   ]
  },
  {
   "cell_type": "code",
   "execution_count": null,
   "metadata": {},
   "outputs": [],
   "source": [
    "len(names)"
   ]
  },
  {
   "cell_type": "markdown",
   "metadata": {},
   "source": [
    "### 1.2 Encoding Label & Categoricalization\n",
    "\n",
    "![](resource/encoding.png)"
   ]
  },
  {
   "cell_type": "code",
   "execution_count": 15,
   "metadata": {},
   "outputs": [],
   "source": [
    "le = LabelEncoder()\n",
    "\n",
    "le.fit(names)\n",
    "\n",
    "labels = le.classes_\n",
    "\n",
    "name_vec = le.transform(names)\n",
    "\n",
    "categorical_name_vec = to_categorical(name_vec)"
   ]
  },
  {
   "cell_type": "code",
   "execution_count": 16,
   "metadata": {},
   "outputs": [
    {
     "name": "stdout",
     "output_type": "stream",
     "text": [
      "number of class : 13\n",
      "['Ariel_Sharon' 'Colin_Powell' 'Donald_Rumsfeld' 'George_W_Bush'\n",
      " 'Gerhard_Schroeder' 'Hugo_Chavez' 'Jacques_Chirac' 'Jean_Chretien'\n",
      " 'John_Ashcroft' 'Junichiro_Koizumi' 'Serena_Williams' 'Tony_Blair'\n",
      " 'Yunus']\n"
     ]
    }
   ],
   "source": [
    "print(\"number of class :\", len(labels))\n",
    "print(labels)"
   ]
  },
  {
   "cell_type": "code",
   "execution_count": 17,
   "metadata": {},
   "outputs": [
    {
     "name": "stdout",
     "output_type": "stream",
     "text": [
      "[ 0  0  0 ... 12 12 12]\n"
     ]
    }
   ],
   "source": [
    "print(name_vec)"
   ]
  },
  {
   "cell_type": "code",
   "execution_count": 18,
   "metadata": {},
   "outputs": [
    {
     "name": "stdout",
     "output_type": "stream",
     "text": [
      "[[1. 0. 0. ... 0. 0. 0.]\n",
      " [1. 0. 0. ... 0. 0. 0.]\n",
      " [1. 0. 0. ... 0. 0. 0.]\n",
      " ...\n",
      " [0. 0. 0. ... 0. 0. 1.]\n",
      " [0. 0. 0. ... 0. 0. 1.]\n",
      " [0. 0. 0. ... 0. 0. 1.]]\n"
     ]
    }
   ],
   "source": [
    "print(categorical_name_vec)"
   ]
  },
  {
   "cell_type": "markdown",
   "metadata": {},
   "source": [
    "### 1.3 Split Dataset"
   ]
  },
  {
   "cell_type": "code",
   "execution_count": 19,
   "metadata": {},
   "outputs": [],
   "source": [
    "x_train, x_test, y_train, y_test = train_test_split(np.array(images, dtype=np.float32),   # input data\n",
    "                                                    np.array(categorical_name_vec),       # target/output data \n",
    "                                                    test_size=0.15, \n",
    "                                                    random_state=42)"
   ]
  },
  {
   "cell_type": "code",
   "execution_count": 20,
   "metadata": {},
   "outputs": [
    {
     "name": "stdout",
     "output_type": "stream",
     "text": [
      "(20438, 50, 50) (20438, 13) (3607, 50, 50) (3607, 13)\n"
     ]
    }
   ],
   "source": [
    "print(x_train.shape, y_train.shape, x_test.shape,  y_test.shape)"
   ]
  },
  {
   "cell_type": "markdown",
   "metadata": {},
   "source": [
    "### 1.4 Reshape Data"
   ]
  },
  {
   "cell_type": "code",
   "execution_count": 21,
   "metadata": {},
   "outputs": [],
   "source": [
    "x_train = x_train.reshape(x_train.shape[0], x_train.shape[1], x_train.shape[2], 1)\n",
    "x_test = x_test.reshape(x_test.shape[0], x_test.shape[1], x_test.shape[2], 1)"
   ]
  },
  {
   "cell_type": "code",
   "execution_count": 22,
   "metadata": {},
   "outputs": [
    {
     "data": {
      "text/plain": [
       "((20438, 50, 50, 1), (3607, 50, 50, 1))"
      ]
     },
     "execution_count": 22,
     "metadata": {},
     "output_type": "execute_result"
    }
   ],
   "source": [
    "x_train.shape, x_test.shape"
   ]
  },
  {
   "cell_type": "markdown",
   "metadata": {},
   "source": [
    "### 1.4 Create CNN Model"
   ]
  },
  {
   "cell_type": "code",
   "execution_count": 23,
   "metadata": {},
   "outputs": [],
   "source": [
    "def cnn_model(input_shape):  \n",
    "    model = Sequential()\n",
    "    \n",
    "    model.add(Conv2D(64,\n",
    "                    (3,3),\n",
    "                    padding=\"valid\",\n",
    "                    activation=\"relu\",\n",
    "                    input_shape=input_shape))\n",
    "    model.add(Conv2D(64,\n",
    "                    (3,3),\n",
    "                    padding=\"valid\",\n",
    "                    activation=\"relu\",\n",
    "                    input_shape=input_shape))\n",
    "    \n",
    "    model.add(MaxPool2D(pool_size=(2, 2)))\n",
    "    \n",
    "    model.add(Conv2D(128,\n",
    "                    (3,3),\n",
    "                    padding=\"valid\",\n",
    "                    activation=\"relu\"))\n",
    "    model.add(Conv2D(128,\n",
    "                    (3,3),\n",
    "                    padding=\"valid\",\n",
    "                    activation=\"relu\"))\n",
    "    model.add(MaxPool2D(pool_size=(2, 2)))\n",
    "    \n",
    "    model.add(Flatten())\n",
    "    \n",
    "    model.add(Dense(128, activation=\"relu\"))\n",
    "    model.add(Dense(64, activation=\"relu\"))\n",
    "    model.add(Dense(len(labels)))  # equal to number of classes\n",
    "    model.add(Activation(\"softmax\"))\n",
    "    \n",
    "    model.summary() \n",
    "    \n",
    "    model.compile(optimizer='adam', \n",
    "                  loss='categorical_crossentropy',\n",
    "                  metrics = ['accuracy'])\n",
    "\n",
    "    return model"
   ]
  },
  {
   "cell_type": "markdown",
   "metadata": {},
   "source": [
    "### 1.5 Training CNN Model"
   ]
  },
  {
   "cell_type": "code",
   "execution_count": null,
   "metadata": {
    "scrolled": true
   },
   "outputs": [
    {
     "name": "stdout",
     "output_type": "stream",
     "text": [
      "_________________________________________________________________\n",
      "Layer (type)                 Output Shape              Param #   \n",
      "=================================================================\n",
      "conv2d_1 (Conv2D)            (None, 48, 48, 64)        640       \n",
      "_________________________________________________________________\n",
      "conv2d_2 (Conv2D)            (None, 46, 46, 64)        36928     \n",
      "_________________________________________________________________\n",
      "max_pooling2d_1 (MaxPooling2 (None, 23, 23, 64)        0         \n",
      "_________________________________________________________________\n",
      "conv2d_3 (Conv2D)            (None, 21, 21, 128)       73856     \n",
      "_________________________________________________________________\n",
      "conv2d_4 (Conv2D)            (None, 19, 19, 128)       147584    \n",
      "_________________________________________________________________\n",
      "max_pooling2d_2 (MaxPooling2 (None, 9, 9, 128)         0         \n",
      "_________________________________________________________________\n",
      "flatten_1 (Flatten)          (None, 10368)             0         \n",
      "_________________________________________________________________\n",
      "dense_1 (Dense)              (None, 128)               1327232   \n",
      "_________________________________________________________________\n",
      "dense_2 (Dense)              (None, 64)                8256      \n",
      "_________________________________________________________________\n",
      "dense_3 (Dense)              (None, 13)                845       \n",
      "_________________________________________________________________\n",
      "activation_1 (Activation)    (None, 13)                0         \n",
      "=================================================================\n",
      "Total params: 1,595,341\n",
      "Trainable params: 1,595,341\n",
      "Non-trainable params: 0\n",
      "_________________________________________________________________\n",
      "Train on 17372 samples, validate on 3066 samples\n",
      "Epoch 1/10\n",
      "17372/17372 [==============================] - 184s 11ms/step - loss: 14.0105 - acc: 0.1302 - val_loss: 14.0678 - val_acc: 0.1272\n",
      "Epoch 2/10\n",
      " 1952/17372 [==>...........................] - ETA: 2:05 - loss: 14.0455 - acc: 0.1286"
     ]
    }
   ],
   "source": [
    "input_shape = x_train[0].shape\n",
    "\n",
    "EPOCHS = 10\n",
    "BATCH_SIZE = 32\n",
    "\n",
    "model = cnn_model(input_shape)\n",
    "\n",
    "history = model.fit(x_train, \n",
    "                    y_train,\n",
    "                    epochs=EPOCHS,\n",
    "                    batch_size=BATCH_SIZE,\n",
    "                    shuffle=True,\n",
    "                    validation_split=0.15   # 15% of train dataset will be used as validation set\n",
    "                    )"
   ]
  },
  {
   "cell_type": "markdown",
   "metadata": {},
   "source": [
    "- jalankan training dengan `EPOCHS` dan `BATCH_SIZE` yang telah diset.\n",
    "- `BATCH_SIZE` merupakan banyaknya sample yang akan di propagasikan kedalam Network\n",
    "- Benefit menggunakan `BATCH_SIZE` < training sample\n",
    "    - less memory to consume : karena menggunakan sedikit data saat diproses dalam network\n",
    "    - network lebih cepat melakukan proses learning \n",
    "- Penggunaan `BATCH_SIZE` terlalu kecil dapat mengakibatkan gradient update fluktuatif\n",
    "- 1 `EPOCH` artinya 1 forwardpass dan backwardpass untuk keseluruhan training sample\n",
    "- Jumlah `ITERASI` banyaknya forwardpass dan backwardpass untuk tiap `BATCH_SIZE`\n",
    "- contoh :\n",
    "    - kita memiliki 1000 training sample\n",
    "    - kita pilih `BATCH_SIZE` 10 dan `EPOCH` 5\n",
    "    - sehingga pada tiap `EPOCH` akan dilakukan forwardpass dan backwardpass untuk 1000 training sample yang dibagi meenjadi 10 batch, dimana tiap batch nya akan diproses 100 sample.\n",
    "    - Proses ini akan menghasilkan setidaknya 100x5 iterasi (forwardpass dan backwardpass)."
   ]
  },
  {
   "cell_type": "markdown",
   "metadata": {},
   "source": [
    "- Plot history accuracy , precision dan recall untuk training set dan validation set "
   ]
  },
  {
   "cell_type": "code",
   "execution_count": null,
   "metadata": {},
   "outputs": [],
   "source": [
    "def evaluate_model_(history):\n",
    "    names = [['acc', 'val_acc'], \n",
    "             ['loss', 'val_loss']]\n",
    "    for name in names :\n",
    "        fig1, ax_acc = plt.subplots()\n",
    "        plt.plot(history.history[name[0]])\n",
    "        plt.plot(history.history[name[1]])\n",
    "        plt.xlabel('Epoch')\n",
    "        plt.ylabel(name[0])\n",
    "        plt.title('Model - ' + name[0])\n",
    "        plt.legend(['Training', 'Validation'], loc='lower right')\n",
    "        plt.grid()\n",
    "        plt.show()\n",
    "        \n",
    "evaluate_model_(history)"
   ]
  },
  {
   "cell_type": "markdown",
   "metadata": {},
   "source": [
    "- pada plot accuracy untuk validation data terlihat lebih **fluktuatif**, apakah ini normal?\n",
    "- ini bisa diakibatkan oleh `BATCH_SIZE` yang **terlalu kecil**, seperti contohnya jika pada dataset terdapat misslabeled data yang mengakibatkan nilai loss meningkat atau menjauhkannya dari local minima.\n",
    "- efek ini bisa dihindari jika kita memilih `BATCH_SIZE` lebih besar. \n",
    "- Namun `BATCH_SIZE` yang **terlalu besar** dapat mengakibatkan **training** process menjadi lebih berat dan **lambat**.\n",
    "- selain itu `BATCH_SIZE` **terlalu besar** akan mengakibatkan **generalization** pada model menjadi **jelek** (sumber [link](https://medium.com/mini-distill/effect-of-batch-size-on-training-dynamics-21c14f7a716e#:~:text=large%20batch%20size%20means%20the,all%20about%20the%20same%20size.))\n",
    "- **Generalization** merupakan salah satu kemampuan Neural Network yang artinya model mampu mengklasifikasikan data yang tidak pernah dilihat sebelumnya (*unseen data*) (sumber [link](http://www.eie.polyu.edu.hk/~enzheru/snns/SNNSinfo/UserManual/node16.html#:~:text=Learning%20in%20Neural-,Generalization%20of%20Neural%20Networks,it%20has%20never%20seen%20before.))"
   ]
  },
  {
   "cell_type": "markdown",
   "metadata": {},
   "source": [
    "- save model"
   ]
  },
  {
   "cell_type": "code",
   "execution_count": null,
   "metadata": {},
   "outputs": [],
   "source": [
    "model.save(\"model-cnn-facerecognition.h5\")"
   ]
  },
  {
   "cell_type": "markdown",
   "metadata": {},
   "source": [
    "- predict to all test dataset"
   ]
  },
  {
   "cell_type": "code",
   "execution_count": null,
   "metadata": {},
   "outputs": [],
   "source": [
    "# predict test data\n",
    "y_pred=model.predict(x_test)"
   ]
  },
  {
   "cell_type": "markdown",
   "metadata": {},
   "source": [
    "- plot confusion matrix"
   ]
  },
  {
   "cell_type": "code",
   "execution_count": null,
   "metadata": {},
   "outputs": [],
   "source": [
    "def plot_confusion_matrix(cm, classes,\n",
    "                          normalize=False,\n",
    "                          title='Confusion matrix',\n",
    "                          cmap=plt.cm.Blues):\n",
    "    if normalize:\n",
    "        cm = cm.astype('float') / cm.sum(axis=1)[:, np.newaxis]\n",
    "\n",
    "    plt.figure(figsize=(8, 8))\n",
    "    \n",
    "    plt.imshow(cm, interpolation='nearest', cmap=cmap)\n",
    "    plt.title(title)\n",
    "    plt.colorbar()\n",
    "    \n",
    "    tick_marks = np.arange(len(classes))\n",
    "    plt.xticks(tick_marks, classes, rotation=45)\n",
    "    plt.yticks(tick_marks, classes)\n",
    "\n",
    "    fmt = '.2f' if normalize else 'd'\n",
    "    thresh = cm.max() / 2.\n",
    "    for i, j in itertools.product(range(cm.shape[0]), range(cm.shape[1])):\n",
    "        plt.text(j, i, format(cm[i, j], fmt),\n",
    "                 horizontalalignment=\"center\",\n",
    "                 color=\"white\" if cm[i, j] > thresh else \"black\")\n",
    "\n",
    "    plt.tight_layout()\n",
    "    plt.ylabel('True label')\n",
    "    plt.xlabel('Predicted label')\n",
    "    plt.show()"
   ]
  },
  {
   "cell_type": "code",
   "execution_count": null,
   "metadata": {},
   "outputs": [],
   "source": [
    "# Compute confusion matrix\n",
    "cnf_matrix = confusion_matrix(y_test.argmax(axis=1), y_pred.argmax(axis=1))\n",
    "np.set_printoptions(precision=2)\n",
    "\n",
    "\n",
    "# Plot non-normalized confusion matrix\n",
    "plot_confusion_matrix(cnf_matrix, classes=labels,normalize=False,\n",
    "                      title='Confusion matrix')\n"
   ]
  },
  {
   "cell_type": "markdown",
   "metadata": {},
   "source": [
    "- Calculate metric report menggunakan `classification_report()` pada `scikit-learn` "
   ]
  },
  {
   "cell_type": "code",
   "execution_count": null,
   "metadata": {},
   "outputs": [],
   "source": [
    "print(classification_report(y_test.argmax(axis=1), \n",
    "                            y_pred.argmax(axis=1), \n",
    "                            target_names=labels))"
   ]
  },
  {
   "cell_type": "code",
   "execution_count": null,
   "metadata": {},
   "outputs": [],
   "source": []
  },
  {
   "cell_type": "markdown",
   "metadata": {},
   "source": [
    "___"
   ]
  },
  {
   "cell_type": "markdown",
   "metadata": {},
   "source": [
    "# Apply Our Face Dataset"
   ]
  },
  {
   "cell_type": "markdown",
   "metadata": {},
   "source": [
    "- create new class data from yout face"
   ]
  },
  {
   "cell_type": "code",
   "execution_count": null,
   "metadata": {},
   "outputs": [],
   "source": [
    "cap = cv2.VideoCapture(0)\n",
    "\n",
    "my_name = \"Yunus\"\n",
    "os.mkdir(dataset_folder + my_name)\n",
    "num_sample = 50\n",
    "\n",
    "i = 0\n",
    "while cap.isOpened():\n",
    "    ret, frame = cap.read()\n",
    "    \n",
    "    if ret :\n",
    "        cv2.imshow(\"Capture Photo\", frame)\n",
    "        cv2.imwrite(\"dataset/%s/%s_%04d.jpg\" %  (my_name, my_name, i), cv2.resize(frame, (250,250)))\n",
    "        \n",
    "        if cv2.waitKey(100) == ord('q') or i == num_sample:\n",
    "            break\n",
    "        i += 1    \n",
    "cap.release()\n",
    "cv2.destroyAllWindows()"
   ]
  },
  {
   "cell_type": "markdown",
   "metadata": {},
   "source": [
    "- Rerun Load dataset, Traing & Test Model"
   ]
  },
  {
   "cell_type": "markdown",
   "metadata": {},
   "source": [
    "___\n",
    "## Facerecognition on Video Frame"
   ]
  },
  {
   "cell_type": "code",
   "execution_count": null,
   "metadata": {},
   "outputs": [],
   "source": [
    "from keras.models import load_model"
   ]
  },
  {
   "cell_type": "code",
   "execution_count": null,
   "metadata": {},
   "outputs": [],
   "source": [
    "def draw_ped(img, label, x0, y0, xt, yt, color=(255,127,0), text_color=(255,255,255)):\n",
    "\n",
    "    (w, h), baseline = cv2.getTextSize(label, cv2.FONT_HERSHEY_SIMPLEX, 0.5, 1)\n",
    "    cv2.rectangle(img,\n",
    "                  (x0, y0 + baseline),  \n",
    "                  (max(xt, x0 + w), yt), \n",
    "                  color, \n",
    "                  2)\n",
    "    cv2.rectangle(img,\n",
    "                  (x0, y0 - h),  \n",
    "                  (x0 + w, y0 + baseline), \n",
    "                  color, \n",
    "                  -1)  \n",
    "    cv2.putText(img, \n",
    "                label, \n",
    "                (x0, y0),                   \n",
    "                cv2.FONT_HERSHEY_SIMPLEX,     \n",
    "                0.5,                          \n",
    "                text_color,                \n",
    "                1,\n",
    "                cv2.LINE_AA) \n",
    "    return img"
   ]
  },
  {
   "cell_type": "code",
   "execution_count": null,
   "metadata": {},
   "outputs": [],
   "source": [
    "# --------- load Haar Cascade model -------------\n",
    "face_cascade = cv2.CascadeClassifier('haarcascades/haarcascade_frontalface_default.xml')\n",
    "\n",
    "# --------- load Keras CNN model -------------\n",
    "model = load_model(\"model-cnn-facerecognition.h5\")\n",
    "print(\"[INFO] finish load model...\")\n",
    "\n",
    "cap = cv2.VideoCapture(0)\n",
    "while cap.isOpened() :\n",
    "    ret, frame = cap.read()\n",
    "    if ret:\n",
    "        gray = cv2.cvtColor(frame, cv2.COLOR_BGR2GRAY)\n",
    "        faces = face_cascade.detectMultiScale(gray, 1.1, 5)\n",
    "        for (x, y, w, h) in faces:\n",
    "            \n",
    "            face_img = gray[y:y+h, x:x+w]\n",
    "            face_img = cv2.resize(face_img, (50, 50))\n",
    "            face_img = face_img.reshape(1, 50, 50, 1)\n",
    "            \n",
    "            result = model.predict(face_img)\n",
    "            idx = result.argmax(axis=1)\n",
    "            confidence = result.max(axis=1)*100\n",
    "            if confidence > 80:\n",
    "                label_text = \"%s (%.2f %%)\" % (labels[idx], confidence)\n",
    "            else :\n",
    "                label_text = \"N/A\"\n",
    "            frame = draw_ped(frame, label_text, x, y, x + w, y + h, color=(0,255,255), text_color=(50,50,50))\n",
    "       \n",
    "        cv2.imshow('Detect Face', frame)\n",
    "    else :\n",
    "        break\n",
    "    if cv2.waitKey(10) == ord('q'):\n",
    "        break\n",
    "        \n",
    "cv2.destroyAllWindows()\n",
    "cap.release()"
   ]
  },
  {
   "cell_type": "code",
   "execution_count": null,
   "metadata": {},
   "outputs": [],
   "source": []
  }
 ],
 "metadata": {
  "kernelspec": {
   "display_name": "Python [conda env:GPU_ENV]",
   "language": "python",
   "name": "conda-env-GPU_ENV-py"
  },
  "language_info": {
   "codemirror_mode": {
    "name": "ipython",
    "version": 3
   },
   "file_extension": ".py",
   "mimetype": "text/x-python",
   "name": "python",
   "nbconvert_exporter": "python",
   "pygments_lexer": "ipython3",
   "version": "3.6.12"
  }
 },
 "nbformat": 4,
 "nbformat_minor": 4
}
