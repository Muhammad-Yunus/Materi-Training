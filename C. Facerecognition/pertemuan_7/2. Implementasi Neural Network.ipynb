{
 "cells": [
  {
   "cell_type": "markdown",
   "metadata": {},
   "source": [
    "![](resource/ml_workflow.png)\n",
    "\n",
    "#### Previous Implementation\n",
    "- Face Detection : **Haar Cascade Classifier**\n",
    "    - Pros : \n",
    "            - processing speed  \n",
    "    - Cons : \n",
    "            - face need to be align to front\n",
    "    \n",
    "- Feature Extraction (Facial Descriptor) : **Local Binary Pattern Histogram (LBPH)**\n",
    "    - Pros : \n",
    "            - high discriminative, \n",
    "            - invariance to grayscale, \n",
    "            - simple computation.\n",
    "    - Cons : \n",
    "            - performace degradation to large dataset, \n",
    "            - miss the local structure, \n",
    "            - sensitive to noise.\n",
    "    \n",
    "- Classifier : **Support Vector Machine**\n",
    "    - Pros : \n",
    "            - works well on clear margin of separation,\n",
    "            - effective in high dimensional spaces,\n",
    "            - effective in cases where the number of dimensions is greater than the number of samples.\n",
    "    - Cons :\n",
    "            - doesn’t perform very well, when the data set has more noise i.e. target classes are overlapping,\n",
    "            - doesn’t directly provide probability estimates."
   ]
  },
  {
   "cell_type": "markdown",
   "metadata": {},
   "source": [
    "___\n",
    "![](resource/dl_workflow.png)\n",
    "\n",
    "#### Next Implementation\n",
    "- Deep Learning Algorithm :\n",
    "    - Deep Neural Network\n",
    "    - Convolution Nural Network\n",
    "    - Recurrent Neural Netwrork\n",
    "- Model Task :\n",
    "    - Detection (Face Detection)\n",
    "    - Feature Extraction \n",
    "    - Classification "
   ]
  },
  {
   "cell_type": "code",
   "execution_count": 4,
   "metadata": {},
   "outputs": [],
   "source": [
    "import os\n",
    "import cv2\n",
    "import itertools\n",
    "import numpy as np\n",
    "import matplotlib.pyplot as plt\n",
    "\n",
    "from sklearn.preprocessing import LabelEncoder\n",
    "from sklearn.model_selection import train_test_split\n",
    "from sklearn.metrics import classification_report\n",
    "from sklearn.metrics import confusion_matrix"
   ]
  },
  {
   "cell_type": "code",
   "execution_count": 5,
   "metadata": {},
   "outputs": [],
   "source": [
    "import keras\n",
    "from keras.models import Sequential, Model\n",
    "from keras.layers import Dense, Activation, Input\n",
    "\n",
    "from keras.utils import to_categorical\n"
   ]
  },
  {
   "cell_type": "markdown",
   "metadata": {},
   "source": [
    "___\n",
    "# Keras Library\n",
    "- Keras API : https://keras.io/api/\n",
    "\n",
    "### Keras Base Model `Sequential`\n",
    "- Membuat model pad Keras :\n",
    ">```\n",
    "from keras.models import Sequential\n",
    "model = Sequential()\n",
    "model.add(...)\n",
    "model.add(...)\n",
    "model.add(...)\n",
    ">```\n",
    "- `keras.Sequential()`\n",
    "    - `Sequential` groups a **linear stack** of layers into a `tf.keras.Model`.\n",
    "    - `Sequential` provides training and inference features on this model.\n",
    "    - use `model.add()` to add neural network layer into sequential model.<br><br><br>\n",
    "\n",
    "### Dense Layer (Fully Connected Layer)\n",
    "- `keras.layers.Dense()` : Fully Conneted Layer Neural Network.\n",
    "- Add input layer pada Keras : **Layer pertama** pada Keras harus menyertakan `input_dim` atau `input_shape`,\n",
    ">```\n",
    "Dense(16, input_dim=8)\n",
    ">```\n",
    "- Hidden layer & Activation Layer\n",
    ">```\n",
    "Dense(16, activation='relu')\n",
    ">```\n",
    "- atau dapat ditulis sebagai berikut secara terpisah :\n",
    ">```\n",
    "Dense(16)\n",
    "Activation(\"relu\")\n",
    ">```\n",
    "- contoh Dense Layer :\n",
    ">```\n",
    "Input(3)\n",
    "Dense(5)\n",
    "Dense(2)\n",
    ">```\n",
    "\n",
    "<img src=\"resource/fcnn3.png\" class=\"width:200px\"></img>\n",
    "\n",
    "### Training Model\n",
    "- config network menggunakan `model.compile()`\n",
    "    - loss \n",
    "    - optimizer\n",
    "    - metric\n",
    ">```\n",
    "model.compile(optimizer='adam', \n",
    "          loss='categorical_crossentropy',\n",
    "          metrics = ['accuracy'])\n",
    ">```\n",
    "\n",
    "\n",
    "- training model menggunakan `model.fit()`:\n",
    ">```\n",
    "model.fit(X, y, epochs=, batch_size=)\n",
    ">```"
   ]
  },
  {
   "cell_type": "markdown",
   "metadata": {},
   "source": [
    "### Jenis Optimizer di Keras\n",
    "- SGD\n",
    "- RMSprop\n",
    "- Adam\n",
    "- Adadelta\n",
    "- Adagrad\n",
    "- Adamax\n",
    "- Nadam\n",
    "- selengkapnya : https://keras.io/api/optimizers/\n",
    "\n",
    "#### SGD vs Adam Optimizer\n",
    "- SGD Optimizer\n",
    ">```\n",
    "tf.keras.optimizers.SGD(\n",
    "    learning_rate=0.01, \n",
    "    momentum=0.0, \n",
    "    nesterov=False, \n",
    "    name=\"SGD\", \n",
    "    **kwargs\n",
    ")\n",
    ">```\n",
    "- Adam Optimizer (adaptive moment estimation)\n",
    ">```\n",
    "tf.keras.optimizers.Adam(\n",
    "    learning_rate=0.001,\n",
    "    beta_1=0.9,\n",
    "    beta_2=0.999,\n",
    "    epsilon=1e-07,\n",
    "    amsgrad=False,\n",
    "    name=\"Adam\",\n",
    "    **kwargs\n",
    ")\n",
    ">```\n",
    "\n",
    "\n",
    "### Jenis Loss Di Keras\n",
    "- **Probabilistic losses**\n",
    "    - BinaryCrossentropy class\n",
    "    - CategoricalCrossentropy class\n",
    "- **Regression losses**\n",
    "    - MeanSquaredError class\n",
    "- selengkapnya : https://keras.io/api/losses/\n",
    "\n",
    "### Jenis Metric di Keras\n",
    "- **Accuracy metrics**\n",
    "    - Accuracy class \n",
    "- ~~**Classification metrics based on True/False positives & negatives**~~ \n",
    "    - ~~Precision class~~ \n",
    "    - ~~Recall class~~\n",
    "- Precision & Recall di hilagkan dari `keras` 2.0 keatas [sumber](https://github.com/keras-team/keras/wiki/Keras-2.0-release-notes)\n",
    "- selengkapnya : https://keras.io/api/metrics/"
   ]
  },
  {
   "cell_type": "markdown",
   "metadata": {},
   "source": [
    "___\n",
    "# 0. Neural Network (Simple Keras Implementation)"
   ]
  },
  {
   "cell_type": "markdown",
   "metadata": {},
   "source": [
    "### 0.1 Generate Dateset (rundom number with 5 class data)"
   ]
  },
  {
   "cell_type": "code",
   "execution_count": 3,
   "metadata": {},
   "outputs": [],
   "source": [
    "def generate_dataset(size, classes=5, noise=10.5):\n",
    "    # Generate random datapoints\n",
    "    labels = np.random.randint(0, classes, size)\n",
    "    x1 = (np.random.rand(size) + labels) / classes\n",
    "    x2 = x1**2 + np.random.rand(size) * noise\n",
    "    \n",
    "    # Reshape data in order to merge them\n",
    "    x1 = x1.reshape(size, 1)\n",
    "    x2 = x2.reshape(size, 1)\n",
    "    labels = labels.reshape(size, 1)\n",
    "   \n",
    "    # Merge the data\n",
    "    data = np.hstack((x1, x2, labels))\n",
    "    return data"
   ]
  },
  {
   "cell_type": "code",
   "execution_count": 4,
   "metadata": {},
   "outputs": [],
   "source": [
    "dataset = generate_dataset(100)"
   ]
  },
  {
   "cell_type": "code",
   "execution_count": 5,
   "metadata": {
    "scrolled": true
   },
   "outputs": [
    {
     "data": {
      "text/plain": [
       "array([[5.75174418e-01, 5.99617276e+00, 2.00000000e+00],\n",
       "       [9.38871240e-01, 1.05704927e+01, 4.00000000e+00],\n",
       "       [1.91746934e-01, 6.03511442e+00, 0.00000000e+00],\n",
       "       [7.61823566e-01, 8.10881206e+00, 3.00000000e+00],\n",
       "       [1.32240979e-01, 5.78108629e+00, 0.00000000e+00],\n",
       "       [8.28449312e-01, 2.81768992e+00, 4.00000000e+00],\n",
       "       [1.00869274e-01, 6.94586195e+00, 0.00000000e+00],\n",
       "       [2.42088891e-01, 1.05160708e+01, 1.00000000e+00],\n",
       "       [1.24719393e-01, 5.75768196e+00, 0.00000000e+00],\n",
       "       [5.26634127e-01, 8.32039662e-01, 2.00000000e+00],\n",
       "       [4.88844189e-02, 1.05008772e+01, 0.00000000e+00],\n",
       "       [7.62062158e-01, 6.05049008e+00, 3.00000000e+00],\n",
       "       [8.94829630e-01, 4.19893579e+00, 4.00000000e+00],\n",
       "       [2.59293706e-01, 6.24020466e+00, 1.00000000e+00],\n",
       "       [1.13055041e-01, 1.05063541e+01, 0.00000000e+00],\n",
       "       [4.51088181e-02, 9.53336085e-01, 0.00000000e+00],\n",
       "       [5.34106565e-02, 4.55199220e+00, 0.00000000e+00],\n",
       "       [1.64512234e-01, 3.76639504e+00, 0.00000000e+00],\n",
       "       [7.03688968e-01, 3.14339468e+00, 3.00000000e+00],\n",
       "       [2.09311150e-01, 1.01350027e+01, 1.00000000e+00],\n",
       "       [5.70564936e-01, 9.31641642e+00, 2.00000000e+00],\n",
       "       [6.21994545e-01, 2.43202653e+00, 3.00000000e+00],\n",
       "       [1.93113880e-01, 1.70121385e+00, 0.00000000e+00],\n",
       "       [1.30565825e-02, 7.75796624e+00, 0.00000000e+00],\n",
       "       [1.99193576e-01, 8.82243428e+00, 0.00000000e+00],\n",
       "       [2.34181946e-01, 1.82169094e+00, 1.00000000e+00],\n",
       "       [2.75880721e-01, 8.67296463e+00, 1.00000000e+00],\n",
       "       [7.05865445e-01, 4.72724485e+00, 3.00000000e+00],\n",
       "       [6.72630261e-01, 9.90262404e+00, 3.00000000e+00],\n",
       "       [8.61917833e-01, 3.16072709e+00, 4.00000000e+00],\n",
       "       [5.66742384e-01, 7.98070709e+00, 2.00000000e+00],\n",
       "       [3.41809529e-01, 4.25453930e+00, 1.00000000e+00],\n",
       "       [2.11613391e-01, 2.71520860e+00, 1.00000000e+00],\n",
       "       [9.49543078e-02, 2.51780014e+00, 0.00000000e+00],\n",
       "       [1.36792126e-01, 4.57579269e+00, 0.00000000e+00],\n",
       "       [7.35623411e-01, 2.52988470e+00, 3.00000000e+00],\n",
       "       [1.96909422e-01, 9.77752575e+00, 0.00000000e+00],\n",
       "       [9.87182547e-01, 1.09598902e+01, 4.00000000e+00],\n",
       "       [9.98871233e-01, 1.10388218e+01, 4.00000000e+00],\n",
       "       [4.62630652e-01, 4.26521366e+00, 2.00000000e+00],\n",
       "       [6.53652001e-01, 8.32569996e-01, 3.00000000e+00],\n",
       "       [2.41419169e-01, 1.96916405e+00, 1.00000000e+00],\n",
       "       [7.13580359e-01, 1.10832649e+00, 3.00000000e+00],\n",
       "       [4.61267858e-01, 8.16758544e+00, 2.00000000e+00],\n",
       "       [6.18283696e-01, 6.11876263e+00, 3.00000000e+00],\n",
       "       [2.07198532e-01, 1.99722427e+00, 1.00000000e+00],\n",
       "       [5.98648002e-01, 6.44592399e-01, 2.00000000e+00],\n",
       "       [8.25185805e-01, 9.17599271e+00, 4.00000000e+00],\n",
       "       [5.26510901e-01, 3.63170856e-01, 2.00000000e+00],\n",
       "       [7.96728957e-01, 2.14744348e+00, 3.00000000e+00],\n",
       "       [4.47987622e-02, 1.23350579e+00, 0.00000000e+00],\n",
       "       [6.88148755e-01, 7.95844721e+00, 3.00000000e+00],\n",
       "       [6.03282074e-01, 3.53904688e+00, 3.00000000e+00],\n",
       "       [7.57138614e-01, 5.39710475e+00, 3.00000000e+00],\n",
       "       [5.25647446e-01, 2.03685608e+00, 2.00000000e+00],\n",
       "       [9.51806689e-03, 1.83349198e+00, 0.00000000e+00],\n",
       "       [9.42673136e-01, 7.36959109e+00, 4.00000000e+00],\n",
       "       [8.42671665e-01, 9.44931719e-01, 4.00000000e+00],\n",
       "       [2.78396794e-01, 9.89546332e-01, 1.00000000e+00],\n",
       "       [3.59208889e-01, 1.81075611e+00, 1.00000000e+00],\n",
       "       [5.07979379e-01, 1.01116214e+01, 2.00000000e+00],\n",
       "       [3.93441714e-01, 1.74485814e+00, 1.00000000e+00],\n",
       "       [4.24985096e-01, 2.30234770e+00, 2.00000000e+00],\n",
       "       [4.91045483e-01, 2.00768187e+00, 2.00000000e+00],\n",
       "       [8.52886298e-01, 2.76605430e+00, 4.00000000e+00],\n",
       "       [1.33408241e-01, 6.44444994e+00, 0.00000000e+00],\n",
       "       [2.92623064e-01, 9.16913156e+00, 1.00000000e+00],\n",
       "       [8.04090714e-02, 2.94144595e+00, 0.00000000e+00],\n",
       "       [3.03650372e-01, 9.58601449e+00, 1.00000000e+00],\n",
       "       [1.20645527e-01, 5.59022369e+00, 0.00000000e+00],\n",
       "       [6.60752721e-01, 9.96907120e-01, 3.00000000e+00],\n",
       "       [9.49894636e-01, 2.63752467e+00, 4.00000000e+00],\n",
       "       [4.39554443e-01, 4.95691853e+00, 2.00000000e+00],\n",
       "       [4.10377193e-01, 6.82172725e+00, 2.00000000e+00],\n",
       "       [4.61275385e-01, 3.52954378e+00, 2.00000000e+00],\n",
       "       [1.81213622e-01, 6.77411625e+00, 0.00000000e+00],\n",
       "       [8.61880502e-01, 5.32955664e+00, 4.00000000e+00],\n",
       "       [8.56520542e-01, 2.84983634e+00, 4.00000000e+00],\n",
       "       [4.91583385e-01, 5.54986212e+00, 2.00000000e+00],\n",
       "       [8.98145695e-01, 7.89599319e+00, 4.00000000e+00],\n",
       "       [1.44574217e-01, 7.86826356e+00, 0.00000000e+00],\n",
       "       [5.88409595e-02, 3.73365018e+00, 0.00000000e+00],\n",
       "       [2.69940256e-01, 1.74214854e+00, 1.00000000e+00],\n",
       "       [5.83642595e-01, 9.92308273e+00, 2.00000000e+00],\n",
       "       [9.93513846e-01, 1.10362581e+01, 4.00000000e+00],\n",
       "       [7.88676765e-01, 3.05381023e+00, 3.00000000e+00],\n",
       "       [8.65467546e-01, 8.29946125e+00, 4.00000000e+00],\n",
       "       [9.38121038e-01, 3.09797384e+00, 4.00000000e+00],\n",
       "       [1.96563063e-01, 9.84027427e+00, 0.00000000e+00],\n",
       "       [6.95904788e-02, 9.30309373e+00, 0.00000000e+00],\n",
       "       [4.96268613e-01, 4.26056702e+00, 2.00000000e+00],\n",
       "       [5.98134982e-01, 7.62455075e+00, 2.00000000e+00],\n",
       "       [9.47637373e-01, 9.43428536e-01, 4.00000000e+00],\n",
       "       [7.50333063e-01, 6.71049047e+00, 3.00000000e+00],\n",
       "       [9.04628948e-01, 1.07528502e+01, 4.00000000e+00],\n",
       "       [4.67207595e-01, 1.02617358e+01, 2.00000000e+00],\n",
       "       [9.80729352e-01, 6.57911024e+00, 4.00000000e+00],\n",
       "       [2.66661508e-01, 7.24463428e-01, 1.00000000e+00],\n",
       "       [5.99316776e-01, 8.82980968e+00, 2.00000000e+00],\n",
       "       [6.92488784e-01, 9.48319835e+00, 3.00000000e+00]])"
      ]
     },
     "execution_count": 5,
     "metadata": {},
     "output_type": "execute_result"
    }
   ],
   "source": [
    "dataset"
   ]
  },
  {
   "cell_type": "code",
   "execution_count": 6,
   "metadata": {},
   "outputs": [
    {
     "data": {
      "image/png": "[encoded data removed]",
      "text/plain": [
       "<Figure size 432x288 with 1 Axes>"
      ]
     },
     "metadata": {
      "needs_background": "light"
     },
     "output_type": "display_data"
    }
   ],
   "source": [
    "plt.scatter(dataset[:, 0], dataset[:, 1], c=dataset[:,2], s=5, cmap='rainbow')\n",
    "plt.grid()\n",
    "plt.show()"
   ]
  },
  {
   "cell_type": "code",
   "execution_count": 7,
   "metadata": {},
   "outputs": [],
   "source": [
    "X = dataset[:, :2]\n",
    "Y = dataset[:, 2]"
   ]
  },
  {
   "cell_type": "code",
   "execution_count": 8,
   "metadata": {},
   "outputs": [
    {
     "data": {
      "text/plain": [
       "((100, 2), (100,))"
      ]
     },
     "execution_count": 8,
     "metadata": {},
     "output_type": "execute_result"
    }
   ],
   "source": [
    "X.shape, Y.shape"
   ]
  },
  {
   "cell_type": "markdown",
   "metadata": {},
   "source": [
    "### 0.2 Encoding Label & categoricalization"
   ]
  },
  {
   "cell_type": "code",
   "execution_count": 9,
   "metadata": {},
   "outputs": [
    {
     "name": "stdout",
     "output_type": "stream",
     "text": [
      "Y : 2.0\n",
      "Y (label encoding): 2\n",
      "Y (categorical): [0. 0. 1. 0. 0.]\n"
     ]
    }
   ],
   "source": [
    "le = LabelEncoder()\n",
    "\n",
    "le.fit(Y)\n",
    "\n",
    "labels = le.classes_\n",
    "\n",
    "print(\"Y :\", Y[0])\n",
    "\n",
    "Y = le.transform(Y)\n",
    "print(\"Y (label encoding):\", Y[0])\n",
    "\n",
    "Y = to_categorical(Y)\n",
    "print(\"Y (categorical):\", Y[0])"
   ]
  },
  {
   "cell_type": "markdown",
   "metadata": {},
   "source": [
    "### 0.3 Split dataset"
   ]
  },
  {
   "cell_type": "code",
   "execution_count": 10,
   "metadata": {},
   "outputs": [],
   "source": [
    "x_train, x_test, y_train, y_test = train_test_split(X,   # input data\n",
    "                                                    Y,   # target/output data \n",
    "                                                    test_size=0.25, \n",
    "                                                    random_state=42)"
   ]
  },
  {
   "cell_type": "code",
   "execution_count": 11,
   "metadata": {},
   "outputs": [
    {
     "name": "stdout",
     "output_type": "stream",
     "text": [
      "(75, 2) (75, 5) (25, 2) (25, 5)\n"
     ]
    }
   ],
   "source": [
    "print(x_train.shape, y_train.shape, x_test.shape,  y_test.shape)"
   ]
  },
  {
   "cell_type": "markdown",
   "metadata": {},
   "source": [
    "### 0.4 Create Model"
   ]
  },
  {
   "cell_type": "code",
   "execution_count": 12,
   "metadata": {},
   "outputs": [],
   "source": [
    "def simple_model(input_dim):\n",
    "    \n",
    "    model = Sequential()\n",
    "    \n",
    "    model.add(Dense(64, \n",
    "                    activation= 'relu',\n",
    "                    input_shape=(input_dim,)))\n",
    "    model.add(Dense(128, activation= 'relu',))\n",
    "    model.add(Dense(32, activation= 'relu',))\n",
    "    model.add(Dense(5)) # equal to number of classes\n",
    "    model.add(Activation(\"sigmoid\"))\n",
    "    \n",
    "    # print model network\n",
    "    model.summary() \n",
    "    \n",
    "    # config model : add optimizer, loss & metrics\n",
    "    model.compile(optimizer='adam', \n",
    "                  loss='categorical_crossentropy',\n",
    "                  metrics = ['accuracy'])\n",
    "\n",
    "    return model"
   ]
  },
  {
   "cell_type": "markdown",
   "metadata": {},
   "source": [
    "### 0.5 Train Model"
   ]
  },
  {
   "cell_type": "code",
   "execution_count": 13,
   "metadata": {
    "scrolled": true
   },
   "outputs": [
    {
     "name": "stdout",
     "output_type": "stream",
     "text": [
      "_________________________________________________________________\n",
      "Layer (type)                 Output Shape              Param #   \n",
      "=================================================================\n",
      "dense_1 (Dense)              (None, 64)                192       \n",
      "_________________________________________________________________\n",
      "dense_2 (Dense)              (None, 128)               8320      \n",
      "_________________________________________________________________\n",
      "dense_3 (Dense)              (None, 32)                4128      \n",
      "_________________________________________________________________\n",
      "dense_4 (Dense)              (None, 5)                 165       \n",
      "_________________________________________________________________\n",
      "activation_1 (Activation)    (None, 5)                 0         \n",
      "=================================================================\n",
      "Total params: 12,805\n",
      "Trainable params: 12,805\n",
      "Non-trainable params: 0\n",
      "_________________________________________________________________\n",
      "Train on 56 samples, validate on 19 samples\n",
      "Epoch 1/100\n",
      "56/56 [==============================] - 3s 54ms/step - loss: 1.6225 - acc: 0.1786 - val_loss: 1.5996 - val_acc: 0.1579\n",
      "Epoch 2/100\n",
      "56/56 [==============================] - 0s 250us/step - loss: 1.6119 - acc: 0.1964 - val_loss: 1.6092 - val_acc: 0.1579\n",
      "Epoch 3/100\n",
      "56/56 [==============================] - 0s 214us/step - loss: 1.6031 - acc: 0.1964 - val_loss: 1.6184 - val_acc: 0.1579\n",
      "Epoch 4/100\n",
      "56/56 [==============================] - 0s 214us/step - loss: 1.5978 - acc: 0.2143 - val_loss: 1.6226 - val_acc: 0.1579\n",
      "Epoch 5/100\n",
      "56/56 [==============================] - 0s 214us/step - loss: 1.5935 - acc: 0.2143 - val_loss: 1.6244 - val_acc: 0.1579\n",
      "Epoch 6/100\n",
      "56/56 [==============================] - 0s 232us/step - loss: 1.5894 - acc: 0.1964 - val_loss: 1.6244 - val_acc: 0.1579\n",
      "Epoch 7/100\n",
      "56/56 [==============================] - 0s 464us/step - loss: 1.5860 - acc: 0.2321 - val_loss: 1.6237 - val_acc: 0.2632\n",
      "Epoch 8/100\n",
      "56/56 [==============================] - 0s 524us/step - loss: 1.5831 - acc: 0.4107 - val_loss: 1.6214 - val_acc: 0.2105\n",
      "Epoch 9/100\n",
      "56/56 [==============================] - 0s 154us/step - loss: 1.5802 - acc: 0.3393 - val_loss: 1.6191 - val_acc: 0.1579\n",
      "Epoch 10/100\n",
      "56/56 [==============================] - 0s 406us/step - loss: 1.5779 - acc: 0.3214 - val_loss: 1.6152 - val_acc: 0.2105\n",
      "Epoch 11/100\n",
      "56/56 [==============================] - 0s 232us/step - loss: 1.5762 - acc: 0.2857 - val_loss: 1.6067 - val_acc: 0.2632\n",
      "Epoch 12/100\n",
      "56/56 [==============================] - 0s 268us/step - loss: 1.5730 - acc: 0.3393 - val_loss: 1.5966 - val_acc: 0.3158\n",
      "Epoch 13/100\n",
      "56/56 [==============================] - 0s 214us/step - loss: 1.5701 - acc: 0.3393 - val_loss: 1.5877 - val_acc: 0.3158\n",
      "Epoch 14/100\n",
      "56/56 [==============================] - 0s 250us/step - loss: 1.5673 - acc: 0.3393 - val_loss: 1.5799 - val_acc: 0.3158\n",
      "Epoch 15/100\n",
      "56/56 [==============================] - 0s 268us/step - loss: 1.5647 - acc: 0.3393 - val_loss: 1.5735 - val_acc: 0.3158\n",
      "Epoch 16/100\n",
      "56/56 [==============================] - 0s 232us/step - loss: 1.5622 - acc: 0.3393 - val_loss: 1.5687 - val_acc: 0.3158\n",
      "Epoch 17/100\n",
      "56/56 [==============================] - 0s 339us/step - loss: 1.5594 - acc: 0.3393 - val_loss: 1.5633 - val_acc: 0.3158\n",
      "Epoch 18/100\n",
      "56/56 [==============================] - 0s 232us/step - loss: 1.5558 - acc: 0.3393 - val_loss: 1.5554 - val_acc: 0.3158\n",
      "Epoch 19/100\n",
      "56/56 [==============================] - 0s 232us/step - loss: 1.5524 - acc: 0.3393 - val_loss: 1.5510 - val_acc: 0.3158\n",
      "Epoch 20/100\n",
      "56/56 [==============================] - 0s 250us/step - loss: 1.5494 - acc: 0.3393 - val_loss: 1.5487 - val_acc: 0.3158\n",
      "Epoch 21/100\n",
      "56/56 [==============================] - 0s 232us/step - loss: 1.5462 - acc: 0.3393 - val_loss: 1.5465 - val_acc: 0.3158\n",
      "Epoch 22/100\n",
      "56/56 [==============================] - 0s 232us/step - loss: 1.5424 - acc: 0.3929 - val_loss: 1.5444 - val_acc: 0.3158\n",
      "Epoch 23/100\n",
      "56/56 [==============================] - 0s 250us/step - loss: 1.5385 - acc: 0.3929 - val_loss: 1.5409 - val_acc: 0.3158\n",
      "Epoch 24/100\n",
      "56/56 [==============================] - 0s 232us/step - loss: 1.5344 - acc: 0.4107 - val_loss: 1.5335 - val_acc: 0.3158\n",
      "Epoch 25/100\n",
      "56/56 [==============================] - 0s 232us/step - loss: 1.5297 - acc: 0.4107 - val_loss: 1.5247 - val_acc: 0.3158\n",
      "Epoch 26/100\n",
      "56/56 [==============================] - 0s 232us/step - loss: 1.5249 - acc: 0.4107 - val_loss: 1.5154 - val_acc: 0.3158\n",
      "Epoch 27/100\n",
      "56/56 [==============================] - 0s 268us/step - loss: 1.5195 - acc: 0.4286 - val_loss: 1.5041 - val_acc: 0.3684\n",
      "Epoch 28/100\n",
      "56/56 [==============================] - 0s 250us/step - loss: 1.5136 - acc: 0.4286 - val_loss: 1.4870 - val_acc: 0.3684\n",
      "Epoch 29/100\n",
      "56/56 [==============================] - 0s 268us/step - loss: 1.5075 - acc: 0.4464 - val_loss: 1.4686 - val_acc: 0.3684\n",
      "Epoch 30/100\n",
      "56/56 [==============================] - 0s 268us/step - loss: 1.5008 - acc: 0.4643 - val_loss: 1.4552 - val_acc: 0.5263\n",
      "Epoch 31/100\n",
      "56/56 [==============================] - 0s 321us/step - loss: 1.4936 - acc: 0.4821 - val_loss: 1.4455 - val_acc: 0.5263\n",
      "Epoch 32/100\n",
      "56/56 [==============================] - 0s 232us/step - loss: 1.4858 - acc: 0.4464 - val_loss: 1.4374 - val_acc: 0.5263\n",
      "Epoch 33/100\n",
      "56/56 [==============================] - 0s 268us/step - loss: 1.4780 - acc: 0.4464 - val_loss: 1.4279 - val_acc: 0.5263\n",
      "Epoch 34/100\n",
      "56/56 [==============================] - 0s 268us/step - loss: 1.4704 - acc: 0.4286 - val_loss: 1.4131 - val_acc: 0.5263\n",
      "Epoch 35/100\n",
      "56/56 [==============================] - 0s 304us/step - loss: 1.4629 - acc: 0.4286 - val_loss: 1.4014 - val_acc: 0.5263\n",
      "Epoch 36/100\n",
      "56/56 [==============================] - 0s 232us/step - loss: 1.4558 - acc: 0.4107 - val_loss: 1.3974 - val_acc: 0.5263\n",
      "Epoch 37/100\n",
      "56/56 [==============================] - 0s 286us/step - loss: 1.4484 - acc: 0.4107 - val_loss: 1.3943 - val_acc: 0.5789\n",
      "Epoch 38/100\n",
      "56/56 [==============================] - 0s 64us/step - loss: 1.4405 - acc: 0.4464 - val_loss: 1.3855 - val_acc: 0.5789\n",
      "Epoch 39/100\n",
      "56/56 [==============================] - 0s 520us/step - loss: 1.4315 - acc: 0.4464 - val_loss: 1.3725 - val_acc: 0.5789\n",
      "Epoch 40/100\n",
      "56/56 [==============================] - 0s 214us/step - loss: 1.4219 - acc: 0.4464 - val_loss: 1.3593 - val_acc: 0.5789\n",
      "Epoch 41/100\n",
      "56/56 [==============================] - 0s 214us/step - loss: 1.4123 - acc: 0.4286 - val_loss: 1.3461 - val_acc: 0.5789\n",
      "Epoch 42/100\n",
      "56/56 [==============================] - 0s 214us/step - loss: 1.4023 - acc: 0.4286 - val_loss: 1.3342 - val_acc: 0.5789\n",
      "Epoch 43/100\n",
      "56/56 [==============================] - 0s 214us/step - loss: 1.3919 - acc: 0.4464 - val_loss: 1.3238 - val_acc: 0.5789\n",
      "Epoch 44/100\n",
      "56/56 [==============================] - 0s 232us/step - loss: 1.3812 - acc: 0.4464 - val_loss: 1.3101 - val_acc: 0.5789\n",
      "Epoch 45/100\n",
      "56/56 [==============================] - 0s 286us/step - loss: 1.3699 - acc: 0.4286 - val_loss: 1.2907 - val_acc: 0.5789\n",
      "Epoch 46/100\n",
      "56/56 [==============================] - 0s 286us/step - loss: 1.3581 - acc: 0.4286 - val_loss: 1.2730 - val_acc: 0.5789\n",
      "Epoch 47/100\n",
      "56/56 [==============================] - 0s 286us/step - loss: 1.3461 - acc: 0.4286 - val_loss: 1.2591 - val_acc: 0.5789\n",
      "Epoch 48/100\n",
      "56/56 [==============================] - 0s 250us/step - loss: 1.3342 - acc: 0.4464 - val_loss: 1.2478 - val_acc: 0.5789\n",
      "Epoch 49/100\n",
      "56/56 [==============================] - 0s 321us/step - loss: 1.3221 - acc: 0.4643 - val_loss: 1.2346 - val_acc: 0.6316\n",
      "Epoch 50/100\n",
      "56/56 [==============================] - 0s 268us/step - loss: 1.3097 - acc: 0.4821 - val_loss: 1.2152 - val_acc: 0.6316\n",
      "Epoch 51/100\n",
      "56/56 [==============================] - 0s 250us/step - loss: 1.2969 - acc: 0.4821 - val_loss: 1.2010 - val_acc: 0.6316\n",
      "Epoch 52/100\n",
      "56/56 [==============================] - 0s 268us/step - loss: 1.2845 - acc: 0.4643 - val_loss: 1.1933 - val_acc: 0.6316\n",
      "Epoch 53/100\n",
      "56/56 [==============================] - 0s 286us/step - loss: 1.2716 - acc: 0.4643 - val_loss: 1.1841 - val_acc: 0.6316\n",
      "Epoch 54/100\n",
      "56/56 [==============================] - 0s 250us/step - loss: 1.2585 - acc: 0.4643 - val_loss: 1.1665 - val_acc: 0.6316\n",
      "Epoch 55/100\n",
      "56/56 [==============================] - 0s 250us/step - loss: 1.2450 - acc: 0.4821 - val_loss: 1.1499 - val_acc: 0.5789\n",
      "Epoch 56/100\n",
      "56/56 [==============================] - 0s 232us/step - loss: 1.2318 - acc: 0.5000 - val_loss: 1.1417 - val_acc: 0.6316\n",
      "Epoch 57/100\n",
      "56/56 [==============================] - 0s 268us/step - loss: 1.2181 - acc: 0.5179 - val_loss: 1.1300 - val_acc: 0.6316\n",
      "Epoch 58/100\n",
      "56/56 [==============================] - 0s 250us/step - loss: 1.2040 - acc: 0.5357 - val_loss: 1.1142 - val_acc: 0.6316\n",
      "Epoch 59/100\n",
      "56/56 [==============================] - 0s 411us/step - loss: 1.1901 - acc: 0.5714 - val_loss: 1.0950 - val_acc: 0.6316\n",
      "Epoch 60/100\n",
      "56/56 [==============================] - 0s 250us/step - loss: 1.1766 - acc: 0.5714 - val_loss: 1.0873 - val_acc: 0.6842\n",
      "Epoch 61/100\n",
      "56/56 [==============================] - 0s 250us/step - loss: 1.1628 - acc: 0.6250 - val_loss: 1.0722 - val_acc: 0.6842\n",
      "Epoch 62/100\n",
      "56/56 [==============================] - 0s 232us/step - loss: 1.1487 - acc: 0.6250 - val_loss: 1.0512 - val_acc: 0.6316\n",
      "Epoch 63/100\n",
      "56/56 [==============================] - 0s 250us/step - loss: 1.1353 - acc: 0.6071 - val_loss: 1.0420 - val_acc: 0.6842\n",
      "Epoch 64/100\n",
      "56/56 [==============================] - 0s 304us/step - loss: 1.1216 - acc: 0.6071 - val_loss: 1.0303 - val_acc: 0.6842\n",
      "Epoch 65/100\n",
      "56/56 [==============================] - 0s 321us/step - loss: 1.1079 - acc: 0.6250 - val_loss: 1.0103 - val_acc: 0.6842\n",
      "Epoch 66/100\n",
      "56/56 [==============================] - 0s 239us/step - loss: 1.0943 - acc: 0.6250 - val_loss: 0.9990 - val_acc: 0.6842\n",
      "Epoch 67/100\n",
      "56/56 [==============================] - 0s 515us/step - loss: 1.0811 - acc: 0.6429 - val_loss: 0.9881 - val_acc: 0.6842\n",
      "Epoch 68/100\n",
      "56/56 [==============================] - 0s 339us/step - loss: 1.0678 - acc: 0.6071 - val_loss: 0.9712 - val_acc: 0.6842\n",
      "Epoch 69/100\n",
      "56/56 [==============================] - 0s 304us/step - loss: 1.0545 - acc: 0.6071 - val_loss: 0.9533 - val_acc: 0.6842\n",
      "Epoch 70/100\n",
      "56/56 [==============================] - 0s 339us/step - loss: 1.0415 - acc: 0.6071 - val_loss: 0.9440 - val_acc: 0.6842\n",
      "Epoch 71/100\n",
      "56/56 [==============================] - 0s 304us/step - loss: 1.0286 - acc: 0.6071 - val_loss: 0.9296 - val_acc: 0.6842\n",
      "Epoch 72/100\n",
      "56/56 [==============================] - 0s 304us/step - loss: 1.0155 - acc: 0.6429 - val_loss: 0.9094 - val_acc: 0.7368\n",
      "Epoch 73/100\n",
      "56/56 [==============================] - 0s 357us/step - loss: 1.0026 - acc: 0.6250 - val_loss: 0.8969 - val_acc: 0.7368\n",
      "Epoch 74/100\n",
      "56/56 [==============================] - 0s 304us/step - loss: 0.9901 - acc: 0.6250 - val_loss: 0.8880 - val_acc: 0.7895\n",
      "Epoch 75/100\n",
      "56/56 [==============================] - 0s 268us/step - loss: 0.9778 - acc: 0.6071 - val_loss: 0.8737 - val_acc: 0.7895\n",
      "Epoch 76/100\n",
      "56/56 [==============================] - 0s 232us/step - loss: 0.9651 - acc: 0.6429 - val_loss: 0.8654 - val_acc: 0.8421\n",
      "Epoch 77/100\n",
      "56/56 [==============================] - 0s 232us/step - loss: 0.9522 - acc: 0.6250 - val_loss: 0.8475 - val_acc: 0.7895\n",
      "Epoch 78/100\n",
      "56/56 [==============================] - 0s 375us/step - loss: 0.9394 - acc: 0.6250 - val_loss: 0.8312 - val_acc: 0.7895\n",
      "Epoch 79/100\n",
      "56/56 [==============================] - 0s 321us/step - loss: 0.9291 - acc: 0.6071 - val_loss: 0.8224 - val_acc: 0.7895\n",
      "Epoch 80/100\n",
      "56/56 [==============================] - 0s 268us/step - loss: 0.9169 - acc: 0.6250 - val_loss: 0.8135 - val_acc: 0.7895\n",
      "Epoch 81/100\n",
      "56/56 [==============================] - 0s 339us/step - loss: 0.9050 - acc: 0.6250 - val_loss: 0.8026 - val_acc: 0.7895\n",
      "Epoch 82/100\n",
      "56/56 [==============================] - 0s 232us/step - loss: 0.8949 - acc: 0.6071 - val_loss: 0.7902 - val_acc: 0.7895\n",
      "Epoch 83/100\n",
      "56/56 [==============================] - 0s 232us/step - loss: 0.8838 - acc: 0.6071 - val_loss: 0.7765 - val_acc: 0.8421\n",
      "Epoch 84/100\n",
      "56/56 [==============================] - 0s 500us/step - loss: 0.8731 - acc: 0.6607 - val_loss: 0.7648 - val_acc: 0.8421\n",
      "Epoch 85/100\n",
      "56/56 [==============================] - 0s 250us/step - loss: 0.8634 - acc: 0.6786 - val_loss: 0.7576 - val_acc: 0.7895\n",
      "Epoch 86/100\n",
      "56/56 [==============================] - 0s 250us/step - loss: 0.8532 - acc: 0.6607 - val_loss: 0.7480 - val_acc: 0.7895\n",
      "Epoch 87/100\n",
      "56/56 [==============================] - 0s 268us/step - loss: 0.8435 - acc: 0.6429 - val_loss: 0.7473 - val_acc: 0.7895\n",
      "Epoch 88/100\n",
      "56/56 [==============================] - 0s 286us/step - loss: 0.8353 - acc: 0.6786 - val_loss: 0.7303 - val_acc: 0.7895\n",
      "Epoch 89/100\n",
      "56/56 [==============================] - 0s 250us/step - loss: 0.8282 - acc: 0.6786 - val_loss: 0.7234 - val_acc: 0.8421\n",
      "Epoch 90/100\n",
      "56/56 [==============================] - 0s 304us/step - loss: 0.8180 - acc: 0.6786 - val_loss: 0.7127 - val_acc: 0.7895\n",
      "Epoch 91/100\n",
      "56/56 [==============================] - 0s 46us/step - loss: 0.8085 - acc: 0.6786 - val_loss: 0.7064 - val_acc: 0.7895\n",
      "Epoch 92/100\n",
      "56/56 [==============================] - 0s 268us/step - loss: 0.8021 - acc: 0.6786 - val_loss: 0.7051 - val_acc: 0.8947\n",
      "Epoch 93/100\n",
      "56/56 [==============================] - 0s 304us/step - loss: 0.7939 - acc: 0.6607 - val_loss: 0.6927 - val_acc: 0.8947\n",
      "Epoch 94/100\n",
      "56/56 [==============================] - 0s 250us/step - loss: 0.7856 - acc: 0.6964 - val_loss: 0.6824 - val_acc: 0.8421\n",
      "Epoch 95/100\n",
      "56/56 [==============================] - 0s 250us/step - loss: 0.7796 - acc: 0.6786 - val_loss: 0.6811 - val_acc: 0.8947\n",
      "Epoch 96/100\n",
      "56/56 [==============================] - 0s 250us/step - loss: 0.7718 - acc: 0.6607 - val_loss: 0.6783 - val_acc: 0.8947\n",
      "Epoch 97/100\n",
      "56/56 [==============================] - 0s 286us/step - loss: 0.7647 - acc: 0.6786 - val_loss: 0.6696 - val_acc: 0.8947\n",
      "Epoch 98/100\n",
      "56/56 [==============================] - 0s 357us/step - loss: 0.7591 - acc: 0.6786 - val_loss: 0.6628 - val_acc: 0.8947\n",
      "Epoch 99/100\n",
      "56/56 [==============================] - 0s 250us/step - loss: 0.7520 - acc: 0.6964 - val_loss: 0.6594 - val_acc: 0.8947\n",
      "Epoch 100/100\n",
      "56/56 [==============================] - 0s 375us/step - loss: 0.7453 - acc: 0.6964 - val_loss: 0.6562 - val_acc: 0.8947\n"
     ]
    }
   ],
   "source": [
    "input_dim = x_train.shape[1]  \n",
    "\n",
    "EPOCHS = 100\n",
    "BATCH_SIZE = 64\n",
    "\n",
    "model = simple_model(input_dim)\n",
    "\n",
    "history = model.fit(x_train, \n",
    "                    y_train,\n",
    "                    epochs=EPOCHS,\n",
    "                    batch_size=BATCH_SIZE,\n",
    "                    validation_split=0.25   # 25% of train dataset will be used as validation set\n",
    "                    )"
   ]
  },
  {
   "cell_type": "markdown",
   "metadata": {},
   "source": [
    "- jalankan training dengan `EPOCHS` dan `BATCH_SIZE` yang telah diset.\n",
    "- `BATCH_SIZE` merupakan banyaknya sample yang akan di propagasikan kedalam Network\n",
    "- Benefit menggunakan `BATCH_SIZE` < training sample\n",
    "    - less memory to consume : karena menggunakan sedikit data saat diproses dalam network\n",
    "    - network lebih cepat melakukan proses learning \n",
    "- Penggunaan `BATCH_SIZE` terlalu kecil dapat mengakibatkan gradient update fluktuatif\n",
    "- 1 `EPOCH` artinya 1 forwardpass dan backwardpass untuk keseluruhan training sample\n",
    "- Jumlah `ITERASI` banyaknya forwardpass dan backwardpass untuk tiap `BATCH_SIZE`\n",
    "- contoh :\n",
    "    - kita memiliki 1000 training sample\n",
    "    - kita pilih `BATCH_SIZE` 10 dan `EPOCH` 5\n",
    "    - sehingga pada tiap `EPOCH` akan dilakukan forwardpass dan backwardpass untuk 1000 training sample yang dibagi meenjadi 10 batch, dimana tiap batch nya akan diproses 100 sample.\n",
    "    - Proses ini akan menghasilkan setidaknya 100x5 iterasi (forwardpass dan backwardpass)."
   ]
  },
  {
   "cell_type": "code",
   "execution_count": 14,
   "metadata": {},
   "outputs": [
    {
     "data": {
      "image/png": "[encoded data removed]",
      "text/plain": [
       "<Figure size 432x288 with 1 Axes>"
      ]
     },
     "metadata": {
      "needs_background": "light"
     },
     "output_type": "display_data"
    },
    {
     "data": {
      "image/png": "[encoded data removed]",
      "text/plain": [
       "<Figure size 432x288 with 1 Axes>"
      ]
     },
     "metadata": {
      "needs_background": "light"
     },
     "output_type": "display_data"
    }
   ],
   "source": [
    "def evaluate_model_(history):\n",
    "    names = [['acc', 'val_acc'], \n",
    "             ['loss', 'val_loss']]\n",
    "    for name in names :\n",
    "        fig1, ax_acc = plt.subplots()\n",
    "        plt.plot(history.history[name[0]])\n",
    "        plt.plot(history.history[name[1]])\n",
    "        plt.xlabel('Epoch')\n",
    "        plt.ylabel(name[0])\n",
    "        plt.title('Model - ' + name[0])\n",
    "        plt.legend(['Training', 'Validation'], loc='lower right')\n",
    "        plt.grid()\n",
    "        plt.show()\n",
    "        \n",
    "evaluate_model_(history)"
   ]
  },
  {
   "cell_type": "markdown",
   "metadata": {},
   "source": [
    "### 0.6 Predict to all test dataset"
   ]
  },
  {
   "cell_type": "code",
   "execution_count": 15,
   "metadata": {},
   "outputs": [],
   "source": [
    "y_pred = model.predict(x_test)"
   ]
  },
  {
   "cell_type": "markdown",
   "metadata": {},
   "source": [
    "- check prediction result "
   ]
  },
  {
   "cell_type": "code",
   "execution_count": 16,
   "metadata": {},
   "outputs": [
    {
     "data": {
      "text/plain": [
       "array([8.3716813e-08, 1.8728927e-06, 2.0368254e-05, 1.3486563e-05,\n",
       "       4.3509217e-06], dtype=float32)"
      ]
     },
     "execution_count": 16,
     "metadata": {},
     "output_type": "execute_result"
    }
   ],
   "source": [
    "y_pred[0]"
   ]
  },
  {
   "cell_type": "code",
   "execution_count": 17,
   "metadata": {},
   "outputs": [
    {
     "data": {
      "text/plain": [
       "2"
      ]
     },
     "execution_count": 17,
     "metadata": {},
     "output_type": "execute_result"
    }
   ],
   "source": [
    "y_test.argmax(axis=1)[0] # get actual/target class"
   ]
  },
  {
   "cell_type": "code",
   "execution_count": 18,
   "metadata": {},
   "outputs": [
    {
     "data": {
      "text/plain": [
       "2"
      ]
     },
     "execution_count": 18,
     "metadata": {},
     "output_type": "execute_result"
    }
   ],
   "source": [
    "y_pred.argmax(axis=1)[0] # get predicted class"
   ]
  },
  {
   "cell_type": "code",
   "execution_count": 19,
   "metadata": {},
   "outputs": [
    {
     "data": {
      "text/plain": [
       "0.002036825389950536"
      ]
     },
     "execution_count": 19,
     "metadata": {},
     "output_type": "execute_result"
    }
   ],
   "source": [
    "y_pred.max(axis=1)[0]*100 # get confidence level (%) "
   ]
  },
  {
   "cell_type": "code",
   "execution_count": 20,
   "metadata": {},
   "outputs": [
    {
     "data": {
      "image/png": "[encoded data removed]",
      "text/plain": [
       "<Figure size 432x288 with 1 Axes>"
      ]
     },
     "metadata": {
      "needs_background": "light"
     },
     "output_type": "display_data"
    }
   ],
   "source": [
    "plt.scatter(x_test[:, 0], x_test[:, 1], c=y_pred.argmax(axis=1), s=5, cmap='rainbow')\n",
    "plt.grid()\n",
    "plt.show()"
   ]
  },
  {
   "cell_type": "markdown",
   "metadata": {},
   "source": [
    "### 0.7 Report Summary"
   ]
  },
  {
   "cell_type": "code",
   "execution_count": 21,
   "metadata": {},
   "outputs": [],
   "source": [
    "def plot_confusion_matrix(cm, classes,\n",
    "                          normalize=False,\n",
    "                          title='Confusion matrix',\n",
    "                          cmap=plt.cm.Blues):\n",
    "    if normalize:\n",
    "        cm = cm.astype('float') / cm.sum(axis=1)[:, np.newaxis]\n",
    "\n",
    "    plt.figure(figsize=(5, 5))\n",
    "    \n",
    "    plt.imshow(cm, interpolation='nearest', cmap=cmap)\n",
    "    plt.title(title)\n",
    "    plt.colorbar()\n",
    "    \n",
    "    tick_marks = np.arange(len(classes))\n",
    "    plt.xticks(tick_marks, classes, rotation=45)\n",
    "    plt.yticks(tick_marks, classes)\n",
    "\n",
    "    fmt = '.2f' if normalize else 'd'\n",
    "    thresh = cm.max() / 2.\n",
    "    for i, j in itertools.product(range(cm.shape[0]), range(cm.shape[1])):\n",
    "        plt.text(j, i, format(cm[i, j], fmt),\n",
    "                 horizontalalignment=\"center\",\n",
    "                 color=\"white\" if cm[i, j] > thresh else \"black\")\n",
    "\n",
    "    plt.tight_layout()\n",
    "    plt.ylabel('True label')\n",
    "    plt.xlabel('Predicted label')\n",
    "    plt.show()"
   ]
  },
  {
   "cell_type": "code",
   "execution_count": 22,
   "metadata": {},
   "outputs": [
    {
     "data": {
      "image/png": "[encoded data removed]",
      "text/plain": [
       "<Figure size 360x360 with 2 Axes>"
      ]
     },
     "metadata": {
      "needs_background": "light"
     },
     "output_type": "display_data"
    }
   ],
   "source": [
    "# Compute confusion matrix\n",
    "cnf_matrix = confusion_matrix(y_test.argmax(axis=1), y_pred.argmax(axis=1))\n",
    "np.set_printoptions(precision=2)\n",
    "\n",
    "\n",
    "# Plot non-normalized confusion matrix\n",
    "plot_confusion_matrix(cnf_matrix, classes=labels,normalize=False,\n",
    "                      title='Confusion matrix')\n"
   ]
  },
  {
   "cell_type": "code",
   "execution_count": 23,
   "metadata": {},
   "outputs": [
    {
     "name": "stdout",
     "output_type": "stream",
     "text": [
      "              precision    recall  f1-score   support\n",
      "\n",
      "           0       0.88      0.88      0.88         8\n",
      "           1       0.67      0.67      0.67         3\n",
      "           2       1.00      1.00      1.00         6\n",
      "           3       1.00      0.20      0.33         5\n",
      "           4       0.43      1.00      0.60         3\n",
      "\n",
      "    accuracy                           0.76        25\n",
      "   macro avg       0.79      0.75      0.70        25\n",
      "weighted avg       0.85      0.76      0.74        25\n",
      "\n"
     ]
    }
   ],
   "source": [
    "print(classification_report(y_test.argmax(axis=1), \n",
    "                            y_pred.argmax(axis=1)))"
   ]
  },
  {
   "cell_type": "markdown",
   "metadata": {},
   "source": [
    "____\n"
   ]
  },
  {
   "cell_type": "markdown",
   "metadata": {},
   "source": [
    "# 1. Face Recognition using (Convolution Neural Network) CNN"
   ]
  },
  {
   "cell_type": "code",
   "execution_count": 8,
   "metadata": {},
   "outputs": [],
   "source": [
    "from keras.layers import Conv2D, MaxPool2D, Flatten"
   ]
  },
  {
   "cell_type": "markdown",
   "metadata": {},
   "source": [
    "#### Convolution Layer\n",
    "\n",
    "- `keras.layers.Conv2d(filter, kernel_size, strides, padding, activation)`\n",
    "> 2D convolution layer (e.g. spatial convolution over images).\\\n",
    "> This layer creates a convolution kernel that is convolved with the layer input to produce a tensor of outputs.\n",
    "- parameter :\n",
    "    - `filter` : Integer, the dimensionality of the output space.\n",
    "    - `kernel_size` : kernel_size: An integer or tuple/list of 2 integers, specifying the height and width of the 2D convolution window.\n",
    "    - `strides` : An integer or tuple/list of 2 integers, specifying the strides of the convolution along the height and width.\n",
    "    - `padding` : one of `\"valid\"` or `\"same\"` (case-insensitive)\n",
    "    - `activation` : Activation function to use. (`relu`, `sigmoid`, `softmax`, `linear`, .etc)"
   ]
  },
  {
   "cell_type": "markdown",
   "metadata": {},
   "source": [
    "#### Max Pooling Layer\n",
    "\n",
    "- `keras.layers.MaxPool2D(pool_size, strides, padding)`\n",
    "> 2D Max pooling operation for spatial data.\n",
    "- parameter :\n",
    "    - `pool_size` : integer or tuple of 2 integers, factors by which to downscale.\n",
    "    - `strides` : An integer or tuple/list of 2 integers, specifying the strides of the convolution along the height and width.\n",
    "    - `padding` : one of `\"valid\"` or `\"same\"` (case-insensitive)"
   ]
  },
  {
   "cell_type": "markdown",
   "metadata": {},
   "source": [
    "#### Flatten Layer\n",
    "\n",
    "\n",
    "- `keras.layers.Flatten()`\n",
    "> Flattens the input data to 1D tensor.\n",
    "- parameter :\n",
    "    - N/A"
   ]
  },
  {
   "cell_type": "markdown",
   "metadata": {},
   "source": [
    "## 1.1 read image & convert to grayscale"
   ]
  },
  {
   "cell_type": "markdown",
   "metadata": {},
   "source": [
    "- Download Dataset : \n",
    "    - **LFW - images aligned with deep funneling** : http://vis-www.cs.umass.edu/lfw/\n",
    "    \n",
    "    \n",
    "- Dataset Structure :\n",
    "\n",
    "```\n",
    "datset\\\n",
    "    label_name_A\\\n",
    "        label_name_A_001.jpg\n",
    "        label_name_A_002.jpg\n",
    "        label_name_A_003.jpg\n",
    "        .\n",
    "        .\n",
    "    label_name_B\\\n",
    "        label_name_B_001.jpg\n",
    "        label_name_B_002.jpg\n",
    "        label_name_B_003.jpg\n",
    "        .\n",
    "        .\n",
    "```"
   ]
  },
  {
   "cell_type": "code",
   "execution_count": 9,
   "metadata": {},
   "outputs": [],
   "source": [
    "def detect_face(img):\n",
    "    img = img[70:195,78:172]\n",
    "    img = cv2.cvtColor(img, cv2.COLOR_BGR2GRAY)\n",
    "    img = cv2.resize(img, (50, 50))\n",
    "    return img"
   ]
  },
  {
   "cell_type": "code",
   "execution_count": 10,
   "metadata": {},
   "outputs": [],
   "source": [
    "def print_progress(val, val_len, folder, bar_size=20):\n",
    "    progr = \"#\"*round((val)*bar_size/val_len) + \" \"*round((val_len - (val))*bar_size/val_len)\n",
    "    if val == 0:\n",
    "        print(\"\", end = \"\\n\")\n",
    "    else:\n",
    "        print(\"[%s] (%d samples)\\t label : %s \\t\\t\" % (progr, val+1, folder), end=\"\\r\")"
   ]
  },
  {
   "cell_type": "code",
   "execution_count": 11,
   "metadata": {},
   "outputs": [
    {
     "name": "stdout",
     "output_type": "stream",
     "text": [
      "\n",
      "[####################] (77 samples)\t label : Ariel_Sharon \t\t\n",
      "[####################] (150 samples)\t label : Colin_Powell \t\t\n",
      "[####################] (121 samples)\t label : Donald_Rumsfeld \t\t\n",
      "[####################] (150 samples)\t label : George_W_Bush \t\t\n",
      "[####################] (109 samples)\t label : Gerhard_Schroeder \t\t\n",
      "[####################] (71 samples)\t label : Hugo_Chavez \t\t\n",
      "[####################] (52 samples)\t label : Jacques_Chirac \t\t\n",
      "[####################] (55 samples)\t label : Jean_Chretien \t\t\n",
      "[####################] (53 samples)\t label : John_Ashcroft \t\t\n",
      "[####################] (60 samples)\t label : Junichiro_Koizumi \t\t\n",
      "[####################] (52 samples)\t label : Serena_Williams \t\t\n",
      "[####################] (144 samples)\t label : Tony_Blair \t\t\n",
      "[####################] (51 samples)\t label : Yunus \t\t\r"
     ]
    }
   ],
   "source": [
    "dataset_folder = \"dataset/\"\n",
    "\n",
    "names = []\n",
    "images = []\n",
    "for folder in os.listdir(dataset_folder):\n",
    "    files = os.listdir(os.path.join(dataset_folder, folder))[:150]\n",
    "    if len(files) < 50 :\n",
    "        continue\n",
    "    for i, name in enumerate(files): \n",
    "        if name.find(\".jpg\") > -1 :\n",
    "            img = cv2.imread(os.path.join(dataset_folder + folder, name))\n",
    "            img = detect_face(img) # detect face using mtcnn and crop to 100x100\n",
    "            if img is not None :\n",
    "                images.append(img)\n",
    "                names.append(folder)\n",
    "\n",
    "                print_progress(i, len(files), folder)"
   ]
  },
  {
   "cell_type": "code",
   "execution_count": 12,
   "metadata": {},
   "outputs": [
    {
     "name": "stdout",
     "output_type": "stream",
     "text": [
      "number of samples : 1145\n"
     ]
    }
   ],
   "source": [
    "print(\"number of samples :\", len(names))"
   ]
  },
  {
   "cell_type": "markdown",
   "metadata": {},
   "source": [
    "### 1.1.A Image Augmentation\n",
    "- To solve problem with small dataset on some class, we can augmenting the data to increase number of sample.\n",
    "- Image augmentation is a set of transfomration like translation, rotation, grayscale color adjust, etc. "
   ]
  },
  {
   "cell_type": "code",
   "execution_count": 13,
   "metadata": {},
   "outputs": [],
   "source": [
    "def img_augmentation(img):\n",
    "    h, w = img.shape\n",
    "    center = (w // 2, h // 2)\n",
    "    M_rot_5 = cv2.getRotationMatrix2D(center, 5, 1.0)\n",
    "    M_rot_neg_5 = cv2.getRotationMatrix2D(center, -5, 1.0)\n",
    "    M_rot_10 = cv2.getRotationMatrix2D(center, 10, 1.0)\n",
    "    M_rot_neg_10 = cv2.getRotationMatrix2D(center, -10, 1.0)\n",
    "    M_trans_3 = np.float32([[1, 0, 3], [0, 1, 0]])\n",
    "    M_trans_neg_3 = np.float32([[1, 0, -3], [0, 1, 0]])\n",
    "    M_trans_6 = np.float32([[1, 0, 6], [0, 1, 0]])\n",
    "    M_trans_neg_6 = np.float32([[1, 0, -6], [0, 1, 0]])\n",
    "    M_trans_y3 = np.float32([[1, 0, 0], [0, 1, 3]])\n",
    "    M_trans_neg_y3 = np.float32([[1, 0, 0], [0, 1, -3]])\n",
    "    M_trans_y6 = np.float32([[1, 0, 0], [0, 1, 6]])\n",
    "    M_trans_neg_y6 = np.float32([[1, 0, 0], [0, 1, -6]])\n",
    "    \n",
    "    imgs = []\n",
    "    imgs.append(cv2.warpAffine(img, M_rot_5, (w, h), borderValue=(255,255,255)))\n",
    "    imgs.append(cv2.warpAffine(img, M_rot_neg_5, (w, h), borderValue=(255,255,255)))\n",
    "    imgs.append(cv2.warpAffine(img, M_rot_10, (w, h), borderValue=(255,255,255)))\n",
    "    imgs.append(cv2.warpAffine(img, M_rot_neg_10, (w, h), borderValue=(255,255,255)))\n",
    "    imgs.append(cv2.warpAffine(img, M_trans_3, (w, h), borderValue=(255,255,255)))\n",
    "    imgs.append(cv2.warpAffine(img, M_trans_neg_3, (w, h), borderValue=(255,255,255)))\n",
    "    imgs.append(cv2.warpAffine(img, M_trans_6, (w, h), borderValue=(255,255,255)))\n",
    "    imgs.append(cv2.warpAffine(img, M_trans_neg_6, (w, h), borderValue=(255,255,255)))\n",
    "    imgs.append(cv2.warpAffine(img, M_trans_y3, (w, h), borderValue=(255,255,255)))\n",
    "    imgs.append(cv2.warpAffine(img, M_trans_neg_y3, (w, h), borderValue=(255,255,255)))\n",
    "    imgs.append(cv2.warpAffine(img, M_trans_y6, (w, h), borderValue=(255,255,255)))\n",
    "    imgs.append(cv2.warpAffine(img, M_trans_neg_y6, (w, h), borderValue=(255,255,255)))\n",
    "    imgs.append(cv2.add(img, 10))\n",
    "    imgs.append(cv2.add(img, 30))\n",
    "    imgs.append(cv2.add(img, -10))\n",
    "    imgs.append(cv2.add(img, -30)) \n",
    "    imgs.append(cv2.add(img, 15))\n",
    "    imgs.append(cv2.add(img, 45))\n",
    "    imgs.append(cv2.add(img, -15))\n",
    "    imgs.append(cv2.add(img, -45))\n",
    "    \n",
    "    return imgs"
   ]
  },
  {
   "cell_type": "markdown",
   "metadata": {},
   "source": [
    "- test augmentation result"
   ]
  },
  {
   "cell_type": "code",
   "execution_count": 14,
   "metadata": {},
   "outputs": [
    {
     "data": {
      "text/plain": [
       "<matplotlib.image.AxesImage at 0x27789408a90>"
      ]
     },
     "execution_count": 14,
     "metadata": {},
     "output_type": "execute_result"
    },
    {
     "data": {
      "image/png": "[encoded data removed]",
      "text/plain": [
       "<Figure size 432x288 with 1 Axes>"
      ]
     },
     "metadata": {
      "needs_background": "light"
     },
     "output_type": "display_data"
    }
   ],
   "source": [
    "plt.imshow(images[0], cmap=\"gray\")"
   ]
  },
  {
   "cell_type": "code",
   "execution_count": null,
   "metadata": {},
   "outputs": [],
   "source": [
    "img_test = images[0]\n",
    "\n",
    "augmented_image_test = img_augmentation(img_test)\n",
    "\n",
    "plt.figure(figsize=(15,10))\n",
    "for i, img in enumerate(augmented_image_test):\n",
    "    plt.subplot(4,5,i+1)\n",
    "    plt.imshow(img, cmap=\"gray\")\n",
    "plt.show()"
   ]
  },
  {
   "cell_type": "markdown",
   "metadata": {},
   "source": [
    "- apply augmentation to all images"
   ]
  },
  {
   "cell_type": "code",
   "execution_count": 57,
   "metadata": {},
   "outputs": [],
   "source": [
    "augmented_images = []\n",
    "augmented_names = []\n",
    "for i, img in enumerate(images):\n",
    "    try :\n",
    "        augmented_images.extend(img_augmentation(img))\n",
    "        augmented_names.extend([names[i]] * 20)\n",
    "    except :\n",
    "        print(i)"
   ]
  },
  {
   "cell_type": "markdown",
   "metadata": {},
   "source": [
    "- total augmentation image"
   ]
  },
  {
   "cell_type": "code",
   "execution_count": 58,
   "metadata": {},
   "outputs": [
    {
     "data": {
      "text/plain": [
       "(22900, 22900)"
      ]
     },
     "execution_count": 58,
     "metadata": {},
     "output_type": "execute_result"
    }
   ],
   "source": [
    "len(augmented_images), len(augmented_names)"
   ]
  },
  {
   "cell_type": "code",
   "execution_count": 59,
   "metadata": {},
   "outputs": [],
   "source": [
    "images.extend(augmented_images)\n",
    "names.extend(augmented_names)"
   ]
  },
  {
   "cell_type": "markdown",
   "metadata": {},
   "source": [
    "- total images augmentation + original"
   ]
  },
  {
   "cell_type": "code",
   "execution_count": 60,
   "metadata": {},
   "outputs": [
    {
     "data": {
      "text/plain": [
       "(24045, 24045)"
      ]
     },
     "execution_count": 60,
     "metadata": {},
     "output_type": "execute_result"
    }
   ],
   "source": [
    "len(images), len(names)"
   ]
  },
  {
   "cell_type": "code",
   "execution_count": 61,
   "metadata": {},
   "outputs": [
    {
     "name": "stdout",
     "output_type": "stream",
     "text": [
      "('Ariel_Sharon', 1617)\n",
      "('Colin_Powell', 3150)\n",
      "('Donald_Rumsfeld', 2541)\n",
      "('George_W_Bush', 3150)\n",
      "('Gerhard_Schroeder', 2289)\n",
      "('Hugo_Chavez', 1491)\n",
      "('Jacques_Chirac', 1092)\n",
      "('Jean_Chretien', 1155)\n",
      "('John_Ashcroft', 1113)\n",
      "('Junichiro_Koizumi', 1260)\n",
      "('Serena_Williams', 1092)\n",
      "('Tony_Blair', 3024)\n",
      "('Yunus', 1071)\n"
     ]
    }
   ],
   "source": [
    "unique, counts = np.unique(names, return_counts = True)\n",
    "\n",
    "for item in zip(unique, counts):\n",
    "    print(item)"
   ]
  },
  {
   "cell_type": "markdown",
   "metadata": {},
   "source": [
    "### 1.1.B Balancing Data"
   ]
  },
  {
   "cell_type": "code",
   "execution_count": 37,
   "metadata": {},
   "outputs": [
    {
     "data": {
      "image/png": "[encoded data removed]",
      "text/plain": [
       "<Figure size 864x432 with 1 Axes>"
      ]
     },
     "metadata": {},
     "output_type": "display_data"
    }
   ],
   "source": [
    "# preview data distribution\n",
    "\n",
    "def print_data(label_distr, label_name):\n",
    "    plt.figure(figsize=(12,6))\n",
    "\n",
    "    my_circle = plt.Circle( (0,0), 0.7, color='white')\n",
    "    plt.pie(label_distr, labels=label_name, autopct='%1.1f%%')\n",
    "    plt.gcf().gca().add_artist(my_circle)\n",
    "    plt.show()\n",
    "    \n",
    "unique = np.unique(names)\n",
    "label_distr = {i:names.count(i) for i in names}.values()\n",
    "print_data(label_distr, unique)"
   ]
  },
  {
   "cell_type": "code",
   "execution_count": 38,
   "metadata": {},
   "outputs": [],
   "source": [
    "# reduce sample size per-class using numpy random choice\n",
    "n = 1000\n",
    "\n",
    "def randc(labels, l):\n",
    "    return np.random.choice(np.where(np.array(labels) == l)[0], n, replace=False)\n",
    "\n",
    "mask = np.hstack([randc(names, l) for l in np.unique(names)])"
   ]
  },
  {
   "cell_type": "code",
   "execution_count": 39,
   "metadata": {},
   "outputs": [],
   "source": [
    "names = [names[m] for m in mask]\n",
    "images = [images[m] for m in mask]"
   ]
  },
  {
   "cell_type": "code",
   "execution_count": 40,
   "metadata": {},
   "outputs": [
    {
     "data": {
      "image/png": "[encoded data removed]",
      "text/plain": [
       "<Figure size 864x432 with 1 Axes>"
      ]
     },
     "metadata": {},
     "output_type": "display_data"
    }
   ],
   "source": [
    "label_distr = {i:names.count(i) for i in names}.values()\n",
    "print_data(label_distr, unique)"
   ]
  },
  {
   "cell_type": "code",
   "execution_count": 41,
   "metadata": {},
   "outputs": [
    {
     "data": {
      "text/plain": [
       "13000"
      ]
     },
     "execution_count": 41,
     "metadata": {},
     "output_type": "execute_result"
    }
   ],
   "source": [
    "len(names)"
   ]
  },
  {
   "cell_type": "markdown",
   "metadata": {},
   "source": [
    "### 1.2 Encoding Label & Categoricalization\n",
    "\n",
    "![](resource/encoding.png)"
   ]
  },
  {
   "cell_type": "code",
   "execution_count": 15,
   "metadata": {},
   "outputs": [],
   "source": [
    "le = LabelEncoder()\n",
    "\n",
    "le.fit(names)\n",
    "\n",
    "labels = le.classes_\n",
    "\n",
    "name_vec = le.transform(names)\n",
    "\n",
    "categorical_name_vec = to_categorical(name_vec)"
   ]
  },
  {
   "cell_type": "code",
   "execution_count": 16,
   "metadata": {},
   "outputs": [
    {
     "name": "stdout",
     "output_type": "stream",
     "text": [
      "number of class : 13\n",
      "['Ariel_Sharon' 'Colin_Powell' 'Donald_Rumsfeld' 'George_W_Bush'\n",
      " 'Gerhard_Schroeder' 'Hugo_Chavez' 'Jacques_Chirac' 'Jean_Chretien'\n",
      " 'John_Ashcroft' 'Junichiro_Koizumi' 'Serena_Williams' 'Tony_Blair'\n",
      " 'Yunus']\n"
     ]
    }
   ],
   "source": [
    "print(\"number of class :\", len(labels))\n",
    "print(labels)"
   ]
  },
  {
   "cell_type": "code",
   "execution_count": 64,
   "metadata": {},
   "outputs": [
    {
     "name": "stdout",
     "output_type": "stream",
     "text": [
      "[ 0  0  0 ... 12 12 12]\n"
     ]
    }
   ],
   "source": [
    "print(name_vec)"
   ]
  },
  {
   "cell_type": "code",
   "execution_count": 65,
   "metadata": {},
   "outputs": [
    {
     "name": "stdout",
     "output_type": "stream",
     "text": [
      "[[1. 0. 0. ... 0. 0. 0.]\n",
      " [1. 0. 0. ... 0. 0. 0.]\n",
      " [1. 0. 0. ... 0. 0. 0.]\n",
      " ...\n",
      " [0. 0. 0. ... 0. 0. 1.]\n",
      " [0. 0. 0. ... 0. 0. 1.]\n",
      " [0. 0. 0. ... 0. 0. 1.]]\n"
     ]
    }
   ],
   "source": [
    "print(categorical_name_vec)"
   ]
  },
  {
   "cell_type": "markdown",
   "metadata": {},
   "source": [
    "### 1.3 Split Dataset"
   ]
  },
  {
   "cell_type": "code",
   "execution_count": 66,
   "metadata": {},
   "outputs": [],
   "source": [
    "x_train, x_test, y_train, y_test = train_test_split(np.array(images, dtype=np.float32),   # input data\n",
    "                                                    np.array(categorical_name_vec),       # target/output data \n",
    "                                                    test_size=0.15, \n",
    "                                                    random_state=42)"
   ]
  },
  {
   "cell_type": "code",
   "execution_count": 67,
   "metadata": {},
   "outputs": [
    {
     "name": "stdout",
     "output_type": "stream",
     "text": [
      "(20438, 50, 50) (20438, 13) (3607, 50, 50) (3607, 13)\n"
     ]
    }
   ],
   "source": [
    "print(x_train.shape, y_train.shape, x_test.shape,  y_test.shape)"
   ]
  },
  {
   "cell_type": "markdown",
   "metadata": {},
   "source": [
    "### 1.4 Reshape Data"
   ]
  },
  {
   "cell_type": "code",
   "execution_count": 68,
   "metadata": {},
   "outputs": [],
   "source": [
    "x_train = x_train.reshape(x_train.shape[0], x_train.shape[1], x_train.shape[2], 1)\n",
    "x_test = x_test.reshape(x_test.shape[0], x_test.shape[1], x_test.shape[2], 1)"
   ]
  },
  {
   "cell_type": "code",
   "execution_count": 69,
   "metadata": {},
   "outputs": [
    {
     "data": {
      "text/plain": [
       "((20438, 50, 50, 1), (3607, 50, 50, 1))"
      ]
     },
     "execution_count": 69,
     "metadata": {},
     "output_type": "execute_result"
    }
   ],
   "source": [
    "x_train.shape, x_test.shape"
   ]
  },
  {
   "cell_type": "markdown",
   "metadata": {},
   "source": [
    "### 1.4 Create CNN Model"
   ]
  },
  {
   "cell_type": "code",
   "execution_count": 70,
   "metadata": {},
   "outputs": [],
   "source": [
    "def cnn_model(input_shape):  \n",
    "    model = Sequential()\n",
    "    \n",
    "    model.add(Conv2D(64,\n",
    "                    (3,3),\n",
    "                    padding=\"valid\",\n",
    "                    activation=\"relu\",\n",
    "                    input_shape=input_shape))\n",
    "    model.add(Conv2D(64,\n",
    "                    (3,3),\n",
    "                    padding=\"valid\",\n",
    "                    activation=\"relu\",\n",
    "                    input_shape=input_shape))\n",
    "    \n",
    "    model.add(MaxPool2D(pool_size=(2, 2)))\n",
    "    \n",
    "    model.add(Conv2D(128,\n",
    "                    (3,3),\n",
    "                    padding=\"valid\",\n",
    "                    activation=\"relu\"))\n",
    "    model.add(Conv2D(128,\n",
    "                    (3,3),\n",
    "                    padding=\"valid\",\n",
    "                    activation=\"relu\"))\n",
    "    model.add(MaxPool2D(pool_size=(2, 2)))\n",
    "    \n",
    "    model.add(Flatten())\n",
    "    \n",
    "    model.add(Dense(128, activation=\"relu\"))\n",
    "    model.add(Dense(64, activation=\"relu\"))\n",
    "    model.add(Dense(len(labels)))  # equal to number of classes\n",
    "    model.add(Activation(\"softmax\"))\n",
    "    \n",
    "    model.summary() \n",
    "    \n",
    "    model.compile(optimizer='adam', \n",
    "                  loss='categorical_crossentropy',\n",
    "                  metrics = ['accuracy'])\n",
    "\n",
    "    return model"
   ]
  },
  {
   "cell_type": "markdown",
   "metadata": {},
   "source": [
    "### 1.5 Training CNN Model"
   ]
  },
  {
   "cell_type": "code",
   "execution_count": 71,
   "metadata": {
    "scrolled": true
   },
   "outputs": [
    {
     "name": "stdout",
     "output_type": "stream",
     "text": [
      "_________________________________________________________________\n",
      "Layer (type)                 Output Shape              Param #   \n",
      "=================================================================\n",
      "conv2d_5 (Conv2D)            (None, 48, 48, 64)        640       \n",
      "_________________________________________________________________\n",
      "conv2d_6 (Conv2D)            (None, 46, 46, 64)        36928     \n",
      "_________________________________________________________________\n",
      "max_pooling2d_3 (MaxPooling2 (None, 23, 23, 64)        0         \n",
      "_________________________________________________________________\n",
      "conv2d_7 (Conv2D)            (None, 21, 21, 128)       73856     \n",
      "_________________________________________________________________\n",
      "conv2d_8 (Conv2D)            (None, 19, 19, 128)       147584    \n",
      "_________________________________________________________________\n",
      "max_pooling2d_4 (MaxPooling2 (None, 9, 9, 128)         0         \n",
      "_________________________________________________________________\n",
      "flatten_2 (Flatten)          (None, 10368)             0         \n",
      "_________________________________________________________________\n",
      "dense_8 (Dense)              (None, 128)               1327232   \n",
      "_________________________________________________________________\n",
      "dense_9 (Dense)              (None, 64)                8256      \n",
      "_________________________________________________________________\n",
      "dense_10 (Dense)             (None, 13)                845       \n",
      "_________________________________________________________________\n",
      "activation_3 (Activation)    (None, 13)                0         \n",
      "=================================================================\n",
      "Total params: 1,595,341\n",
      "Trainable params: 1,595,341\n",
      "Non-trainable params: 0\n",
      "_________________________________________________________________\n",
      "Train on 17372 samples, validate on 3066 samples\n",
      "Epoch 1/10\n",
      "17372/17372 [==============================] - 232s 13ms/step - loss: 1.5612 - acc: 0.5768 - val_loss: 0.4862 - val_acc: 0.8392\n",
      "Epoch 2/10\n",
      "17372/17372 [==============================] - 197s 11ms/step - loss: 0.3388 - acc: 0.8902 - val_loss: 0.6127 - val_acc: 0.8183\n",
      "Epoch 3/10\n",
      "17372/17372 [==============================] - 147s 8ms/step - loss: 0.1916 - acc: 0.9388 - val_loss: 0.2158 - val_acc: 0.9289\n",
      "Epoch 4/10\n",
      "17372/17372 [==============================] - 181s 10ms/step - loss: 0.1166 - acc: 0.9630 - val_loss: 0.1838 - val_acc: 0.9462\n",
      "Epoch 5/10\n",
      "17372/17372 [==============================] - 155s 9ms/step - loss: 0.0914 - acc: 0.9707 - val_loss: 0.1918 - val_acc: 0.9524\n",
      "Epoch 6/10\n",
      "17372/17372 [==============================] - 248s 14ms/step - loss: 0.0668 - acc: 0.9792 - val_loss: 0.1219 - val_acc: 0.9631\n",
      "Epoch 7/10\n",
      "17372/17372 [==============================] - 197s 11ms/step - loss: 0.0619 - acc: 0.9803 - val_loss: 0.2833 - val_acc: 0.9282\n",
      "Epoch 8/10\n",
      "17372/17372 [==============================] - 248s 14ms/step - loss: 0.0706 - acc: 0.9780 - val_loss: 0.1420 - val_acc: 0.9651\n",
      "Epoch 9/10\n",
      "17372/17372 [==============================] - 248s 14ms/step - loss: 0.0447 - acc: 0.9860 - val_loss: 0.1719 - val_acc: 0.9563\n",
      "Epoch 10/10\n",
      "17372/17372 [==============================] - 189s 11ms/step - loss: 0.0407 - acc: 0.9882 - val_loss: 0.1519 - val_acc: 0.9644\n"
     ]
    }
   ],
   "source": [
    "input_shape = x_train[0].shape\n",
    "\n",
    "EPOCHS = 10\n",
    "BATCH_SIZE = 32\n",
    "\n",
    "model = cnn_model(input_shape)\n",
    "\n",
    "history = model.fit(x_train, \n",
    "                    y_train,\n",
    "                    epochs=EPOCHS,\n",
    "                    batch_size=BATCH_SIZE,\n",
    "                    shuffle=True,\n",
    "                    validation_split=0.15   # 15% of train dataset will be used as validation set\n",
    "                    )"
   ]
  },
  {
   "cell_type": "markdown",
   "metadata": {},
   "source": [
    "- jalankan training dengan `EPOCHS` dan `BATCH_SIZE` yang telah diset.\n",
    "- `BATCH_SIZE` merupakan banyaknya sample yang akan di propagasikan kedalam Network\n",
    "- Benefit menggunakan `BATCH_SIZE` < training sample\n",
    "    - less memory to consume : karena menggunakan sedikit data saat diproses dalam network\n",
    "    - network lebih cepat melakukan proses learning \n",
    "- Penggunaan `BATCH_SIZE` terlalu kecil dapat mengakibatkan gradient update fluktuatif\n",
    "- 1 `EPOCH` artinya 1 forwardpass dan backwardpass untuk keseluruhan training sample\n",
    "- Jumlah `ITERASI` banyaknya forwardpass dan backwardpass untuk tiap `BATCH_SIZE`\n",
    "- contoh :\n",
    "    - kita memiliki 1000 training sample\n",
    "    - kita pilih `BATCH_SIZE` 10 dan `EPOCH` 5\n",
    "    - sehingga pada tiap `EPOCH` akan dilakukan forwardpass dan backwardpass untuk 1000 training sample yang dibagi meenjadi 10 batch, dimana tiap batch nya akan diproses 100 sample.\n",
    "    - Proses ini akan menghasilkan setidaknya 100x5 iterasi (forwardpass dan backwardpass)."
   ]
  },
  {
   "cell_type": "markdown",
   "metadata": {},
   "source": [
    "- Plot history accuracy , precision dan recall untuk training set dan validation set "
   ]
  },
  {
   "cell_type": "code",
   "execution_count": 72,
   "metadata": {},
   "outputs": [
    {
     "data": {
      "image/png": "[encoded data removed]",
      "text/plain": [
       "<Figure size 432x288 with 1 Axes>"
      ]
     },
     "metadata": {
      "needs_background": "light"
     },
     "output_type": "display_data"
    },
    {
     "data": {
      "image/png": "[encoded data removed]",
      "text/plain": [
       "<Figure size 432x288 with 1 Axes>"
      ]
     },
     "metadata": {
      "needs_background": "light"
     },
     "output_type": "display_data"
    }
   ],
   "source": [
    "def evaluate_model_(history):\n",
    "    names = [['acc', 'val_acc'], \n",
    "             ['loss', 'val_loss']]\n",
    "    for name in names :\n",
    "        fig1, ax_acc = plt.subplots()\n",
    "        plt.plot(history.history[name[0]])\n",
    "        plt.plot(history.history[name[1]])\n",
    "        plt.xlabel('Epoch')\n",
    "        plt.ylabel(name[0])\n",
    "        plt.title('Model - ' + name[0])\n",
    "        plt.legend(['Training', 'Validation'], loc='lower right')\n",
    "        plt.grid()\n",
    "        plt.show()\n",
    "        \n",
    "evaluate_model_(history)"
   ]
  },
  {
   "cell_type": "markdown",
   "metadata": {},
   "source": [
    "- pada plot accuracy untuk validation data terlihat lebih **fluktuatif**, apakah ini normal?\n",
    "- ini bisa diakibatkan oleh `BATCH_SIZE` yang **terlalu kecil**, seperti contohnya jika pada dataset terdapat misslabeled data yang mengakibatkan nilai loss meningkat atau menjauhkannya dari local minima.\n",
    "- efek ini bisa dihindari jika kita memilih `BATCH_SIZE` lebih besar. \n",
    "- Namun `BATCH_SIZE` yang **terlalu besar** dapat mengakibatkan **training** process menjadi lebih berat dan **lambat**.\n",
    "- selain itu `BATCH_SIZE` **terlalu besar** akan mengakibatkan **generalization** pada model menjadi **jelek** (sumber [link](https://medium.com/mini-distill/effect-of-batch-size-on-training-dynamics-21c14f7a716e#:~:text=large%20batch%20size%20means%20the,all%20about%20the%20same%20size.))\n",
    "- **Generalization** merupakan salah satu kemampuan Neural Network yang artinya model mampu mengklasifikasikan data yang tidak pernah dilihat sebelumnya (*unseen data*) (sumber [link](http://www.eie.polyu.edu.hk/~enzheru/snns/SNNSinfo/UserManual/node16.html#:~:text=Learning%20in%20Neural-,Generalization%20of%20Neural%20Networks,it%20has%20never%20seen%20before.))"
   ]
  },
  {
   "cell_type": "markdown",
   "metadata": {},
   "source": [
    "- save model"
   ]
  },
  {
   "cell_type": "code",
   "execution_count": 73,
   "metadata": {},
   "outputs": [],
   "source": [
    "model.save(\"model-cnn-facerecognition.h5\")"
   ]
  },
  {
   "cell_type": "markdown",
   "metadata": {},
   "source": [
    "- predict to all test dataset"
   ]
  },
  {
   "cell_type": "code",
   "execution_count": 74,
   "metadata": {},
   "outputs": [],
   "source": [
    "# predict test data\n",
    "y_pred=model.predict(x_test)"
   ]
  },
  {
   "cell_type": "markdown",
   "metadata": {},
   "source": [
    "- plot confusion matrix"
   ]
  },
  {
   "cell_type": "code",
   "execution_count": 75,
   "metadata": {},
   "outputs": [],
   "source": [
    "def plot_confusion_matrix(cm, classes,\n",
    "                          normalize=False,\n",
    "                          title='Confusion matrix',\n",
    "                          cmap=plt.cm.Blues):\n",
    "    if normalize:\n",
    "        cm = cm.astype('float') / cm.sum(axis=1)[:, np.newaxis]\n",
    "\n",
    "    plt.figure(figsize=(8, 8))\n",
    "    \n",
    "    plt.imshow(cm, interpolation='nearest', cmap=cmap)\n",
    "    plt.title(title)\n",
    "    plt.colorbar()\n",
    "    \n",
    "    tick_marks = np.arange(len(classes))\n",
    "    plt.xticks(tick_marks, classes, rotation=45)\n",
    "    plt.yticks(tick_marks, classes)\n",
    "\n",
    "    fmt = '.2f' if normalize else 'd'\n",
    "    thresh = cm.max() / 2.\n",
    "    for i, j in itertools.product(range(cm.shape[0]), range(cm.shape[1])):\n",
    "        plt.text(j, i, format(cm[i, j], fmt),\n",
    "                 horizontalalignment=\"center\",\n",
    "                 color=\"white\" if cm[i, j] > thresh else \"black\")\n",
    "\n",
    "    plt.tight_layout()\n",
    "    plt.ylabel('True label')\n",
    "    plt.xlabel('Predicted label')\n",
    "    plt.show()"
   ]
  },
  {
   "cell_type": "code",
   "execution_count": 76,
   "metadata": {},
   "outputs": [
    {
     "data": {
      "image/png": "[encoded data removed]",
      "text/plain": [
       "<Figure size 576x576 with 2 Axes>"
      ]
     },
     "metadata": {
      "needs_background": "light"
     },
     "output_type": "display_data"
    }
   ],
   "source": [
    "# Compute confusion matrix\n",
    "cnf_matrix = confusion_matrix(y_test.argmax(axis=1), y_pred.argmax(axis=1))\n",
    "np.set_printoptions(precision=2)\n",
    "\n",
    "\n",
    "# Plot non-normalized confusion matrix\n",
    "plot_confusion_matrix(cnf_matrix, classes=labels,normalize=False,\n",
    "                      title='Confusion matrix')\n"
   ]
  },
  {
   "cell_type": "markdown",
   "metadata": {},
   "source": [
    "- Calculate metric report menggunakan `classification_report()` pada `scikit-learn` "
   ]
  },
  {
   "cell_type": "code",
   "execution_count": 77,
   "metadata": {},
   "outputs": [
    {
     "name": "stdout",
     "output_type": "stream",
     "text": [
      "                   precision    recall  f1-score   support\n",
      "\n",
      "     Ariel_Sharon       0.97      0.98      0.98       240\n",
      "     Colin_Powell       0.96      0.99      0.98       492\n",
      "  Donald_Rumsfeld       0.96      0.99      0.97       392\n",
      "    George_W_Bush       0.98      0.97      0.98       492\n",
      "Gerhard_Schroeder       0.99      0.90      0.95       355\n",
      "      Hugo_Chavez       0.93      0.96      0.94       195\n",
      "   Jacques_Chirac       0.96      0.95      0.96       153\n",
      "    Jean_Chretien       0.98      0.97      0.97       173\n",
      "    John_Ashcroft       0.98      0.95      0.97       145\n",
      "Junichiro_Koizumi       0.99      0.94      0.97       195\n",
      "  Serena_Williams       0.99      0.95      0.97       145\n",
      "       Tony_Blair       0.94      0.98      0.96       458\n",
      "            Yunus       0.99      1.00      1.00       172\n",
      "\n",
      "         accuracy                           0.97      3607\n",
      "        macro avg       0.97      0.96      0.97      3607\n",
      "     weighted avg       0.97      0.97      0.97      3607\n",
      "\n"
     ]
    }
   ],
   "source": [
    "print(classification_report(y_test.argmax(axis=1), \n",
    "                            y_pred.argmax(axis=1), \n",
    "                            target_names=labels))"
   ]
  },
  {
   "cell_type": "code",
   "execution_count": null,
   "metadata": {},
   "outputs": [],
   "source": []
  },
  {
   "cell_type": "markdown",
   "metadata": {},
   "source": [
    "___"
   ]
  },
  {
   "cell_type": "markdown",
   "metadata": {},
   "source": [
    "# Apply Our Face Dataset"
   ]
  },
  {
   "cell_type": "markdown",
   "metadata": {},
   "source": [
    "- create new class data from yout face"
   ]
  },
  {
   "cell_type": "code",
   "execution_count": null,
   "metadata": {},
   "outputs": [],
   "source": [
    "cap = cv2.VideoCapture(0)\n",
    "\n",
    "my_name = \"Yunus\"\n",
    "os.mkdir(dataset_folder + my_name)\n",
    "num_sample = 50\n",
    "\n",
    "i = 0\n",
    "while cap.isOpened():\n",
    "    ret, frame = cap.read()\n",
    "    \n",
    "    if ret :\n",
    "        cv2.imshow(\"Capture Photo\", frame)\n",
    "        cv2.imwrite(\"dataset/%s/%s_%04d.jpg\" %  (my_name, my_name, i), cv2.resize(frame, (250,250)))\n",
    "        \n",
    "        if cv2.waitKey(100) == ord('q') or i == num_sample:\n",
    "            break\n",
    "        i += 1    \n",
    "cap.release()\n",
    "cv2.destroyAllWindows()"
   ]
  },
  {
   "cell_type": "markdown",
   "metadata": {},
   "source": [
    "- Rerun Load dataset, Traing & Test Model"
   ]
  },
  {
   "cell_type": "markdown",
   "metadata": {},
   "source": [
    "___\n",
    "## Facerecognition on Video Frame"
   ]
  },
  {
   "cell_type": "code",
   "execution_count": 1,
   "metadata": {},
   "outputs": [
    {
     "name": "stderr",
     "output_type": "stream",
     "text": [
      "Using TensorFlow backend.\n"
     ]
    }
   ],
   "source": [
    "from keras.models import load_model"
   ]
  },
  {
   "cell_type": "code",
   "execution_count": 2,
   "metadata": {},
   "outputs": [],
   "source": [
    "def draw_ped(img, label, x0, y0, xt, yt, color=(255,127,0), text_color=(255,255,255)):\n",
    "\n",
    "    (w, h), baseline = cv2.getTextSize(label, cv2.FONT_HERSHEY_SIMPLEX, 0.5, 1)\n",
    "    cv2.rectangle(img,\n",
    "                  (x0, y0 + baseline),  \n",
    "                  (max(xt, x0 + w), yt), \n",
    "                  color, \n",
    "                  2)\n",
    "    cv2.rectangle(img,\n",
    "                  (x0, y0 - h),  \n",
    "                  (x0 + w, y0 + baseline), \n",
    "                  color, \n",
    "                  -1)  \n",
    "    cv2.putText(img, \n",
    "                label, \n",
    "                (x0, y0),                   \n",
    "                cv2.FONT_HERSHEY_SIMPLEX,     \n",
    "                0.5,                          \n",
    "                text_color,                \n",
    "                1,\n",
    "                cv2.LINE_AA) \n",
    "    return img"
   ]
  },
  {
   "cell_type": "code",
   "execution_count": 17,
   "metadata": {},
   "outputs": [
    {
     "name": "stdout",
     "output_type": "stream",
     "text": [
      "[INFO] finish load model...\n"
     ]
    }
   ],
   "source": [
    "# --------- load Haar Cascade model -------------\n",
    "face_cascade = cv2.CascadeClassifier('haarcascades/haarcascade_frontalface_default.xml')\n",
    "\n",
    "# --------- load Keras CNN model -------------\n",
    "model = load_model(\"model-cnn-facerecognition.h5\")\n",
    "print(\"[INFO] finish load model...\")\n",
    "\n",
    "cap = cv2.VideoCapture(0)\n",
    "while cap.isOpened() :\n",
    "    ret, frame = cap.read()\n",
    "    if ret:\n",
    "        gray = cv2.cvtColor(frame, cv2.COLOR_BGR2GRAY)\n",
    "        faces = face_cascade.detectMultiScale(gray, 1.1, 5)\n",
    "        for (x, y, w, h) in faces:\n",
    "            \n",
    "            face_img = gray[y:y+h, x:x+w]\n",
    "            face_img = cv2.resize(face_img, (50, 50))\n",
    "            face_img = face_img.reshape(1, 50, 50, 1)\n",
    "            \n",
    "            result = model.predict(face_img)\n",
    "            idx = result.argmax(axis=1)\n",
    "            confidence = result.max(axis=1)*100\n",
    "            if confidence > 80:\n",
    "                label_text = \"%s (%.2f %%)\" % (labels[idx], confidence)\n",
    "            else :\n",
    "                label_text = \"N/A\"\n",
    "            frame = draw_ped(frame, label_text, x, y, x + w, y + h, color=(0,255,255), text_color=(50,50,50))\n",
    "       \n",
    "        cv2.imshow('Detect Face', frame)\n",
    "    else :\n",
    "        break\n",
    "    if cv2.waitKey(10) == ord('q'):\n",
    "        break\n",
    "        \n",
    "cv2.destroyAllWindows()\n",
    "cap.release()"
   ]
  },
  {
   "cell_type": "code",
   "execution_count": 7,
   "metadata": {},
   "outputs": [],
   "source": [
    "cv2.destroyAllWindows()\n",
    "cap.release()"
   ]
  },
  {
   "cell_type": "code",
   "execution_count": null,
   "metadata": {},
   "outputs": [],
   "source": []
  }
 ],
 "metadata": {
  "kernelspec": {
   "display_name": "Python [conda env:GPU_ENV]",
   "language": "python",
   "name": "conda-env-GPU_ENV-py"
  },
  "language_info": {
   "codemirror_mode": {
    "name": "ipython",
    "version": 3
   },
   "file_extension": ".py",
   "mimetype": "text/x-python",
   "name": "python",
   "nbconvert_exporter": "python",
   "pygments_lexer": "ipython3",
   "version": "3.6.12"
  }
 },
 "nbformat": 4,
 "nbformat_minor": 4
}
