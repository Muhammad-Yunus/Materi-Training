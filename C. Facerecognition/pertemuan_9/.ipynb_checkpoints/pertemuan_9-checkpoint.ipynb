{
 "cells": [
  {
   "cell_type": "markdown",
   "metadata": {},
   "source": [
    "# Pertemuan 9\n",
    "- Intro OpenCV DNN\n",
    "- Convert Keras Model (.h5) to Tensorflow (.pb)\n",
    "- Optimize Model (.pb) using Tensorboard & Tensorflow\n",
    "- Stream Video OpenCV DNN to Flask \n",
    "    - Basic Flask Route & Templating\n",
    "    - Flask - OpenCV MJPEG Stream\n",
    "    - Flask - OpenCV Facedetection MJPEG Stream\n",
    "    - Flask - OpenCV Facerecognition MJPEG Stream"
   ]
  },
  {
   "cell_type": "markdown",
   "metadata": {},
   "source": [
    "# 1 OpenCV DNN\n",
    "\n",
    "- Compatibility : > OpenCV 3.3\n",
    "- Wiki : https://github.com/opencv/opencv/wiki/Deep-Learning-in-OpenCV\n",
    "- Since OpenCV 3.1 there is DNN module in the library that implements **forward pass** (inferencing) with deep networks, **pre-trained**using some popular deep learning frameworks.\n",
    "- The supported frameworks:\n",
    "    - Caffe\n",
    "    - TensorFlow\n",
    "    - Torch\n",
    "    - Darknet (Yolo)\n",
    "    - Models in ONNX format </br>\n",
    "    \n",
    "#### 1.1 OpenCV DNN workflow\n",
    "![](resource/opencv_dnn_01.png)\n",
    "\n",
    "#### 1.2 Model Preparation for OpenCV DNN\n",
    "![](resource/opencv_dnn_03.png)"
   ]
  },
  {
   "cell_type": "markdown",
   "metadata": {},
   "source": [
    "#### 1.3 Convert Keras (.h5) to Tensorflow (.pb)"
   ]
  },
  {
   "cell_type": "code",
   "execution_count": 1,
   "metadata": {},
   "outputs": [
    {
     "name": "stderr",
     "output_type": "stream",
     "text": [
      "Using TensorFlow backend.\n"
     ]
    },
    {
     "name": "stdout",
     "output_type": "stream",
     "text": [
      "2.3.1\n",
      "2.0.0\n"
     ]
    }
   ],
   "source": [
    "import keras\n",
    "import tensorflow as tf\n",
    "\n",
    "print(keras.__version__)\n",
    "print(tf.__version__)"
   ]
  },
  {
   "cell_type": "markdown",
   "metadata": {},
   "source": [
    "- load keras model (.h5)"
   ]
  },
  {
   "cell_type": "code",
   "execution_count": 2,
   "metadata": {},
   "outputs": [],
   "source": [
    "model = tf.keras.models.load_model('model-cnn-facerecognition.h5')"
   ]
  },
  {
   "cell_type": "markdown",
   "metadata": {},
   "source": [
    "- save model as a folder `'tf_model/'`"
   ]
  },
  {
   "cell_type": "code",
   "execution_count": 3,
   "metadata": {},
   "outputs": [
    {
     "name": "stdout",
     "output_type": "stream",
     "text": [
      "WARNING:tensorflow:From C:\\Users\\yunus\\Anaconda3\\envs\\CVDL\\lib\\site-packages\\tensorflow_core\\python\\ops\\resource_variable_ops.py:1781: calling BaseResourceVariable.__init__ (from tensorflow.python.ops.resource_variable_ops) with constraint is deprecated and will be removed in a future version.\n",
      "Instructions for updating:\n",
      "If using Keras pass *_constraint arguments to layers.\n",
      "INFO:tensorflow:Assets written to: tf_model\\assets\n"
     ]
    }
   ],
   "source": [
    "model.save(\"tf_model\")"
   ]
  },
  {
   "cell_type": "code",
   "execution_count": 4,
   "metadata": {},
   "outputs": [
    {
     "name": "stdout",
     "output_type": "stream",
     "text": [
      " Volume in drive C has no label.\n",
      " Volume Serial Number is 6622-681D\n",
      "\n",
      " Directory of C:\\Users\\yunus\\Documents\\GitHub\\Materi-Training\\C. Facerecognition\\pertemuan_9\\tf_model\n",
      "\n",
      "12/28/2020  11:42 PM    <DIR>          .\n",
      "12/28/2020  11:42 PM    <DIR>          ..\n",
      "12/28/2020  11:42 PM    <DIR>          assets\n",
      "12/28/2020  11:42 PM           200,562 saved_model.pb\n",
      "12/28/2020  11:42 PM    <DIR>          variables\n",
      "               1 File(s)        200,562 bytes\n",
      "               4 Dir(s)  254,368,636,928 bytes free\n"
     ]
    }
   ],
   "source": [
    "! dir tf_model"
   ]
  },
  {
   "cell_type": "markdown",
   "metadata": {},
   "source": [
    "#### 1.4 View Input & Output model graph (.pb)"
   ]
  },
  {
   "cell_type": "code",
   "execution_count": 5,
   "metadata": {},
   "outputs": [],
   "source": [
    "from tensorflow.python.framework.convert_to_constants import convert_variables_to_constants_v2"
   ]
  },
  {
   "cell_type": "code",
   "execution_count": 6,
   "metadata": {},
   "outputs": [],
   "source": [
    "importer = tf.saved_model.load(\"tf_model/\")"
   ]
  },
  {
   "cell_type": "code",
   "execution_count": 7,
   "metadata": {},
   "outputs": [],
   "source": [
    "infer = importer.signatures['serving_default']"
   ]
  },
  {
   "cell_type": "code",
   "execution_count": 8,
   "metadata": {
    "scrolled": true
   },
   "outputs": [
    {
     "name": "stdout",
     "output_type": "stream",
     "text": [
      "conv2d_5_input Placeholder\n",
      "statefulpartitionedcall_args_11 Const\n",
      "statefulpartitionedcall_args_13 Const\n",
      "statefulpartitionedcall_args_9 Const\n",
      "statefulpartitionedcall_args_14 Const\n",
      "statefulpartitionedcall_args_5 Const\n",
      "statefulpartitionedcall_args_2 Const\n",
      "statefulpartitionedcall_args_3 Const\n",
      "statefulpartitionedcall_args_4 Const\n",
      "statefulpartitionedcall_args_1 Const\n",
      "statefulpartitionedcall_args_6 Const\n",
      "statefulpartitionedcall_args_7 Const\n",
      "statefulpartitionedcall_args_10 Const\n",
      "statefulpartitionedcall_args_12 Const\n",
      "statefulpartitionedcall_args_8 Const\n",
      "Func/StatefulPartitionedCall/input_control_node/_0 NoOp\n",
      "Func/StatefulPartitionedCall/input/_1 Identity\n",
      "Func/StatefulPartitionedCall/input/_2 Identity\n",
      "StatefulPartitionedCall/sequential_3/conv2d_5/Conv2D/ReadVariableOp Identity\n",
      "StatefulPartitionedCall/sequential_3/conv2d_5/Conv2D Conv2D\n",
      "Func/StatefulPartitionedCall/input/_3 Identity\n",
      "StatefulPartitionedCall/sequential_3/conv2d_5/BiasAdd/ReadVariableOp Identity\n",
      "StatefulPartitionedCall/sequential_3/conv2d_5/BiasAdd BiasAdd\n",
      "StatefulPartitionedCall/sequential_3/conv2d_5/Relu Relu\n",
      "Func/StatefulPartitionedCall/input/_4 Identity\n",
      "StatefulPartitionedCall/sequential_3/conv2d_6/Conv2D/ReadVariableOp Identity\n",
      "StatefulPartitionedCall/sequential_3/conv2d_6/Conv2D Conv2D\n",
      "Func/StatefulPartitionedCall/input/_5 Identity\n",
      "StatefulPartitionedCall/sequential_3/conv2d_6/BiasAdd/ReadVariableOp Identity\n",
      "StatefulPartitionedCall/sequential_3/conv2d_6/BiasAdd BiasAdd\n",
      "StatefulPartitionedCall/sequential_3/conv2d_6/Relu Relu\n",
      "StatefulPartitionedCall/sequential_3/max_pooling2d_3/MaxPool MaxPool\n",
      "Func/StatefulPartitionedCall/input/_6 Identity\n",
      "StatefulPartitionedCall/sequential_3/conv2d_7/Conv2D/ReadVariableOp Identity\n",
      "StatefulPartitionedCall/sequential_3/conv2d_7/Conv2D Conv2D\n",
      "Func/StatefulPartitionedCall/input/_7 Identity\n",
      "StatefulPartitionedCall/sequential_3/conv2d_7/BiasAdd/ReadVariableOp Identity\n",
      "StatefulPartitionedCall/sequential_3/conv2d_7/BiasAdd BiasAdd\n",
      "StatefulPartitionedCall/sequential_3/conv2d_7/Relu Relu\n",
      "Func/StatefulPartitionedCall/input/_8 Identity\n",
      "StatefulPartitionedCall/sequential_3/conv2d_8/Conv2D/ReadVariableOp Identity\n",
      "StatefulPartitionedCall/sequential_3/conv2d_8/Conv2D Conv2D\n",
      "Func/StatefulPartitionedCall/input/_9 Identity\n",
      "StatefulPartitionedCall/sequential_3/conv2d_8/BiasAdd/ReadVariableOp Identity\n",
      "StatefulPartitionedCall/sequential_3/conv2d_8/BiasAdd BiasAdd\n",
      "StatefulPartitionedCall/sequential_3/conv2d_8/Relu Relu\n",
      "StatefulPartitionedCall/sequential_3/max_pooling2d_4/MaxPool MaxPool\n",
      "StatefulPartitionedCall/sequential_3/flatten_2/Reshape/shape Const\n",
      "StatefulPartitionedCall/sequential_3/flatten_2/Reshape Reshape\n",
      "Func/StatefulPartitionedCall/input/_10 Identity\n",
      "StatefulPartitionedCall/sequential_3/dense_8/MatMul/ReadVariableOp Identity\n",
      "StatefulPartitionedCall/sequential_3/dense_8/MatMul MatMul\n",
      "Func/StatefulPartitionedCall/input/_11 Identity\n",
      "StatefulPartitionedCall/sequential_3/dense_8/BiasAdd/ReadVariableOp Identity\n",
      "StatefulPartitionedCall/sequential_3/dense_8/BiasAdd BiasAdd\n",
      "StatefulPartitionedCall/sequential_3/dense_8/Relu Relu\n",
      "Func/StatefulPartitionedCall/input/_12 Identity\n",
      "StatefulPartitionedCall/sequential_3/dense_9/MatMul/ReadVariableOp Identity\n",
      "StatefulPartitionedCall/sequential_3/dense_9/MatMul MatMul\n",
      "Func/StatefulPartitionedCall/input/_13 Identity\n",
      "StatefulPartitionedCall/sequential_3/dense_9/BiasAdd/ReadVariableOp Identity\n",
      "StatefulPartitionedCall/sequential_3/dense_9/BiasAdd BiasAdd\n",
      "StatefulPartitionedCall/sequential_3/dense_9/Relu Relu\n",
      "Func/StatefulPartitionedCall/input/_14 Identity\n",
      "StatefulPartitionedCall/sequential_3/dense_10/MatMul/ReadVariableOp Identity\n",
      "StatefulPartitionedCall/sequential_3/dense_10/MatMul MatMul\n",
      "Func/StatefulPartitionedCall/input/_15 Identity\n",
      "StatefulPartitionedCall/sequential_3/dense_10/BiasAdd/ReadVariableOp Identity\n",
      "StatefulPartitionedCall/sequential_3/dense_10/BiasAdd BiasAdd\n",
      "StatefulPartitionedCall/sequential_3/activation_3/Softmax Softmax\n",
      "StatefulPartitionedCall/Identity Identity\n",
      "Func/StatefulPartitionedCall/output/_16 Identity\n",
      "Func/StatefulPartitionedCall/output_control_node/_17 NoOp\n",
      "Identity Identity\n"
     ]
    }
   ],
   "source": [
    "f = convert_variables_to_constants_v2(infer)\n",
    "graph_def = f.graph.as_graph_def()\n",
    "\n",
    "for n in graph_def.node:\n",
    "    print( n.name, n.op)\n"
   ]
  },
  {
   "cell_type": "markdown",
   "metadata": {},
   "source": [
    "#### 1.5 Convert Model (.pb) to frozen model graph (.pb) & Optimize for Inference"
   ]
  },
  {
   "cell_type": "code",
   "execution_count": 9,
   "metadata": {},
   "outputs": [],
   "source": [
    "from tensorflow.python.tools import optimize_for_inference_lib"
   ]
  },
  {
   "cell_type": "code",
   "execution_count": 63,
   "metadata": {},
   "outputs": [],
   "source": [
    "f = convert_variables_to_constants_v2(infer)\n",
    "graph_def = f.graph.as_graph_def()\n",
    "\n",
    "graph_def = optimize_for_inference_lib.optimize_for_inference(graph_def,\n",
    "                                                              ['conv2d_5_input'],\n",
    "                                                              ['Identity'],\n",
    "                                                              tf.float32.as_datatype_enum)\n",
    "\n",
    "with tf.io.gfile.GFile('frozen_graph.pb', 'wb') as f:\n",
    "    f.write(graph_def.SerializeToString())"
   ]
  },
  {
   "cell_type": "markdown",
   "metadata": {},
   "source": [
    "#### 1.6 Inference model using OpenCV DNN"
   ]
  },
  {
   "cell_type": "code",
   "execution_count": 64,
   "metadata": {},
   "outputs": [],
   "source": [
    "import os\n",
    "import cv2\n",
    "import numpy as np\n",
    "import matplotlib.pyplot as plt"
   ]
  },
  {
   "cell_type": "code",
   "execution_count": 65,
   "metadata": {},
   "outputs": [
    {
     "data": {
      "text/plain": [
       "'4.5.0'"
      ]
     },
     "execution_count": 65,
     "metadata": {},
     "output_type": "execute_result"
    }
   ],
   "source": [
    "cv2.__version__"
   ]
  },
  {
   "cell_type": "markdown",
   "metadata": {},
   "source": [
    "##### 1.6.A Load Model using OpenCV DNN"
   ]
  },
  {
   "cell_type": "code",
   "execution_count": 66,
   "metadata": {},
   "outputs": [],
   "source": [
    "labels = ['Ariel_Sharon',\n",
    "          'Colin_Powell',\n",
    "          'Donald_Rumsfeld',\n",
    "          'George_W_Bush',\n",
    "          'Gerhard_Schroeder',\n",
    "          'Hugo_Chavez',\n",
    "          'Jacques_Chirac',\n",
    "          'Jean_Chretien',\n",
    "          'John_Ashcroft',\n",
    "          'Junichiro_Koizumi',\n",
    "          'Serena_Williams',\n",
    "          'Tony_Blair',\n",
    "          'Yunus']"
   ]
  },
  {
   "cell_type": "code",
   "execution_count": 67,
   "metadata": {},
   "outputs": [],
   "source": [
    "facerecognition_model = \"frozen_graph.pb\"\n",
    "net = cv2.dnn.readNet(facerecognition_model)"
   ]
  },
  {
   "cell_type": "markdown",
   "metadata": {},
   "source": [
    "- `cv2.dnn.readNet(model, configration)` \n",
    "- where :\n",
    "    - `model` :\n",
    "        - `*.caffemodel` (Caffe, http://caffe.berkeleyvision.org/)\n",
    "        - `*.pb` (TensorFlow, https://www.tensorflow.org/)\n",
    "        - `*.t7` | `*.net` (Torch, http://torch.ch/)\n",
    "        - `*.weights` (Darknet, https://pjreddie.com/darknet/)\n",
    "        - `*.bin` (DLDT, https://software.intel.com/openvino-toolkit)\n",
    "    - `configuration` :\n",
    "        - `*.prototxt` (Caffe, http://caffe.berkeleyvision.org/)\n",
    "        - `*.pbtxt` (TensorFlow, https://www.tensorflow.org/)\n",
    "        - `*.cfg` (Darknet, https://pjreddie.com/darknet/)\n",
    "        - `*.xml` (DLDT, https://software.intel.com/openvino-toolkit)\n",
    "- This function automatically detects an origin framework of trained model and calls an appropriate function such \n",
    "    - `cv2.dnn.readNetFromCaffe` \n",
    "    - `cv2.dnn.readNetFromTensorflow`\n",
    "    - `cv2.dnn.readNetFromTorch` \n",
    "    - `cv2.dnn.readNetFromDarknet`"
   ]
  },
  {
   "cell_type": "code",
   "execution_count": 68,
   "metadata": {},
   "outputs": [],
   "source": [
    "# set backend & target OpenCV DNN\n",
    "\n",
    "net.setPreferableBackend(cv2.dnn.DNN_BACKEND_OPENCV)\n",
    "net.setPreferableTarget(cv2.dnn.DNN_TARGET_CPU)"
   ]
  },
  {
   "cell_type": "code",
   "execution_count": 69,
   "metadata": {},
   "outputs": [],
   "source": [
    "layerOutput = net.getUnconnectedOutLayersNames()"
   ]
  },
  {
   "cell_type": "code",
   "execution_count": 70,
   "metadata": {},
   "outputs": [
    {
     "data": {
      "text/plain": [
       "['StatefulPartitionedCall/sequential_3/activation_3/Softmax']"
      ]
     },
     "execution_count": 70,
     "metadata": {},
     "output_type": "execute_result"
    }
   ],
   "source": [
    "layerOutput"
   ]
  },
  {
   "cell_type": "markdown",
   "metadata": {},
   "source": [
    "##### 1.6.B Predict Image Face using OpenCV DNN"
   ]
  },
  {
   "cell_type": "code",
   "execution_count": 71,
   "metadata": {},
   "outputs": [],
   "source": [
    "def detect_face(img):\n",
    "    img = img[70:195,78:172]\n",
    "    img = cv2.cvtColor(img, cv2.COLOR_BGR2GRAY)\n",
    "    img = cv2.resize(img, (50, 50))\n",
    "    return img"
   ]
  },
  {
   "cell_type": "code",
   "execution_count": 54,
   "metadata": {},
   "outputs": [
    {
     "data": {
      "text/plain": [
       "['Colin_Powell_0008.jpg',\n",
       " 'Donald_Rumsfeld_0009.jpg',\n",
       " 'George_W_Bush_0016.jpg',\n",
       " 'Gerhard_Schroeder_0012.jpg',\n",
       " 'Tony_Blair_0012.jpg']"
      ]
     },
     "execution_count": 54,
     "metadata": {},
     "output_type": "execute_result"
    }
   ],
   "source": [
    "os.listdir(\"test_data/\")"
   ]
  },
  {
   "cell_type": "code",
   "execution_count": 55,
   "metadata": {},
   "outputs": [],
   "source": [
    "img = cv2.imread(\"test_data/Donald_Rumsfeld_0009.jpg\")\n",
    "\n",
    "img = detect_face(img)\n",
    "\n",
    "blob = cv2.dnn.blobFromImage(img, 1.0, (50, 50), (0, 0, 0), swapRB=True, crop=False)"
   ]
  },
  {
   "cell_type": "code",
   "execution_count": 56,
   "metadata": {},
   "outputs": [
    {
     "data": {
      "text/plain": [
       "((50, 50), (1, 1, 50, 50))"
      ]
     },
     "execution_count": 56,
     "metadata": {},
     "output_type": "execute_result"
    }
   ],
   "source": [
    "img.shape, blob.shape"
   ]
  },
  {
   "cell_type": "markdown",
   "metadata": {},
   "source": [
    "`cv2.dnn.blobFromImage(img,scalefactor = 1.0,output_size, mean_channel,swapRB = false,crop = false,ddepth = cv2.CV_32F)`\n",
    "\n",
    "- `image`\tinput image (with 1-, 3- or 4-channels).\n",
    "- `size`\tspatial size for output image\n",
    "- `mean`\tscalar with mean values which are subtracted from channels. Values are intended to be in (mean-R, mean-G, mean-B) order if image has BGR ordering and swapRB is true.\n",
    "- `scalefactor`\tmultiplier for image values.\n",
    "- `swapRB`\tflag which indicates that swap first and last channels in 3-channel image is necessary.\n",
    "- `crop`\tflag which indicates whether image will be cropped after resize or not\n",
    "- `ddepth`\tDepth of output blob. Choose cv2.CV_32F or cv2.CV_8U."
   ]
  },
  {
   "cell_type": "markdown",
   "metadata": {},
   "source": [
    "- Set blob to input network using `.setInput()` on `net` object\n",
    "- Do forward pass and get output using `.forward()` on `net` object"
   ]
  },
  {
   "cell_type": "code",
   "execution_count": 57,
   "metadata": {},
   "outputs": [],
   "source": [
    "net.setInput(blob)\n",
    "output = net.forward(layerOutput)"
   ]
  },
  {
   "cell_type": "code",
   "execution_count": 58,
   "metadata": {},
   "outputs": [],
   "source": [
    "idx = output[0].argmax(axis=1)[0]\n",
    "\n",
    "confidence = output[0].max(axis=1)[0]*100"
   ]
  },
  {
   "cell_type": "code",
   "execution_count": 59,
   "metadata": {},
   "outputs": [
    {
     "data": {
      "image/png": "[encoded data removed]",
      "text/plain": [
       "<Figure size 432x288 with 1 Axes>"
      ]
     },
     "metadata": {
      "needs_background": "light"
     },
     "output_type": "display_data"
    }
   ],
   "source": [
    "plt.imshow(img, cmap=\"gray\")\n",
    "plt.title(\"label : %s, confidence : %2.f%%\" % (labels[idx], confidence))\n",
    "plt.show()"
   ]
  },
  {
   "cell_type": "markdown",
   "metadata": {},
   "source": [
    "##### 1.6.C Apply to Video frame"
   ]
  },
  {
   "cell_type": "code",
   "execution_count": 72,
   "metadata": {},
   "outputs": [],
   "source": [
    "def draw_ped(img, label, x0, y0, xt, yt, color=(255,127,0), text_color=(255,255,255)):\n",
    "\n",
    "    (w, h), baseline = cv2.getTextSize(label, cv2.FONT_HERSHEY_SIMPLEX, 0.5, 1)\n",
    "    cv2.rectangle(img,\n",
    "                  (x0, y0 + baseline),  \n",
    "                  (max(xt, x0 + w), yt), \n",
    "                  color, \n",
    "                  2)\n",
    "    cv2.rectangle(img,\n",
    "                  (x0, y0 - h),  \n",
    "                  (x0 + w, y0 + baseline), \n",
    "                  color, \n",
    "                  -1)  \n",
    "    cv2.putText(img, \n",
    "                label, \n",
    "                (x0, y0),                   \n",
    "                cv2.FONT_HERSHEY_SIMPLEX,     \n",
    "                0.5,                          \n",
    "                text_color,                \n",
    "                1,\n",
    "                cv2.LINE_AA) \n",
    "    return img"
   ]
  },
  {
   "cell_type": "code",
   "execution_count": 74,
   "metadata": {},
   "outputs": [],
   "source": [
    "# --------- load Haar Cascade model -------------\n",
    "face_cascade = cv2.CascadeClassifier('haarcascades/haarcascade_frontalface_default.xml')\n",
    "\n",
    "# --------- load tensorflow optimized model ---------\n",
    "facerecognition_model = \"frozen_graph.pb\"\n",
    "net = cv2.dnn.readNet(facerecognition_model)\n",
    "net.setPreferableBackend(cv2.dnn.DNN_BACKEND_OPENCV)\n",
    "net.setPreferableTarget(cv2.dnn.DNN_TARGET_CPU)\n",
    "layerOutput = net.getUnconnectedOutLayersNames()\n",
    "\n",
    "cap = cv2.VideoCapture(0)\n",
    "while cap.isOpened() :\n",
    "    ret, frame = cap.read()\n",
    "    if ret:\n",
    "        gray = cv2.cvtColor(frame, cv2.COLOR_BGR2GRAY)\n",
    "        faces = face_cascade.detectMultiScale(gray, 1.1, 5)\n",
    "        for (x, y, w, h) in faces:\n",
    "            \n",
    "            face_img = gray[y:y+h, x:x+w]\n",
    "            face_img = cv2.resize(face_img, (50, 50))\n",
    "            \n",
    "            blob = cv2.dnn.blobFromImage(face_img, 1.0, (50, 50), (0, 0, 0), swapRB=True, crop=False)\n",
    "            net.setInput(blob)\n",
    "            output = net.forward(layerOutput)\n",
    "            idx = output[0].argmax(axis=1)[0]\n",
    "            confidence = output[0].max(axis=1)[0]*100\n",
    "            \n",
    "            if confidence > 70:\n",
    "                label_text = \"%s (%.2f %%)\" % (labels[idx], confidence)\n",
    "            else :\n",
    "                label_text = \"N/A\"\n",
    "            frame = draw_ped(frame, label_text, x, y, x + w, y + h, color=(0,255,255), text_color=(50,50,50))\n",
    "       \n",
    "        cv2.imshow('Face Recognition', frame)\n",
    "    else :\n",
    "        break\n",
    "    if cv2.waitKey(10) == ord('q'):\n",
    "        break\n",
    "        \n",
    "cv2.destroyAllWindows()\n",
    "cap.release()"
   ]
  },
  {
   "cell_type": "code",
   "execution_count": null,
   "metadata": {},
   "outputs": [],
   "source": []
  },
  {
   "cell_type": "markdown",
   "metadata": {},
   "source": [
    "# 2. Flask & OpenCV - MJPEG Stream\n",
    "- **MJPEG stream** working using **Server Push** mechanism.\n",
    "- Server push is a simple way of **sending file updates to a browser**.\n",
    "- Most major browsers, and some minor browsers support it for images, with one important exception.\n",
    "- How it works ?\n",
    "    - Browser requests a file (typically an image)\n",
    "    - The server responds with a **multipart mixed-replace** content type header, </br>\n",
    "        ```\n",
    "        Content-Type: multipart/x-mixed-replace;boundary=frame\n",
    "        ```</br>\n",
    "    - Image from the server is always continue sending image data to browser (client)\n",
    "    - Image is sender as byte format :</br>\n",
    "        ```\n",
    "        --frame\n",
    "        Content-Type: image/jpeg\n",
    "        6A3D 5671 55CA 66B7\n",
    "        611A A10B 1408 246A\n",
    "        ....\n",
    "        ....\n",
    "        ```</br>\n",
    "<img src=\"resource/server-toclient.png\" style=\"width:300px\"></img></br>\n",
    "source : [http://www.howtocreate.co.uk/Server Push](http://www.howtocreate.co.uk/php/serverpushdemo.php)"
   ]
  },
  {
   "cell_type": "markdown",
   "metadata": {},
   "source": [
    "- install flask"
   ]
  },
  {
   "cell_type": "code",
   "execution_count": 75,
   "metadata": {},
   "outputs": [
    {
     "name": "stdout",
     "output_type": "stream",
     "text": [
      "Collecting flask\n",
      "  Using cached Flask-1.1.2-py2.py3-none-any.whl (94 kB)\n",
      "Requirement already satisfied: Werkzeug>=0.15 in c:\\users\\yunus\\anaconda3\\envs\\cvdl\\lib\\site-packages (from flask) (0.16.1)\n",
      "Collecting click>=5.1\n",
      "  Using cached click-7.1.2-py2.py3-none-any.whl (82 kB)\n",
      "Collecting itsdangerous>=0.24\n",
      "  Using cached itsdangerous-1.1.0-py2.py3-none-any.whl (16 kB)\n",
      "Collecting Jinja2>=2.10.1\n",
      "  Using cached Jinja2-2.11.2-py2.py3-none-any.whl (125 kB)\n",
      "Collecting MarkupSafe>=0.23\n",
      "  Using cached MarkupSafe-1.1.1-cp36-cp36m-win_amd64.whl (16 kB)\n",
      "Installing collected packages: MarkupSafe, Jinja2, itsdangerous, click, flask\n",
      "Successfully installed Jinja2-2.11.2 MarkupSafe-1.1.1 click-7.1.2 flask-1.1.2 itsdangerous-1.1.0\n"
     ]
    }
   ],
   "source": [
    "! pip install flask"
   ]
  },
  {
   "cell_type": "markdown",
   "metadata": {},
   "source": [
    "- Basic Flask : Route & Template\n",
    "    - run `python 1_Basic_Flask/app.py` in console (cmd)"
   ]
  },
  {
   "cell_type": "markdown",
   "metadata": {},
   "source": [
    "- Flask & OpenCV : mjpeg stream\n",
    "    - run `python 2_Mjpeg_Stream/app.py` in console (cmd) </br>\n",
    "![](resource/opencv_dnn_04.png)"
   ]
  },
  {
   "cell_type": "markdown",
   "metadata": {},
   "source": [
    "- Facedetection Mjpeg Stream\n",
    "    - run `python 3_Facedetect_Mjpeg_Stream/app.py` in console (cmd)"
   ]
  },
  {
   "cell_type": "markdown",
   "metadata": {},
   "source": [
    "- Facerecognition Mjpeg Stream\n",
    "    - run `python 4_Facerecognition_Mjpeg_Stream/app.py` in console (cmd)"
   ]
  },
  {
   "cell_type": "markdown",
   "metadata": {},
   "source": [
    "- Modular Version Facerecognition\n",
    "    - create `labels.csv` to hold all labels data presitent\n",
    "    - run `python 5_Modular_Version/app.py` on console (cmd)"
   ]
  },
  {
   "cell_type": "code",
   "execution_count": 14,
   "metadata": {},
   "outputs": [],
   "source": [
    "# save labels to CSV file\n",
    "\n",
    "import pandas as pd\n",
    "\n",
    "labels = ['Ariel_Sharon',\n",
    "          'Colin_Powell',\n",
    "          'Donald_Rumsfeld',\n",
    "          'George_W_Bush',\n",
    "          'Gerhard_Schroeder',\n",
    "          'Hugo_Chavez',\n",
    "          'Jacques_Chirac',\n",
    "          'Jean_Chretien',\n",
    "          'John_Ashcroft',\n",
    "          'Junichiro_Koizumi',\n",
    "          'Serena_Williams',\n",
    "          'Tony_Blair',\n",
    "          'Yunus']\n",
    "\n",
    "labels_df = pd.DataFrame(labels)\n",
    "\n",
    "labels_df.to_csv(\"5_Modular_Version/labels.csv\",  index=None)"
   ]
  },
  {
   "cell_type": "code",
   "execution_count": null,
   "metadata": {},
   "outputs": [],
   "source": []
  }
 ],
 "metadata": {
  "kernelspec": {
   "display_name": "Python [conda env:CPU_ENV]",
   "language": "python",
   "name": "conda-env-CPU_ENV-py"
  },
  "language_info": {
   "codemirror_mode": {
    "name": "ipython",
    "version": 3
   },
   "file_extension": ".py",
   "mimetype": "text/x-python",
   "name": "python",
   "nbconvert_exporter": "python",
   "pygments_lexer": "ipython3",
   "version": "3.6.12"
  }
 },
 "nbformat": 4,
 "nbformat_minor": 4
}
