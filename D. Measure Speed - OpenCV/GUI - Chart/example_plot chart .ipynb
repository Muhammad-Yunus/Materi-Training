{
 "cells": [
  {
   "cell_type": "code",
   "execution_count": null,
   "metadata": {},
   "outputs": [],
   "source": [
    "import PySimpleGUI as sg\n",
    "from matplotlib.backends.backend_tkagg import FigureCanvasTkAgg\n",
    "import matplotlib.pyplot as plt\n",
    "from numpy.random import rand\n",
    "\n",
    "def draw_figure(canvas, figure):\n",
    "    figure_canvas_agg = FigureCanvasTkAgg(figure, canvas)\n",
    "    figure_canvas_agg.draw()\n",
    "    figure_canvas_agg.get_tk_widget().pack(side='top', fill='both', expand=1)\n",
    "    return figure_canvas_agg\n",
    "\n",
    "def main():\n",
    "    # define the form layout\n",
    "    layout = [[sg.Text('Animated Matplotlib', size=(40, 1), justification='center', font='Helvetica 20')],\n",
    "              [sg.Canvas(size=(640, 480), key='-CANVAS-')],\n",
    "              [sg.Button('Exit', size=(10, 2), pad=((280, 0), 3), font='Helvetica 14')]]\n",
    "\n",
    "    # create the form and show it without the plot\n",
    "    window = sg.Window('Demo Application - Embedding Matplotlib In PySimpleGUI', layout, finalize=True)\n",
    "\n",
    "    canvas_elem = window['-CANVAS-']\n",
    "    canvas = canvas_elem.TKCanvas\n",
    "    # draw the intitial scatter plot\n",
    "    fig, ax = plt.subplots()\n",
    "    ax.grid(True)\n",
    "    fig_agg = draw_figure(canvas, fig)\n",
    "\n",
    "    while True:\n",
    "        event, values = window.read(timeout=10)\n",
    "        if event in ('Exit', None):\n",
    "            exit(69)\n",
    "\n",
    "        ax.cla()\n",
    "        ax.grid(True)\n",
    "        for color in ['red', 'green', 'blue']:\n",
    "            n = 750\n",
    "            x, y = rand(2, n)\n",
    "            scale = 200.0 * rand(n)\n",
    "            ax.scatter(x, y, c=color, s=scale, label=color, alpha=0.3, edgecolors='none')\n",
    "        ax.legend()\n",
    "        fig_agg.draw()\n",
    "    window.close()\n",
    "\n",
    "\n",
    "if __name__ == '__main__':\n",
    "    main()"
   ]
  },
  {
   "cell_type": "code",
   "execution_count": null,
   "metadata": {},
   "outputs": [],
   "source": []
  }
 ],
 "metadata": {
  "kernelspec": {
   "display_name": "Python [conda env:opencv_env]",
   "language": "python",
   "name": "conda-env-opencv_env-py"
  },
  "language_info": {
   "codemirror_mode": {
    "name": "ipython",
    "version": 3
   },
   "file_extension": ".py",
   "mimetype": "text/x-python",
   "name": "python",
   "nbconvert_exporter": "python",
   "pygments_lexer": "ipython3",
   "version": "3.8.6"
  }
 },
 "nbformat": 4,
 "nbformat_minor": 4
}
