{
 "cells": [
  {
   "cell_type": "markdown",
   "metadata": {},
   "source": [
    "# 1. Measure Speed Object Using OpenCV - Part 1"
   ]
  },
  {
   "cell_type": "code",
   "execution_count": 35,
   "metadata": {},
   "outputs": [],
   "source": [
    "import os\n",
    "import cv2\n",
    "import numpy as np\n",
    "import matplotlib.pyplot as plt\n",
    "import math\n",
    "import time\n",
    "import datetime"
   ]
  },
  {
   "cell_type": "code",
   "execution_count": 2,
   "metadata": {},
   "outputs": [
    {
     "name": "stdout",
     "output_type": "stream",
     "text": [
      "['video1.mp4', 'video2.mp4']\n"
     ]
    }
   ],
   "source": [
    "dataset_dir = \"dataset/\"\n",
    "\n",
    "filenames = os.listdir(dataset_dir)\n",
    "\n",
    "print(filenames)"
   ]
  },
  {
   "cell_type": "markdown",
   "metadata": {},
   "source": [
    "## 1.1 Basic Read, Show, Play Image & Video"
   ]
  },
  {
   "cell_type": "markdown",
   "metadata": {},
   "source": [
    "#### 1.1.a Read & Display Image"
   ]
  },
  {
   "cell_type": "code",
   "execution_count": 4,
   "metadata": {},
   "outputs": [],
   "source": [
    "img = cv2.imread('blocks.jpg')\n",
    "\n",
    "cv2.imshow('Blocks',img)\n",
    "cv2.waitKey(0)\n",
    "cv2.destroyAllWindows()"
   ]
  },
  {
   "cell_type": "markdown",
   "metadata": {},
   "source": [
    "#### 1.1.b Read & Play Video"
   ]
  },
  {
   "cell_type": "code",
   "execution_count": 3,
   "metadata": {},
   "outputs": [],
   "source": [
    "cap = cv2.VideoCapture(dataset_dir + 'video1.mp4')\n",
    "\n",
    "while cap.isOpened():\n",
    "    ret, frame = cap.read()\n",
    "    \n",
    "    if ret:\n",
    "        frame = cv2.resize(frame, (0,0), fx=0.5, fy=0.5)\n",
    "        cv2.imshow('video 1', frame)\n",
    "        \n",
    "        if cv2.waitKey(25) == ord('q'):\n",
    "            break\n",
    "    else :\n",
    "        break\n",
    "        \n",
    "cap.release()\n",
    "cv2.destroyAllWindows()"
   ]
  },
  {
   "cell_type": "markdown",
   "metadata": {},
   "source": [
    "## 1.2 Detect Objet\n",
    "\n",
    "- Color based (range thresholding)\n",
    "- Shape based (hough circel transform)"
   ]
  },
  {
   "cell_type": "markdown",
   "metadata": {},
   "source": [
    "#### 1.2.a Detect Object : Color Based (range thresholding)"
   ]
  },
  {
   "cell_type": "markdown",
   "metadata": {},
   "source": [
    "- Image thresholding using `cv2.threshold()` function. <br>\n",
    "<img src=\"resource/Binary_Thresh.png\" style=\"width: 500px; margin-top:10px;\" > </img>\n",
    "- Now we will learn how to do **range based thresholding** using  `cv2.inRange()` function. <br>\n",
    "<img src=\"resource/Range_Thresh.png\" style=\"width: 500px; margin-top:10px;\" > </img>\n",
    "- The concept remains the same, but now we add a range of pixel values we need.\n",
    "- Method `cv2.inRange(img, lower_color, upper_color)`\n",
    "- where theparameter :\n",
    "    - `img` : input image (HSV color space)\n",
    "    - `lower_color` : tuple (H, S, V) of lower color \n",
    "    - `upper_color` : tuple (H, S, V) of upper color \n",
    "- `H, S, V` value range in OpenCV:\n",
    "    - `H` (0 - 180)\n",
    "    - `S` (0 - 255)\n",
    "    - `V` (0 - 255)\n",
    "- `cv2.inRange()` using **HSV colorspace**, since the **hue channel** models the **color type**, it is very useful in image processing tasks that need to **segment objects based on its color**.<br>\n",
    "<img src=\"resource/Threshold_inRange_HSV_colorspace.jpg\" style=\"width: 300px; margin-top:10px;\" > </img>\n",
    "- Since colors in the **RGB colorspace** are coded using the **three channels**, it is **more difficult** to segment an object in the image based on its color.<br>\n",
    "<img src=\"resource/Threshold_inRange_RGB_colorspace.jpg\" style=\"width: 300px; margin-top:10px;\" > </img>\n",
    "- **HSV colorspace** model : <br>\n",
    "<img src=\"resource/HSV_hue_model.png\" style=\"width: 300px; margin-top:10px;\" > </img>"
   ]
  },
  {
   "cell_type": "markdown",
   "metadata": {},
   "source": [
    "#### 1.2.b Basic **image masking** menggunakan `cv2.bitwise_and()`"
   ]
  },
  {
   "cell_type": "code",
   "execution_count": 27,
   "metadata": {},
   "outputs": [],
   "source": [
    "img = cv2.imread('lena.jpg')\n",
    "\n",
    "mask = np.zeros_like(img[:,:,0])\n",
    "h, w = mask.shape\n",
    "\n",
    "cv2.circle(mask, (h//2, w//2), 150, (255, 255, 255), -1)\n",
    "\n",
    "res = cv2.bitwise_and(img, img, mask=mask)\n",
    "\n",
    "cv2.imshow('frame',img)\n",
    "cv2.imshow('res',res)\n",
    "cv2.imshow('mask',mask)\n",
    "cv2.waitKey(0)\n",
    "cv2.destroyAllWindows()"
   ]
  },
  {
   "cell_type": "markdown",
   "metadata": {},
   "source": [
    "#### 1.2.c Detect color blue in image `'blocks.jpg'`"
   ]
  },
  {
   "cell_type": "code",
   "execution_count": 6,
   "metadata": {},
   "outputs": [],
   "source": [
    "# define range of blue color in HSV\n",
    "lower = np.array([110, 50, 50])\n",
    "upper = np.array([130, 255, 255])\n",
    "\n",
    "img = cv2.imread('blocks.jpg')\n",
    "\n",
    "hsv = cv2.cvtColor(img, cv2.COLOR_BGR2HSV)\n",
    "mask = cv2.inRange(hsv.copy(), lower, upper)\n",
    "res = cv2.bitwise_and(img, img, mask= mask)\n",
    "\n",
    "cv2.imshow('frame',img)\n",
    "cv2.imshow('res',res)\n",
    "cv2.imshow('mask',mask)\n",
    "cv2.waitKey(0)\n",
    "cv2.destroyAllWindows()"
   ]
  },
  {
   "cell_type": "markdown",
   "metadata": {},
   "source": [
    "#### 1.2.d Detect color blue in **video** `'video1.mp4'`"
   ]
  },
  {
   "cell_type": "code",
   "execution_count": 7,
   "metadata": {},
   "outputs": [
    {
     "data": {
      "text/plain": [
       "'video1.mp4'"
      ]
     },
     "execution_count": 7,
     "metadata": {},
     "output_type": "execute_result"
    }
   ],
   "source": [
    "filenames[0]"
   ]
  },
  {
   "cell_type": "code",
   "execution_count": 11,
   "metadata": {},
   "outputs": [],
   "source": [
    "# define range of blue color in HSV\n",
    "lower = np.array([110, 50, 50])\n",
    "upper = np.array([130, 255, 255])\n",
    "\n",
    "filename = filenames[0]\n",
    "cap = cv2.VideoCapture(dataset_dir + filename)\n",
    "\n",
    "while cap.isOpened():\n",
    "    ret, img = cap.read()\n",
    "    \n",
    "    if ret:\n",
    "        hsv = cv2.cvtColor(img, cv2.COLOR_BGR2HSV)\n",
    "        mask = cv2.inRange(hsv.copy(), lower, upper)\n",
    "        res = cv2.bitwise_and(img, img, mask= mask)\n",
    "        \n",
    "        res = cv2.resize(res, (0,0), fx=0.5, fy=0.5)\n",
    "        img = cv2.resize(img, (0,0), fx=0.5, fy=0.5)\n",
    "        \n",
    "        cv2.imshow(filename + \" - detected\", res)\n",
    "        cv2.imshow(filename, img)\n",
    "        \n",
    "        \n",
    "        if cv2.waitKey(25) == ord('q'):\n",
    "            break\n",
    "    else :\n",
    "        break\n",
    "        \n",
    "cap.release()\n",
    "cv2.destroyAllWindows()"
   ]
  },
  {
   "cell_type": "markdown",
   "metadata": {},
   "source": [
    "#### 1.2.e Wrap range thresholding in function"
   ]
  },
  {
   "cell_type": "code",
   "execution_count": 5,
   "metadata": {},
   "outputs": [],
   "source": [
    "def detectColor(img, lower, upper): \n",
    "        hsv = cv2.cvtColor(img, cv2.COLOR_BGR2HSV)\n",
    "        mask = cv2.inRange(hsv.copy(), lower, upper)\n",
    "        res = cv2.bitwise_and(img, img, mask= mask)\n",
    "        return res"
   ]
  },
  {
   "cell_type": "code",
   "execution_count": 6,
   "metadata": {},
   "outputs": [],
   "source": [
    "# define range of blue color in HSV\n",
    "lower = np.array([110, 50, 50])\n",
    "upper = np.array([130, 255, 255])\n",
    "\n",
    "filename = filenames[0]\n",
    "cap = cv2.VideoCapture(dataset_dir + filename)\n",
    "\n",
    "while cap.isOpened():\n",
    "    ret, img = cap.read()\n",
    "    \n",
    "    if ret:\n",
    "        res = detectColor(img, lower, upper)\n",
    "        \n",
    "        res = cv2.resize(res, (0,0), fx=0.5, fy=0.5)\n",
    "        img = cv2.resize(img, (0,0), fx=0.5, fy=0.5)\n",
    "        \n",
    "        cv2.imshow(filename + \" - detected\", res)\n",
    "        cv2.imshow(filename, img)\n",
    "        \n",
    "        if cv2.waitKey(25) == ord('q'):\n",
    "            break\n",
    "    else :\n",
    "        break\n",
    "        \n",
    "cap.release()\n",
    "cv2.destroyAllWindows()"
   ]
  },
  {
   "cell_type": "markdown",
   "metadata": {},
   "source": [
    "#### 1.2.f Add **circle** into detected color blue in video `'video1.mp4'` using `cv2.findContour()`"
   ]
  },
  {
   "cell_type": "code",
   "execution_count": 28,
   "metadata": {},
   "outputs": [],
   "source": [
    "# define range of blue color in HSV\n",
    "lower = np.array([110, 50, 50])\n",
    "upper = np.array([130, 255, 255])\n",
    "\n",
    "filename = filenames[0]\n",
    "cap = cv2.VideoCapture(dataset_dir + filename)\n",
    "\n",
    "while cap.isOpened():\n",
    "    ret, img = cap.read()\n",
    "    \n",
    "    if ret:\n",
    "        res = detectColor(img, lower, upper)\n",
    "        \n",
    "        # find circle contour    \n",
    "        gray = cv2.cvtColor(res, cv2.COLOR_BGR2GRAY)\n",
    "        contours, hierarchy = cv2.findContours(gray, cv2.RETR_EXTERNAL, cv2.CHAIN_APPROX_NONE)\n",
    "        for cnt in contours:\n",
    "            (x,y), radius = cv2.minEnclosingCircle(cnt)\n",
    "            cv2.circle(img, (int(x), int(y)), int(radius), (255, 0, 255), 2)\n",
    "        \n",
    "        res = cv2.resize(res, (0,0), fx=0.5, fy=0.5)\n",
    "        img = cv2.resize(img, (0,0), fx=0.5, fy=0.5)\n",
    "        \n",
    "        cv2.imshow(filename + \" - detected\", res)\n",
    "        cv2.imshow(filename, img)\n",
    "        \n",
    "        \n",
    "        if cv2.waitKey(25) == ord('q'):\n",
    "            break\n",
    "    else :\n",
    "        break\n",
    "        \n",
    "cap.release()\n",
    "cv2.destroyAllWindows()"
   ]
  },
  {
   "cell_type": "markdown",
   "metadata": {},
   "source": [
    "#### 1.2.g Remove **small contour**"
   ]
  },
  {
   "cell_type": "code",
   "execution_count": 11,
   "metadata": {},
   "outputs": [],
   "source": [
    "# define range of blue color in HSV\n",
    "lower = np.array([110, 50, 50])\n",
    "upper = np.array([130, 255, 255])\n",
    "\n",
    "filename = filenames[0]\n",
    "cap = cv2.VideoCapture(dataset_dir + filename)\n",
    "\n",
    "while cap.isOpened():\n",
    "    ret, img = cap.read()\n",
    "    \n",
    "    if ret:\n",
    "        res = detectColor(img, lower, upper)\n",
    "        \n",
    "        # apply contour based detection      \n",
    "        gray = cv2.cvtColor(res, cv2.COLOR_BGR2GRAY)\n",
    "        contours, hierarchy = cv2.findContours(gray, cv2.RETR_EXTERNAL, cv2.CHAIN_APPROX_NONE)\n",
    "        for cnt in contours:\n",
    "            (x,y), radius = cv2.minEnclosingCircle(cnt)\n",
    "            if radius > 10: #if radius more than 10 pixel\n",
    "                cv2.circle(img, (int(x), int(y)), int(radius), (255, 0, 255), 2)\n",
    "        \n",
    "        res = cv2.resize(res, (0,0), fx=0.5, fy=0.5)\n",
    "        img = cv2.resize(img, (0,0), fx=0.5, fy=0.5)\n",
    "        \n",
    "        cv2.imshow(filename + \" - detected\", res)\n",
    "        cv2.imshow(filename, img)\n",
    "        \n",
    "        \n",
    "        if cv2.waitKey(25) == ord('q'):\n",
    "            break\n",
    "    else :\n",
    "        break\n",
    "        \n",
    "cap.release()\n",
    "cv2.destroyAllWindows()"
   ]
  },
  {
   "cell_type": "markdown",
   "metadata": {},
   "source": [
    "#### 1.2.h Wrap find contour in function"
   ]
  },
  {
   "cell_type": "code",
   "execution_count": 144,
   "metadata": {},
   "outputs": [],
   "source": [
    "def findContourCircle(res):\n",
    "        # apply contour based detection   \n",
    "        x, y, r = 0, 0, 0\n",
    "        gray = cv2.cvtColor(res, cv2.COLOR_BGR2GRAY)\n",
    "        contours, hierarchy = cv2.findContours(gray, cv2.RETR_EXTERNAL, cv2.CHAIN_APPROX_NONE)\n",
    "        circle = []\n",
    "        for cnt in contours:\n",
    "            (x,y), radius = cv2.minEnclosingCircle(cnt)\n",
    "            if radius > 10: #if radius more than 10 pixel\n",
    "                circle.append([int(x), int(y), int(radius)])\n",
    "        if len(circle) > 0 :\n",
    "            circle = np.array(circle)\n",
    "            x = int(np.mean(circle[:, 0]))\n",
    "            y = int(np.mean(circle[:, 1]))\n",
    "            r = int(np.mean(circle[:, 2]))\n",
    "        \n",
    "        return x, y, r"
   ]
  },
  {
   "cell_type": "code",
   "execution_count": 10,
   "metadata": {},
   "outputs": [],
   "source": [
    "# define range of blue color in HSV\n",
    "lower = np.array([110, 50, 50])\n",
    "upper = np.array([130, 255, 255])\n",
    "\n",
    "filename = filenames[0]\n",
    "cap = cv2.VideoCapture(dataset_dir + filename)\n",
    "\n",
    "while cap.isOpened():\n",
    "    ret, img = cap.read()\n",
    "    \n",
    "    if ret:\n",
    "        res = detectColor(img, lower, upper)\n",
    "        \n",
    "        x, y, r = findContourCircle(res)\n",
    "        cv2.circle(img, (x, y), r, (255, 0, 255), 2)\n",
    "        \n",
    "        res = cv2.resize(res, (0,0), fx=0.5, fy=0.5)\n",
    "        img = cv2.resize(img, (0,0), fx=0.5, fy=0.5)\n",
    "        \n",
    "        cv2.imshow(filename + \" - detected\", res)\n",
    "        cv2.imshow(filename, img)\n",
    "        \n",
    "        \n",
    "        if cv2.waitKey(25) == ord('q'):\n",
    "            break\n",
    "    else :\n",
    "        break\n",
    "        \n",
    "cap.release()\n",
    "cv2.destroyAllWindows()"
   ]
  },
  {
   "cell_type": "markdown",
   "metadata": {},
   "source": [
    "#### 1.2.i Support **multiple color**"
   ]
  },
  {
   "cell_type": "code",
   "execution_count": 23,
   "metadata": {},
   "outputs": [],
   "source": [
    "color_ranges = dict(\n",
    "    blue = dict(\n",
    "        lower = np.array([110, 50, 50]),\n",
    "        upper = np.array([130, 255, 255])\n",
    "    ),\n",
    "    orange = dict(\n",
    "        lower = np.array([10, 50, 50]),\n",
    "        upper = np.array([20, 255, 255])\n",
    "    )\n",
    ")\n",
    "\n",
    "availabel_colors = color_ranges.keys()"
   ]
  },
  {
   "cell_type": "code",
   "execution_count": 25,
   "metadata": {},
   "outputs": [
    {
     "name": "stdin",
     "output_type": "stream",
     "text": [
      "pilih warna [blue/orange] : orange\n"
     ]
    }
   ],
   "source": [
    "color_input = input(\"pilih warna [blue/orange] :\")\n",
    "\n",
    "while color_input not in availabel_colors:\n",
    "    color_input = input(\"%s tidak ditemukan, pilih warna [blue/orange] :\" % color_input)\n",
    "\n",
    "filename = filenames[1]\n",
    "cap = cv2.VideoCapture(dataset_dir + filename)\n",
    "\n",
    "while cap.isOpened():\n",
    "    ret, img = cap.read()\n",
    "    \n",
    "    if ret:\n",
    "        color = color_ranges[color_input]\n",
    "        res = detectColor(img, color['lower'], color['upper'])\n",
    "        \n",
    "        x, y, r = findContourCircle(res)\n",
    "        cv2.circle(img, (x, y), r, (255, 0, 255), 2)\n",
    "        \n",
    "        res = cv2.resize(res, (0,0), fx=0.5, fy=0.5)\n",
    "        img = cv2.resize(img, (0,0), fx=0.5, fy=0.5)\n",
    "        \n",
    "        cv2.imshow(filename + \" - detected\", res)\n",
    "        cv2.imshow(filename, img)\n",
    "        \n",
    "        if cv2.waitKey(25) == ord('q'):\n",
    "            break\n",
    "    else :\n",
    "        break\n",
    "        \n",
    "cap.release()\n",
    "cv2.destroyAllWindows()"
   ]
  },
  {
   "cell_type": "code",
   "execution_count": null,
   "metadata": {},
   "outputs": [],
   "source": []
  },
  {
   "cell_type": "markdown",
   "metadata": {},
   "source": [
    "___\n",
    "___\n",
    "\n",
    "## 1.3 Shape based (Hough Circel Transform)"
   ]
  },
  {
   "cell_type": "markdown",
   "metadata": {},
   "source": [
    "#### 1.3.a OpenCV Hough Circle Transforms:\n",
    "<img src=\"resource/Hough_Circle_Tutorial_Theory_0.jpg\" style=\"width:400px, margin-top:10px\"></img>\n"
   ]
  },
  {
   "cell_type": "markdown",
   "metadata": {},
   "source": [
    "- menggunakan method `cv2.HoughCircles(img, mode, dp, min_dist_center, param1, param2, min_radius, max_radius)`\n",
    "- with the arguments:\n",
    "    - `img` : input image.\n",
    "    - `mode` : \n",
    "        - `cv2.HOUGH_STANDARD` : Classical or standard Hough transform.\n",
    "        - `cv2.HOUGH_PROBABILISTIC` : Probabilistic Hough transform (more efficient in case if the picture contains a few long linear segments).\n",
    "        - `cv2.HOUGH_MULTI_SCALE` : multi-scale variant of the classical Hough transform. \n",
    "        - `cv2.HOUGH_GRADIENT`\n",
    "    - `dp` : The inverse ratio of resolution (default 1).\n",
    "    - `min_dist_center` : Minimum distance between detected centers.\n",
    "    - `param1` : Upper threshold for the internal Canny edge detector.\n",
    "    - `param2` : Threshold for center detection.\n",
    "    - `min_radius` : Minimum radius to be detected. If unknown, put zero as default.\n",
    "    - `max_radius` : Maximum radius to be detected. If unknown, put zero as default."
   ]
  },
  {
   "cell_type": "markdown",
   "metadata": {},
   "source": [
    "#### 1.3.b Detect circel on image `'eye.jpg'` "
   ]
  },
  {
   "cell_type": "code",
   "execution_count": 30,
   "metadata": {},
   "outputs": [],
   "source": [
    "img = cv2.imread('eye.jpg')\n",
    "h, w, c = img.shape\n",
    "\n",
    "gray = cv2.cvtColor(img, cv2.COLOR_BGR2GRAY)\n",
    "\n",
    "circles = cv2.HoughCircles(gray, cv2.HOUGH_GRADIENT, 1, h/64, param1=200, param2=17, minRadius=21, maxRadius=30)\n",
    "\n",
    "if circles is not None:\n",
    "    circles = np.uint16(np.around(circles))[0]\n",
    "    for i in circles:\n",
    "        cv2.circle(img, (i[0], i[1]), i[2], (0, 255, 0), 2)\n",
    "        \n",
    "cv2.imshow(\"output\", img)\n",
    "cv2.waitKey(0)\n",
    "cv2.destroyAllWindows()"
   ]
  },
  {
   "cell_type": "markdown",
   "metadata": {},
   "source": [
    "#### 1.3.c Detect circel on Video "
   ]
  },
  {
   "cell_type": "code",
   "execution_count": 19,
   "metadata": {},
   "outputs": [],
   "source": [
    "filename = filenames[1]\n",
    "cap = cv2.VideoCapture(dataset_dir + filename)\n",
    "\n",
    "rs = []\n",
    "x, y, r = 0, 0, 0\n",
    "while cap.isOpened():\n",
    "    ret, img = cap.read()\n",
    "    \n",
    "    if ret:\n",
    "        h, w, c = img.shape\n",
    "        gray = cv2.cvtColor(img, cv2.COLOR_BGR2GRAY)\n",
    "\n",
    "        ret, binary = cv2.threshold(gray, 100, 255, cv2.THRESH_BINARY_INV)\n",
    "\n",
    "        edge = cv2.Canny(binary, 100, 200)\n",
    "\n",
    "        circles = cv2.HoughCircles(edge, cv2.HOUGH_GRADIENT, 1, h/64, param1=150, param2=20, minRadius=50, maxRadius=100)\n",
    "        if circles is not None:\n",
    "            circles = np.uint16(np.around(circles))[0]\n",
    "            x = int(np.mean(circles[:, 0]))\n",
    "            y = int(np.mean(circles[:, 1]))\n",
    "            rs.append(np.mean(circles[:, 2]))\n",
    "            r = int(np.mean(rs))\n",
    "            \n",
    "        cv2.circle(img, (x, y), r, (0, 255, 0), 2)\n",
    "\n",
    "        img = cv2.resize(img, (0,0), fx=0.5, fy=0.5)\n",
    "\n",
    "        cv2.imshow(filename, img)\n",
    "        \n",
    "        if cv2.waitKey(25) == ord('q'):\n",
    "            break\n",
    "    else :\n",
    "        break\n",
    "        \n",
    "cap.release()\n",
    "cv2.destroyAllWindows()"
   ]
  },
  {
   "cell_type": "markdown",
   "metadata": {},
   "source": [
    "#### 1.3.c Wrap Houg Circle in function"
   ]
  },
  {
   "cell_type": "code",
   "execution_count": 60,
   "metadata": {},
   "outputs": [],
   "source": [
    "def findCircelHoug(img):\n",
    "    rs = []\n",
    "    x, y, r = 0, 0, 0\n",
    "    h, w, c = img.shape\n",
    "    gray = cv2.cvtColor(img, cv2.COLOR_BGR2GRAY)\n",
    "\n",
    "    ret, binary = cv2.threshold(gray, 100, 255, cv2.THRESH_BINARY_INV)\n",
    "\n",
    "    edge = cv2.Canny(binary, 100, 200)\n",
    "\n",
    "    circles = cv2.HoughCircles(edge, cv2.HOUGH_GRADIENT, 1, h/64, param1=150, param2=20, minRadius=50, maxRadius=100)\n",
    "    if circles is not None:\n",
    "        circles = np.uint16(np.around(circles))[0]\n",
    "        x = int(np.mean(circles[:, 0]))\n",
    "        y = int(np.mean(circles[:, 1]))\n",
    "        rs.append(np.mean(circles[:, 2]))\n",
    "        r = int(np.mean(rs))\n",
    "    return x, y, r"
   ]
  },
  {
   "cell_type": "code",
   "execution_count": 61,
   "metadata": {},
   "outputs": [],
   "source": [
    "filename = filenames[1]\n",
    "cap = cv2.VideoCapture(dataset_dir + filename)\n",
    "\n",
    "while cap.isOpened():\n",
    "    ret, img = cap.read()\n",
    "    if ret:\n",
    "        x, y, r = findCircelHoug(img)\n",
    "        cv2.circle(img, (x, y), r, (0, 255, 0), 2)\n",
    "\n",
    "        img = cv2.resize(img, (0,0), fx=0.5, fy=0.5)\n",
    "        cv2.imshow(filename, img)\n",
    "        \n",
    "        if cv2.waitKey(25) == ord('q'):\n",
    "            break\n",
    "    else :\n",
    "        break\n",
    "        \n",
    "cap.release()\n",
    "cv2.destroyAllWindows()"
   ]
  },
  {
   "cell_type": "markdown",
   "metadata": {},
   "source": [
    "#### 1.3.d Detect circel in Video using hough circel + range tresholding"
   ]
  },
  {
   "cell_type": "code",
   "execution_count": 43,
   "metadata": {},
   "outputs": [
    {
     "name": "stdin",
     "output_type": "stream",
     "text": [
      "pilih warna [blue/orange] : blue\n"
     ]
    }
   ],
   "source": [
    "color_input = input(\"pilih warna [blue/orange] :\")\n",
    "\n",
    "while color_input not in availabel_colors:\n",
    "    color_input = input(\"%s tidak ditemukan, pilih warna [blue/orange] :\" % color_input)\n",
    "\n",
    "filename = filenames[0]\n",
    "cap = cv2.VideoCapture(dataset_dir + filename)\n",
    "\n",
    "while cap.isOpened():\n",
    "    ret, img = cap.read()\n",
    "    \n",
    "    if ret:\n",
    "        color = color_ranges[color_input]\n",
    "        res = detectColor(img, color['lower'], color['upper'])\n",
    "        \n",
    "        x, y, r = findCircelHoug(res)\n",
    "        cv2.circle(img, (x, y), r, (0, 255, 0), 2)\n",
    "            \n",
    "        img = cv2.resize(img, (0,0), fx=0.5, fy=0.5)\n",
    "        res = cv2.resize(res, (0,0), fx=0.5, fy=0.5)\n",
    "        \n",
    "        cv2.imshow(filename, img)\n",
    "        cv2.imshow(filename + \" - res\", res)\n",
    "        \n",
    "        if cv2.waitKey(25) == ord('q'):\n",
    "            break\n",
    "    else :\n",
    "        break\n",
    "        \n",
    "cap.release()\n",
    "cv2.destroyAllWindows()"
   ]
  },
  {
   "cell_type": "markdown",
   "metadata": {},
   "source": [
    "## 1.4 calculate speed\n",
    "\n",
    "#### 1.4.a Instantaneous speed\n",
    "\n",
    "- dirumuskan sebagai : <br>\n",
    "$v = \\frac{x_t - x_0}{\\triangle t}$\n",
    "<br>\n",
    "<br>\n",
    "untuk, <br>\n",
    "$x_t$ : merupakan posisi object di waktu ke $t$, <br>\n",
    "$x_0$ : merupakan posisi object di waktu ke $0$, <br>\n",
    "$\\triangle t$ : merupakan $t - t_0$, <br>"
   ]
  },
  {
   "cell_type": "markdown",
   "metadata": {},
   "source": [
    "#### 1.4.b Calculate speed in Python"
   ]
  },
  {
   "cell_type": "code",
   "execution_count": 255,
   "metadata": {},
   "outputs": [],
   "source": [
    "def calc_speed(x, y, t):\n",
    "    #\n",
    "    # x => [xt, x0]\n",
    "    # y => [yt, y0]\n",
    "    # t => [t, t0]\n",
    "    #\n",
    "    dx = float(x[1]) - float(x[0])\n",
    "    dy = float(y[1]) - float(y[0])\n",
    "    ds = math.sqrt( math.pow(dx,2) + math.pow(dy,2))\n",
    "    dt = float(t[1]) - float(t[0])\n",
    "    v = float(ds/dt)\n",
    "    vx = float(dx/dt)\n",
    "    vy = float(dy/dt)\n",
    "    return v, vx, vy"
   ]
  },
  {
   "cell_type": "code",
   "execution_count": 260,
   "metadata": {},
   "outputs": [
    {
     "name": "stdout",
     "output_type": "stream",
     "text": [
      "v :  124.03, vx :  -61.54, vy :  107.69 \t\t\t\t"
     ]
    }
   ],
   "source": [
    "color_input = input(\"pilih warna [blue/orange] :\")\n",
    "\n",
    "while color_input not in availabel_colors:\n",
    "    color_input = input(\"%s tidak ditemukan, pilih warna [blue/orange] :\" % color_input)\n",
    "\n",
    "filename = filenames[0]\n",
    "cap = cv2.VideoCapture(dataset_dir + filename)\n",
    "\n",
    "t0, x0, y0 = time.time(), 0, 0\n",
    "while cap.isOpened():\n",
    "    ret, img = cap.read()\n",
    "    \n",
    "    if ret:\n",
    "        color = color_ranges[color_input]\n",
    "        res = detectColor(img, color['lower'], color['upper'])\n",
    "        \n",
    "        x, y, r = findContourCircle(res)\n",
    "        cv2.circle(img, (x, y), r, (255, 0, 255), 2)\n",
    "  \n",
    "        t = time.time()\n",
    "        h, w, c = img.shape\n",
    "        x_ = x\n",
    "        y_ = h - y\n",
    "        v, vx, vy = calc_speed([x0, x_], [y0, y_], [t0, t])\n",
    "        print( \"\\rv : %7.2f, vx : %7.2f, vy : %7.2f \\t\\t\" % (v, vx, vy), end=\"\")\n",
    "\n",
    "        t0, y0, x0 = t, y_, x_\n",
    "        \n",
    "        img = cv2.resize(img, (0,0), fx=0.8, fy=0.8)\n",
    "        cv2.imshow(filename, img)\n",
    "        \n",
    "        if cv2.waitKey(25) == ord('q'):\n",
    "            break\n",
    "    else :\n",
    "        break\n",
    "        \n",
    "cap.release()\n",
    "cv2.destroyAllWindows()"
   ]
  },
  {
   "cell_type": "markdown",
   "metadata": {},
   "source": [
    "#### 1.4.c Draw vector speed (v, vx, vy) on image"
   ]
  },
  {
   "cell_type": "code",
   "execution_count": 263,
   "metadata": {},
   "outputs": [
    {
     "name": "stdin",
     "output_type": "stream",
     "text": [
      "pilih warna [blue/orange] : blue\n"
     ]
    },
    {
     "name": "stdout",
     "output_type": "stream",
     "text": [
      "v :    0.00, vx :    0.00, vy :    0.00 \t\t\t\t"
     ]
    }
   ],
   "source": [
    "color_input = input(\"pilih warna [blue/orange] :\")\n",
    "\n",
    "while color_input not in availabel_colors:\n",
    "    color_input = input(\"%s tidak ditemukan, pilih warna [blue/orange] :\" % color_input)\n",
    "\n",
    "filename = filenames[0]\n",
    "cap = cv2.VideoCapture(dataset_dir + filename)\n",
    "\n",
    "t0, x0, y0 = time.time(), 0, 0\n",
    "while cap.isOpened():\n",
    "    ret, img = cap.read()\n",
    "    \n",
    "    if ret:\n",
    "        color = color_ranges[color_input]\n",
    "        res = detectColor(img, color['lower'], color['upper'])\n",
    "        \n",
    "        x, y, r = findContourCircle(res)\n",
    "        cv2.circle(img, (x, y), r, (255, 0, 255), 2)\n",
    "  \n",
    "        t = time.time()\n",
    "        h, w, c = img.shape\n",
    "        x_ = x\n",
    "        y_ = h - y\n",
    "        v, vx, vy = calc_speed([x0, x_], [y0, y_], [t0, t])\n",
    "        print( \"\\rv : %7.2f, vx : %7.2f, vy : %7.2f \\t\\t\" % (v, vx, vy), end=\"\")\n",
    "\n",
    "        t0, y0, x0 = t, y_, x_\n",
    "        \n",
    "        cv2.arrowedLine(img, (x, y), (x, y - int(vy)), (0,255,255), 2, cv2.LINE_AA)  # ---- add ----\n",
    "        cv2.arrowedLine(img, (x, y), (x - int(vx), y), (0,255,0), 2, cv2.LINE_AA) # ---- add ----\n",
    "        cv2.arrowedLine(img, (x, y), (x - int(vx), y - int(vy)), (0,0,255), 2, cv2.LINE_AA) # ---- add ----\n",
    "\n",
    "        img = cv2.resize(img, (0,0), fx=0.8, fy=0.8)\n",
    "        cv2.imshow(filename, img)\n",
    "        \n",
    "        if cv2.waitKey(25) == ord('q'):\n",
    "            break\n",
    "    else :\n",
    "        break\n",
    "        \n",
    "cap.release()\n",
    "cv2.destroyAllWindows()"
   ]
  },
  {
   "cell_type": "markdown",
   "metadata": {},
   "source": [
    "#### 1.4.d Reduce bouncing on vector"
   ]
  },
  {
   "cell_type": "code",
   "execution_count": 267,
   "metadata": {},
   "outputs": [
    {
     "name": "stdin",
     "output_type": "stream",
     "text": [
      "pilih warna [blue/orange] : blue\n"
     ]
    },
    {
     "name": "stdout",
     "output_type": "stream",
     "text": [
      "v :    5.02, vx :    0.48, vy :   -5.00 \t\t\t\t"
     ]
    }
   ],
   "source": [
    "color_input = input(\"pilih warna [blue/orange] :\")\n",
    "\n",
    "while color_input not in availabel_colors:\n",
    "    color_input = input(\"%s tidak ditemukan, pilih warna [blue/orange] :\" % color_input)\n",
    "\n",
    "filename = filenames[0]\n",
    "cap = cv2.VideoCapture(dataset_dir + filename)\n",
    "\n",
    "t0, x0, y0 = time.time(), 0, 0\n",
    "xs, ys = [], [] # ---- add ----\n",
    "scale = 10 # ---- add ----\n",
    "while cap.isOpened():\n",
    "    ret, img = cap.read()\n",
    "    \n",
    "    if ret:\n",
    "        color = color_ranges[color_input]\n",
    "        res = detectColor(img, color['lower'], color['upper'])\n",
    "        \n",
    "        x, y, r = findContourCircle(res)\n",
    "        cv2.circle(img, (x, y), r, (255, 0, 255), 2)\n",
    "        xs.append(x) # ---- add ----\n",
    "        ys.append(y) # ---- add ----\n",
    "  \n",
    "        t = time.time()\n",
    "        h, w, c = img.shape\n",
    "        x_ = np.mean(xs[-60:]) # ---- add ----\n",
    "        y_ = np.mean(h - np.array(ys[-60:])) # ---- add ----\n",
    "        v, vx, vy = calc_speed([x0, x_], [y0, y_], [t0, t])\n",
    "        print( \"\\rv : %7.2f, vx : %7.2f, vy : %7.2f \\t\\t\" % (v, vx, vy), end=\"\")\n",
    "\n",
    "        t0, y0, x0 = t, y_, x_\n",
    "        \n",
    "        cv2.arrowedLine(img, (x, y), (x, y - int(vy)*scale), (0,255,255), 2, cv2.LINE_AA) # ---- add ----\n",
    "        cv2.arrowedLine(img, (x, y), (x - int(vx)*scale, y), (0,255,0), 2, cv2.LINE_AA) # ---- add ----\n",
    "        cv2.arrowedLine(img, (x, y), (x - int(vx)*scale, y - int(vy)*scale), (0,0,255), 2, cv2.LINE_AA) # ---- add ----\n",
    "        \n",
    "        img = cv2.resize(img, (0,0), fx=0.8, fy=0.8)\n",
    "        cv2.imshow(filename, img)\n",
    "        \n",
    "        del xs[:-120] # ---- add ----\n",
    "        del ys[:-120] # ---- add ----\n",
    "        \n",
    "        if cv2.waitKey(25) == ord('q'):\n",
    "            break\n",
    "    else :\n",
    "        break\n",
    "        \n",
    "cap.release()\n",
    "cv2.destroyAllWindows()"
   ]
  },
  {
   "cell_type": "markdown",
   "metadata": {},
   "source": [
    "#### 1.4.e Calculate speed after 15 frame"
   ]
  },
  {
   "cell_type": "code",
   "execution_count": 269,
   "metadata": {},
   "outputs": [
    {
     "name": "stdin",
     "output_type": "stream",
     "text": [
      "pilih warna [blue/orange] : blue\n"
     ]
    },
    {
     "name": "stdout",
     "output_type": "stream",
     "text": [
      "v :    7.53, vx :    1.00, vy :    7.46 \t\t"
     ]
    }
   ],
   "source": [
    "color_input = input(\"pilih warna [blue/orange] :\")\n",
    "\n",
    "while color_input not in availabel_colors:\n",
    "    color_input = input(\"%s tidak ditemukan, pilih warna [blue/orange] :\" % color_input)\n",
    "\n",
    "filename = filenames[0]\n",
    "cap = cv2.VideoCapture(dataset_dir + filename)\n",
    "\n",
    "t0, x0, y0 = time.time(), 0, 0\n",
    "xs, ys = [], [] \n",
    "scale = 10\n",
    "i = 0 # ---- add ----\n",
    "while cap.isOpened():\n",
    "    ret, img = cap.read()\n",
    "    \n",
    "    if ret:\n",
    "        color = color_ranges[color_input]\n",
    "        res = detectColor(img, color['lower'], color['upper'])\n",
    "        \n",
    "        x, y, r = findContourCircle(res)\n",
    "        cv2.circle(img, (x, y), r, (255, 0, 255), 2)\n",
    "        xs.append(x) \n",
    "        ys.append(y) \n",
    "  \n",
    "        if i % 15 : # ---- add ----\n",
    "            t = time.time()\n",
    "            h, w, c = img.shape\n",
    "            x_ = np.mean(xs[-60:]) \n",
    "            y_ = np.mean(h - np.array(ys[-60:])) \n",
    "            v, vx, vy = calc_speed([x0, x_], [y0, y_], [t0, t])\n",
    "            print( \"\\rv : %7.2f, vx : %7.2f, vy : %7.2f \\t\\t\" % (v, vx, vy), end=\"\")\n",
    "\n",
    "            t0, y0, x0 = t, y_, x_\n",
    "\n",
    "            cv2.arrowedLine(img, (x, y), (x, y - int(vy)*scale), (0,255,255), 2, cv2.LINE_AA) \n",
    "            cv2.arrowedLine(img, (x, y), (x - int(vx)*scale, y), (0,255,0), 2, cv2.LINE_AA) \n",
    "            cv2.arrowedLine(img, (x, y), (x - int(vx)*scale, y - int(vy)*scale), (0,0,255), 2, cv2.LINE_AA) \n",
    "        \n",
    "        img = cv2.resize(img, (0,0), fx=0.8, fy=0.8)\n",
    "        cv2.imshow(filename, img)\n",
    "        \n",
    "        del xs[:-120]\n",
    "        del ys[:-120]\n",
    "        i += 1 # ---- add ----\n",
    "        \n",
    "        if cv2.waitKey(25) == ord('q'):\n",
    "            break\n",
    "    else :\n",
    "        break\n",
    "        \n",
    "cap.release()\n",
    "cv2.destroyAllWindows()"
   ]
  },
  {
   "cell_type": "markdown",
   "metadata": {},
   "source": [
    "#### 1.4.f Add label speed (v) dan center point (x, y)"
   ]
  },
  {
   "cell_type": "code",
   "execution_count": 270,
   "metadata": {},
   "outputs": [
    {
     "name": "stdin",
     "output_type": "stream",
     "text": [
      "pilih warna [blue/orange] : blue\n"
     ]
    },
    {
     "name": "stdout",
     "output_type": "stream",
     "text": [
      "v :    8.23, vx :    0.44, vy :    8.22 \t\t"
     ]
    }
   ],
   "source": [
    "color_input = input(\"pilih warna [blue/orange] :\")\n",
    "\n",
    "while color_input not in availabel_colors:\n",
    "    color_input = input(\"%s tidak ditemukan, pilih warna [blue/orange] :\" % color_input)\n",
    "\n",
    "filename = filenames[0]\n",
    "cap = cv2.VideoCapture(dataset_dir + filename)\n",
    "\n",
    "t0, x0, y0 = time.time(), 0, 0\n",
    "xs, ys = [], [] \n",
    "scale = 10\n",
    "i = 0 \n",
    "while cap.isOpened():\n",
    "    ret, img = cap.read()\n",
    "    \n",
    "    if ret:\n",
    "        color = color_ranges[color_input]\n",
    "        res = detectColor(img, color['lower'], color['upper'])\n",
    "        \n",
    "        x, y, r = findContourCircle(res)\n",
    "        cv2.circle(img, (x, y), r, (255, 0, 255), 2)\n",
    "        cv2.putText(img, \"(%d, %d)\" % (x, y), (x + 5, y - 5), cv2.FONT_HERSHEY_SIMPLEX, 0.3, (255, 255, 255), 1, cv2.LINE_AA) # ---- add ----\n",
    "        xs.append(x) \n",
    "        ys.append(y) \n",
    "  \n",
    "        if i % 15 : \n",
    "            t = time.time()\n",
    "            h, w, c = img.shape\n",
    "            x_ = np.mean(xs[-60:]) \n",
    "            y_ = np.mean(h - np.array(ys[-60:])) \n",
    "            v, vx, vy = calc_speed([x0, x_], [y0, y_], [t0, t])\n",
    "            print( \"\\rv : %7.2f, vx : %7.2f, vy : %7.2f \\t\\t\" % (v, vx, vy), end=\"\")\n",
    "\n",
    "            t0, y0, x0 = t, y_, x_\n",
    "\n",
    "            cv2.arrowedLine(img, (x, y), (x, y - int(vy)*scale), (0,255,255), 2, cv2.LINE_AA) \n",
    "            cv2.arrowedLine(img, (x, y), (x - int(vx)*scale, y), (0,255,0), 2, cv2.LINE_AA) \n",
    "            cv2.arrowedLine(img, (x, y), (x - int(vx)*scale, y - int(vy)*scale), (0,0,255), 2, cv2.LINE_AA) \n",
    "            cv2.putText(img, \"%.2f\" % v, (x - int(vx)*10, y - int(vy)*10), cv2.FONT_HERSHEY_SIMPLEX, 0.3, (255, 255, 255), 1, cv2.LINE_AA) # ---- add ----\n",
    "            \n",
    "        img = cv2.resize(img, (0,0), fx=0.8, fy=0.8)\n",
    "        cv2.imshow(filename, img)\n",
    "        \n",
    "        del xs[:-120]\n",
    "        del ys[:-120]\n",
    "        i += 1 \n",
    "        \n",
    "        if cv2.waitKey(25) == ord('q'):\n",
    "            break\n",
    "    else :\n",
    "        break\n",
    "        \n",
    "cap.release()\n",
    "cv2.destroyAllWindows()"
   ]
  },
  {
   "cell_type": "markdown",
   "metadata": {},
   "source": [
    "#### 1.4.g Add trajectory movement "
   ]
  },
  {
   "cell_type": "code",
   "execution_count": 273,
   "metadata": {},
   "outputs": [
    {
     "name": "stdin",
     "output_type": "stream",
     "text": [
      "pilih warna [blue/orange] : blue\n"
     ]
    },
    {
     "name": "stdout",
     "output_type": "stream",
     "text": [
      "v :    6.66, vx :   -0.79, vy :    6.61 \t\t"
     ]
    }
   ],
   "source": [
    "color_input = input(\"pilih warna [blue/orange] :\")\n",
    "\n",
    "while color_input not in availabel_colors:\n",
    "    color_input = input(\"%s tidak ditemukan, pilih warna [blue/orange] :\" % color_input)\n",
    "\n",
    "filename = filenames[0]\n",
    "cap = cv2.VideoCapture(dataset_dir + filename)\n",
    "\n",
    "t0, x0, y0 = time.time(), 0, 0\n",
    "trajectory = [] # ---- add ----\n",
    "xs, ys = [], [] \n",
    "scale = 10\n",
    "i = 0 \n",
    "while cap.isOpened():\n",
    "    ret, img = cap.read()\n",
    "    \n",
    "    if ret:\n",
    "        color = color_ranges[color_input]\n",
    "        res = detectColor(img, color['lower'], color['upper'])\n",
    "        \n",
    "        x, y, r = findContourCircle(res)\n",
    "        cv2.circle(img, (x, y), r, (255, 0, 255), 2)\n",
    "        cv2.putText(img, \"(%d, %d)\" % (x, y), (x + 5, y - 5), cv2.FONT_HERSHEY_SIMPLEX, 0.3, (255, 255, 255), 1, cv2.LINE_AA) \n",
    "        xs.append(x) \n",
    "        ys.append(y) \n",
    "  \n",
    "        if i % 15 : \n",
    "            t = time.time()\n",
    "            h, w, c = img.shape\n",
    "            x_ = np.mean(xs[-60:]) \n",
    "            y_ = np.mean(h - np.array(ys[-60:])) \n",
    "            v, vx, vy = calc_speed([x0, x_], [y0, y_], [t0, t])\n",
    "            print( \"\\rv : %7.2f, vx : %7.2f, vy : %7.2f \\t\\t\" % (v, vx, vy), end=\"\")\n",
    "\n",
    "            t0, y0, x0 = t, y_, x_\n",
    "\n",
    "            cv2.arrowedLine(img, (x, y), (x, y - int(vy)*scale), (0,255,255), 2, cv2.LINE_AA) \n",
    "            cv2.arrowedLine(img, (x, y), (x - int(vx)*scale, y), (0,255,0), 2, cv2.LINE_AA) \n",
    "            cv2.arrowedLine(img, (x, y), (x - int(vx)*scale, y - int(vy)*scale), (0,0,255), 2, cv2.LINE_AA) \n",
    "            if v > 2 :\n",
    "                cv2.putText(img, \"%.2f\" % v, (x - int(vx)*10, y - int(vy)*10), cv2.FONT_HERSHEY_SIMPLEX, 0.3, (255, 255, 255), 1, cv2.LINE_AA) \n",
    "            trajectory.append([x,y]) # ---- add ----\n",
    "        \n",
    "        for pts in zip(trajectory, trajectory[1:]): # ---- add ----\n",
    "            cv2.line(img, (pts[0][0], pts[0][1]), (pts[1][0], pts[1][1]), (255,255,0), 1, cv2.LINE_AA) # ---- add ----\n",
    "            \n",
    "        img = cv2.resize(img, (0,0), fx=0.8, fy=0.8)\n",
    "        cv2.imshow(filename, img)\n",
    "        \n",
    "        del xs[:-120]\n",
    "        del ys[:-120]\n",
    "        i += 1 \n",
    "        \n",
    "        if cv2.waitKey(25) == ord('q'):\n",
    "            break\n",
    "    else :\n",
    "        break\n",
    "        \n",
    "cap.release()\n",
    "cv2.destroyAllWindows()"
   ]
  },
  {
   "cell_type": "markdown",
   "metadata": {},
   "source": [
    "#### 1.4.i Trajectory line (polynomial regression)"
   ]
  },
  {
   "cell_type": "code",
   "execution_count": 278,
   "metadata": {},
   "outputs": [
    {
     "name": "stdin",
     "output_type": "stream",
     "text": [
      "pilih warna [blue/orange] : blue\n"
     ]
    },
    {
     "name": "stdout",
     "output_type": "stream",
     "text": [
      "v :    5.67, vx :    0.54, vy :   -5.65 \t\t"
     ]
    }
   ],
   "source": [
    "color_input = input(\"pilih warna [blue/orange] :\")\n",
    "\n",
    "while color_input not in availabel_colors:\n",
    "    color_input = input(\"%s tidak ditemukan, pilih warna [blue/orange] :\" % color_input)\n",
    "\n",
    "filename = filenames[0]\n",
    "cap = cv2.VideoCapture(dataset_dir + filename)\n",
    "\n",
    "t0, x0, y0 = time.time(), 0, 0\n",
    "trajectory = [] \n",
    "xs, ys = [], [] \n",
    "scale = 10\n",
    "i = 0 \n",
    "while cap.isOpened():\n",
    "    ret, img = cap.read()\n",
    "    \n",
    "    if ret:\n",
    "        color = color_ranges[color_input]\n",
    "        res = detectColor(img, color['lower'], color['upper'])\n",
    "        \n",
    "        x, y, r = findContourCircle(res)\n",
    "        cv2.circle(img, (x, y), r, (255, 0, 255), 2)\n",
    "        cv2.putText(img, \"(%d, %d)\" % (x, y), (x + 5, y - 5), cv2.FONT_HERSHEY_SIMPLEX, 0.3, (255, 255, 255), 1, cv2.LINE_AA) \n",
    "        xs.append(x) \n",
    "        ys.append(y) \n",
    "  \n",
    "        if i % 15 : \n",
    "            t = time.time()\n",
    "            h, w, c = img.shape\n",
    "            x_ = np.mean(xs[-60:]) \n",
    "            y_ = np.mean(h - np.array(ys[-60:])) \n",
    "            v, vx, vy = calc_speed([x0, x_], [y0, y_], [t0, t])\n",
    "            print( \"\\rv : %7.2f, vx : %7.2f, vy : %7.2f \\t\\t\" % (v, vx, vy), end=\"\")\n",
    "\n",
    "            t0, y0, x0 = t, y_, x_\n",
    "\n",
    "            cv2.arrowedLine(img, (x, y), (x, y - int(vy)*scale), (0,255,255), 2, cv2.LINE_AA) \n",
    "            cv2.arrowedLine(img, (x, y), (x - int(vx)*scale, y), (0,255,0), 2, cv2.LINE_AA) \n",
    "            cv2.arrowedLine(img, (x, y), (x - int(vx)*scale, y - int(vy)*scale), (0,0,255), 2, cv2.LINE_AA) \n",
    "            if v > 2 :\n",
    "                cv2.putText(img, \"%.2f\" % v, (x - int(vx)*10, y - int(vy)*10), cv2.FONT_HERSHEY_SIMPLEX, 0.3, (255, 255, 255), 1, cv2.LINE_AA) \n",
    "            trajectory.append([x,y]) \n",
    "        \n",
    "        for pts in zip(trajectory, trajectory[1:]): \n",
    "            cv2.line(img, (pts[0][0], pts[0][1]), (pts[1][0], pts[1][1]), (255,255,0), 1, cv2.LINE_AA)\n",
    "            \n",
    "        if len(trajectory) > 60 :  # ---- add ----\n",
    "            vec_trajectory = np.array(trajectory)  # ---- add ----\n",
    "            xc = vec_trajectory[:,0]  # ---- add ----\n",
    "            yc = vec_trajectory[:,1]  # ---- add ----\n",
    "            orde = 2 if len(xc) <= 100 else 3 if len(xc) > 100 and len(xc) < 500 else 5 # ---- add ----\n",
    "            poly_solve = np.unique(yc), np.int0(np.poly1d(np.polyfit(yc, xc, orde))(np.unique(yc)))  # ---- add ----\n",
    "            cv2.polylines(img, [np.array(list(zip(poly_solve[1], poly_solve[0])))], False, (0,0,255), 1, cv2.LINE_AA)  # ---- add ----\n",
    "            \n",
    "        img = cv2.resize(img, (0,0), fx=0.8, fy=0.8)\n",
    "        cv2.imshow(filename, img)\n",
    "        \n",
    "        del xs[:-120]\n",
    "        del ys[:-120]\n",
    "        i += 1 \n",
    "        \n",
    "        if cv2.waitKey(25) == ord('q'):\n",
    "            break\n",
    "    else :\n",
    "        break\n",
    "        \n",
    "cap.release()\n",
    "cv2.destroyAllWindows()"
   ]
  },
  {
   "cell_type": "markdown",
   "metadata": {},
   "source": [
    "#### 1.4.j Plot Trajectory"
   ]
  },
  {
   "cell_type": "code",
   "execution_count": 275,
   "metadata": {},
   "outputs": [
    {
     "data": {
      "image/png": "[encoded data removed]",
      "text/plain": [
       "<Figure size 720x360 with 1 Axes>"
      ]
     },
     "metadata": {
      "needs_background": "light"
     },
     "output_type": "display_data"
    }
   ],
   "source": [
    "vec_trajectory = np.array(trajectory)\n",
    "x = vec_trajectory[:,0]\n",
    "y = vec_trajectory[:,1]\n",
    "plt.figure(figsize=(10,5))\n",
    "plt.scatter(y, x, marker=\".\")\n",
    "plt.grid()\n",
    "plt.xlabel('y')\n",
    "plt.ylabel('x')\n",
    "plt.show()"
   ]
  },
  {
   "cell_type": "markdown",
   "metadata": {},
   "source": [
    "#### 1.4.j Plot Trajectory Line (Polynomial Regression)"
   ]
  },
  {
   "cell_type": "code",
   "execution_count": 279,
   "metadata": {},
   "outputs": [
    {
     "data": {
      "image/png": "[encoded data removed]",
      "text/plain": [
       "<Figure size 720x360 with 1 Axes>"
      ]
     },
     "metadata": {
      "needs_background": "light"
     },
     "output_type": "display_data"
    }
   ],
   "source": [
    "vec_trajectory = np.array(trajectory)\n",
    "x = vec_trajectory[:,0]\n",
    "y = vec_trajectory[:,1]\n",
    "Y, X = np.unique(y), np.poly1d(np.polyfit(y, x, 5))(np.unique(y))\n",
    "\n",
    "plt.figure(figsize=(10,5))\n",
    "plt.scatter(y, x, marker=\".\")\n",
    "plt.plot(Y, X, 'r-')\n",
    "plt.grid()\n",
    "plt.xlabel('y')\n",
    "plt.ylabel('x')\n",
    "plt.show()"
   ]
  },
  {
   "cell_type": "code",
   "execution_count": null,
   "metadata": {},
   "outputs": [],
   "source": []
  }
 ],
 "metadata": {
  "kernelspec": {
   "display_name": "Python [conda env:opencv_env]",
   "language": "python",
   "name": "conda-env-opencv_env-py"
  },
  "language_info": {
   "codemirror_mode": {
    "name": "ipython",
    "version": 3
   },
   "file_extension": ".py",
   "mimetype": "text/x-python",
   "name": "python",
   "nbconvert_exporter": "python",
   "pygments_lexer": "ipython3",
   "version": "3.8.6"
  }
 },
 "nbformat": 4,
 "nbformat_minor": 4
}
