{
 "cells": [
  {
   "cell_type": "markdown",
   "metadata": {},
   "source": [
    "# 2. Mengukur Kecepatan Object - OpenCV (lanjutan ...)"
   ]
  },
  {
   "cell_type": "code",
   "execution_count": 1,
   "metadata": {},
   "outputs": [],
   "source": [
    "import os\n",
    "import cv2\n",
    "import numpy as np\n",
    "import matplotlib.pyplot as plt\n",
    "import math\n",
    "import time"
   ]
  },
  {
   "cell_type": "markdown",
   "metadata": {},
   "source": [
    "#### 2.0 previous function"
   ]
  },
  {
   "cell_type": "code",
   "execution_count": 2,
   "metadata": {},
   "outputs": [],
   "source": [
    "def detectColor(img, lower, upper): \n",
    "        hsv = cv2.cvtColor(img, cv2.COLOR_BGR2HSV)\n",
    "        mask = cv2.inRange(hsv.copy(), lower, upper)\n",
    "        res = cv2.bitwise_and(img, img, mask= mask)\n",
    "        return res"
   ]
  },
  {
   "cell_type": "code",
   "execution_count": 3,
   "metadata": {},
   "outputs": [],
   "source": [
    "def findContourCircle(res): \n",
    "        x, y, r = 0, 0, 0\n",
    "        gray = cv2.cvtColor(res, cv2.COLOR_BGR2GRAY)\n",
    "        contours, hierarchy = cv2.findContours(gray, cv2.RETR_EXTERNAL, cv2.CHAIN_APPROX_NONE)\n",
    "        circle = []\n",
    "        for cnt in contours:\n",
    "            (x,y), radius = cv2.minEnclosingCircle(cnt)\n",
    "            if radius > 10: \n",
    "                circle.append([int(x), int(y), int(radius)])\n",
    "        if len(circle) > 0 :\n",
    "            circle = np.array(circle)\n",
    "            x = int(np.mean(circle[:, 0]))\n",
    "            y = int(np.mean(circle[:, 1]))\n",
    "            r = int(np.mean(circle[:, 2]))\n",
    "        return x, y, r"
   ]
  },
  {
   "cell_type": "code",
   "execution_count": 4,
   "metadata": {},
   "outputs": [],
   "source": [
    "def findCircelHoug(img):\n",
    "    rs = []\n",
    "    x, y, r = 0, 0, 0\n",
    "    h, w, c = img.shape\n",
    "    \n",
    "    gray = cv2.cvtColor(img, cv2.COLOR_BGR2GRAY)\n",
    "    ret, binary = cv2.threshold(gray, 50, 255, cv2.THRESH_BINARY_INV)\n",
    "    edge = cv2.Canny(binary, 100, 200)\n",
    "    binary = cv2.resize(binary, (0,0), fx=0.5, fy=0.5)\n",
    "    \n",
    "    cv2.imshow(\"binary\", binary)\n",
    "    \n",
    "    circles = cv2.HoughCircles(edge, cv2.HOUGH_GRADIENT, 1, h/64, param1=150, param2=20, minRadius=50, maxRadius=100)\n",
    "    if circles is not None:\n",
    "        circles = np.uint16(np.around(circles))[0]\n",
    "        x = int(np.mean(circles[:, 0]))\n",
    "        y = int(np.mean(circles[:, 1]))\n",
    "        rs.append(np.mean(circles[:, 2]))\n",
    "        r = int(np.mean(rs))\n",
    "    return x, y, r"
   ]
  },
  {
   "cell_type": "code",
   "execution_count": 5,
   "metadata": {},
   "outputs": [],
   "source": [
    "def calc_speed(x, y, t):\n",
    "    dx = float(x[1]) - float(x[0])\n",
    "    dy = float(y[1]) - float(y[0])\n",
    "    ds = math.sqrt( math.pow(dx,2) + math.pow(dy,2))\n",
    "    dt = float(t[1]) - float(t[0])\n",
    "    v = float(ds/dt)\n",
    "    vx = float(dx/dt)\n",
    "    vy = float(dy/dt)\n",
    "    return v, vx, vy"
   ]
  },
  {
   "cell_type": "code",
   "execution_count": 6,
   "metadata": {},
   "outputs": [],
   "source": [
    "color_ranges = dict(\n",
    "    blue = dict(\n",
    "        lower = np.array([110, 50, 50]),\n",
    "        upper = np.array([130, 255, 255])\n",
    "    ),\n",
    "    orange = dict(\n",
    "        lower = np.array([10, 50, 50]),\n",
    "        upper = np.array([20, 255, 255])\n",
    "    ) \n",
    ")\n",
    "\n",
    "availabel_colors = color_ranges.keys()"
   ]
  },
  {
   "cell_type": "markdown",
   "metadata": {},
   "source": [
    "#### 2.a Mengatur Referensi pengukuran kecepatan (x,y)\n",
    "\n",
    "<img src=\"resource/circel.png\" style=\"width:500px\"></img>"
   ]
  },
  {
   "cell_type": "code",
   "execution_count": 7,
   "metadata": {},
   "outputs": [
    {
     "name": "stdout",
     "output_type": "stream",
     "text": [
      "['video1.mp4', 'video2.mp4']\n"
     ]
    }
   ],
   "source": [
    "dataset_dir = \"dataset/\"\n",
    "\n",
    "filenames = os.listdir(dataset_dir)\n",
    "\n",
    "print(filenames)"
   ]
  },
  {
   "cell_type": "code",
   "execution_count": null,
   "metadata": {},
   "outputs": [],
   "source": [
    "color_input = input(\"pilih warna [blue/orange] :\")\n",
    "\n",
    "while color_input not in availabel_colors:\n",
    "    color_input = input(\"%s tidak ditemukan, pilih warna [blue/orange] :\" % color_input)\n",
    "\n",
    "filename = filenames[0]\n",
    "cap = cv2.VideoCapture(dataset_dir + filename)\n",
    "\n",
    "t0, x0, y0 = time.time(), 0, 0\n",
    "trajectory = [] \n",
    "xs, ys = [], [] \n",
    "scale = 10\n",
    "i = 0 \n",
    "while cap.isOpened():\n",
    "    ret, img = cap.read()\n",
    "    \n",
    "    if ret:\n",
    "        color = color_ranges[color_input]\n",
    "        res = detectColor(img, color['lower'], color['upper'])\n",
    "        \n",
    "        x, y, r = findContourCircle(res)\n",
    "        cv2.circle(img, (x, y), r, (255, 0, 255), 2)\n",
    "         \n",
    "        xs.append(x) \n",
    "        ys.append(y) \n",
    "  \n",
    "        if i % 15 : \n",
    "            t = time.time()\n",
    "            h, w, c = img.shape\n",
    "            x_ = np.mean(xs[-60:]) \n",
    "            y_ = np.mean(h - np.array(ys[-60:])) \n",
    "            v, vx, vy = calc_speed([x0, x_], [y0, y_], [t0, t])\n",
    "            print( \"\\rv : %7.2f, vx : %7.2f, vy : %7.2f \\t\\t\" % (v, vx, vy), end=\"\")\n",
    "\n",
    "            t0, y0, x0 = t, y_, x_\n",
    "\n",
    "            x, y = x - r, y + r\n",
    "            cv2.putText(img, \"(%d, %d)\" % (x, y), (x + 15, y - 15), cv2.FONT_HERSHEY_SIMPLEX, 0.3, (255, 255, 255), 1, cv2.LINE_AA)\n",
    "            cv2.line(img, (x,y), (x, y - r), (200, 200, 200), 2)\n",
    "            cv2.line(img, (x,y), (x + r, y), (200, 200, 200), 2)\n",
    "            cv2.arrowedLine(img, (x, y), (x, y - int(vy)*scale), (0,255,255), 2, cv2.LINE_AA) \n",
    "            cv2.arrowedLine(img, (x, y), (x - int(vx)*scale, y), (0,255,0), 2, cv2.LINE_AA) \n",
    "            cv2.arrowedLine(img, (x, y), (x - int(vx)*scale, y - int(vy)*scale), (0,0,255), 2, cv2.LINE_AA) \n",
    "            if v > 2 :\n",
    "                cv2.putText(img, \"%.2f\" % v, (x - int(vx)*10, y - int(vy)*10), cv2.FONT_HERSHEY_SIMPLEX, 0.3, (255, 255, 255), 1, cv2.LINE_AA) \n",
    "            trajectory.append([x,y]) \n",
    "        \n",
    "        for pts in zip(trajectory, trajectory[1:]): \n",
    "            cv2.line(img, (pts[0][0], pts[0][1]), (pts[1][0], pts[1][1]), (255,255,0), 1, cv2.LINE_AA)\n",
    "            \n",
    "        if len(trajectory) > 60 :  \n",
    "            vec_trajectory = np.array(trajectory)  \n",
    "            xc = vec_trajectory[:,0]  \n",
    "            yc = vec_trajectory[:,1]  \n",
    "            orde = 2 if len(xc) <= 100 else 3 if len(xc) > 100 and len(xc) < 500 else 5 \n",
    "            poly_solve = np.unique(yc), np.int0(np.poly1d(np.polyfit(yc, xc, orde))(np.unique(yc)))  \n",
    "            cv2.polylines(img, [np.array(list(zip(poly_solve[1], poly_solve[0])))], False, (0,0,255), 1, cv2.LINE_AA)  \n",
    "            \n",
    "        #img = cv2.resize(img, (0,0), fx=0.8, fy=0.8)\n",
    "        cv2.imshow(filename, img)\n",
    "        \n",
    "        del xs[:-120]\n",
    "        del ys[:-120]\n",
    "        i += 1 \n",
    "        \n",
    "        if cv2.waitKey(25) == ord('q'):\n",
    "            break\n",
    "    else :\n",
    "        break\n",
    "        \n",
    "cap.release()\n",
    "cv2.destroyAllWindows()"
   ]
  },
  {
   "cell_type": "markdown",
   "metadata": {},
   "source": [
    "#### 2.b Mengubah satuan pixel ke jarak"
   ]
  },
  {
   "cell_type": "markdown",
   "metadata": {},
   "source": [
    "$pixel/s * cm/pixel = cm/s$"
   ]
  },
  {
   "cell_type": "code",
   "execution_count": null,
   "metadata": {},
   "outputs": [],
   "source": [
    "color_input = input(\"pilih warna [blue/orange] :\")\n",
    "\n",
    "while color_input not in availabel_colors:\n",
    "    color_input = input(\"%s tidak ditemukan, pilih warna [blue/orange] :\" % color_input)\n",
    "\n",
    "filename = filenames[0]\n",
    "cap = cv2.VideoCapture(dataset_dir + filename)\n",
    "\n",
    "t0, x0, y0 = time.time(), 0, 0\n",
    "trajectory = [] \n",
    "xs, ys = [], [] \n",
    "scale = 10\n",
    "i = 0 \n",
    "ratio = 40/480 # ratio dimensi : 30 cm / 700 pixel\n",
    "\n",
    "while cap.isOpened():\n",
    "    ret, img = cap.read()\n",
    "    \n",
    "    if ret:\n",
    "        color = color_ranges[color_input]\n",
    "        res = detectColor(img, color['lower'], color['upper'])\n",
    "        \n",
    "        x, y, r = findContourCircle(res)\n",
    "        cv2.circle(img, (x, y), r, (255, 0, 255), 2)\n",
    "        cv2.putText(img, \"(%d, %d)\" % (x, y), (x + 5, y - 5), cv2.FONT_HERSHEY_SIMPLEX, 0.3, (255, 255, 255), 1, cv2.LINE_AA) \n",
    "        xs.append(x) \n",
    "        ys.append(y) \n",
    "  \n",
    "        if i % 15 : \n",
    "            t = time.time()\n",
    "            h, w, c = img.shape\n",
    "            x_ = np.mean(xs[-60:]) \n",
    "            y_ = np.mean(h - np.array(ys[-60:])) \n",
    "            v, vx, vy = calc_speed([x0, x_], [y0, y_], [t0, t])\n",
    "            v_, vx_, vy_ = v*ratio, vx*ratio, vy*ratio\n",
    "            print( \"\\rv : %7.2f cm/s, vx : %7.2f cm/s, vy : %7.2f cm/s \\t\\t\" % (v_, vx_, vy_), end=\"\")\n",
    "\n",
    "            t0, y0, x0 = t, y_, x_\n",
    "\n",
    "            x, y = x - r, y + r\n",
    "            cv2.line(img, (x,y), (x, y - r), (200, 200, 200), 2)\n",
    "            cv2.line(img, (x,y), (x + r, y), (200, 200, 200), 2)\n",
    "            cv2.arrowedLine(img, (x, y), (x, y - int(vy_)*scale), (0,255,255), 2, cv2.LINE_AA) \n",
    "            cv2.arrowedLine(img, (x, y), (x - int(vx_)*scale, y), (0,255,0), 2, cv2.LINE_AA) \n",
    "            cv2.arrowedLine(img, (x, y), (x - int(vx_)*scale, y - int(vy)*scale), (0,0,255), 2, cv2.LINE_AA) \n",
    "            if v > 2 :\n",
    "                cv2.putText(img, \"%.2f cm/s\" % v_, (x - int(vx)*10, y - int(vy)*10), cv2.FONT_HERSHEY_SIMPLEX, 0.3, (255, 255, 255), 1, cv2.LINE_AA) \n",
    "            trajectory.append([x,y]) \n",
    "        \n",
    "        for pts in zip(trajectory, trajectory[1:]): \n",
    "            cv2.line(img, (pts[0][0], pts[0][1]), (pts[1][0], pts[1][1]), (255,255,0), 1, cv2.LINE_AA)\n",
    "            \n",
    "        if len(trajectory) > 60 :  \n",
    "            vec_trajectory = np.array(trajectory)  \n",
    "            xc = vec_trajectory[:,0]  \n",
    "            yc = vec_trajectory[:,1]  \n",
    "            orde = 2 if len(xc) <= 100 else 3 if len(xc) > 100 and len(xc) < 500 else 5 \n",
    "            poly_solve = np.unique(yc), np.int0(np.poly1d(np.polyfit(yc, xc, orde))(np.unique(yc)))  \n",
    "            cv2.polylines(img, [np.array(list(zip(poly_solve[1], poly_solve[0])))], False, (0,0,255), 1, cv2.LINE_AA)  \n",
    "            \n",
    "        img = cv2.resize(img, (0,0), fx=0.8, fy=0.8)\n",
    "        cv2.imshow(filename, img)\n",
    "        \n",
    "        del xs[:-120]\n",
    "        del ys[:-120]\n",
    "        i += 1 \n",
    "        \n",
    "        if cv2.waitKey(25) == ord('q'):\n",
    "            break\n",
    "    else :\n",
    "        break\n",
    "        \n",
    "cap.release()\n",
    "cv2.destroyAllWindows()"
   ]
  },
  {
   "cell_type": "markdown",
   "metadata": {},
   "source": [
    "#### 2.c Add range bar"
   ]
  },
  {
   "cell_type": "code",
   "execution_count": null,
   "metadata": {},
   "outputs": [],
   "source": [
    "color_input = input(\"pilih warna [blue/orange] :\")\n",
    "\n",
    "while color_input not in availabel_colors:\n",
    "    color_input = input(\"%s tidak ditemukan, pilih warna [blue/orange] :\" % color_input)\n",
    "\n",
    "filename = filenames[0]\n",
    "cap = cv2.VideoCapture(dataset_dir + filename)\n",
    "\n",
    "t0, x0, y0 = time.time(), 0, 0\n",
    "trajectory = [] \n",
    "xs, ys = [], [] \n",
    "scale = 10\n",
    "i = 0 \n",
    "ratio = 30/700 # ratio dimensi : 30 cm / 700 pixel\n",
    "\n",
    "while cap.isOpened():\n",
    "    ret, img = cap.read()\n",
    "    \n",
    "    if ret:\n",
    "        h, w, c = img.shape\n",
    "        color = color_ranges[color_input]\n",
    "        res = detectColor(img, color['lower'], color['upper'])\n",
    "        \n",
    "        x, y, r = findContourCircle(res)\n",
    "        cv2.circle(img, (x, y), r, (255, 0, 255), 2)\n",
    "        cv2.putText(img, \"(%d, %d)\" % (x, y), (x + 5, y - 5), cv2.FONT_HERSHEY_SIMPLEX, 0.3, (255, 255, 255), 1, cv2.LINE_AA) \n",
    "        xs.append(x) \n",
    "        ys.append(y) \n",
    "  \n",
    "        if i % 15 : \n",
    "            t = time.time()\n",
    "            x_ = np.mean(xs[-60:]) \n",
    "            y_ = np.mean(h - np.array(ys[-60:])) \n",
    "            v, vx, vy = calc_speed([x0, x_], [y0, y_], [t0, t])\n",
    "            v_, vx_, vy_ = v*ratio, vx*ratio, vy*ratio\n",
    "            print( \"\\rv : %7.2f cm/s, vx : %7.2f cm/s, vy : %7.2f cm/s \\t\\t\" % (v_, vx_, vy_), end=\"\")\n",
    "\n",
    "            t0, y0, x0 = t, y_, x_\n",
    "\n",
    "            x, y = x - r, y + r\n",
    "            cv2.line(img, (x,y), (x, y - r), (200, 200, 200), 2)\n",
    "            cv2.line(img, (x,y), (x + r, y), (200, 200, 200), 2)\n",
    "            cv2.arrowedLine(img, (x, y), (x, y - int(vy)*scale), (0,255,255), 2, cv2.LINE_AA) \n",
    "            cv2.arrowedLine(img, (x, y), (x - int(vx)*scale, y), (0,255,0), 2, cv2.LINE_AA) \n",
    "            cv2.arrowedLine(img, (x, y), (x - int(vx)*scale, y - int(vy)*scale), (0,0,255), 2, cv2.LINE_AA) \n",
    "            if v > 2 :\n",
    "                cv2.putText(img, \"%.2f cm/s\" % v_, (x - int(vx)*10, y - int(vy)*10), cv2.FONT_HERSHEY_SIMPLEX, 0.3, (255, 255, 255), 1, cv2.LINE_AA) \n",
    "            trajectory.append([x,y]) \n",
    "        \n",
    "        for pts in zip(trajectory, trajectory[1:]): \n",
    "            cv2.line(img, (pts[0][0], pts[0][1]), (pts[1][0], pts[1][1]), (255,255,0), 1, cv2.LINE_AA)\n",
    "            \n",
    "        if len(trajectory) > 60 :  \n",
    "            vec_trajectory = np.array(trajectory)  \n",
    "            xc = vec_trajectory[:,0]  \n",
    "            yc = vec_trajectory[:,1]  \n",
    "            orde = 2 if len(xc) <= 100 else 3 if len(xc) > 100 and len(xc) < 500 else 5 \n",
    "            poly_solve = np.unique(yc), np.int0(np.poly1d(np.polyfit(yc, xc, orde))(np.unique(yc)))  \n",
    "            cv2.polylines(img, [np.array(list(zip(poly_solve[1], poly_solve[0])))], False, (0,0,255), 1, cv2.LINE_AA)  \n",
    "            \n",
    "        \n",
    "        # add range bar\n",
    "        (x1, y1), (x2, y2) = (int(w*0.3), int(h*0.8)), (int(w*0.3), int(h*0.9))\n",
    "        (xm, ym) = (int(w*0.31), int(h*0.85 + 10))\n",
    "        cv2.line(img, (x1, y1), (x2, y2), (200), 2)\n",
    "        cv2.putText(img, \"%.2f cm\" % ((y2-y1)*ratio) , (xm, ym), cv2.FONT_HERSHEY_SIMPLEX, 0.3, (255, 255, 255), 1, cv2.LINE_AA)\n",
    "        \n",
    "        img = cv2.resize(img, (0,0), fx=0.8, fy=0.8)\n",
    "        cv2.imshow(filename, img)\n",
    "        \n",
    "        del xs[:-120]\n",
    "        del ys[:-120]\n",
    "        i += 1 \n",
    "        \n",
    "        if cv2.waitKey(25) == ord('q'):\n",
    "            break\n",
    "    else :\n",
    "        break\n",
    "        \n",
    "cap.release()\n",
    "cv2.destroyAllWindows()"
   ]
  },
  {
   "cell_type": "markdown",
   "metadata": {},
   "source": [
    "___\n",
    "___"
   ]
  },
  {
   "cell_type": "markdown",
   "metadata": {},
   "source": [
    "# 3. Basic GUI (desktop) Programming using pySimpleGUI"
   ]
  },
  {
   "cell_type": "markdown",
   "metadata": {},
   "source": [
    "#### 3.1 Install library pySimple GUI"
   ]
  },
  {
   "cell_type": "code",
   "execution_count": null,
   "metadata": {},
   "outputs": [],
   "source": [
    "! python -m pip install pysimplegui"
   ]
  },
  {
   "cell_type": "code",
   "execution_count": 8,
   "metadata": {},
   "outputs": [],
   "source": [
    "import os\n",
    "import PySimpleGUI as sg "
   ]
  },
  {
   "cell_type": "markdown",
   "metadata": {},
   "source": [
    "___\n",
    "# Basic UI Element\n",
    "\n",
    "#### 3.2 Create & Display Window"
   ]
  },
  {
   "cell_type": "code",
   "execution_count": null,
   "metadata": {
    "tags": [
     "readImage"
    ]
   },
   "outputs": [],
   "source": [
    "window = sg.Window(title=\"Hello World\", layout=[[]], margins=(200, 100))\n",
    "window.read(timeout=3000)\n",
    "window.close()"
   ]
  },
  {
   "cell_type": "markdown",
   "metadata": {},
   "source": [
    "- Result : <br>\n",
    "<img src=\"resource/basic-ui.png\" style=\"width:400px\"></img>\n",
    "- One of the basic building blocks of PySimpleGUI is the `Window()`,\n",
    "- on the created window, we can add `title` and a `layout` and set the `margins`,\n",
    "- `margin` is margin for created layout `(margin-x, margin-y)`."
   ]
  },
  {
   "cell_type": "markdown",
   "metadata": {},
   "source": [
    "#### 3.3 Add text and button into `layout`"
   ]
  },
  {
   "cell_type": "code",
   "execution_count": null,
   "metadata": {},
   "outputs": [],
   "source": [
    "layout = [[sg.Text(\"Hello from PySimpleGUI\"), sg.Button(\"OK\")], \n",
    "          [sg.Text(\"line 2\")],\n",
    "          [sg.Text(\"line 3\")]]\n",
    "\n",
    "window = sg.Window(title=\"Hello World\", layout=layout, margins=(200, 100))\n",
    "\n",
    "event, values = window.read()\n",
    "print(event, values)\n",
    "\n",
    "window.close()"
   ]
  },
  {
   "cell_type": "markdown",
   "metadata": {},
   "source": [
    "- Result :<br>\n",
    "<img src=\"resource/text-n-button.png\" style=\"width:500px\"></img>\n",
    "- PySimpleGUI uses nested Python lists to lay out its elements. \n",
    "- In this case, you add a `Text()` element and a `Button()` element."
   ]
  },
  {
   "cell_type": "markdown",
   "metadata": {},
   "source": [
    "#### 3.4 Button Handler"
   ]
  },
  {
   "cell_type": "code",
   "execution_count": null,
   "metadata": {},
   "outputs": [],
   "source": [
    "layout = [[sg.Text(\"klik button untuk close window!\")], \n",
    "          [sg.Button(\"close\")]]\n",
    "\n",
    "window = sg.Window(title=\"Hello World\", layout=layout, margins=(200, 100))\n",
    "\n",
    "event, values = window.read()\n",
    "if event == 'close':\n",
    "    print('button close, clicked!')\n",
    "\n",
    "window.close()"
   ]
  },
  {
   "cell_type": "code",
   "execution_count": null,
   "metadata": {},
   "outputs": [],
   "source": [
    "layout = [[sg.Text(\"klik button untuk close window!\")], \n",
    "          [sg.Button(\"print\")]]\n",
    "\n",
    "window = sg.Window(title=\"Hello World\", layout=layout, margins=(200, 100))\n",
    "\n",
    "while True:\n",
    "    event, values = window.read()\n",
    "    if event == 'print':\n",
    "        print('print, Hello World!')\n",
    "        \n",
    "    if event == sg.WIN_CLOSED:\n",
    "        break\n",
    "        \n",
    "window.close()"
   ]
  },
  {
   "cell_type": "markdown",
   "metadata": {},
   "source": [
    "# Image Widget"
   ]
  },
  {
   "cell_type": "markdown",
   "metadata": {},
   "source": [
    "#### 3.5 Simple Image Viewer"
   ]
  },
  {
   "cell_type": "code",
   "execution_count": null,
   "metadata": {},
   "outputs": [],
   "source": [
    "image_viewer_layout= [\n",
    "    [sg.Text(\"lena.png\")],\n",
    "    [sg.Image(filename=\"lena.png\")],\n",
    "]\n",
    "\n",
    "window = sg.Window(title=\"Image Viewer\", layout=image_viewer_layout, margins=(30, 30))\n",
    "window.read()\n",
    "window.close()"
   ]
  },
  {
   "cell_type": "markdown",
   "metadata": {},
   "source": [
    "- result : <br>\n",
    "<img src=\"resource/image-viewer.png\" style=\"width:300px\"></img>\n",
    "- `Image()` :Image Element - show an image in the window for given `filename`. Should be a `GIF` or a `PNG` only."
   ]
  },
  {
   "cell_type": "markdown",
   "metadata": {},
   "source": [
    "#### 3.6 Image Viewer PySimpleGUI + OpenCV\n",
    "- convert matrix image ke png menggunakan `cv2.imencode()`\n",
    "- convert matrix `png` menjadi raw-data (bytes) menggunakan numpy function `.tobytes()`\n",
    "- menggunakan `window[key].update(data=image_byte)` untuk mengupdate data pada widget dengan `key` tersebut."
   ]
  },
  {
   "cell_type": "code",
   "execution_count": null,
   "metadata": {
    "tags": [
     "readImage"
    ]
   },
   "outputs": [],
   "source": [
    "def readImage(filename = \"lena.png\"):\n",
    "    img = cv2.imread(filename) \n",
    "    ret, frame_png = cv2.imencode('.png', img)\n",
    "    img_byte = frame_png.tobytes()\n",
    "    return img_byte"
   ]
  },
  {
   "cell_type": "code",
   "execution_count": null,
   "metadata": {
    "tags": [
     "readImage"
    ]
   },
   "outputs": [],
   "source": [
    "image_viewer_layout= [\n",
    "    [sg.Text(\"lena.png\")],\n",
    "    [sg.Image(filename='', key='-image-')],\n",
    "]\n",
    "\n",
    "window = sg.Window(title=\"Image Viewer\", finalize=True, layout=image_viewer_layout, margins=(10, 10))\n",
    "\n",
    "img_byte = readImage(filename = \"lena.jpg\")\n",
    "window['-image-'].update(data=img_byte)\n",
    "\n",
    "window.read()\n",
    "window.close()"
   ]
  },
  {
   "cell_type": "markdown",
   "metadata": {},
   "source": [
    "- `finalize=True` digunakan untuk dapat meng-update content widget dengan `key` yang belum di `.read()`"
   ]
  },
  {
   "cell_type": "markdown",
   "metadata": {},
   "source": [
    "#### 3.7 Video Viewer + OpenCV"
   ]
  },
  {
   "cell_type": "code",
   "execution_count": 9,
   "metadata": {},
   "outputs": [],
   "source": [
    "def readBytesFromFrame(cap):\n",
    "    frame_byte = None\n",
    "    ret, frame = cap.read()\n",
    "    if ret :\n",
    "        frame = cv2.resize(frame, (0,0), fx=0.5, fy=0.5)\n",
    "        ret, frame_png = cv2.imencode('.png', frame)\n",
    "        frame_byte = frame_png.tobytes()\n",
    "    return ret, frame_byte"
   ]
  },
  {
   "cell_type": "code",
   "execution_count": null,
   "metadata": {},
   "outputs": [],
   "source": [
    "video_viewer_layout = [[sg.Image(filename='', key='-image-')]]\n",
    "\n",
    "window = sg.Window(title='Video Player', layout=video_viewer_layout, margins=(10, 10)) \n",
    "\n",
    "cap = cv2.VideoCapture(\"dataset/video1.mp4\")\n",
    "\n",
    "while cap.isOpened():   \n",
    "\n",
    "    event, values = window.read(timeout=25)  \n",
    "        \n",
    "    ret, frame_byte = readBytesFromFrame(cap)\n",
    "    \n",
    "    if not ret or event == sg.WIN_CLOSED:\n",
    "        break\n",
    "        \n",
    "    window['-image-'].update(data=frame_byte)\n",
    "\n",
    "cap.release()\n",
    "window.close()"
   ]
  },
  {
   "cell_type": "markdown",
   "metadata": {},
   "source": [
    "- `sg.WIN_CLOSED` adalah event close window by user \n",
    "- `window.read(timeout=20)` akan membaca semua data yang dibutuhkan widget/element dan menampilkanya.\n",
    "- `timeout=20` proses pembacaat akan dilakukan selama `20ms`"
   ]
  },
  {
   "cell_type": "markdown",
   "metadata": {},
   "source": [
    "#### 3.7 Video Viewer with Close Button"
   ]
  },
  {
   "cell_type": "code",
   "execution_count": null,
   "metadata": {},
   "outputs": [],
   "source": [
    "video_viewer_layout = [[sg.Image(filename='', key='-image-')], \n",
    "                       [sg.Button('close')]]\n",
    "\n",
    "window = sg.Window(title='Video Player', layout=video_viewer_layout, margins=(10, 10)) \n",
    "\n",
    "cap = cv2.VideoCapture(\"dataset/video1.mp4\")\n",
    "\n",
    "while cap.isOpened():   \n",
    "\n",
    "    event, values = window.read(timeout=20)  \n",
    "        \n",
    "    ret, frame_byte = readBytesFromFrame(cap)\n",
    "    \n",
    "    if not ret or event == 'close' or event == sg.WIN_CLOSED:\n",
    "        break\n",
    "        \n",
    "    window['-image-'].update(data=frame_byte)\n",
    "\n",
    "cap.release()\n",
    "window.close()"
   ]
  },
  {
   "cell_type": "markdown",
   "metadata": {},
   "source": [
    "___\n",
    "## Widget Browse File"
   ]
  },
  {
   "cell_type": "markdown",
   "metadata": {},
   "source": [
    "#### 3.8 Browse Image & View\n",
    "- `sg.FileBrowse` digunakan untuk memunculkan tombol browse file,\n",
    "- `file_types=((\"Image\", \"*.png\"),)` akan membatasi file yang di browse adalah gambar dengan extension `.png`\n",
    "- `sg.In` adalah widget input text untuk menampung `path` lokasi gambar (e.g : C:/Users/Jhon/image.png)\n",
    "- `size=(25, 1)` adalah 25 char 1 baris pada input text `sg.In`\n",
    "- `enable_events=True` agar widgetdapat menghandle event"
   ]
  },
  {
   "cell_type": "code",
   "execution_count": null,
   "metadata": {},
   "outputs": [],
   "source": [
    "layout = [[ \n",
    "            sg.Text(\"Image File\"),\n",
    "            sg.In(size=(25, 1), enable_events=True, key=\"-filename-\"),\n",
    "            sg.FileBrowse(file_types=((\".jpg\", \"*.png\"),)) \n",
    "          ],\n",
    "          [ \n",
    "            sg.Image(filename='', key='-image-') \n",
    "          ]]\n",
    "\n",
    "window = sg.Window(title=\"Image Browse & Viewer\", finalize=True, layout=layout, margins=(10, 10))\n",
    "\n",
    "while True :\n",
    "    event, values = window.read()\n",
    "    print(event, values)\n",
    "    if event == sg.WIN_CLOSED :\n",
    "        break\n",
    "    if event == '-filename-' :\n",
    "        filename = values['-filename-']\n",
    "        img_byte = readImage(filename = filename)\n",
    "        window['-image-'].update(data=img_byte)\n",
    "\n",
    "window.close()"
   ]
  },
  {
   "cell_type": "markdown",
   "metadata": {},
   "source": [
    "#### 3.9 Browse Image & View with placeholder empty image"
   ]
  },
  {
   "cell_type": "code",
   "execution_count": null,
   "metadata": {},
   "outputs": [],
   "source": [
    "layout = [[ \n",
    "            sg.Text(\"Image File\"),\n",
    "            sg.In(size=(25, 1), enable_events=True, key=\"-filename-\"),\n",
    "            sg.FileBrowse(file_types=((\"Image\", \"*.png\"),)) \n",
    "          ],\n",
    "          [ \n",
    "            sg.Image(filename='empty.png', key='-image-') \n",
    "          ]]\n",
    "\n",
    "window = sg.Window(title=\"Image Browse & Viewer V2\", finalize=True, layout=layout, margins=(10, 10))\n",
    "\n",
    "while True :\n",
    "    event, values = window.read()\n",
    "    if event == sg.WIN_CLOSED :\n",
    "        break\n",
    "    if event == '-filename-' :\n",
    "        filename = values['-filename-']\n",
    "        img_byte = readImage(filename = filename)\n",
    "        window['-image-'].update(data=img_byte)\n",
    "\n",
    "window.close()"
   ]
  },
  {
   "cell_type": "markdown",
   "metadata": {},
   "source": [
    "#### 3.10 Browse & Play Video"
   ]
  },
  {
   "cell_type": "code",
   "execution_count": null,
   "metadata": {},
   "outputs": [],
   "source": [
    "layout = [[ \n",
    "            sg.Text(\"Video File\"),\n",
    "            sg.In(size=(25, 1), enable_events=True, key=\"-filename-\"),\n",
    "            sg.FileBrowse(file_types=((\"Video\", \"*.mp4\"),)) \n",
    "          ],\n",
    "          [ \n",
    "            sg.Image(filename='empty.png', key='-image-') \n",
    "          ]]\n",
    "\n",
    "window = sg.Window(title=\"Video Browse & Viewer\", finalize=True, layout=layout, margins=(10, 10))\n",
    "\n",
    "cap = None\n",
    "filename = ''\n",
    "while True :\n",
    "    event, values = window.read(timeout=25)\n",
    "    if event == sg.WIN_CLOSED :\n",
    "        break\n",
    "    if event == '-filename-' :\n",
    "        filename = values['-filename-']\n",
    "        cap = cv2.VideoCapture(filename)\n",
    "        \n",
    "    if cap is not None :\n",
    "        ret, frame_byte = readBytesFromFrame(cap)\n",
    "        if not ret:\n",
    "            cap.release()\n",
    "            break\n",
    "        window['-image-'].update(data=frame_byte)\n",
    "\n",
    "window.close()"
   ]
  },
  {
   "cell_type": "markdown",
   "metadata": {},
   "source": [
    "#### 3.11 Add Play and Pause Button"
   ]
  },
  {
   "cell_type": "code",
   "execution_count": null,
   "metadata": {},
   "outputs": [],
   "source": [
    "layout = [[ \n",
    "            sg.Text(\"Video File\"),\n",
    "            sg.In(size=(25, 1), enable_events=True, key=\"-filename-\"),\n",
    "            sg.FileBrowse(file_types=((\"Video\", \"*.mp4\"),)),\n",
    "            sg.Button('play'),\n",
    "            sg.Button('pause')\n",
    "          ],\n",
    "          [ \n",
    "            sg.Image(filename='empty.png', key='-image-') \n",
    "          ]]\n",
    "\n",
    "window = sg.Window(title=\"Video Browse & Viewer\", finalize=True, layout=layout, margins=(10, 10))\n",
    "\n",
    "cap = None\n",
    "stat = ''\n",
    "filename = ''\n",
    "while True :\n",
    "    event, values = window.read(timeout=25)\n",
    "    if event == sg.WIN_CLOSED :\n",
    "        break\n",
    "    if event == '-filename-' :\n",
    "        filename = values['-filename-']\n",
    "        cap = cv2.VideoCapture(filename)\n",
    "        \n",
    "    if event == 'play' or event == 'pause':\n",
    "        stat = event\n",
    "\n",
    "    if stat == 'play':\n",
    "        if cap is None:\n",
    "            cap = cv2.VideoCapture(filename)\n",
    "        ret, frame_byte = readBytesFromFrame(cap)\n",
    "        if not ret:\n",
    "            cap.release()\n",
    "            cap = None\n",
    "            break\n",
    "        window['-image-'].update(data=frame_byte)\n",
    "        \n",
    "window.close()"
   ]
  },
  {
   "cell_type": "markdown",
   "metadata": {},
   "source": [
    "#### 3.12 Add button Stop video"
   ]
  },
  {
   "cell_type": "code",
   "execution_count": null,
   "metadata": {},
   "outputs": [],
   "source": [
    "layout = [[ \n",
    "            sg.Text(\"Video File\"),\n",
    "            sg.In(size=(25, 1), enable_events=True, key=\"-filename-\"),\n",
    "            sg.FileBrowse(file_types=((\"Video\", \"*.mp4\"),)),\n",
    "            sg.Button('play'),\n",
    "            sg.Button('pause'),\n",
    "            sg.Button('stop')\n",
    "          ],\n",
    "          [ \n",
    "            sg.Image(filename='empty.png', key='-image-') \n",
    "          ]]\n",
    "\n",
    "window = sg.Window(title=\"Video Browse & Viewer\", finalize=True, layout=layout, margins=(10, 10))\n",
    "\n",
    "cap = None\n",
    "stat = ''\n",
    "filename = ''\n",
    "while True :\n",
    "    event, values = window.read(timeout=25)\n",
    "    if event == sg.WIN_CLOSED :\n",
    "        break\n",
    "    if event == '-filename-' :\n",
    "        filename = values['-filename-']\n",
    "        \n",
    "    if event == 'play' or event == 'pause' or event == 'stop':\n",
    "        stat = event\n",
    "\n",
    "    if stat == 'play':\n",
    "        if cap is None:\n",
    "            cap = cv2.VideoCapture(filename)\n",
    "        ret, frame_byte = readBytesFromFrame(cap)\n",
    "        if not ret:\n",
    "            cap.release()\n",
    "            cap = None\n",
    "            break\n",
    "        window['-image-'].update(data=frame_byte)\n",
    "    \n",
    "    if cap is not None and stat == 'stop':\n",
    "        cap.release()\n",
    "        cap = None\n",
    "        window['-image-'].update(filename='empty.png')\n",
    "        \n",
    "window.close()"
   ]
  },
  {
   "cell_type": "code",
   "execution_count": null,
   "metadata": {},
   "outputs": [],
   "source": []
  },
  {
   "cell_type": "markdown",
   "metadata": {},
   "source": [
    "#### 3.14 Customized Button"
   ]
  },
  {
   "cell_type": "code",
   "execution_count": null,
   "metadata": {},
   "outputs": [],
   "source": [
    "image_play = \"asset/play.png\"\n",
    "image_pause = \"asset/pause.png\"\n",
    "image_stop = \"asset/stop.png\"\n",
    "\n",
    "layout = [[sg.Text(\"Hello from PySimpleGUI\")], \n",
    "          [\n",
    "          sg.Button(image_filename=image_play),\n",
    "          sg.Button(image_filename=image_pause),\n",
    "          sg.Button(image_filename=image_stop)\n",
    "          ]]\n",
    "\n",
    "window = sg.Window(title=\"Customized Button\", layout=layout, margins=(200, 100))\n",
    "\n",
    "event, values = window.read()\n",
    "print(event, values)\n",
    "\n",
    "window.close()"
   ]
  },
  {
   "cell_type": "markdown",
   "metadata": {},
   "source": [
    "#### 3.15 Change button Color"
   ]
  },
  {
   "cell_type": "code",
   "execution_count": null,
   "metadata": {},
   "outputs": [],
   "source": [
    "image_play = \"asset/play.png\"\n",
    "image_pause = \"asset/pause.png\"\n",
    "image_stop = \"asset/stop.png\"\n",
    "\n",
    "layout = [[sg.Text(\"Hello from PySimpleGUI\")], \n",
    "          [\n",
    "          sg.Button(image_filename=image_play, button_color=('#FFF', '#FFF')),\n",
    "          sg.Button(image_filename=image_pause, button_color=('#FFF', '#FFF')),\n",
    "          sg.Button(image_filename=image_stop, button_color=('#FFF', '#FFF'))\n",
    "          ]]\n",
    "\n",
    "window = sg.Window(title=\"Customized Button\", layout=layout, margins=(200, 100))\n",
    "\n",
    "event, values = window.read()\n",
    "print(event, values)\n",
    "\n",
    "window.close()"
   ]
  },
  {
   "cell_type": "markdown",
   "metadata": {},
   "source": [
    "- `button_color` : color of the buttons shown `(text color, button color)`"
   ]
  },
  {
   "cell_type": "code",
   "execution_count": null,
   "metadata": {},
   "outputs": [],
   "source": []
  },
  {
   "cell_type": "markdown",
   "metadata": {},
   "source": [
    "#### 3.16 Change button size "
   ]
  },
  {
   "cell_type": "code",
   "execution_count": null,
   "metadata": {},
   "outputs": [],
   "source": [
    "image_play = \"asset/play.png\"\n",
    "image_pause = \"asset/pause.png\"\n",
    "image_stop = \"asset/stop.png\"\n",
    "\n",
    "layout = [[sg.Text(\"Customized Button\")], \n",
    "          [\n",
    "          sg.Button(image_filename=image_play, button_color=('#FFF', '#FFF'), image_size=(40, 40), image_subsample=3, border_width=0),\n",
    "          sg.Button(image_filename=image_pause, button_color=('#FFF', '#FFF'), image_size=(40, 40), image_subsample=3, border_width=0),\n",
    "          sg.Button(image_filename=image_stop, button_color=('#FFF', '#FFF'), image_size=(40, 40), image_subsample=3, border_width=0)\n",
    "          ]]\n",
    "\n",
    "window = sg.Window(title=\"Customized Button\", layout=layout, margins=(200, 100))\n",
    "\n",
    "event, values = window.read()\n",
    "print(event, values)\n",
    "\n",
    "window.close()"
   ]
  },
  {
   "cell_type": "markdown",
   "metadata": {},
   "source": [
    "- `image_size` : Size of image in pixels `(width, height)`\n",
    "- `image_subsample` : Amount to divide the size by.  2 means your image will be 1/2 the size.  3 means 1/3.\n",
    "- `border_width` : border width on button (pixel)."
   ]
  },
  {
   "cell_type": "markdown",
   "metadata": {},
   "source": [
    "### 3.17 Apply Customized Button to Video Player"
   ]
  },
  {
   "cell_type": "code",
   "execution_count": 23,
   "metadata": {},
   "outputs": [],
   "source": [
    "image_play = \"asset/play.png\"\n",
    "image_pause = \"asset/pause.png\"\n",
    "image_stop = \"asset/stop.png\"\n",
    "\n",
    "layout = [[ \n",
    "            sg.Text(\"Video File\"),\n",
    "            sg.In(size=(25, 1), enable_events=True, key=\"-filename-\"),\n",
    "            sg.FileBrowse(file_types=((\"Video\", \"*.mp4\"),)),\n",
    "            sg.Button(key='play', image_filename=image_play, button_color=('#FFF', '#FFF'), image_size=(40, 40), image_subsample=3, border_width=0),\n",
    "            sg.Button(key='pause', image_filename=image_pause, button_color=('#FFF', '#FFF'), image_size=(40, 40), image_subsample=3, border_width=0),\n",
    "            sg.Button(key='stop', image_filename=image_stop, button_color=('#FFF', '#FFF'), image_size=(40, 40), image_subsample=3, border_width=0)\n",
    "          ],\n",
    "          [ \n",
    "            sg.Image(filename='empty.png', key='-image-') \n",
    "          ]]\n",
    "\n",
    "window = sg.Window(title=\"Video Browse & Viewer\", finalize=True, layout=layout, margins=(10, 10))\n",
    "\n",
    "cap = None\n",
    "stat = ''\n",
    "filename = ''\n",
    "while True :\n",
    "    event, values = window.read(timeout=25)\n",
    "    if event == sg.WIN_CLOSED :\n",
    "        break\n",
    "    if event == '-filename-' :\n",
    "        filename = values['-filename-']\n",
    "        \n",
    "    if event == 'play' or event == 'pause' or event == 'stop':\n",
    "        stat = event\n",
    "\n",
    "    if stat == 'play':\n",
    "        if cap is None:\n",
    "            cap = cv2.VideoCapture(filename)\n",
    "        ret, frame_byte = readBytesFromFrame(cap)\n",
    "        if not ret:\n",
    "            cap.release()\n",
    "            break\n",
    "        window['-image-'].update(data=frame_byte)\n",
    "    \n",
    "    if cap is not None and stat == 'stop':\n",
    "        cap.release()\n",
    "        cap = None\n",
    "        window['-image-'].update(filename='empty.png')\n",
    "        \n",
    "window.close()"
   ]
  },
  {
   "cell_type": "markdown",
   "metadata": {},
   "source": [
    "### 3.18 PySimpleGUI theme\n",
    "\n",
    "- list availabel theme"
   ]
  },
  {
   "cell_type": "code",
   "execution_count": 10,
   "metadata": {},
   "outputs": [],
   "source": [
    "sg.theme_previewer() "
   ]
  },
  {
   "cell_type": "raw",
   "metadata": {},
   "source": [
    "[‘Black’, ‘BlueMono’, ‘BluePurple’, ‘BrightColors’, ‘BrownBlue’, ‘Dark’, ‘Dark2’, ‘DarkAmber’, ‘DarkBlack’, ‘DarkBlack1’, ‘DarkBlue’, \n",
    " ‘DarkBlue1’, ‘DarkBlue10’, ‘DarkBlue11’, ‘DarkBlue12’, ‘DarkBlue13’, ‘DarkBlue14’, ‘DarkBlue15’, ‘DarkBlue16’, ‘DarkBlue17’, \n",
    " ‘DarkBlue2’, ‘DarkBlue3’, ‘DarkBlue4’, ‘DarkBlue5’, ‘DarkBlue6’, ‘DarkBlue7’, ‘DarkBlue8’, ‘DarkBlue9’, ‘DarkBrown’, ‘DarkBrown1’, \n",
    " ‘DarkBrown2’, ‘DarkBrown3’, ‘DarkBrown4’, ‘DarkBrown5’, ‘DarkBrown6’, ‘DarkGreen’, ‘DarkGreen1’, ‘DarkGreen2’, ‘DarkGreen3’, \n",
    " ‘DarkGreen4’, ‘DarkGreen5’, ‘DarkGreen6’, ‘DarkGrey’, ‘DarkGrey1’, ‘DarkGrey2’, ‘DarkGrey3’, ‘DarkGrey4’, ‘DarkGrey5’, ‘DarkGrey6’, \n",
    " ‘DarkGrey7’, ‘DarkPurple’, ‘DarkPurple1’, ‘DarkPurple2’, ‘DarkPurple3’, ‘DarkPurple4’, ‘DarkPurple5’, ‘DarkPurple6’, ‘DarkRed’, \n",
    " ‘DarkRed1’, ‘DarkRed2’, ‘DarkTanBlue’, ‘DarkTeal’, ‘DarkTeal1’, ‘DarkTeal10’, ‘DarkTeal11’, ‘DarkTeal12’, ‘DarkTeal2’, ‘DarkTeal3’, \n",
    " ‘DarkTeal4’, ‘DarkTeal5’, ‘DarkTeal6’, ‘DarkTeal7’, ‘DarkTeal8’, ‘DarkTeal9’, ‘Default’, ‘Default1’, ‘DefaultNoMoreNagging’, \n",
    " ‘Green’, ‘GreenMono’, ‘GreenTan’, ‘HotDogStand’, ‘Kayak’, ‘LightBlue’, ‘LightBlue1’, ‘LightBlue2’, ‘LightBlue3’, ‘LightBlue4’, \n",
    " ‘LightBlue5’, ‘LightBlue6’, ‘LightBlue7’, ‘LightBrown’, ‘LightBrown1’, ‘LightBrown10’, ‘LightBrown11’, ‘LightBrown12’, \n",
    " ‘LightBrown13’, ‘LightBrown2’, ‘LightBrown3’, ‘LightBrown4’, ‘LightBrown5’, ‘LightBrown6’, ‘LightBrown7’, ‘LightBrown8’, \n",
    " ‘LightBrown9’, ‘LightGray1’, ‘LightGreen’, ‘LightGreen1’, ‘LightGreen10’, ‘LightGreen2’, ‘LightGreen3’, ‘LightGreen4’, ‘LightGreen5’, \n",
    " ‘LightGreen6’, ‘LightGreen7’, ‘LightGreen8’, ‘LightGreen9’, ‘LightGrey’, ‘LightGrey1’, ‘LightGrey2’, ‘LightGrey3’, ‘LightGrey4’, \n",
    " ‘LightGrey5’, ‘LightGrey6’, ‘LightPurple’, ‘LightTeal’, ‘LightYellow’, ‘Material1’, ‘Material2’, ‘NeutralBlue’, ‘Purple’, ‘Reddit’, \n",
    " ‘Reds’, ‘SandyBeach’, ‘SystemDefault’, ‘SystemDefault1’, ‘SystemDefaultForReal’, ‘Tan’, ‘TanBlue’, ‘TealMono’, ‘Topanga’]"
   ]
  },
  {
   "cell_type": "markdown",
   "metadata": {},
   "source": [
    "- change theme"
   ]
  },
  {
   "cell_type": "code",
   "execution_count": 20,
   "metadata": {},
   "outputs": [
    {
     "data": {
      "text/plain": [
       "'DarkTeal8'"
      ]
     },
     "execution_count": 20,
     "metadata": {},
     "output_type": "execute_result"
    }
   ],
   "source": [
    "sg.theme('DarkTeal8')"
   ]
  },
  {
   "cell_type": "code",
   "execution_count": 21,
   "metadata": {},
   "outputs": [
    {
     "name": "stdout",
     "output_type": "stream",
     "text": [
      "OK {}\n"
     ]
    }
   ],
   "source": [
    "\n",
    "layout = [[sg.Text(\"Hello from PySimpleGUI\")], \n",
    "          [sg.Button(\"OK\")]]\n",
    "\n",
    "window = sg.Window(title=\"Hello World\", layout=layout, margins=(200, 100))\n",
    "\n",
    "event, values = window.read()\n",
    "print(event, values)\n",
    "\n",
    "window.close()"
   ]
  },
  {
   "cell_type": "code",
   "execution_count": null,
   "metadata": {},
   "outputs": [],
   "source": []
  },
  {
   "cell_type": "code",
   "execution_count": null,
   "metadata": {},
   "outputs": [],
   "source": []
  },
  {
   "cell_type": "markdown",
   "metadata": {},
   "source": [
    "### 3.19 Video Player + Play list\n",
    "\n",
    "- UI mockup : <br>\n",
    "<img src=\"resource/video-payer-playlist.png\" style=\"width:700px\"></img>"
   ]
  },
  {
   "cell_type": "code",
   "execution_count": 24,
   "metadata": {},
   "outputs": [],
   "source": [
    "file_list_column = [\n",
    "    [\n",
    "        sg.Text(\"Video Folder\"),\n",
    "        sg.In(size=(25, 1), enable_events=True, key=\"-FOLDER-\"),\n",
    "        sg.FolderBrowse(),\n",
    "    ],\n",
    "    [\n",
    "        sg.Listbox(values=[], enable_events=True, size=(40, 20), key=\"-FILE LIST-\")\n",
    "    ],\n",
    "]\n",
    "\n",
    "image_viewer_column = [\n",
    "    [sg.Image(filename='empty.png', key=\"-IMAGE-\")],\n",
    "]\n",
    "\n",
    "layout = [\n",
    "    [\n",
    "        sg.Column(file_list_column),\n",
    "        sg.VSeperator(),\n",
    "        sg.Column(image_viewer_column),\n",
    "    ]\n",
    "]\n"
   ]
  },
  {
   "cell_type": "code",
   "execution_count": 26,
   "metadata": {},
   "outputs": [
    {
     "data": {
      "text/plain": [
       "['.ipynb_checkpoints', 'pause.png', 'play.png', 'stop.png']"
      ]
     },
     "execution_count": 26,
     "metadata": {},
     "output_type": "execute_result"
    }
   ],
   "source": [
    "os.listdir(\"asset/\")"
   ]
  },
  {
   "cell_type": "code",
   "execution_count": 27,
   "metadata": {},
   "outputs": [],
   "source": [
    "window = sg.Window(\"Video Viewer + Play List\", layout=layout, margins=(10, 10))\n",
    "\n",
    "cap = None\n",
    "video_path = ''\n",
    "while True:\n",
    "    event, values = window.read(timeout=25)\n",
    "    if event == \"Exit\" or event == sg.WIN_CLOSED:\n",
    "        break\n",
    "        \n",
    "    if event == \"-FOLDER-\":\n",
    "        folder = values[\"-FOLDER-\"]\n",
    "        try:\n",
    "            file_list = os.listdir(folder)\n",
    "        except:\n",
    "            file_list = []\n",
    "            \n",
    "        fnames = [\n",
    "            f\n",
    "            for f in file_list\n",
    "            if os.path.isfile(os.path.join(folder, f))\n",
    "            and f.lower().endswith((\"video\", \".mp4\"))\n",
    "        ]\n",
    "        \n",
    "        window[\"-FILE LIST-\"].update(fnames)\n",
    "    \n",
    "    elif event == \"-FILE LIST-\":  \n",
    "        try:\n",
    "            folder = values[\"-FOLDER-\"]\n",
    "            filename = values[\"-FILE LIST-\"][0]\n",
    "            video_path = os.path.join(folder, filename)\n",
    "            \n",
    "            if cap is None :\n",
    "                cap = cv2.VideoCapture(video_path)\n",
    "        except:\n",
    "            pass\n",
    "        \n",
    "    if cap is not None :\n",
    "        ret, frame_byte = readBytesFromFrame(cap)\n",
    "        if not ret :\n",
    "            cap.release()\n",
    "            cap = None\n",
    "            break\n",
    "        window[\"-IMAGE-\"].update(data=frame_byte)\n",
    "        \n",
    "window.close()"
   ]
  },
  {
   "cell_type": "code",
   "execution_count": null,
   "metadata": {},
   "outputs": [],
   "source": []
  },
  {
   "cell_type": "markdown",
   "metadata": {},
   "source": [
    "#### 3.20 Membuat Video Player + Playlist + Control Button (play, pause, stop)\n",
    "\n",
    "- UI mockup : <br>\n",
    "<img src=\"resource/video-payer-playlist-2.png\" style=\"width:700px\"></img>"
   ]
  },
  {
   "cell_type": "code",
   "execution_count": 28,
   "metadata": {},
   "outputs": [],
   "source": [
    "image_play = \"asset/play.png\"\n",
    "image_pause = \"asset/pause.png\"\n",
    "image_stop = \"asset/stop.png\"\n",
    "\n",
    "file_list_column = [\n",
    "    [\n",
    "        sg.Text(\"Video Folder\"),\n",
    "        sg.In(size=(25, 1), enable_events=True, key=\"-FOLDER-\"),\n",
    "        sg.FolderBrowse(),\n",
    "    ],\n",
    "    [\n",
    "        sg.Listbox(values=[], enable_events=True, size=(40, 20), key=\"-FILE LIST-\")\n",
    "    ],\n",
    "]\n",
    "\n",
    "image_viewer_column = [\n",
    "    [\n",
    "    sg.Button(key='play', image_filename=image_play, button_color=('#FFF', '#FFF'), image_size=(40, 40), image_subsample=3, border_width=0),\n",
    "    sg.Button(key='pause', image_filename=image_pause, button_color=('#FFF', '#FFF'), image_size=(40, 40), image_subsample=3, border_width=0),\n",
    "    sg.Button(key='stop', image_filename=image_stop, button_color=('#FFF', '#FFF'), image_size=(40, 40), image_subsample=3, border_width=0)\n",
    "    ],\n",
    "    [sg.Image(filename='empty.png', key=\"-IMAGE-\")],\n",
    "]\n",
    "\n",
    "layout = [\n",
    "    [\n",
    "        sg.Column(file_list_column),\n",
    "        sg.VSeperator(),\n",
    "        sg.Column(image_viewer_column),\n",
    "    ]\n",
    "]\n"
   ]
  },
  {
   "cell_type": "code",
   "execution_count": 29,
   "metadata": {},
   "outputs": [],
   "source": [
    "window = sg.Window(\"Video Viewer + Play List\", layout=layout, margins=(10, 10))\n",
    "\n",
    "cap = None\n",
    "video_path = ''\n",
    "stat = ''\n",
    "while True:\n",
    "    event, values = window.read(timeout=0)\n",
    "    if event == \"Exit\" or event == sg.WIN_CLOSED:\n",
    "        break\n",
    "        \n",
    "    if event == \"-FOLDER-\":\n",
    "        folder = values[\"-FOLDER-\"]\n",
    "        try:\n",
    "            file_list = os.listdir(folder)\n",
    "        except:\n",
    "            file_list = []\n",
    "            \n",
    "        fnames = [\n",
    "            f\n",
    "            for f in file_list\n",
    "            if os.path.isfile(os.path.join(folder, f))\n",
    "            and f.lower().endswith((\"video\", \".mp4\"))\n",
    "        ]\n",
    "        \n",
    "        window[\"-FILE LIST-\"].update(fnames)\n",
    "    \n",
    "    elif event == \"-FILE LIST-\":  \n",
    "        try:\n",
    "            folder = values[\"-FOLDER-\"]\n",
    "            filename = values[\"-FILE LIST-\"][0]\n",
    "            video_path = os.path.join(folder, filename)\n",
    "\n",
    "        except:\n",
    "            pass\n",
    "        \n",
    "    if event == 'play' or event == 'pause' or event == 'stop':\n",
    "        stat = event\n",
    "        \n",
    "    if stat == 'play':\n",
    "        if cap is None:\n",
    "            cap = cv2.VideoCapture(video_path)\n",
    "        ret, frame_byte = readBytesFromFrame(cap)\n",
    "        if not ret:\n",
    "            cap.release()\n",
    "            break\n",
    "        window['-IMAGE-'].update(data=frame_byte)\n",
    "    \n",
    "    if cap is not None and stat == 'stop':\n",
    "        cap.release()\n",
    "        cap = None\n",
    "        window['-IMAGE-'].update(filename='empty.png') \n",
    "\n",
    "        \n",
    "window.close()"
   ]
  },
  {
   "cell_type": "code",
   "execution_count": null,
   "metadata": {},
   "outputs": [],
   "source": []
  },
  {
   "cell_type": "code",
   "execution_count": null,
   "metadata": {},
   "outputs": [],
   "source": []
  },
  {
   "cell_type": "markdown",
   "metadata": {},
   "source": [
    "# Sumber :"
   ]
  },
  {
   "cell_type": "markdown",
   "metadata": {},
   "source": [
    "- https://pysimplegui.readthedocs.io/en/latest/cookbook/"
   ]
  },
  {
   "cell_type": "code",
   "execution_count": null,
   "metadata": {},
   "outputs": [],
   "source": []
  }
 ],
 "metadata": {
  "kernelspec": {
   "display_name": "Python [conda env:opencv_env]",
   "language": "python",
   "name": "conda-env-opencv_env-py"
  },
  "language_info": {
   "codemirror_mode": {
    "name": "ipython",
    "version": 3
   },
   "file_extension": ".py",
   "mimetype": "text/x-python",
   "name": "python",
   "nbconvert_exporter": "python",
   "pygments_lexer": "ipython3",
   "version": "3.8.6"
  }
 },
 "nbformat": 4,
 "nbformat_minor": 4
}
