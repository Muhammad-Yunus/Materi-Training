{
 "cells": [
  {
   "cell_type": "markdown",
   "metadata": {},
   "source": [
    "# Basic Python Programming - Part 1\n",
    "\n",
    "- Input, output & comment \n",
    "- Variable, data type & caseting \n",
    "- Arithmetic operators \n",
    "- Assignment operators \n",
    "- Comparison operators \n",
    "- Logical operators \n",
    "- If , elif, & else \n",
    "- while loops \n",
    "- for loops "
   ]
  },
  {
   "cell_type": "markdown",
   "metadata": {},
   "source": [
    "### 1. Print"
   ]
  },
  {
   "cell_type": "code",
   "execution_count": 2,
   "metadata": {},
   "outputs": [
    {
     "name": "stdout",
     "output_type": "stream",
     "text": [
      "Hello World\n"
     ]
    }
   ],
   "source": [
    "print(\"Hello World\")"
   ]
  },
  {
   "cell_type": "code",
   "execution_count": 3,
   "metadata": {},
   "outputs": [
    {
     "name": "stdout",
     "output_type": "stream",
     "text": [
      "10.4\n"
     ]
    }
   ],
   "source": [
    "print(10.4)"
   ]
  },
  {
   "cell_type": "code",
   "execution_count": 4,
   "metadata": {},
   "outputs": [
    {
     "name": "stdout",
     "output_type": "stream",
     "text": [
      "1000\n"
     ]
    }
   ],
   "source": [
    "print(1000)"
   ]
  },
  {
   "cell_type": "markdown",
   "metadata": {},
   "source": [
    "#### 1.a Print dengan string formatting\n",
    "\n",
    "\n",
    "- `%` old method, \n",
    "- `%s` formating string, \n",
    "- `%.2f` formating float 2 digit decimal, \n",
    "- `%d` formating integer \n"
   ]
  },
  {
   "cell_type": "code",
   "execution_count": 9,
   "metadata": {},
   "outputs": [
    {
     "name": "stdout",
     "output_type": "stream",
     "text": [
      "nilai 10\n"
     ]
    }
   ],
   "source": [
    "print(\"nilai \" + str(10))"
   ]
  },
  {
   "cell_type": "code",
   "execution_count": 11,
   "metadata": {},
   "outputs": [
    {
     "name": "stdout",
     "output_type": "stream",
     "text": [
      "nilai 100 adalah integer\n"
     ]
    }
   ],
   "source": [
    "print(\"nilai %d adalah integer\" % 100)"
   ]
  },
  {
   "cell_type": "code",
   "execution_count": 14,
   "metadata": {},
   "outputs": [
    {
     "name": "stdout",
     "output_type": "stream",
     "text": [
      "jumlah 1 dengan 5 adalah 6\n"
     ]
    }
   ],
   "source": [
    "print(\"jumlah %d dengan %d adalah %d\" % (1, 5, 6))"
   ]
  },
  {
   "cell_type": "code",
   "execution_count": 15,
   "metadata": {},
   "outputs": [
    {
     "name": "stdout",
     "output_type": "stream",
     "text": [
      "jumlah 1 dengan 2 adalah 3\n"
     ]
    }
   ],
   "source": [
    "print(\"jumlah \" + str(1) + \" dengan \" + str(2) + \" adalah \" + str(3))"
   ]
  },
  {
   "cell_type": "code",
   "execution_count": null,
   "metadata": {},
   "outputs": [],
   "source": [
    "print(\"nilai float : %.2f\" % 32.012)"
   ]
  },
  {
   "cell_type": "markdown",
   "metadata": {},
   "source": [
    "#### 1.b print pemisah koma (`,`)"
   ]
  },
  {
   "cell_type": "code",
   "execution_count": 16,
   "metadata": {},
   "outputs": [
    {
     "name": "stdout",
     "output_type": "stream",
     "text": [
      "nilai  5  adalah bilangan ganjil\n"
     ]
    }
   ],
   "source": [
    "print(\"nilai \", 2 + 3, \" adalah bilangan ganjil\")"
   ]
  },
  {
   "cell_type": "code",
   "execution_count": 17,
   "metadata": {},
   "outputs": [
    {
     "name": "stdout",
     "output_type": "stream",
     "text": [
      "hello 13.45 123 text\n"
     ]
    }
   ],
   "source": [
    "print(\"hello\", 13.45, \"123 text\")"
   ]
  },
  {
   "cell_type": "markdown",
   "metadata": {},
   "source": [
    "### 2. Kometar\n",
    "- pada python menggunakan tanga `#` atau `\"\"\"` untuk multiple comment"
   ]
  },
  {
   "cell_type": "code",
   "execution_count": 18,
   "metadata": {},
   "outputs": [
    {
     "name": "stdout",
     "output_type": "stream",
     "text": [
      "Helo World\n",
      "Hello World 2\n"
     ]
    }
   ],
   "source": [
    "# ini program print , merupakan contoh single comment\n",
    "# ini comment ke 2\n",
    "print (\"Helo World\") # ini adalah komentar\n",
    "\n",
    "\"\"\"\n",
    "Multiple\n",
    "Comment\n",
    "in Python\n",
    ".\n",
    ".\n",
    "ini comment lagi...\n",
    ".\n",
    "\n",
    "\"\"\"\n",
    "\n",
    "# multiple\n",
    "# comment\n",
    "# menggunakan #\n",
    "\n",
    "print(\"Hello World 2\")"
   ]
  },
  {
   "cell_type": "code",
   "execution_count": null,
   "metadata": {},
   "outputs": [],
   "source": []
  },
  {
   "cell_type": "markdown",
   "metadata": {},
   "source": [
    "### 3. Variable\n",
    "- Dapat diawali huruf atau `_` (underscore)"
   ]
  },
  {
   "cell_type": "code",
   "execution_count": 19,
   "metadata": {},
   "outputs": [],
   "source": [
    "_umur = 20"
   ]
  },
  {
   "cell_type": "code",
   "execution_count": 23,
   "metadata": {},
   "outputs": [
    {
     "data": {
      "text/plain": [
       "int"
      ]
     },
     "execution_count": 23,
     "metadata": {},
     "output_type": "execute_result"
    }
   ],
   "source": [
    "type(_umur)"
   ]
  },
  {
   "cell_type": "code",
   "execution_count": 24,
   "metadata": {},
   "outputs": [],
   "source": [
    "_umur = '20'"
   ]
  },
  {
   "cell_type": "code",
   "execution_count": 25,
   "metadata": {},
   "outputs": [
    {
     "data": {
      "text/plain": [
       "str"
      ]
     },
     "execution_count": 25,
     "metadata": {},
     "output_type": "execute_result"
    }
   ],
   "source": [
    "type(_umur)"
   ]
  },
  {
   "cell_type": "code",
   "execution_count": 26,
   "metadata": {},
   "outputs": [],
   "source": [
    "_umur = False"
   ]
  },
  {
   "cell_type": "code",
   "execution_count": 27,
   "metadata": {},
   "outputs": [
    {
     "data": {
      "text/plain": [
       "bool"
      ]
     },
     "execution_count": 27,
     "metadata": {},
     "output_type": "execute_result"
    }
   ],
   "source": [
    "type(_umur)"
   ]
  },
  {
   "cell_type": "markdown",
   "metadata": {},
   "source": [
    "#### 3.a Casting variable atau type conversion\n",
    "```\n",
    "int() untuk mengubah menjadi integer;\n",
    "long() untuk mengubah menjadi integer panjang;\n",
    "float() untuk mengubah menjadi float;\n",
    "bool() untuk mengubah menjadi boolean;\n",
    "chr() untuk mengubah menjadi karakter;\n",
    "str() untuk mengubah menjadi string.\n",
    "bin() untuk mengubah menjadi bilangan Biner.\n",
    "hex() untuk mengubah menjadi bilangan Heksadesimal.\n",
    "oct() untuk mengubah menjadi bilangan okta.\n",
    "```"
   ]
  },
  {
   "cell_type": "code",
   "execution_count": 33,
   "metadata": {},
   "outputs": [],
   "source": [
    "_umur = 30"
   ]
  },
  {
   "cell_type": "code",
   "execution_count": 34,
   "metadata": {},
   "outputs": [
    {
     "data": {
      "text/plain": [
       "30"
      ]
     },
     "execution_count": 34,
     "metadata": {},
     "output_type": "execute_result"
    }
   ],
   "source": [
    "_umur"
   ]
  },
  {
   "cell_type": "code",
   "execution_count": 35,
   "metadata": {},
   "outputs": [
    {
     "data": {
      "text/plain": [
       "int"
      ]
     },
     "execution_count": 35,
     "metadata": {},
     "output_type": "execute_result"
    }
   ],
   "source": [
    "type(_umur)"
   ]
  },
  {
   "cell_type": "code",
   "execution_count": 36,
   "metadata": {},
   "outputs": [],
   "source": [
    "_umur = str(_umur)"
   ]
  },
  {
   "cell_type": "code",
   "execution_count": 37,
   "metadata": {},
   "outputs": [
    {
     "data": {
      "text/plain": [
       "str"
      ]
     },
     "execution_count": 37,
     "metadata": {},
     "output_type": "execute_result"
    }
   ],
   "source": [
    "type(_umur)"
   ]
  },
  {
   "cell_type": "code",
   "execution_count": 38,
   "metadata": {},
   "outputs": [
    {
     "data": {
      "text/plain": [
       "'30'"
      ]
     },
     "execution_count": 38,
     "metadata": {},
     "output_type": "execute_result"
    }
   ],
   "source": [
    "_umur"
   ]
  },
  {
   "cell_type": "code",
   "execution_count": 39,
   "metadata": {},
   "outputs": [],
   "source": [
    "_umur = float(_umur)"
   ]
  },
  {
   "cell_type": "code",
   "execution_count": 40,
   "metadata": {},
   "outputs": [
    {
     "data": {
      "text/plain": [
       "30.0"
      ]
     },
     "execution_count": 40,
     "metadata": {},
     "output_type": "execute_result"
    }
   ],
   "source": [
    "_umur"
   ]
  },
  {
   "cell_type": "markdown",
   "metadata": {},
   "source": [
    "### 4. Operator Aritmatika\n",
    "\n",
    "```\n",
    "+ untuk operator penjumlahan\n",
    "- untuk operator pengurangan\n",
    "/ untuk operator pembagian\n",
    "* untuk operator perkalian\n",
    "% untuk operator modulo (hasil sisa pembagian)\n",
    "** untuk operator pangkat\n",
    "```"
   ]
  },
  {
   "cell_type": "code",
   "execution_count": 56,
   "metadata": {},
   "outputs": [
    {
     "name": "stdout",
     "output_type": "stream",
     "text": [
      "Hasil 9 + 11 = 20\n"
     ]
    }
   ],
   "source": [
    "# Ambil input untuk mengisi nilai\n",
    "a = 9\n",
    "b = 11\n",
    "\n",
    "# Menggunakan operator penjumlahan\n",
    "c = a + b\n",
    "print (\"Hasil %d + %d = %d\" % (a,b,c))"
   ]
  },
  {
   "cell_type": "code",
   "execution_count": 57,
   "metadata": {},
   "outputs": [
    {
     "name": "stdout",
     "output_type": "stream",
     "text": [
      "Hasil 9 - 11 = -2\n"
     ]
    }
   ],
   "source": [
    "# Operator Pengurangan\n",
    "c = a - b\n",
    "print (\"Hasil %d - %d = %d\" % (a,b,c))"
   ]
  },
  {
   "cell_type": "code",
   "execution_count": 58,
   "metadata": {},
   "outputs": [
    {
     "name": "stdout",
     "output_type": "stream",
     "text": [
      "Hasil 9 * 11 = 99\n"
     ]
    }
   ],
   "source": [
    "# Operator Perkalian\n",
    "c = a * b\n",
    "print (\"Hasil %d * %d = %d\" % (a,b,c))"
   ]
  },
  {
   "cell_type": "code",
   "execution_count": 60,
   "metadata": {},
   "outputs": [
    {
     "name": "stdout",
     "output_type": "stream",
     "text": [
      "Hasil 9 / 11 = 0.82\n"
     ]
    }
   ],
   "source": [
    "# Operator Pembagian\n",
    "c = a / b\n",
    "print (\"Hasil %d / %d = %.2f\" % (a,b,c))"
   ]
  },
  {
   "cell_type": "code",
   "execution_count": 61,
   "metadata": {},
   "outputs": [
    {
     "name": "stdout",
     "output_type": "stream",
     "text": [
      "Hasil 9 / 11 = 0.818\n"
     ]
    }
   ],
   "source": [
    "c = a / b\n",
    "print (\"Hasil %d / %d = %.3f\" % (a,b,c))"
   ]
  },
  {
   "cell_type": "code",
   "execution_count": 62,
   "metadata": {},
   "outputs": [
    {
     "name": "stdout",
     "output_type": "stream",
     "text": [
      "Hasil 9 % 11 = 9\n"
     ]
    }
   ],
   "source": [
    "# Operator Sisa Bagi\n",
    "c = a % b\n",
    "print (\"Hasil %d %% %d = %d\" % (a,b,c))"
   ]
  },
  {
   "cell_type": "code",
   "execution_count": 65,
   "metadata": {},
   "outputs": [
    {
     "name": "stdout",
     "output_type": "stream",
     "text": [
      "Hasil 9 ** 11 = 31381059609\n"
     ]
    }
   ],
   "source": [
    "# Operator Pangkat\n",
    "c = a ** b\n",
    "print (\"Hasil %d ** %d = %d\" % (a,b,c))"
   ]
  },
  {
   "cell_type": "markdown",
   "metadata": {},
   "source": [
    "### 5. Operator Penugasan\n",
    "\n",
    "```\n",
    "a = 1 operator penugasan mengisi nilai\n",
    "a +=1 operator penugasan menambahkan 1 ke variable a\n",
    "a -=1 operator penugasan mengurangkan 1 ke variable a\n",
    "a *=2 operator penugasan mengalikan 2 ke variable a\n",
    "a /= 2 operator penugasan membagikan 2 ke variable a\n",
    "```"
   ]
  },
  {
   "cell_type": "code",
   "execution_count": 76,
   "metadata": {},
   "outputs": [
    {
     "name": "stdout",
     "output_type": "stream",
     "text": [
      "nilai awal \t 8\n"
     ]
    }
   ],
   "source": [
    "a = 8\n",
    "print(\"nilai awal \\t\", a)"
   ]
  },
  {
   "cell_type": "code",
   "execution_count": 77,
   "metadata": {},
   "outputs": [
    {
     "name": "stdout",
     "output_type": "stream",
     "text": [
      "ditambah 1 \n",
      " 9\n"
     ]
    }
   ],
   "source": [
    "a += 1\n",
    "print(\"ditambah 1 \\n\", a)"
   ]
  },
  {
   "cell_type": "code",
   "execution_count": 78,
   "metadata": {},
   "outputs": [
    {
     "name": "stdout",
     "output_type": "stream",
     "text": [
      "dikali 2 \t 18\n"
     ]
    }
   ],
   "source": [
    "a *= 2 \n",
    "print(\"dikali 2 \\t\", a)"
   ]
  },
  {
   "cell_type": "code",
   "execution_count": 79,
   "metadata": {},
   "outputs": [
    {
     "name": "stdout",
     "output_type": "stream",
     "text": [
      "dikurang 5 \t 13\n"
     ]
    }
   ],
   "source": [
    "a -= 5    \n",
    "print(\"dikurang 5 \\t\", a)"
   ]
  },
  {
   "cell_type": "code",
   "execution_count": 80,
   "metadata": {},
   "outputs": [
    {
     "name": "stdout",
     "output_type": "stream",
     "text": [
      "dibagi 2 \t 6.5\n"
     ]
    }
   ],
   "source": [
    "a /= 2   \n",
    "print(\"dibagi 2 \\t\", a)"
   ]
  },
  {
   "cell_type": "code",
   "execution_count": 81,
   "metadata": {},
   "outputs": [
    {
     "name": "stdout",
     "output_type": "stream",
     "text": [
      "32.0\n"
     ]
    }
   ],
   "source": [
    "b = 31.5\n",
    "\n",
    "b += 0.5\n",
    "\n",
    "print(b)"
   ]
  },
  {
   "cell_type": "markdown",
   "metadata": {},
   "source": [
    "#### 6.a penugasan string"
   ]
  },
  {
   "cell_type": "code",
   "execution_count": 86,
   "metadata": {},
   "outputs": [
    {
     "name": "stdout",
     "output_type": "stream",
     "text": [
      "Python Programming\n"
     ]
    }
   ],
   "source": [
    "word = \"Python\"\n",
    "\n",
    "word += \" Programming\"\n",
    "\n",
    "print(word)"
   ]
  },
  {
   "cell_type": "code",
   "execution_count": null,
   "metadata": {},
   "outputs": [],
   "source": []
  },
  {
   "cell_type": "markdown",
   "metadata": {},
   "source": [
    "### 7. Operator Pembanding\n",
    "```\n",
    "== operator pembanding \"sama dengan\", a == b\n",
    "!= operator pembanding \"tidak sama dengan\", a != b\n",
    "< operator pembanding \"lebih kecil dari\", a < b\n",
    "> operator pembanding \"lebih besar dari\", a > b\n",
    "<= operator pembanding \"lebih kecil dari sama dengan\", a <= b\n",
    ">= operator pembanding \"lebih besar dari sama dengan\", a >= b\n",
    "```"
   ]
  },
  {
   "cell_type": "code",
   "execution_count": 88,
   "metadata": {},
   "outputs": [
    {
     "name": "stdout",
     "output_type": "stream",
     "text": [
      "Apakah 70 == 70: True\n"
     ]
    }
   ],
   "source": [
    "a = 70\n",
    "b = 70\n",
    "\n",
    "# apakah a sama dengan b?\n",
    "c = a == b\n",
    "print (\"Apakah %d == %d: %r\" % (a,b,c))\n"
   ]
  },
  {
   "cell_type": "code",
   "execution_count": 90,
   "metadata": {},
   "outputs": [
    {
     "name": "stdout",
     "output_type": "stream",
     "text": [
      "Apakah 70 < 90: True\n"
     ]
    }
   ],
   "source": [
    "a = 70\n",
    "b = 90\n",
    "\n",
    "# apakah a < b?\n",
    "c = a < b\n",
    "print (\"Apakah %d < %d: %r\" % (a,b,c))"
   ]
  },
  {
   "cell_type": "code",
   "execution_count": 92,
   "metadata": {},
   "outputs": [
    {
     "name": "stdout",
     "output_type": "stream",
     "text": [
      "Apakah 70 > 50: True\n"
     ]
    }
   ],
   "source": [
    "a = 70\n",
    "b = 50\n",
    "\n",
    "# apakah a > b?\n",
    "c = a > b\n",
    "print (\"Apakah %d > %d: %r\" % (a,b,c))"
   ]
  },
  {
   "cell_type": "code",
   "execution_count": 100,
   "metadata": {},
   "outputs": [
    {
     "name": "stdout",
     "output_type": "stream",
     "text": [
      "Apakah 60 <= 70: True\n"
     ]
    }
   ],
   "source": [
    "a = 60\n",
    "b = 70\n",
    "\n",
    "# apakah a <= b?\n",
    "c = a <= b\n",
    "print (\"Apakah %d <= %d: %r\" % (a,b,c))\n"
   ]
  },
  {
   "cell_type": "code",
   "execution_count": 96,
   "metadata": {},
   "outputs": [
    {
     "name": "stdout",
     "output_type": "stream",
     "text": [
      "Apakah 70 >= 50: True\n"
     ]
    }
   ],
   "source": [
    "a = 70\n",
    "b = 50\n",
    "\n",
    "# apakah a >= b?\n",
    "c = a >= b\n",
    "print (\"Apakah %d >= %d: %r\" % (a,b,c))"
   ]
  },
  {
   "cell_type": "code",
   "execution_count": 98,
   "metadata": {},
   "outputs": [
    {
     "name": "stdout",
     "output_type": "stream",
     "text": [
      "Apakah 70 != 70: False\n"
     ]
    }
   ],
   "source": [
    "a = 70\n",
    "b = 70\n",
    "\n",
    "# apakah a != b?\n",
    "c = a != b\n",
    "print (\"Apakah %d != %d: %r\" % (a,b,c))"
   ]
  },
  {
   "cell_type": "code",
   "execution_count": null,
   "metadata": {},
   "outputs": [],
   "source": []
  },
  {
   "cell_type": "markdown",
   "metadata": {},
   "source": [
    "### 8. Operator Logika\n",
    "\n",
    "- Logika AND\n",
    "\n",
    "| AND   | True  | False |\n",
    "|-------|-------|-------|\n",
    "| True  | True  | False |\n",
    "| False | False | False |\n",
    "\n",
    "- Logika OR\n",
    "\n",
    "|  OR   | True  | False |\n",
    "|-------|-------|-------|\n",
    "| True  | True  | True  |\n",
    "| False | True  | False |\n",
    "\n",
    "- Logika Not\n",
    "\n",
    "|       | NOT   |\n",
    "|-------|-------|\n",
    "| True  | False |\n",
    "| False | True  |"
   ]
  },
  {
   "cell_type": "code",
   "execution_count": 106,
   "metadata": {},
   "outputs": [],
   "source": [
    "a = True\n",
    "b = True"
   ]
  },
  {
   "cell_type": "code",
   "execution_count": 107,
   "metadata": {},
   "outputs": [
    {
     "name": "stdout",
     "output_type": "stream",
     "text": [
      "True and True = True\n"
     ]
    }
   ],
   "source": [
    "# Logika AND\n",
    "c = a and b   \n",
    "\n",
    "print (\"%r and %r = %r\" % (a,b,c))"
   ]
  },
  {
   "cell_type": "code",
   "execution_count": 110,
   "metadata": {},
   "outputs": [
    {
     "name": "stdout",
     "output_type": "stream",
     "text": [
      "False or False = False\n"
     ]
    }
   ],
   "source": [
    "a = False\n",
    "b = False\n",
    "\n",
    "# Logika OR\n",
    "c = a or b\n",
    "print (\"%r or %r = %r\" % (a,b,c))"
   ]
  },
  {
   "cell_type": "code",
   "execution_count": 111,
   "metadata": {},
   "outputs": [
    {
     "name": "stdout",
     "output_type": "stream",
     "text": [
      "not False  = True\n"
     ]
    }
   ],
   "source": [
    "# Logika Not\n",
    "c = not a  \n",
    "\n",
    "print (\"not %r  = %r\" % (b,c))"
   ]
  },
  {
   "cell_type": "code",
   "execution_count": 116,
   "metadata": {},
   "outputs": [
    {
     "name": "stdout",
     "output_type": "stream",
     "text": [
      "True\n"
     ]
    }
   ],
   "source": [
    "suhu = 30\n",
    "\n",
    "c = suhu >= 30 and suhu < 35 and suhu%10 == 0\n",
    "\n",
    "print(c)"
   ]
  },
  {
   "cell_type": "markdown",
   "metadata": {},
   "source": [
    "### 9. Fungsi  `Input()`"
   ]
  },
  {
   "cell_type": "code",
   "execution_count": 117,
   "metadata": {},
   "outputs": [
    {
     "name": "stdin",
     "output_type": "stream",
     "text": [
      "masukan angka : hello world\n"
     ]
    },
    {
     "name": "stdout",
     "output_type": "stream",
     "text": [
      "hello world\n"
     ]
    }
   ],
   "source": [
    "var = input(\"masukan angka :\")\n",
    "\n",
    "print(var)"
   ]
  },
  {
   "cell_type": "code",
   "execution_count": 118,
   "metadata": {},
   "outputs": [
    {
     "data": {
      "text/plain": [
       "str"
      ]
     },
     "execution_count": 118,
     "metadata": {},
     "output_type": "execute_result"
    }
   ],
   "source": [
    "type(var)"
   ]
  },
  {
   "cell_type": "code",
   "execution_count": 119,
   "metadata": {},
   "outputs": [
    {
     "name": "stdin",
     "output_type": "stream",
     "text": [
      "masukan angka : 5\n"
     ]
    },
    {
     "name": "stdout",
     "output_type": "stream",
     "text": [
      "hasil : 7\n"
     ]
    }
   ],
   "source": [
    "var = input(\"masukan angka :\")\n",
    "\n",
    "output = 2 + int(var)\n",
    "print(\"hasil : %d\" % output)"
   ]
  },
  {
   "cell_type": "code",
   "execution_count": 120,
   "metadata": {},
   "outputs": [
    {
     "name": "stdin",
     "output_type": "stream",
     "text": [
      "masukan angka pertama : 4\n",
      "masukan angka kedua : 10\n"
     ]
    },
    {
     "name": "stdout",
     "output_type": "stream",
     "text": [
      "hasil : 14\n"
     ]
    }
   ],
   "source": [
    "var1 = input(\"masukan angka pertama :\")\n",
    "var2 = input(\"masukan angka kedua :\")\n",
    "\n",
    "output = int(var2) + int(var1)\n",
    "print(\"hasil : %d\" % output)"
   ]
  },
  {
   "cell_type": "markdown",
   "metadata": {},
   "source": [
    "### 10. Percabangan (If, elif, else)\n",
    "\n",
    "struktur percabangan pada python :\n",
    "\n",
    "```\n",
    "if statement_1 :\n",
    "    tugas_1\n",
    "elif statement_2 :\n",
    "    tugas_2\n",
    "else :\n",
    "    tugas_3\n",
    "    \n",
    "if (statement){\n",
    "                task1;\n",
    "           task2;\n",
    "}\n",
    "\n",
    "```"
   ]
  },
  {
   "cell_type": "markdown",
   "metadata": {},
   "source": [
    "- Struktur If "
   ]
  },
  {
   "cell_type": "code",
   "execution_count": 123,
   "metadata": {},
   "outputs": [
    {
     "name": "stdin",
     "output_type": "stream",
     "text": [
      "Input nilai:  75\n"
     ]
    }
   ],
   "source": [
    "nilai = int(input(\"Input nilai: \"))\n",
    "\n",
    "if nilai < 70:\n",
    "    print(\"Nilai dibawah KKM : %d\" % nilai)"
   ]
  },
  {
   "cell_type": "code",
   "execution_count": 129,
   "metadata": {},
   "outputs": [
    {
     "name": "stdin",
     "output_type": "stream",
     "text": [
      "Input Umur :  27\n"
     ]
    },
    {
     "name": "stdout",
     "output_type": "stream",
     "text": [
      "Umur 27 memenuhi kriteria.\n"
     ]
    }
   ],
   "source": [
    "umur = int(input(\"Input Umur : \"))\n",
    "\n",
    "if umur < 30 and umur > 25:\n",
    "    print(\"Umur %d memenuhi kriteria.\" % umur)"
   ]
  },
  {
   "cell_type": "markdown",
   "metadata": {},
   "source": [
    "- Struktur if & else"
   ]
  },
  {
   "cell_type": "code",
   "execution_count": 133,
   "metadata": {},
   "outputs": [
    {
     "name": "stdin",
     "output_type": "stream",
     "text": [
      "Berapa umur kamu:  16\n"
     ]
    },
    {
     "name": "stdout",
     "output_type": "stream",
     "text": [
      "Kamu belum boleh membuat SIM\n"
     ]
    }
   ],
   "source": [
    "umur = int(input(\"Berapa umur kamu: \"))\n",
    "if umur >= 18:\n",
    "    print(\"Kamu boleh membuat SIM\")\n",
    "else:\n",
    "    print(\"Kamu belum boleh membuat SIM\")"
   ]
  },
  {
   "cell_type": "code",
   "execution_count": 134,
   "metadata": {},
   "outputs": [
    {
     "name": "stdin",
     "output_type": "stream",
     "text": [
      "Input Umur :  27\n"
     ]
    },
    {
     "name": "stdout",
     "output_type": "stream",
     "text": [
      "Umur 27 memenuhi kriteria.\n"
     ]
    }
   ],
   "source": [
    "umur = int(input(\"Input Umur : \"))\n",
    "\n",
    "if umur < 30 and umur > 25:\n",
    "    print(\"Umur %d memenuhi kriteria.\" % umur)\n",
    "else :\n",
    "    print(\"Umur %d tidak memenuhi kriteria.\" % umur)"
   ]
  },
  {
   "cell_type": "markdown",
   "metadata": {},
   "source": [
    "- Struktur if , elif & else"
   ]
  },
  {
   "cell_type": "code",
   "execution_count": 146,
   "metadata": {},
   "outputs": [
    {
     "name": "stdin",
     "output_type": "stream",
     "text": [
      "suhu sekarang :  34\n"
     ]
    },
    {
     "name": "stdout",
     "output_type": "stream",
     "text": [
      "suhu panas\n",
      "suhu panas banget\n"
     ]
    }
   ],
   "source": [
    "suhu = int(input(\"suhu sekarang : \"))\n",
    "\n",
    "if suhu < 25 :\n",
    "    print(\"suhu dingin\")\n",
    "elif suhu < 30 :\n",
    "    print(\"suhu hangat\")\n",
    "elif suhu < 35 :\n",
    "    print(\"suhu panas\")\n",
    "elif suhu < 40 :\n",
    "    print(\"suhu panas banget\")   \n",
    "else :\n",
    "    print(\"suhu panas banget gak ngotak\")"
   ]
  },
  {
   "cell_type": "markdown",
   "metadata": {},
   "source": [
    "- tanpa menggunakan elif"
   ]
  },
  {
   "cell_type": "code",
   "execution_count": null,
   "metadata": {},
   "outputs": [],
   "source": [
    "suhu = int(input(\"suhu sekarang : \"))\n",
    "\n",
    "if suhu < 25 :\n",
    "    print(\"suhu dingin\")\n",
    "if suhu < 30 :\n",
    "    print(\"suhu hangat\")\n",
    "else :\n",
    "    print(\"suhu panas\")"
   ]
  },
  {
   "cell_type": "markdown",
   "metadata": {},
   "source": [
    "- Mengunakan operator pembanding"
   ]
  },
  {
   "cell_type": "code",
   "execution_count": 147,
   "metadata": {},
   "outputs": [
    {
     "name": "stdin",
     "output_type": "stream",
     "text": [
      "suhu sekarang :  27\n"
     ]
    },
    {
     "name": "stdout",
     "output_type": "stream",
     "text": [
      "suhu hangat\n"
     ]
    }
   ],
   "source": [
    "suhu = int(input(\"suhu sekarang : \"))\n",
    "\n",
    "if suhu < 25 :\n",
    "    print(\"suhu dingin\")\n",
    "if suhu >= 25 and suhu < 30 :\n",
    "    print(\"suhu hangat\")\n",
    "if suhu >= 30 :\n",
    "    print(\"suhu panas\")"
   ]
  },
  {
   "cell_type": "code",
   "execution_count": null,
   "metadata": {},
   "outputs": [],
   "source": [
    "# ================ Task ===================\n",
    "# Buat program untuk menghitung nilai siswa\n",
    "# 90 - 100 = A\n",
    "# 80 - 89 = B+\n",
    "# 70 - 79 = B\n",
    "# 60 - 69 = C+\n",
    "# 50 - 59 = C\n",
    "# 40 - 49 = D\n",
    "# 0 - 39 = E "
   ]
  },
  {
   "cell_type": "code",
   "execution_count": 150,
   "metadata": {},
   "outputs": [
    {
     "name": "stdin",
     "output_type": "stream",
     "text": [
      "masukan nilai :  110\n"
     ]
    },
    {
     "name": "stdout",
     "output_type": "stream",
     "text": [
      "grade A\n"
     ]
    }
   ],
   "source": [
    "nilai = int(input(\"masukan nilai : \"))\n",
    "\n",
    "if nilai < 40:\n",
    "    print(\"grade E\")\n",
    "elif nilai < 50:\n",
    "    print(\"grade D\")\n",
    "elif nilai < 60:\n",
    "    print(\"grade C\")\n",
    "elif nilai < 70:\n",
    "    print(\"grade C+\")\n",
    "elif nilai < 80:\n",
    "    print(\"grade B\")\n",
    "elif nilai < 90:\n",
    "    print(\"grade B+\")\n",
    "else :\n",
    "    print(\"grade A\")"
   ]
  },
  {
   "cell_type": "markdown",
   "metadata": {},
   "source": [
    "#### 10.a Perbedaan multiple if statement dan elif statement\n",
    "\n",
    "- jika multiple `if` statment maka program akan cek **semua if statement** (tidak ada yang terlewatkan) dan bisa jadi semua instruksi bisa dilakukan jika memang memnuhi kondisi semua multiple if statement. \n",
    "\n",
    "\n",
    "- Namun jika `elif` statement **tidak semua dicek** (bisa semua/bisa tidak), program akan cek semua kondisi jika program masih belum menemukan yang sesuai, namun **jika ada yang sesuai** maka program akan langsung **keluar dari statement pecabangan**."
   ]
  },
  {
   "cell_type": "markdown",
   "metadata": {},
   "source": [
    "### 11. Perulangan mengunakan for\n",
    "\n",
    "- perulangan pada pemrograman python hanya mengimplementasikan *collection-based iteration*, \n",
    "- sehingga sebuah perulangan bisa dilakukan jika kita memiliki **iterable** object di python\n",
    "\n",
    "```\n",
    "for <var> in <iterable>:\n",
    "    <task(s)>\n",
    "\n",
    "```\n",
    "\n",
    "- Iterable pada python adalah object dalam bentuk `string`, `list`, `tuple`, `dictionary`, `set`\n"
   ]
  },
  {
   "cell_type": "markdown",
   "metadata": {},
   "source": [
    "- contoh bentuk perulangan dari iterator `list`"
   ]
  },
  {
   "cell_type": "code",
   "execution_count": 151,
   "metadata": {},
   "outputs": [
    {
     "name": "stdout",
     "output_type": "stream",
     "text": [
      "<class 'list'>\n",
      "hari senin\n",
      "hari selasa\n",
      "hari rabu\n",
      "hari kamis\n",
      "hari jumat\n",
      "hari sabtu\n",
      "hari minggu\n"
     ]
    }
   ],
   "source": [
    "hari = [\"senin\", \"selasa\", \"rabu\", \"kamis\", \"jumat\", \"sabtu\", \"minggu\"]\n",
    "\n",
    "print(type(hari))\n",
    "\n",
    "for i in hari :\n",
    "    print (\"hari\", i)"
   ]
  },
  {
   "cell_type": "code",
   "execution_count": 157,
   "metadata": {},
   "outputs": [
    {
     "name": "stdout",
     "output_type": "stream",
     "text": [
      "Jari-jari : 1, Luas : 3.14\n",
      "Jari-jari : 2, Luas : 12.56\n",
      "Jari-jari : 3, Luas : 28.26\n",
      "Jari-jari : 4, Luas : 50.24\n",
      "Jari-jari : 5, Luas : 78.50\n",
      "Jari-jari : 6, Luas : 113.04\n",
      "Jari-jari : 7, Luas : 153.86\n",
      "Jari-jari : 8, Luas : 200.96\n"
     ]
    }
   ],
   "source": [
    "jari_jari = [1, 2, 3, 4, 5, 6, 7, 8]\n",
    "\n",
    "for r in jari_jari :\n",
    "    luas_lingkaran = 3.14*r**2\n",
    "    print (\"Jari-jari : %d, Luas : %.2f\" % (r, luas_lingkaran))"
   ]
  },
  {
   "cell_type": "markdown",
   "metadata": {},
   "source": [
    "- for didalam for"
   ]
  },
  {
   "cell_type": "code",
   "execution_count": 158,
   "metadata": {},
   "outputs": [
    {
     "name": "stdout",
     "output_type": "stream",
     "text": [
      "senin biologi\n",
      "senin matematika\n",
      "selasa biologi\n",
      "selasa matematika\n",
      "rabu biologi\n",
      "rabu matematika\n",
      "kamis biologi\n",
      "kamis matematika\n",
      "jumat biologi\n",
      "jumat matematika\n",
      "sabtu biologi\n",
      "sabtu matematika\n",
      "minggu biologi\n",
      "minggu matematika\n"
     ]
    }
   ],
   "source": [
    "hari = [\"senin\", \"selasa\", \"rabu\", \"kamis\", \"jumat\", \"sabtu\", \"minggu\"]\n",
    "\n",
    "matkul = [\"biologi\", \"matematika\"]\n",
    "\n",
    "for i in hari :\n",
    "    for j in matkul :\n",
    "        print(i, j)"
   ]
  },
  {
   "cell_type": "markdown",
   "metadata": {},
   "source": [
    "### 12. Perulangan menggunakan while\n",
    "\n",
    "- struktur dasar,\n",
    "\n",
    "```\n",
    "while <condition>:\n",
    "    <do something..>\n",
    "```"
   ]
  },
  {
   "cell_type": "code",
   "execution_count": 159,
   "metadata": {},
   "outputs": [
    {
     "name": "stdout",
     "output_type": "stream",
     "text": [
      "loop ke-0\n",
      "loop ke-1\n",
      "loop ke-2\n",
      "loop ke-3\n",
      "loop ke-4\n",
      "loop ke-5\n"
     ]
    }
   ],
   "source": [
    "i = 0\n",
    "while i <= 5 :\n",
    "    print(\"loop ke-%d\" % i)\n",
    "    i +=1"
   ]
  },
  {
   "cell_type": "code",
   "execution_count": 160,
   "metadata": {},
   "outputs": [
    {
     "data": {
      "text/plain": [
       "['senin', 'selasa', 'rabu', 'kamis', 'jumat', 'sabtu', 'minggu']"
      ]
     },
     "execution_count": 160,
     "metadata": {},
     "output_type": "execute_result"
    }
   ],
   "source": [
    "hari"
   ]
  },
  {
   "cell_type": "code",
   "execution_count": 161,
   "metadata": {},
   "outputs": [
    {
     "data": {
      "text/plain": [
       "7"
      ]
     },
     "execution_count": 161,
     "metadata": {},
     "output_type": "execute_result"
    }
   ],
   "source": [
    "len(hari)"
   ]
  },
  {
   "cell_type": "code",
   "execution_count": 162,
   "metadata": {},
   "outputs": [
    {
     "name": "stdout",
     "output_type": "stream",
     "text": [
      "senin\n",
      "selasa\n",
      "rabu\n",
      "kamis\n",
      "jumat\n",
      "sabtu\n",
      "minggu\n"
     ]
    }
   ],
   "source": [
    "hari = [\"senin\", \"selasa\", \"rabu\", \"kamis\", \"jumat\", \"sabtu\", \"minggu\"]\n",
    "\n",
    "i = 0\n",
    "while i < len(hari):\n",
    "    print(hari[i])\n",
    "    i += 1"
   ]
  },
  {
   "cell_type": "markdown",
   "metadata": {},
   "source": [
    "### 13. fungsi range() \n",
    "- fungsi `range` digunakan untuk menghasilkan *sequence* angka"
   ]
  },
  {
   "cell_type": "code",
   "execution_count": 163,
   "metadata": {},
   "outputs": [
    {
     "data": {
      "text/plain": [
       "range(0, 5)"
      ]
     },
     "execution_count": 163,
     "metadata": {},
     "output_type": "execute_result"
    }
   ],
   "source": [
    "range(5)"
   ]
  },
  {
   "cell_type": "code",
   "execution_count": 166,
   "metadata": {},
   "outputs": [
    {
     "name": "stdout",
     "output_type": "stream",
     "text": [
      "<class 'range'>\n",
      "[0, 1, 2, 3, 4, 5, 6, 7, 8, 9, 10, 11, 12, 13, 14, 15, 16, 17, 18, 19, 20, 21, 22, 23, 24, 25, 26, 27, 28, 29, 30, 31, 32, 33, 34, 35, 36, 37, 38, 39, 40, 41, 42, 43, 44, 45, 46, 47, 48, 49, 50, 51, 52, 53, 54, 55, 56, 57, 58, 59, 60, 61, 62, 63, 64, 65, 66, 67, 68, 69, 70, 71, 72, 73, 74, 75, 76, 77, 78, 79, 80, 81, 82, 83, 84, 85, 86, 87, 88, 89, 90, 91, 92, 93, 94, 95, 96, 97, 98, 99]\n"
     ]
    }
   ],
   "source": [
    "A = range(100)\n",
    "\n",
    "print(type(A))\n",
    "print(list(A))"
   ]
  },
  {
   "cell_type": "code",
   "execution_count": 167,
   "metadata": {},
   "outputs": [
    {
     "name": "stdout",
     "output_type": "stream",
     "text": [
      "[0, 1, 2, 3, 4, 5, 6, 7, 8, 9, 10, 11, 12, 13, 14, 15, 16, 17, 18, 19, 20, 21, 22, 23, 24, 25, 26, 27, 28, 29, 30, 31, 32, 33, 34, 35, 36, 37, 38, 39, 40, 41, 42, 43, 44, 45, 46, 47, 48, 49, 50, 51, 52, 53, 54, 55, 56, 57, 58, 59, 60, 61, 62, 63, 64, 65, 66, 67, 68, 69, 70, 71, 72, 73, 74, 75, 76, 77, 78, 79, 80, 81, 82, 83, 84, 85, 86, 87, 88, 89, 90, 91, 92, 93, 94, 95, 96, 97, 98, 99] <class 'list'>\n"
     ]
    }
   ],
   "source": [
    "B = list(A)\n",
    "\n",
    "print(B, type(B))"
   ]
  },
  {
   "cell_type": "markdown",
   "metadata": {},
   "source": [
    "### mengunakan range() pada perulangan for"
   ]
  },
  {
   "cell_type": "code",
   "execution_count": 168,
   "metadata": {},
   "outputs": [
    {
     "data": {
      "text/plain": [
       "[0, 1, 2, 3, 4, 5, 6, 7, 8, 9, 10, 11, 12, 13, 14]"
      ]
     },
     "execution_count": 168,
     "metadata": {},
     "output_type": "execute_result"
    }
   ],
   "source": [
    "list(range(15))"
   ]
  },
  {
   "cell_type": "code",
   "execution_count": 170,
   "metadata": {},
   "outputs": [
    {
     "name": "stdout",
     "output_type": "stream",
     "text": [
      "iterasi ke-0\n",
      "iterasi ke-1\n",
      "iterasi ke-2\n",
      "iterasi ke-3\n",
      "iterasi ke-4\n",
      "iterasi ke-5\n",
      "iterasi ke-6\n",
      "iterasi ke-7\n",
      "iterasi ke-8\n",
      "iterasi ke-9\n",
      "iterasi ke-10\n",
      "iterasi ke-11\n",
      "iterasi ke-12\n",
      "iterasi ke-13\n",
      "iterasi ke-14\n"
     ]
    }
   ],
   "source": [
    "for i in range(15):\n",
    "    print (\"iterasi ke-%s\" % i)"
   ]
  },
  {
   "cell_type": "code",
   "execution_count": 171,
   "metadata": {},
   "outputs": [
    {
     "name": "stdout",
     "output_type": "stream",
     "text": [
      "iterasi ke-0\n",
      "iterasi ke-1\n",
      "iterasi ke-2\n",
      "iterasi ke-3\n",
      "iterasi ke-4\n",
      "iterasi ke-5\n",
      "iterasi ke-6\n"
     ]
    }
   ],
   "source": [
    "my_list = [0, 1, 2, 3, 4, 5, 6]\n",
    "\n",
    "for i in my_list:\n",
    "    print (\"iterasi ke-%s\" % i)"
   ]
  },
  {
   "cell_type": "code",
   "execution_count": null,
   "metadata": {},
   "outputs": [],
   "source": []
  }
 ],
 "metadata": {
  "kernelspec": {
   "display_name": "Python 3",
   "language": "python",
   "name": "python3"
  },
  "language_info": {
   "codemirror_mode": {
    "name": "ipython",
    "version": 3
   },
   "file_extension": ".py",
   "mimetype": "text/x-python",
   "name": "python",
   "nbconvert_exporter": "python",
   "pygments_lexer": "ipython3",
   "version": "3.7.9"
  }
 },
 "nbformat": 4,
 "nbformat_minor": 4
}
