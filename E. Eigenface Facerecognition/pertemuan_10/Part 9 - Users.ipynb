{
 "cells": [
  {
   "cell_type": "code",
   "execution_count": 13,
   "metadata": {},
   "outputs": [],
   "source": [
    "import os\n",
    "import time\n",
    "import datetime\n",
    "import numpy as np\n",
    "import pandas as pd\n",
    "import PySimpleGUI as sg "
   ]
  },
  {
   "cell_type": "code",
   "execution_count": 14,
   "metadata": {},
   "outputs": [],
   "source": [
    "import cv2\n",
    "import pickle\n",
    "import matplotlib.pyplot as plt\n",
    "\n",
    "import pyautogui\n",
    "from PIL import ImageGrab\n",
    "from win10toast import ToastNotifier\n",
    "\n",
    "from sklearn.decomposition import PCA\n",
    "from sklearn.neighbors import KNeighborsClassifier\n",
    "from sklearn.svm import SVC"
   ]
  },
  {
   "cell_type": "code",
   "execution_count": 15,
   "metadata": {},
   "outputs": [],
   "source": [
    "from user import User\n",
    "from kehadiran import Kehadiran"
   ]
  },
  {
   "cell_type": "markdown",
   "metadata": {},
   "source": [
    "- layout definition"
   ]
  },
  {
   "cell_type": "code",
   "execution_count": 16,
   "metadata": {},
   "outputs": [],
   "source": [
    "def get_layout_user_item(record):\n",
    "    Nama = record['Nama']\n",
    "    NIM  = record['NIM']\n",
    "    JenisKelamin = record['JenisKelamin']\n",
    "    JamMasuk = record['JamMasuk']\n",
    "    filename = record['NamaFoto']\n",
    "    \n",
    "    \n",
    "    layout_photo = [[sg.Image(filename=\"photo/\" + filename, key=\"foto-\" + filename, size=(100,100))]]\n",
    "    layout_user = [[sg.Text(\"Nama \\t: \" + Nama)],\n",
    "                  [sg.Text(\"NIM \\t: \" + NIM)],\n",
    "                  [sg.Text(\"Kelamin \\t: \" + JenisKelamin)],\n",
    "                  [sg.Text(\"Masuk \\t: \" + JamMasuk)]]\n",
    "    \n",
    "    layout_item =[\n",
    "                    sg.Column(layout_photo), \n",
    "                    sg.Column(layout_user)\n",
    "                  ]\n",
    "    return layout_item"
   ]
  },
  {
   "cell_type": "code",
   "execution_count": 17,
   "metadata": {},
   "outputs": [],
   "source": [
    "def get_class_info():\n",
    "    curr_date = datetime.datetime.now().strftime(\"%A, %d %B %Y\")\n",
    "    layout = [\n",
    "        [sg.Text(curr_date, justification='right', size=(38,1), font=(\"Helvetica\", 10, \"italic\"))],\n",
    "        [sg.Text(\"Kelas \\t\\t: \"), sg.InputText(key=\"Kelas\", size=(24,1))],\n",
    "        [sg.Text(\"Jumlah Peserta \\t: \"), sg.InputText(key=\"JumlahPeserta\", size=(24,1))],\n",
    "        [sg.Text(\"JumlahHadir \\t: \"), sg.Text(\"-\", key=\"JumlahHadir\", size=(24,1))],\n",
    "        [sg.Text(\"JamMulai \\t: \"), sg.Text(\"-\", key=\"JamMulai\", size=(24,1))],\n",
    "        [sg.Text(\"Durasi \\t\\t: \"), sg.Text(\"-\", key=\"Durasi\", size=(24,1))],\n",
    "        [sg.Text(\"Status \\t\\t: \"), sg.Text(\"-\", key=\"Status\", size=(24,1))],\n",
    "        [sg.Button(\"   Mulai   \", key=\"mulai\"), sg.Button(\"   Akhiri   \", key=\"akhiri\")]\n",
    "    ]\n",
    "    return layout"
   ]
  },
  {
   "cell_type": "code",
   "execution_count": 18,
   "metadata": {},
   "outputs": [],
   "source": [
    "def get_layout_home(records):\n",
    "    # list user     \n",
    "    list_user_layout = [get_layout_user_item(record) for record in records]\n",
    "    \n",
    "    layout_left = [\n",
    "        [\n",
    "            sg.Column(list_user_layout, scrollable=True, vertical_scroll_only=True, size=(320, 400))\n",
    "        ]\n",
    "    ]\n",
    "    \n",
    "    \n",
    "    # informasi kelas     \n",
    "    layout_right = get_class_info()\n",
    "    \n",
    "    layout = [\n",
    "        [\n",
    "            sg.Column(layout_left),\n",
    "            sg.VerticalSeparator(), # vertical separator\n",
    "            sg.Column(layout_right)\n",
    "        ]\n",
    "    ]\n",
    "    return layout"
   ]
  },
  {
   "cell_type": "code",
   "execution_count": 19,
   "metadata": {},
   "outputs": [],
   "source": [
    "def get_layout_history(records, headings, listKelas):\n",
    "    layout = [\n",
    "              [sg.Combo(listKelas, size=(35,1), key='search_history'), \n",
    "               sg.InputText(key=\"tanggal_history\", size=(15,1)), \n",
    "               sg.CalendarButton(\"...\", target='tanggal_history', format='%Y-%m-%d'),\n",
    "               sg.Button('Search', key='button_search_history'),\n",
    "               sg.Input(key='button_export_history', enable_events=True, visible=False),\n",
    "               sg.FolderBrowse(button_text='Export', target='button_export_history')],\n",
    "              [sg.Table(values=records, headings=headings, \n",
    "                             key='table_history', \n",
    "                             background_color='#f0f3f7',\n",
    "                             text_color='black',\n",
    "                             justification='left',\n",
    "                             num_rows=20\n",
    "                            )]\n",
    "             ]\n",
    "    return layout"
   ]
  },
  {
   "cell_type": "code",
   "execution_count": 34,
   "metadata": {},
   "outputs": [],
   "source": [
    "def get_layout_User(records, headings):\n",
    "    layout = [\n",
    "              [sg.InputText(size=(45,1), key='search_user'), \n",
    "               sg.Button('Search', key='button_search_user'),\n",
    "               sg.Input(key='button_export_user', enable_events=True, visible=False),\n",
    "               sg.FolderBrowse(button_text='Export', target='button_export_user')],\n",
    "              [sg.Table(values=records, headings=headings, \n",
    "                             key='table_user', \n",
    "                             background_color='#f0f3f7',\n",
    "                             text_color='black',\n",
    "                             justification='left',\n",
    "                             num_rows=20\n",
    "                            )]\n",
    "             ]\n",
    "    return layout"
   ]
  },
  {
   "cell_type": "code",
   "execution_count": 35,
   "metadata": {},
   "outputs": [],
   "source": [
    "def get_layout(home_records, history_records, history_headings, listKelas, user_records, user_headings):\n",
    "    \n",
    "    layout_home = get_layout_home(home_records)\n",
    "    layout_history = get_layout_history(history_records, history_headings, listKelas)\n",
    "    layout_user = get_layout_User(user_records, user_headings)\n",
    "    layout_pengaturan = [[sg.Text(\"Pengaturan\", size=(80,20))]]\n",
    "\n",
    "    layout = [[sg.TabGroup([\n",
    "                            [sg.Tab('Home', layout_home, border_width=20), \n",
    "                             sg.Tab('History', layout_history, border_width=20),\n",
    "                             sg.Tab('User', layout_user),\n",
    "                             sg.Tab('Pengaturan', layout_pengaturan)]\n",
    "                            ])\n",
    "              ]]\n",
    "    return layout"
   ]
  },
  {
   "cell_type": "markdown",
   "metadata": {},
   "source": [
    "- facerecognition"
   ]
  },
  {
   "cell_type": "code",
   "execution_count": 36,
   "metadata": {},
   "outputs": [],
   "source": [
    "def screen_capture(window_name= 'Zoom Meeting'):\n",
    "    if window_name not in pyautogui.getAllTitles():\n",
    "        return None\n",
    "    try :\n",
    "        fw = pyautogui.getWindowsWithTitle(window_name)[0]\n",
    "        fw.maximize()\n",
    "        pyautogui.click(fw.center)\n",
    "        fw.activate()\n",
    "    except :\n",
    "        pass\n",
    "    \n",
    "    time.sleep(1)\n",
    "\n",
    "    sct = ImageGrab.grab() \n",
    "    img = np.array(sct)\n",
    "    \n",
    "    return img"
   ]
  },
  {
   "cell_type": "code",
   "execution_count": 37,
   "metadata": {},
   "outputs": [],
   "source": [
    "def preprocess(img):\n",
    "    face_cascade = cv2.CascadeClassifier('haarcascades/haarcascade_frontalface_default.xml')\n",
    "    \n",
    "    img_list = []\n",
    "    img_gray = cv2.cvtColor(img, cv2.COLOR_BGR2GRAY)\n",
    "        \n",
    "    faces = face_cascade.detectMultiScale(img_gray, 1.3, 5)\n",
    "    for (x, y, w, h) in faces:\n",
    "        img_face = img_gray[y:y+h, x:x+w]  # crop face image \n",
    "        img_resize = cv2.resize(img_face, (100, 100)) # resize to 100 x 100 pixel\n",
    "        img_list.append(img_resize)\n",
    "    return img_list, faces"
   ]
  },
  {
   "cell_type": "code",
   "execution_count": 38,
   "metadata": {},
   "outputs": [],
   "source": [
    "def read_model(filename, path=\"\"):\n",
    "    with open(os.path.join(path, filename), 'rb') as in_name:\n",
    "        model = pickle.load(in_name)\n",
    "        return model"
   ]
  },
  {
   "cell_type": "code",
   "execution_count": 39,
   "metadata": {},
   "outputs": [],
   "source": [
    "def create_window(layout):\n",
    "    return sg.Window(title=\"Aplikasi Pencatatan Kehadiran\", layout=layout, margins=(10, 10), finalize=True)"
   ]
  },
  {
   "cell_type": "code",
   "execution_count": 40,
   "metadata": {},
   "outputs": [],
   "source": [
    "def recognizer(labels, window_name= 'Zoom Meeting', show_toast=False, threshold=0.3):\n",
    "    # get data     \n",
    "    img = screen_capture(window_name=window_name)\n",
    "    if img is None :\n",
    "        print(\"[INFO] could not find window !\")\n",
    "        return None\n",
    "\n",
    "    # preprocessing    \n",
    "    img_list, face_coords = preprocess(img)\n",
    "    if len(img_list) < 1 :\n",
    "        print(\"[INFO] could not find face!\")\n",
    "        return None\n",
    "    else : \n",
    "        # convert each detected face to 1D array feature vector\n",
    "        img_list_flatten = [img.flatten() for img in img_list]\n",
    "\n",
    "        # apply PCA to each 1D array feature vector\n",
    "        img_list_pca = pca.transform(img_list_flatten)\n",
    "\n",
    "        # predict data using SVM    \n",
    "        ids = np.array(model_svm.predict(img_list_pca))\n",
    "\n",
    "        proba = model_svm.predict_proba(img_list_pca)\n",
    "        confidence = np.array([np.max(p) for p in proba])\n",
    "\n",
    "        reff = [i for i, conf in enumerate(confidence) if conf >= threshold]\n",
    "\n",
    "        filtered_ids = ids[reff]\n",
    "        filtered_confidence = confidence[reff]\n",
    "        \n",
    "        label_output = [labels[i] for i in filtered_ids]\n",
    "        \n",
    "        for i in range(len(filtered_ids)):\n",
    "            title = \"Name : %s (%.2f%%)\" % (label_output[i], (filtered_confidence[i]*100))\n",
    "            if show_toast:\n",
    "                toaster.show_toast(\"Attendance Systems\", title)\n",
    "        \n",
    "        \n",
    "    return filtered_ids"
   ]
  },
  {
   "cell_type": "code",
   "execution_count": 47,
   "metadata": {},
   "outputs": [],
   "source": [
    "def format_history(records):\n",
    "    history_records = [list(item.values()) for item in records]\n",
    "    for i, item in enumerate(history_records) :\n",
    "        item.insert(0, i)\n",
    "        del item[4:6]\n",
    "\n",
    "    if len(history_records) < 1 :\n",
    "        history_records = [[\"\"]*len(history_headings)]\n",
    "    return history_records"
   ]
  },
  {
   "cell_type": "code",
   "execution_count": 52,
   "metadata": {},
   "outputs": [],
   "source": [
    "def format_user(records):\n",
    "    user_records = [list(item.values()) for item in records]\n",
    "    for i, item in enumerate(user_records) :\n",
    "        item[0] = i\n",
    "        del item[5:7]\n",
    "        \n",
    "    if len(user_records) < 1 :\n",
    "        user_records = [[\"\"]*len(user_records)]\n",
    "    return user_records"
   ]
  },
  {
   "cell_type": "code",
   "execution_count": 42,
   "metadata": {},
   "outputs": [],
   "source": [
    "def export_csv(records, headings, key='history', preffix='absensi'):\n",
    "    if values['search_%s' % key] != '' : \n",
    "        \n",
    "        df = pd.DataFrame(records, columns=headings)\n",
    "        export_name = \"%s/%s_%s_%s.csv\" % (values['button_export_%s' % key], \n",
    "                                           preffix, \n",
    "                                           values['search_%s' % key], \n",
    "                                           values['tanggal_%s' % key])\n",
    "        try :\n",
    "            df.to_csv(export_name, index=None)\n",
    "            sg.Popup(\"Data berhasil disimpan di %s!\" % export_name)\n",
    "        except :\n",
    "            print(\"Gagal menyimpan file!\")\n",
    "    else :\n",
    "        sg.Popup(\"Tidak dapat menyimpan file, data kosong!\")"
   ]
  },
  {
   "cell_type": "markdown",
   "metadata": {},
   "source": [
    "- init data"
   ]
  },
  {
   "cell_type": "code",
   "execution_count": 55,
   "metadata": {},
   "outputs": [],
   "source": [
    "kehadiran = Kehadiran()\n",
    "user = User()\n",
    "\n",
    "labels = [\"-\"]*10 \n",
    "for record in user.select_user():\n",
    "    labels.insert(record['PredictionId'], record['Nama'])\n",
    "    \n",
    "curr_date = datetime.datetime.now().strftime(\"%Y-%m-%d\")\n",
    "\n",
    "#  init table history\n",
    "curr_user_records = []\n",
    "history_headings = [\" No \", \n",
    "                    \" Nama                        \", \n",
    "                    \" NIM             \", \n",
    "                    \" Kelamin \", \n",
    "                    \" Jam Masuk       \"]\n",
    "history_records = [[\"\"]*len(history_headings)]\n",
    "listKelas = kehadiran.select_nama_kelas()\n",
    "\n",
    "# init table users\n",
    "user_headings = [\" No \",\n",
    "                 \" Nama                        \",\n",
    "                 \" NIM              \",\n",
    "                 \" Kelamin \",\n",
    "                 \" Umur   \",\n",
    "                 \" Prediction Id\"]\n",
    "user_records = format_user(user.select_user())"
   ]
  },
  {
   "cell_type": "markdown",
   "metadata": {},
   "source": [
    "- main program"
   ]
  },
  {
   "cell_type": "code",
   "execution_count": 56,
   "metadata": {},
   "outputs": [
    {
     "name": "stdout",
     "output_type": "stream",
     "text": [
      "*** tk version 8.6.9 detected.... patching ttk treeview code ***\n",
      "*** tk version 8.6.9 detected.... patching ttk treeview code ***\n"
     ]
    }
   ],
   "source": [
    "toaster = ToastNotifier()\n",
    "\n",
    "pca = read_model(\"pca_model.pkl\")\n",
    "model_svm = read_model(\"SVM_scikit_model.pkl\")\n",
    "\n",
    "layout = get_layout(curr_user_records, history_records, history_headings, listKelas, user_records, user_headings)\n",
    "window = create_window(layout)\n",
    "\n",
    "window['akhiri'].update(disabled=True)\n",
    "window['tanggal_history'].update(value=curr_date)\n",
    "\n",
    "status = ''\n",
    "start_time = ''\n",
    "update = False\n",
    "delay_capture = 30 #second\n",
    "\n",
    "while True :\n",
    "    event, values = window.read(timeout=25)\n",
    "    \n",
    "    if event == 'mulai' or update == True:\n",
    "        window.close()\n",
    "        \n",
    "        if event == 'mulai' :\n",
    "            start_time = datetime.datetime.now()\n",
    "            \n",
    "        curr_user_records = user.get_user_in_class(curr_date, values['Kelas'])\n",
    "        listKelas = kehadiran.select_nama_kelas()\n",
    "        history_records = format_history(curr_user_records)\n",
    "            \n",
    "        layout = get_layout(curr_user_records, history_records, history_headings, listKelas)\n",
    "        window = create_window(layout)\n",
    "        \n",
    "        status = 'berlangsung'\n",
    "        window['Kelas'].update(value=values['Kelas'])\n",
    "        window['JumlahPeserta'].update(value=values['JumlahPeserta'])\n",
    "        window['JumlahHadir'].update(value=len(curr_user_records))\n",
    "        window['Status'].update(value=status)\n",
    "        window['JamMulai'].update(value=start_time.strftime(\"%H:%M:%S\"))\n",
    "        window['mulai'].update(disabled=True)\n",
    "        window['akhiri'].update(disabled=False)\n",
    "        \n",
    "        window['search_history'].update(value=values['Kelas'])\n",
    "        window['tanggal_history'].update(value=curr_date)\n",
    "        \n",
    "        if update :\n",
    "            update = False\n",
    "        \n",
    "    if event == 'akhiri':\n",
    "        status = 'selesai'\n",
    "        window['Status'].update(value=status)\n",
    "        window['mulai'].update(disabled=False)\n",
    "        window['akhiri'].update(disabled=True)\n",
    "        \n",
    "        kehadiran.update_kehadiran_selesai(values['Kelas'], \n",
    "                                           curr_date, \n",
    "                                           datetime.datetime.now().strftime(\"%Y-%m-%d\"))\n",
    "\n",
    "    if event == 'button_search_history' :\n",
    "        user_records = user.get_user_in_class(values['tanggal_history'], values['search_history'])\n",
    "        history_records = format_history(user_records)\n",
    "        window['table_history'].update(history_records)\n",
    "        \n",
    "    if event == 'button_export_history' :        \n",
    "        user_records = user.get_user_in_class(values['tanggal_%s' % key], values['search_%s' % key])\n",
    "        history_records = format_history(user_records)\n",
    "        \n",
    "        export_csv(history_records, history_headings, key='history', preffix='absensi')\n",
    "            \n",
    "    if status == 'berlangsung':\n",
    "        curr_time = datetime.datetime.now()\n",
    "        diff_time = curr_time - start_time\n",
    "        window['Durasi'].update(value=str(diff_time).split(\".\")[0])\n",
    "        \n",
    "        if curr_time.second % delay_capture == 0 :\n",
    "            predicted_ids = recognizer(labels, show_toast=False)\n",
    "            if predicted_ids is not None :\n",
    "                for idx in predicted_ids :\n",
    "                    if idx not in [record['PredictionId'] for record in curr_user_records] :\n",
    "                        record_user = user.select_user_by_prediction_id(int(idx))\n",
    "                        if record_user is not None :\n",
    "                            print(\"Nama :\", record_user['Nama'])\n",
    "                            \n",
    "                            record_kehadiran = {}\n",
    "                            record_kehadiran['UserId'] = record_user['Id']\n",
    "                            record_kehadiran['JamMasuk'] = datetime.datetime.now().strftime(\"%H:%M:%S\")\n",
    "                            record_kehadiran['NamaKelas'] = values['Kelas']\n",
    "                            record_kehadiran['JamKelasMulai'] = start_time.strftime(\"%H:%M:%S\")\n",
    "                            record_kehadiran['JamKelasBerakhir'] = ''\n",
    "                            record_kehadiran['Status'] = status\n",
    "                            record_kehadiran['Date'] = curr_date\n",
    "\n",
    "                            kehadiran.create_kehadiran(record_kehadiran)\n",
    "                            \n",
    "                            update = True\n",
    "                            \n",
    "            \n",
    "    if event == sg.WIN_CLOSED:\n",
    "        break\n",
    "\n",
    "window.close()"
   ]
  },
  {
   "cell_type": "code",
   "execution_count": 81,
   "metadata": {},
   "outputs": [],
   "source": [
    "window.close()"
   ]
  },
  {
   "cell_type": "code",
   "execution_count": null,
   "metadata": {},
   "outputs": [],
   "source": []
  }
 ],
 "metadata": {
  "kernelspec": {
   "display_name": "Python [conda env:opencv_env]",
   "language": "python",
   "name": "conda-env-opencv_env-py"
  },
  "language_info": {
   "codemirror_mode": {
    "name": "ipython",
    "version": 3
   },
   "file_extension": ".py",
   "mimetype": "text/x-python",
   "name": "python",
   "nbconvert_exporter": "python",
   "pygments_lexer": "ipython3",
   "version": "3.8.6"
  }
 },
 "nbformat": 4,
 "nbformat_minor": 4
}
