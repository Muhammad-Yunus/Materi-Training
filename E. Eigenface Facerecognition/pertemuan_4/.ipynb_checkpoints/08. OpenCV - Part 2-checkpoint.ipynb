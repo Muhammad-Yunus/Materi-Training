{
 "cells": [
  {
   "cell_type": "markdown",
   "metadata": {},
   "source": [
    "### OpenCV - Part 2\n",
    "\n",
    "- Image Crop \n",
    "- Image Resize \n",
    "- Image Blending \n",
    "- Image Conversion"
   ]
  },
  {
   "cell_type": "code",
   "execution_count": 1,
   "metadata": {},
   "outputs": [],
   "source": [
    "import cv2 "
   ]
  },
  {
   "cell_type": "markdown",
   "metadata": {},
   "source": [
    "### Image Crop"
   ]
  },
  {
   "cell_type": "markdown",
   "metadata": {},
   "source": [
    "- crop image pada OpenCV dilakukan dengan menggunakan *numpy slicing*\n",
    "- dengan notasi `image_array[y_min:y_max , x_min:x_max]`\n",
    "- dimana `y_min`, `y_max`, `x_min` dan `x_max` merupakan titik pixel batas area yang ingin di crop.\n",
    "\n",
    "<img src=\"resource/crop_img.png\" style=\"width: 400px;\"></img>"
   ]
  },
  {
   "cell_type": "code",
   "execution_count": 10,
   "metadata": {},
   "outputs": [
    {
     "data": {
      "text/plain": [
       "(344, 354, 3)"
      ]
     },
     "execution_count": 10,
     "metadata": {},
     "output_type": "execute_result"
    }
   ],
   "source": [
    "img = cv2.imread('lena.jpg')\n",
    "\n",
    "img.shape"
   ]
  },
  {
   "cell_type": "code",
   "execution_count": 12,
   "metadata": {},
   "outputs": [],
   "source": [
    "# crop image[y_min:y_max , x_min:x_max]\n",
    "img_crop = img[60:300, 50:270] \n"
   ]
  },
  {
   "cell_type": "code",
   "execution_count": 13,
   "metadata": {},
   "outputs": [],
   "source": [
    "# show image\n",
    "cv2.imshow('croped image',img_crop)\n",
    "cv2.imshow('original image',img)\n",
    "cv2.waitKey(0)\n",
    "cv2.destroyAllWindows()"
   ]
  },
  {
   "cell_type": "markdown",
   "metadata": {},
   "source": [
    "- setup titik crop melalui `input()`"
   ]
  },
  {
   "cell_type": "code",
   "execution_count": 14,
   "metadata": {},
   "outputs": [
    {
     "name": "stdin",
     "output_type": "stream",
     "text": [
      "masukan nilai y_min [0 - 344 ] : 100\n",
      "masukan nilai y_max [100 - 344 ] : 250\n",
      "masukan nilai x_min [0 - 354 ] : 80\n",
      "masukan nilai x_max [80 - 354 ] : 340\n"
     ]
    }
   ],
   "source": [
    "h, w, c = img.shape\n",
    "\n",
    "y_min = int(input(\"masukan nilai y_min [0 - %d ] :\" % h))\n",
    "y_max = int(input(\"masukan nilai y_max [%d - %d ] :\" % (y_min, h)))\n",
    "x_min = int(input(\"masukan nilai x_min [0 - %d ] :\" % w))\n",
    "x_max = int(input(\"masukan nilai x_max [%d - %d ] :\" % (x_min, w)))\n",
    "\n",
    "img_crop = img[y_min:y_max , x_min:x_max]\n",
    "\n",
    "# show image\n",
    "cv2.imshow('croped image',img_crop)\n",
    "cv2.imshow('original image',img)\n",
    "cv2.waitKey(0)\n",
    "cv2.destroyAllWindows()"
   ]
  },
  {
   "cell_type": "markdown",
   "metadata": {},
   "source": [
    "### Menggunakan Mouse Event Click pada OpenCV\n",
    "- setup titik crop melalui mouse click "
   ]
  },
  {
   "cell_type": "code",
   "execution_count": 47,
   "metadata": {},
   "outputs": [
    {
     "name": "stdout",
     "output_type": "stream",
     "text": [
      "200\n",
      "400\n",
      "400\n"
     ]
    }
   ],
   "source": [
    "# review global variable\n",
    "x = 200\n",
    "\n",
    "def hitung(flag):\n",
    "    if flag == \"set\":\n",
    "        global x\n",
    "        x = 400\n",
    "    \n",
    "    if flag == \"print\":\n",
    "        print(x)\n",
    "    \n",
    "print(x)\n",
    "hitung(\"set\")\n",
    "hitung(\"print\")\n",
    "print(x)"
   ]
  },
  {
   "cell_type": "markdown",
   "metadata": {},
   "source": [
    "- untuk menggunakan event mouse click di OpenCV, diperkenalkan beberapa method sebagai berikut,\n",
    "    - `cv2.namedWindow` : set nama window tanpa memanggil `cv2.imshow` terlebih dahulu\n",
    "    - `cv2.setMouseCallback` : create mouse callback, ketika OpenCV mendeteksi ada envent click pada mouse, maka fungsi yang di set pada method ini akan di jalankan.\n",
    "    \n",
    "    \n",
    "    \n",
    "- mouse event parameter:\n",
    "    - `cv2.EVENT_RBUTTONDOWN`\n",
    "    - `cv2.EVENT_RBUTTONUP`\n",
    "    - `cv2.EVENT_LBUTTONDOWN`\n",
    "    - `cv2.EVENT_LBUTTONUP`\n",
    "    - `cv2.EVENT_MOUSEMOVE`\n",
    "    - etc."
   ]
  },
  {
   "cell_type": "code",
   "execution_count": 31,
   "metadata": {},
   "outputs": [],
   "source": [
    "x_start, y_start, x_end, y_end = 0, 0, 0, 0\n",
    "windowName = \"Original Image\"\n",
    "\n",
    "image = cv2.imread('lena.jpg')\n",
    " \n",
    "def crop_image(event,x,y,flags,param):\n",
    "    \n",
    "    global x_start, y_start, x_end, y_end\n",
    "    \n",
    "    # if the left mouse button clicked\n",
    "    if event == cv2.EVENT_LBUTTONDOWN:\n",
    "        x_start, y_start, x_end, y_end = x, y, x, y\n",
    "\n",
    "    # Mouse is Moving\n",
    "    elif event == cv2.EVENT_MOUSEMOVE:\n",
    "        x_end, y_end = x, y\n",
    "\n",
    "    # if the left mouse button was released\n",
    "    elif event == cv2.EVENT_LBUTTONUP:\n",
    "        croped_img = image[y_start:y_end, x_start:x_end]\n",
    "        cv2.imshow(\"Cropped Image\", croped_img)\n",
    "\n",
    "\n",
    "cv2.namedWindow(windowName) \n",
    "cv2.setMouseCallback(windowName, crop_image) \n",
    "\n",
    "while True:\n",
    "    cv2.imshow(windowName, image)\n",
    "    if cv2.waitKey(1) == ord('q') :\n",
    "        break\n",
    "\n",
    "cv2.destroyAllWindows()\n"
   ]
  },
  {
   "cell_type": "markdown",
   "metadata": {},
   "source": [
    "### Task \n",
    "- modifikasi program diatas agar bisa save image saat ada event `cv2.EVENT_RBUTTONDOWN`"
   ]
  },
  {
   "cell_type": "code",
   "execution_count": 35,
   "metadata": {},
   "outputs": [],
   "source": [
    "# ---- jawaban V 1-----\n",
    "#\n",
    "#\n",
    "#"
   ]
  },
  {
   "cell_type": "code",
   "execution_count": 36,
   "metadata": {},
   "outputs": [
    {
     "name": "stdout",
     "output_type": "stream",
     "text": [
      "croped image saved successfully!\n"
     ]
    }
   ],
   "source": [
    "x_start, y_start, x_end, y_end = 0, 0, 0, 0\n",
    "windowName = \"Original Image\"\n",
    "\n",
    "image = cv2.imread('lena.jpg')\n",
    " \n",
    "def crop_image(event,x,y,flags,param):\n",
    "    \n",
    "    global x_start, y_start, x_end, y_end\n",
    "    global croped_img\n",
    "    \n",
    "    # if the left mouse button clicked\n",
    "    if event == cv2.EVENT_LBUTTONDOWN:\n",
    "        x_start, y_start, x_end, y_end = x, y, x, y\n",
    "\n",
    "    # Mouse is Moving\n",
    "    elif event == cv2.EVENT_MOUSEMOVE:\n",
    "        x_end, y_end = x, y\n",
    "\n",
    "    # if the left mouse button was released\n",
    "    elif event == cv2.EVENT_LBUTTONUP:\n",
    "        croped_img = image[y_start:y_end, x_start:x_end]\n",
    "        cv2.imshow(\"Cropped Image\", croped_img)\n",
    "        \n",
    "    elif event == cv2.EVENT_RBUTTONDOWN:   \n",
    "        cv2.imwrite(\"croped_image.jpg\", croped_img)\n",
    "        print(\"croped image saved successfully!\")\n",
    "        \n",
    "cv2.namedWindow(windowName)\n",
    "cv2.setMouseCallback(windowName, crop_image) \n",
    "\n",
    "\n",
    "while True:\n",
    "    cv2.imshow(windowName, image)\n",
    "    if cv2.waitKey(1) == ord('q') :\n",
    "        break\n",
    "\n",
    "cv2.destroyAllWindows()\n"
   ]
  },
  {
   "cell_type": "code",
   "execution_count": 32,
   "metadata": {},
   "outputs": [],
   "source": [
    "# ---- jawaban V 2-----\n",
    "#\n",
    "#\n",
    "#"
   ]
  },
  {
   "cell_type": "code",
   "execution_count": 34,
   "metadata": {},
   "outputs": [
    {
     "name": "stdout",
     "output_type": "stream",
     "text": [
      "croped image saved successfully!\n"
     ]
    }
   ],
   "source": [
    "x_start, y_start, x_end, y_end = 0, 0, 0, 0\n",
    "windowName = \"Original Image\"\n",
    "croped_windowName = \"Cropped Image\"\n",
    "\n",
    "image = cv2.imread('lena.jpg')\n",
    " \n",
    "def crop_image(event,x,y,flags,param):\n",
    "    \n",
    "    global x_start, y_start, x_end, y_end\n",
    "    global croped_img\n",
    "    \n",
    "    # if the left mouse button clicked\n",
    "    if event == cv2.EVENT_LBUTTONDOWN:\n",
    "        x_start, y_start, x_end, y_end = x, y, x, y\n",
    "\n",
    "    # Mouse is Moving\n",
    "    elif event == cv2.EVENT_MOUSEMOVE:\n",
    "        x_end, y_end = x, y\n",
    "\n",
    "    # if the left mouse button was released\n",
    "    elif event == cv2.EVENT_LBUTTONUP:\n",
    "        croped_img = image[y_start:y_end, x_start:x_end]\n",
    "        cv2.imshow(croped_windowName, croped_img)\n",
    "        \n",
    "        # define mouse callback for croped image window\n",
    "        cv2.namedWindow(croped_windowName)\n",
    "        cv2.setMouseCallback(croped_windowName, save_image)\n",
    "        \n",
    "def save_image(event,x,y,flags,param):\n",
    "    # if the right mouse button clicked\n",
    "    if event == cv2.EVENT_RBUTTONDOWN:   \n",
    "        cv2.imwrite(\"croped_image.jpg\", croped_img)\n",
    "        print(\"croped image saved successfully!\")\n",
    "        \n",
    "cv2.namedWindow(windowName)\n",
    "cv2.setMouseCallback(windowName, crop_image) \n",
    "\n",
    "\n",
    "while True:\n",
    "    cv2.imshow(windowName, image)\n",
    "    if cv2.waitKey(1) == ord('q') :\n",
    "        break\n",
    "\n",
    "cv2.destroyAllWindows()\n"
   ]
  },
  {
   "cell_type": "markdown",
   "metadata": {},
   "source": [
    "___"
   ]
  },
  {
   "cell_type": "markdown",
   "metadata": {},
   "source": [
    "### Image Resize"
   ]
  },
  {
   "cell_type": "markdown",
   "metadata": {},
   "source": [
    "- untuk melakukan resize image pada OpenCV diprkenalkan beberapa method berikut :\n",
    "    - `cv2.resize(img, (w_new, h_new))` : resize `img` ke ukuran `w_new` x `h_new`"
   ]
  },
  {
   "cell_type": "code",
   "execution_count": 49,
   "metadata": {},
   "outputs": [],
   "source": [
    "img = cv2.imread('lena.jpg')\n",
    "\n",
    "# resize image (new_widht, new_height)\n",
    "img_resize = cv2.resize(img, (320, 240))  \n",
    "\n",
    "# show image \n",
    "cv2.imshow('Original Image', img)\n",
    "cv2.imshow('Resized Image', img_resize)\n",
    "cv2.waitKey(0)\n",
    "cv2.destroyAllWindows()"
   ]
  },
  {
   "cell_type": "markdown",
   "metadata": {},
   "source": [
    "- resize dengan menggunakan rasio ukuran original (hitung manual)"
   ]
  },
  {
   "cell_type": "code",
   "execution_count": 59,
   "metadata": {},
   "outputs": [
    {
     "name": "stdin",
     "output_type": "stream",
     "text": [
      "masukan rasio resize [0 - 1.0] :  1.5\n"
     ]
    }
   ],
   "source": [
    "ratio = float(input(\"masukan rasio resize [0 - 1.0] : \"))\n",
    "\n",
    "img = cv2.imread('lena.jpg')\n",
    "h, w, c = img.shape\n",
    "\n",
    "width = int(w* ratio)\n",
    "height = int(h * ratio)\n",
    "\n",
    "# resize image (new_widht, new_height)\n",
    "img_resize = cv2.resize(img, (width, height))  \n",
    "\n",
    "# show image \n",
    "cv2.imshow('Original Image', img)\n",
    "cv2.imshow('Resized Image', img_resize)\n",
    "cv2.waitKey(0)\n",
    "cv2.destroyAllWindows()"
   ]
  },
  {
   "cell_type": "markdown",
   "metadata": {},
   "source": [
    "- resize dengan menggunakan rasio ukuran original (`fx`, `fy`)"
   ]
  },
  {
   "cell_type": "code",
   "execution_count": 65,
   "metadata": {},
   "outputs": [],
   "source": [
    "img = cv2.imread('lena.jpg')\n",
    "\n",
    "# resize image (new_widht, new_height)\n",
    "img_resize = cv2.resize(img, (0,0), fx=0.5, fy=0.5)  \n",
    "\n",
    "# show image \n",
    "cv2.imshow('Original Image', img)\n",
    "cv2.imshow('Resized Image', img_resize)\n",
    "cv2.waitKey(0)\n",
    "cv2.destroyAllWindows()"
   ]
  },
  {
   "cell_type": "markdown",
   "metadata": {},
   "source": [
    "- resize with **interpolation**\n",
    "- Interpolation parameter :\n",
    "    - `cv2.INTER_NEAREST` : This is using a nearest-neighbor interpolation to shrink an image.\n",
    "    - `cv2.INTER_LINEAR` : This is primarily used when larging is required (default).\n",
    "    - `cv2.INTER_AREA` : This is used when we need need to shrink an image.\n",
    "    - `cv2.INTER_CUBIC` : This is slow for larging image, but more efficient (higer quality)."
   ]
  },
  {
   "cell_type": "code",
   "execution_count": 81,
   "metadata": {},
   "outputs": [],
   "source": [
    "# ---------- shringking -------\n",
    "img = cv2.imread('apple.jpg')\n",
    "\n",
    "# resize image (new_widht, new_height)\n",
    "img_resize = cv2.resize(img, (0,0), fx=0.5, fy=0.5) \n",
    "img_resize_INTER_NEAREST = cv2.resize(img, (0,0), fx=0.5, fy=0.5, interpolation=cv2.INTER_NEAREST) \n",
    "\n",
    "# show image \n",
    "cv2.imshow('Original Image', img)\n",
    "cv2.imshow('INTER_LINEAR Resized Image', img_resize)\n",
    "cv2.imshow('INTER_NEAREST Resized Image', img_resize_INTER_NEAREST)\n",
    "cv2.waitKey(0)\n",
    "cv2.destroyAllWindows()"
   ]
  },
  {
   "cell_type": "code",
   "execution_count": 83,
   "metadata": {},
   "outputs": [],
   "source": [
    "# ---------- larging -------\n",
    "img = cv2.imread('logo-python.png')\n",
    "\n",
    "# resize image (new_widht, new_height)\n",
    "img_resize = cv2.resize(img, (0,0), fx=2.5, fy=2.5) \n",
    "img_resize_INTER_CUBIC = cv2.resize(img, (0,0), fx=2.5, fy=2.5, interpolation=cv2.INTER_CUBIC) \n",
    "img_resize_INTER_NEAREST = cv2.resize(img, (0,0), fx=2.5, fy=2.5, interpolation=cv2.INTER_NEAREST) \n",
    "img_resize_INTER_AREA = cv2.resize(img, (0,0), fx=2.5, fy=2.5, interpolation=cv2.INTER_AREA) \n",
    "\n",
    "# show image \n",
    "cv2.imshow('Original Image', img)\n",
    "cv2.imshow('INTER_LINEAR Resized Image', img_resize)\n",
    "cv2.imshow('INTER_CUBIC Resized Image', img_resize_INTER_CUBIC)\n",
    "cv2.imshow('INTER_NEAREST Resized Image', img_resize_INTER_NEAREST)\n",
    "cv2.imshow('INTER_AREA Resized Image', img_resize_INTER_AREA)\n",
    "cv2.waitKey(0)\n",
    "cv2.destroyAllWindows()"
   ]
  },
  {
   "cell_type": "markdown",
   "metadata": {},
   "source": [
    "- Resize in window using mouse event click"
   ]
  },
  {
   "cell_type": "code",
   "execution_count": 165,
   "metadata": {},
   "outputs": [],
   "source": [
    "import numpy as np\n",
    "\n",
    "windowName = \"Original Image\"\n",
    "is_resize = False\n",
    "\n",
    "image = cv2.imread('lena.jpg')\n",
    "h, w, c = image.shape\n",
    "y_end, x_end, last_y_end, last_x_end = h, w, h, w\n",
    "\n",
    "background = np.zeros((int(h*1.7), int(w*1.7), c)).astype(np.uint8)\n",
    "bg_h, bg_w, bg_c = background.shape\n",
    "\n",
    "def resize_image(event,x,y,flags,param):\n",
    "    \n",
    "    global x_end, y_end, is_resize, bg_h, bg_w\n",
    "    \n",
    "    # if the left mouse button clicked\n",
    "    if event == cv2.EVENT_LBUTTONDOWN:\n",
    "        x_end, y_end = x, y\n",
    "        is_resize = True\n",
    "\n",
    "    # Mouse is Moving\n",
    "    elif event == cv2.EVENT_MOUSEMOVE:\n",
    "        x_end, y_end = x, y\n",
    "        # set to max size background if x, y mouse larger than size background         \n",
    "        if x_end > bg_w :\n",
    "            x_end = bg_w\n",
    "        if y_end > bg_h :\n",
    "            y_end = bg_h\n",
    "\n",
    "    # if the left mouse button was released\n",
    "    elif event == cv2.EVENT_LBUTTONUP:\n",
    "        is_resize = False\n",
    "        \n",
    "cv2.namedWindow(windowName)\n",
    "cv2.setMouseCallback(windowName, resize_image) \n",
    "\n",
    "\n",
    "while True:\n",
    "    template = background.copy()\n",
    "    if is_resize:\n",
    "        template[:y_end, :x_end] = cv2.resize(image, (x_end, y_end))\n",
    "        last_y_end, last_x_end = y_end, x_end\n",
    "    else :\n",
    "        template[:last_y_end, :last_x_end] = cv2.resize(image, (last_x_end, last_y_end)) \n",
    "        \n",
    "    cv2.imshow(windowName, template)\n",
    "    if cv2.waitKey(1) == ord('q') :\n",
    "        break\n",
    "\n",
    "cv2.destroyAllWindows()\n"
   ]
  },
  {
   "cell_type": "markdown",
   "metadata": {},
   "source": [
    "___"
   ]
  },
  {
   "cell_type": "markdown",
   "metadata": {},
   "source": [
    "### Image Blending\n",
    "\n",
    "Image blending diformulasikan sebagai, \\\n",
    "$g(x)=(1−α)f0(x)+αf1(x)$ \\\n",
    "\\\n",
    "$f0$ merupakan gambar pertama, $f1$ merupakan gambar kedua, \\\n",
    "dan $α$ merupakan parameter *temporal cross-dissolve* antara kedua gambar, dimana α  bernilai 0→1.\n",
    "\n",
    "- method yang akan digunakan untuk melakukan image blending adalah `cv2.addWeighted(img1, alpha, img2, beta, gamma)`\n",
    "- dimana `beta = 1 - alpha`\n",
    "- dan `gamma` adalah konstanta untuk menambah atau mengurangi nilai pixel akhir hasil blending (0 - 255).\n",
    "- set `gamma` ke `0.0` untuk default."
   ]
  },
  {
   "cell_type": "code",
   "execution_count": 154,
   "metadata": {},
   "outputs": [
    {
     "name": "stdout",
     "output_type": "stream",
     "text": [
      " Simple Linear Blender\n",
      "-----------------------\n"
     ]
    },
    {
     "name": "stdin",
     "output_type": "stream",
     "text": [
      "Enter alpha [0.0-1.0] :  0.5\n"
     ]
    }
   ],
   "source": [
    "alpha = 0.5\n",
    "\n",
    "print(''' Simple Linear Blender\n",
    "-----------------------''')\n",
    "\n",
    "input_alpha = float(input(\"Enter alpha [0.0-1.0] : \"))\n",
    "\n",
    "if 0 <= alpha <= 1:\n",
    "    alpha = input_alpha\n",
    "\n",
    "img1 = cv2.imread('lena.jpg')\n",
    "img2 = cv2.imread('apple.jpg')\n",
    "    \n",
    "beta = (1.0 - alpha)\n",
    "blending_img = cv2.addWeighted(img1, alpha, img2, beta, 0.0)\n",
    "\n",
    "cv2.imshow('Blending Result', blending_img)\n",
    "cv2.waitKey(0)\n",
    "cv2.destroyAllWindows()"
   ]
  },
  {
   "cell_type": "markdown",
   "metadata": {},
   "source": [
    "- blend image with different size, using `cv2.resize()` -> strech"
   ]
  },
  {
   "cell_type": "code",
   "execution_count": 138,
   "metadata": {},
   "outputs": [
    {
     "name": "stdout",
     "output_type": "stream",
     "text": [
      " Simple Linear Blender\n",
      "-----------------------\n"
     ]
    },
    {
     "name": "stdin",
     "output_type": "stream",
     "text": [
      "Enter alpha [0.0-1.0] :  0.5\n"
     ]
    }
   ],
   "source": [
    "alpha = 0.5\n",
    "\n",
    "print(''' Simple Linear Blender\n",
    "-----------------------''')\n",
    "\n",
    "input_alpha = float(input(\"Enter alpha [0.0-1.0] : \"))\n",
    "\n",
    "if 0 <= alpha <= 1:\n",
    "    alpha = input_alpha\n",
    "\n",
    "img1 = cv2.imread('lena.jpg')\n",
    "h, w, c = img1.shape\n",
    "\n",
    "img2 = cv2.imread('pisang.jpg')\n",
    "img2 = cv2.resize(img2, (w, h))\n",
    "\n",
    "beta = (1.0 - alpha)\n",
    "blending_img = cv2.addWeighted(img1, alpha, img2, beta, 0.0)\n",
    "\n",
    "cv2.imshow('Blending Result', blending_img)\n",
    "cv2.waitKey(0)\n",
    "cv2.destroyAllWindows()"
   ]
  },
  {
   "cell_type": "markdown",
   "metadata": {},
   "source": [
    "- blend image with different size, using `cv2.resize()` -> fit window\n",
    "\n",
    "<img src=\"resource/blend_diffsize.png\" style=\"width:800px;\"></img>"
   ]
  },
  {
   "cell_type": "code",
   "execution_count": 136,
   "metadata": {},
   "outputs": [
    {
     "name": "stdout",
     "output_type": "stream",
     "text": [
      " Simple Linear Blender\n",
      "-----------------------\n"
     ]
    },
    {
     "name": "stdin",
     "output_type": "stream",
     "text": [
      "Enter alpha [0.0-1.0] :  0.4\n"
     ]
    }
   ],
   "source": [
    "alpha = 0.5\n",
    "\n",
    "print(''' Simple Linear Blender\n",
    "-----------------------''')\n",
    "\n",
    "input_alpha = float(input(\"Enter alpha [0.0-1.0] : \"))\n",
    "\n",
    "if 0 <= alpha <= 1:\n",
    "    alpha = input_alpha\n",
    "\n",
    "img1 = cv2.imread('lena.jpg')\n",
    "h1, w1, c1 = img1.shape\n",
    "\n",
    "img2 = cv2.imread('pisang.jpg')\n",
    "h2, w2, c2 = img2.shape\n",
    "\n",
    "frame_img = np.ones((h1, w1, c1)).astype(np.uint8)*255\n",
    "\n",
    "if h2 > w2 :\n",
    "    h = h1\n",
    "    w = int(w2*h1/h2)\n",
    "else :\n",
    "    w = w1\n",
    "    h = int(h2*w1/w2)\n",
    "    \n",
    "frame_img[:h,:w] = cv2.resize(img2, (w, h))\n",
    "\n",
    "beta = (1.0 - alpha)\n",
    "blending_img = cv2.addWeighted(img1, alpha, frame_img, beta, 0.0)\n",
    "\n",
    "cv2.imshow('Blending Result', blending_img)\n",
    "cv2.waitKey(0)\n",
    "cv2.destroyAllWindows()"
   ]
  },
  {
   "cell_type": "markdown",
   "metadata": {},
   "source": [
    "### Task\n",
    "- Create blending two image different size, position center\n",
    "\n",
    "<img src=\"resource/blend_center.png\" styles=\"width:400px;\"></img>"
   ]
  },
  {
   "cell_type": "code",
   "execution_count": 145,
   "metadata": {},
   "outputs": [],
   "source": [
    "# ------ jawaban -------\n",
    "#\n",
    "#\n",
    "#"
   ]
  },
  {
   "cell_type": "code",
   "execution_count": 164,
   "metadata": {},
   "outputs": [
    {
     "name": "stdout",
     "output_type": "stream",
     "text": [
      " Simple Linear Blender\n",
      "-----------------------\n"
     ]
    },
    {
     "name": "stdin",
     "output_type": "stream",
     "text": [
      "Enter alpha [0.0-1.0] :  0.5\n"
     ]
    }
   ],
   "source": [
    "alpha = 0.5\n",
    "\n",
    "print(''' Simple Linear Blender\n",
    "-----------------------''')\n",
    "\n",
    "input_alpha = float(input(\"Enter alpha [0.0-1.0] : \"))\n",
    "\n",
    "if 0 <= alpha <= 1:\n",
    "    alpha = input_alpha\n",
    "\n",
    "img1 = cv2.imread('lena.jpg')\n",
    "h1, w1, c1 = img1.shape\n",
    "\n",
    "img2 = cv2.imread('pisang.jpg')\n",
    "h2, w2, c2 = img2.shape\n",
    "\n",
    "frame_img = np.ones((h1, w1, c1)).astype(np.uint8)*255\n",
    "\n",
    "if h2 > w2 :\n",
    "    h = h1\n",
    "    w = int(w2*h/h2)\n",
    "else :\n",
    "    w = w1\n",
    "    h = int(h2*w/w2)\n",
    "    \n",
    "border_h = (h1 - h)//2 # penggunaan // akan menghasilkan pembagian bernilai bulat\n",
    "border_w = (w1 - w)//2 # penggunaan // akan menghasilkan pembagian bernilai bulat\n",
    "\n",
    "frame_img[border_h:border_h+h, border_w:border_w+w] = cv2.resize(img2, (w, h))\n",
    "\n",
    "beta = (1.0 - alpha)\n",
    "blending_img = cv2.addWeighted(img1, alpha, frame_img, beta, 0.0)\n",
    "\n",
    "cv2.imshow('Blending Result', blending_img)\n",
    "cv2.waitKey(0)\n",
    "cv2.destroyAllWindows()"
   ]
  },
  {
   "cell_type": "markdown",
   "metadata": {},
   "source": [
    "#### Menggunakan Trackbar pada OpenCV\n",
    "\n",
    "- Blend input parameter $α$ menggunakan trackbar slider\n",
    "\n",
    "- Untuk menggunakan trackar slider, diperkenalkan beberapa metode berikut :\n",
    "    - `cv2.createTrackbar(label, window_name, default_value, max_value, on_change_function)`\n",
    "    - `label` : label pada trackbar\n",
    "    - `window_name` : window name yang digunakan trackbar dan image\n",
    "    - `default_value` : nilai awal yang diset pada trackbar\n",
    "    - `max_value` : nilai maximum yang diset pada trackbar\n",
    "    - `on_change_function` : funtion yang akan dipanggil ketika nilai pada trackbar berubah"
   ]
  },
  {
   "cell_type": "code",
   "execution_count": 170,
   "metadata": {},
   "outputs": [],
   "source": [
    "alpha_max_value = 100\n",
    "alpha_default_value = 50\n",
    "\n",
    "title_window = 'Image Blending'\n",
    "\n",
    "def on_trackbar(val):\n",
    "    alpha = val / alpha_max_value\n",
    "    beta = ( 1.0 - alpha )\n",
    "    img_blend = cv2.addWeighted(img1, alpha, img2, beta, 0.0)\n",
    "    cv2.imshow(title_window, img_blend)\n",
    "    \n",
    "\n",
    "img1 = cv2.imread('lena.jpg')\n",
    "img2 = cv2.imread('apple.jpg')\n",
    "\n",
    "cv2.namedWindow(title_window)\n",
    "cv2.createTrackbar('alpha', title_window , alpha_default_value, alpha_max_value, on_trackbar)\n",
    "\n",
    "on_trackbar(0)\n",
    "cv2.waitKey(0)\n",
    "cv2.destroyAllWindows()"
   ]
  },
  {
   "cell_type": "markdown",
   "metadata": {},
   "source": [
    "#### Overlay Transparent Image \n",
    "\n",
    "- Contoh penerapan overlay transparent "
   ]
  },
  {
   "cell_type": "markdown",
   "metadata": {},
   "source": [
    "<img src=\"resource/draw opencv.jpg\" style=\"width:500px\"></img>"
   ]
  },
  {
   "cell_type": "code",
   "execution_count": 154,
   "metadata": {},
   "outputs": [
    {
     "name": "stdin",
     "output_type": "stream",
     "text": [
      "masukan nilai alpha [0 - 1.0]: 0.2\n"
     ]
    }
   ],
   "source": [
    "alpha = float(input(\"masukan nilai alpha [0 - 1.0]:\"))\n",
    "\n",
    "img = cv2.imread('lena.jpg')\n",
    "\n",
    "# create overlay matrix\n",
    "overlay = np.zeros((50, 300, 3)).astype(np.uint8)\n",
    "overlay[:,:,0] = 255 # set `B` layer to 255 (color blue)\n",
    "h, w, c= overlay.shape\n",
    "\n",
    "img_blend = cv2.addWeighted(img[10: 10+h,10:10+w], 1, overlay, alpha, 0.0)\n",
    "\n",
    "img[10: 10+h,10:10+w] = img_blend\n",
    "\n",
    "cv2.imshow(\"Overlay Image\", img)\n",
    "cv2.waitKey(0)\n",
    "cv2.destroyAllWindows()"
   ]
  },
  {
   "cell_type": "markdown",
   "metadata": {},
   "source": [
    "___"
   ]
  },
  {
   "cell_type": "markdown",
   "metadata": {},
   "source": [
    "### Image Color Conversion\n",
    "\n",
    "- Diperkenalkan method `cv2.cvtColor()` untuk color conversion pada OpenCV\n",
    "\n",
    "- Berikut adalah parameter convert color yang dapat digunakan :\n",
    "    - convert BGR <--> RGB \\\n",
    "    `cv2.COLOR_BGR2RGB` \\\n",
    "    `cv2.COLOR_RGB2BGR`\n",
    "\n",
    "    - convert BGR <--> HSV \\\n",
    "    `cv2.COLOR_BGR2HSV` \\\n",
    "    `cv2.COLOR_HSV2RGB`\n",
    "\n",
    "    - convert BGR <--> BGRA \\\n",
    "    `cv2.COLOR_BGR2BGRA` \\\n",
    "    `cv2.COLOR_BGRA2BGR`\n",
    "\n",
    "    - convert RGB <--> RGBA \\\n",
    "    `cv2.COLOR_RGB2BGRA` \\\n",
    "    `cv2.COLOR_RGBA2BGR`\n",
    "\n",
    "    - convert BGR <--> GRAY \\\n",
    "    `cv2.COLOR_BGR2GRAY` \\\n",
    "    `cv2.COLOR_GRAY2RGB`"
   ]
  },
  {
   "cell_type": "code",
   "execution_count": 2,
   "metadata": {},
   "outputs": [],
   "source": [
    "# convert BGR to Gray\n",
    "img = cv2.imread(\"lena.jpg\")\n",
    "\n",
    "img_gray = cv2.cvtColor(img, cv2.COLOR_BGR2GRAY)\n",
    "\n",
    "cv2.imshow('Original Image', img)\n",
    "cv2.imshow('Grayscale Image', img_gray)\n",
    "cv2.waitKey(0)\n",
    "cv2.destroyAllWindows()"
   ]
  },
  {
   "cell_type": "code",
   "execution_count": 3,
   "metadata": {},
   "outputs": [],
   "source": [
    "# convert BGR to RGB\n",
    "img = cv2.imread(\"lena.jpg\")\n",
    "\n",
    "img_rgb = cv2.cvtColor(img, cv2.COLOR_BGR2RGB)\n",
    "\n",
    "cv2.imshow('Original Image', img)\n",
    "cv2.imshow('RGB Image', img_rgb)\n",
    "cv2.waitKey(0)\n",
    "cv2.destroyAllWindows()"
   ]
  },
  {
   "cell_type": "code",
   "execution_count": 124,
   "metadata": {},
   "outputs": [],
   "source": [
    "# convert BGR to BGRA\n",
    "img = cv2.imread(\"lena.jpg\")\n",
    "\n",
    "img_bgra = cv2.cvtColor(img, cv2.COLOR_BGR2BGRA)\n",
    "\n",
    "cv2.imshow('Original Image', img)\n",
    "cv2.imshow('BGRA Image', img_bgra)\n",
    "cv2.waitKey(0)\n",
    "cv2.destroyAllWindows()"
   ]
  },
  {
   "cell_type": "code",
   "execution_count": 125,
   "metadata": {},
   "outputs": [
    {
     "data": {
      "text/plain": [
       "(344, 354, 4)"
      ]
     },
     "execution_count": 125,
     "metadata": {},
     "output_type": "execute_result"
    }
   ],
   "source": [
    "img_bgra.shape"
   ]
  },
  {
   "cell_type": "code",
   "execution_count": 126,
   "metadata": {},
   "outputs": [
    {
     "data": {
      "text/plain": [
       "array([ 82,  73, 183, 255], dtype=uint8)"
      ]
     },
     "execution_count": 126,
     "metadata": {},
     "output_type": "execute_result"
    }
   ],
   "source": [
    "img_bgra[0, 0] # B, G, R, A"
   ]
  },
  {
   "cell_type": "markdown",
   "metadata": {},
   "source": [
    "- `A` pada `BGRA` merupakan transparency level (0 - 255)"
   ]
  },
  {
   "cell_type": "code",
   "execution_count": 127,
   "metadata": {},
   "outputs": [],
   "source": [
    "# set layer `A` menjadi 127 ( transparency 50%) 127 ~ 1/2 (255)\n",
    "img_bgra[:,:, 3] = 127"
   ]
  },
  {
   "cell_type": "code",
   "execution_count": 128,
   "metadata": {},
   "outputs": [
    {
     "data": {
      "text/plain": [
       "array([ 82,  73, 183, 127], dtype=uint8)"
      ]
     },
     "execution_count": 128,
     "metadata": {},
     "output_type": "execute_result"
    }
   ],
   "source": [
    "img_bgra[0, 0] # B, G, R, A"
   ]
  },
  {
   "cell_type": "code",
   "execution_count": 129,
   "metadata": {},
   "outputs": [],
   "source": [
    "cv2.imshow('BGRA Image Edit', img_bgra)\n",
    "cv2.imshow('Original Image', img)\n",
    "cv2.waitKey(0)\n",
    "cv2.destroyAllWindows()"
   ]
  },
  {
   "cell_type": "markdown",
   "metadata": {},
   "source": [
    "- Saat di preview tidak terlihat perbedaanya,\n",
    "- Save untuk melihat hasil tranparency\n",
    "- Hanya bisa dilihat hasil tranparency nya dalam format (.png)"
   ]
  },
  {
   "cell_type": "code",
   "execution_count": 122,
   "metadata": {},
   "outputs": [
    {
     "data": {
      "text/plain": [
       "True"
      ]
     },
     "execution_count": 122,
     "metadata": {},
     "output_type": "execute_result"
    }
   ],
   "source": [
    "cv2.imwrite(\"logo-python-transparency.png\", img_bgra)"
   ]
  },
  {
   "cell_type": "code",
   "execution_count": 123,
   "metadata": {},
   "outputs": [
    {
     "data": {
      "text/plain": [
       "True"
      ]
     },
     "execution_count": 123,
     "metadata": {},
     "output_type": "execute_result"
    }
   ],
   "source": [
    "cv2.imwrite(\"logo-python-transparency.jpg\", img_bgra)"
   ]
  },
  {
   "cell_type": "code",
   "execution_count": 130,
   "metadata": {},
   "outputs": [
    {
     "data": {
      "text/plain": [
       "True"
      ]
     },
     "execution_count": 130,
     "metadata": {},
     "output_type": "execute_result"
    }
   ],
   "source": [
    "cv2.imwrite(\"lena.png\", img_bgra)"
   ]
  },
  {
   "cell_type": "markdown",
   "metadata": {},
   "source": [
    "### Pekerjaan Rumah (PR)\n",
    "- Buatlah Overlay warna putih dengan **alpha input dari trackbar** dan **size overlay dari mouse event click**,\n"
   ]
  },
  {
   "cell_type": "markdown",
   "metadata": {},
   "source": [
    "<img src=\"resource/trackbar_and_overlay.gif\" style=\"width:400px\"></img>"
   ]
  },
  {
   "cell_type": "code",
   "execution_count": 189,
   "metadata": {},
   "outputs": [],
   "source": [
    "# --------- Jawaban ----------\n",
    "#\n",
    "#\n",
    "#"
   ]
  },
  {
   "cell_type": "code",
   "execution_count": 194,
   "metadata": {},
   "outputs": [],
   "source": [
    "import numpy as np\n",
    "\n",
    "windowName = \"Custom Overlay\"\n",
    "is_resize = False\n",
    "is_trackbar_on_change = False\n",
    "\n",
    "alpha_max_value = 100\n",
    "alpha_default_value = 50\n",
    "alpha = 0.5\n",
    "\n",
    "image = cv2.imread('lena.jpg')\n",
    "h, w, c = image.shape\n",
    "\n",
    "y_start, x_start, y_end, x_end = 0, 0, 0, 0\n",
    "last_y_start, last_x_start, last_y_end, last_x_end = 0, 0, 0, 0\n",
    "\n",
    "def resize_overlay(event,x,y,flags,param):\n",
    "    \n",
    "    global y_start, x_start, y_end, x_end, is_resize\n",
    "    \n",
    "    # if the left mouse button clicked\n",
    "    if event == cv2.EVENT_LBUTTONDOWN:\n",
    "        x_start, y_start, x_end, y_end = x, y, x, y\n",
    "        is_resize = True\n",
    "\n",
    "    # Mouse is Moving\n",
    "    elif event == cv2.EVENT_MOUSEMOVE:\n",
    "        x_end, y_end = x, y\n",
    "        # set to max size background if x, y mouse larger than size background         \n",
    "        if x_end > w :\n",
    "            x_end = w\n",
    "        if y_end > h :\n",
    "            y_end = h\n",
    "\n",
    "    # if the left mouse button was released\n",
    "    elif event == cv2.EVENT_LBUTTONUP:\n",
    "        x_end, y_end = x, y\n",
    "        is_resize = False\n",
    "        \n",
    "cv2.namedWindow(windowName)\n",
    "cv2.setMouseCallback(windowName, resize_overlay) \n",
    "\n",
    "def on_trackbar(val):\n",
    "    global alpha, is_trackbar_on_change\n",
    "    is_trackbar_on_change = True\n",
    "    alpha = val / alpha_max_value\n",
    "    \n",
    "cv2.createTrackbar('alpha', windowName , alpha_default_value, alpha_max_value, on_trackbar)\n",
    "\n",
    "def create_overlay(template, y0, x0, y1, x1):\n",
    "    overlay = np.zeros((y1 - y0, x1 - x0, 3)).astype(np.uint8)\n",
    "    overlay[:,:,:] = 255 # set `BGR` layer to 255 (color white)\n",
    "\n",
    "    overlay_transparency = cv2.addWeighted(template[y0:y1, x0:x1], 1, overlay, alpha, 0.0)\n",
    "\n",
    "    template[y0:y1, x0:x1] = overlay_transparency\n",
    "\n",
    "    return template\n",
    "    \n",
    "template = image.copy()\n",
    "while True:\n",
    "    \n",
    "    if is_resize:\n",
    "        template = image.copy()\n",
    "        \n",
    "        template = create_overlay(template, y_start, x_start, y_end, x_end)\n",
    "        \n",
    "        last_y_start, last_x_start, last_y_end, last_x_end = y_start, x_start, y_end, x_end\n",
    "        \n",
    "    if is_trackbar_on_change :\n",
    "        template = image.copy()\n",
    "        \n",
    "        template = create_overlay(template, last_y_start, last_x_start, last_y_end, last_x_end)\n",
    "          \n",
    "        is_trackbar_on_change = False\n",
    "        \n",
    "    cv2.imshow(windowName, template)\n",
    "    if cv2.waitKey(1) == ord('q') :\n",
    "        break\n",
    "\n",
    "cv2.destroyAllWindows()\n"
   ]
  },
  {
   "cell_type": "code",
   "execution_count": null,
   "metadata": {},
   "outputs": [],
   "source": []
  }
 ],
 "metadata": {
  "kernelspec": {
   "display_name": "Python [conda env:opencv_env]",
   "language": "python",
   "name": "conda-env-opencv_env-py"
  },
  "language_info": {
   "codemirror_mode": {
    "name": "ipython",
    "version": 3
   },
   "file_extension": ".py",
   "mimetype": "text/x-python",
   "name": "python",
   "nbconvert_exporter": "python",
   "pygments_lexer": "ipython3",
   "version": "3.8.5"
  }
 },
 "nbformat": 4,
 "nbformat_minor": 4
}
