{
 "cells": [
  {
   "cell_type": "code",
   "execution_count": null,
   "metadata": {},
   "outputs": [],
   "source": [
    "import os\n",
    "import cv2 \n",
    "import numpy as np\n",
    "import matplotlib.pyplot as plt"
   ]
  },
  {
   "cell_type": "markdown",
   "metadata": {},
   "source": [
    "### Add New Face Data\n",
    "\n",
    "- colect data"
   ]
  },
  {
   "cell_type": "code",
   "execution_count": null,
   "metadata": {},
   "outputs": [],
   "source": [
    "dataset_folder = \"lfw_dataset/\"\n",
    "\n",
    "class_name = input(\"Input Class Name : \") # Contoh : Jhon_Doe\n",
    "class_name.replace(\" \", \"_\") #replace whitespace with underscore\n",
    "\n",
    "n_sample = int(input(\"Number of sample : \"))\n",
    "\n",
    "if not os.path.exists(dataset_folder + class_name):\n",
    "    os.mkdir(dataset_folder + class_name)\n",
    "    print(\"[INFO] folder %s created!\" % class_name)\n",
    "else :\n",
    "    print(\"[INFO] folder %s already exist!\" % class_name)"
   ]
  },
  {
   "cell_type": "code",
   "execution_count": null,
   "metadata": {
    "scrolled": true
   },
   "outputs": [],
   "source": [
    "cap = cv2.VideoCapture(0)\n",
    "    \n",
    "i = 0\n",
    "while cap.isOpened():\n",
    "    ret, frame = cap.read()\n",
    "    \n",
    "    if ret :\n",
    "        cv2.imshow(\"Capture Photo\", frame)\n",
    "        filename = dataset_folder + \"%s/%s_%04d.jpg\" %  (class_name, class_name, i)\n",
    "        cv2.imwrite(filename, frame)\n",
    "        print(\"[INFO] file %s created!\" % filename)\n",
    "        \n",
    "        if cv2.waitKey(200) == ord('q') or i == (n_sample - 1):\n",
    "            break\n",
    "        i += 1    \n",
    "        \n",
    "cap.release()\n",
    "cv2.destroyAllWindows()"
   ]
  },
  {
   "cell_type": "markdown",
   "metadata": {},
   "source": [
    "- check dataset"
   ]
  },
  {
   "cell_type": "code",
   "execution_count": null,
   "metadata": {
    "scrolled": true
   },
   "outputs": [],
   "source": [
    "os.listdir(dataset_folder + class_name)"
   ]
  },
  {
   "cell_type": "code",
   "execution_count": null,
   "metadata": {},
   "outputs": [],
   "source": []
  }
 ],
 "metadata": {
  "kernelspec": {
   "display_name": "Python [conda env:opencv_env]",
   "language": "python",
   "name": "conda-env-opencv_env-py"
  },
  "language_info": {
   "codemirror_mode": {
    "name": "ipython",
    "version": 3
   },
   "file_extension": ".py",
   "mimetype": "text/x-python",
   "name": "python",
   "nbconvert_exporter": "python",
   "pygments_lexer": "ipython3",
   "version": "3.8.6"
  }
 },
 "nbformat": 4,
 "nbformat_minor": 4
}
