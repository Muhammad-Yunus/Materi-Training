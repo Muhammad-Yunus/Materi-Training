{
 "cells": [
  {
   "cell_type": "markdown",
   "metadata": {},
   "source": [
    "- Intro to SQL Database \n",
    "- Intro to SQL Lite\n",
    "- SQL Lite Interface in Python\n",
    "    - Create database\n",
    "    - Create Table\n",
    "    - Insert Data\n",
    "    - Update Data\n",
    "    - Delete Data"
   ]
  },
  {
   "cell_type": "markdown",
   "metadata": {},
   "source": [
    "What is SQL?\n",
    "- SQL stands for Structured Query Language\n",
    "- SQL lets you access and manipulate databases\n",
    "- SQL became a standard of the American National Standards Institute (ANSI) in 1986, and of the International Organization for Standardization (ISO) in 1987\n",
    "\n",
    "What Can SQL do?\n",
    "- SQL can execute queries against a database\n",
    "- SQL can retrieve data from a database\n",
    "- SQL can insert records in a database\n",
    "- SQL can update records in a database\n",
    "- SQL can delete records from a database\n",
    "- SQL can create new databases\n",
    "- SQL can create new tables in a database\n",
    "- SQL can create stored procedures in a database\n",
    "- SQL can create views in a database\n",
    "- SQL can set permissions on tables, procedures, and views\n",
    "![](resource/database.png)\n",
    "\n",
    "What is RDBMS?\n",
    "- RDBMS stands for Relational Database Management System.\n",
    "- RDBMS is the basis for SQL, and for all modern database systems such as MS SQL Server, IBM DB2, Oracle, MySQL, and Microsoft Access.\n",
    "- The data in RDBMS is stored in database objects called tables. A table is a collection of related data entries and it consists of columns and rows.\n",
    "\n",
    "More info : [https://www.w3schools.com/sql/sql_intro.asp](https://www.w3schools.com/sql/sql_intro.asp)"
   ]
  },
  {
   "cell_type": "markdown",
   "metadata": {},
   "source": [
    "### SQL Lite"
   ]
  },
  {
   "cell_type": "markdown",
   "metadata": {},
   "source": [
    "- Download SQL Lite Studio \n",
    "    - https://sqlitestudio.pl/"
   ]
  },
  {
   "cell_type": "code",
   "execution_count": 2,
   "metadata": {},
   "outputs": [],
   "source": [
    "import sqlite3"
   ]
  },
  {
   "cell_type": "markdown",
   "metadata": {},
   "source": [
    "-  you must first create a Connection object that represents the database. for example `'example.db'`"
   ]
  },
  {
   "cell_type": "code",
   "execution_count": 25,
   "metadata": {},
   "outputs": [],
   "source": [
    "conn = sqlite3.connect('attendance.db')"
   ]
  },
  {
   "cell_type": "markdown",
   "metadata": {},
   "source": [
    "- create a Cursor object "
   ]
  },
  {
   "cell_type": "code",
   "execution_count": 26,
   "metadata": {},
   "outputs": [],
   "source": [
    "c = conn.cursor()"
   ]
  },
  {
   "cell_type": "markdown",
   "metadata": {},
   "source": [
    "- select data"
   ]
  },
  {
   "cell_type": "code",
   "execution_count": 30,
   "metadata": {},
   "outputs": [
    {
     "data": {
      "text/plain": [
       "<sqlite3.Cursor at 0x1c267a85260>"
      ]
     },
     "execution_count": 30,
     "metadata": {},
     "output_type": "execute_result"
    }
   ],
   "source": [
    "c.execute(    \n",
    "    \"\"\"SELECT Id,\n",
    "               Name,\n",
    "               TimeIn,\n",
    "               TimeOut,\n",
    "               Date\n",
    "          FROM daily_attendance;\"\"\")"
   ]
  },
  {
   "cell_type": "code",
   "execution_count": 31,
   "metadata": {},
   "outputs": [
    {
     "data": {
      "text/plain": [
       "[(1, 'Yunus Update 3', '08:30:00', '17:30:00', '19-01-2021')]"
      ]
     },
     "execution_count": 31,
     "metadata": {},
     "output_type": "execute_result"
    }
   ],
   "source": [
    "c.fetchall()"
   ]
  },
  {
   "cell_type": "markdown",
   "metadata": {},
   "source": [
    "- update data"
   ]
  },
  {
   "cell_type": "code",
   "execution_count": 29,
   "metadata": {},
   "outputs": [
    {
     "data": {
      "text/plain": [
       "<sqlite3.Cursor at 0x1c267a85260>"
      ]
     },
     "execution_count": 29,
     "metadata": {},
     "output_type": "execute_result"
    }
   ],
   "source": [
    "c.execute(    \n",
    "    \"\"\"UPDATE daily_attendance\n",
    "           SET Name = 'Yunus Update 3'\n",
    "         WHERE Id = 1 ;\"\"\")"
   ]
  },
  {
   "cell_type": "code",
   "execution_count": 23,
   "metadata": {},
   "outputs": [],
   "source": [
    "# Save (commit) the changes\n",
    "conn.commit()\n",
    "\n",
    "# We can also close the connection if we are done with it.\n",
    "# Just be sure any changes have been committed or they will be lost.\n",
    "conn.close()"
   ]
  },
  {
   "cell_type": "markdown",
   "metadata": {},
   "source": [
    "- delete data"
   ]
  },
  {
   "cell_type": "code",
   "execution_count": 33,
   "metadata": {},
   "outputs": [
    {
     "data": {
      "text/plain": [
       "<sqlite3.Cursor at 0x1c267a85260>"
      ]
     },
     "execution_count": 33,
     "metadata": {},
     "output_type": "execute_result"
    }
   ],
   "source": [
    "c.execute(    \n",
    "    \"\"\"DELETE FROM daily_attendance\n",
    "         WHERE Id = 1 ;\"\"\")"
   ]
  },
  {
   "cell_type": "code",
   "execution_count": 34,
   "metadata": {},
   "outputs": [],
   "source": [
    "conn.commit()\n",
    "conn.close()"
   ]
  },
  {
   "cell_type": "code",
   "execution_count": null,
   "metadata": {},
   "outputs": [],
   "source": []
  }
 ],
 "metadata": {
  "kernelspec": {
   "display_name": "Python [conda env:opencv_env]",
   "language": "python",
   "name": "conda-env-opencv_env-py"
  },
  "language_info": {
   "codemirror_mode": {
    "name": "ipython",
    "version": 3
   },
   "file_extension": ".py",
   "mimetype": "text/x-python",
   "name": "python",
   "nbconvert_exporter": "python",
   "pygments_lexer": "ipython3",
   "version": "3.8.6"
  }
 },
 "nbformat": 4,
 "nbformat_minor": 4
}
