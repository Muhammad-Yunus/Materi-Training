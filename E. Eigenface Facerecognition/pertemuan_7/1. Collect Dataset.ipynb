{
 "cells": [
  {
   "cell_type": "code",
   "execution_count": 1,
   "metadata": {},
   "outputs": [],
   "source": [
    "import os\n",
    "import cv2 \n",
    "import numpy as np\n",
    "import matplotlib.pyplot as plt"
   ]
  },
  {
   "cell_type": "markdown",
   "metadata": {},
   "source": [
    "### Add New Face Data\n",
    "\n",
    "- colect data"
   ]
  },
  {
   "cell_type": "code",
   "execution_count": 2,
   "metadata": {},
   "outputs": [
    {
     "name": "stdin",
     "output_type": "stream",
     "text": [
      "Input Class Name :  Yunus\n",
      "Number of sample :  70\n"
     ]
    },
    {
     "name": "stdout",
     "output_type": "stream",
     "text": [
      "[INFO] folder Yunus already exist!\n"
     ]
    }
   ],
   "source": [
    "dataset_folder = \"lfw_dataset/\"\n",
    "\n",
    "class_name = input(\"Input Class Name : \") # Contoh : Jhon_Doe\n",
    "class_name.replace(\" \", \"_\") #replace whitespace with underscore\n",
    "\n",
    "n_sample = int(input(\"Number of sample : \"))\n",
    "\n",
    "if not os.path.exists(dataset_folder + class_name):\n",
    "    os.mkdir(dataset_folder + class_name)\n",
    "    print(\"[INFO] folder %s created!\" % class_name)\n",
    "else :\n",
    "    print(\"[INFO] folder %s already exist!\" % class_name)"
   ]
  },
  {
   "cell_type": "code",
   "execution_count": 3,
   "metadata": {},
   "outputs": [
    {
     "name": "stdout",
     "output_type": "stream",
     "text": [
      "[INFO] file lfw_dataset/Yunus/Yunus_0000.jpg created!\n",
      "[INFO] file lfw_dataset/Yunus/Yunus_0001.jpg created!\n",
      "[INFO] file lfw_dataset/Yunus/Yunus_0002.jpg created!\n",
      "[INFO] file lfw_dataset/Yunus/Yunus_0003.jpg created!\n",
      "[INFO] file lfw_dataset/Yunus/Yunus_0004.jpg created!\n",
      "[INFO] file lfw_dataset/Yunus/Yunus_0005.jpg created!\n",
      "[INFO] file lfw_dataset/Yunus/Yunus_0006.jpg created!\n",
      "[INFO] file lfw_dataset/Yunus/Yunus_0007.jpg created!\n",
      "[INFO] file lfw_dataset/Yunus/Yunus_0008.jpg created!\n",
      "[INFO] file lfw_dataset/Yunus/Yunus_0009.jpg created!\n",
      "[INFO] file lfw_dataset/Yunus/Yunus_0010.jpg created!\n",
      "[INFO] file lfw_dataset/Yunus/Yunus_0011.jpg created!\n",
      "[INFO] file lfw_dataset/Yunus/Yunus_0012.jpg created!\n",
      "[INFO] file lfw_dataset/Yunus/Yunus_0013.jpg created!\n",
      "[INFO] file lfw_dataset/Yunus/Yunus_0014.jpg created!\n",
      "[INFO] file lfw_dataset/Yunus/Yunus_0015.jpg created!\n",
      "[INFO] file lfw_dataset/Yunus/Yunus_0016.jpg created!\n",
      "[INFO] file lfw_dataset/Yunus/Yunus_0017.jpg created!\n",
      "[INFO] file lfw_dataset/Yunus/Yunus_0018.jpg created!\n",
      "[INFO] file lfw_dataset/Yunus/Yunus_0019.jpg created!\n",
      "[INFO] file lfw_dataset/Yunus/Yunus_0020.jpg created!\n",
      "[INFO] file lfw_dataset/Yunus/Yunus_0021.jpg created!\n",
      "[INFO] file lfw_dataset/Yunus/Yunus_0022.jpg created!\n",
      "[INFO] file lfw_dataset/Yunus/Yunus_0023.jpg created!\n",
      "[INFO] file lfw_dataset/Yunus/Yunus_0024.jpg created!\n",
      "[INFO] file lfw_dataset/Yunus/Yunus_0025.jpg created!\n",
      "[INFO] file lfw_dataset/Yunus/Yunus_0026.jpg created!\n",
      "[INFO] file lfw_dataset/Yunus/Yunus_0027.jpg created!\n",
      "[INFO] file lfw_dataset/Yunus/Yunus_0028.jpg created!\n",
      "[INFO] file lfw_dataset/Yunus/Yunus_0029.jpg created!\n",
      "[INFO] file lfw_dataset/Yunus/Yunus_0030.jpg created!\n",
      "[INFO] file lfw_dataset/Yunus/Yunus_0031.jpg created!\n",
      "[INFO] file lfw_dataset/Yunus/Yunus_0032.jpg created!\n",
      "[INFO] file lfw_dataset/Yunus/Yunus_0033.jpg created!\n",
      "[INFO] file lfw_dataset/Yunus/Yunus_0034.jpg created!\n",
      "[INFO] file lfw_dataset/Yunus/Yunus_0035.jpg created!\n",
      "[INFO] file lfw_dataset/Yunus/Yunus_0036.jpg created!\n",
      "[INFO] file lfw_dataset/Yunus/Yunus_0037.jpg created!\n",
      "[INFO] file lfw_dataset/Yunus/Yunus_0038.jpg created!\n",
      "[INFO] file lfw_dataset/Yunus/Yunus_0039.jpg created!\n",
      "[INFO] file lfw_dataset/Yunus/Yunus_0040.jpg created!\n",
      "[INFO] file lfw_dataset/Yunus/Yunus_0041.jpg created!\n",
      "[INFO] file lfw_dataset/Yunus/Yunus_0042.jpg created!\n",
      "[INFO] file lfw_dataset/Yunus/Yunus_0043.jpg created!\n",
      "[INFO] file lfw_dataset/Yunus/Yunus_0044.jpg created!\n",
      "[INFO] file lfw_dataset/Yunus/Yunus_0045.jpg created!\n",
      "[INFO] file lfw_dataset/Yunus/Yunus_0046.jpg created!\n",
      "[INFO] file lfw_dataset/Yunus/Yunus_0047.jpg created!\n",
      "[INFO] file lfw_dataset/Yunus/Yunus_0048.jpg created!\n",
      "[INFO] file lfw_dataset/Yunus/Yunus_0049.jpg created!\n",
      "[INFO] file lfw_dataset/Yunus/Yunus_0050.jpg created!\n",
      "[INFO] file lfw_dataset/Yunus/Yunus_0051.jpg created!\n",
      "[INFO] file lfw_dataset/Yunus/Yunus_0052.jpg created!\n",
      "[INFO] file lfw_dataset/Yunus/Yunus_0053.jpg created!\n",
      "[INFO] file lfw_dataset/Yunus/Yunus_0054.jpg created!\n",
      "[INFO] file lfw_dataset/Yunus/Yunus_0055.jpg created!\n",
      "[INFO] file lfw_dataset/Yunus/Yunus_0056.jpg created!\n",
      "[INFO] file lfw_dataset/Yunus/Yunus_0057.jpg created!\n",
      "[INFO] file lfw_dataset/Yunus/Yunus_0058.jpg created!\n",
      "[INFO] file lfw_dataset/Yunus/Yunus_0059.jpg created!\n",
      "[INFO] file lfw_dataset/Yunus/Yunus_0060.jpg created!\n",
      "[INFO] file lfw_dataset/Yunus/Yunus_0061.jpg created!\n",
      "[INFO] file lfw_dataset/Yunus/Yunus_0062.jpg created!\n",
      "[INFO] file lfw_dataset/Yunus/Yunus_0063.jpg created!\n",
      "[INFO] file lfw_dataset/Yunus/Yunus_0064.jpg created!\n",
      "[INFO] file lfw_dataset/Yunus/Yunus_0065.jpg created!\n",
      "[INFO] file lfw_dataset/Yunus/Yunus_0066.jpg created!\n",
      "[INFO] file lfw_dataset/Yunus/Yunus_0067.jpg created!\n",
      "[INFO] file lfw_dataset/Yunus/Yunus_0068.jpg created!\n",
      "[INFO] file lfw_dataset/Yunus/Yunus_0069.jpg created!\n"
     ]
    }
   ],
   "source": [
    "cap = cv2.VideoCapture(0)\n",
    "    \n",
    "i = 0\n",
    "while cap.isOpened():\n",
    "    ret, frame = cap.read()\n",
    "    \n",
    "    if ret :\n",
    "        cv2.imshow(\"Capture Photo\", frame)\n",
    "        filename = dataset_folder + \"%s/%s_%04d.jpg\" %  (class_name, class_name, i)\n",
    "        cv2.imwrite(filename, frame)\n",
    "        print(\"[INFO] file %s created!\" % filename)\n",
    "        \n",
    "        if cv2.waitKey(200) == ord('q') or i == (n_sample - 1): #hold 0.2 detik\n",
    "            break\n",
    "        i += 1    \n",
    "        \n",
    "cap.release()\n",
    "cv2.destroyAllWindows()"
   ]
  },
  {
   "cell_type": "markdown",
   "metadata": {},
   "source": [
    "- check dataset"
   ]
  },
  {
   "cell_type": "code",
   "execution_count": 5,
   "metadata": {
    "scrolled": true
   },
   "outputs": [
    {
     "data": {
      "text/plain": [
       "['Yunus_0000.jpg',\n",
       " 'Yunus_0001.jpg',\n",
       " 'Yunus_0002.jpg',\n",
       " 'Yunus_0003.jpg',\n",
       " 'Yunus_0004.jpg',\n",
       " 'Yunus_0005.jpg',\n",
       " 'Yunus_0006.jpg',\n",
       " 'Yunus_0007.jpg',\n",
       " 'Yunus_0008.jpg',\n",
       " 'Yunus_0009.jpg',\n",
       " 'Yunus_0010.jpg',\n",
       " 'Yunus_0011.jpg',\n",
       " 'Yunus_0012.jpg',\n",
       " 'Yunus_0013.jpg',\n",
       " 'Yunus_0014.jpg',\n",
       " 'Yunus_0015.jpg',\n",
       " 'Yunus_0016.jpg',\n",
       " 'Yunus_0017.jpg',\n",
       " 'Yunus_0018.jpg',\n",
       " 'Yunus_0019.jpg',\n",
       " 'Yunus_0020.jpg',\n",
       " 'Yunus_0021.jpg',\n",
       " 'Yunus_0022.jpg',\n",
       " 'Yunus_0023.jpg',\n",
       " 'Yunus_0024.jpg',\n",
       " 'Yunus_0025.jpg',\n",
       " 'Yunus_0026.jpg',\n",
       " 'Yunus_0027.jpg',\n",
       " 'Yunus_0028.jpg',\n",
       " 'Yunus_0029.jpg',\n",
       " 'Yunus_0030.jpg',\n",
       " 'Yunus_0031.jpg',\n",
       " 'Yunus_0032.jpg',\n",
       " 'Yunus_0033.jpg',\n",
       " 'Yunus_0034.jpg',\n",
       " 'Yunus_0035.jpg',\n",
       " 'Yunus_0036.jpg',\n",
       " 'Yunus_0037.jpg',\n",
       " 'Yunus_0038.jpg',\n",
       " 'Yunus_0039.jpg',\n",
       " 'Yunus_0040.jpg',\n",
       " 'Yunus_0041.jpg',\n",
       " 'Yunus_0042.jpg',\n",
       " 'Yunus_0043.jpg',\n",
       " 'Yunus_0044.jpg',\n",
       " 'Yunus_0045.jpg',\n",
       " 'Yunus_0046.jpg',\n",
       " 'Yunus_0047.jpg',\n",
       " 'Yunus_0048.jpg',\n",
       " 'Yunus_0049.jpg',\n",
       " 'Yunus_0050.jpg',\n",
       " 'Yunus_0051.jpg',\n",
       " 'Yunus_0052.jpg',\n",
       " 'Yunus_0053.jpg',\n",
       " 'Yunus_0054.jpg',\n",
       " 'Yunus_0055.jpg',\n",
       " 'Yunus_0056.jpg',\n",
       " 'Yunus_0057.jpg',\n",
       " 'Yunus_0058.jpg',\n",
       " 'Yunus_0059.jpg',\n",
       " 'Yunus_0060.jpg',\n",
       " 'Yunus_0061.jpg',\n",
       " 'Yunus_0062.jpg',\n",
       " 'Yunus_0063.jpg',\n",
       " 'Yunus_0064.jpg',\n",
       " 'Yunus_0065.jpg',\n",
       " 'Yunus_0066.jpg',\n",
       " 'Yunus_0067.jpg',\n",
       " 'Yunus_0068.jpg',\n",
       " 'Yunus_0069.jpg']"
      ]
     },
     "execution_count": 5,
     "metadata": {},
     "output_type": "execute_result"
    }
   ],
   "source": [
    "os.listdir(dataset_folder + class_name)"
   ]
  },
  {
   "cell_type": "code",
   "execution_count": null,
   "metadata": {},
   "outputs": [],
   "source": []
  }
 ],
 "metadata": {
  "kernelspec": {
   "display_name": "Python [conda env:opencv_env]",
   "language": "python",
   "name": "conda-env-opencv_env-py"
  },
  "language_info": {
   "codemirror_mode": {
    "name": "ipython",
    "version": 3
   },
   "file_extension": ".py",
   "mimetype": "text/x-python",
   "name": "python",
   "nbconvert_exporter": "python",
   "pygments_lexer": "ipython3",
   "version": "3.8.6"
  }
 },
 "nbformat": 4,
 "nbformat_minor": 4
}
