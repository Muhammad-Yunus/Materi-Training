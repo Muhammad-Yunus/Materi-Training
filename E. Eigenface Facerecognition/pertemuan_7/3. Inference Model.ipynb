{
 "cells": [
  {
   "cell_type": "code",
   "execution_count": null,
   "metadata": {},
   "outputs": [],
   "source": [
    "import os\n",
    "import cv2\n",
    "import time\n",
    "import numpy as np\n",
    "import matplotlib.pyplot as plt"
   ]
  },
  {
   "cell_type": "code",
   "execution_count": null,
   "metadata": {},
   "outputs": [],
   "source": [
    "import pyautogui\n",
    "from PIL import ImageGrab"
   ]
  },
  {
   "cell_type": "markdown",
   "metadata": {},
   "source": [
    "### 1. Test Screen Capture"
   ]
  },
  {
   "cell_type": "markdown",
   "metadata": {},
   "source": [
    "- Get All Window"
   ]
  },
  {
   "cell_type": "code",
   "execution_count": null,
   "metadata": {},
   "outputs": [],
   "source": [
    "windows = pyautogui.getAllTitles()\n",
    "\n",
    "windows = set([w for w in windows if w != ''])\n",
    "\n",
    "windows"
   ]
  },
  {
   "cell_type": "markdown",
   "metadata": {},
   "source": [
    "- Screen Capture"
   ]
  },
  {
   "cell_type": "code",
   "execution_count": null,
   "metadata": {},
   "outputs": [],
   "source": [
    "window_name = 'Zoom Meeting'"
   ]
  },
  {
   "cell_type": "code",
   "execution_count": null,
   "metadata": {},
   "outputs": [],
   "source": [
    "def screen_capture(window_name= 'Zoom Meeting'):\n",
    "    if window_name not in pyautogui.getAllTitles():\n",
    "        print(\"Could not find window name '%s'\" % window_name)\n",
    "        return None\n",
    "    \n",
    "    fw = pyautogui.getWindowsWithTitle(window_name)[0]\n",
    "    fw.maximize()\n",
    "    pyautogui.click(fw.center)\n",
    "    fw.activate()\n",
    "\n",
    "    time.sleep(1)\n",
    "\n",
    "    sct = ImageGrab.grab() \n",
    "    img = np.array(sct)\n",
    "    \n",
    "    return img"
   ]
  },
  {
   "cell_type": "code",
   "execution_count": null,
   "metadata": {},
   "outputs": [],
   "source": [
    "img = screen_capture(window_name= 'Zoom Meeting')"
   ]
  },
  {
   "cell_type": "markdown",
   "metadata": {},
   "source": [
    "- Show captured Screen"
   ]
  },
  {
   "cell_type": "code",
   "execution_count": null,
   "metadata": {},
   "outputs": [],
   "source": [
    "plt.figure(figsize=(16, 10))\n",
    "plt.imshow(img)"
   ]
  },
  {
   "cell_type": "markdown",
   "metadata": {},
   "source": [
    "- Test Preprocess Screen Capture"
   ]
  },
  {
   "cell_type": "code",
   "execution_count": null,
   "metadata": {},
   "outputs": [],
   "source": [
    "def preprocess(img):\n",
    "    face_cascade = cv2.CascadeClassifier('haarcascades/haarcascade_frontalface_default.xml')\n",
    "    \n",
    "    img_list = []\n",
    "    img_gray = cv2.cvtColor(img, cv2.COLOR_BGR2GRAY)\n",
    "        \n",
    "    faces = face_cascade.detectMultiScale(img_gray, 1.3, 5)\n",
    "    for (x, y, w, h) in faces:\n",
    "        img_face = img_gray[y:y+h, x:x+w]  # crop face image \n",
    "        img_resize = cv2.resize(img_face, (100, 100)) # resize to 100 x 100 pixel\n",
    "        img_list.append(img_resize)\n",
    "    return img_list, faces"
   ]
  },
  {
   "cell_type": "code",
   "execution_count": null,
   "metadata": {},
   "outputs": [],
   "source": [
    "img_list = preprocess(img)[0]"
   ]
  },
  {
   "cell_type": "code",
   "execution_count": null,
   "metadata": {},
   "outputs": [],
   "source": [
    "for face in img_list:\n",
    "    plt.imshow(face, cmap=\"gray\")"
   ]
  },
  {
   "cell_type": "markdown",
   "metadata": {},
   "source": [
    "### 2. Load Model PCA"
   ]
  },
  {
   "cell_type": "code",
   "execution_count": null,
   "metadata": {},
   "outputs": [],
   "source": [
    "import pickle\n",
    "\n",
    "def read_model(filename, path=\"\"):\n",
    "    with open(os.path.join(path, filename), 'rb') as in_name:\n",
    "        model = pickle.load(in_name)\n",
    "        return model"
   ]
  },
  {
   "cell_type": "code",
   "execution_count": null,
   "metadata": {},
   "outputs": [],
   "source": [
    "from sklearn.decomposition import PCA"
   ]
  },
  {
   "cell_type": "code",
   "execution_count": null,
   "metadata": {},
   "outputs": [],
   "source": [
    "pca = read_model(\"pca_model.pkl\")"
   ]
  },
  {
   "cell_type": "code",
   "execution_count": null,
   "metadata": {},
   "outputs": [],
   "source": [
    "# convert each detected face to 1D array feature vector\n",
    "img_list_flatten = [img.flatten() for img in img_list]\n",
    "\n",
    "\n",
    "# apply PCA to each 1D array feature vector\n",
    "img_list_pca = pca.transform(img_list_flatten)"
   ]
  },
  {
   "cell_type": "markdown",
   "metadata": {},
   "source": [
    "### 3. load model k-NN"
   ]
  },
  {
   "cell_type": "code",
   "execution_count": null,
   "metadata": {},
   "outputs": [],
   "source": [
    "labels = ['Colin_Powell', 'Donald_Rumsfeld', 'George_W_Bush', 'Gerhard_Schroeder', 'Tony_Blair', 'Yunus']"
   ]
  },
  {
   "cell_type": "code",
   "execution_count": null,
   "metadata": {},
   "outputs": [],
   "source": [
    "from sklearn.neighbors import KNeighborsClassifier"
   ]
  },
  {
   "cell_type": "markdown",
   "metadata": {},
   "source": [
    "- load model"
   ]
  },
  {
   "cell_type": "code",
   "execution_count": null,
   "metadata": {},
   "outputs": [],
   "source": [
    "knn_model = read_model(\"k-NN_scikit_model.pkl\")"
   ]
  },
  {
   "cell_type": "markdown",
   "metadata": {},
   "source": [
    "- predict data"
   ]
  },
  {
   "cell_type": "code",
   "execution_count": null,
   "metadata": {},
   "outputs": [],
   "source": [
    "ids = knn_model.predict(img_list_pca)"
   ]
  },
  {
   "cell_type": "code",
   "execution_count": null,
   "metadata": {},
   "outputs": [],
   "source": [
    "label_output = [labels[i] for i in ids]\n",
    "\n",
    "print(\"Predicted Name : %s \" % label_output[0])"
   ]
  },
  {
   "cell_type": "code",
   "execution_count": null,
   "metadata": {},
   "outputs": [],
   "source": [
    "proba = knn_model.predict_proba(img_list_pca)\n",
    "\n",
    "confidence = np.max(proba)\n",
    "\n",
    "print(\"Confidence : %.3f\" % confidence)"
   ]
  },
  {
   "cell_type": "markdown",
   "metadata": {},
   "source": [
    "### 4. load model SVM"
   ]
  },
  {
   "cell_type": "code",
   "execution_count": null,
   "metadata": {},
   "outputs": [],
   "source": [
    "labels = ['Colin_Powell', 'Donald_Rumsfeld', 'George_W_Bush', 'Gerhard_Schroeder', 'Tony_Blair', 'Yunus']"
   ]
  },
  {
   "cell_type": "code",
   "execution_count": null,
   "metadata": {},
   "outputs": [],
   "source": [
    "from sklearn.svm import SVC"
   ]
  },
  {
   "cell_type": "markdown",
   "metadata": {},
   "source": [
    "- load model"
   ]
  },
  {
   "cell_type": "code",
   "execution_count": null,
   "metadata": {},
   "outputs": [],
   "source": [
    "model_svm = read_model(\"SVM_scikit_model.pkl\")"
   ]
  },
  {
   "cell_type": "markdown",
   "metadata": {},
   "source": [
    "- predict data"
   ]
  },
  {
   "cell_type": "code",
   "execution_count": null,
   "metadata": {},
   "outputs": [],
   "source": [
    "ids = model_svm.predict(img_list_pca)"
   ]
  },
  {
   "cell_type": "code",
   "execution_count": null,
   "metadata": {},
   "outputs": [],
   "source": [
    "label_output = [labels[i] for i in ids]\n",
    "\n",
    "print(\"Predicted Name : %s \" % label_output[0])"
   ]
  },
  {
   "cell_type": "code",
   "execution_count": null,
   "metadata": {},
   "outputs": [],
   "source": [
    "proba = model_svm.predict_proba(img_list_pca)\n",
    "\n",
    "confidence = np.max(proba)\n",
    "\n",
    "print(\"Confidence : %.3f\" % confidence)"
   ]
  },
  {
   "cell_type": "markdown",
   "metadata": {},
   "source": [
    "___\n",
    "# Test using Realtime Capture"
   ]
  },
  {
   "cell_type": "code",
   "execution_count": null,
   "metadata": {},
   "outputs": [],
   "source": [
    "def draw_ped(img, label, x0, y0, xt, yt, color=(255,127,0), text_color=(255,255,255)):\n",
    "\n",
    "    (w, h), baseline = cv2.getTextSize(label, cv2.FONT_HERSHEY_SIMPLEX, 0.5, 1)\n",
    "    cv2.rectangle(img,\n",
    "                  (x0, y0 + baseline),  \n",
    "                  (max(xt, x0 + w), yt), \n",
    "                  color, \n",
    "                  2)\n",
    "    cv2.rectangle(img,\n",
    "                  (x0, y0 - h),  \n",
    "                  (x0 + w, y0 + baseline), \n",
    "                  color, \n",
    "                  -1)  \n",
    "    cv2.putText(img, \n",
    "                label, \n",
    "                (x0, y0),                   \n",
    "                cv2.FONT_HERSHEY_SIMPLEX,     \n",
    "                0.5,                          \n",
    "                text_color,                \n",
    "                1,\n",
    "                cv2.LINE_AA) \n",
    "    return img"
   ]
  },
  {
   "cell_type": "code",
   "execution_count": null,
   "metadata": {},
   "outputs": [],
   "source": [
    "def screen_capture(window_name= 'Zoom Meeting'):\n",
    "    if window_name not in pyautogui.getAllTitles():\n",
    "        return None\n",
    "    try :\n",
    "        fw = pyautogui.getWindowsWithTitle(window_name)[0]\n",
    "        fw.maximize()\n",
    "        pyautogui.click(fw.center)\n",
    "        fw.activate()\n",
    "    except :\n",
    "        pass\n",
    "    \n",
    "    time.sleep(1)\n",
    "\n",
    "    sct = ImageGrab.grab() \n",
    "    img = np.array(sct)\n",
    "    \n",
    "    return img"
   ]
  },
  {
   "cell_type": "code",
   "execution_count": null,
   "metadata": {},
   "outputs": [],
   "source": [
    "def preprocess(img):\n",
    "    face_cascade = cv2.CascadeClassifier('haarcascades/haarcascade_frontalface_default.xml')\n",
    "    \n",
    "    img_list = []\n",
    "    img_gray = cv2.cvtColor(img, cv2.COLOR_BGR2GRAY)\n",
    "        \n",
    "    faces = face_cascade.detectMultiScale(img_gray, 1.3, 5)\n",
    "    for (x, y, w, h) in faces:\n",
    "        img_face = img_gray[y:y+h, x:x+w]  # crop face image \n",
    "        img_resize = cv2.resize(img_face, (100, 100)) # resize to 100 x 100 pixel\n",
    "        img_list.append(img_resize)\n",
    "    return img_list, faces"
   ]
  },
  {
   "cell_type": "code",
   "execution_count": null,
   "metadata": {},
   "outputs": [],
   "source": [
    "labels = ['Colin_Powell', 'Donald_Rumsfeld', 'George_W_Bush', 'Gerhard_Schroeder', 'Tony_Blair', 'Yunus']\n",
    "\n",
    "model_svm = read_model(\"SVM_scikit_model.pkl\")\n",
    "\n",
    "\n",
    "while True:\n",
    "    # get data     \n",
    "    img = screen_capture(window_name= 'Zoom Meeting')\n",
    "    if img is None :\n",
    "        print(\"[INFO] could not find window !\")\n",
    "        break\n",
    "    \n",
    "    # preprocessing    \n",
    "    img_list, face_coords = preprocess(img)\n",
    "    if len(img_list) < 1 :\n",
    "        print(\"[INFO] could not find face!\")\n",
    "    else : \n",
    "        # convert each detected face to 1D array feature vector\n",
    "        img_list_flatten = [img.flatten() for img in img_list]\n",
    "\n",
    "        # apply PCA to each 1D array feature vector\n",
    "        img_list_pca = pca.transform(img_list_flatten)\n",
    "\n",
    "        # predict data using SVM    \n",
    "        ids = model_svm.predict(img_list_pca)\n",
    "        label_output = [labels[i] for i in ids]\n",
    "\n",
    "        proba = model_svm.predict_proba(img_list_pca)\n",
    "        confidence = [np.max(p) for p in proba]\n",
    "\n",
    "        for i in range(len(ids)):\n",
    "            plt.imshow(img_list[i], cmap=\"gray\")\n",
    "            title = \"Name : %s (%.2f%%)\" % (label_output[i], (confidence[i]*100))\n",
    "            plt.title(title)\n",
    "            plt.show()\n",
    "            \n",
    "            x, y, w, h = face_coords[i]\n",
    "            x0, y0, xt, yt = x, y, x+w, y+h\n",
    "            img = draw_ped(img, title, x0, y0, xt, yt)\n",
    "            \n",
    "    cv2.imshow(\"Facerecognition\", img[:,:,::-1])\n",
    "    if cv2.waitKey(3000) == ord('q'):\n",
    "        break\n",
    "\n",
    "cv2.destroyAllWindows()"
   ]
  },
  {
   "cell_type": "code",
   "execution_count": null,
   "metadata": {},
   "outputs": [],
   "source": []
  },
  {
   "cell_type": "markdown",
   "metadata": {},
   "source": [
    "### Add Toast WIndows Notification"
   ]
  },
  {
   "cell_type": "code",
   "execution_count": null,
   "metadata": {},
   "outputs": [],
   "source": [
    "! pip install win10toast"
   ]
  },
  {
   "cell_type": "code",
   "execution_count": null,
   "metadata": {},
   "outputs": [],
   "source": [
    "from win10toast import ToastNotifier\n",
    "toaster = ToastNotifier()\n",
    "toaster.show_toast(\"Sample Notification\",\"Python is awesome!!!\")"
   ]
  },
  {
   "cell_type": "markdown",
   "metadata": {},
   "source": [
    "- apply to realtime capture"
   ]
  },
  {
   "cell_type": "code",
   "execution_count": null,
   "metadata": {},
   "outputs": [],
   "source": [
    "labels = ['Colin_Powell', 'Donald_Rumsfeld', 'George_W_Bush', 'Gerhard_Schroeder', 'Tony_Blair', 'Yunus']\n",
    "\n",
    "model_svm = read_model(\"SVM_scikit_model.pkl\")\n",
    "\n",
    "toaster = ToastNotifier()\n",
    "\n",
    "while True:\n",
    "    # get data     \n",
    "    img = screen_capture(window_name= 'Zoom Meeting')\n",
    "    if img is None :\n",
    "        print(\"[INFO] could not find window !\")\n",
    "        break\n",
    "    \n",
    "    # preprocessing    \n",
    "    img_list, face_coords = preprocess(img)\n",
    "    if len(img_list) < 1 :\n",
    "        print(\"[INFO] could not find face!\")\n",
    "    else : \n",
    "        # convert each detected face to 1D array feature vector\n",
    "        img_list_flatten = [img.flatten() for img in img_list]\n",
    "\n",
    "        # apply PCA to each 1D array feature vector\n",
    "        img_list_pca = pca.transform(img_list_flatten)\n",
    "\n",
    "        # predict data using SVM    \n",
    "        ids = model_svm.predict(img_list_pca)\n",
    "        label_output = [labels[i] for i in ids]\n",
    "\n",
    "        proba = model_svm.predict_proba(img_list_pca)\n",
    "        confidence = [np.max(p) for p in proba]\n",
    "\n",
    "        for i in range(len(ids)):\n",
    "            plt.imshow(img_list[i], cmap=\"gray\")\n",
    "            title = \"Name : %s (%.2f%%)\" % (label_output[i], (confidence[i]*100))\n",
    "            plt.title(title)\n",
    "            plt.show()\n",
    "            \n",
    "            x, y, w, h = face_coords[i]\n",
    "            x0, y0, xt, yt = x, y, x+w, y+h\n",
    "            img = draw_ped(img, title, x0, y0, xt, yt)\n",
    "            \n",
    "            toaster.show_toast(\"Attendance Systems\", title)\n",
    "            \n",
    "    cv2.imshow(\"Facerecognition\", img[:,:,::-1])\n",
    "    if cv2.waitKey(3000) == ord('q'):\n",
    "        break\n",
    "\n",
    "cv2.destroyAllWindows()"
   ]
  },
  {
   "cell_type": "code",
   "execution_count": null,
   "metadata": {},
   "outputs": [],
   "source": []
  }
 ],
 "metadata": {
  "kernelspec": {
   "display_name": "Python [conda env:opencv_env]",
   "language": "python",
   "name": "conda-env-opencv_env-py"
  },
  "language_info": {
   "codemirror_mode": {
    "name": "ipython",
    "version": 3
   },
   "file_extension": ".py",
   "mimetype": "text/x-python",
   "name": "python",
   "nbconvert_exporter": "python",
   "pygments_lexer": "ipython3",
   "version": "3.8.6"
  }
 },
 "nbformat": 4,
 "nbformat_minor": 4
}
