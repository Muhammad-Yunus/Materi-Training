{
 "cells": [
  {
   "cell_type": "markdown",
   "metadata": {},
   "source": [
    "- Intro to SQL Database \n",
    "- Intro to SQL Lite\n",
    "- SQL Lite Interface in Python\n",
    "    - Create database\n",
    "    - Create Table\n",
    "    - Insert Data\n",
    "    - Update Data\n",
    "    - Delete Data"
   ]
  },
  {
   "cell_type": "markdown",
   "metadata": {},
   "source": [
    "## 1. Intro to SQL\n",
    "\n",
    "What is SQL?\n",
    "- SQL stands for Structured Query Language\n",
    "- SQL lets you access and manipulate databases\n",
    "- SQL became a standard of the American National Standards Institute (ANSI) in 1986, and of the International Organization for Standardization (ISO) in 1987\n",
    "\n",
    "What Can SQL do?\n",
    "- SQL can execute queries against a database\n",
    "- SQL can retrieve data from a database\n",
    "- SQL can insert records in a database\n",
    "- SQL can update records in a database\n",
    "- SQL can delete records from a database\n",
    "- SQL can create new databases\n",
    "- SQL can create new tables in a database\n",
    "- SQL can create stored procedures in a database\n",
    "- SQL can create views in a database\n",
    "- SQL can set permissions on tables, procedures, and views\n",
    "\n",
    "What is RDBMS?\n",
    "- RDBMS stands for Relational Database Management System.\n",
    "- RDBMS is the basis for SQL, and for all modern database systems such as MS SQL Server, IBM DB2, Oracle, MySQL, and Microsoft Access.\n",
    "- The data in RDBMS is stored in database objects called tables. A table is a collection of related data entries and it consists of columns and rows."
   ]
  },
  {
   "cell_type": "code",
   "execution_count": 1,
   "metadata": {},
   "outputs": [],
   "source": [
    "import sqlite3\n",
    "conn = sqlite3.connect('example.db')"
   ]
  },
  {
   "cell_type": "code",
   "execution_count": null,
   "metadata": {},
   "outputs": [],
   "source": []
  }
 ],
 "metadata": {
  "kernelspec": {
   "display_name": "Python [conda env:opencv_env]",
   "language": "python",
   "name": "conda-env-opencv_env-py"
  },
  "language_info": {
   "codemirror_mode": {
    "name": "ipython",
    "version": 3
   },
   "file_extension": ".py",
   "mimetype": "text/x-python",
   "name": "python",
   "nbconvert_exporter": "python",
   "pygments_lexer": "ipython3",
   "version": "3.8.6"
  }
 },
 "nbformat": 4,
 "nbformat_minor": 4
}
