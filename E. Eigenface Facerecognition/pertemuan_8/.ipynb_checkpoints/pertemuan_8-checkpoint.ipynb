{
 "cells": [
  {
   "cell_type": "markdown",
   "metadata": {},
   "source": [
    "# Pertemuan 8\n",
    "- Install PySimpleGUI\n",
    "- window, layout, widget text, widget button, widget image\n",
    "- widget & event handler : button, input text, input calendar, combo-boc, check-box\n",
    "- custom style button\n",
    "- widget column\n",
    "- widget tab & tab group\n",
    "- widget table\n"
   ]
  },
  {
   "cell_type": "markdown",
   "metadata": {},
   "source": [
    "### 1. Install library pySimple GUI"
   ]
  },
  {
   "cell_type": "code",
   "execution_count": 1,
   "metadata": {},
   "outputs": [],
   "source": [
    "# ! python -m pip install pysimplegui"
   ]
  },
  {
   "cell_type": "code",
   "execution_count": 2,
   "metadata": {},
   "outputs": [],
   "source": [
    "import os\n",
    "import numpy as np\n",
    "import PySimpleGUI as sg "
   ]
  },
  {
   "cell_type": "markdown",
   "metadata": {},
   "source": [
    "___\n",
    "### 2 Create & Display Window"
   ]
  },
  {
   "cell_type": "code",
   "execution_count": 4,
   "metadata": {
    "tags": [
     "readImage"
    ]
   },
   "outputs": [],
   "source": [
    "window = sg.Window(title=\"Hello World\", layout=[[]], margins=(200, 100))\n",
    "window.read(timeout=6000)\n",
    "window.close()"
   ]
  },
  {
   "cell_type": "markdown",
   "metadata": {},
   "source": [
    "- Result : <br>\n",
    "<img src=\"resource/basic-ui.png\" style=\"width:400px\"></img>\n",
    "- One of the basic building blocks of PySimpleGUI is the `Window()`,\n",
    "- on the created window, we can add `title` and a `layout` and set the `margins`,\n",
    "- `margin` is margin for created layout `(margin-x, margin-y)`."
   ]
  },
  {
   "cell_type": "markdown",
   "metadata": {},
   "source": [
    "### 3. Add text and button into layout"
   ]
  },
  {
   "cell_type": "code",
   "execution_count": 7,
   "metadata": {},
   "outputs": [],
   "source": [
    "layout = [[sg.Text(\"Hello from PySimpleGUI\")], \n",
    "          [sg.Button(\"OK\")]]\n",
    "\n",
    "window = sg.Window(title=\"Hello World\", layout=layout, margins=(200, 100))\n",
    "\n",
    "window.read()\n",
    "window.close()"
   ]
  },
  {
   "cell_type": "markdown",
   "metadata": {},
   "source": [
    "- `window.read()` merupakan function yang dapat digunakan untuk menangkap event pada gui (klick, change value, dll)\n",
    "- `layout` pada pySimpleGUI menggunakan struktur list.\n",
    "- secara sederhana, \n",
    "    - element yang ingin diletakan sejajar **horizontal** berada pada list - row yang **sama**.\n",
    "    - element yang ingin diletakan sejajar **vertical** berada pada list - row yang **berbeda**."
   ]
  },
  {
   "cell_type": "markdown",
   "metadata": {},
   "source": [
    "- Result :<br>\n",
    "<img src=\"resource/text-n-button.png\" style=\"width:500px\"></img>\n",
    "- PySimpleGUI uses nested Python lists to lay out its elements. \n",
    "- In this case, you add a `Text()` element and a `Button()` element."
   ]
  },
  {
   "cell_type": "markdown",
   "metadata": {},
   "source": [
    "### 4. Simple Image Viewer"
   ]
  },
  {
   "cell_type": "code",
   "execution_count": 8,
   "metadata": {},
   "outputs": [],
   "source": [
    "image_viewer_layout= [\n",
    "    [sg.Text(\"lena.png\")],\n",
    "    [sg.Image(filename=\"lena.png\")],\n",
    "]\n",
    "\n",
    "window = sg.Window(title=\"Image Viewer\", layout=image_viewer_layout, margins=(30, 30))\n",
    "\n",
    "window.read()\n",
    "window.close()"
   ]
  },
  {
   "cell_type": "markdown",
   "metadata": {},
   "source": [
    "- result : <br>\n",
    "<img src=\"resource/image-viewer.png\" style=\"width:300px\"></img>\n",
    "- `Image()` :Image Element - show an image in the window for given `filename`. Should be a `GIF` or a `PNG` only."
   ]
  },
  {
   "cell_type": "markdown",
   "metadata": {},
   "source": [
    "### 5. Button Handler"
   ]
  },
  {
   "cell_type": "code",
   "execution_count": 12,
   "metadata": {},
   "outputs": [
    {
     "name": "stdout",
     "output_type": "stream",
     "text": [
      "button close, clicked!\n"
     ]
    }
   ],
   "source": [
    "layout = [[sg.Text(\"klik button untuk close window!\")], \n",
    "          [sg.Button(\"close\")]]\n",
    "\n",
    "window = sg.Window(title=\"Hello World\", layout=layout, margins=(200, 100))\n",
    "\n",
    "event, values = window.read()\n",
    "if event == 'close':\n",
    "    print('button close, clicked!')\n",
    "\n",
    "window.close()"
   ]
  },
  {
   "cell_type": "markdown",
   "metadata": {},
   "source": [
    "- event value dari sebuah **button** sama dema dengan label yang dimiliki button tersebut, `\"close\"` "
   ]
  },
  {
   "cell_type": "markdown",
   "metadata": {},
   "source": [
    "- handler continuous run"
   ]
  },
  {
   "cell_type": "code",
   "execution_count": 13,
   "metadata": {},
   "outputs": [
    {
     "name": "stdout",
     "output_type": "stream",
     "text": [
      "print, Hello World!\n",
      "print, Hello World!\n",
      "print, Hello World!\n",
      "print, Hello World!\n"
     ]
    }
   ],
   "source": [
    "layout = [[sg.Text(\"klik button untuk close window!\")], \n",
    "          [sg.Button(\"print\")]]\n",
    "\n",
    "window = sg.Window(title=\"Hello World\", layout=layout, margins=(200, 100))\n",
    "\n",
    "while True:\n",
    "    event, values = window.read()\n",
    "    if event == 'print':\n",
    "        print('print, Hello World!')\n",
    "        \n",
    "    if event == sg.WIN_CLOSED:\n",
    "        break\n",
    "        \n",
    "window.close()"
   ]
  },
  {
   "cell_type": "markdown",
   "metadata": {},
   "source": [
    "- `sg.WIN_CLOSED` merupakan jenis event yang akan muncul jika window GUI di close via tombol close (**x**) pada GUI."
   ]
  },
  {
   "cell_type": "markdown",
   "metadata": {},
   "source": [
    "### 6. Widget Input Text"
   ]
  },
  {
   "cell_type": "code",
   "execution_count": 14,
   "metadata": {},
   "outputs": [
    {
     "name": "stdout",
     "output_type": "stream",
     "text": [
      "Save {'name': 'Hello World'}\n"
     ]
    }
   ],
   "source": [
    "layout = [[sg.Text(\"Name :\"), sg.InputText(key='name')], \n",
    "          [sg.Button(\"Save\")]]\n",
    "\n",
    "window = sg.Window(title=\"Input Text Demo\", layout=layout, margins=(200, 100))\n",
    "\n",
    "event, values = window.read()\n",
    "if event == 'Save':\n",
    "    print(event, values)\n",
    "    \n",
    "window.close()"
   ]
  },
  {
   "cell_type": "markdown",
   "metadata": {},
   "source": [
    "- multiple input"
   ]
  },
  {
   "cell_type": "code",
   "execution_count": 17,
   "metadata": {},
   "outputs": [],
   "source": [
    "layout = [[sg.Text(\"Name :\"), sg.InputText(key='name')],\n",
    "          [sg.Text(\"Age :\"), sg.InputText(key='age')],\n",
    "          [sg.Text(\"Address :\"), sg.InputText(key='address')],\n",
    "          [sg.Button(\"Save\"), sg.Button(\"Delete\"), sg.Button(\"Cancel\")]]\n",
    "\n",
    "window = sg.Window(title=\"Input Text Demo\", layout=layout, margins=(50, 50))\n",
    "\n",
    "event, values = window.read()\n",
    "if event == 'Save':\n",
    "    print(event, values)\n",
    "    \n",
    "window.close()"
   ]
  },
  {
   "cell_type": "markdown",
   "metadata": {},
   "source": [
    "- styling form"
   ]
  },
  {
   "cell_type": "code",
   "execution_count": 21,
   "metadata": {},
   "outputs": [],
   "source": [
    "layout = [[sg.Text(\"Form User Registration\")],\n",
    "          [sg.Text(\"Name \\t\\t:\", size=(15,1)), sg.InputText(key='name')],\n",
    "          [sg.Text(\"Age \\t\\t:\", size=(15,1)), sg.InputText(key='age')],\n",
    "          [sg.Text(\"Address \\t\\t:\", size=(15,1)), sg.InputText(key='address')],\n",
    "          \n",
    "          [sg.Button(\"Save\", button_color=(\"white\",\"green\")), \n",
    "           sg.Button(\"Delete\", button_color=(\"white\",\"red\")), \n",
    "           sg.Button(\"Cancel\")]]\n",
    "\n",
    "window = sg.Window(title=\"Input Text Demo\", layout=layout, margins=(50, 50))\n",
    "\n",
    "event, values = window.read()\n",
    "if event == 'Save':\n",
    "    print(event, values)\n",
    "    \n",
    "window.close()"
   ]
  },
  {
   "cell_type": "markdown",
   "metadata": {},
   "source": [
    "### 7. Widget Input Multiline"
   ]
  },
  {
   "cell_type": "code",
   "execution_count": 22,
   "metadata": {},
   "outputs": [
    {
     "name": "stdout",
     "output_type": "stream",
     "text": [
      "Save {'name': 'Yunus', 'age': '29', 'address': 'Depok,\\nJakarta,\\nIndonesia\\n'}\n"
     ]
    }
   ],
   "source": [
    "layout = [[sg.Text(\"Form User Registration\")],\n",
    "          [sg.Text(\"Name \\t\\t:\", size=(15,1)), sg.InputText(key='name')],\n",
    "          [sg.Text(\"Age \\t\\t:\", size=(15,1)), sg.InputText(key='age')],\n",
    "          [sg.Text(\"Address \\t\\t:\", size=(15,1)), sg.Multiline(key='address', size=(45,3))],\n",
    "          \n",
    "          [sg.Button(\"Save\", button_color=(\"white\",\"green\")), \n",
    "           sg.Button(\"Delete\", button_color=(\"white\",\"red\")), \n",
    "           sg.Button(\"Cancel\")]]\n",
    "\n",
    "window = sg.Window(title=\"Input Text Demo\", layout=layout, margins=(50, 50))\n",
    "\n",
    "event, values = window.read()\n",
    "if event == 'Save':\n",
    "    print(event, values)\n",
    "    \n",
    "window.close()"
   ]
  },
  {
   "cell_type": "markdown",
   "metadata": {},
   "source": [
    "### 8. Widget Combo-box"
   ]
  },
  {
   "cell_type": "code",
   "execution_count": 23,
   "metadata": {},
   "outputs": [
    {
     "name": "stdout",
     "output_type": "stream",
     "text": [
      "Save {'name': 'YUnus', 'age': '29', 'gender': 'male', 'address': 'Jakarta\\n'}\n"
     ]
    }
   ],
   "source": [
    "layout = [[sg.Text(\"Form User Registration\")],\n",
    "          [sg.Text(\"Name \\t\\t:\", size=(15,1)), sg.InputText(key='name')],\n",
    "          [sg.Text(\"Age \\t\\t:\", size=(15,1)), sg.InputText(key='age')],\n",
    "          [sg.Text(\"Gender \\t\\t:\", size=(15,1)), sg.Combo(['male', 'female'], key='gender', size=(45,1))],\n",
    "          [sg.Text(\"Address \\t\\t:\", size=(15,1)), sg.Multiline(key='address', size=(45,3))],\n",
    "          \n",
    "          [sg.Button(\"Save\", button_color=(\"white\",\"green\")), \n",
    "           sg.Button(\"Delete\", button_color=(\"white\",\"red\")), \n",
    "           sg.Button(\"Cancel\")]]\n",
    "\n",
    "window = sg.Window(title=\"Input Text Demo\", layout=layout, margins=(50, 50))\n",
    "\n",
    "event, values = window.read()\n",
    "if event == 'Save':\n",
    "    print(event, values)\n",
    "    \n",
    "window.close()"
   ]
  },
  {
   "cell_type": "markdown",
   "metadata": {},
   "source": [
    "### 9. Checkbox Element"
   ]
  },
  {
   "cell_type": "markdown",
   "metadata": {},
   "source": [
    "- using `sg.Checkbox()`"
   ]
  },
  {
   "cell_type": "code",
   "execution_count": 25,
   "metadata": {},
   "outputs": [
    {
     "name": "stdout",
     "output_type": "stream",
     "text": [
      "Save {'name': '', 'age': '', 'gender': '', 'address': '\\n', 'tnc': False}\n"
     ]
    }
   ],
   "source": [
    "layout = [[sg.Text(\"Form User Registration\")],\n",
    "          [sg.Text(\"Name \\t\\t:\", size=(15,1)), sg.InputText(key='name')],\n",
    "          [sg.Text(\"Age \\t\\t:\", size=(15,1)), sg.InputText(key='age')],\n",
    "          [sg.Text(\"Gender \\t\\t:\", size=(15,1)), sg.Combo(['male', 'female'], key='gender', size=(45,1))],\n",
    "          [sg.Text(\"Address \\t\\t:\", size=(15,1)), sg.Multiline(key='address', size=(45,3))],\n",
    "          [sg.Checkbox('I agree to terms and conditions.', key='tnc')],\n",
    "          \n",
    "          [sg.Button(\"Save\", button_color=(\"white\",\"green\")), \n",
    "           sg.Button(\"Delete\", button_color=(\"white\",\"red\")), \n",
    "           sg.Button(\"Cancel\")]]\n",
    "\n",
    "window = sg.Window(title=\"Input Text Demo\", layout=layout, margins=(50, 50))\n",
    "\n",
    "event, values = window.read()\n",
    "if event == 'Save':\n",
    "    print(event, values)\n",
    "    \n",
    "window.close()"
   ]
  },
  {
   "cell_type": "markdown",
   "metadata": {},
   "source": [
    "### 10. Calendar Input Button"
   ]
  },
  {
   "cell_type": "code",
   "execution_count": 29,
   "metadata": {},
   "outputs": [],
   "source": [
    "layout = [[sg.Text(\"Form User Registration\")],\n",
    "          [sg.Text(\"Name \\t\\t:\", size=(15,1)), sg.InputText(key='name')],\n",
    "          [sg.Text(\"Age \\t\\t:\", size=(15,1)), sg.InputText(key='age')],\n",
    "          [sg.Text(\"DoB \\t\\t:\", size=(15,1)), \n",
    "                       sg.InputText(key='dob'),\n",
    "                       sg.CalendarButton(\"...\", target='dob', format='%Y-%m-%d')],\n",
    "          [sg.Text(\"Gender \\t\\t:\", size=(15,1)), sg.Combo(['male', 'female'], key='gender', size=(45,1))],\n",
    "          [sg.Text(\"Address \\t\\t:\", size=(15,1)), sg.Multiline(key='address', size=(45,3))],\n",
    "          [sg.Checkbox('I agree to terms and conditions.', key='tnc')],\n",
    "          \n",
    "          [sg.Button(\"Save\", button_color=(\"white\",\"green\")), \n",
    "           sg.Button(\"Delete\", button_color=(\"white\",\"red\")), \n",
    "           sg.Button(\"Cancel\")]]\n",
    "\n",
    "window = sg.Window(title=\"Input Text Demo\", layout=layout, margins=(50, 50))\n",
    "\n",
    "event, values = window.read()\n",
    "if event == 'Save':\n",
    "    print(event, values)\n",
    "    \n",
    "window.close()"
   ]
  },
  {
   "cell_type": "markdown",
   "metadata": {},
   "source": [
    "### 11. Change Button with Image Icon"
   ]
  },
  {
   "cell_type": "code",
   "execution_count": 30,
   "metadata": {},
   "outputs": [
    {
     "name": "stdout",
     "output_type": "stream",
     "text": [
      " {}\n"
     ]
    }
   ],
   "source": [
    "image_cancel = \"asset/cancel.png\"\n",
    "image_save = \"asset/save.png\"\n",
    "image_delete = \"asset/delete.png\"\n",
    "\n",
    "layout = [[sg.Text(\"Hello from PySimpleGUI\")], \n",
    "          [\n",
    "          sg.Button(image_filename=image_save, \n",
    "                    button_color=('#FFF', '#FFF')),\n",
    "          sg.Button(image_filename=image_delete, \n",
    "                    button_color=('#FFF', '#FFF')),\n",
    "          sg.Button(image_filename=image_cancel, \n",
    "                    button_color=('#FFF', '#FFF'))\n",
    "          ]]\n",
    "\n",
    "window = sg.Window(title=\"Customized Button\", layout=layout, margins=(200, 100))\n",
    "\n",
    "event, values = window.read()\n",
    "print(event, values)\n",
    "\n",
    "window.close()"
   ]
  },
  {
   "cell_type": "markdown",
   "metadata": {},
   "source": [
    "- `button_color` : color of the buttons shown `(text color, button color)`"
   ]
  },
  {
   "cell_type": "markdown",
   "metadata": {},
   "source": [
    "### 12. Change Button Image Size"
   ]
  },
  {
   "cell_type": "code",
   "execution_count": 38,
   "metadata": {},
   "outputs": [
    {
     "name": "stdout",
     "output_type": "stream",
     "text": [
      " {}\n"
     ]
    }
   ],
   "source": [
    "image_cancel = \"asset/cancel.png\"\n",
    "image_save = \"asset/save.png\"\n",
    "image_delete = \"asset/delete.png\"\n",
    "\n",
    "layout = [[sg.Text(\"Customized Button\")], \n",
    "          [\n",
    "          sg.Button(image_filename=image_save, \n",
    "                    button_color=('#FFF', '#FFF'), \n",
    "                    image_size=(40, 40), \n",
    "                    image_subsample=3, \n",
    "                    border_width=0),\n",
    "          sg.Button(image_filename=image_delete, \n",
    "                    button_color=('#FFF', '#FFF'), \n",
    "                    image_size=(40, 40), \n",
    "                    image_subsample=3, \n",
    "                    border_width=0),\n",
    "          sg.Button(image_filename=image_cancel, \n",
    "                    button_color=('#FFF', '#FFF'), \n",
    "                    image_size=(40, 40), \n",
    "                    image_subsample=3, \n",
    "                    border_width=0)\n",
    "          ]]\n",
    "\n",
    "window = sg.Window(title=\"Customized Button\", layout=layout, margins=(200, 100))\n",
    "\n",
    "event, values = window.read()\n",
    "print(event, values)\n",
    "\n",
    "window.close()"
   ]
  },
  {
   "cell_type": "markdown",
   "metadata": {},
   "source": [
    "- `image_size` : Size of image in pixels `(width, height)`\n",
    "- `image_subsample` : Amount to divide the size by.  2 means your image will be 1/2 the size.  3 means 1/3.\n",
    "- `border_width` : border width on button (pixel)."
   ]
  },
  {
   "cell_type": "markdown",
   "metadata": {},
   "source": [
    "### 13. Apply Button Image to Form"
   ]
  },
  {
   "cell_type": "code",
   "execution_count": 39,
   "metadata": {},
   "outputs": [
    {
     "name": "stdout",
     "output_type": "stream",
     "text": [
      "Save {'name': 'Yunus', 'age': '29', 'dob': '1990-01-01', '...': '', 'gender': 'male', 'address': 'Depok\\n', 'tnc': True}\n"
     ]
    }
   ],
   "source": [
    "layout = [[sg.Text(\"Form User Registration\")],\n",
    "          [sg.Text(\"Name \\t\\t:\", size=(15,1)), sg.InputText(key='name')],\n",
    "          [sg.Text(\"Age \\t\\t:\", size=(15,1)), sg.InputText(key='age')],\n",
    "          [sg.Text(\"DoB \\t\\t:\", size=(15,1)), \n",
    "                       sg.InputText(key='dob'),\n",
    "                       sg.CalendarButton(\"...\", target='dob', format='%Y-%m-%d')],\n",
    "          [sg.Text(\"Gender \\t\\t:\", size=(15,1)), sg.Combo(['male', 'female'], key='gender', size=(45,1))],\n",
    "          [sg.Text(\"Address \\t\\t:\", size=(15,1)), sg.Multiline(key='address', size=(45,3))],\n",
    "          [sg.Checkbox('I agree to terms and conditions.', key='tnc')],\n",
    "          \n",
    "          [\n",
    "          sg.Button(key=\"Save\",\n",
    "                    image_filename=image_save, \n",
    "                    button_color=('#FFF', '#FFF'), \n",
    "                    image_size=(40, 40), \n",
    "                    image_subsample=3, \n",
    "                    border_width=0),\n",
    "          sg.Button(key=\"Delete\",\n",
    "                    image_filename=image_delete, \n",
    "                    button_color=('#FFF', '#FFF'), \n",
    "                    image_size=(40, 40), \n",
    "                    image_subsample=3, \n",
    "                    border_width=0),\n",
    "          sg.Button(key=\"Cancel\",\n",
    "                    image_filename=image_cancel, \n",
    "                    button_color=('#FFF', '#FFF'), \n",
    "                    image_size=(40, 40), \n",
    "                    image_subsample=3, \n",
    "                    border_width=0)\n",
    "          ]]\n",
    "\n",
    "window = sg.Window(title=\"Input Text Demo\", layout=layout, margins=(50, 50))\n",
    "\n",
    "event, values = window.read()\n",
    "if event == 'Save':\n",
    "    print(event, values)\n",
    "    \n",
    "window.close()"
   ]
  },
  {
   "cell_type": "markdown",
   "metadata": {},
   "source": [
    "### 14. Column\n",
    "![](resource/column.png)"
   ]
  },
  {
   "cell_type": "code",
   "execution_count": 41,
   "metadata": {},
   "outputs": [],
   "source": [
    "layout_left = [[sg.Image(filename=\"lena_v2.png\")]]\n",
    "\n",
    "layout_right = [[sg.Text(\"Form User Registration\")],\n",
    "              [sg.Text(\"Name \\t\\t:\", size=(15,1)), sg.InputText(key='name')],\n",
    "              [sg.Text(\"Age \\t\\t:\", size=(15,1)), sg.InputText(key='age')],\n",
    "              [sg.Text(\"DoB \\t\\t:\", size=(15,1)), \n",
    "                           sg.InputText(key='dob'),\n",
    "                           sg.CalendarButton(\"...\", target='dob', format='%Y-%m-%d')],\n",
    "              [sg.Text(\"Gender \\t\\t:\", size=(15,1)), sg.Combo(['male', 'female'], key='gender', size=(45,1))],\n",
    "              [sg.Text(\"Address \\t\\t:\", size=(15,1)), sg.Multiline(key='address', size=(45,3))],\n",
    "              [sg.Checkbox('I agree to terms and conditions.', key='tnc')],\n",
    "\n",
    "              [\n",
    "              sg.Button(key=\"Save\",\n",
    "                        image_filename=image_save, \n",
    "                        button_color=('#FFF', '#FFF'), \n",
    "                        image_size=(40, 40), \n",
    "                        image_subsample=3, \n",
    "                        border_width=0),\n",
    "              sg.Button(key=\"Delete\",\n",
    "                        image_filename=image_delete, \n",
    "                        button_color=('#FFF', '#FFF'), \n",
    "                        image_size=(40, 40), \n",
    "                        image_subsample=3, \n",
    "                        border_width=0),\n",
    "              sg.Button(key=\"Cancel\",\n",
    "                        image_filename=image_cancel, \n",
    "                        button_color=('#FFF', '#FFF'), \n",
    "                        image_size=(40, 40), \n",
    "                        image_subsample=3, \n",
    "                        border_width=0)\n",
    "              ]]\n",
    "\n",
    "layout = [\n",
    "    [\n",
    "        sg.Column(layout_left),\n",
    "        sg.Column(layout_right),\n",
    "    ]\n",
    "]\n",
    "\n",
    "\n",
    "window = sg.Window(title=\"Input Text Demo\", layout=layout, margins=(50, 50))\n",
    "\n",
    "event, values = window.read()\n",
    "if event == 'Save':\n",
    "    print(event, values)\n",
    "    \n",
    "window.close()"
   ]
  },
  {
   "cell_type": "markdown",
   "metadata": {},
   "source": [
    "### 14. Tab & Tab Group\n",
    "![](resource/tab.png)"
   ]
  },
  {
   "cell_type": "code",
   "execution_count": 42,
   "metadata": {},
   "outputs": [
    {
     "name": "stdout",
     "output_type": "stream",
     "text": [
      "None {0: None}\n"
     ]
    }
   ],
   "source": [
    "layout_tab1 = [[sg.Text(\"Content Tab 1\", size=(80,20))]]\n",
    "layout_tab2 = [[sg.Text(\"Content Tab 2\", size=(80,20))]]\n",
    "\n",
    "layout = [[sg.TabGroup([\n",
    "                        [sg.Tab('Tab 1', layout_tab1), \n",
    "                         sg.Tab('Tab 2', layout_tab2)]\n",
    "                        ])\n",
    "          ]]\n",
    "\n",
    "window = sg.Window(title=\"Tab Widget\", layout=layout, margins=(10, 10))\n",
    "\n",
    "event, values = window.read()\n",
    "print(event, values)\n",
    "\n",
    "window.close()"
   ]
  },
  {
   "cell_type": "markdown",
   "metadata": {},
   "source": [
    "- more tab"
   ]
  },
  {
   "cell_type": "code",
   "execution_count": 43,
   "metadata": {},
   "outputs": [
    {
     "name": "stdout",
     "output_type": "stream",
     "text": [
      "None {0: None}\n"
     ]
    }
   ],
   "source": [
    "layout_tab1 = [[sg.Text(\"Content Tab 1\", size=(80,20))]]\n",
    "layout_tab2 = [[sg.Text(\"Content Tab 2\", size=(80,20))]]\n",
    "layout_tab3 = [[sg.Text(\"Content Tab 3\", size=(80,20))]]\n",
    "layout_tab4 = [[sg.Text(\"Content Tab 4\", size=(80,20))]]\n",
    "\n",
    "layout = [[sg.TabGroup([\n",
    "                        [sg.Tab('Tab 1', layout_tab1), \n",
    "                         sg.Tab('Tab 2', layout_tab2),\n",
    "                         sg.Tab('Tab 3', layout_tab3), \n",
    "                         sg.Tab('Tab 4', layout_tab4)]\n",
    "                        ])\n",
    "          ]]\n",
    "\n",
    "window = sg.Window(title=\"Tab Widget\", layout=layout, margins=(10, 10))\n",
    "\n",
    "event, values = window.read()\n",
    "print(event, values)\n",
    "\n",
    "window.close()"
   ]
  },
  {
   "cell_type": "markdown",
   "metadata": {},
   "source": [
    "### 15. Table Record"
   ]
  },
  {
   "cell_type": "code",
   "execution_count": 44,
   "metadata": {},
   "outputs": [],
   "source": [
    "Data = [list(i) for i in np.random.randint(1,100, (20,5))]\n",
    "\n",
    "headings = [\"X0 Input\", \"X1 Input\", \"X2 Input\", \"X3 Input\", \"Y Output\"]"
   ]
  },
  {
   "cell_type": "code",
   "execution_count": 46,
   "metadata": {},
   "outputs": [
    {
     "name": "stdout",
     "output_type": "stream",
     "text": [
      "*** tk version 8.6.9 detected.... patching ttk treeview code ***\n",
      "None {'table': None}\n"
     ]
    }
   ],
   "source": [
    "layout = [[sg.Text(\"Table Sample\")], \n",
    "          [sg.Table(values=Data, headings=headings, key='table')]]\n",
    "\n",
    "window = sg.Window(title=\"Customized Button\", layout=layout, margins=(20, 20))\n",
    "\n",
    "event, values = window.read()\n",
    "print(event, values)\n",
    "\n",
    "window.close()"
   ]
  },
  {
   "cell_type": "markdown",
   "metadata": {},
   "source": [
    "### 16. Form and Table in Tab Layout\n",
    "- wrap layout in function"
   ]
  },
  {
   "cell_type": "code",
   "execution_count": 49,
   "metadata": {},
   "outputs": [],
   "source": [
    "def get_layout(Data, headings):\n",
    "    layout_tab1 = [[sg.Text(\"Name \\t\\t:\", size=(15,1)), sg.InputText(key='name')],\n",
    "              [sg.Text(\"Age \\t\\t:\", size=(15,1)), sg.InputText(key='age')],\n",
    "              [sg.Text(\"DoB \\t\\t:\", size=(15,1)), \n",
    "                           sg.InputText(key='dob'),\n",
    "                           sg.CalendarButton(\"...\", target='dob', format='%Y-%m-%d')],\n",
    "              [sg.Text(\"Gender \\t\\t:\", size=(15,1)), sg.Combo(['male', 'female'], key='gender', size=(45,1))],\n",
    "              [sg.Text(\"Address \\t\\t:\", size=(15,1)), sg.Multiline(key='address', size=(45,3))],\n",
    "              [sg.Checkbox('I agree to terms and conditions.', key='tnc')],\n",
    "\n",
    "              [\n",
    "              sg.Button(key=\"Save\",\n",
    "                        image_filename=image_save, \n",
    "                        button_color=('#FFF', '#FFF'), \n",
    "                        image_size=(40, 40), \n",
    "                        image_subsample=3, \n",
    "                        border_width=0),\n",
    "              sg.Button(key=\"Delete\",\n",
    "                        image_filename=image_delete, \n",
    "                        button_color=('#FFF', '#FFF'), \n",
    "                        image_size=(40, 40), \n",
    "                        image_subsample=3, \n",
    "                        border_width=0),\n",
    "              sg.Button(key=\"Cancel\",\n",
    "                        image_filename=image_cancel, \n",
    "                        button_color=('#FFF', '#FFF'), \n",
    "                        image_size=(40, 40), \n",
    "                        image_subsample=3, \n",
    "                        border_width=0)\n",
    "              ]]\n",
    "\n",
    "    layout_tab2 = [[sg.Table(values=Data, headings=headings, key='table', \n",
    "                             background_color='#f0f3f7',\n",
    "                             text_color='black'\n",
    "                            )]]\n",
    "\n",
    "    layout = [[sg.TabGroup([\n",
    "                            [sg.Tab('Form Input Karyawan', layout_tab1), \n",
    "                             sg.Tab('List Karyawan', layout_tab2)]\n",
    "                            ])\n",
    "              ]]\n",
    "    return layout"
   ]
  },
  {
   "cell_type": "code",
   "execution_count": 50,
   "metadata": {},
   "outputs": [
    {
     "name": "stdout",
     "output_type": "stream",
     "text": [
      "*** tk version 8.6.9 detected.... patching ttk treeview code ***\n",
      "None {'name': None, 'age': None, 'dob': None, '...': None, 'gender': None, 'address': None, 'tnc': None, 'table': None, 0: None}\n"
     ]
    }
   ],
   "source": [
    "layout = get_layout(Data, headings)\n",
    "window = sg.Window(title=\"Form Daftar Karyawan\", layout=layout, margins=(10, 10))\n",
    "\n",
    "event, values = window.read()\n",
    "print(event, values)\n",
    "\n",
    "window.close()"
   ]
  },
  {
   "cell_type": "markdown",
   "metadata": {},
   "source": [
    "### 17. Integrate with SQL Lite"
   ]
  },
  {
   "cell_type": "markdown",
   "metadata": {},
   "source": [
    "- Create Table `karyawan` using **SQL Lite Studio**:\n",
    "- kolom :\n",
    "    - `id` : primary key, autoincrement, unique\n",
    "    - `name` : text (50)\n",
    "    - `age` : integer\n",
    "    - `dob` : date\n",
    "    - `gender` : text (10)\n",
    "    - `address` : text (500)\n",
    "    \n",
    "    \n",
    "```\n",
    "CREATE TABLE data_karyawan (\n",
    "    id      INTEGER    PRIMARY KEY AUTOINCREMENT\n",
    "                       UNIQUE,\n",
    "    name    TEXT (50),\n",
    "    age     INTEGER,\n",
    "    dob     DATE,\n",
    "    gender  TEXT (10),\n",
    "    address TEXT (500) \n",
    ");\n",
    "\n",
    "```"
   ]
  },
  {
   "cell_type": "code",
   "execution_count": 170,
   "metadata": {},
   "outputs": [],
   "source": [
    "import sqlite3"
   ]
  },
  {
   "cell_type": "markdown",
   "metadata": {},
   "source": [
    "- connect to Database"
   ]
  },
  {
   "cell_type": "code",
   "execution_count": 171,
   "metadata": {},
   "outputs": [],
   "source": [
    "conn = sqlite3.connect('karyawan.db')"
   ]
  },
  {
   "cell_type": "code",
   "execution_count": 172,
   "metadata": {},
   "outputs": [],
   "source": [
    "c = conn.cursor()"
   ]
  },
  {
   "cell_type": "markdown",
   "metadata": {},
   "source": [
    "- select table `data_karyawan`"
   ]
  },
  {
   "cell_type": "code",
   "execution_count": 201,
   "metadata": {},
   "outputs": [
    {
     "data": {
      "text/plain": [
       "<sqlite3.Cursor at 0x2385b709030>"
      ]
     },
     "execution_count": 201,
     "metadata": {},
     "output_type": "execute_result"
    }
   ],
   "source": [
    "c.execute(\n",
    "    \"\"\"\n",
    "    SELECT id,\n",
    "       name,\n",
    "       age,\n",
    "       dob,\n",
    "       gender,\n",
    "       address\n",
    "       FROM data_karyawan;\n",
    "    \"\"\")"
   ]
  },
  {
   "cell_type": "code",
   "execution_count": 202,
   "metadata": {},
   "outputs": [
    {
     "data": {
      "text/plain": [
       "[(1, 'Yunus', 29, '1991-01-01', 'male', 'depok'),\n",
       " (2, 'Sasa', 18, '2002-01-01', 'female', 'Jakarta\\n'),\n",
       " (3, 'Hendi', 10, '2010-01-01', 'male', 'Bogor\\n'),\n",
       " (4, 'Hendi', 10, '2010-01-01', 'male', 'Bogor\\n'),\n",
       " (5, 'Keke', 10, '2010-01-01', 'female', 'Tanggerang\\n'),\n",
       " (6, 'Budi', 29, '2020-01-01', 'male', 'Jkt\\n'),\n",
       " (7, 'Budi', 29, '2020-01-01', 'male', 'Jakarta\\n')]"
      ]
     },
     "execution_count": 202,
     "metadata": {},
     "output_type": "execute_result"
    }
   ],
   "source": [
    "c.fetchall()"
   ]
  },
  {
   "cell_type": "markdown",
   "metadata": {},
   "source": [
    "- insert data"
   ]
  },
  {
   "cell_type": "code",
   "execution_count": 184,
   "metadata": {},
   "outputs": [
    {
     "data": {
      "text/plain": [
       "<sqlite3.Cursor at 0x2385b709030>"
      ]
     },
     "execution_count": 184,
     "metadata": {},
     "output_type": "execute_result"
    }
   ],
   "source": [
    "c.execute(\n",
    "    \"\"\"\n",
    "    INSERT INTO data_karyawan (\n",
    "                                  name,\n",
    "                                  age,\n",
    "                                  dob,\n",
    "                                  gender,\n",
    "                                  address\n",
    "                              )\n",
    "                              VALUES (?, ?, ?, ?, ?);\n",
    "\n",
    "    \"\"\",\n",
    "    (\"Yunus\", 29, \"1991-01-01\", \"male\", \"depok\"))"
   ]
  },
  {
   "cell_type": "code",
   "execution_count": 185,
   "metadata": {},
   "outputs": [],
   "source": [
    "conn.commit()"
   ]
  },
  {
   "cell_type": "code",
   "execution_count": 190,
   "metadata": {},
   "outputs": [],
   "source": [
    "def insert_karyawan(data):\n",
    "    c.execute(\n",
    "        \"\"\"\n",
    "        INSERT INTO data_karyawan (\n",
    "                                      name,\n",
    "                                      age,\n",
    "                                      dob,\n",
    "                                      gender,\n",
    "                                      address\n",
    "                                  )\n",
    "                                  VALUES (?, ?, ?, ?, ?);\n",
    "\n",
    "        \"\"\",\n",
    "        data)\n",
    "    conn.commit()\n",
    "    print(\"Insert Success!\")"
   ]
  },
  {
   "cell_type": "markdown",
   "metadata": {},
   "source": [
    "### 18. Apply Database to Form"
   ]
  },
  {
   "cell_type": "markdown",
   "metadata": {},
   "source": [
    "- check event"
   ]
  },
  {
   "cell_type": "code",
   "execution_count": 188,
   "metadata": {},
   "outputs": [
    {
     "name": "stdout",
     "output_type": "stream",
     "text": [
      "*** tk version 8.6.9 detected.... patching ttk treeview code ***\n",
      "name \t: Yunus\n",
      "age \t: 29\n",
      "dob \t: 1991-01-01\n",
      "... \t: \n",
      "gender \t: male\n",
      "address \t: Depok\n",
      "\n",
      "tnc \t: True\n",
      "table \t: []\n",
      "0 \t: Form Input Karyawan\n"
     ]
    }
   ],
   "source": [
    "layout = get_layout(Data, headings)\n",
    "window = sg.Window(title=\"Form Daftar Karyawan\", layout=layout, margins=(10, 10))\n",
    "\n",
    "event, values = window.read()\n",
    "if event == \"Save\" :\n",
    "    for item in values :\n",
    "        print(item, \"\\t:\", values[item])\n",
    "window.close()"
   ]
  },
  {
   "cell_type": "markdown",
   "metadata": {},
   "source": [
    "- apply to form"
   ]
  },
  {
   "cell_type": "code",
   "execution_count": 193,
   "metadata": {},
   "outputs": [
    {
     "name": "stdout",
     "output_type": "stream",
     "text": [
      "*** tk version 8.6.9 detected.... patching ttk treeview code ***\n",
      "Insert Success!\n"
     ]
    }
   ],
   "source": [
    "layout = get_layout(Data, headings)\n",
    "window = sg.Window(title=\"Form Daftar Karyawan\", layout=layout, margins=(10, 10))\n",
    "\n",
    "event, values = window.read()\n",
    "if event == \"Save\" :\n",
    "    data = (values['name'],\n",
    "            values['age'],\n",
    "            values['dob'],\n",
    "            values['gender'],\n",
    "            values['address'])\n",
    "    insert_karyawan(data)\n",
    "\n",
    "window.close()"
   ]
  },
  {
   "cell_type": "markdown",
   "metadata": {},
   "source": [
    "- apply in loop"
   ]
  },
  {
   "cell_type": "code",
   "execution_count": 195,
   "metadata": {},
   "outputs": [
    {
     "name": "stdout",
     "output_type": "stream",
     "text": [
      "*** tk version 8.6.9 detected.... patching ttk treeview code ***\n",
      "Insert Success!\n"
     ]
    }
   ],
   "source": [
    "layout = get_layout(Data, headings)\n",
    "window = sg.Window(title=\"Form Daftar Karyawan\", layout=layout, margins=(10, 10))\n",
    "\n",
    "while True :\n",
    "    event, values = window.read()\n",
    "    if event == \"Save\" :\n",
    "        data = (values['name'],\n",
    "                values['age'],\n",
    "                values['dob'],\n",
    "                values['gender'],\n",
    "                values['address'])\n",
    "        insert_karyawan(data)\n",
    "        sg.popup('Input Data Karyawan Berhasil!')\n",
    "    \n",
    "    if event == sg.WIN_CLOSED:\n",
    "        break\n",
    "\n",
    "window.close()"
   ]
  },
  {
   "cell_type": "markdown",
   "metadata": {},
   "source": [
    "- clear input after success save"
   ]
  },
  {
   "cell_type": "code",
   "execution_count": 199,
   "metadata": {},
   "outputs": [],
   "source": [
    "def clear_input():\n",
    "    for key in ['name', 'age', 'dob', 'gender', 'address', 'tnc']:\n",
    "        window.FindElement(key).Update('')"
   ]
  },
  {
   "cell_type": "code",
   "execution_count": 200,
   "metadata": {},
   "outputs": [
    {
     "name": "stdout",
     "output_type": "stream",
     "text": [
      "*** tk version 8.6.9 detected.... patching ttk treeview code ***\n",
      "Insert Success!\n"
     ]
    }
   ],
   "source": [
    "layout = get_layout(Data, headings)\n",
    "window = sg.Window(title=\"Form Daftar Karyawan\", layout=layout, margins=(10, 10))\n",
    "\n",
    "while True :\n",
    "    event, values = window.read()\n",
    "    if event == \"Save\" :\n",
    "        data = (values['name'],\n",
    "                values['age'],\n",
    "                values['dob'],\n",
    "                values['gender'],\n",
    "                values['address'])\n",
    "        \n",
    "        insert_karyawan(data)\n",
    "        \n",
    "        sg.popup('Input Data Karyawan Berhasil!')\n",
    "        \n",
    "        clear_input()\n",
    "    \n",
    "    if event == sg.WIN_CLOSED:\n",
    "        break\n",
    "\n",
    "window.close()"
   ]
  },
  {
   "cell_type": "markdown",
   "metadata": {},
   "source": [
    "### 19. Apply Database to Table Widget"
   ]
  },
  {
   "cell_type": "code",
   "execution_count": 229,
   "metadata": {},
   "outputs": [],
   "source": [
    "def get_data_karyawan():\n",
    "    c.execute(\n",
    "        \"\"\"\n",
    "        SELECT id,\n",
    "           name,\n",
    "           age,\n",
    "           dob,\n",
    "           gender,\n",
    "           address\n",
    "           FROM data_karyawan;\n",
    "        \"\"\")\n",
    "    return [ list(item) for item in c.fetchall()]"
   ]
  },
  {
   "cell_type": "code",
   "execution_count": 230,
   "metadata": {},
   "outputs": [
    {
     "data": {
      "text/plain": [
       "[[1, 'Yunus', 29, '1991-01-01', 'male', 'depok'],\n",
       " [2, 'Sasa', 18, '2002-01-01', 'female', 'Jakarta\\n'],\n",
       " [3, 'Hendi', 10, '2010-01-01', 'male', 'Bogor\\n'],\n",
       " [4, 'Hendi', 10, '2010-01-01', 'male', 'Bogor\\n'],\n",
       " [5, 'Keke', 10, '2010-01-01', 'female', 'Tanggerang\\n'],\n",
       " [6, 'Budi', 29, '2020-01-01', 'male', 'Jkt\\n'],\n",
       " [7, 'Budi', 29, '2020-01-01', 'male', 'Jakarta\\n'],\n",
       " [8, 'XXX', 22, '1991-01-01', 'male', 'nndnd\\n']]"
      ]
     },
     "execution_count": 230,
     "metadata": {},
     "output_type": "execute_result"
    }
   ],
   "source": [
    "get_data_karyawan()"
   ]
  },
  {
   "cell_type": "code",
   "execution_count": 232,
   "metadata": {},
   "outputs": [
    {
     "name": "stdout",
     "output_type": "stream",
     "text": [
      "*** tk version 8.6.9 detected.... patching ttk treeview code ***\n"
     ]
    }
   ],
   "source": [
    "Data = get_data_karyawan()\n",
    "headings = ['No. ', 'Name     ', 'Age ', 'Birth Date ', 'Gender', 'Address              ']\n",
    "\n",
    "layout = get_layout(Data, headings)\n",
    "window = sg.Window(title=\"Form Daftar Karyawan\", layout=layout, margins=(10, 10))\n",
    "\n",
    "while True :\n",
    "    get_data_karyawan()\n",
    "    event, values = window.read()\n",
    "    if event == \"Save\" :\n",
    "        data = (values['name'],\n",
    "                values['age'],\n",
    "                values['dob'],\n",
    "                values['gender'],\n",
    "                values['address'])\n",
    "        \n",
    "        insert_karyawan(data)\n",
    "        \n",
    "        sg.popup('Input Data Karyawan Berhasil!')\n",
    "        \n",
    "        clear_input()\n",
    "        \n",
    "        Data = get_data_karyawan()\n",
    "        window.FindElement(\"table\").Update(Data)\n",
    "    \n",
    "    if event == sg.WIN_CLOSED:\n",
    "        break\n",
    "\n",
    "window.close()"
   ]
  },
  {
   "cell_type": "markdown",
   "metadata": {},
   "source": [
    "### 20. Edit Form"
   ]
  },
  {
   "cell_type": "code",
   "execution_count": 254,
   "metadata": {},
   "outputs": [],
   "source": [
    "def get_layout(Data, headings):\n",
    "    layout_tab1 = [[sg.Text(\"Name \\t\\t:\", size=(15,1)), sg.InputText(key='name')],\n",
    "              [sg.Text(\"Age \\t\\t:\", size=(15,1)), sg.InputText(key='age')],\n",
    "              [sg.Text(\"DoB \\t\\t:\", size=(15,1)), \n",
    "                           sg.InputText(key='dob'),\n",
    "                           sg.CalendarButton(\"...\", target='dob', format='%Y-%m-%d')],\n",
    "              [sg.Text(\"Gender \\t\\t:\", size=(15,1)), sg.Combo(['male', 'female'], key='gender', size=(45,1))],\n",
    "              [sg.Text(\"Address \\t\\t:\", size=(15,1)), sg.Multiline(key='address', size=(45,3))],\n",
    "              [sg.Checkbox('I agree to terms and conditions.', key='tnc')],\n",
    "\n",
    "              [\n",
    "              sg.Button(key=\"Save\",\n",
    "                        image_filename=image_save, \n",
    "                        button_color=('#FFF', '#FFF'), \n",
    "                        image_size=(40, 40), \n",
    "                        image_subsample=3, \n",
    "                        border_width=0),\n",
    "              sg.Button(key=\"Delete\",\n",
    "                        image_filename=image_delete, \n",
    "                        button_color=('#FFF', '#FFF'), \n",
    "                        image_size=(40, 40), \n",
    "                        image_subsample=3, \n",
    "                        border_width=0),\n",
    "              sg.Button(key=\"Cancel\",\n",
    "                        image_filename=image_cancel, \n",
    "                        button_color=('#FFF', '#FFF'), \n",
    "                        image_size=(40, 40), \n",
    "                        image_subsample=3, \n",
    "                        border_width=0)\n",
    "              ]]\n",
    "\n",
    "    layout_tab2 = [[sg.Table(values=Data, headings=headings, key='table', \n",
    "                             background_color='#f0f3f7',\n",
    "                             text_color='black'\n",
    "                            )]]\n",
    "\n",
    "    layout = [[sg.TabGroup([\n",
    "                            [sg.Tab('Form Input Karyawan', layout_tab1), sg.Tab('List Karyawan', layout_tab2)]\n",
    "                            ])\n",
    "              ]]\n",
    "    return layout"
   ]
  },
  {
   "cell_type": "code",
   "execution_count": null,
   "metadata": {},
   "outputs": [],
   "source": []
  }
 ],
 "metadata": {
  "kernelspec": {
   "display_name": "Python [conda env:opencv_env]",
   "language": "python",
   "name": "conda-env-opencv_env-py"
  },
  "language_info": {
   "codemirror_mode": {
    "name": "ipython",
    "version": 3
   },
   "file_extension": ".py",
   "mimetype": "text/x-python",
   "name": "python",
   "nbconvert_exporter": "python",
   "pygments_lexer": "ipython3",
   "version": "3.8.6"
  }
 },
 "nbformat": 4,
 "nbformat_minor": 4
}
