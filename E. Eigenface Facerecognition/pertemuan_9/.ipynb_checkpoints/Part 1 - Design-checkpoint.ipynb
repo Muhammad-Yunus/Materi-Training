{
 "cells": [
  {
   "cell_type": "markdown",
   "metadata": {},
   "source": [
    "# Pertemuan 9\n",
    "- Wireframe Desktop App\n",
    "- Data Model\n",
    "- Apply Face Recognition Inference to GUI App"
   ]
  },
  {
   "cell_type": "markdown",
   "metadata": {},
   "source": [
    "### 1. Wireframe Desktop App"
   ]
  },
  {
   "cell_type": "markdown",
   "metadata": {},
   "source": [
    "- Halaman Home <br>\n",
    "![](resource/home.png)"
   ]
  },
  {
   "cell_type": "markdown",
   "metadata": {},
   "source": [
    "- Halaman Histori <br>\n",
    "![](resource/history.png)"
   ]
  },
  {
   "cell_type": "markdown",
   "metadata": {},
   "source": [
    "- Halaman List User <br>\n",
    "![](resource/User.png)"
   ]
  },
  {
   "cell_type": "markdown",
   "metadata": {},
   "source": [
    "- Halaman User Detail <br>\n",
    "![](resource/Userdetail.png)"
   ]
  },
  {
   "cell_type": "markdown",
   "metadata": {},
   "source": [
    "- Halaman Pengaturan <br>\n",
    "![](resource/pengaturan.png)"
   ]
  },
  {
   "cell_type": "markdown",
   "metadata": {},
   "source": [
    "#### 2. Data Model\n",
    "![](resource/datamodel.png)"
   ]
  },
  {
   "cell_type": "markdown",
   "metadata": {},
   "source": [
    "#### 3. Create Database & Table\n",
    "- Table `User` :\n",
    "- kolom :\n",
    "    - `Id` : primary key (Autoincrement, unique)\n",
    "    - `Nama` :  TEXT(50)\n",
    "    - `NIM` : TEXT(20)\n",
    "    - `JenisKelamin` : TEXT(2)\n",
    "    - `Umur` : INTEGER\n",
    "    - `Alamat` : TEXT(500)\n",
    "    - `NamaFoto` : TEXT(50)\n",
    "    - `PredictionId` : INTEGER<br>\n",
    "![](resource/tableUser.png)\n",
    "- Table `Kehadiran` :\n",
    "- kolom :\n",
    "    - `Id` : primary key (Autoincrement, unique)\n",
    "    - `UserId` : foreign key (User Id)\n",
    "    - `JamMasuk` : TIME\n",
    "    - `NamaKelas` : TEXT(50)\n",
    "    - `JamKelasMulai` : TIME\n",
    "    - `JamKelasBerakhir` : TIME\n",
    "    - `Status` : TEXT(15)\n",
    "    - `Date` : DATE<br>\n",
    "![](resource/tableKehadiran.png)"
   ]
  },
  {
   "cell_type": "code",
   "execution_count": null,
   "metadata": {},
   "outputs": [],
   "source": []
  }
 ],
 "metadata": {
  "kernelspec": {
   "display_name": "Python [conda env:opencv_env]",
   "language": "python",
   "name": "conda-env-opencv_env-py"
  },
  "language_info": {
   "codemirror_mode": {
    "name": "ipython",
    "version": 3
   },
   "file_extension": ".py",
   "mimetype": "text/x-python",
   "name": "python",
   "nbconvert_exporter": "python",
   "pygments_lexer": "ipython3",
   "version": "3.8.6"
  }
 },
 "nbformat": 4,
 "nbformat_minor": 4
}
