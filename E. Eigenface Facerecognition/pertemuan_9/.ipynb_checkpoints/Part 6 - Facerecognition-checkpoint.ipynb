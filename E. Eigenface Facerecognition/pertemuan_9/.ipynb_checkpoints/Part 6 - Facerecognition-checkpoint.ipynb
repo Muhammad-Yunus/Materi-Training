{
 "cells": [
  {
   "cell_type": "code",
   "execution_count": 1,
   "metadata": {},
   "outputs": [],
   "source": [
    "import os\n",
    "import time\n",
    "import datetime\n",
    "import numpy as np\n",
    "import PySimpleGUI as sg "
   ]
  },
  {
   "cell_type": "code",
   "execution_count": 2,
   "metadata": {},
   "outputs": [],
   "source": [
    "import cv2\n",
    "import pickle\n",
    "import matplotlib.pyplot as plt\n",
    "\n",
    "import pyautogui\n",
    "from PIL import ImageGrab\n",
    "from win10toast import ToastNotifier\n",
    "\n",
    "from sklearn.decomposition import PCA\n",
    "from sklearn.neighbors import KNeighborsClassifier\n",
    "from sklearn.svm import SVC"
   ]
  },
  {
   "cell_type": "code",
   "execution_count": 3,
   "metadata": {},
   "outputs": [],
   "source": [
    "from user import User\n",
    "from kehadiran import Kehadiran"
   ]
  },
  {
   "cell_type": "markdown",
   "metadata": {},
   "source": [
    "- layout definition"
   ]
  },
  {
   "cell_type": "code",
   "execution_count": 4,
   "metadata": {},
   "outputs": [],
   "source": [
    "def get_layout_user_item(record):\n",
    "    Nama = record['Nama']\n",
    "    NIM  = record['NIM']\n",
    "    JenisKelamin = record['JenisKelamin']\n",
    "    JamMasuk = record['JamMasuk']\n",
    "    filename = record['NamaFoto']\n",
    "    \n",
    "    \n",
    "    layout_photo = [[sg.Image(filename=\"photo/\" + filename, key=\"foto-\" + filename, size=(100,100))]]\n",
    "    layout_user = [[sg.Text(\"Nama \\t: \" + Nama)],\n",
    "                  [sg.Text(\"NIM \\t: \" + NIM)],\n",
    "                  [sg.Text(\"Kelamin \\t: \" + JenisKelamin)],\n",
    "                  [sg.Text(\"Masuk \\t: \" + JamMasuk)]]\n",
    "    \n",
    "    layout_item =[\n",
    "                    sg.Column(layout_photo), \n",
    "                    sg.Column(layout_user)\n",
    "                  ]\n",
    "    return layout_item"
   ]
  },
  {
   "cell_type": "code",
   "execution_count": 5,
   "metadata": {},
   "outputs": [],
   "source": [
    "def get_class_info():\n",
    "    curr_date = datetime.datetime.now().strftime(\"%A, %d %B %Y\")\n",
    "    layout = [\n",
    "        [sg.Text(curr_date, justification='right', size=(38,1), font=(\"Helvetica\", 10, \"italic\"))],\n",
    "        [sg.Text(\"Kelas \\t\\t: \"), sg.InputText(key=\"Kelas\", size=(24,1))],\n",
    "        [sg.Text(\"Jumlah Peserta \\t: \"), sg.InputText(key=\"JumlahPeserta\", size=(24,1))],\n",
    "        [sg.Text(\"JumlahHadir \\t: \"), sg.Text(\"-\", key=\"JumlahHadir\", size=(24,1))],\n",
    "        [sg.Text(\"JamMulai \\t: \"), sg.Text(\"-\", key=\"JamMulai\", size=(24,1))],\n",
    "        [sg.Text(\"Durasi \\t\\t: \"), sg.Text(\"-\", key=\"Durasi\", size=(24,1))],\n",
    "        [sg.Text(\"Status \\t\\t: \"), sg.Text(\"-\", key=\"Status\", size=(24,1))],\n",
    "        [sg.Button(\"   Mulai   \", key=\"mulai\"), sg.Button(\"   Akhiri   \", key=\"akhiri\")]\n",
    "    ]\n",
    "    return layout"
   ]
  },
  {
   "cell_type": "code",
   "execution_count": 6,
   "metadata": {},
   "outputs": [],
   "source": [
    "def get_layout_home(records):\n",
    "    # list user     \n",
    "    list_user_layout = [get_layout_user_item(record) for record in records]\n",
    "    \n",
    "    layout_left = [\n",
    "        [\n",
    "            sg.Column(list_user_layout, scrollable=True, vertical_scroll_only=True, size=(360, 400))\n",
    "        ]\n",
    "    ]\n",
    "    \n",
    "    \n",
    "    # informasi kelas     \n",
    "    layout_right = get_class_info()\n",
    "    \n",
    "    layout = [\n",
    "        [\n",
    "            sg.Column(layout_left),\n",
    "            sg.VerticalSeparator(), # vertical separator\n",
    "            sg.Column(layout_right)\n",
    "        ]\n",
    "    ]\n",
    "    return layout"
   ]
  },
  {
   "cell_type": "code",
   "execution_count": 7,
   "metadata": {},
   "outputs": [],
   "source": [
    "def get_layout(records):\n",
    "    layout_home = get_layout_home(records)\n",
    "    layout_history = [[sg.Text(\"Histori\", size=(80,20))]]\n",
    "    layout_user = [[sg.Text(\"User\", size=(80,20))]]\n",
    "    layout_pengaturan = [[sg.Text(\"Pengaturan\", size=(80,20))]]\n",
    "\n",
    "    layout = [[sg.TabGroup([\n",
    "                            [sg.Tab('Home', layout_home), \n",
    "                             sg.Tab('History', layout_history),\n",
    "                             sg.Tab('User', layout_user),\n",
    "                             sg.Tab('Pengaturan', layout_pengaturan)]\n",
    "                            ])\n",
    "              ]]\n",
    "    return layout"
   ]
  },
  {
   "cell_type": "markdown",
   "metadata": {},
   "source": [
    "- facerecognition"
   ]
  },
  {
   "cell_type": "code",
   "execution_count": 8,
   "metadata": {},
   "outputs": [],
   "source": [
    "def screen_capture(window_name= 'Zoom Meeting'):\n",
    "    if window_name not in pyautogui.getAllTitles():\n",
    "        return None\n",
    "    try :\n",
    "        fw = pyautogui.getWindowsWithTitle(window_name)[0]\n",
    "        fw.maximize()\n",
    "        pyautogui.click(fw.center)\n",
    "        fw.activate()\n",
    "    except :\n",
    "        pass\n",
    "    \n",
    "    time.sleep(1)\n",
    "\n",
    "    sct = ImageGrab.grab() \n",
    "    img = np.array(sct)\n",
    "    \n",
    "    return img"
   ]
  },
  {
   "cell_type": "code",
   "execution_count": 9,
   "metadata": {},
   "outputs": [],
   "source": [
    "def preprocess(img):\n",
    "    face_cascade = cv2.CascadeClassifier('haarcascades/haarcascade_frontalface_default.xml')\n",
    "    \n",
    "    img_list = []\n",
    "    img_gray = cv2.cvtColor(img, cv2.COLOR_BGR2GRAY)\n",
    "        \n",
    "    faces = face_cascade.detectMultiScale(img_gray, 1.3, 5)\n",
    "    for (x, y, w, h) in faces:\n",
    "        img_face = img_gray[y:y+h, x:x+w]  # crop face image \n",
    "        img_resize = cv2.resize(img_face, (100, 100)) # resize to 100 x 100 pixel\n",
    "        img_list.append(img_resize)\n",
    "    return img_list, faces"
   ]
  },
  {
   "cell_type": "code",
   "execution_count": 10,
   "metadata": {},
   "outputs": [],
   "source": [
    "def read_model(filename, path=\"\"):\n",
    "    with open(os.path.join(path, filename), 'rb') as in_name:\n",
    "        model = pickle.load(in_name)\n",
    "        return model"
   ]
  },
  {
   "cell_type": "markdown",
   "metadata": {},
   "source": [
    "- main program"
   ]
  },
  {
   "cell_type": "code",
   "execution_count": 11,
   "metadata": {},
   "outputs": [],
   "source": [
    "def create_window(layout):\n",
    "    return sg.Window(title=\"Aplikasi Pencatatan Kehadiran\", layout=layout, margins=(10, 10), finalize=True)"
   ]
  },
  {
   "cell_type": "code",
   "execution_count": 12,
   "metadata": {},
   "outputs": [],
   "source": [
    "def recognizer(labels, window_name= 'Zoom Meeting', show_toast=False, threshold=0.3):\n",
    "    # get data     \n",
    "    img = screen_capture(window_name=window_name)\n",
    "    if img is None :\n",
    "        print(\"[INFO] could not find window !\")\n",
    "        return None\n",
    "\n",
    "    # preprocessing    \n",
    "    img_list, face_coords = preprocess(img)\n",
    "    if len(img_list) < 1 :\n",
    "        print(\"[INFO] could not find face!\")\n",
    "        return None\n",
    "    else : \n",
    "        # convert each detected face to 1D array feature vector\n",
    "        img_list_flatten = [img.flatten() for img in img_list]\n",
    "\n",
    "        # apply PCA to each 1D array feature vector\n",
    "        img_list_pca = pca.transform(img_list_flatten)\n",
    "\n",
    "        # predict data using SVM    \n",
    "        ids = np.array(model_svm.predict(img_list_pca))\n",
    "\n",
    "        proba = model_svm.predict_proba(img_list_pca)\n",
    "        confidence = np.array([np.max(p) for p in proba])\n",
    "\n",
    "        reff = [i for i, conf in enumerate(confidence) if conf >= threshold]\n",
    "\n",
    "        filtered_ids = ids[reff]\n",
    "        filtered_confidence = confidence[reff]\n",
    "        \n",
    "        label_output = [labels[i] for i in filtered_ids]\n",
    "        \n",
    "        for i in range(len(filtered_ids)):\n",
    "            title = \"Name : %s (%.2f%%)\" % (label_output[i], (filtered_confidence[i]*100))\n",
    "            if show_toast:\n",
    "                toaster.show_toast(\"Attendance Systems\", title)\n",
    "        \n",
    "        \n",
    "    return filtered_ids"
   ]
  },
  {
   "cell_type": "code",
   "execution_count": 13,
   "metadata": {},
   "outputs": [
    {
     "name": "stdout",
     "output_type": "stream",
     "text": [
      "Nama : Yunus\n"
     ]
    }
   ],
   "source": [
    "toaster = ToastNotifier()\n",
    "\n",
    "pca = read_model(\"pca_model.pkl\")\n",
    "model_svm = read_model(\"SVM_scikit_model.pkl\")\n",
    "\n",
    "kehadiran = Kehadiran()\n",
    "user = User()\n",
    "labels = [\"-\"]*10 \n",
    "for record in user.select_user():\n",
    "    labels.insert(record['PredictionId'], record['Nama'])\n",
    "    \n",
    "curr_date = datetime.datetime.now().strftime(\"%Y-%m-%d\")\n",
    "\n",
    "curr_user_records = []\n",
    "layout = get_layout(curr_user_records)\n",
    "window = create_window(layout)\n",
    "window['akhiri'].update(disabled=True)\n",
    "\n",
    "status = ''\n",
    "start_time = ''\n",
    "update = False\n",
    "delay_capture = 30 #second\n",
    "\n",
    "\n",
    "while True :\n",
    "    event, values = window.read(timeout=25)\n",
    "    \n",
    "    if event == 'mulai' or update == True:\n",
    "        window.close()\n",
    "        \n",
    "        if event == 'mulai' :\n",
    "            start_time = datetime.datetime.now()\n",
    "            \n",
    "        curr_user_records = user.get_user_in_class(curr_date, values['Kelas'])\n",
    "        layout = get_layout(curr_user_records)\n",
    "        window = create_window(layout)\n",
    "        \n",
    "        status = 'berlangsung'\n",
    "        window['Kelas'].update(value=values['Kelas'])\n",
    "        window['JumlahPeserta'].update(value=values['JumlahPeserta'])\n",
    "        window['JumlahHadir'].update(value=len(curr_user_records))\n",
    "        window['Status'].update(value=status)\n",
    "        window['JamMulai'].update(value=start_time.strftime(\"%H:%M:%S\"))\n",
    "        \n",
    "        window['mulai'].update(disabled=True)\n",
    "        window['akhiri'].update(disabled=False)\n",
    "        \n",
    "        if update :\n",
    "            update = False\n",
    "        \n",
    "    if event == 'akhiri':\n",
    "        status = 'selesai'\n",
    "        window['mulai'].update(disabled=False)\n",
    "        window['akhiri'].update(disabled=True)\n",
    "        \n",
    "        kehadiran.update_kehadiran_selesai(values['Kelas'], \n",
    "                                           curr_date, \n",
    "                                           datetime.datetime.now().strftime(\"%Y-%m-%d\"))\n",
    "\n",
    "        \n",
    "    if status == 'berlangsung':\n",
    "        curr_time = datetime.datetime.now()\n",
    "        diff_time = curr_time - start_time\n",
    "        window['Durasi'].update(value=str(diff_time).split(\".\")[0])\n",
    "        \n",
    "        if curr_time.second % delay_capture == 0 :\n",
    "            predicted_ids = recognizer(labels, show_toast=False)\n",
    "            if predicted_ids is not None :\n",
    "                for idx in predicted_ids :\n",
    "                    if idx not in [record['PredictionId'] for record in curr_user_records] :\n",
    "                        record_user = user.select_user_by_prediction_id(int(idx))\n",
    "                        if record_user is not None :\n",
    "                            print(\"Nama :\", record_user['Nama'])\n",
    "                            \n",
    "                            record_kehadiran = {}\n",
    "                            record_kehadiran['UserId'] = record_user['Id']\n",
    "                            record_kehadiran['JamMasuk'] = datetime.datetime.now().strftime(\"%H:%M:%S\")\n",
    "                            record_kehadiran['NamaKelas'] = values['Kelas']\n",
    "                            record_kehadiran['JamKelasMulai'] = start_time.strftime(\"%H:%M:%S\")\n",
    "                            record_kehadiran['JamKelasBerakhir'] = ''\n",
    "                            record_kehadiran['Status'] = status\n",
    "                            record_kehadiran['Date'] = curr_date\n",
    "\n",
    "                            kehadiran.create_kehadiran(record_kehadiran)\n",
    "                            \n",
    "                            update = True\n",
    "                            \n",
    "            \n",
    "    if event == sg.WIN_CLOSED:\n",
    "        break\n",
    "        \n",
    "window.close()"
   ]
  },
  {
   "cell_type": "code",
   "execution_count": 16,
   "metadata": {},
   "outputs": [
    {
     "data": {
      "text/plain": [
       "'error'"
      ]
     },
     "execution_count": 16,
     "metadata": {},
     "output_type": "execute_result"
    }
   ],
   "source": [
    "kehadiran.update_kehadiran_selesai('Sunda', \n",
    "                                   datetime.datetime.now().strftime(\"%Y-%m-%d\"), \n",
    "                                   datetime.datetime.now().strftime(\"%H:%M:%S\"))"
   ]
  },
  {
   "cell_type": "code",
   "execution_count": 15,
   "metadata": {},
   "outputs": [
    {
     "ename": "TypeError",
     "evalue": "'NoneType' object is not subscriptable",
     "output_type": "error",
     "traceback": [
      "\u001b[1;31m---------------------------------------------------------------------------\u001b[0m",
      "\u001b[1;31mTypeError\u001b[0m                                 Traceback (most recent call last)",
      "\u001b[1;32m<ipython-input-15-dedb4826b8ee>\u001b[0m in \u001b[0;36m<module>\u001b[1;34m\u001b[0m\n\u001b[1;32m----> 1\u001b[1;33m \u001b[0mvalues\u001b[0m\u001b[1;33m[\u001b[0m\u001b[1;34m'Kelas'\u001b[0m\u001b[1;33m]\u001b[0m\u001b[1;33m\u001b[0m\u001b[1;33m\u001b[0m\u001b[0m\n\u001b[0m",
      "\u001b[1;31mTypeError\u001b[0m: 'NoneType' object is not subscriptable"
     ]
    }
   ],
   "source": [
    "values['Kelas']"
   ]
  },
  {
   "cell_type": "code",
   "execution_count": null,
   "metadata": {},
   "outputs": [],
   "source": []
  }
 ],
 "metadata": {
  "kernelspec": {
   "display_name": "Python [conda env:opencv_env]",
   "language": "python",
   "name": "conda-env-opencv_env-py"
  },
  "language_info": {
   "codemirror_mode": {
    "name": "ipython",
    "version": 3
   },
   "file_extension": ".py",
   "mimetype": "text/x-python",
   "name": "python",
   "nbconvert_exporter": "python",
   "pygments_lexer": "ipython3",
   "version": "3.8.6"
  }
 },
 "nbformat": 4,
 "nbformat_minor": 4
}
