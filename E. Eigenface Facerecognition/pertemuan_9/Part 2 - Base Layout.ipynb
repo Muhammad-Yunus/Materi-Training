{
 "cells": [
  {
   "cell_type": "markdown",
   "metadata": {},
   "source": [
    "___\n",
    "#### 4. Basic App Template"
   ]
  },
  {
   "cell_type": "code",
   "execution_count": 1,
   "metadata": {},
   "outputs": [],
   "source": [
    "import os\n",
    "import time\n",
    "import datetime\n",
    "import numpy as np\n",
    "import PySimpleGUI as sg "
   ]
  },
  {
   "cell_type": "code",
   "execution_count": 2,
   "metadata": {},
   "outputs": [],
   "source": [
    "def get_layout():\n",
    "    layout_home = [[sg.Text(\"Home\", size=(110,30))]]\n",
    "    layout_history = [[sg.Text(\"Histori\", size=(110,30))]]\n",
    "    layout_user = [[sg.Text(\"User\", size=(110,30))]]\n",
    "    layout_pengaturan = [[sg.Text(\"Pengaturan\", size=(110,30))]]\n",
    "\n",
    "    layout = [[sg.TabGroup([\n",
    "                            [sg.Tab('Home', layout_home), \n",
    "                             sg.Tab('History', layout_history),\n",
    "                             sg.Tab('User', layout_user),\n",
    "                             sg.Tab('Pengaturan', layout_pengaturan)]\n",
    "                            ])\n",
    "              ]]\n",
    "    return layout"
   ]
  },
  {
   "cell_type": "code",
   "execution_count": 3,
   "metadata": {},
   "outputs": [],
   "source": [
    "layout = get_layout()\n",
    "\n",
    "window = sg.Window(title=\"Aplikasi Pencatatan Kehadiran\", layout=layout, margins=(10, 10))\n",
    "window.read()\n",
    "\n",
    "window.close()"
   ]
  },
  {
   "cell_type": "code",
   "execution_count": null,
   "metadata": {},
   "outputs": [],
   "source": []
  }
 ],
 "metadata": {
  "kernelspec": {
   "display_name": "Python [conda env:opencv_env]",
   "language": "python",
   "name": "conda-env-opencv_env-py"
  },
  "language_info": {
   "codemirror_mode": {
    "name": "ipython",
    "version": 3
   },
   "file_extension": ".py",
   "mimetype": "text/x-python",
   "name": "python",
   "nbconvert_exporter": "python",
   "pygments_lexer": "ipython3",
   "version": "3.8.6"
  }
 },
 "nbformat": 4,
 "nbformat_minor": 4
}
