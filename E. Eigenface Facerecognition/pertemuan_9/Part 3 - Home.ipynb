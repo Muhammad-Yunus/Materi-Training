{
 "cells": [
  {
   "cell_type": "markdown",
   "metadata": {},
   "source": [
    "___\n",
    "#### 5. Create Layout Home"
   ]
  },
  {
   "cell_type": "code",
   "execution_count": 1,
   "metadata": {},
   "outputs": [],
   "source": [
    "import os\n",
    "import time\n",
    "import datetime\n",
    "import numpy as np\n",
    "import PySimpleGUI as sg "
   ]
  },
  {
   "cell_type": "code",
   "execution_count": 4,
   "metadata": {},
   "outputs": [],
   "source": [
    "def get_layout_user_item(record):\n",
    "    Nama = record['Nama']\n",
    "    NIM  = record['NIM']\n",
    "    JenisKelamin = record['JenisKelamin']\n",
    "    JamMasuk = record['JamMasuk']\n",
    "    filename = record['NamaFoto']\n",
    "    \n",
    "    \n",
    "    layout_photo = [[sg.Image(filename=\"photo/\" + filename, key=\"foto-\" + filename, size=(100,100))]]\n",
    "    layout_user = [[sg.Text(\"Nama \\t: \" + Nama)],\n",
    "                  [sg.Text(\"NIM \\t: \" + NIM)],\n",
    "                  [sg.Text(\"Kelamin \\t: \" + JenisKelamin)],\n",
    "                  [sg.Text(\"Masuk \\t: \" + JamMasuk)]]\n",
    "    \n",
    "    layout_item =[\n",
    "                    sg.Column(layout_photo), \n",
    "                    sg.Column(layout_user)\n",
    "                  ]\n",
    "    return layout_item"
   ]
  },
  {
   "cell_type": "code",
   "execution_count": 5,
   "metadata": {},
   "outputs": [],
   "source": [
    "def get_class_info():\n",
    "    curr_date = datetime.datetime.now().strftime(\"%A, %d %B %Y\")\n",
    "    layout = [\n",
    "        [sg.Text(curr_date, justification='right', size=(30,1), font=(\"Helvetica\", 10, \"italic\"))],\n",
    "        [sg.Text(\"Kelas \\t\\t: \"), sg.InputText(key=\"Kelas\", size=(14,1))],\n",
    "        [sg.Text(\"Jumlah Peserta \\t: \"), sg.InputText(key=\"JumlahPeserta\", size=(14,1))],\n",
    "        [sg.Text(\"JumlahHadir \\t: \"), sg.Text(\"-\", key=\"JumlahHadir\", size=(14,1))],\n",
    "        [sg.Text(\"JamMulai \\t: \"), sg.Text(\"-\", key=\"JamMulai\", size=(14,1))],\n",
    "        [sg.Text(\"Durasi \\t\\t: \"), sg.Text(\"-\", key=\"Durasi\", size=(14,1))],\n",
    "        [sg.Text(\"Status \\t\\t: \"), sg.Text(\"-\", key=\"Status\", size=(14,1))],\n",
    "        [sg.Button(\"   Mulai   \", key=\"mulai\"), sg.Button(\"   Akhiri   \", key=\"akhiri\")]\n",
    "    ]\n",
    "    return layout"
   ]
  },
  {
   "cell_type": "code",
   "execution_count": 6,
   "metadata": {},
   "outputs": [],
   "source": [
    "def get_layout_home(records):\n",
    "    # list user     \n",
    "    list_user_layout = [get_layout_user_item(record) for record in records]\n",
    "    \n",
    "    layout_left = [\n",
    "        [\n",
    "            sg.Column(list_user_layout, scrollable=True, vertical_scroll_only=True, size=(360, 400))\n",
    "        ]\n",
    "    ]\n",
    "    \n",
    "    \n",
    "    # informasi kelas     \n",
    "    layout_right = get_class_info()\n",
    "    \n",
    "    layout = [\n",
    "        [\n",
    "            sg.Column(layout_left),\n",
    "            sg.VerticalSeparator(), # vertical separator\n",
    "            sg.Column(layout_right)\n",
    "        ]\n",
    "    ]\n",
    "    return layout"
   ]
  },
  {
   "cell_type": "code",
   "execution_count": 7,
   "metadata": {},
   "outputs": [],
   "source": [
    "def get_layout(records):\n",
    "    layout_home = get_layout_home(records)\n",
    "    layout_history = [[sg.Text(\"Histori\", size=(80,20))]]\n",
    "    layout_user = [[sg.Text(\"User\", size=(80,20))]]\n",
    "    layout_pengaturan = [[sg.Text(\"Pengaturan\", size=(80,20))]]\n",
    "\n",
    "    layout = [[sg.TabGroup([\n",
    "                            [sg.Tab('Home', layout_home), \n",
    "                             sg.Tab('History', layout_history),\n",
    "                             sg.Tab('User', layout_user),\n",
    "                             sg.Tab('Pengaturan', layout_pengaturan)]\n",
    "                            ])\n",
    "              ]]\n",
    "    return layout"
   ]
  },
  {
   "cell_type": "code",
   "execution_count": 8,
   "metadata": {},
   "outputs": [],
   "source": [
    "# create dummy data\n",
    "records = []\n",
    "for filename in os.listdir(\"photo\"):\n",
    "    records.append({'NamaFoto' : filename,\n",
    "                   'Nama' : 'John Doe',\n",
    "                   'NIM' : 'A15001',\n",
    "                   'JenisKelamin' : 'L',\n",
    "                   'JamMasuk' : '08:30:00'})\n",
    "    \n",
    "    \n",
    "layout = get_layout(records)\n",
    "\n",
    "window = sg.Window(title=\"Aplikasi Pencatatan Kehadiran\", layout=layout, margins=(10, 10))\n",
    "window.read()\n",
    "\n",
    "window.close()"
   ]
  }
 ],
 "metadata": {
  "kernelspec": {
   "display_name": "Python [conda env:opencv_env]",
   "language": "python",
   "name": "conda-env-opencv_env-py"
  },
  "language_info": {
   "codemirror_mode": {
    "name": "ipython",
    "version": 3
   },
   "file_extension": ".py",
   "mimetype": "text/x-python",
   "name": "python",
   "nbconvert_exporter": "python",
   "pygments_lexer": "ipython3",
   "version": "3.8.6"
  }
 },
 "nbformat": 4,
 "nbformat_minor": 4
}
