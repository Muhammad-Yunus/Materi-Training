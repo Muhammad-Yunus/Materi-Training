{
 "cells": [
  {
   "cell_type": "markdown",
   "metadata": {},
   "source": [
    "___\n",
    "#### 6. CRUD Database\n",
    "CRUD (CREATE, READ, UPDATE, DELETE)\n",
    "\n",
    "#### A. CRUD User"
   ]
  },
  {
   "cell_type": "code",
   "execution_count": 1,
   "metadata": {},
   "outputs": [],
   "source": [
    "import datetime"
   ]
  },
  {
   "cell_type": "code",
   "execution_count": 2,
   "metadata": {},
   "outputs": [],
   "source": [
    "from user import User"
   ]
  },
  {
   "cell_type": "code",
   "execution_count": 3,
   "metadata": {},
   "outputs": [],
   "source": [
    "user = User()"
   ]
  },
  {
   "cell_type": "markdown",
   "metadata": {},
   "source": [
    "- select user"
   ]
  },
  {
   "cell_type": "code",
   "execution_count": 14,
   "metadata": {},
   "outputs": [
    {
     "data": {
      "text/plain": [
       "[{'Id': 1,\n",
       "  'Nama': 'Yunus',\n",
       "  'NIM': 'B01001',\n",
       "  'JenisKelamin': 'L',\n",
       "  'Umur': 29,\n",
       "  'Alamat': 'Bandung',\n",
       "  'NamaFoto': 'yunus.png',\n",
       "  'PredictionId': 5},\n",
       " {'Id': 2,\n",
       "  'Nama': 'Collin Powell',\n",
       "  'NIM': 'XX12123',\n",
       "  'JenisKelamin': 'L',\n",
       "  'Umur': 20,\n",
       "  'Alamat': 'Bekasi',\n",
       "  'NamaFoto': 'collin.png',\n",
       "  'PredictionId': 0}]"
      ]
     },
     "execution_count": 14,
     "metadata": {},
     "output_type": "execute_result"
    }
   ],
   "source": [
    "user.select_user(search='')"
   ]
  },
  {
   "cell_type": "markdown",
   "metadata": {},
   "source": [
    "- add user"
   ]
  },
  {
   "cell_type": "code",
   "execution_count": 9,
   "metadata": {},
   "outputs": [
    {
     "data": {
      "text/plain": [
       "'sucess'"
      ]
     },
     "execution_count": 9,
     "metadata": {},
     "output_type": "execute_result"
    }
   ],
   "source": [
    "user_record = {}\n",
    "user_record['Nama'] = 'Donald'\n",
    "user_record['NIM'] = 'ABC0001'\n",
    "user_record['JenisKelamin'] = 'L'\n",
    "user_record['Umur'] = '22'\n",
    "user_record['Alamat'] = 'Jakarta'\n",
    "user_record['NamaFoto'] = 'donald.png'\n",
    "user_record['PredictionId'] = 1\n",
    "\n",
    "user.create_user(user_record)"
   ]
  },
  {
   "cell_type": "markdown",
   "metadata": {},
   "source": [
    "- update user"
   ]
  },
  {
   "cell_type": "code",
   "execution_count": 11,
   "metadata": {},
   "outputs": [
    {
     "data": {
      "text/plain": [
       "'sucess'"
      ]
     },
     "execution_count": 11,
     "metadata": {},
     "output_type": "execute_result"
    }
   ],
   "source": [
    "user_record = {}\n",
    "user_record['Id'] = 5\n",
    "user_record['Nama'] = 'Donald Rumsfield'\n",
    "user_record['NIM'] = 'ABC0001'\n",
    "user_record['JenisKelamin'] = 'L'\n",
    "user_record['Umur'] = '22'\n",
    "user_record['Alamat'] = 'Jakarta'\n",
    "user_record['NamaFoto'] = 'donald.png'\n",
    "user_record['PredictionId'] = 1\n",
    "\n",
    "user.update_user(user_record)"
   ]
  },
  {
   "cell_type": "markdown",
   "metadata": {},
   "source": [
    "- delete user"
   ]
  },
  {
   "cell_type": "code",
   "execution_count": 13,
   "metadata": {},
   "outputs": [
    {
     "data": {
      "text/plain": [
       "'success'"
      ]
     },
     "execution_count": 13,
     "metadata": {},
     "output_type": "execute_result"
    }
   ],
   "source": [
    "user.delete_user(5)"
   ]
  },
  {
   "cell_type": "markdown",
   "metadata": {},
   "source": [
    "____\n",
    "#### B. CRUD Kehadiran"
   ]
  },
  {
   "cell_type": "code",
   "execution_count": 15,
   "metadata": {},
   "outputs": [],
   "source": [
    "from kehadiran import Kehadiran"
   ]
  },
  {
   "cell_type": "code",
   "execution_count": 16,
   "metadata": {},
   "outputs": [],
   "source": [
    "kehadiran = Kehadiran()"
   ]
  },
  {
   "cell_type": "code",
   "execution_count": 23,
   "metadata": {},
   "outputs": [
    {
     "data": {
      "text/plain": [
       "[{'Id': 19,\n",
       "  'UserId': 1,\n",
       "  'JamMasuk': '16:08:31',\n",
       "  'NamaKelas': 'Penjaskes',\n",
       "  'JamKelasMulai': '16:07:48',\n",
       "  'JamKelasBerakhir': '2021-01-28',\n",
       "  'Status': 'selesai',\n",
       "  'Date': '2021-01-28'},\n",
       " {'Id': 20,\n",
       "  'UserId': 1,\n",
       "  'JamMasuk': '16:11:31',\n",
       "  'NamaKelas': 'Kimia',\n",
       "  'JamKelasMulai': '16:10:36',\n",
       "  'JamKelasBerakhir': '',\n",
       "  'Status': 'berlangsung',\n",
       "  'Date': '2021-01-28'},\n",
       " {'Id': 21,\n",
       "  'UserId': 1,\n",
       "  'JamMasuk': '16:26:33',\n",
       "  'NamaKelas': 'Biologi',\n",
       "  'JamKelasMulai': '16:26:11',\n",
       "  'JamKelasBerakhir': '2021-01-28',\n",
       "  'Status': 'selesai',\n",
       "  'Date': '2021-01-28'},\n",
       " {'Id': 22,\n",
       "  'UserId': 1,\n",
       "  'JamMasuk': '16:35:01',\n",
       "  'NamaKelas': 'Kesenian',\n",
       "  'JamKelasMulai': '16:34:10',\n",
       "  'JamKelasBerakhir': '2021-01-28',\n",
       "  'Status': 'selesai',\n",
       "  'Date': '2021-01-28'},\n",
       " {'Id': 23,\n",
       "  'UserId': 1,\n",
       "  'JamMasuk': '16:56:37',\n",
       "  'NamaKelas': 'Agama Islam',\n",
       "  'JamKelasMulai': '16:56:18',\n",
       "  'JamKelasBerakhir': '2021-01-28',\n",
       "  'Status': 'selesai',\n",
       "  'Date': '2021-01-28'},\n",
       " {'Id': 24,\n",
       "  'UserId': 1,\n",
       "  'JamMasuk': '16:57:31',\n",
       "  'NamaKelas': 'Tataboga',\n",
       "  'JamKelasMulai': '16:57:19',\n",
       "  'JamKelasBerakhir': '2021-01-28',\n",
       "  'Status': 'selesai',\n",
       "  'Date': '2021-01-28'},\n",
       " {'Id': 26,\n",
       "  'UserId': 1,\n",
       "  'JamMasuk': '08:45:00',\n",
       "  'NamaKelas': 'Pencaksilat',\n",
       "  'JamKelasMulai': '08:30:00',\n",
       "  'JamKelasBerakhir': '09:30:00',\n",
       "  'Status': 'Selesai',\n",
       "  'Date': '2021-01-28'}]"
      ]
     },
     "execution_count": 23,
     "metadata": {},
     "output_type": "execute_result"
    }
   ],
   "source": [
    "kehadiran.select_kehadiran(search='')"
   ]
  },
  {
   "cell_type": "markdown",
   "metadata": {},
   "source": [
    "- insert kehadiran"
   ]
  },
  {
   "cell_type": "code",
   "execution_count": 18,
   "metadata": {},
   "outputs": [
    {
     "data": {
      "text/plain": [
       "'sucess'"
      ]
     },
     "execution_count": 18,
     "metadata": {},
     "output_type": "execute_result"
    }
   ],
   "source": [
    "kehadiran_record = {}\n",
    "kehadiran_record['UserId'] = 1\n",
    "kehadiran_record['JamMasuk'] = '08:45:00'\n",
    "kehadiran_record['NamaKelas'] = 'Pencaksilat'\n",
    "kehadiran_record['JamKelasMulai'] = '08:30:00'\n",
    "kehadiran_record['JamKelasBerakhir'] = '09:30:00'\n",
    "kehadiran_record['Status'] = 'Selesai'\n",
    "kehadiran_record['Date'] = '2020-01-27'\n",
    "\n",
    "kehadiran.create_kehadiran(kehadiran_record)"
   ]
  },
  {
   "cell_type": "markdown",
   "metadata": {},
   "source": [
    "- delete kehadiran"
   ]
  },
  {
   "cell_type": "code",
   "execution_count": 24,
   "metadata": {},
   "outputs": [
    {
     "data": {
      "text/plain": [
       "'success'"
      ]
     },
     "execution_count": 24,
     "metadata": {},
     "output_type": "execute_result"
    }
   ],
   "source": [
    "kehadiran.delete_kehadiran(26)"
   ]
  },
  {
   "cell_type": "markdown",
   "metadata": {},
   "source": [
    "- insert kehadiran (tanggal dinamis)"
   ]
  },
  {
   "cell_type": "code",
   "execution_count": 22,
   "metadata": {},
   "outputs": [
    {
     "name": "stdout",
     "output_type": "stream",
     "text": [
      "2021-01-28\n"
     ]
    },
    {
     "data": {
      "text/plain": [
       "'sucess'"
      ]
     },
     "execution_count": 22,
     "metadata": {},
     "output_type": "execute_result"
    }
   ],
   "source": [
    "curr_date = datetime.datetime.now().strftime(\"%Y-%m-%d\")\n",
    "print(curr_date)\n",
    "\n",
    "kehadiran_record = {}\n",
    "kehadiran_record['UserId'] = 1\n",
    "kehadiran_record['JamMasuk'] = '08:45:00'\n",
    "kehadiran_record['NamaKelas'] = 'Pencaksilat'\n",
    "kehadiran_record['JamKelasMulai'] = '08:30:00'\n",
    "kehadiran_record['JamKelasBerakhir'] = '09:30:00'\n",
    "kehadiran_record['Status'] = 'Selesai'\n",
    "kehadiran_record['Date'] = curr_date\n",
    "\n",
    "kehadiran.create_kehadiran(kehadiran_record)"
   ]
  },
  {
   "cell_type": "code",
   "execution_count": 25,
   "metadata": {},
   "outputs": [
    {
     "data": {
      "text/plain": [
       "[{'Nama': 'Yunus',\n",
       "  'NIM': 'B01001',\n",
       "  'JenisKelamin': 'L',\n",
       "  'NamaFoto': 'yunus.png',\n",
       "  'PredictionId': 5,\n",
       "  'JamMasuk': '16:35:01'}]"
      ]
     },
     "execution_count": 25,
     "metadata": {},
     "output_type": "execute_result"
    }
   ],
   "source": [
    "user.get_user_in_class(curr_date, 'Kesenian')"
   ]
  },
  {
   "cell_type": "code",
   "execution_count": null,
   "metadata": {},
   "outputs": [],
   "source": []
  }
 ],
 "metadata": {
  "kernelspec": {
   "display_name": "Python [conda env:opencv_env]",
   "language": "python",
   "name": "conda-env-opencv_env-py"
  },
  "language_info": {
   "codemirror_mode": {
    "name": "ipython",
    "version": 3
   },
   "file_extension": ".py",
   "mimetype": "text/x-python",
   "name": "python",
   "nbconvert_exporter": "python",
   "pygments_lexer": "ipython3",
   "version": "3.8.6"
  }
 },
 "nbformat": 4,
 "nbformat_minor": 4
}
