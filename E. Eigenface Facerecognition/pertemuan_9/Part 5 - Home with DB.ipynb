{
 "cells": [
  {
   "cell_type": "code",
   "execution_count": 4,
   "metadata": {},
   "outputs": [],
   "source": [
    "import os\n",
    "import time\n",
    "import datetime\n",
    "import numpy as np\n",
    "import PySimpleGUI as sg "
   ]
  },
  {
   "cell_type": "code",
   "execution_count": 5,
   "metadata": {},
   "outputs": [],
   "source": [
    "def get_layout_user_item(record):\n",
    "    Nama = record['Nama']\n",
    "    NIM  = record['NIM']\n",
    "    JenisKelamin = record['JenisKelamin']\n",
    "    JamMasuk = record['JamMasuk']\n",
    "    filename = record['NamaFoto']\n",
    "    \n",
    "    \n",
    "    layout_photo = [[sg.Image(filename=\"photo/\" + filename, key=\"foto-\" + filename, size=(100,100))]]\n",
    "    layout_user = [[sg.Text(\"Nama \\t: \" + Nama)],\n",
    "                  [sg.Text(\"NIM \\t: \" + NIM)],\n",
    "                  [sg.Text(\"Kelamin \\t: \" + JenisKelamin)],\n",
    "                  [sg.Text(\"Masuk \\t: \" + JamMasuk)]]\n",
    "    \n",
    "    layout_item =[\n",
    "                    sg.Column(layout_photo), \n",
    "                    sg.Column(layout_user)\n",
    "                  ]\n",
    "    return layout_item"
   ]
  },
  {
   "cell_type": "code",
   "execution_count": 35,
   "metadata": {},
   "outputs": [],
   "source": [
    "def get_class_info():\n",
    "    curr_date = datetime.datetime.now().strftime(\"%A, %d %B %Y\")\n",
    "    layout = [\n",
    "        [sg.Text(curr_date, justification='right', size=(38,1), font=(\"Helvetica\", 10, \"italic\"))],\n",
    "        [sg.Text(\"Kelas \\t\\t: \"), sg.InputText(key=\"Kelas\", size=(24,1))],\n",
    "        [sg.Text(\"Jumlah Peserta \\t: \"), sg.InputText(key=\"JumlahPeserta\", size=(24,1))],\n",
    "        [sg.Text(\"JumlahHadir \\t: \"), sg.Text(\"-\", key=\"JumlahHadir\", size=(24,1))],\n",
    "        [sg.Text(\"JamMulai \\t: \"), sg.Text(\"-\", key=\"JamMulai\", size=(24,1))],\n",
    "        [sg.Text(\"Durasi \\t\\t: \"), sg.Text(\"-\", key=\"Durasi\", size=(24,1))],\n",
    "        [sg.Text(\"Status \\t\\t: \"), sg.Text(\"-\", key=\"Status\", size=(24,1))],\n",
    "        [sg.Button(\"   Mulai   \", key=\"mulai\"), sg.Button(\"   Akhiri   \", key=\"akhiri\")]\n",
    "    ]\n",
    "    return layout"
   ]
  },
  {
   "cell_type": "code",
   "execution_count": 36,
   "metadata": {},
   "outputs": [],
   "source": [
    "def get_layout_home(records):\n",
    "    # list user     \n",
    "    list_user_layout = [get_layout_user_item(record) for record in records]\n",
    "    \n",
    "    layout_left = [\n",
    "        [\n",
    "            sg.Column(list_user_layout, scrollable=True, vertical_scroll_only=True, size=(360, 400))\n",
    "        ]\n",
    "    ]\n",
    "    \n",
    "    \n",
    "    # informasi kelas     \n",
    "    layout_right = get_class_info()\n",
    "    \n",
    "    layout = [\n",
    "        [\n",
    "            sg.Column(layout_left),\n",
    "            sg.VerticalSeparator(), # vertical separator\n",
    "            sg.Column(layout_right)\n",
    "        ]\n",
    "    ]\n",
    "    return layout"
   ]
  },
  {
   "cell_type": "code",
   "execution_count": 37,
   "metadata": {},
   "outputs": [],
   "source": [
    "def get_layout(records):\n",
    "    layout_home = get_layout_home(records)\n",
    "    layout_history = [[sg.Text(\"Histori\", size=(80,20))]]\n",
    "    layout_user = [[sg.Text(\"User\", size=(80,20))]]\n",
    "    layout_pengaturan = [[sg.Text(\"Pengaturan\", size=(80,20))]]\n",
    "\n",
    "    layout = [[sg.TabGroup([\n",
    "                            [sg.Tab('Home', layout_home), \n",
    "                             sg.Tab('History', layout_history),\n",
    "                             sg.Tab('User', layout_user),\n",
    "                             sg.Tab('Pengaturan', layout_pengaturan)]\n",
    "                            ])\n",
    "              ]]\n",
    "    return layout"
   ]
  },
  {
   "cell_type": "markdown",
   "metadata": {},
   "source": [
    "- main program"
   ]
  },
  {
   "cell_type": "code",
   "execution_count": 1,
   "metadata": {},
   "outputs": [],
   "source": [
    "from user import User"
   ]
  },
  {
   "cell_type": "code",
   "execution_count": 2,
   "metadata": {},
   "outputs": [],
   "source": [
    "user = User()"
   ]
  },
  {
   "cell_type": "code",
   "execution_count": 17,
   "metadata": {},
   "outputs": [],
   "source": [
    "def create_window(layout):\n",
    "    return sg.Window(title=\"Aplikasi Pencatatan Kehadiran\", layout=layout, margins=(10, 10), finalize=True)"
   ]
  },
  {
   "cell_type": "code",
   "execution_count": 41,
   "metadata": {},
   "outputs": [],
   "source": [
    "curr_date = datetime.datetime.now().strftime(\"%Y-%m-%d\")\n",
    "\n",
    "curr_user_records = []\n",
    "layout = get_layout(curr_user_records)\n",
    "window = create_window(layout)\n",
    "window['akhiri'].update(disabled=True)\n",
    "\n",
    "status = ''\n",
    "start_time = ''\n",
    "\n",
    "while True :\n",
    "    event, values = window.read(timeout=25)\n",
    "    if event == 'mulai' :\n",
    "        window.close()\n",
    "        \n",
    "        start_time = datetime.datetime.now()\n",
    "        curr_user_records = user.get_user_in_class(curr_date, values['Kelas'])\n",
    "        layout = get_layout(curr_user_records)\n",
    "        window = create_window(layout)\n",
    "        \n",
    "        status = 'berjalan'\n",
    "        window['Kelas'].update(value=values['Kelas'])\n",
    "        window['JumlahPeserta'].update(value=values['JumlahPeserta'])\n",
    "        window['JumlahHadir'].update(value=len(curr_user_records))\n",
    "        window['Status'].update(value=status)\n",
    "        window['JamMulai'].update(value=start_time.strftime(\"%H:%M:%S\"))\n",
    "        \n",
    "        window['mulai'].update(disabled=True)\n",
    "        window['akhiri'].update(disabled=False)\n",
    "        \n",
    "    if event == 'akhiri':\n",
    "        status = 'selesai'\n",
    "        window['mulai'].update(disabled=False)\n",
    "        window['akhiri'].update(disabled=True)\n",
    "        \n",
    "    if event == sg.WIN_CLOSED:\n",
    "        break\n",
    "        \n",
    "    if status == 'berjalan':\n",
    "        curr_time = datetime.datetime.now()\n",
    "        diff_time = curr_time - start_time\n",
    "        window['Durasi'].update(value=str(diff_time).split(\".\")[0])\n",
    "        \n",
    "window.close()"
   ]
  },
  {
   "cell_type": "code",
   "execution_count": null,
   "metadata": {},
   "outputs": [],
   "source": []
  }
 ],
 "metadata": {
  "kernelspec": {
   "display_name": "Python [conda env:opencv_env]",
   "language": "python",
   "name": "conda-env-opencv_env-py"
  },
  "language_info": {
   "codemirror_mode": {
    "name": "ipython",
    "version": 3
   },
   "file_extension": ".py",
   "mimetype": "text/x-python",
   "name": "python",
   "nbconvert_exporter": "python",
   "pygments_lexer": "ipython3",
   "version": "3.8.6"
  }
 },
 "nbformat": 4,
 "nbformat_minor": 4
}
