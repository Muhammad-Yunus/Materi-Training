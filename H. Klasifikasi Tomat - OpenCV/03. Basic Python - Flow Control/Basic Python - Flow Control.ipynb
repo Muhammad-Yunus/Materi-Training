{
 "cells": [
  {
   "cell_type": "markdown",
   "metadata": {},
   "source": [
    "# Basic Python - Flow Control\n",
    "\n",
    "\n",
    "- If , elif, & else \n",
    "- while loops \n",
    "- for loops "
   ]
  },
  {
   "cell_type": "markdown",
   "metadata": {},
   "source": [
    "___\n",
    "### Percabangan (If, elif, else)\n",
    "\n",
    "struktur percabangan pada python :\n",
    "\n",
    "```\n",
    "if statement_1 :\n",
    "    tugas_1\n",
    "elif statement_2 :\n",
    "    tugas_2\n",
    "else :\n",
    "    tugas_3\n",
    "    \n",
    "if (statement){\n",
    "                task1;\n",
    "           task2;\n",
    "}\n",
    "\n",
    "```"
   ]
  },
  {
   "cell_type": "markdown",
   "metadata": {},
   "source": [
    "- Struktur If "
   ]
  },
  {
   "cell_type": "code",
   "execution_count": null,
   "metadata": {},
   "outputs": [],
   "source": [
    "# statement dari pembanding operator\n",
    "\n",
    "nilai = int(input(\"Input nilai: \"))\n",
    "\n",
    "if nilai < 70:\n",
    "    print(\"Nilai dibawah KKM : %d\" % nilai)"
   ]
  },
  {
   "cell_type": "code",
   "execution_count": null,
   "metadata": {},
   "outputs": [],
   "source": [
    "# statement dari pembanding & logic operator\n",
    "\n",
    "umur = int(input(\"Input Umur : \"))\n",
    "\n",
    "if umur > 25 and umur < 30:\n",
    "    print(\"Umur %d memenuhi kriteria.\" % umur)"
   ]
  },
  {
   "cell_type": "markdown",
   "metadata": {},
   "source": [
    "- Struktur if & else"
   ]
  },
  {
   "cell_type": "code",
   "execution_count": null,
   "metadata": {},
   "outputs": [],
   "source": [
    "# statement dari pembanding operator\n",
    "\n",
    "umur = int(input(\"Berapa umur kamu: \"))\n",
    "if umur >= 18:\n",
    "    print(\"Kamu boleh membuat SIM\")\n",
    "else:\n",
    "    print(\"Kamu belum boleh membuat SIM\")"
   ]
  },
  {
   "cell_type": "code",
   "execution_count": null,
   "metadata": {},
   "outputs": [],
   "source": [
    "# statement dari pembanding & logic operator\n",
    "\n",
    "umur = int(input(\"Input Umur : \"))\n",
    "\n",
    "if umur > 25 and umur < 30:\n",
    "    print(\"Umur %d memenuhi kriteria.\" % umur)\n",
    "else :\n",
    "    print(\"Umur %d tidak memenuhi kriteria.\" % umur)"
   ]
  },
  {
   "cell_type": "markdown",
   "metadata": {},
   "source": [
    "- Struktur if , elif & else"
   ]
  },
  {
   "cell_type": "code",
   "execution_count": null,
   "metadata": {},
   "outputs": [],
   "source": [
    "suhu = int(input(\"suhu sekarang : \"))\n",
    "\n",
    "if suhu < 25 :\n",
    "    print(\"suhu dingin\")\n",
    "elif suhu < 30 :\n",
    "    print(\"suhu hangat\")\n",
    "elif suhu < 35 :\n",
    "    print(\"suhu panas\")\n",
    "elif suhu < 40 :\n",
    "    print(\"suhu panas banget\")   \n",
    "else :\n",
    "    print(\"suhu panas banget gak ngotak\")"
   ]
  },
  {
   "cell_type": "markdown",
   "metadata": {},
   "source": [
    "- tanpa menggunakan elif"
   ]
  },
  {
   "cell_type": "code",
   "execution_count": null,
   "metadata": {},
   "outputs": [],
   "source": [
    "suhu = int(input(\"suhu sekarang : \"))\n",
    "\n",
    "if suhu < 25 :\n",
    "    print(\"suhu dingin\")\n",
    "if suhu < 30 :\n",
    "    print(\"suhu hangat\")\n",
    "else :\n",
    "    print(\"suhu panas\")"
   ]
  },
  {
   "cell_type": "markdown",
   "metadata": {},
   "source": [
    "- Mengunakan operator pembanding"
   ]
  },
  {
   "cell_type": "code",
   "execution_count": null,
   "metadata": {},
   "outputs": [],
   "source": [
    "suhu = int(input(\"suhu sekarang : \"))\n",
    "\n",
    "if suhu < 25 :\n",
    "    print(\"suhu dingin\")\n",
    "if suhu >= 25 and suhu < 30 :\n",
    "    print(\"suhu hangat\")\n",
    "if suhu >= 30 :\n",
    "    print(\"suhu panas\")"
   ]
  },
  {
   "cell_type": "markdown",
   "metadata": {},
   "source": [
    "### Task\n",
    "- Buat program untuk menghitung nilai siswa :\n",
    "```\n",
    "90 - 100 = A\n",
    "80 - 89 = B+\n",
    "70 - 79 = B\n",
    "60 - 69 = C+\n",
    "50 - 59 = C\n",
    "40 - 49 = D\n",
    "0 - 39 = E\n",
    "```"
   ]
  },
  {
   "cell_type": "markdown",
   "metadata": {},
   "source": [
    "- Struktur if , elif & else dengan statement membership operator"
   ]
  },
  {
   "cell_type": "code",
   "execution_count": null,
   "metadata": {},
   "outputs": [],
   "source": [
    "# program cek buah favorit\n",
    "\n",
    "buah = input(\"Nama Buah :\")\n",
    "\n",
    "if buah in [\"Semangka\", \"Jambu\", \"Jeruk\", \"Apel\", \"Anggur\"] :\n",
    "    print(\"Buah %s merupakan buah favorit!\" % buah)\n",
    "else :\n",
    "    print(\"Buah %s bukan merupakan buah favorit!\" % buah)\n",
    "    "
   ]
  },
  {
   "cell_type": "code",
   "execution_count": null,
   "metadata": {},
   "outputs": [],
   "source": [
    "# program cek matakuliah favorit\n",
    "\n",
    "matakuliah = input(\"Nama Mata Kuliah :\")\n",
    "\n",
    "matakuliah_favorit = [\"Kalkulus\", \"Bahasa Inggris\", \"Algoritma dan Pemrograman\", \"Olahraga\", \"Elektronika\"]\n",
    "matakuliah_mudah = [\"Bahasa Inggris\", \"Olahraga\"]\n",
    "\n",
    "if matakuliah in  matakuliah_favorit and matakuliah in matakuliah_mudah:\n",
    "    print(\"Matakuliah %s merupakan matakuliah favorit dan mudah\" % matakuliah)\n",
    "elif matakuliah in  matakuliah_favorit and matakuliah not in matakuliah_mudah:\n",
    "    print(\"Matakuliah %s merupakan matakuliah favorit\" % matakuliah)\n",
    "elif matakuliah not in  matakuliah_favorit and matakuliah in matakuliah_mudah:\n",
    "    print(\"Matakuliah %s merupakan matakuliah mudah\" % matakuliah)\n",
    "else :\n",
    "    print(\"Matakuliah %s bukan merupakan matakuliah favorit ataupun mudah\" % matakuliah)\n",
    "    "
   ]
  },
  {
   "cell_type": "markdown",
   "metadata": {},
   "source": [
    "### Task\n",
    "- Buat sebuah program yang memiliki dua nilai inputan (matakuliah dengan type string dan nilai dengan type float)\n",
    "- Setelah itu buat struktur if-elif-else yang akan melakukan pengecekan sebagai berikut :\n",
    "- Jika matakuliahnya adalah \"Kalkulus\"/ \"Algoritma dan Pemrograman\"/ \"Elektronika\" serta nilai nya >= 80 maka print \"Anda Jenius, karena mendapatkan nilai %.2f untuk matakuliah %s\"\n",
    "- Jika matakuliahnya adalah \"Kalkulus\"/ \"Algoritma dan Pemrograman\"/ \"Elektronika\" serta nilainya >= 65 dan < 80 maka print \"Anda Pintar, karena mendapatkan nilai %.2f untuk matakuliah %s\"\n",
    "- Jika matakuliahnya adalah \"Kalkulus\"/ \"Algoritma dan Pemrograman\"/ \"Elektronika\" serta nilainya < 65 maka print \"Anda Perlu belajar lagi, karena mendapatkan nilai %.2f untuk matakuliah %s\"\n",
    "- Jika matakuliahnya bukan \"Kalkulus\"/ \"Algoritma dan Pemrograman\"/ \"Elektronika\" mau nilainya berapapun print \"Matakuliah %s tidak dikenali\""
   ]
  },
  {
   "cell_type": "code",
   "execution_count": null,
   "metadata": {},
   "outputs": [],
   "source": []
  },
  {
   "cell_type": "markdown",
   "metadata": {},
   "source": [
    "#### Perbedaan multiple if statement dan elif statement\n",
    "\n",
    "- jika multiple `if` statment maka program akan cek **semua if statement** (tidak ada yang terlewatkan) dan bisa jadi semua instruksi bisa dilakukan jika memang memnuhi kondisi semua multiple if statement. \n",
    "\n",
    "\n",
    "- Namun jika `elif` statement **tidak semua dicek** (bisa semua/bisa tidak), program akan cek semua kondisi jika program masih belum menemukan yang sesuai, namun **jika ada yang sesuai** maka program akan langsung **keluar dari statement pecabangan**."
   ]
  },
  {
   "cell_type": "markdown",
   "metadata": {},
   "source": [
    "___\n",
    "### Perulangan mengunakan for\n",
    "\n",
    "- perulangan pada pemrograman python hanya mengimplementasikan *collection-based iteration*, \n",
    "- sehingga sebuah perulangan bisa dilakukan jika kita memiliki **iterable** object di python\n",
    "\n",
    "```\n",
    "for <var> in <iterable>:\n",
    "    <task(s)>\n",
    "\n",
    "```\n",
    "\n",
    "- Iterable pada python adalah object dalam bentuk `string`, `list`, `tuple`, `dictionary`, `set`\n"
   ]
  },
  {
   "cell_type": "markdown",
   "metadata": {},
   "source": [
    "- contoh bentuk perulangan dari iterator `list`"
   ]
  },
  {
   "cell_type": "code",
   "execution_count": null,
   "metadata": {},
   "outputs": [],
   "source": [
    "# list string\n",
    "\n",
    "hari = [\"senin\", \"selasa\", \"rabu\", \"kamis\", \"jumat\", \"sabtu\", \"minggu\"]\n",
    "\n",
    "print(type(hari))\n",
    "\n",
    "for i in hari :\n",
    "    print (\"hari\", i)"
   ]
  },
  {
   "cell_type": "code",
   "execution_count": null,
   "metadata": {},
   "outputs": [],
   "source": [
    "# list number\n",
    "\n",
    "jari_jari = [1, 2, 3, 4, 5, 6, 7, 8]\n",
    "\n",
    "for r in jari_jari :\n",
    "    luas_lingkaran = 3.14*r**2\n",
    "    print (\"Jari-jari : %d, Luas : %.2f\" % (r, luas_lingkaran))"
   ]
  },
  {
   "cell_type": "markdown",
   "metadata": {},
   "source": [
    "- kombinasi For Loop dengan struktur If-else\n"
   ]
  },
  {
   "cell_type": "code",
   "execution_count": null,
   "metadata": {},
   "outputs": [],
   "source": [
    "# program cek nilai ganjil dan genap\n",
    "\n",
    "angka = [1, 2, 3, 4, 5, 6, 7, 8]\n",
    "\n",
    "for item in angka :\n",
    "    if item % 2 == 0:\n",
    "        print (\"%d adalah genap\" % item)\n",
    "    else :\n",
    "        print (\"%d adalah ganjil\" % item)"
   ]
  },
  {
   "cell_type": "markdown",
   "metadata": {},
   "source": [
    "- for didalam for"
   ]
  },
  {
   "cell_type": "code",
   "execution_count": null,
   "metadata": {},
   "outputs": [],
   "source": [
    "# program for dalam for\n",
    "\n",
    "list_hari = [\"senin\", \"selasa\", \"rabu\", \"kamis\", \"jumat\", \"sabtu\", \"minggu\"]\n",
    "\n",
    "list_matkul = [\"biologi\", \"matematika\"]\n",
    "\n",
    "for hari in list_hari :\n",
    "    for matkul in list_matkul :\n",
    "        print(\"Hari %s jadwal matakuliah %s\" % (hari, matkul))"
   ]
  },
  {
   "cell_type": "code",
   "execution_count": null,
   "metadata": {},
   "outputs": [],
   "source": [
    "# program for dalam for\n",
    "\n",
    "list_hari = [\"senin\", \"selasa\", \"rabu\", \"kamis\", \"jumat\", \"sabtu\", \"minggu\"]\n",
    "\n",
    "list_matkul = [\"Kalkulus\", \"Algoritma dan Pemrograman\", \"Elektronika\"]\n",
    "\n",
    "for hari in list_hari :\n",
    "    matkul = input(\"Hari %s ada matkul apa ?\" % hari)\n",
    "    if matkul in list_matkul\n",
    "        print(\"Hari %s kamu akan belajar matkul yang susah.\" % hari)\n",
    "    else :\n",
    "        print(\"Hari %s kamu akan belajar matkul yang mudah.\" % hari)"
   ]
  },
  {
   "cell_type": "markdown",
   "metadata": {},
   "source": [
    "### Task\n",
    "\n",
    "- Buat program untuk menanyakan kegiatan harian dalam seminggu (7 hari), \n",
    "- jika kegiatan di hari tersebut merupakan Berkemah, Rekreasi, Jalan-jalan, maka print \"Hari %s kegiatanmu seru banget!\"\n",
    "- jika kegitan di hari tersebut bukan Berkemah, Rekreasi, Jalan-jalan maka print \"Hari %s kegiatanmu biasa saja!\""
   ]
  },
  {
   "cell_type": "markdown",
   "metadata": {},
   "source": [
    "___\n",
    "### Perulangan menggunakan while\n",
    "\n",
    "- struktur dasar,\n",
    "\n",
    "```\n",
    "while <condition>:\n",
    "    <do something..>\n",
    "```"
   ]
  },
  {
   "cell_type": "code",
   "execution_count": null,
   "metadata": {},
   "outputs": [],
   "source": [
    "# program while loop sederhana\n",
    "\n",
    "i = 0\n",
    "while i <= 5 :\n",
    "    print(\"loop ke-%d\" % i)\n",
    "    i +=1"
   ]
  },
  {
   "cell_type": "code",
   "execution_count": null,
   "metadata": {},
   "outputs": [],
   "source": [
    "# program while loop sederhana (loop list)\n",
    "\n",
    "hari = [\"senin\", \"selasa\", \"rabu\", \"kamis\", \"jumat\", \"sabtu\", \"minggu\"]\n",
    "\n",
    "i = 0\n",
    "while i < len(hari):\n",
    "    print(hari[i])\n",
    "    i += 1"
   ]
  },
  {
   "cell_type": "code",
   "execution_count": null,
   "metadata": {},
   "outputs": [],
   "source": [
    "# program while loop + input\n",
    "\n",
    "data = input(\"ya/tidak\")\n",
    "\n",
    "while data == 'ya':\n",
    "    print(data)\n",
    "    data = input(\"ya/tidak\")\n",
    "    print(data)\n"
   ]
  },
  {
   "cell_type": "code",
   "execution_count": null,
   "metadata": {},
   "outputs": [],
   "source": [
    "# program while loop + else\n",
    "\n",
    "nama = input(\"input nama :\")\n",
    "\n",
    "while nama in [\"budi\", \"yuni\", \"vica\", \"rudi\"]:\n",
    "    print (\"%s ada pada list nama\" % nama)\n",
    "    \n",
    "    nama = input(\"input nama :\")\n",
    "else :\n",
    "    print (\"%s tidak ada pada list nama\" % nama)"
   ]
  },
  {
   "cell_type": "code",
   "execution_count": null,
   "metadata": {},
   "outputs": [],
   "source": [
    "# program while loop kombinasi dengan If-else\n",
    "\n",
    "nama = input(\"input nama :\")\n",
    "\n",
    "list_nama = [\"budi\", \"yuni\", \"vica\", \"rudi\"]\n",
    "\n",
    "i = 0\n",
    "while i < 10:\n",
    "    if nama in list_nama :\n",
    "        print (\"%s ada pada list nama\" % nama)\n",
    "    else :\n",
    "        print (\"%s tidak ada pada list nama\" % nama)\n",
    "    \n",
    "    nama = input(\"input nama :\")\n",
    "    i += 1"
   ]
  },
  {
   "cell_type": "code",
   "execution_count": null,
   "metadata": {},
   "outputs": [],
   "source": []
  },
  {
   "cell_type": "markdown",
   "metadata": {},
   "source": [
    "### Task\n",
    "- Buat program input umur dan tinggi badan, \n",
    "- Program akan looping terus menerus jika umur > 25 dan tinggi badan < 155 cm, dan print message \"Umur %d dan tinggi badan %d tidak memenuhi kriteria.\n",
    "- Jika jika umur <= 25 dan tinggi badan > 155 cm print \"Umur %d dan tinggi badan %d memenuhi kriteria dan harus berhenti looping."
   ]
  },
  {
   "cell_type": "markdown",
   "metadata": {},
   "source": [
    "### fungsi range() \n",
    "- fungsi `range` digunakan untuk menghasilkan *sequence* angka"
   ]
  },
  {
   "cell_type": "code",
   "execution_count": null,
   "metadata": {},
   "outputs": [],
   "source": [
    "range(5)"
   ]
  },
  {
   "cell_type": "code",
   "execution_count": null,
   "metadata": {},
   "outputs": [],
   "source": [
    "A = range(100)\n",
    "\n",
    "print(type(A))\n",
    "print(list(A))"
   ]
  },
  {
   "cell_type": "code",
   "execution_count": null,
   "metadata": {},
   "outputs": [],
   "source": [
    "B = list(A)\n",
    "\n",
    "print(B, type(B))"
   ]
  },
  {
   "cell_type": "markdown",
   "metadata": {},
   "source": [
    "### mengunakan range() pada perulangan for"
   ]
  },
  {
   "cell_type": "code",
   "execution_count": null,
   "metadata": {},
   "outputs": [],
   "source": [
    "list(range(15))"
   ]
  },
  {
   "cell_type": "code",
   "execution_count": null,
   "metadata": {},
   "outputs": [],
   "source": [
    "for i in range(15):\n",
    "    print (\"iterasi ke-%s\" % i)"
   ]
  },
  {
   "cell_type": "code",
   "execution_count": null,
   "metadata": {},
   "outputs": [],
   "source": [
    "my_list = [0, 1, 2, 3, 4, 5, 6]\n",
    "\n",
    "for i in my_list:\n",
    "    print (\"iterasi ke-%s\" % i)"
   ]
  },
  {
   "cell_type": "code",
   "execution_count": null,
   "metadata": {},
   "outputs": [],
   "source": []
  }
 ],
 "metadata": {
  "kernelspec": {
   "display_name": "Python 3",
   "language": "python",
   "name": "python3"
  },
  "language_info": {
   "codemirror_mode": {
    "name": "ipython",
    "version": 3
   },
   "file_extension": ".py",
   "mimetype": "text/x-python",
   "name": "python",
   "nbconvert_exporter": "python",
   "pygments_lexer": "ipython3",
   "version": "3.7.9"
  }
 },
 "nbformat": 4,
 "nbformat_minor": 4
}
