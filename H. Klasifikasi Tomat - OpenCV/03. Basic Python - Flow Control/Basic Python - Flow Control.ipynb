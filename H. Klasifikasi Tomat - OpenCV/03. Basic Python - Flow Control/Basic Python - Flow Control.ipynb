{
 "cells": [
  {
   "cell_type": "markdown",
   "metadata": {},
   "source": [
    "# Basic Python - Flow Control\n",
    "\n",
    "\n",
    "- If , elif, & else \n",
    "- while loops \n",
    "- for loops "
   ]
  },
  {
   "cell_type": "markdown",
   "metadata": {},
   "source": [
    "___\n",
    "### Percabangan (If, elif, else)\n",
    "\n",
    "struktur percabangan pada python :\n",
    "\n",
    "```\n",
    "if statement_1 :\n",
    "    tugas_1\n",
    "    tugas_lainya\n",
    "elif statement_2 :\n",
    "    tugas_2\n",
    "else :\n",
    "    tugas_3\n",
    "    \n",
    "if (statement){\n",
    "                task1;\n",
    "           task2;\n",
    "}\n",
    "\n",
    "```"
   ]
  },
  {
   "cell_type": "markdown",
   "metadata": {},
   "source": [
    "- Struktur If "
   ]
  },
  {
   "cell_type": "code",
   "execution_count": 13,
   "metadata": {},
   "outputs": [
    {
     "name": "stdin",
     "output_type": "stream",
     "text": [
      "Input nilai:  65\n"
     ]
    },
    {
     "name": "stdout",
     "output_type": "stream",
     "text": [
      "Nilai dibawah KKM : 65\n"
     ]
    }
   ],
   "source": [
    "# statement dari pembanding operator\n",
    "\n",
    "nilai = int(input(\"Input nilai: \"))\n",
    "\n",
    "if nilai < 70:\n",
    "    print(\"Nilai dibawah KKM : %d\" % nilai)"
   ]
  },
  {
   "cell_type": "code",
   "execution_count": 16,
   "metadata": {},
   "outputs": [
    {
     "name": "stdin",
     "output_type": "stream",
     "text": [
      "Input Umur :  31\n"
     ]
    }
   ],
   "source": [
    "# statement dari pembanding & logic operator\n",
    "\n",
    "umur = int(input(\"Input Umur : \"))\n",
    "\n",
    "if umur > 25 and umur < 30:\n",
    "    print(\"Umur %d memenuhi kriteria.\" % umur)"
   ]
  },
  {
   "cell_type": "markdown",
   "metadata": {},
   "source": [
    "- Struktur if & else"
   ]
  },
  {
   "cell_type": "code",
   "execution_count": 18,
   "metadata": {},
   "outputs": [
    {
     "name": "stdin",
     "output_type": "stream",
     "text": [
      "Berapa umur kamu:  18\n"
     ]
    },
    {
     "name": "stdout",
     "output_type": "stream",
     "text": [
      "Kamu boleh membuat SIM\n"
     ]
    }
   ],
   "source": [
    "# statement dari pembanding operator\n",
    "\n",
    "umur = int(input(\"Berapa umur kamu: \"))\n",
    "\n",
    "if umur >= 18:\n",
    "    print(\"Kamu boleh membuat SIM\")\n",
    "else:\n",
    "    print(\"Kamu belum boleh membuat SIM\")"
   ]
  },
  {
   "cell_type": "code",
   "execution_count": 20,
   "metadata": {},
   "outputs": [
    {
     "name": "stdin",
     "output_type": "stream",
     "text": [
      "Input Umur :  22\n"
     ]
    },
    {
     "name": "stdout",
     "output_type": "stream",
     "text": [
      "Umur 22 tidak memenuhi kriteria.\n"
     ]
    }
   ],
   "source": [
    "# statement dari pembanding & logic operator\n",
    "\n",
    "umur = int(input(\"Input Umur : \"))\n",
    "\n",
    "if umur > 25 and umur < 30:\n",
    "    print(\"Umur %d memenuhi kriteria.\" % umur)\n",
    "else :\n",
    "    print(\"Umur %d tidak memenuhi kriteria.\" % umur)"
   ]
  },
  {
   "cell_type": "markdown",
   "metadata": {},
   "source": [
    "- Struktur if , elif & else"
   ]
  },
  {
   "cell_type": "code",
   "execution_count": 27,
   "metadata": {},
   "outputs": [
    {
     "name": "stdin",
     "output_type": "stream",
     "text": [
      "suhu sekarang :  28\n"
     ]
    },
    {
     "name": "stdout",
     "output_type": "stream",
     "text": [
      "suhu hangat\n"
     ]
    }
   ],
   "source": [
    "suhu = int(input(\"suhu sekarang : \"))\n",
    "\n",
    "if suhu < 25 :\n",
    "    print(\"suhu dingin\")\n",
    "elif suhu < 30 :\n",
    "    print(\"suhu hangat\")\n",
    "elif suhu < 35 :\n",
    "    print(\"suhu panas\")\n",
    "elif suhu < 40 :\n",
    "    print(\"suhu panas banget\")   \n",
    "else :\n",
    "    print(\"suhu panas banget gak ngotak\")"
   ]
  },
  {
   "cell_type": "markdown",
   "metadata": {},
   "source": [
    "- tanpa menggunakan elif"
   ]
  },
  {
   "cell_type": "code",
   "execution_count": 28,
   "metadata": {},
   "outputs": [
    {
     "name": "stdin",
     "output_type": "stream",
     "text": [
      "suhu sekarang :  22\n"
     ]
    },
    {
     "name": "stdout",
     "output_type": "stream",
     "text": [
      "suhu dingin\n",
      "suhu hangat\n"
     ]
    }
   ],
   "source": [
    "suhu = int(input(\"suhu sekarang : \"))\n",
    "\n",
    "if suhu < 25 :\n",
    "    print(\"suhu dingin\")\n",
    "if suhu < 30 :\n",
    "    print(\"suhu hangat\")\n",
    "else :\n",
    "    print(\"suhu panas\")"
   ]
  },
  {
   "cell_type": "markdown",
   "metadata": {},
   "source": [
    "- Mengunakan operator pembanding"
   ]
  },
  {
   "cell_type": "code",
   "execution_count": 29,
   "metadata": {},
   "outputs": [
    {
     "name": "stdin",
     "output_type": "stream",
     "text": [
      "suhu sekarang :  22\n"
     ]
    },
    {
     "name": "stdout",
     "output_type": "stream",
     "text": [
      "suhu dingin\n"
     ]
    }
   ],
   "source": [
    "suhu = int(input(\"suhu sekarang : \"))\n",
    "\n",
    "if suhu < 25 :\n",
    "    print(\"suhu dingin\")\n",
    "if suhu >= 25 and suhu < 30 :\n",
    "    print(\"suhu hangat\")\n",
    "if suhu >= 30 :\n",
    "    print(\"suhu panas\")"
   ]
  },
  {
   "cell_type": "markdown",
   "metadata": {},
   "source": [
    "### Task\n",
    "- Buat program untuk menghitung nilai siswa :\n",
    "```\n",
    "90 - 100 = A\n",
    "80 - 89 = B+\n",
    "70 - 79 = B\n",
    "60 - 69 = C+\n",
    "50 - 59 = C\n",
    "40 - 49 = D\n",
    "0 - 39 = E\n",
    "```"
   ]
  },
  {
   "cell_type": "markdown",
   "metadata": {},
   "source": [
    "- Struktur if , elif & else dengan statement membership operator"
   ]
  },
  {
   "cell_type": "code",
   "execution_count": 31,
   "metadata": {},
   "outputs": [
    {
     "name": "stdin",
     "output_type": "stream",
     "text": [
      "Nama Buah : Salak\n"
     ]
    },
    {
     "name": "stdout",
     "output_type": "stream",
     "text": [
      "Buah Salak bukan merupakan buah favorit!\n"
     ]
    }
   ],
   "source": [
    "# program cek buah favorit\n",
    "\n",
    "buah = input(\"Nama Buah :\")\n",
    "\n",
    "if buah in [\"Semangka\", \"Jambu\", \"Jeruk\", \"Apel\", \"Anggur\"] :\n",
    "    print(\"Buah %s merupakan buah favorit!\" % buah)\n",
    "else :\n",
    "    print(\"Buah %s bukan merupakan buah favorit!\" % buah)\n",
    "    "
   ]
  },
  {
   "cell_type": "code",
   "execution_count": 35,
   "metadata": {},
   "outputs": [
    {
     "name": "stdin",
     "output_type": "stream",
     "text": [
      "Nama Mata Kuliah : Bahasa Indonesia\n"
     ]
    },
    {
     "name": "stdout",
     "output_type": "stream",
     "text": [
      "Matakuliah Bahasa Indonesia merupakan matakuliah mudah\n"
     ]
    }
   ],
   "source": [
    "# program cek matakuliah favorit\n",
    "\n",
    "matakuliah = input(\"Nama Mata Kuliah :\")\n",
    "\n",
    "matakuliah_favorit = [\"Kalkulus\", \"Bahasa Inggris\", \"Algoritma dan Pemrograman\", \"Olahraga\", \"Elektronika\"]\n",
    "matakuliah_mudah = [\"Bahasa Inggris\", \"Olahraga\", \"Bahasa Indonesia\"]\n",
    "\n",
    "if matakuliah in  matakuliah_favorit and matakuliah in matakuliah_mudah:\n",
    "    print(\"Matakuliah %s merupakan matakuliah favorit dan mudah\" % matakuliah)\n",
    "elif matakuliah in  matakuliah_favorit and matakuliah not in matakuliah_mudah:\n",
    "    print(\"Matakuliah %s merupakan matakuliah favorit\" % matakuliah)\n",
    "elif matakuliah not in  matakuliah_favorit and matakuliah in matakuliah_mudah:\n",
    "    print(\"Matakuliah %s merupakan matakuliah mudah\" % matakuliah)\n",
    "else :\n",
    "    print(\"Matakuliah %s bukan merupakan matakuliah favorit ataupun mudah\" % matakuliah)\n",
    "    "
   ]
  },
  {
   "cell_type": "markdown",
   "metadata": {},
   "source": [
    "### Task\n",
    "- Buat sebuah program yang memiliki dua nilai inputan (matakuliah dengan type string dan nilai dengan type float)\n",
    "- Setelah itu buat struktur if-elif-else yang akan melakukan pengecekan sebagai berikut :\n",
    "- Jika matakuliahnya adalah \"Kalkulus\"/ \"Algoritma dan Pemrograman\"/ \"Elektronika\" serta nilai nya >= 80 maka print \"Anda Jenius, karena mendapatkan nilai %.2f untuk matakuliah %s\"\n",
    "- Jika matakuliahnya adalah \"Kalkulus\"/ \"Algoritma dan Pemrograman\"/ \"Elektronika\" serta nilainya >= 65 dan < 80 maka print \"Anda Pintar, karena mendapatkan nilai %.2f untuk matakuliah %s\"\n",
    "- Jika matakuliahnya adalah \"Kalkulus\"/ \"Algoritma dan Pemrograman\"/ \"Elektronika\" serta nilainya < 65 maka print \"Anda Perlu belajar lagi, karena mendapatkan nilai %.2f untuk matakuliah %s\"\n",
    "- Jika matakuliahnya bukan \"Kalkulus\"/ \"Algoritma dan Pemrograman\"/ \"Elektronika\" mau nilainya berapapun print \"Matakuliah %s tidak dikenali\""
   ]
  },
  {
   "cell_type": "code",
   "execution_count": null,
   "metadata": {},
   "outputs": [],
   "source": []
  },
  {
   "cell_type": "markdown",
   "metadata": {},
   "source": [
    "#### Perbedaan multiple if statement dan elif statement\n",
    "\n",
    "- jika multiple `if` statment maka program akan cek **semua if statement** (tidak ada yang terlewatkan) dan bisa jadi semua instruksi bisa dilakukan jika memang memnuhi kondisi semua multiple if statement. \n",
    "\n",
    "\n",
    "- Namun jika `elif` statement **tidak semua dicek** (bisa semua/bisa tidak), program akan cek semua kondisi jika program masih belum menemukan yang sesuai, namun **jika ada yang sesuai** maka program akan langsung **keluar dari statement pecabangan**."
   ]
  },
  {
   "cell_type": "markdown",
   "metadata": {},
   "source": [
    "___\n",
    "### Perulangan mengunakan for\n",
    "\n",
    "- perulangan pada pemrograman python hanya mengimplementasikan *collection-based iteration*, \n",
    "- sehingga sebuah perulangan bisa dilakukan jika kita memiliki **iterable** object di python\n",
    "\n",
    "```\n",
    "for <var> in <iterable>:\n",
    "    <task(s)>\n",
    "\n",
    "```\n",
    "\n",
    "- Iterable pada python adalah object dalam bentuk `string`, `list`, `tuple`, `dictionary`, `set`\n"
   ]
  },
  {
   "cell_type": "markdown",
   "metadata": {},
   "source": [
    "- contoh bentuk perulangan dari iterator `list`"
   ]
  },
  {
   "cell_type": "code",
   "execution_count": 36,
   "metadata": {},
   "outputs": [
    {
     "name": "stdout",
     "output_type": "stream",
     "text": [
      "<class 'list'>\n",
      "hari senin\n",
      "hari selasa\n",
      "hari rabu\n",
      "hari kamis\n",
      "hari jumat\n",
      "hari sabtu\n",
      "hari minggu\n"
     ]
    }
   ],
   "source": [
    "# list string\n",
    "\n",
    "hari = [\"senin\", \"selasa\", \"rabu\", \"kamis\", \"jumat\", \"sabtu\", \"minggu\"]\n",
    "\n",
    "print(type(hari))\n",
    "\n",
    "for i in hari :\n",
    "    print (\"hari\", i)"
   ]
  },
  {
   "cell_type": "code",
   "execution_count": 37,
   "metadata": {},
   "outputs": [
    {
     "name": "stdout",
     "output_type": "stream",
     "text": [
      "Jari-jari : 1, Luas : 3.14\n",
      "Jari-jari : 2, Luas : 12.56\n",
      "Jari-jari : 3, Luas : 28.26\n",
      "Jari-jari : 4, Luas : 50.24\n",
      "Jari-jari : 5, Luas : 78.50\n",
      "Jari-jari : 6, Luas : 113.04\n",
      "Jari-jari : 7, Luas : 153.86\n",
      "Jari-jari : 8, Luas : 200.96\n"
     ]
    }
   ],
   "source": [
    "# list number\n",
    "\n",
    "jari_jari = [1, 2, 3, 4, 5, 6, 7, 8]\n",
    "\n",
    "for r in jari_jari :\n",
    "    luas_lingkaran = 3.14*r**2\n",
    "    print (\"Jari-jari : %d, Luas : %.2f\" % (r, luas_lingkaran))"
   ]
  },
  {
   "cell_type": "markdown",
   "metadata": {},
   "source": [
    "- kombinasi For Loop dengan struktur If-else\n"
   ]
  },
  {
   "cell_type": "code",
   "execution_count": 38,
   "metadata": {},
   "outputs": [
    {
     "name": "stdout",
     "output_type": "stream",
     "text": [
      "1 adalah ganjil\n",
      "2 adalah genap\n",
      "3 adalah ganjil\n",
      "4 adalah genap\n",
      "5 adalah ganjil\n",
      "6 adalah genap\n",
      "7 adalah ganjil\n",
      "8 adalah genap\n"
     ]
    }
   ],
   "source": [
    "# program cek nilai ganjil dan genap\n",
    "\n",
    "angka = [1, 2, 3, 4, 5, 6, 7, 8]\n",
    "\n",
    "for item in angka :\n",
    "    if item % 2 == 0:\n",
    "        print (\"%d adalah genap\" % item)\n",
    "    else :\n",
    "        print (\"%d adalah ganjil\" % item)"
   ]
  },
  {
   "cell_type": "markdown",
   "metadata": {},
   "source": [
    "- for didalam for"
   ]
  },
  {
   "cell_type": "code",
   "execution_count": 40,
   "metadata": {},
   "outputs": [
    {
     "name": "stdout",
     "output_type": "stream",
     "text": [
      "Hari senin jadwal matakuliah biologi\n",
      "Hari selasa jadwal matakuliah biologi\n",
      "Hari rabu jadwal matakuliah biologi\n",
      "Hari kamis jadwal matakuliah biologi\n",
      "Hari jumat jadwal matakuliah biologi\n",
      "Hari sabtu jadwal matakuliah biologi\n",
      "Hari minggu jadwal matakuliah biologi\n",
      "Hari senin jadwal matakuliah matematika\n",
      "Hari selasa jadwal matakuliah matematika\n",
      "Hari rabu jadwal matakuliah matematika\n",
      "Hari kamis jadwal matakuliah matematika\n",
      "Hari jumat jadwal matakuliah matematika\n",
      "Hari sabtu jadwal matakuliah matematika\n",
      "Hari minggu jadwal matakuliah matematika\n"
     ]
    }
   ],
   "source": [
    "# program for dalam for\n",
    "\n",
    "list_hari = [\"senin\", \"selasa\", \"rabu\", \"kamis\", \"jumat\", \"sabtu\", \"minggu\"]\n",
    "\n",
    "list_matkul = [\"biologi\", \"matematika\"]\n",
    "\n",
    "for matkul in list_matkul :\n",
    "    for hari in list_hari :\n",
    "        print(\"Hari %s jadwal matakuliah %s\" % (hari, matkul))"
   ]
  },
  {
   "cell_type": "code",
   "execution_count": 42,
   "metadata": {},
   "outputs": [
    {
     "name": "stdin",
     "output_type": "stream",
     "text": [
      "Hari senin ada matkul apa ? Kalkulus\n"
     ]
    },
    {
     "name": "stdout",
     "output_type": "stream",
     "text": [
      "Hari senin kamu akan belajar matkul yang susah.\n"
     ]
    },
    {
     "name": "stdin",
     "output_type": "stream",
     "text": [
      "Hari selasa ada matkul apa ? Bahasa Inggris\n"
     ]
    },
    {
     "name": "stdout",
     "output_type": "stream",
     "text": [
      "Hari selasa kamu akan belajar matkul yang mudah.\n"
     ]
    },
    {
     "name": "stdin",
     "output_type": "stream",
     "text": [
      "Hari rabu ada matkul apa ? Elektronika\n"
     ]
    },
    {
     "name": "stdout",
     "output_type": "stream",
     "text": [
      "Hari rabu kamu akan belajar matkul yang susah.\n"
     ]
    },
    {
     "name": "stdin",
     "output_type": "stream",
     "text": [
      "Hari kamis ada matkul apa ? Kalkulus\n"
     ]
    },
    {
     "name": "stdout",
     "output_type": "stream",
     "text": [
      "Hari kamis kamu akan belajar matkul yang susah.\n"
     ]
    },
    {
     "name": "stdin",
     "output_type": "stream",
     "text": [
      "Hari jumat ada matkul apa ? OLahraga\n"
     ]
    },
    {
     "name": "stdout",
     "output_type": "stream",
     "text": [
      "Hari jumat kamu akan belajar matkul yang mudah.\n"
     ]
    },
    {
     "name": "stdin",
     "output_type": "stream",
     "text": [
      "Hari sabtu ada matkul apa ? Tataboga\n"
     ]
    },
    {
     "name": "stdout",
     "output_type": "stream",
     "text": [
      "Hari sabtu kamu akan belajar matkul yang mudah.\n"
     ]
    },
    {
     "name": "stdin",
     "output_type": "stream",
     "text": [
      "Hari minggu ada matkul apa ? Seni Rupa\n"
     ]
    },
    {
     "name": "stdout",
     "output_type": "stream",
     "text": [
      "Hari minggu kamu akan belajar matkul yang mudah.\n"
     ]
    }
   ],
   "source": [
    "# program for + struktur if else\n",
    "\n",
    "list_hari = [\"senin\", \"selasa\", \"rabu\", \"kamis\", \"jumat\", \"sabtu\", \"minggu\"]\n",
    "\n",
    "list_matkul = [\"Kalkulus\", \"Algoritma dan Pemrograman\", \"Elektronika\"]\n",
    "\n",
    "for hari in list_hari :\n",
    "    matkul = input(\"Hari %s ada matkul apa ?\" % hari)\n",
    "    if matkul in list_matkul :\n",
    "        print(\"Hari %s kamu akan belajar matkul yang susah.\" % hari)\n",
    "    else :\n",
    "        print(\"Hari %s kamu akan belajar matkul yang mudah.\" % hari)"
   ]
  },
  {
   "cell_type": "markdown",
   "metadata": {},
   "source": [
    "### Task\n",
    "\n",
    "- Buat program untuk menanyakan kegiatan harian dalam seminggu (7 hari), \n",
    "- jika kegiatan di hari tersebut merupakan Berkemah, Rekreasi, Jalan-jalan, maka print \"Hari %s kegiatanmu seru banget!\"\n",
    "- jika kegitan di hari tersebut bukan Berkemah, Rekreasi, Jalan-jalan maka print \"Hari %s kegiatanmu biasa saja!\""
   ]
  },
  {
   "cell_type": "markdown",
   "metadata": {},
   "source": [
    "___\n",
    "### Perulangan menggunakan while\n",
    "\n",
    "- struktur dasar,\n",
    "\n",
    "```\n",
    "while <condition>:\n",
    "    <do something..>\n",
    "```"
   ]
  },
  {
   "cell_type": "code",
   "execution_count": 44,
   "metadata": {},
   "outputs": [
    {
     "name": "stdout",
     "output_type": "stream",
     "text": [
      "loop ke-0\n",
      "loop ke-1\n",
      "loop ke-2\n",
      "loop ke-3\n",
      "loop ke-4\n",
      "loop ke-5\n",
      "loop ke-6\n",
      "loop ke-7\n",
      "loop ke-8\n",
      "loop ke-9\n",
      "loop ke-10\n"
     ]
    }
   ],
   "source": [
    "# program while loop sederhana\n",
    "\n",
    "i = 0\n",
    "while i <= 10 :\n",
    "    print(\"loop ke-%d\" % i)\n",
    "    i +=1"
   ]
  },
  {
   "cell_type": "code",
   "execution_count": 47,
   "metadata": {},
   "outputs": [
    {
     "name": "stdout",
     "output_type": "stream",
     "text": [
      "senin\n",
      "selasa\n",
      "rabu\n",
      "kamis\n",
      "jumat\n",
      "sabtu\n",
      "minggu\n"
     ]
    }
   ],
   "source": [
    "# program while loop sederhana (loop list)\n",
    "\n",
    "hari = [\"senin\", \"selasa\", \"rabu\", \"kamis\", \"jumat\", \"sabtu\", \"minggu\"]\n",
    "\n",
    "i = 0\n",
    "while i < len(hari):\n",
    "    print(hari[i])\n",
    "    i += 1"
   ]
  },
  {
   "cell_type": "code",
   "execution_count": 48,
   "metadata": {},
   "outputs": [
    {
     "name": "stdin",
     "output_type": "stream",
     "text": [
      "ya/tidak ya\n"
     ]
    },
    {
     "name": "stdout",
     "output_type": "stream",
     "text": [
      "ya\n"
     ]
    },
    {
     "name": "stdin",
     "output_type": "stream",
     "text": [
      "ya/tidak ya\n"
     ]
    },
    {
     "name": "stdout",
     "output_type": "stream",
     "text": [
      "ya\n",
      "ya\n"
     ]
    },
    {
     "name": "stdin",
     "output_type": "stream",
     "text": [
      "ya/tidak ya\n"
     ]
    },
    {
     "name": "stdout",
     "output_type": "stream",
     "text": [
      "ya\n",
      "ya\n"
     ]
    },
    {
     "name": "stdin",
     "output_type": "stream",
     "text": [
      "ya/tidak ya\n"
     ]
    },
    {
     "name": "stdout",
     "output_type": "stream",
     "text": [
      "ya\n",
      "ya\n"
     ]
    },
    {
     "name": "stdin",
     "output_type": "stream",
     "text": [
      "ya/tidak tidak\n"
     ]
    },
    {
     "name": "stdout",
     "output_type": "stream",
     "text": [
      "tidak\n"
     ]
    }
   ],
   "source": [
    "# program while loop + input\n",
    "\n",
    "data = input(\"ya/tidak\")\n",
    "\n",
    "while data == 'ya':\n",
    "    print(data)\n",
    "    data = input(\"ya/tidak\")\n",
    "    print(data)\n"
   ]
  },
  {
   "cell_type": "code",
   "execution_count": 49,
   "metadata": {},
   "outputs": [
    {
     "name": "stdin",
     "output_type": "stream",
     "text": [
      "input nama : budi\n"
     ]
    },
    {
     "name": "stdout",
     "output_type": "stream",
     "text": [
      "budi ada pada list nama\n"
     ]
    },
    {
     "name": "stdin",
     "output_type": "stream",
     "text": [
      "input nama : vica\n"
     ]
    },
    {
     "name": "stdout",
     "output_type": "stream",
     "text": [
      "vica ada pada list nama\n"
     ]
    },
    {
     "name": "stdin",
     "output_type": "stream",
     "text": [
      "input nama : rudi\n"
     ]
    },
    {
     "name": "stdout",
     "output_type": "stream",
     "text": [
      "rudi ada pada list nama\n"
     ]
    },
    {
     "name": "stdin",
     "output_type": "stream",
     "text": [
      "input nama : john\n"
     ]
    },
    {
     "name": "stdout",
     "output_type": "stream",
     "text": [
      "john tidak ada pada list nama\n"
     ]
    }
   ],
   "source": [
    "# program while loop + else\n",
    "\n",
    "nama = input(\"input nama :\")\n",
    "\n",
    "while nama in [\"budi\", \"yuni\", \"vica\", \"rudi\"]:\n",
    "    print (\"%s ada pada list nama\" % nama)\n",
    "    \n",
    "    nama = input(\"input nama :\")\n",
    "else :\n",
    "    print (\"%s tidak ada pada list nama\" % nama)"
   ]
  },
  {
   "cell_type": "code",
   "execution_count": 50,
   "metadata": {},
   "outputs": [
    {
     "name": "stdin",
     "output_type": "stream",
     "text": [
      "input nama : budi\n"
     ]
    },
    {
     "name": "stdout",
     "output_type": "stream",
     "text": [
      "budi ada pada list nama\n"
     ]
    },
    {
     "name": "stdin",
     "output_type": "stream",
     "text": [
      "input nama : vica\n"
     ]
    },
    {
     "name": "stdout",
     "output_type": "stream",
     "text": [
      "vica ada pada list nama\n"
     ]
    },
    {
     "name": "stdin",
     "output_type": "stream",
     "text": [
      "input nama : john\n"
     ]
    },
    {
     "name": "stdout",
     "output_type": "stream",
     "text": [
      "john tidak ada pada list nama\n"
     ]
    },
    {
     "name": "stdin",
     "output_type": "stream",
     "text": [
      "input nama : vica\n"
     ]
    },
    {
     "name": "stdout",
     "output_type": "stream",
     "text": [
      "vica ada pada list nama\n"
     ]
    },
    {
     "name": "stdin",
     "output_type": "stream",
     "text": [
      "input nama : vica\n"
     ]
    },
    {
     "name": "stdout",
     "output_type": "stream",
     "text": [
      "vica ada pada list nama\n"
     ]
    },
    {
     "name": "stdin",
     "output_type": "stream",
     "text": [
      "input nama : vica\n"
     ]
    },
    {
     "name": "stdout",
     "output_type": "stream",
     "text": [
      "vica ada pada list nama\n"
     ]
    },
    {
     "name": "stdin",
     "output_type": "stream",
     "text": [
      "input nama : john\n"
     ]
    },
    {
     "name": "stdout",
     "output_type": "stream",
     "text": [
      "john tidak ada pada list nama\n"
     ]
    },
    {
     "name": "stdin",
     "output_type": "stream",
     "text": [
      "input nama : john\n"
     ]
    },
    {
     "name": "stdout",
     "output_type": "stream",
     "text": [
      "john tidak ada pada list nama\n"
     ]
    },
    {
     "name": "stdin",
     "output_type": "stream",
     "text": [
      "input nama : john\n"
     ]
    },
    {
     "name": "stdout",
     "output_type": "stream",
     "text": [
      "john tidak ada pada list nama\n"
     ]
    },
    {
     "name": "stdin",
     "output_type": "stream",
     "text": [
      "input nama : john\n"
     ]
    },
    {
     "name": "stdout",
     "output_type": "stream",
     "text": [
      "john tidak ada pada list nama\n"
     ]
    },
    {
     "name": "stdin",
     "output_type": "stream",
     "text": [
      "input nama : john\n"
     ]
    }
   ],
   "source": [
    "# program while loop kombinasi dengan If-else\n",
    "\n",
    "nama = input(\"input nama :\")\n",
    "\n",
    "list_nama = [\"budi\", \"yuni\", \"vica\", \"rudi\"]\n",
    "\n",
    "i = 0\n",
    "while i < 10:\n",
    "    if nama in list_nama :\n",
    "        print (\"%s ada pada list nama\" % nama)\n",
    "    else :\n",
    "        print (\"%s tidak ada pada list nama\" % nama)\n",
    "    \n",
    "    nama = input(\"input nama :\")\n",
    "    i += 1"
   ]
  },
  {
   "cell_type": "code",
   "execution_count": null,
   "metadata": {},
   "outputs": [],
   "source": []
  },
  {
   "cell_type": "markdown",
   "metadata": {},
   "source": [
    "### Task\n",
    "- Buat program input umur dan tinggi badan, \n",
    "- Program akan looping terus menerus jika umur > 25 dan tinggi badan < 155 cm, dan print message \"Umur %d dan tinggi badan %d tidak memenuhi kriteria.\n",
    "- Jika jika umur <= 25 dan tinggi badan > 155 cm print \"Umur %d dan tinggi badan %d memenuhi kriteria dan harus berhenti looping."
   ]
  },
  {
   "cell_type": "markdown",
   "metadata": {},
   "source": [
    "### fungsi range() \n",
    "- fungsi `range` digunakan untuk menghasilkan *sequence* angka"
   ]
  },
  {
   "cell_type": "code",
   "execution_count": 52,
   "metadata": {},
   "outputs": [
    {
     "data": {
      "text/plain": [
       "range"
      ]
     },
     "execution_count": 52,
     "metadata": {},
     "output_type": "execute_result"
    }
   ],
   "source": [
    "range(5)"
   ]
  },
  {
   "cell_type": "code",
   "execution_count": 53,
   "metadata": {},
   "outputs": [
    {
     "name": "stdout",
     "output_type": "stream",
     "text": [
      "<class 'range'>\n",
      "[0, 1, 2, 3, 4, 5, 6, 7, 8, 9, 10, 11, 12, 13, 14, 15, 16, 17, 18, 19, 20, 21, 22, 23, 24, 25, 26, 27, 28, 29, 30, 31, 32, 33, 34, 35, 36, 37, 38, 39, 40, 41, 42, 43, 44, 45, 46, 47, 48, 49, 50, 51, 52, 53, 54, 55, 56, 57, 58, 59, 60, 61, 62, 63, 64, 65, 66, 67, 68, 69, 70, 71, 72, 73, 74, 75, 76, 77, 78, 79, 80, 81, 82, 83, 84, 85, 86, 87, 88, 89, 90, 91, 92, 93, 94, 95, 96, 97, 98, 99]\n"
     ]
    }
   ],
   "source": [
    "A = range(100)\n",
    "\n",
    "print(type(A))\n",
    "print(list(A))"
   ]
  },
  {
   "cell_type": "code",
   "execution_count": 54,
   "metadata": {},
   "outputs": [
    {
     "name": "stdout",
     "output_type": "stream",
     "text": [
      "[0, 1, 2, 3, 4, 5, 6, 7, 8, 9, 10, 11, 12, 13, 14, 15, 16, 17, 18, 19, 20, 21, 22, 23, 24, 25, 26, 27, 28, 29, 30, 31, 32, 33, 34, 35, 36, 37, 38, 39, 40, 41, 42, 43, 44, 45, 46, 47, 48, 49, 50, 51, 52, 53, 54, 55, 56, 57, 58, 59, 60, 61, 62, 63, 64, 65, 66, 67, 68, 69, 70, 71, 72, 73, 74, 75, 76, 77, 78, 79, 80, 81, 82, 83, 84, 85, 86, 87, 88, 89, 90, 91, 92, 93, 94, 95, 96, 97, 98, 99] <class 'list'>\n"
     ]
    }
   ],
   "source": [
    "B = list(A)\n",
    "\n",
    "print(B, type(B))"
   ]
  },
  {
   "cell_type": "markdown",
   "metadata": {},
   "source": [
    "### mengunakan range() pada perulangan for"
   ]
  },
  {
   "cell_type": "code",
   "execution_count": 55,
   "metadata": {},
   "outputs": [
    {
     "data": {
      "text/plain": [
       "[0, 1, 2, 3, 4, 5, 6, 7, 8, 9, 10, 11, 12, 13, 14]"
      ]
     },
     "execution_count": 55,
     "metadata": {},
     "output_type": "execute_result"
    }
   ],
   "source": [
    "list(range(15))"
   ]
  },
  {
   "cell_type": "code",
   "execution_count": 59,
   "metadata": {},
   "outputs": [
    {
     "name": "stdout",
     "output_type": "stream",
     "text": [
      "iterasi ke-0\n",
      "iterasi ke-1\n",
      "iterasi ke-2\n",
      "iterasi ke-3\n",
      "iterasi ke-4\n",
      "iterasi ke-5\n",
      "iterasi ke-6\n",
      "iterasi ke-7\n",
      "iterasi ke-8\n",
      "iterasi ke-9\n"
     ]
    }
   ],
   "source": [
    "for i in range(10):\n",
    "    print (\"iterasi ke-%s\" % i)"
   ]
  },
  {
   "cell_type": "code",
   "execution_count": 60,
   "metadata": {},
   "outputs": [
    {
     "name": "stdout",
     "output_type": "stream",
     "text": [
      "iterasi ke-0\n",
      "iterasi ke-1\n",
      "iterasi ke-2\n",
      "iterasi ke-3\n",
      "iterasi ke-4\n",
      "iterasi ke-5\n",
      "iterasi ke-6\n"
     ]
    }
   ],
   "source": [
    "my_list = [0, 1, 2, 3, 4, 5, 6]\n",
    "\n",
    "for i in my_list:\n",
    "    print (\"iterasi ke-%s\" % i)"
   ]
  },
  {
   "cell_type": "code",
   "execution_count": null,
   "metadata": {},
   "outputs": [],
   "source": []
  }
 ],
 "metadata": {
  "kernelspec": {
   "display_name": "Python 3",
   "language": "python",
   "name": "python3"
  },
  "language_info": {
   "codemirror_mode": {
    "name": "ipython",
    "version": 3
   },
   "file_extension": ".py",
   "mimetype": "text/x-python",
   "name": "python",
   "nbconvert_exporter": "python",
   "pygments_lexer": "ipython3",
   "version": "3.7.9"
  }
 },
 "nbformat": 4,
 "nbformat_minor": 4
}
