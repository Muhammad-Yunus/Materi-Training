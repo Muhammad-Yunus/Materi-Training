{
 "cells": [
  {
   "cell_type": "markdown",
   "metadata": {},
   "source": [
    "# Python Data Structure\n",
    "\n",
    "### Primitive\n",
    "- Integer\n",
    "- String\n",
    "- Float\n",
    "- Boolean\n",
    "\n",
    "### Non Primitive\n",
    "- **List**\n",
    "- **Dictionary**\n",
    "- Tuple\n",
    "- Set\n"
   ]
  },
  {
   "cell_type": "markdown",
   "metadata": {},
   "source": [
    "____\n",
    "\n",
    "\n",
    "### List\n",
    "\n",
    "Explore data struktur list\n",
    "\n",
    "`[item1, item2, item3, item4, ...]`"
   ]
  },
  {
   "cell_type": "code",
   "execution_count": null,
   "metadata": {},
   "outputs": [],
   "source": [
    "myList = [0, 10, 41.5, \"hello world\", False]"
   ]
  },
  {
   "cell_type": "code",
   "execution_count": null,
   "metadata": {},
   "outputs": [],
   "source": [
    "type(myList)"
   ]
  },
  {
   "cell_type": "markdown",
   "metadata": {},
   "source": [
    "#### Sifat Struktur Data List :\n",
    "- heterogen"
   ]
  },
  {
   "cell_type": "code",
   "execution_count": null,
   "metadata": {},
   "outputs": [],
   "source": [
    "# beragam struktur data\n",
    "myList = [ 10, 'hello', 14.5, False, [1, 3, 4]]"
   ]
  },
  {
   "cell_type": "markdown",
   "metadata": {},
   "source": [
    "- akses seluruh elemen list"
   ]
  },
  {
   "cell_type": "code",
   "execution_count": null,
   "metadata": {},
   "outputs": [],
   "source": [
    "print(myList)"
   ]
  },
  {
   "cell_type": "markdown",
   "metadata": {},
   "source": [
    "- akses 1 elemen pada list\n",
    "- menggunakan positive index (dimulai dari index = 0 dari sisi kiri ujung)"
   ]
  },
  {
   "cell_type": "code",
   "execution_count": null,
   "metadata": {},
   "outputs": [],
   "source": [
    "myList[7]"
   ]
  },
  {
   "cell_type": "markdown",
   "metadata": {},
   "source": [
    "- menggunakan negative index (dimulai dari index = -1 dari sisi kanan ujung)"
   ]
  },
  {
   "cell_type": "code",
   "execution_count": null,
   "metadata": {},
   "outputs": [],
   "source": [
    "myList"
   ]
  },
  {
   "cell_type": "code",
   "execution_count": null,
   "metadata": {},
   "outputs": [],
   "source": [
    "myList[-7]"
   ]
  },
  {
   "cell_type": "markdown",
   "metadata": {},
   "source": [
    "- slicing pada list dengan menggunakan `myList[start_index : stop_index]`\n"
   ]
  },
  {
   "cell_type": "code",
   "execution_count": null,
   "metadata": {},
   "outputs": [],
   "source": [
    "myList"
   ]
  },
  {
   "cell_type": "code",
   "execution_count": null,
   "metadata": {},
   "outputs": [],
   "source": [
    "myList[3:5]"
   ]
  },
  {
   "cell_type": "code",
   "execution_count": null,
   "metadata": {},
   "outputs": [],
   "source": [
    "# jika start index tidak di define maka start_index = 0\n",
    "myList[:4]"
   ]
  },
  {
   "cell_type": "code",
   "execution_count": null,
   "metadata": {},
   "outputs": [],
   "source": [
    "myList[:-1]"
   ]
  },
  {
   "cell_type": "code",
   "execution_count": null,
   "metadata": {},
   "outputs": [],
   "source": [
    "myList[-4:-2]"
   ]
  },
  {
   "cell_type": "code",
   "execution_count": null,
   "metadata": {},
   "outputs": [],
   "source": [
    "# jika stop index tidak di define maka stop_index = maximum index pada list\n",
    "myList[3:]"
   ]
  },
  {
   "cell_type": "code",
   "execution_count": null,
   "metadata": {},
   "outputs": [],
   "source": [
    "myList"
   ]
  },
  {
   "cell_type": "code",
   "execution_count": null,
   "metadata": {},
   "outputs": [],
   "source": [
    "# kombinasi positive index dan negative index\n",
    "myList[1:-1]"
   ]
  },
  {
   "cell_type": "code",
   "execution_count": null,
   "metadata": {},
   "outputs": [],
   "source": [
    "# menggunakan index diluar jangkauan list\n",
    "myList[:7]"
   ]
  },
  {
   "cell_type": "markdown",
   "metadata": {},
   "source": [
    "- start_index < stop_index (positive index/negative index)\n",
    "- jika start index >= stop index , result list = []"
   ]
  },
  {
   "cell_type": "code",
   "execution_count": null,
   "metadata": {},
   "outputs": [],
   "source": [
    "myList[-3: -5]"
   ]
  },
  {
   "cell_type": "code",
   "execution_count": null,
   "metadata": {},
   "outputs": [],
   "source": [
    "myList[4:1]"
   ]
  },
  {
   "cell_type": "code",
   "execution_count": null,
   "metadata": {},
   "outputs": [],
   "source": [
    "myList[-3:-10]"
   ]
  },
  {
   "cell_type": "code",
   "execution_count": null,
   "metadata": {},
   "outputs": [],
   "source": [
    "myList[:0]"
   ]
  },
  {
   "cell_type": "code",
   "execution_count": null,
   "metadata": {},
   "outputs": [],
   "source": [
    "# menggunakan `:` tanpa mendefinisikan start dan stop index maka list akan di ambil seluruhnya\n",
    "myList[:]"
   ]
  },
  {
   "cell_type": "code",
   "execution_count": null,
   "metadata": {},
   "outputs": [],
   "source": [
    "myList"
   ]
  },
  {
   "cell_type": "markdown",
   "metadata": {},
   "source": [
    "- mengakses elemen list dalam list"
   ]
  },
  {
   "cell_type": "code",
   "execution_count": null,
   "metadata": {},
   "outputs": [],
   "source": [
    "# blok list terluar ditulis lebih dulu, diikuti blok list didalamnya,\n",
    "myList[4]"
   ]
  },
  {
   "cell_type": "code",
   "execution_count": null,
   "metadata": {},
   "outputs": [],
   "source": [
    "myList[4][0]"
   ]
  },
  {
   "cell_type": "code",
   "execution_count": null,
   "metadata": {},
   "outputs": [],
   "source": [
    "myList[4][1:]"
   ]
  },
  {
   "cell_type": "code",
   "execution_count": null,
   "metadata": {},
   "outputs": [],
   "source": [
    "myList[4][:-1]"
   ]
  },
  {
   "cell_type": "code",
   "execution_count": null,
   "metadata": {},
   "outputs": [],
   "source": [
    "new_list = [1, 0.5, [11, ['hello', True, 1], 'test']]"
   ]
  },
  {
   "cell_type": "code",
   "execution_count": null,
   "metadata": {},
   "outputs": [],
   "source": [
    "# coba keluarkan item `hello`, `True`"
   ]
  },
  {
   "cell_type": "code",
   "execution_count": null,
   "metadata": {},
   "outputs": [],
   "source": []
  },
  {
   "cell_type": "markdown",
   "metadata": {},
   "source": [
    "- list bersifat **mutable**, sehingga kita bisa **reassign** dan **delete** elemen list"
   ]
  },
  {
   "cell_type": "code",
   "execution_count": null,
   "metadata": {},
   "outputs": [],
   "source": [
    "myList"
   ]
  },
  {
   "cell_type": "code",
   "execution_count": null,
   "metadata": {},
   "outputs": [],
   "source": [
    "myList[0] = 21"
   ]
  },
  {
   "cell_type": "code",
   "execution_count": null,
   "metadata": {},
   "outputs": [],
   "source": [
    "myList"
   ]
  },
  {
   "cell_type": "markdown",
   "metadata": {},
   "source": [
    "- Value pada list yang reassign tidak harus satu tipe data"
   ]
  },
  {
   "cell_type": "code",
   "execution_count": null,
   "metadata": {},
   "outputs": [],
   "source": [
    "myList[3] = \"Ganti ke string\""
   ]
  },
  {
   "cell_type": "code",
   "execution_count": null,
   "metadata": {},
   "outputs": [],
   "source": [
    "myList"
   ]
  },
  {
   "cell_type": "code",
   "execution_count": null,
   "metadata": {},
   "outputs": [],
   "source": [
    "myList[3] = False"
   ]
  },
  {
   "cell_type": "code",
   "execution_count": null,
   "metadata": {},
   "outputs": [],
   "source": [
    "myList"
   ]
  },
  {
   "cell_type": "markdown",
   "metadata": {},
   "source": [
    "- Reassign multiple item (list) dengan menggunakan slice\n",
    "- dimensi slice dengan list yang diinputkan sama"
   ]
  },
  {
   "cell_type": "code",
   "execution_count": null,
   "metadata": {},
   "outputs": [],
   "source": [
    "myList[0:2] = [33, 'world'] "
   ]
  },
  {
   "cell_type": "code",
   "execution_count": null,
   "metadata": {},
   "outputs": [],
   "source": [
    "myList"
   ]
  },
  {
   "cell_type": "code",
   "execution_count": null,
   "metadata": {},
   "outputs": [],
   "source": [
    "myList[0:2] = [False, 'hello']"
   ]
  },
  {
   "cell_type": "code",
   "execution_count": null,
   "metadata": {},
   "outputs": [],
   "source": [
    "myList"
   ]
  },
  {
   "cell_type": "markdown",
   "metadata": {},
   "source": [
    "- dimensi yang diinputkan beda, \n",
    "- dimensi slice < dimensi list input"
   ]
  },
  {
   "cell_type": "code",
   "execution_count": null,
   "metadata": {},
   "outputs": [],
   "source": [
    "myList[0:2] = [33, 'world', 0, True] "
   ]
  },
  {
   "cell_type": "code",
   "execution_count": null,
   "metadata": {},
   "outputs": [],
   "source": [
    "myList"
   ]
  },
  {
   "cell_type": "code",
   "execution_count": null,
   "metadata": {},
   "outputs": [],
   "source": []
  },
  {
   "cell_type": "markdown",
   "metadata": {},
   "source": [
    "- dimensi slice > dimensi list input"
   ]
  },
  {
   "cell_type": "code",
   "execution_count": null,
   "metadata": {},
   "outputs": [],
   "source": [
    "myList[0:4] = [10, 'hello']"
   ]
  },
  {
   "cell_type": "code",
   "execution_count": null,
   "metadata": {},
   "outputs": [],
   "source": [
    "myList"
   ]
  },
  {
   "cell_type": "markdown",
   "metadata": {},
   "source": [
    "- delete item pada list\n",
    "- item dengan index diatasnya akan mengisi index yang dihapus"
   ]
  },
  {
   "cell_type": "code",
   "execution_count": null,
   "metadata": {},
   "outputs": [],
   "source": [
    "del myList[0]\n",
    "\n",
    "myList"
   ]
  },
  {
   "cell_type": "markdown",
   "metadata": {},
   "source": [
    "- value `10` di remove, item `'hello'` menempati index 0, sebelumnya index 1, diikuti item lainya\n",
    "\n",
    "- delete menggunakan slice"
   ]
  },
  {
   "cell_type": "code",
   "execution_count": null,
   "metadata": {},
   "outputs": [],
   "source": [
    "del myList[0:2]\n",
    "\n",
    "myList"
   ]
  },
  {
   "cell_type": "code",
   "execution_count": null,
   "metadata": {},
   "outputs": [],
   "source": [
    "del myList[7]"
   ]
  },
  {
   "cell_type": "code",
   "execution_count": null,
   "metadata": {},
   "outputs": [],
   "source": [
    "del myList[4:7]"
   ]
  },
  {
   "cell_type": "code",
   "execution_count": null,
   "metadata": {},
   "outputs": [],
   "source": [
    "myList"
   ]
  },
  {
   "cell_type": "markdown",
   "metadata": {},
   "source": [
    "- program implementasi list"
   ]
  },
  {
   "cell_type": "code",
   "execution_count": null,
   "metadata": {},
   "outputs": [],
   "source": [
    "# program update nilai ulangan dibawah KKM\n",
    "\n",
    "nilai_ulangan = [74, 90.5, 65, 81, 87, 91, 70, 77, 86.5, 82, 71, 74]\n",
    "\n",
    "kkm = float(input(\"Input KKM [1-100]: \"))\n",
    "for i in range(len(nilai_ulangan)):\n",
    "    if nilai_ulangan[i] < kkm :\n",
    "        nilai_ulangan[i] = kkm\n",
    "        \n",
    "print(nilai_ulangan)"
   ]
  },
  {
   "cell_type": "code",
   "execution_count": null,
   "metadata": {},
   "outputs": [],
   "source": [
    "# program hapus buah dalam list\n",
    "\n",
    "list_buah = ['jambu', 'apel', 'mangga', 'pepaya', 'nanas', 'anggur', 'apel', 'pisang', 'jeruk', 'alpukat']\n",
    "\n",
    "buah_hapus = input(\"Input nama buah untuk dihapus : \")\n",
    "\n",
    "i = 0\n",
    "while i < len(list_buah):\n",
    "    if buah_hapus == list_buah[i] :\n",
    "        del list_buah[i]\n",
    "        i -= 1\n",
    "    i += 1\n",
    "        \n",
    "print(list_buah)"
   ]
  },
  {
   "cell_type": "code",
   "execution_count": null,
   "metadata": {},
   "outputs": [],
   "source": [
    "# program update nama buah dengan nama baru\n",
    "\n",
    "list_buah = ['jambu', 'apel', 'mangga', 'pepaya', 'nanas', 'anggur', 'apel', 'pisang', 'jeruk', 'alpukat']\n",
    "\n",
    "buah_lama = input(\"Input nama buah untuk diupdate : \")\n",
    "buah_baru = input(\"Buah %s akan diganti dengan nama :\" % buah_lama)\n",
    "\n",
    "i = 0\n",
    "while i < len(list_buah):\n",
    "    if buah_lama == list_buah[i] :\n",
    "        list_buah[i] = buah_baru\n",
    "    i += 1\n",
    "        \n",
    "print(list_buah)"
   ]
  },
  {
   "cell_type": "markdown",
   "metadata": {},
   "source": [
    "### Task\n",
    "- Buat program untuk mengupdate nilai ujian menjadi nilai baru :\n",
    "    - input :\n",
    "        - nilai_lama\n",
    "        - nilai_baru\n",
    "    - data nilai :\n",
    "        - [74, 90.5, 65, 81, 87, 91, 70, 77, 86.5, 82, 71, 74]"
   ]
  },
  {
   "cell_type": "markdown",
   "metadata": {},
   "source": [
    "#### Builtin function pada List"
   ]
  },
  {
   "cell_type": "code",
   "execution_count": null,
   "metadata": {},
   "outputs": [],
   "source": [
    "help(myList.clear)"
   ]
  },
  {
   "cell_type": "markdown",
   "metadata": {},
   "source": [
    "- builtin function pada list :\n",
    "\n",
    "`append`, `clear`, `copy`, `count`, `extend`, `index`, `insert`, `pop`, `remove`, `reverse`, `sort`"
   ]
  },
  {
   "cell_type": "markdown",
   "metadata": {},
   "source": [
    "- `append` : menambahkan item kedalam list, \n",
    "- posisi item yang ditambahkan pada list menempati index paling akhir"
   ]
  },
  {
   "cell_type": "code",
   "execution_count": null,
   "metadata": {},
   "outputs": [],
   "source": [
    "myList = [False, [1, 3, 4], (1, 2, 4), 2, 3]"
   ]
  },
  {
   "cell_type": "code",
   "execution_count": null,
   "metadata": {},
   "outputs": [],
   "source": [
    "myList.append(3)"
   ]
  },
  {
   "cell_type": "code",
   "execution_count": null,
   "metadata": {},
   "outputs": [],
   "source": [
    "myList"
   ]
  },
  {
   "cell_type": "code",
   "execution_count": null,
   "metadata": {},
   "outputs": [],
   "source": [
    "myList.append('hello')"
   ]
  },
  {
   "cell_type": "code",
   "execution_count": null,
   "metadata": {},
   "outputs": [],
   "source": [
    "myList"
   ]
  },
  {
   "cell_type": "code",
   "execution_count": null,
   "metadata": {},
   "outputs": [],
   "source": [
    "myList.append(4, 2)"
   ]
  },
  {
   "cell_type": "code",
   "execution_count": null,
   "metadata": {},
   "outputs": [],
   "source": [
    "myList.append(['test', 'append'])"
   ]
  },
  {
   "cell_type": "code",
   "execution_count": null,
   "metadata": {},
   "outputs": [],
   "source": [
    "myList"
   ]
  },
  {
   "cell_type": "code",
   "execution_count": null,
   "metadata": {},
   "outputs": [],
   "source": [
    "# bagaimana caranya agar output seperti ini \n",
    "# [False, [1, 3, 4], (1, 2, 4), 2, 3, 3, 'hello', ['test', 'append', 13]]\n",
    "\n",
    "myList[7].append(13)"
   ]
  },
  {
   "cell_type": "code",
   "execution_count": null,
   "metadata": {},
   "outputs": [],
   "source": [
    "myList"
   ]
  },
  {
   "cell_type": "code",
   "execution_count": null,
   "metadata": {},
   "outputs": [],
   "source": [
    "# bagaimana caranya agar output seperti ini \n",
    "# [False, [1, 3, 4, 'python'], (1, 2, 4), 2, 3, 3, 'hello', ['test', 'append', 13]]\n",
    "\n",
    "myList[1].append('python')"
   ]
  },
  {
   "cell_type": "code",
   "execution_count": null,
   "metadata": {},
   "outputs": [],
   "source": [
    "myList"
   ]
  },
  {
   "cell_type": "markdown",
   "metadata": {},
   "source": [
    "- `count` : menghitung banyaknya item pada list dengan nilai yang diberikan"
   ]
  },
  {
   "cell_type": "code",
   "execution_count": null,
   "metadata": {},
   "outputs": [],
   "source": [
    "# mencari banyaknya item dengan nilai `14.5` pada list\n",
    "myList.count('hello')"
   ]
  },
  {
   "cell_type": "code",
   "execution_count": null,
   "metadata": {},
   "outputs": [],
   "source": [
    "myList.append('hello')"
   ]
  },
  {
   "cell_type": "code",
   "execution_count": null,
   "metadata": {},
   "outputs": [],
   "source": [
    "myList"
   ]
  },
  {
   "cell_type": "code",
   "execution_count": null,
   "metadata": {},
   "outputs": [],
   "source": [
    "myList.count('hello')"
   ]
  },
  {
   "cell_type": "markdown",
   "metadata": {},
   "source": [
    "- `insert` : menambahkan item kedalam list pada index tertentu"
   ]
  },
  {
   "cell_type": "code",
   "execution_count": null,
   "metadata": {},
   "outputs": [],
   "source": [
    "# menambahkan item = 3.14 kedalam list pada index = 1\n",
    "myList.insert(1, 3.14)\n",
    "\n",
    "myList"
   ]
  },
  {
   "cell_type": "markdown",
   "metadata": {},
   "source": [
    "- List yang menempati posisi yang diinsert akan terdorong ke-kanan,\n"
   ]
  },
  {
   "cell_type": "markdown",
   "metadata": {},
   "source": [
    "- jika index pada `insert` > banyaknya index pada list, \n",
    "- maka item yang ditambahkan akan disimpan di akhir list"
   ]
  },
  {
   "cell_type": "code",
   "execution_count": null,
   "metadata": {},
   "outputs": [],
   "source": [
    "myList.insert(100, 'test out of range')\n",
    "\n",
    "myList"
   ]
  },
  {
   "cell_type": "code",
   "execution_count": null,
   "metadata": {},
   "outputs": [],
   "source": [
    "myList.insert(-79, 'test out of range')\n",
    "\n",
    "myList"
   ]
  },
  {
   "cell_type": "code",
   "execution_count": null,
   "metadata": {},
   "outputs": [],
   "source": [
    "myList = [False, 3.14, [1, 3, 4], (1, 2, 4), 2, 3, 3.14]"
   ]
  },
  {
   "cell_type": "markdown",
   "metadata": {},
   "source": [
    "- `index` : mencari posisi item pada list, \n",
    "- jika lebih dari satu item ditemukan pada list, maka yang dikembalikan adalah yang pertama ditemukan"
   ]
  },
  {
   "cell_type": "code",
   "execution_count": null,
   "metadata": {},
   "outputs": [],
   "source": [
    "myList.index(False)"
   ]
  },
  {
   "cell_type": "code",
   "execution_count": null,
   "metadata": {},
   "outputs": [],
   "source": [
    "myList.index(3.14)"
   ]
  },
  {
   "cell_type": "markdown",
   "metadata": {},
   "source": [
    "- mencari ukuran list"
   ]
  },
  {
   "cell_type": "code",
   "execution_count": null,
   "metadata": {},
   "outputs": [],
   "source": [
    "len(myList)"
   ]
  },
  {
   "cell_type": "markdown",
   "metadata": {},
   "source": [
    "- Implementasi Builtin function List"
   ]
  },
  {
   "cell_type": "code",
   "execution_count": null,
   "metadata": {},
   "outputs": [],
   "source": [
    "# program untuk cek/tambah buah\n",
    "\n",
    "buah_buahan = ['jambu', 'apel', 'mangga', 'pepaya', 'nanas', 'anggur', 'apel', 'pisang', 'jeruk', 'alpukat']\n",
    "\n",
    "value = input(\"Masukan perintah [cek/tambah/exit] : \")\n",
    "while value != \"exit\" :\n",
    "    if value == \"cek\" :\n",
    "        buah = input(\"Nama buah untuk di %s : \" % value)\n",
    "        index = buah_buahan.index(buah)\n",
    "        print(\"Buah %s memiliki index %d pada list.\" % (buah, index))\n",
    "     \n",
    "    elif value == \"tambah\" :\n",
    "        buah = input(\"Nama buah untuk di %s : \" % value)\n",
    "        buah_buahan.append(buah)\n",
    "        print(\"Buah %s berhasil ditambahkan pada list.\" % (buah))\n",
    "        \n",
    "        \n",
    "    value = input(\"Masukan perintah [cek/tambah/exit] : \")"
   ]
  },
  {
   "cell_type": "markdown",
   "metadata": {},
   "source": [
    "### Task\n",
    "- Sempurnakan \"program untuk cek/tambah buah\" diatas agar bisa memproses perintah update \n",
    "- jika value == \"update\" maka inputkan buah_lama dan buah_baru\n",
    "- cari index list buah lama `index = buah_buahan.index(buah_lama)`\n",
    "- update value list buah_buahan di index tersebut dengan buah_lama"
   ]
  },
  {
   "cell_type": "markdown",
   "metadata": {},
   "source": [
    "___\n",
    "### Structure Data Dictionary\n",
    "\n",
    "- `{` \\\n",
    "    `key1 : value1,` \\\n",
    "    `key2 : value2,` \\\n",
    "    `dst..` \\\n",
    "    `}`\n",
    "- berpasangan dalam bentuk key-value "
   ]
  },
  {
   "cell_type": "code",
   "execution_count": null,
   "metadata": {},
   "outputs": [],
   "source": [
    "myDictionary = {\n",
    "    \"key 1\"    : 10,\n",
    "    \"key 2\"    : 13.5,\n",
    "    \"data\"     : \"Hello World\",\n",
    "    \"list_key\" : [1, \"hello\", 3.4, True],\n",
    "    10         : \"hi\",\n",
    "    14.77      : False\n",
    "}"
   ]
  },
  {
   "cell_type": "code",
   "execution_count": null,
   "metadata": {},
   "outputs": [],
   "source": [
    "type(myDictionary)"
   ]
  },
  {
   "cell_type": "code",
   "execution_count": null,
   "metadata": {},
   "outputs": [],
   "source": [
    "dir(myDictionary)"
   ]
  },
  {
   "cell_type": "markdown",
   "metadata": {},
   "source": [
    "- show all element in dictionary"
   ]
  },
  {
   "cell_type": "code",
   "execution_count": null,
   "metadata": {},
   "outputs": [],
   "source": [
    "myDictionary"
   ]
  },
  {
   "cell_type": "markdown",
   "metadata": {},
   "source": [
    "- access value by key in dictionary"
   ]
  },
  {
   "cell_type": "code",
   "execution_count": null,
   "metadata": {},
   "outputs": [],
   "source": [
    "myDictionary['key 2']"
   ]
  },
  {
   "cell_type": "code",
   "execution_count": null,
   "metadata": {},
   "outputs": [],
   "source": [
    "myDictionary['list_key']"
   ]
  },
  {
   "cell_type": "code",
   "execution_count": null,
   "metadata": {},
   "outputs": [],
   "source": [
    "myDictionary[14.77]"
   ]
  },
  {
   "cell_type": "markdown",
   "metadata": {},
   "source": [
    "- change value by key in dictionary"
   ]
  },
  {
   "cell_type": "code",
   "execution_count": null,
   "metadata": {},
   "outputs": [],
   "source": [
    "myDictionary['data'] = \"Hello World Update!\""
   ]
  },
  {
   "cell_type": "code",
   "execution_count": null,
   "metadata": {},
   "outputs": [],
   "source": [
    "myDictionary"
   ]
  },
  {
   "cell_type": "markdown",
   "metadata": {},
   "source": [
    "- delete item in dictionary by key"
   ]
  },
  {
   "cell_type": "code",
   "execution_count": null,
   "metadata": {},
   "outputs": [],
   "source": [
    "del myDictionary['key 1']"
   ]
  },
  {
   "cell_type": "code",
   "execution_count": null,
   "metadata": {},
   "outputs": [],
   "source": [
    "myDictionary"
   ]
  },
  {
   "cell_type": "markdown",
   "metadata": {},
   "source": [
    "- List dengan item Dictionary"
   ]
  },
  {
   "cell_type": "code",
   "execution_count": null,
   "metadata": {},
   "outputs": [],
   "source": [
    "custom_dict = [\n",
    "    {\n",
    "        'nama' : 'john',\n",
    "        'umur' : 30\n",
    "    },\n",
    "        {\n",
    "        'nama' : 'budi',\n",
    "        'umur' : 50\n",
    "    },\n",
    "        {\n",
    "        'nama' : 'handoko',\n",
    "        'umur' : 45\n",
    "    }\n",
    "]"
   ]
  },
  {
   "cell_type": "code",
   "execution_count": null,
   "metadata": {},
   "outputs": [],
   "source": [
    "print(\"umur \" + custom_dict[1]['nama'] + \" adalah \" + str(custom_dict[1]['umur']))"
   ]
  },
  {
   "cell_type": "markdown",
   "metadata": {},
   "source": [
    "- Implementasi Dictionary"
   ]
  },
  {
   "cell_type": "code",
   "execution_count": null,
   "metadata": {},
   "outputs": [],
   "source": [
    "# program input profil diri\n",
    "\n",
    "value = input(\"Input Profil [ya/tidak] : \")\n",
    "\n",
    "list_profil = []\n",
    "while value == \"ya\" :\n",
    "    profile = {\n",
    "            'nama' : input(\"Nama : \"),\n",
    "            'umur' : input(\"Alamat : \")\n",
    "            }\n",
    "    list_profil.append(profil)\n",
    "    \n",
    "    value = input(\"Input Profil [ya/tidak] : \")\n",
    "else :\n",
    "    print(list_profil)"
   ]
  },
  {
   "cell_type": "markdown",
   "metadata": {},
   "source": [
    "# Task\n",
    "- Kembangkan \"program input profil diri\" agar hanya memasukan dictionary profile jika profile (nama & alamat) belum exist di list list_profil\n",
    "    - `if profile in list_profile` lakukan `print(\"data sudah exist di list!\")`\n",
    "    - `else` lakukan `list_profil.append(profil)`"
   ]
  },
  {
   "cell_type": "markdown",
   "metadata": {},
   "source": [
    "### built in function pada dictionary"
   ]
  },
  {
   "cell_type": "code",
   "execution_count": null,
   "metadata": {},
   "outputs": [],
   "source": [
    "len(myDictionary)"
   ]
  },
  {
   "cell_type": "markdown",
   "metadata": {},
   "source": [
    "- `get()` : mengambil value pada dictionary berdasarkan key"
   ]
  },
  {
   "cell_type": "code",
   "execution_count": null,
   "metadata": {},
   "outputs": [],
   "source": [
    "myDictionary.get('key 1')"
   ]
  },
  {
   "cell_type": "code",
   "execution_count": null,
   "metadata": {},
   "outputs": [],
   "source": [
    "myDictionary.get('data')"
   ]
  },
  {
   "cell_type": "markdown",
   "metadata": {},
   "source": [
    "- dengan menggunakan `get()` jika key tidak ditemukan pada dictionary, hasilnya tidak error,"
   ]
  },
  {
   "cell_type": "code",
   "execution_count": null,
   "metadata": {},
   "outputs": [],
   "source": [
    "myDictionary.get('not_found')"
   ]
  },
  {
   "cell_type": "code",
   "execution_count": null,
   "metadata": {},
   "outputs": [],
   "source": [
    "myDictionary['not_found']"
   ]
  },
  {
   "cell_type": "markdown",
   "metadata": {},
   "source": [
    "- mengambil semua key pada dictionary sebagai list"
   ]
  },
  {
   "cell_type": "code",
   "execution_count": null,
   "metadata": {},
   "outputs": [],
   "source": [
    "myDictionary.keys()"
   ]
  },
  {
   "cell_type": "markdown",
   "metadata": {},
   "source": [
    "- mengambil semua value pada dictionary sebagai list"
   ]
  },
  {
   "cell_type": "code",
   "execution_count": null,
   "metadata": {},
   "outputs": [],
   "source": [
    "myDictionary.values()"
   ]
  },
  {
   "cell_type": "markdown",
   "metadata": {},
   "source": [
    "- Mendapatkan values pada List dengan item Dictionary"
   ]
  },
  {
   "cell_type": "code",
   "execution_count": null,
   "metadata": {},
   "outputs": [],
   "source": [
    "# program mendapatkan values setiap dictionary yang ada pada list\n",
    "\n",
    "custom_dict = [\n",
    "    {\n",
    "        'nama' : 'john',\n",
    "        'umur' : 30\n",
    "    },\n",
    "        {\n",
    "        'nama' : 'budi',\n",
    "        'umur' : 50\n",
    "    },\n",
    "        {\n",
    "        'nama' : 'handoko',\n",
    "        'umur' : 45\n",
    "    }\n",
    "]\n",
    "\n",
    "custom_dict_values = []\n",
    "for item in custom_dict :\n",
    "    item_values = list(item.values())\n",
    "    custom_dict_values.append(item_values)\n",
    "\n",
    "print(custom_dict_values)"
   ]
  }
 ],
 "metadata": {
  "kernelspec": {
   "display_name": "Python 3",
   "language": "python",
   "name": "python3"
  },
  "language_info": {
   "codemirror_mode": {
    "name": "ipython",
    "version": 3
   },
   "file_extension": ".py",
   "mimetype": "text/x-python",
   "name": "python",
   "nbconvert_exporter": "python",
   "pygments_lexer": "ipython3",
   "version": "3.7.9"
  }
 },
 "nbformat": 4,
 "nbformat_minor": 4
}
