{
 "cells": [
  {
   "cell_type": "markdown",
   "metadata": {},
   "source": [
    "___\n",
    "# OpenCV\n",
    "<img src=\"resource/opencv.png\" style=\"width: 100px; \"></img>\n",
    "\n",
    "*Open Source Computer Vision Library* | an open source computer vision and machine learning software library."
   ]
  },
  {
   "cell_type": "markdown",
   "metadata": {},
   "source": [
    "**History | 20 Tahun  Library OpenCV**\n",
    "- Dirilis pertama kali oleh **Intel** pada tahun 1999\n",
    "- Versi alpha rilis secara public di *IEEE Conference on Computer Vision and Pattern Recognition* pada tahun 2000 \n",
    "- Versi 1.0 rilis pada tahun 2006 (C support) [(link)](https://opencv.org/anniversary/20/?p=366)\n",
    "- Versi 1.1 \"pre-release\" rilis tahun 2008\n",
    "- Development diserahkan kepada **Willow Garage** dan **Itseez** (*leading developer of OpenCV*) pada tahun 2008 [(link)](https://opencv.org/anniversary/20/?p=59)\n",
    "- **OpenCV 2**  (major update,  C++ support & Python Binding) rilis Oktober 2009 [(link)](https://opencv.org/anniversary/20/?p=145)\n",
    "- Pada tahun 2012 OpenCV di ambil alih oleh non-profit foundation **OpenCV.org** dan OpenCV mirasi ke **Github** [(link)](https://opencv.org/anniversary/20/?p=147)\n",
    "- **OpenCV 3.0**  release Juni 2015 (interface improvements, T-API – an OpenCL-based acceleration) [(link) ](https://opencv.org/anniversary/20/?p=150)\n",
    "- Pada tahun 2016 Intel mengakuisisi **Itseez**, sehingga OpenCV kembali dibawah **Intel** [(link)](https://opencv.org/anniversary/20/?p=152)\n",
    "- Akhir 2016 OpenCV merilis DNN module and JavaScript (**OpenCV.js**) support (OpenCV >= 3.3) [(link)](https://opencv.org/anniversary/20/?paged=2&cat=6)\n",
    "- Tahun 2018, Intel merilis **OpenVINO toolkit**, yang dapat digunakan sebagai backend OpenCV DNN [(link)](https://opencv.org/anniversary/20/?p=158) \n",
    "- **OpenCV 4.0**  release (C++11, Vulkan backend, etc.) Nov 2018\n",
    "- **OpenCV 4.4**  release Juli 2020"
   ]
  },
  {
   "cell_type": "markdown",
   "metadata": {},
   "source": [
    "**Support**\n",
    "- Programming Language : C++, Python, Java, MATLAB, etc.\n",
    "- Operating Systems : Windows, Linux, Android and Mac OS\n",
    "- Hardware Acceleration : CUDA (NVIDIA) & OpenCL"
   ]
  },
  {
   "cell_type": "markdown",
   "metadata": {},
   "source": [
    "### Citra Digital\n",
    "\n",
    "- Citra digital (umumnya) terdiri dari **3 layer** (channel) warna **R, G & B**.\n",
    "- Tiap layer memiliki **tinggi** dan **lebar** citra yang sama.\n",
    "- Tiap titik pada layer memiliki nilai **8bit** (0 - 255) yag di sebut pixel. "
   ]
  },
  {
   "cell_type": "markdown",
   "metadata": {},
   "source": [
    "<img src=\"resource/citradigital.png\" style=\"width: 500px; \"></img>"
   ]
  },
  {
   "cell_type": "markdown",
   "metadata": {},
   "source": [
    "- Ukuran citra bervariasi dari size yang kecil (320x240 pixel) hingga (4096x2190 pixel)/4K\n",
    "\n",
    "<img src=\"resource/ukurancitra.PNG\" style=\"width: 500px; \"></img>"
   ]
  },
  {
   "cell_type": "markdown",
   "metadata": {},
   "source": [
    "#### Install OpenCV"
   ]
  },
  {
   "cell_type": "code",
   "execution_count": null,
   "metadata": {},
   "outputs": [],
   "source": [
    "! pip install opencv-python"
   ]
  },
  {
   "cell_type": "markdown",
   "metadata": {},
   "source": [
    "atau via `conda`,"
   ]
  },
  {
   "cell_type": "code",
   "execution_count": null,
   "metadata": {},
   "outputs": [],
   "source": [
    "! conda install opencv"
   ]
  },
  {
   "cell_type": "markdown",
   "metadata": {},
   "source": [
    "#### Install Matplotlib"
   ]
  },
  {
   "cell_type": "code",
   "execution_count": null,
   "metadata": {},
   "outputs": [],
   "source": [
    "! pip install matplotlib"
   ]
  },
  {
   "cell_type": "markdown",
   "metadata": {},
   "source": [
    "### OpenCV - Part 1\n",
    "\n",
    "- Access Individual pixel \n",
    "- Read, Show, & Save Image\n",
    "- Read, Show, & Save Video\n",
    "- Capture photo from camera\n",
    "- Capture image screenshot\n",
    "\n",
    "___"
   ]
  },
  {
   "cell_type": "code",
   "execution_count": null,
   "metadata": {},
   "outputs": [],
   "source": [
    "import cv2\n",
    "import numpy as np"
   ]
  },
  {
   "cell_type": "code",
   "execution_count": null,
   "metadata": {},
   "outputs": [],
   "source": [
    "cv2.__version__"
   ]
  },
  {
   "cell_type": "markdown",
   "metadata": {},
   "source": [
    "### Read Image"
   ]
  },
  {
   "cell_type": "code",
   "execution_count": null,
   "metadata": {},
   "outputs": [],
   "source": [
    "img = cv2.imread(\"Tomat.jpg\")"
   ]
  },
  {
   "cell_type": "code",
   "execution_count": null,
   "metadata": {},
   "outputs": [],
   "source": [
    "type(img)"
   ]
  },
  {
   "cell_type": "markdown",
   "metadata": {},
   "source": [
    "### Image Matrix "
   ]
  },
  {
   "cell_type": "code",
   "execution_count": null,
   "metadata": {},
   "outputs": [],
   "source": [
    "img.shape"
   ]
  },
  {
   "cell_type": "code",
   "execution_count": null,
   "metadata": {},
   "outputs": [],
   "source": [
    "h, w, c = img.shape"
   ]
  },
  {
   "cell_type": "code",
   "execution_count": null,
   "metadata": {},
   "outputs": [],
   "source": [
    "h, w, c"
   ]
  },
  {
   "cell_type": "code",
   "execution_count": null,
   "metadata": {},
   "outputs": [],
   "source": [
    "img.min()"
   ]
  },
  {
   "cell_type": "code",
   "execution_count": null,
   "metadata": {},
   "outputs": [],
   "source": [
    "img.max()"
   ]
  },
  {
   "cell_type": "markdown",
   "metadata": {},
   "source": [
    "### Access Image Channel\n",
    "\n",
    "![](resource/image_frame.png)"
   ]
  },
  {
   "cell_type": "code",
   "execution_count": null,
   "metadata": {},
   "outputs": [],
   "source": [
    "img[:, :, 0].shape # layer 0 (Blue)"
   ]
  },
  {
   "cell_type": "code",
   "execution_count": null,
   "metadata": {},
   "outputs": [],
   "source": [
    "img[:, :, 1].shape # layer 1 (Green)"
   ]
  },
  {
   "cell_type": "code",
   "execution_count": null,
   "metadata": {},
   "outputs": [],
   "source": [
    "img[:, :, 2].shape # layer 2 (Red)"
   ]
  },
  {
   "cell_type": "markdown",
   "metadata": {},
   "source": [
    "### Access Individual pixel"
   ]
  },
  {
   "cell_type": "code",
   "execution_count": null,
   "metadata": {},
   "outputs": [],
   "source": [
    "img[0, 0]"
   ]
  },
  {
   "cell_type": "code",
   "execution_count": null,
   "metadata": {},
   "outputs": [],
   "source": [
    "(B, G, R) = img[200, 200]\n",
    "\n",
    "print(\"R=%d, G=%d, B=%d\" % (R, G, B))"
   ]
  },
  {
   "cell_type": "code",
   "execution_count": null,
   "metadata": {},
   "outputs": [],
   "source": []
  },
  {
   "cell_type": "markdown",
   "metadata": {},
   "source": [
    "### Read & Display Image"
   ]
  },
  {
   "cell_type": "code",
   "execution_count": null,
   "metadata": {},
   "outputs": [],
   "source": [
    "import cv2"
   ]
  },
  {
   "cell_type": "code",
   "execution_count": null,
   "metadata": {},
   "outputs": [],
   "source": [
    "# read image\n",
    "img = cv2.imread('Tomat.jpg')"
   ]
  },
  {
   "cell_type": "markdown",
   "metadata": {},
   "source": [
    "- Menggunkan GUI OpenCV"
   ]
  },
  {
   "cell_type": "code",
   "execution_count": null,
   "metadata": {},
   "outputs": [],
   "source": [
    "# show image\n",
    "cv2.imshow('Foto Tomat',img)\n",
    "cv2.waitKey(0) # display the window infinitely until any keypress\n",
    "cv2.destroyAllWindows()"
   ]
  },
  {
   "cell_type": "code",
   "execution_count": null,
   "metadata": {},
   "outputs": [],
   "source": [
    "cv2.imshow('Tomat.jpg' ,img)\n",
    "res = cv2.waitKey(6000) # display the window for 6000 ms (6 s), \n",
    "                        # if any keypress detected before 6 s, \n",
    "                        # the window will be closed. \n",
    "print(res)\n",
    "cv2.destroyAllWindows()"
   ]
  },
  {
   "cell_type": "code",
   "execution_count": null,
   "metadata": {},
   "outputs": [],
   "source": [
    "chr(97)"
   ]
  },
  {
   "cell_type": "code",
   "execution_count": null,
   "metadata": {},
   "outputs": [],
   "source": [
    "chr(113)"
   ]
  },
  {
   "cell_type": "code",
   "execution_count": null,
   "metadata": {},
   "outputs": [],
   "source": [
    "# show image\n",
    "cv2.imshow('Tomat.jpg',img)\n",
    "res = cv2.waitKey(0)\n",
    "print('You pressed : %s' % chr(res) if res >=0 and res <= 127 else '<unknown>')\n",
    "cv2.destroyAllWindows()"
   ]
  },
  {
   "cell_type": "markdown",
   "metadata": {},
   "source": [
    "- Menggunakan Matplotlib"
   ]
  },
  {
   "cell_type": "code",
   "execution_count": null,
   "metadata": {},
   "outputs": [],
   "source": [
    "%matplotlib inline\n",
    "import matplotlib.pyplot as plt\n",
    "\n",
    "plt.imshow(img)"
   ]
  },
  {
   "cell_type": "markdown",
   "metadata": {},
   "source": [
    "- reverse matrix value"
   ]
  },
  {
   "cell_type": "code",
   "execution_count": null,
   "metadata": {},
   "outputs": [],
   "source": [
    "A = np.array([1, 2, 3, 4])\n",
    "\n",
    "print(A)\n",
    "print(A[::-1])"
   ]
  },
  {
   "cell_type": "code",
   "execution_count": null,
   "metadata": {},
   "outputs": [],
   "source": [
    "img_rgb = img[:,:,::-1] # numpy reverse matrix (BGR to RGB)\n",
    "plt.imshow(img_rgb)"
   ]
  },
  {
   "cell_type": "markdown",
   "metadata": {},
   "source": [
    "### Save Image "
   ]
  },
  {
   "cell_type": "code",
   "execution_count": null,
   "metadata": {},
   "outputs": [],
   "source": [
    "# save image\n",
    "cv2.imwrite('saved_tomato.jpg', img)"
   ]
  },
  {
   "cell_type": "markdown",
   "metadata": {},
   "source": [
    "### Read Multiple Image\n",
    "- listing file/directory for given path using `os` library"
   ]
  },
  {
   "cell_type": "code",
   "execution_count": null,
   "metadata": {},
   "outputs": [],
   "source": [
    "import os\n",
    "\n",
    "DATASET_FOLDER  = \"Dataset_Tomat/\"\n",
    "\n",
    "for folder in os.listdir(DATASET_FOLDER):\n",
    "    print(folder)"
   ]
  },
  {
   "cell_type": "markdown",
   "metadata": {},
   "source": [
    "- listing file dalam folder"
   ]
  },
  {
   "cell_type": "code",
   "execution_count": null,
   "metadata": {
    "scrolled": true
   },
   "outputs": [],
   "source": [
    "for folder in os.listdir(DATASET_FOLDER):\n",
    "    for file in os.listdir(DATASET_FOLDER + folder):\n",
    "        print(DATASET_FOLDER + folder + \"/\" + file)"
   ]
  },
  {
   "cell_type": "markdown",
   "metadata": {},
   "source": [
    "- read multiple image using `os` and `opencv` library"
   ]
  },
  {
   "cell_type": "code",
   "execution_count": null,
   "metadata": {},
   "outputs": [],
   "source": [
    "image_list = []\n",
    "\n",
    "for folder in os.listdir(DATASET_FOLDER):\n",
    "    for file in os.listdir(DATASET_FOLDER + folder):\n",
    "        img = cv2.imread(DATASET_FOLDER + folder + \"/\" + file)\n",
    "        image_list.append(img)"
   ]
  },
  {
   "cell_type": "code",
   "execution_count": null,
   "metadata": {},
   "outputs": [],
   "source": [
    "len(image_list)"
   ]
  },
  {
   "cell_type": "code",
   "execution_count": null,
   "metadata": {
    "scrolled": true
   },
   "outputs": [],
   "source": [
    "image_list[0]"
   ]
  },
  {
   "cell_type": "code",
   "execution_count": null,
   "metadata": {},
   "outputs": [],
   "source": [
    "img = image_list[4]\n",
    "\n",
    "img_rgb = img[:,:,::-1]\n",
    "\n",
    "plt.imshow(img_rgb)"
   ]
  },
  {
   "cell_type": "markdown",
   "metadata": {},
   "source": [
    "- display multiple image using `subplot`"
   ]
  },
  {
   "cell_type": "code",
   "execution_count": null,
   "metadata": {},
   "outputs": [],
   "source": [
    "# display 2 image in two row 1 column\n",
    "\n",
    "plt.subplot(2,1,1) # baris, kolom, location\n",
    "plt.imshow(image_list[0][:, :, ::-1])\n",
    "\n",
    "plt.subplot(2,1,2)\n",
    "plt.imshow(image_list[1][:, :, ::-1])"
   ]
  },
  {
   "cell_type": "code",
   "execution_count": null,
   "metadata": {},
   "outputs": [],
   "source": [
    "# display 2 image in 1 row 2 column\n",
    "\n",
    "plt.subplot(1,2,1) # baris, kolom, location\n",
    "plt.imshow(image_list[0][:, :, ::-1])\n",
    "\n",
    "plt.subplot(1,2,2)\n",
    "plt.imshow(image_list[1][:, :, ::-1])"
   ]
  },
  {
   "cell_type": "code",
   "execution_count": null,
   "metadata": {},
   "outputs": [],
   "source": [
    "i = 1\n",
    "for img in image_list:\n",
    "    plt.subplot(4, 5, i)\n",
    "    plt.imshow(img[:, :, ::-1])\n",
    "    i += 1"
   ]
  },
  {
   "cell_type": "code",
   "execution_count": null,
   "metadata": {},
   "outputs": [],
   "source": [
    "i = 1\n",
    "plt.figure(figsize=(20,8))\n",
    "for img in image_list[:10] :\n",
    "    plt.subplot(2, 5, i)\n",
    "    plt.imshow(img[:, :, ::-1])\n",
    "    i += 1"
   ]
  },
  {
   "cell_type": "code",
   "execution_count": null,
   "metadata": {},
   "outputs": [],
   "source": []
  }
 ],
 "metadata": {
  "kernelspec": {
   "display_name": "Python [conda env:opencv_env]",
   "language": "python",
   "name": "conda-env-opencv_env-py"
  },
  "language_info": {
   "codemirror_mode": {
    "name": "ipython",
    "version": 3
   },
   "file_extension": ".py",
   "mimetype": "text/x-python",
   "name": "python",
   "nbconvert_exporter": "python",
   "pygments_lexer": "ipython3",
   "version": "3.8.6"
  }
 },
 "nbformat": 4,
 "nbformat_minor": 4
}
