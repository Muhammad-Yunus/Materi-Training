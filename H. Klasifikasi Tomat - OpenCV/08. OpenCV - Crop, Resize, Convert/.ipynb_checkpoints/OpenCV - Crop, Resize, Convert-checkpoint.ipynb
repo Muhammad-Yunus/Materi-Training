{
 "cells": [
  {
   "cell_type": "markdown",
   "metadata": {},
   "source": [
    "# Pertemuan 8\n",
    "\n",
    "- Image Crop \n",
    "- Image Resize \n",
    "- Image Color Conversion"
   ]
  },
  {
   "cell_type": "code",
   "execution_count": null,
   "metadata": {},
   "outputs": [],
   "source": [
    "import os\n",
    "import cv2 \n",
    "import numpy as np\n",
    "import matplotlib.pyplot as plt"
   ]
  },
  {
   "cell_type": "markdown",
   "metadata": {},
   "source": [
    "## 1. Image Crop"
   ]
  },
  {
   "cell_type": "markdown",
   "metadata": {},
   "source": [
    "### 1.1 Basic crop\n",
    "- crop image pada OpenCV dilakukan dengan menggunakan *numpy slicing*\n",
    "- dengan notasi `image_array[y_min:y_max , x_min:x_max]`\n",
    "- dimana `y_min`, `y_max`, `x_min` dan `x_max` merupakan titik pixel batas area yang ingin di crop.\n",
    "\n",
    "<img src=\"resource/crop_img.png\" style=\"width: 400px;\"></img> <br><br>\n",
    "<img src=\"resource/crop_image_2.png\" style=\"width: 350px;\"></img>"
   ]
  },
  {
   "cell_type": "code",
   "execution_count": null,
   "metadata": {},
   "outputs": [],
   "source": [
    "img = cv2.imread('Tomat.jpg')\n",
    "\n",
    "img.shape"
   ]
  },
  {
   "cell_type": "code",
   "execution_count": null,
   "metadata": {},
   "outputs": [],
   "source": [
    "plt.imshow(img[:,:,::-1])"
   ]
  },
  {
   "cell_type": "markdown",
   "metadata": {},
   "source": [
    "- crop dengan index positif"
   ]
  },
  {
   "cell_type": "code",
   "execution_count": null,
   "metadata": {},
   "outputs": [],
   "source": [
    "# crop image[y_min:y_max, x_min:x_max]\n",
    "\n",
    "img_crop = img[200:400, 200:400] "
   ]
  },
  {
   "cell_type": "code",
   "execution_count": null,
   "metadata": {},
   "outputs": [],
   "source": [
    "img_crop.shape"
   ]
  },
  {
   "cell_type": "code",
   "execution_count": null,
   "metadata": {},
   "outputs": [],
   "source": [
    "plt.imshow(img_crop[:,:,::-1])"
   ]
  },
  {
   "cell_type": "markdown",
   "metadata": {},
   "source": [
    "- crop dengan index negatif"
   ]
  },
  {
   "cell_type": "code",
   "execution_count": null,
   "metadata": {},
   "outputs": [],
   "source": [
    "# crop image[y_min:y_max , x_min:x_max]\n",
    "\n",
    "img_crop = img[50:-50, 50:-50] "
   ]
  },
  {
   "cell_type": "code",
   "execution_count": null,
   "metadata": {},
   "outputs": [],
   "source": [
    "plt.imshow(img_crop[:,:,::-1])"
   ]
  },
  {
   "cell_type": "code",
   "execution_count": null,
   "metadata": {},
   "outputs": [],
   "source": [
    "img_crop.shape"
   ]
  },
  {
   "cell_type": "markdown",
   "metadata": {},
   "source": [
    "### 1.2 read & crop multiple image"
   ]
  },
  {
   "cell_type": "code",
   "execution_count": null,
   "metadata": {},
   "outputs": [],
   "source": [
    "image_list = []\n",
    "labels = []\n",
    "\n",
    "DATASET_FOLDER = \"Dataset_Tomat/\"\n",
    "\n",
    "for folder in os.listdir(DATASET_FOLDER):\n",
    "    for file in os.listdir(DATASET_FOLDER + folder):\n",
    "        img = cv2.imread(DATASET_FOLDER + folder + \"/\" + file)\n",
    "        img_crop = img[30:-30, 30:-30]  # crop image \n",
    "        image_list.append(img_crop)\n",
    "        labels.append(folder) # append label (name) of image"
   ]
  },
  {
   "cell_type": "code",
   "execution_count": null,
   "metadata": {},
   "outputs": [],
   "source": [
    "len(image_list)"
   ]
  },
  {
   "cell_type": "code",
   "execution_count": null,
   "metadata": {
    "scrolled": true
   },
   "outputs": [],
   "source": [
    "labels"
   ]
  },
  {
   "cell_type": "code",
   "execution_count": null,
   "metadata": {},
   "outputs": [],
   "source": [
    "idx = 1\n",
    "\n",
    "img = image_list[idx]\n",
    "\n",
    "plt.title(labels[idx])\n",
    "plt.imshow(img[:,:,::-1])"
   ]
  },
  {
   "cell_type": "code",
   "execution_count": null,
   "metadata": {},
   "outputs": [],
   "source": [
    "idx = 6\n",
    "\n",
    "img = image_list[idx]\n",
    "\n",
    "plt.title(labels[idx])\n",
    "plt.imshow(img[:,:,::-1])"
   ]
  },
  {
   "cell_type": "code",
   "execution_count": null,
   "metadata": {},
   "outputs": [],
   "source": []
  },
  {
   "cell_type": "markdown",
   "metadata": {},
   "source": [
    "### 1.3 Membuat Class yang didalamnya dapat Read Multiple Image dan Crop Image"
   ]
  },
  {
   "cell_type": "code",
   "execution_count": null,
   "metadata": {},
   "outputs": [],
   "source": [
    "class Preprocessing : \n",
    "    def __init__(self, DATASET_FOLDER = \"Dataset_Tomat/\"):\n",
    "        self.image_list = []\n",
    "        self.labels = []\n",
    "        self.image_crop = []\n",
    "        self.DATASET_FOLDER = DATASET_FOLDER\n",
    "        \n",
    "    def ImageRead(self):\n",
    "        for folder in os.listdir(DATASET_FOLDER):\n",
    "            for file in os.listdir(DATASET_FOLDER + folder):\n",
    "                img = cv2.imread(DATASET_FOLDER + folder + \"/\" + file)\n",
    "                self.image_list.append(img)\n",
    "                self.labels.append(folder) # append label (name) of image\n",
    "                \n",
    "    def ImageCrop(self, size=[30,-30,30,-30]):\n",
    "        for img in self.image_list :\n",
    "            image_crop = img[size[0]:size[1], size[2]:size[3]] \n",
    "            self.image_crop.append(image_crop)"
   ]
  },
  {
   "cell_type": "code",
   "execution_count": null,
   "metadata": {},
   "outputs": [],
   "source": [
    "# create preproces_obj object from Preprocessing class\n",
    "\n",
    "preproces_obj = Preprocessing(DATASET_FOLDER = \"Dataset_Tomat/\")"
   ]
  },
  {
   "cell_type": "code",
   "execution_count": null,
   "metadata": {},
   "outputs": [],
   "source": [
    "# call ImageRead() method in preproces_obj object\n",
    "\n",
    "preproces_obj.ImageRead()"
   ]
  },
  {
   "cell_type": "code",
   "execution_count": null,
   "metadata": {
    "scrolled": true
   },
   "outputs": [],
   "source": [
    "dir(preproces_obj)"
   ]
  },
  {
   "cell_type": "code",
   "execution_count": null,
   "metadata": {},
   "outputs": [],
   "source": [
    "# display one image from image_list property of preproces_obj object \n",
    "\n",
    "img = preproces_obj.image_list[13]\n",
    "\n",
    "plt.imshow(img[:,:,::-1])"
   ]
  },
  {
   "cell_type": "code",
   "execution_count": null,
   "metadata": {},
   "outputs": [],
   "source": [
    "# call ImageCrop() method in preproces_obj object\n",
    "\n",
    "preproces_obj.ImageCrop(size=[30,-30,30,-30])"
   ]
  },
  {
   "cell_type": "code",
   "execution_count": null,
   "metadata": {},
   "outputs": [],
   "source": [
    "# display one image from img_list property of preproces_obj object \n",
    "\n",
    "img = preproces_obj.image_crop[13]\n",
    "\n",
    "plt.imshow(img[:,:,::-1])"
   ]
  },
  {
   "cell_type": "code",
   "execution_count": null,
   "metadata": {},
   "outputs": [],
   "source": []
  },
  {
   "cell_type": "markdown",
   "metadata": {},
   "source": [
    "### Task \n",
    "- tambahkan method ImageDisplay() ke class Preprocessing agar bisa menampilkan gambar pada spesifik index \n",
    "```\n",
    " def ImageDisplay(self, index=0):\n",
    "     #show image by matplotlib at index\n",
    " \n",
    " ```"
   ]
  },
  {
   "cell_type": "code",
   "execution_count": null,
   "metadata": {},
   "outputs": [],
   "source": []
  },
  {
   "cell_type": "markdown",
   "metadata": {},
   "source": [
    "___\n",
    "### 1.4 display all croped image"
   ]
  },
  {
   "cell_type": "code",
   "execution_count": null,
   "metadata": {},
   "outputs": [],
   "source": [
    "list(range(len(image_list)))"
   ]
  },
  {
   "cell_type": "code",
   "execution_count": null,
   "metadata": {
    "scrolled": true
   },
   "outputs": [],
   "source": [
    "help(plt.subplot)"
   ]
  },
  {
   "cell_type": "code",
   "execution_count": null,
   "metadata": {},
   "outputs": [],
   "source": [
    "rows = 4\n",
    "cols = 5\n",
    "plt.figure(figsize=(20,16))\n",
    "for i in range(len(image_list)):\n",
    "    img = image_list[i]\n",
    "    plt.subplot(rows, cols, i + 1)\n",
    "    plt.title(labels[i])\n",
    "    plt.imshow(img[:, :, ::-1])"
   ]
  },
  {
   "cell_type": "code",
   "execution_count": null,
   "metadata": {},
   "outputs": [],
   "source": []
  },
  {
   "cell_type": "markdown",
   "metadata": {},
   "source": [
    "___\n",
    "### 1.5 Class Preprocessing dengan penambahan method ImageAllDIsplay()"
   ]
  },
  {
   "cell_type": "code",
   "execution_count": null,
   "metadata": {},
   "outputs": [],
   "source": [
    "class Preprocessing : \n",
    "    def __init__(self, DATASET_FOLDER = \"Dataset_Tomat/\"):\n",
    "        self.image_list = []\n",
    "        self.labels = []\n",
    "        self.image_crop = []\n",
    "        self.DATASET_FOLDER = DATASET_FOLDER\n",
    "        \n",
    "    def ImageRead(self):\n",
    "        for folder in os.listdir(DATASET_FOLDER):\n",
    "            for file in os.listdir(DATASET_FOLDER + folder):\n",
    "                img = cv2.imread(DATASET_FOLDER + folder + \"/\" + file)\n",
    "                self.image_list.append(img)\n",
    "                self.labels.append(folder) # append label (name) of image\n",
    "                \n",
    "    def ImageCrop(self, size=[30,-30,30,-30]):\n",
    "        for img in self.image_list :\n",
    "            image_crop = img[30:-30, 30:-30] \n",
    "            self.image_crop.append(image_crop)\n",
    "            \n",
    "    def ImageDisplay(self, index=0):\n",
    "        img = self.image_crop[index]\n",
    "        plt.imshow(img[:,:,::-1])\n",
    "        \n",
    "    def ImageAllDisplay(self, rows=4, cols=5):\n",
    "        plt.figure(figsize=(20,16))\n",
    "        for i in range(len(self.image_list)):\n",
    "\n",
    "            img = self.image_list[i]\n",
    "            plt.subplot(rows, cols, i + 1)\n",
    "            plt.title(self.labels[i])\n",
    "            plt.imshow(img[:, :, ::-1])\n",
    "            "
   ]
  },
  {
   "cell_type": "code",
   "execution_count": null,
   "metadata": {},
   "outputs": [],
   "source": [
    "# create preproces_obj object from Preprocessing class\n",
    "\n",
    "preproces_obj = Preprocessing(DATASET_FOLDER = \"Dataset_Tomat/\")\n",
    "\n",
    "preproces_obj.ImageRead()\n",
    "preproces_obj.ImageCrop(size=[30,-30,30,-30])\n"
   ]
  },
  {
   "cell_type": "code",
   "execution_count": null,
   "metadata": {},
   "outputs": [],
   "source": [
    "preproces_obj.ImageDisplay(index=10)"
   ]
  },
  {
   "cell_type": "code",
   "execution_count": null,
   "metadata": {},
   "outputs": [],
   "source": [
    "preproces_obj.ImageAllDisplay(rows=4, cols=5)"
   ]
  },
  {
   "cell_type": "code",
   "execution_count": null,
   "metadata": {},
   "outputs": [],
   "source": []
  },
  {
   "cell_type": "code",
   "execution_count": null,
   "metadata": {},
   "outputs": [],
   "source": []
  },
  {
   "cell_type": "markdown",
   "metadata": {},
   "source": [
    "___\n",
    "### 1.6 save croped image"
   ]
  },
  {
   "cell_type": "markdown",
   "metadata": {},
   "source": [
    " - create folder using `os` library"
   ]
  },
  {
   "cell_type": "code",
   "execution_count": null,
   "metadata": {},
   "outputs": [],
   "source": [
    "os.mkdir(\"croped_tomato\") # create folder"
   ]
  },
  {
   "cell_type": "markdown",
   "metadata": {},
   "source": [
    "- define image filename "
   ]
  },
  {
   "cell_type": "code",
   "execution_count": null,
   "metadata": {},
   "outputs": [],
   "source": [
    "i = 7\n",
    "\n",
    "labels[i] # labels variable contain image name"
   ]
  },
  {
   "cell_type": "code",
   "execution_count": null,
   "metadata": {},
   "outputs": [],
   "source": [
    "i = 7\n",
    "\n",
    "labels[i] + \"_%03d.jpg\" % i # name with 4 digit padding number"
   ]
  },
  {
   "cell_type": "code",
   "execution_count": null,
   "metadata": {},
   "outputs": [],
   "source": [
    "CROPED_FOLDER = \"croped_tomato/\"\n",
    "i = 7\n",
    "\n",
    "filen_name = labels[i] + \"_%04d.jpg\" % i\n",
    "\n",
    "CROPED_FOLDER + labels[i] + \"/\" + filen_name"
   ]
  },
  {
   "cell_type": "markdown",
   "metadata": {},
   "source": [
    "- save croped tomato to folder"
   ]
  },
  {
   "cell_type": "code",
   "execution_count": null,
   "metadata": {},
   "outputs": [],
   "source": [
    "list(range(len(image_list)))"
   ]
  },
  {
   "cell_type": "code",
   "execution_count": null,
   "metadata": {},
   "outputs": [],
   "source": [
    "CROPED_FOLDER = \"croped_tomato/\"\n",
    "for i in range(len(image_list)):\n",
    "    \n",
    "    # get image\n",
    "    img = image_list[i]\n",
    "    \n",
    "    # check if folder exist. if not, create that folder    \n",
    "    folder_path = CROPED_FOLDER + labels[i] + \"/\"\n",
    "    if not os.path.exists(folder_path) :\n",
    "        os.mkdir(folder_path)\n",
    "        \n",
    "    # save image\n",
    "    file_name = labels[i] + \"_%4d.jpg\" % i\n",
    "    file_path = CROPED_FOLDER + labels[i] + \"/\" + filen_name\n",
    "    \n",
    "    cv2.imwrite(file_path, img)"
   ]
  },
  {
   "cell_type": "code",
   "execution_count": null,
   "metadata": {},
   "outputs": [],
   "source": []
  },
  {
   "cell_type": "markdown",
   "metadata": {},
   "source": [
    "### Task \n",
    "- tambahkan method SaveAllCropedImage() ke class Preprocessing agar bisa menyimpan semua gambar yang di crop ke folder"
   ]
  },
  {
   "cell_type": "code",
   "execution_count": null,
   "metadata": {},
   "outputs": [],
   "source": []
  },
  {
   "cell_type": "code",
   "execution_count": null,
   "metadata": {},
   "outputs": [],
   "source": []
  },
  {
   "cell_type": "markdown",
   "metadata": {},
   "source": [
    "___"
   ]
  },
  {
   "cell_type": "markdown",
   "metadata": {},
   "source": [
    "## 2. Image Resize"
   ]
  },
  {
   "cell_type": "markdown",
   "metadata": {},
   "source": [
    "![](resource/resize.jpg)\n",
    "- untuk melakukan resize image pada OpenCV diprkenalkan beberapa method berikut :\n",
    "    - `cv2.resize(img, (w_new, h_new))` : resize `img` ke ukuran `w_new` x `h_new`"
   ]
  },
  {
   "cell_type": "code",
   "execution_count": null,
   "metadata": {},
   "outputs": [],
   "source": [
    "img = cv2.imread('Tomat.jpg')\n",
    "\n",
    "# resize image (new_widht, new_height)\n",
    "img_resize = cv2.resize(img, (320, 240))  \n",
    "\n",
    "# show image \n",
    "plt.imshow(img_resize[:,:,::-1])"
   ]
  },
  {
   "cell_type": "markdown",
   "metadata": {},
   "source": [
    "- resize dengan menggunakan rasio ukuran original (`fx`, `fy`)"
   ]
  },
  {
   "cell_type": "code",
   "execution_count": null,
   "metadata": {},
   "outputs": [],
   "source": [
    "img = cv2.imread('Tomat.jpg')\n",
    "\n",
    "# resize image (new_widht, new_height)\n",
    "img_resize = cv2.resize(img, (0,0), fx=0.7, fy=0.7)  \n",
    "\n",
    "# show image \n",
    "plt.imshow(img_resize[:,:,::-1])"
   ]
  },
  {
   "cell_type": "code",
   "execution_count": null,
   "metadata": {},
   "outputs": [],
   "source": [
    "img_resize.shape"
   ]
  },
  {
   "cell_type": "markdown",
   "metadata": {},
   "source": [
    "- resize multiple image"
   ]
  },
  {
   "cell_type": "code",
   "execution_count": null,
   "metadata": {},
   "outputs": [],
   "source": [
    "list(range(len(image_list)))"
   ]
  },
  {
   "cell_type": "code",
   "execution_count": null,
   "metadata": {},
   "outputs": [],
   "source": [
    "resized_list = []\n",
    "\n",
    "for img in image_list:\n",
    "    img_resize = cv2.resize(img, (100, 100)) # resize to 100 x 100 pixel\n",
    "    resized_list.append(img_resize)"
   ]
  },
  {
   "cell_type": "code",
   "execution_count": null,
   "metadata": {},
   "outputs": [],
   "source": []
  },
  {
   "cell_type": "markdown",
   "metadata": {},
   "source": [
    "### Task \n",
    "- tambahkan method ImageResize() ke class Preprocessing agar bisa resize semua gambar\n",
    "- tambahkan method SaveAllResizedImage() ke class Preprocessing agar bisa menyimpan semua gambar yang di resize ke folder"
   ]
  },
  {
   "cell_type": "code",
   "execution_count": null,
   "metadata": {},
   "outputs": [],
   "source": []
  },
  {
   "cell_type": "markdown",
   "metadata": {},
   "source": [
    "___"
   ]
  },
  {
   "cell_type": "markdown",
   "metadata": {},
   "source": [
    "## 3. Image Color Conversion\n",
    "\n",
    "![](resource/gray_image.png)\n",
    "- Diperkenalkan method `cv2.cvtColor()` untuk color conversion pada OpenCV\n",
    "- Berikut adalah parameter convert color  :\n",
    "    - convert BGR <--> GRAY \\\n",
    "    `cv2.COLOR_BGR2GRAY` \\\n",
    "    `cv2.COLOR_GRAY2RGB` <br><br>\n",
    "- Convert BGR to RGB Ilustration <br>\n",
    "    - OpenCV using **Rec. 601 luma** formula to calculate grayscale image :\n",
    "    $\\text{RGB[A] to Gray:} \\quad Y \\leftarrow 0.299 \\cdot R + 0.587 \\cdot G + 0.114 \\cdot B$ <br><br>\n",
    "    <img src=\"resource/gray_image_2.png\" style=\"width: 400px;\"></img><br><br>"
   ]
  },
  {
   "cell_type": "code",
   "execution_count": null,
   "metadata": {},
   "outputs": [],
   "source": [
    "# convert BGR to Gray\n",
    "img = cv2.imread(\"Tomat.jpg\")\n",
    "\n",
    "img_gray = cv2.cvtColor(img, cv2.COLOR_BGR2GRAY)\n",
    "\n",
    "# show image \n",
    "plt.imshow(img_gray, cmap=\"gray\")"
   ]
  },
  {
   "cell_type": "markdown",
   "metadata": {},
   "source": [
    "- grayscale image shape"
   ]
  },
  {
   "cell_type": "code",
   "execution_count": null,
   "metadata": {},
   "outputs": [],
   "source": [
    "img_gray.shape"
   ]
  },
  {
   "cell_type": "code",
   "execution_count": null,
   "metadata": {},
   "outputs": [],
   "source": [
    "img_gray.dtype"
   ]
  },
  {
   "cell_type": "code",
   "execution_count": null,
   "metadata": {},
   "outputs": [],
   "source": [
    "img.shape"
   ]
  },
  {
   "cell_type": "markdown",
   "metadata": {},
   "source": [
    "- convert grayscale all image dataset"
   ]
  },
  {
   "cell_type": "code",
   "execution_count": null,
   "metadata": {},
   "outputs": [],
   "source": [
    "grayscalse_list = []\n",
    "\n",
    "for img in image_list:\n",
    "    img_gray = cv2.cvtColor(img, cv2.COLOR_BGR2GRAY)\n",
    "\n",
    "    grayscalse_list.append(img_gray)"
   ]
  },
  {
   "cell_type": "code",
   "execution_count": null,
   "metadata": {},
   "outputs": [],
   "source": []
  },
  {
   "cell_type": "markdown",
   "metadata": {},
   "source": [
    "### Home Work \n",
    "- tambahkan method ImageGrayscale() ke class Preprocessing agar bisa convert ke grayscale semua gambar\n",
    "- tambahkan method SaveAllGrayscaleImage() ke class Preprocessing agar bisa menyimpan semua gambar yang di grayscale ke folder"
   ]
  },
  {
   "cell_type": "code",
   "execution_count": null,
   "metadata": {},
   "outputs": [],
   "source": []
  }
 ],
 "metadata": {
  "kernelspec": {
   "display_name": "Python [conda env:opencv_env]",
   "language": "python",
   "name": "conda-env-opencv_env-py"
  },
  "language_info": {
   "codemirror_mode": {
    "name": "ipython",
    "version": 3
   },
   "file_extension": ".py",
   "mimetype": "text/x-python",
   "name": "python",
   "nbconvert_exporter": "python",
   "pygments_lexer": "ipython3",
   "version": "3.8.6"
  }
 },
 "nbformat": 4,
 "nbformat_minor": 4
}
