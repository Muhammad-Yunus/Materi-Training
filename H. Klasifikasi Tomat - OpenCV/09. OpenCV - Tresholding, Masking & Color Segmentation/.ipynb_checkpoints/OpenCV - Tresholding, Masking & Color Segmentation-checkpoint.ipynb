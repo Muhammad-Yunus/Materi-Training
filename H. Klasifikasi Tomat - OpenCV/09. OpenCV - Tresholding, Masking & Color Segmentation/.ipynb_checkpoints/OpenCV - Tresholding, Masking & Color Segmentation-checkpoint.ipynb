{
 "cells": [
  {
   "cell_type": "markdown",
   "metadata": {},
   "source": [
    "## Pertemuan 9\n",
    "\n",
    "- Binary Thresholding\n",
    "- Image Masking\n",
    "- Range Thresholding (Color Segmentation)"
   ]
  },
  {
   "cell_type": "code",
   "execution_count": null,
   "metadata": {},
   "outputs": [],
   "source": [
    "import os\n",
    "import cv2\n",
    "import numpy as np\n",
    "import matplotlib.pyplot as plt"
   ]
  },
  {
   "cell_type": "markdown",
   "metadata": {},
   "source": [
    "___\n",
    "## 1. Binary Thresholding (Image Binarization)\n",
    "\n",
    "### 1.1 Image Binaryzation\n",
    "- **Image Binarization** adalah proses membuat sebuah gambar menjadi hitam putih (image hanya memiliki nilai pixel 0 atau 255) dengan menerapkan batas threshold tertentu. \n",
    "    \n",
    "- Menggunakan method `cv2.threshold(img, threshold_value, max_value, threshold_type)`\n",
    "- Untuk :\n",
    "    - `img` : input image\n",
    "    - `threshold_value`: The thresh value with respect to which the thresholding operation is made\n",
    "    - `max_value`: The value used with the Binary thresholding operations (to set the chosen pixels)\n",
    "    - `threshold_type`: One of the 5 thresholding operations. \n",
    "        - `cv2.THRESH_BINARY`\n",
    "        - `cv2.THRESH_BINARY_INV`\n",
    "        - `cv2.THRESH_TRUNC`\n",
    "        - `cv2.THRESH_TOZERO`\n",
    "        - `cv2.THRESH_TOZERO_INV`\n",
    "    \n",
    "    \n",
    "- Ilustrasi : \\\n",
    "![](resource/thresh.png)\n"
   ]
  },
  {
   "cell_type": "code",
   "execution_count": null,
   "metadata": {},
   "outputs": [],
   "source": [
    "img = cv2.imread('Tomat.jpg')\n",
    "\n",
    "#convert to grayscale\n",
    "img = cv2.cvtColor(img, cv2.COLOR_BGR2GRAY)\n",
    "\n",
    "# apply thresholding \n",
    "# cv2.thresholding(<image>, threshold_value, max_value, threshold method)\n",
    "ret1, thresh1 = cv2.threshold(img, 230, 255, cv2.THRESH_BINARY)\n",
    "ret2, thresh2 = cv2.threshold(img, 230, 255, cv2.THRESH_BINARY_INV)\n",
    "ret3, thresh3 = cv2.threshold(img, 230, 255, cv2.THRESH_TRUNC)\n",
    "ret4, thresh4 = cv2.threshold(img, 230, 255, cv2.THRESH_TOZERO)\n",
    "ret5, thresh5 = cv2.threshold(img, 230, 255, cv2.THRESH_TOZERO_INV)\n",
    "\n",
    "#show image\n",
    "plt.figure(figsize=(20,10))\n",
    "plt.subplot(2, 3, 1)\n",
    "plt.title(\"Original Image\")\n",
    "plt.imshow(img, cmap=\"gray\")\n",
    "\n",
    "plt.subplot(2, 3, 2)\n",
    "plt.title(\"Thresholded Binary\")\n",
    "plt.imshow(thresh1, cmap=\"gray\")\n",
    "\n",
    "plt.subplot(2, 3, 3)\n",
    "plt.title(\"Thresholded Binary Inv\")\n",
    "plt.imshow(thresh2, cmap=\"gray\")\n",
    "\n",
    "plt.subplot(2, 3, 4)\n",
    "plt.title(\"Thresholded Trunc\")\n",
    "plt.imshow(thresh3, cmap=\"gray\")\n",
    "\n",
    "plt.subplot(2, 3, 5)\n",
    "plt.title(\"Thresholded To Zero\")\n",
    "plt.imshow(thresh4, cmap=\"gray\")\n",
    "\n",
    "plt.subplot(2, 3, 6)\n",
    "plt.title(\"Thresholded To Zero Inv\")\n",
    "plt.imshow(thresh5, cmap=\"gray\")\n"
   ]
  },
  {
   "cell_type": "markdown",
   "metadata": {},
   "source": [
    "___\n",
    "### 1.2 Buat Class Preprocessing yang memiliki method untuk Image Binaryzation"
   ]
  },
  {
   "cell_type": "code",
   "execution_count": null,
   "metadata": {},
   "outputs": [],
   "source": [
    "class Preprocessing : \n",
    "    def __init__(self, DATASET_FOLDER = \"Dataset_Tomat/\"):\n",
    "        self.labels = []\n",
    "        self.image_list = []\n",
    "        self.image_binary = []\n",
    "        self.image_gray = []\n",
    "        self.DATASET_FOLDER = DATASET_FOLDER\n",
    "        \n",
    "    def ImageRead(self):\n",
    "        for folder in os.listdir(self.DATASET_FOLDER):\n",
    "            for file in os.listdir(self.DATASET_FOLDER + folder):\n",
    "                img = cv2.imread(self.DATASET_FOLDER + folder + \"/\" + file)\n",
    "                self.image_list.append(img)\n",
    "                self.labels.append(folder) # append label (name) of image\n",
    "                \n",
    "    def ConvertToGray(self): \n",
    "        for img in self.image_list:\n",
    "            img = cv2.cvtColor(img, cv2.COLOR_BGR2GRAY)\n",
    "            self.image_gray.append(img)\n",
    "            \n",
    "    def ConvertToBinary(self, threshold_value=125, max_value=255, method = cv2.THRESH_BINARY):\n",
    "        for img in self.image_gray :\n",
    "            ret, thresh = cv2.threshold(img, threshold_value, max_value, method)\n",
    "            self.image_binary.append(thresh)\n",
    "            \n",
    "    def SaveAllBinary(self, BINARY_FOLDER = \"binary_tomato/\"):\n",
    "        if not os.path.exists(BINARY_FOLDER) :\n",
    "            os.mkdir(BINARY_FOLDER)\n",
    "            \n",
    "        for i in range(len(self.image_binary)):\n",
    "\n",
    "            # get image\n",
    "            img = self.image_binary[i]\n",
    "\n",
    "            # check if folder exist. if not, create that folder    \n",
    "            folder_path = BINARY_FOLDER + self.labels[i] + \"/\"\n",
    "            if not os.path.exists(folder_path) :\n",
    "                os.mkdir(folder_path)\n",
    "\n",
    "            # save image\n",
    "            file_name = self.labels[i] + \"_%03d.jpg\" % i\n",
    "            file_path = BINARY_FOLDER + self.labels[i] + \"/\" + file_name\n",
    "\n",
    "            cv2.imwrite(file_path, img)"
   ]
  },
  {
   "cell_type": "code",
   "execution_count": null,
   "metadata": {},
   "outputs": [],
   "source": [
    "preprocess1 = Preprocessing(DATASET_FOLDER = \"Dataset_Tomat/\")"
   ]
  },
  {
   "cell_type": "code",
   "execution_count": null,
   "metadata": {},
   "outputs": [],
   "source": [
    "preprocess1.ImageRead()"
   ]
  },
  {
   "cell_type": "code",
   "execution_count": null,
   "metadata": {},
   "outputs": [],
   "source": [
    "preprocess1.ConvertToGray()"
   ]
  },
  {
   "cell_type": "code",
   "execution_count": null,
   "metadata": {},
   "outputs": [],
   "source": [
    "preprocess1.ConvertToBinary(threshold_value=127, max_value=255, method = cv2.THRESH_BINARY)"
   ]
  },
  {
   "cell_type": "code",
   "execution_count": null,
   "metadata": {},
   "outputs": [],
   "source": [
    "preprocess1.SaveAllBinary(BINARY_FOLDER = \"binary_tomato/\")"
   ]
  },
  {
   "cell_type": "markdown",
   "metadata": {},
   "source": [
    "### 1.3 Display All Binary Image"
   ]
  },
  {
   "cell_type": "code",
   "execution_count": null,
   "metadata": {},
   "outputs": [],
   "source": [
    "rows = 4\n",
    "cols = 5\n",
    "plt.figure(figsize=(20,16))\n",
    "for i in range(len(preprocess1.image_binary)):\n",
    "    img = preprocess1.image_binary[i]\n",
    "    plt.subplot(rows, cols, i + 1)\n",
    "    plt.title(preprocess1.labels[i])\n",
    "    plt.imshow(img, cmap=\"gray\")"
   ]
  },
  {
   "cell_type": "code",
   "execution_count": null,
   "metadata": {},
   "outputs": [],
   "source": []
  },
  {
   "cell_type": "markdown",
   "metadata": {},
   "source": [
    "### Task\n",
    "\n",
    "- Tambahkan Method untuk **DisplayAllBinary()** menggunkan blok program display all binary diatas"
   ]
  },
  {
   "cell_type": "code",
   "execution_count": null,
   "metadata": {},
   "outputs": [],
   "source": []
  },
  {
   "cell_type": "markdown",
   "metadata": {},
   "source": [
    "## 2. Image Masking"
   ]
  },
  {
   "cell_type": "markdown",
   "metadata": {},
   "source": [
    "- Highly useful while extracting any part of the image, defining and working with **non-rectangular ROI** (region of interest). <br>\n",
    "  <img src=\"resource/sample_mask.png\" style=\"width:500px; margin-top:10px\"></img>\n",
    "- Region Mask on image is user **Bitwise Operation** (AND, OR, NOT, and XOR operation).\n",
    "<img src=\"resource/bitwise_operator.jpg\" style=\"width:500px; margin-top:10px\"></img>\n",
    "- Method :\n",
    "    - `cv2.bitwise_and(img1, img2, mask)`\n",
    "- with parameter :\n",
    "    - `img1` : input image 1\n",
    "    - `img2` : input image 2\n",
    "    - `mask` : optional operation mask, **8-bit single channel** array, that specifies **elements of the output array to be changed**. <br>\n",
    "    <img src=\"resource/mask_hand.png\" style=\"width:200px; margin-top:10px\"></img>\n",
    "    "
   ]
  },
  {
   "cell_type": "markdown",
   "metadata": {},
   "source": [
    "- Create **White Circle**\\\n",
    "```cv2.circle(image_src, (x, y), r, (B, G, R), thickness)```\n",
    "    - `image_src` : source image\n",
    "    - `(x,y)` : center coordinate of circle\n",
    "    - `r` : radius of circle\n",
    "    - `(B, G, R)`, color circle\n",
    "    - `thickness` : if equal to -1 ~> fill color, if > 0 ~> thickness of outline circle"
   ]
  },
  {
   "cell_type": "code",
   "execution_count": null,
   "metadata": {},
   "outputs": [],
   "source": [
    "mask = np.zeros((200, 200)).astype(np.uint8)\n",
    "cv2.circle(mask, (100, 100), 30, (255, 255,  255), -1) #create circle\n",
    "\n",
    "plt.imshow(mask, cmap=\"gray\")"
   ]
  },
  {
   "cell_type": "markdown",
   "metadata": {},
   "source": [
    "- **Bitwise And** untuk mask lingkaran putih"
   ]
  },
  {
   "cell_type": "code",
   "execution_count": null,
   "metadata": {},
   "outputs": [],
   "source": [
    "img = cv2.imread(\"Tomat.jpg\")\n",
    "h, w, c = img.shape\n",
    "\n",
    "mask = np.zeros((h, w)).astype(np.uint8)\n",
    "cv2.circle(mask, (w//2, h//2), 200, (255, 255,  255), -1)\n",
    "\n",
    "res = cv2.bitwise_and(img, img, mask=mask)\n",
    "\n",
    "plt.figure(figsize=(20,7))\n",
    "plt.subplot(1, 3, 1)\n",
    "plt.title(\"Original Image\")\n",
    "plt.imshow(img[:,:,::-1])\n",
    "\n",
    "plt.subplot(1, 3, 2)\n",
    "plt.title(\"Masking Image\")\n",
    "plt.imshow(mask, cmap=\"gray\")\n",
    "\n",
    "plt.subplot(1, 3, 3)\n",
    "plt.title(\"Bitwise And Result\")\n",
    "plt.imshow(res[:,:,::-1])"
   ]
  },
  {
   "cell_type": "markdown",
   "metadata": {},
   "source": [
    "- **Bitwise And** untuk mask Thresholding (Background Removal)"
   ]
  },
  {
   "cell_type": "code",
   "execution_count": null,
   "metadata": {},
   "outputs": [],
   "source": [
    "img = cv2.imread(\"Tomat.jpg\")\n",
    "h, w, c = img.shape\n",
    "\n",
    "gray = cv2.cvtColor(img, cv2.COLOR_BGR2GRAY)\n",
    "ret, thresh = cv2.threshold(gray, 230, 255, cv2.THRESH_BINARY_INV)\n",
    "\n",
    "res = cv2.bitwise_and(img, img, mask=thresh)\n",
    "\n",
    "plt.figure(figsize=(20,7))\n",
    "plt.subplot(1, 3, 1)\n",
    "plt.title(\"Original Image\")\n",
    "plt.imshow(img[:,:,::-1])\n",
    "\n",
    "plt.subplot(1, 3, 2)\n",
    "plt.title(\"Masking Image\")\n",
    "plt.imshow(thresh, cmap=\"gray\")\n",
    "\n",
    "plt.subplot(1, 3, 3)\n",
    "plt.title(\"Bitwise And Result\")\n",
    "plt.imshow(res[:,:,::-1])"
   ]
  },
  {
   "cell_type": "code",
   "execution_count": null,
   "metadata": {},
   "outputs": [],
   "source": []
  },
  {
   "cell_type": "markdown",
   "metadata": {},
   "source": [
    "### Task\n",
    "- Tambahkan method RemoveBackground() ke Class Preprocessing dengan method Bitwise_And dengan mask Thresholding\n",
    "- Tambahkan method untuk save all image hasil background remover ke folder"
   ]
  },
  {
   "cell_type": "code",
   "execution_count": null,
   "metadata": {},
   "outputs": [],
   "source": []
  },
  {
   "cell_type": "code",
   "execution_count": null,
   "metadata": {},
   "outputs": [],
   "source": []
  },
  {
   "cell_type": "markdown",
   "metadata": {},
   "source": [
    "## 3. Range Thresholding\n",
    "\n",
    "- Image thresholding using `cv2.threshold()` function. <br>\n",
    "<img src=\"resource/Binary_Thresh.png\" style=\"width: 500px; margin-top:10px;\" > </img>\n",
    "- Now we will learn how to do **range based thresholding** using  `cv2.inRange()` function. <br>\n",
    "<img src=\"resource/Range_Thresh.png\" style=\"width: 500px; margin-top:10px;\" > </img>\n",
    "- The concept remains the same, but now we add a range of pixel values we need.\n",
    "- Method `cv2.inRange(img, lower_color, upper_color)`\n",
    "- where theparameter :\n",
    "    - `img` : input image (HSV color space)\n",
    "    - `lower_color` : tuple (H, S, V) of lower color \n",
    "    - `upper_color` : tuple (H, S, V) of upper color \n",
    "- `H, S, V` value range in OpenCV:\n",
    "    - `H` (0 - 180)\n",
    "    - `S` (0 - 255)\n",
    "    - `V` (0 - 255)\n",
    "- `cv2.inRange()` using **HSV colorspace**, since the **hue channel** models the **color type**, it is very useful in image processing tasks that need to **segment objects based on its color**.<br>\n",
    "<img src=\"resource/Threshold_inRange_HSV_colorspace.jpg\" style=\"width: 300px; margin-top:10px;\" > </img>\n",
    "- Since colors in the **RGB colorspace** are coded using the **three channels**, it is **more difficult** to segment an object in the image based on its color.<br>\n",
    "<img src=\"resource/Threshold_inRange_RGB_colorspace.jpg\" style=\"width: 300px; margin-top:10px;\" > </img>\n",
    "- **HSV colorspace** model : <br>\n",
    "<img src=\"resource/HSV_hue_model.png\" style=\"width: 300px; margin-top:10px;\" > </img>"
   ]
  },
  {
   "cell_type": "markdown",
   "metadata": {},
   "source": [
    "- Conver RGB value to HSV (`cv2.cvtColor()`)"
   ]
  },
  {
   "cell_type": "code",
   "execution_count": null,
   "metadata": {},
   "outputs": [],
   "source": [
    "green = np.uint8([[[255,0,0 ]]])\n",
    "hsv_green = cv2.cvtColor(green, cv2.COLOR_BGR2HSV)\n",
    "print( hsv_green )"
   ]
  },
  {
   "cell_type": "markdown",
   "metadata": {},
   "source": [
    "- Define **Color Range** (lower & upper)"
   ]
  },
  {
   "cell_type": "code",
   "execution_count": null,
   "metadata": {},
   "outputs": [],
   "source": [
    "# define range of blue color in HSV\n",
    "lower_blue = np.array([110, 50, 50])\n",
    "upper_blue = np.array([130, 255, 255])\n",
    "\n",
    "# define range of red color in HSV\n",
    "lower_red = np.array([-10, 50, 50])\n",
    "upper_red = np.array([10, 255, 255])\n",
    "\n",
    "# define range of green color in HSV\n",
    "lower_green = np.array([35, 50, 50])\n",
    "upper_green = np.array([70, 255, 255])"
   ]
  },
  {
   "cell_type": "markdown",
   "metadata": {},
   "source": [
    "- Segmenting Image with specific color"
   ]
  },
  {
   "cell_type": "code",
   "execution_count": null,
   "metadata": {},
   "outputs": [],
   "source": [
    "img = cv2.imread('Tomat.jpg')\n",
    "\n",
    "#convert to hsv\n",
    "hsv = cv2.cvtColor(img, cv2.COLOR_BGR2HSV)\n",
    "\n",
    "# Threshold the HSV image to get only red colors\n",
    "mask = cv2.inRange(hsv.copy(), lower_red, upper_red)\n",
    "\n",
    "res = cv2.bitwise_and(img, img, mask= mask)\n",
    "\n",
    "plt.figure(figsize=(20,7))\n",
    "plt.subplot(1, 3, 1)\n",
    "plt.title(\"Original Image\")\n",
    "plt.imshow(img[:,:,::-1])\n",
    "\n",
    "plt.subplot(1, 3, 2)\n",
    "plt.title(\"Masking Image\")\n",
    "plt.imshow(mask, cmap=\"gray\")\n",
    "\n",
    "plt.subplot(1, 3, 3)\n",
    "plt.title(\"Segmented Image\")\n",
    "plt.imshow(res[:,:,::-1])"
   ]
  },
  {
   "cell_type": "markdown",
   "metadata": {},
   "source": [
    "## Task\n",
    "- Buat program agar bisa mendeteksi warna merah dan hijau sekaligus\n",
    "    - cari mask_red, \\\n",
    "    `mask_red = cv2.inRange(hsv.copy(), lower_red, upper_red)`\n",
    "    - cari mask_green, \\\n",
    "    `mask_green = cv2.inRange(hsv.copy(), lower_green, upper_green)`\n",
    "    - jumlahkan kedua mask,\\\n",
    "    `mask = mask_red + mask_green`\n",
    "    - masukan hasil mask tersebut ke `bitwise_and`"
   ]
  },
  {
   "cell_type": "markdown",
   "metadata": {},
   "source": [
    "### Task \n",
    "- Tambahkan Method **SegemntaionColor()** pad class Preprocessing agar bisa crop buah tomat pada warna merah dan hijau"
   ]
  },
  {
   "cell_type": "code",
   "execution_count": null,
   "metadata": {},
   "outputs": [],
   "source": []
  }
 ],
 "metadata": {
  "kernelspec": {
   "display_name": "Python [conda env:opencv_env]",
   "language": "python",
   "name": "conda-env-opencv_env-py"
  },
  "language_info": {
   "codemirror_mode": {
    "name": "ipython",
    "version": 3
   },
   "file_extension": ".py",
   "mimetype": "text/x-python",
   "name": "python",
   "nbconvert_exporter": "python",
   "pygments_lexer": "ipython3",
   "version": "3.8.6"
  }
 },
 "nbformat": 4,
 "nbformat_minor": 4
}
