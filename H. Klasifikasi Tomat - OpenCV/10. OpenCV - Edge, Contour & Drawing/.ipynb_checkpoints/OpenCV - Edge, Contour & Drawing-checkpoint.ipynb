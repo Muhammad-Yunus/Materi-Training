{
 "cells": [
  {
   "cell_type": "markdown",
   "metadata": {},
   "source": [
    "## Pertemuan 10\n",
    "\n",
    "- Edge Detection\n",
    "- Contour Detection"
   ]
  },
  {
   "cell_type": "code",
   "execution_count": null,
   "metadata": {},
   "outputs": [],
   "source": [
    "import os\n",
    "import cv2\n",
    "import numpy as np\n",
    "import matplotlib.pyplot as plt"
   ]
  },
  {
   "cell_type": "markdown",
   "metadata": {},
   "source": [
    "___\n",
    "## 1. Edge Detection (Canny Edge Detection)"
   ]
  },
  {
   "cell_type": "markdown",
   "metadata": {},
   "source": [
    "- Canny Edge detection merupakan algoritma edge detection paling populer. \n",
    "- Dapat digunakan untuk menjari batas-batas objek pada gambar.\n",
    "- menggunakan method `cv2.canny(img, threshMin, threshMax)`\n",
    "- Canny Edge detection diilustrasikan sebagai berikut,\n",
    "\n",
    "![](resource/canny.png)"
   ]
  },
  {
   "cell_type": "markdown",
   "metadata": {},
   "source": [
    "- Mendapatkan **Edge image** dari gambar RGB (cara 1)\n",
    "    - Load Image\n",
    "    - Convert to Gray\n",
    "    - Apply Binary Thresholding\n",
    "    - Find Edge Image\n",
    "    - Show Image"
   ]
  },
  {
   "cell_type": "code",
   "execution_count": null,
   "metadata": {},
   "outputs": [],
   "source": [
    "# load image\n",
    "img = cv2.imread('Tomat.jpg')\n",
    "\n",
    "# convert to gray\n",
    "gray = cv2.cvtColor(img, cv2.COLOR_BGR2GRAY)\n",
    "\n",
    "# apply binary tresholding\n",
    "ret, thresh = cv2.threshold(gray, 230, 255, cv2.THRESH_BINARY_INV)\n",
    "\n",
    "#cv2.canny(<image>, threshold_min, threshold_max)\n",
    "edged = cv2.Canny(thresh, 200, 210)\n",
    "\n",
    "#show image \n",
    "plt.figure(figsize=(15,10))\n",
    "plt.subplot(2, 2, 1)\n",
    "plt.title(\"Original Image\")\n",
    "plt.imshow(img[:,:,::-1]) # 3 channel image\n",
    "\n",
    "plt.subplot(2, 2, 2)\n",
    "plt.title(\"Gray Image\")\n",
    "plt.imshow(gray, cmap=\"gray\") # 3 channel image\n",
    "\n",
    "plt.subplot(2, 2, 3)\n",
    "plt.title(\"Binary Image\")\n",
    "plt.imshow(thresh, cmap=\"gray\") # 1 channel image\n",
    "\n",
    "plt.subplot(2, 2, 4)\n",
    "plt.title(\"Edge Image\")\n",
    "plt.imshow(edged, cmap=\"gray\") # 1 channel image\n"
   ]
  },
  {
   "cell_type": "markdown",
   "metadata": {},
   "source": [
    "- Mendapatkan **Edge Image** dari Image RGB (cara 2)\n",
    "    - Load Image\n",
    "    - Convert to HSV\n",
    "    - Apply Range Thresholding\n",
    "    - Find Edge Image\n",
    "    - Show Image"
   ]
  },
  {
   "cell_type": "code",
   "execution_count": null,
   "metadata": {},
   "outputs": [],
   "source": [
    "# define range of red color in HSV\n",
    "lower_red = np.array([-10, 50, 50])\n",
    "upper_red = np.array([10, 255, 255])\n",
    "\n",
    "# define range of green color in HSV\n",
    "lower_green = np.array([35, 50, 50])\n",
    "upper_green = np.array([70, 255, 255])"
   ]
  },
  {
   "cell_type": "code",
   "execution_count": null,
   "metadata": {},
   "outputs": [],
   "source": [
    "# load image\n",
    "img = cv2.imread('Tomat.jpg')\n",
    "\n",
    "#convert to hsv\n",
    "hsv = cv2.cvtColor(img, cv2.COLOR_BGR2HSV)\n",
    "\n",
    "# Threshold the HSV image to get only red & green colors\n",
    "mask_green = cv2.inRange(hsv.copy(), lower_green, upper_green)\n",
    "mask_red = cv2.inRange(hsv.copy(), lower_red, upper_red)\n",
    "mask = mask_green + mask_red\n",
    "res = cv2.bitwise_and(img, img, mask= mask)\n",
    "\n",
    "#cv2.canny(<image>, threshold_min, threshold_max)\n",
    "edged = cv2.Canny(res, 200, 210)\n",
    "\n",
    "#show image \n",
    "plt.figure(figsize=(15,10))\n",
    "plt.subplot(2, 2, 1)\n",
    "plt.title(\"Original Image\")\n",
    "plt.imshow(img[:,:,::-1]) # 3 channel image\n",
    "\n",
    "plt.subplot(2, 2, 2)\n",
    "plt.title(\"Mask Image\")\n",
    "plt.imshow(mask, cmap=\"gray\") # 1 channel image\n",
    "\n",
    "plt.subplot(2, 2, 3)\n",
    "plt.title(\"Segmented Image\")\n",
    "plt.imshow(res[:,:,::-1]) # 3 channel image\n",
    "\n",
    "plt.subplot(2, 2, 4)\n",
    "plt.title(\"Edge Image\")\n",
    "plt.imshow(edged, cmap=\"gray\") # 1 channel image\n"
   ]
  },
  {
   "cell_type": "markdown",
   "metadata": {},
   "source": [
    "## Task\n",
    "- Lengkapi Class Preprocessing agar dapat menerapkan Range Thresholding dan melakukan Edge Detection \n",
    "    - Menggunakan Range Tresholding"
   ]
  },
  {
   "cell_type": "code",
   "execution_count": null,
   "metadata": {},
   "outputs": [],
   "source": [
    "class Preprocessing : \n",
    "    def __init__(self, DATASET_FOLDER = \"Dataset_Tomat/\"):\n",
    "        self.labels = []\n",
    "        self.image_list = []\n",
    "        self.image_range = []\n",
    "        self.image_edged = []\n",
    "        self.DATASET_FOLDER = DATASET_FOLDER\n",
    "        \n",
    "        # define range of red color in HSV\n",
    "        self.lower_red = np.array([-10, 50, 50])\n",
    "        self.upper_red = np.array([10, 255, 255])\n",
    "\n",
    "        # define range of green color in HSV\n",
    "        self.lower_green = np.array([35, 50, 50])\n",
    "        self.upper_green = np.array([70, 255, 255])\n",
    "        \n",
    "    def ImageRead(self):\n",
    "        for folder in os.listdir(self.DATASET_FOLDER):\n",
    "            for file in os.listdir(self.DATASET_FOLDER + folder):\n",
    "                img = cv2.imread(self.DATASET_FOLDER + folder + \"/\" + file)\n",
    "                self.image_list.append(img)\n",
    "                self.labels.append(folder) # append label (name) of image\n",
    "                            \n",
    "    def RangeTresholding(self):\n",
    "        # loop  for all self.image_list           \n",
    "            # convert to hsv\n",
    "            # .......................\n",
    "\n",
    "            # apply range tresholding\n",
    "            # .......................\n",
    "            # .......................\n",
    "            # .......................\n",
    "            # append to self.image_range\n",
    "            \n",
    "    def EdgeDetection(self):\n",
    "        # loop  for all self.image_range\n",
    "            # apply edge detection\n",
    "            # .......................\n",
    "            # .......................\n",
    "            # append to self.imaged_edged\n",
    "            \n",
    "    def SaveAllEdged(self, EDGED_FOLDER = \"edged_tomato/\"):\n",
    "        if not os.path.exists(EDGED_FOLDER) :\n",
    "            os.mkdir(EDGED_FOLDER)\n",
    "            \n",
    "        for i in range(len(self.image_edged)):\n",
    "\n",
    "            # get image\n",
    "            img = self.image_edged[i]\n",
    "\n",
    "            # check if folder exist. if not, create that folder    \n",
    "            folder_path = EDGED_FOLDER + self.labels[i] + \"/\"\n",
    "            if not os.path.exists(folder_path) :\n",
    "                os.mkdir(folder_path)\n",
    "\n",
    "            # save image\n",
    "            file_name = self.labels[i] + \"_%03d.jpg\" % i\n",
    "            file_path = EDGED_FOLDER + self.labels[i] + \"/\" + file_name\n",
    "\n",
    "            cv2.imwrite(file_path, img)"
   ]
  },
  {
   "cell_type": "code",
   "execution_count": null,
   "metadata": {},
   "outputs": [],
   "source": [
    "preprocess1 = Preprocessing(DATASET_FOLDER = \"Dataset_Tomat/\")\n",
    "\n",
    "preprocess1.ImageRead()\n"
   ]
  },
  {
   "cell_type": "code",
   "execution_count": null,
   "metadata": {},
   "outputs": [],
   "source": [
    "preprocess1.RangeTresholding()\n",
    "preprocess1.EdgeDetection()"
   ]
  },
  {
   "cell_type": "code",
   "execution_count": null,
   "metadata": {},
   "outputs": [],
   "source": [
    "preprocess1.SaveAllEdged()"
   ]
  },
  {
   "cell_type": "code",
   "execution_count": null,
   "metadata": {},
   "outputs": [],
   "source": []
  },
  {
   "cell_type": "code",
   "execution_count": null,
   "metadata": {},
   "outputs": [],
   "source": []
  },
  {
   "cell_type": "code",
   "execution_count": null,
   "metadata": {},
   "outputs": [],
   "source": []
  },
  {
   "cell_type": "markdown",
   "metadata": {},
   "source": [
    "## 2. Contour Detection & Contour Drawing \n",
    "\n",
    "- Menggunakan method `cv2.findContour(img, mode, method)`\n",
    "- dimana :\n",
    "    - `img` : input image\n",
    "    - `mode` :\n",
    "        - `cv2.CHAIN_APPROX_NONE` : all the boundary points are stored\n",
    "        - `cv2.CHAIN_APPROX_SIMPLE` : only end points / corner of that shape are stored <br>\n",
    "        <img src=\"resource/mode_find_contour.png\" style=\"width:300px; margin-top:10px\"></img>\n",
    "        - `with cv2.CHAIN_APPROX_NONE` (734 points) \n",
    "        - second image shows the one with `cv2.CHAIN_APPROX_SIMPLE` (only 4 points)\n",
    "    - `method` : \n",
    "        - `cv2.RETR_EXTERNAL`  : retrieves only the **extreme outer contours**.  It sets all contours to `hierarchy[i][2] = hierarchy[i][3] = -1`.\n",
    "        - `cv2.RETR_LIST`   : retrieves **all of the contours** without establishing any hierarchical relationships. \n",
    "        - `cv2.RETR_CCOMP`  : retrieves **all of the contours** and organizes them into a **two-level hierarchy**.  \n",
    "        - `cv2.RETR_TREE`   : retrieves **all of the contours** and reconstructs a **full hierarchy** of nested contours. \n",
    "        \n",
    "- Output : \n",
    "    - `contours` : list of countour location (x,y) : <br>\n",
    "    <img src=\"resource/hierarchy_moves.gif\" style=\"width:400px; margin-top:10px\"></img>\n",
    "    \n",
    "    - `hierarchy` : list of `[Next, Previous, First_Child, Parent]`, <br> Representation of this relationship when some shapes are inside other shapes, we call outer one as **parent** and inner one as **child**. \n",
    "        - `Next` : next contour at the same hierarchical level.\n",
    "        - `Previous` : previous contour at the same hierarchical level.\n",
    "        - `First_Child` : first child contour.\n",
    "        - `Parent` : index of its parent contour. <br>\n",
    "        > *If there is no **child** or **parent**, that field is taken as -1*"
   ]
  },
  {
   "cell_type": "markdown",
   "metadata": {},
   "source": [
    "### 2.1 Find Contour from Binary Thresholding Image `cv2.RETR_EXTERNAL`\n",
    "- retrieves only the extreme outer contours. It sets all contours to hierarchy[i][2] = hierarchy[i][3] = -1."
   ]
  },
  {
   "cell_type": "code",
   "execution_count": null,
   "metadata": {},
   "outputs": [],
   "source": [
    "img = cv2.imread('hierarchy.png')\n",
    "\n",
    "# convert to gray\n",
    "gray = cv2.cvtColor(img, cv2.COLOR_BGR2GRAY)\n",
    "\n",
    "# convert to binary image\n",
    "ret, thresh = cv2.threshold(gray, 127, 255, cv2.THRESH_BINARY)\n",
    "\n",
    "# find contour\n",
    "contours, hierarchy = cv2.findContours(thresh, cv2.RETR_EXTERNAL, cv2.CHAIN_APPROX_NONE)"
   ]
  },
  {
   "cell_type": "code",
   "execution_count": null,
   "metadata": {},
   "outputs": [],
   "source": [
    "contours"
   ]
  },
  {
   "cell_type": "markdown",
   "metadata": {},
   "source": [
    " - **Draw Contour `cv2.drawContour()`**\n",
    "\n",
    "- menggunakan method `cv2.drawContours(img, contour, contour_index, (B,G,R), thickness)`\n",
    "- dimana :\n",
    "    - `img` : input image\n",
    "    - `contour` : contour location (list)\n",
    "    - `contour_index` : parameter indicating a contour to draw. If it is negative, all the contours are drawn.\n",
    "    - `(B,G,R)` : contour color\n",
    "    - `thickness` : contour thickness"
   ]
  },
  {
   "cell_type": "code",
   "execution_count": null,
   "metadata": {},
   "outputs": [],
   "source": [
    "Draw contour to image\n",
    "for cnt in contours:\n",
    "    cv2.drawContours(img, cnt, -1, (255,0,0), 3)"
   ]
  },
  {
   "cell_type": "code",
   "execution_count": null,
   "metadata": {},
   "outputs": [],
   "source": [
    "plt.figure(figsize=(10,10))\n",
    "plt.imshow(img[:,:,::-1])"
   ]
  },
  {
   "cell_type": "markdown",
   "metadata": {},
   "source": [
    "- Find Contour & Draw Contour for `Tomat.jpg`"
   ]
  },
  {
   "cell_type": "code",
   "execution_count": null,
   "metadata": {},
   "outputs": [],
   "source": [
    "img = cv2.imread('Tomat.jpg')\n",
    "\n",
    "# convert to gray\n",
    "gray = cv2.cvtColor(img, cv2.COLOR_BGR2GRAY)\n",
    "\n",
    "\n",
    "# convert to binary image\n",
    "ret, thresh = cv2.threshold(gray, 230, 255, cv2.THRESH_BINARY_INV)\n",
    "\n",
    "# find contour\n",
    "contours, hierarchy = cv2.findContours(thresh, cv2.RETR_EXTERNAL, cv2.CHAIN_APPROX_NONE)\n",
    "\n",
    "# draw contour to original image\n",
    "for cnt in contours:\n",
    "    cv2.drawContours(img, cnt, -1, (255,0,0), 2)\n",
    "    \n",
    "plt.figure(figsize=(7,7))\n",
    "plt.imshow(img[:,:,::-1])"
   ]
  },
  {
   "cell_type": "code",
   "execution_count": null,
   "metadata": {},
   "outputs": [],
   "source": []
  },
  {
   "cell_type": "markdown",
   "metadata": {},
   "source": [
    "### 2.2 Find Contour from Range Tresholding Image & Edge Image"
   ]
  },
  {
   "cell_type": "code",
   "execution_count": null,
   "metadata": {},
   "outputs": [],
   "source": [
    "# load image\n",
    "img = cv2.imread('Tomat.jpg')\n",
    "\n",
    "#convert to hsv\n",
    "hsv = cv2.cvtColor(img, cv2.COLOR_BGR2HSV)\n",
    "\n",
    "# Threshold the HSV image to get only red & green colors\n",
    "mask_green = cv2.inRange(hsv.copy(), lower_green, upper_green)\n",
    "mask_red = cv2.inRange(hsv.copy(), lower_red, upper_red)\n",
    "mask = mask_green + mask_red\n",
    "res = cv2.bitwise_and(img, img, mask= mask)\n",
    "\n",
    "\n",
    "# apply edge detection\n",
    "edged = cv2.Canny(res, 200, 210)\n",
    "\n",
    "# find contour\n",
    "contours, hierarchy = cv2.findContours(edged, cv2.RETR_EXTERNAL, cv2.CHAIN_APPROX_NONE)\n",
    "\n",
    "# draw contour to original image\n",
    "for cnt in contours:\n",
    "    cv2.drawContours(img, cnt, -1, (255,0,0), 2)\n",
    "    \n",
    "plt.figure(figsize=(7,7))\n",
    "plt.imshow(img[:,:,::-1])"
   ]
  },
  {
   "cell_type": "markdown",
   "metadata": {},
   "source": [
    "### Task\n",
    "- Modifikasi class Preprocessing diatas, tambahkan method **FindContours()** yang akan mencari contour image dan draw contour dari list **self.image_edged** (image hasil range tresholding + edge detection)\n",
    "- Tambahkan method **SaveAllContourImage()** untuk save image yang dusah di draw contour"
   ]
  },
  {
   "cell_type": "markdown",
   "metadata": {},
   "source": [
    "____\n",
    "## 2.3 Contour Feature \n",
    "- Contour Area (luasan) <br>\n",
    "    `area = cv2.contourArea(cnt)`\n",
    "- Bounding Rectangle <br>\n",
    "    <img src=\"resource/boundingrect.png\" style=\"width:200px; margin-top:10px;\"></img>\n",
    "    - Straight Bounding Rectangle <br>\n",
    "        `rect = cv2.boundingRect(cc)`\n",
    "    - Rotated Rectangle <br>\n",
    "        `rect = cv2.minAreaRect(cnt)`"
   ]
  },
  {
   "cell_type": "markdown",
   "metadata": {},
   "source": [
    "- Contour Area (luasan)"
   ]
  },
  {
   "cell_type": "code",
   "execution_count": null,
   "metadata": {},
   "outputs": [],
   "source": [
    "# load image\n",
    "img = cv2.imread('Tomat.jpg')\n",
    "\n",
    "#convert to hsv\n",
    "hsv = cv2.cvtColor(img, cv2.COLOR_BGR2HSV)\n",
    "\n",
    "# Threshold the HSV image to get only red & green colors\n",
    "mask_green = cv2.inRange(hsv.copy(), lower_green, upper_green)\n",
    "mask_red = cv2.inRange(hsv.copy(), lower_red, upper_red)\n",
    "mask = mask_green + mask_red\n",
    "res = cv2.bitwise_and(img, img, mask= mask)\n",
    "\n",
    "\n",
    "# apply edge detection\n",
    "edged = cv2.Canny(res, 200, 210)\n",
    "\n",
    "# find contour\n",
    "contours, hierarchy = cv2.findContours(edged, cv2.RETR_EXTERNAL, cv2.CHAIN_APPROX_NONE)"
   ]
  },
  {
   "cell_type": "code",
   "execution_count": null,
   "metadata": {},
   "outputs": [],
   "source": [
    "for cnt in contours:\n",
    "    area = cv2.contourArea(cnt)\n",
    "    print(\"luas : %d pixel\" % area)"
   ]
  },
  {
   "cell_type": "markdown",
   "metadata": {},
   "source": [
    "- Straight Bounding Rectangle"
   ]
  },
  {
   "cell_type": "code",
   "execution_count": null,
   "metadata": {},
   "outputs": [],
   "source": []
  },
  {
   "cell_type": "code",
   "execution_count": null,
   "metadata": {},
   "outputs": [],
   "source": [
    "# load image\n",
    "img = cv2.imread('Tomat.jpg')\n",
    "\n",
    "#convert to hsv\n",
    "hsv = cv2.cvtColor(img, cv2.COLOR_BGR2HSV)\n",
    "\n",
    "# Threshold the HSV image to get only red & green colors\n",
    "mask_green = cv2.inRange(hsv.copy(), lower_green, upper_green)\n",
    "mask_red = cv2.inRange(hsv.copy(), lower_red, upper_red)\n",
    "mask = mask_green + mask_red\n",
    "res = cv2.bitwise_and(img, img, mask= mask)\n",
    "\n",
    "\n",
    "# apply edge detection\n",
    "edged = cv2.Canny(res, 200, 210)\n",
    "\n",
    "# find contour\n",
    "contours, hierarchy = cv2.findContours(edged, cv2.RETR_EXTERNAL, cv2.CHAIN_APPROX_NONE)\n",
    "\n",
    "# find bounding rect\n",
    "for cnt in contours:\n",
    "    rect = cv2.boundingRect(cnt)\n",
    "    print(rect) # x, y, w, h"
   ]
  },
  {
   "cell_type": "markdown",
   "metadata": {},
   "source": [
    "- Draw bounding box for each contour using `cv2.rectangle()` \\\n",
    "`cv2.rectangle(image_src, (x0,y0), (xt,yt), (B,G,R), thickness)`"
   ]
  },
  {
   "cell_type": "code",
   "execution_count": null,
   "metadata": {},
   "outputs": [],
   "source": []
  },
  {
   "cell_type": "code",
   "execution_count": null,
   "metadata": {},
   "outputs": [],
   "source": [
    "for cnt in contours:\n",
    "    rect = cv2.boundingRect(cnt)\n",
    "    x, y, w, h = rect\n",
    "    cv2.rectangle(img, (x, y), (x+w, y+h), (0,0,255), 3)\n",
    "    \n",
    "plt.figure(figsize=(7,7))\n",
    "plt.imshow(img[:,:,::-1])"
   ]
  },
  {
   "cell_type": "markdown",
   "metadata": {},
   "source": [
    "### 2.4 Filter **small** contour area"
   ]
  },
  {
   "cell_type": "code",
   "execution_count": null,
   "metadata": {},
   "outputs": [],
   "source": [
    "# funtion for small contour filtering\n",
    "def filter_contour(contours):\n",
    "    filtered_contours = []\n",
    "    for cnt in contours:\n",
    "        area = cv2.contourArea(cnt)\n",
    "        x, y, w, h = cv2.boundingRect(cnt)\n",
    "        if not (area < 100 or w < 50 or h < 50) :\n",
    "            filtered_contours.append(cnt)\n",
    "    return filtered_contours"
   ]
  },
  {
   "cell_type": "code",
   "execution_count": null,
   "metadata": {},
   "outputs": [],
   "source": [
    "# load image\n",
    "img = cv2.imread('Tomat.jpg')\n",
    "\n",
    "#convert to hsv\n",
    "hsv = cv2.cvtColor(img, cv2.COLOR_BGR2HSV)\n",
    "\n",
    "# Threshold the HSV image to get only red & green colors\n",
    "mask_green = cv2.inRange(hsv.copy(), lower_green, upper_green)\n",
    "mask_red = cv2.inRange(hsv.copy(), lower_red, upper_red)\n",
    "mask = mask_green + mask_red\n",
    "res = cv2.bitwise_and(img, img, mask= mask)\n",
    "\n",
    "\n",
    "# apply edge detection\n",
    "edged = cv2.Canny(res, 200, 210)\n",
    "\n",
    "# find contour\n",
    "contours, hierarchy = cv2.findContours(edged, cv2.RETR_EXTERNAL, cv2.CHAIN_APPROX_NONE)\n",
    "\n",
    "# filter contour\n",
    "contours = filter_contour(contours)\n",
    "\n",
    "# find bounding rect\n",
    "for cnt in contours:\n",
    "    rect = cv2.boundingRect(cnt)\n",
    "    print(rect) # x, y, w, h\n",
    "    cv2.rectangle(img, (x, y), (x+w, y+h), (0,0,255), 3)\n",
    "    \n",
    "plt.figure(figsize=(7,7))\n",
    "plt.imshow(img[:,:,::-1])"
   ]
  },
  {
   "cell_type": "markdown",
   "metadata": {},
   "source": [
    "### 2.5 Crop each contour from input image, and display"
   ]
  },
  {
   "cell_type": "code",
   "execution_count": null,
   "metadata": {},
   "outputs": [],
   "source": [
    "# load image\n",
    "img = cv2.imread('Tomat.jpg')\n",
    "\n",
    "#convert to hsv\n",
    "hsv = cv2.cvtColor(img, cv2.COLOR_BGR2HSV)\n",
    "\n",
    "# Threshold the HSV image to get only red & green colors\n",
    "mask_green = cv2.inRange(hsv.copy(), lower_green, upper_green)\n",
    "mask_red = cv2.inRange(hsv.copy(), lower_red, upper_red)\n",
    "mask = mask_green + mask_red\n",
    "res = cv2.bitwise_and(img, img, mask= mask)\n",
    "\n",
    "\n",
    "# apply edge detection\n",
    "edged = cv2.Canny(res, 200, 210)\n",
    "\n",
    "# find contour\n",
    "contours, hierarchy = cv2.findContours(edged, cv2.RETR_EXTERNAL, cv2.CHAIN_APPROX_NONE)\n",
    "\n",
    "# filter contour\n",
    "contours = filter_contour(contours)\n",
    "\n",
    "# find bounding rect\n",
    "for cnt in contours:\n",
    "    rect = cv2.boundingRect(cnt)\n",
    "    print(rect) # x, y, w, h\n",
    "    roi = img[y:y+h, x:x+w]\n",
    "    \n",
    "    \n",
    "plt.figure(figsize=(7,7))\n",
    "plt.imshow(roi[:,:,::-1])"
   ]
  },
  {
   "cell_type": "code",
   "execution_count": null,
   "metadata": {},
   "outputs": [],
   "source": []
  },
  {
   "cell_type": "markdown",
   "metadata": {},
   "source": [
    "### Home Work\n",
    "- Tambahkan method **CropByContours()** kedalam class Preprocessing seperti yang diimplementasikan diatas\n",
    "- Tambahkan method **filter_contour()** kedalam class Preprocessing seperti yang diimplementasikan diatas\n",
    "- Save Hasil croping by contour ke folder **Crop_Image/**"
   ]
  },
  {
   "cell_type": "code",
   "execution_count": null,
   "metadata": {},
   "outputs": [],
   "source": []
  }
 ],
 "metadata": {
  "kernelspec": {
   "display_name": "Python [conda env:opencv_env]",
   "language": "python",
   "name": "conda-env-opencv_env-py"
  },
  "language_info": {
   "codemirror_mode": {
    "name": "ipython",
    "version": 3
   },
   "file_extension": ".py",
   "mimetype": "text/x-python",
   "name": "python",
   "nbconvert_exporter": "python",
   "pygments_lexer": "ipython3",
   "version": "3.8.6"
  }
 },
 "nbformat": 4,
 "nbformat_minor": 4
}
