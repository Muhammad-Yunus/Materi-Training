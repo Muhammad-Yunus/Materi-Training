{
 "cells": [
  {
   "cell_type": "markdown",
   "metadata": {},
   "source": [
    "# Pertemuan 12\n",
    "\n",
    "- Intro to Machine Learning\n",
    "- Intro to OpenCV ML\n",
    "- Intro to Neural Network\n",
    "- Intro to Single Layer Perceptron\n",
    "- Single Layer Perceptron Implementation for AND Logic Gate Problem\n",
    "- Machine Learning Evaluation"
   ]
  },
  {
   "cell_type": "code",
   "execution_count": 2,
   "metadata": {},
   "outputs": [],
   "source": [
    "import os\n",
    "import cv2\n",
    "import numpy as np\n",
    "import matplotlib.pyplot as plt"
   ]
  },
  {
   "cell_type": "markdown",
   "metadata": {},
   "source": [
    "___\n",
    "##  1. Intro Machine Learning\n",
    "- The study of computer algorithms that improve automatically through experience.[1][2]\n",
    "- It is seen as a subset of **artificial intelligence**. \n",
    "- Machine learning algorithms build a **mathematical model** based on **sample data**, known as \"training data\".\n",
    "- Machine learning is closely related to **computational statistics**, which focuses on making predictions using computers. \n",
    "\n",
    "> *Machine learning provides systems the ability to **automatically learn** and **improve from experience** without being **explicitly programmed**.*\n",
    "\n",
    "![](resource/machine_learning.png)"
   ]
  },
  {
   "cell_type": "markdown",
   "metadata": {},
   "source": [
    "### 1.1 Dataset\n",
    "- In the case of tabular data, a data set corresponds to one or more database **tables**, where every **column** of a table represents a particular **variable/fature**, and each row corresponds to a **instance** data. <br>\n",
    "- Tabular dataset : <br>\n",
    "<img src=\"resource/text_dataset.png\" style=\"width:400px\"></img><br>\n",
    "- Image Dataset :<br>\n",
    "<img src=\"resource/image_dataset.png\" style=\"width:500px\"></img><br><br><br>\n",
    "- Dataset Proportion :<br>\n",
    "<img src=\"resource/dataset_proportion.jpeg\" style=\"width:500px\"></img>\n",
    "    - **Training set** : is used in training phase,\n",
    "    - **Validation set** : is used for validationg model during training, for example Cross Validation.\n",
    "    - **Test set** : is used in testing phase (after training model finish).\n",
    "- Common portion :\n",
    "    - Trainig set : 50%\n",
    "    - Validation set : 25%\n",
    "    - Test set : 25%\n"
   ]
  },
  {
   "cell_type": "markdown",
   "metadata": {},
   "source": [
    "### 1.2 Machine Learning Algorithm\n",
    "<img src=\"resource/ml_algorithm.png\" style=\"width:500px\"></img>"
   ]
  },
  {
   "cell_type": "markdown",
   "metadata": {},
   "source": [
    "### 1.3 Supervised Machine Learning\n",
    "- **Classification**: Relates to **categorical data output**, such as whether it is red or not, whether the weather is sunny or cloudy, healthy or sick.\n",
    "- **Regression**: Relates to **continuous data output**, such as length, weight, velocity<br>\n",
    "<img src=\"resource/supervised_learning.png\" style=\"width:500px\"></img>\n",
    "- Algorithm :\n",
    "    - Support Vector Machine (SVM)\n",
    "    - Linear Regression\n",
    "    - Logistic Regression\n",
    "    - Naive Bayes\n",
    "    - Linear Discriminant Analysis (LDA)\n",
    "    - Decision Tree\n",
    "    - K-nearest Neighbor\n",
    "    - Neural Network (Multilayer Perceptron)\n",
    "    - Similarity Learning\n",
    "    - Etc.\n"
   ]
  },
  {
   "cell_type": "markdown",
   "metadata": {},
   "source": [
    "___\n",
    "## 2. OpenCV ML\n",
    "- Main Doc : https://docs.opencv.org/master/dc/dd6/ml_intro.html\n",
    "- List of Machine Learning Algorithm on OpenCV ML :\n",
    "    - Normal Bayes Classifier\n",
    "    - K-Nearest Neighbors (KNN)\n",
    "    - Support Vector Machines (SVM)\n",
    "    - Decision Trees\n",
    "    - Variable Importance\n",
    "    - Boosting\n",
    "    - Random Trees\n",
    "    - Expectation Maximization\n",
    "    - Neural Networks\n",
    "    - Logistic Regression"
   ]
  },
  {
   "cell_type": "markdown",
   "metadata": {},
   "source": [
    "___\n",
    "\n",
    "## 3. Neural Network\n",
    "- Artificial Neural Network (ANN) **Menjadikan komputer memiliki kemampuan cognitif seperti otak manusia, memiliki kemampuan problem solving dan dapat melakukan proses pembelajaran**.\n",
    "<br>\n",
    "<img src=\"resource/nn.png\"></img>"
   ]
  },
  {
   "cell_type": "markdown",
   "metadata": {},
   "source": [
    "### 3.1 Kelebihan :\n",
    "\n",
    "- Fleksibel, dapat mengatasi permsalahan regresi & klasifikasi,<br>\n",
    "<img src=\"resource/supervised_learning.png\" style=\"width:400px\"></img>\n",
    "- Dataset apapun yang dapat direpresentasikan secara numerik dapat digunakan,<br>\n",
    "<img src=\"resource/img_matrix.png\" style=\"width:400px\"></img>\n",
    "- Dapat digunakan untuk mengatasi permasalahan non-linear  dengan input dimesi besar,<br>\n",
    "<img src=\"resource/non-linear.png\" style=\"width:400px\"></img>\n",
    "- Bekerja dengan baik untuk sample yang banyak,"
   ]
  },
  {
   "cell_type": "markdown",
   "metadata": {},
   "source": [
    "### 3.2 Cara Kerja Neural Network\n",
    "- Simple Neural Network Representation<br>\n",
    "<img src=\"resource/simple.png\" style=\"width:500px\"></img>\n",
    "- Multiple feature Representation in Neural Network<br>\n",
    "<img src=\"resource/rep1.png\" style=\"width:500px\"></img>\n",
    "- Bentuk Matematis Simple Neural Network<br>\n",
    "<img src=\"resource/math_form.png\" style=\"width:500px\"></img>\n",
    "- Input pada Neural Network terdiri dari vector data dengan bentuk {${x_1, x_2, x_3, ...}$}\n",
    "- **Tiap input** ($x_i$) akan dilakukan perkalian dengan **bobot/weight** ($w_i$) lalu dijumlahkan hasilnya, setelah itu ditambah **bias** ($b$),<br>\n",
    "<img src=\"resource/func.png\" style=\"width:200px\"></img>  \n",
    "- Bias seperti intercept dalam persamaan linear, ditambahkan untuk mengatur agar hasil perhitungan lebih akurat **(y = mx + c)**<br>\n",
    "<img src=\"resource/func2.png\" style=\"width:500px\"></img>  \n",
    "- hasil perhitungan tersebut akan di terapkan pada **Activation Function**\n",
    "- Activation Function mengontrol apakah sebuah neuron tersebut harus **aktif atau tidak**<br>\n",
    "<img src=\"resource/func3.png\" style=\"width:500px\"></img>\n"
   ]
  },
  {
   "cell_type": "markdown",
   "metadata": {},
   "source": [
    "### 3.3 Jenis-Jenis Activatin Funtion<br>\n",
    "<img src=\"resource/activation.png\" style=\"width:600px\"></img>\n"
   ]
  },
  {
   "cell_type": "markdown",
   "metadata": {},
   "source": [
    "### 3.4 Neural Network Architecture\n",
    "- Neural Network secara garis besar terbagi menjadi 3 bagian : \n",
    "    - **Input Layer**\n",
    "    - **Hidden Layer**\n",
    "    - **Output Layer**<br>\n",
    "    <img src=\"resource/hidden.png\" style=\"width:600px\"></img>\n",
    "- Berikut adalah **beragam arsitektur Neural Network** dari yang sederhana sampai kompleks : <br>\n",
    "<img src=\"resource/NN_arch.png\" style=\"width:600px\"></img><br>\n",
    "<img src=\"resource/NN_arch2.png\" style=\"width:600px\"></img>"
   ]
  },
  {
   "cell_type": "markdown",
   "metadata": {},
   "source": [
    "___\n",
    "\n",
    "## 4. Intro To Single Layer Perceptron\n",
    "- Neural Network Paling Sederhana<br>\n",
    "<img src=\"resource/slp.png\" style=\"width:300px\"></img>\n",
    "- Dapat digunakan untuk menyelesaikan persoalan :\n",
    "    - **binary classification** (memisahkan input data menjadi dua group/class)<br>\n",
    "    <img src=\"resource/slp_case.png\" style=\"width:600px\"></img> \n"
   ]
  },
  {
   "cell_type": "markdown",
   "metadata": {},
   "source": [
    "- **Binary Classification** pada SLP\n",
    "    - input akan dipisahkan pada **dua group/class**\n",
    "    - dua group/class harus **lineary separable**<br>\n",
    "    <img src=\"resource/binary_slp.png\" style=\"width:1000px\"></img>\n"
   ]
  },
  {
   "cell_type": "markdown",
   "metadata": {},
   "source": [
    "### 4.1 Single Layer Perceptron Simulation\n",
    "[Single Layer Perceptron Simulation](https://playground.tensorflow.org/#activation=tanh&batchSize=10&dataset=gauss&regDataset=reg-plane&learningRate=0.03&regularizationRate=0&noise=0&networkShape=1&seed=0.69240&showTestData=false&discretize=false&percTrainData=50&x=true&y=true&xTimesY=false&xSquared=false&ySquared=false&cosX=false&sinX=false&cosY=false&sinY=false&collectStats=false&problem=classification&initZero=false&hideText=false)<br>\n",
    "<img src=\"resource/slp_simu.png\" style=\"width:700px\"></img>"
   ]
  },
  {
   "cell_type": "markdown",
   "metadata": {},
   "source": [
    "### 4.2 Implementasi Single Layer Perceptron di OpenCV ML"
   ]
  },
  {
   "cell_type": "markdown",
   "metadata": {},
   "source": [
    "- Prepare dataset (AND Logic Operation)"
   ]
  },
  {
   "cell_type": "code",
   "execution_count": 12,
   "metadata": {},
   "outputs": [],
   "source": [
    "X = np.array([[1, 0],\n",
    "              [0, 1],\n",
    "              [0, 0],\n",
    "              [1, 1]]).astype(np.float32)\n",
    "y = np.array([0,\n",
    "              0,\n",
    "              0,\n",
    "              1]).astype(np.float32)"
   ]
  },
  {
   "cell_type": "code",
   "execution_count": 13,
   "metadata": {},
   "outputs": [
    {
     "data": {
      "text/plain": [
       "((4, 2), (4,))"
      ]
     },
     "execution_count": 13,
     "metadata": {},
     "output_type": "execute_result"
    }
   ],
   "source": [
    "X.shape, y.shape"
   ]
  },
  {
   "cell_type": "code",
   "execution_count": null,
   "metadata": {},
   "outputs": [],
   "source": [
    "print(\"x1 \\t AND \\t x2 \\t y\\n\")\n",
    "for (x1, x2), y1 in zip(X, y):\n",
    "    print(\"%d \\t\\t %d \\t %d\" % (x1, x2, y1))"
   ]
  },
  {
   "cell_type": "markdown",
   "metadata": {},
   "source": [
    "- scatter plot data"
   ]
  },
  {
   "cell_type": "code",
   "execution_count": 49,
   "metadata": {},
   "outputs": [
    {
     "data": {
      "image/png": "[encoded data removed]",
      "text/plain": [
       "<Figure size 432x288 with 1 Axes>"
      ]
     },
     "metadata": {
      "needs_background": "light"
     },
     "output_type": "display_data"
    }
   ],
   "source": [
    "plt.scatter(X[:, 0], X[:, 1], c=y, s=150, cmap='viridis')\n",
    "plt.show()"
   ]
  },
  {
   "cell_type": "markdown",
   "metadata": {},
   "source": [
    "- define layer"
   ]
  },
  {
   "cell_type": "code",
   "execution_count": 32,
   "metadata": {},
   "outputs": [],
   "source": [
    "network_layer = np.array([2, 1]).astype(np.uint8)"
   ]
  },
  {
   "cell_type": "markdown",
   "metadata": {},
   "source": [
    "- create **slp** Object"
   ]
  },
  {
   "cell_type": "code",
   "execution_count": 97,
   "metadata": {},
   "outputs": [],
   "source": [
    "slp = cv2.ml.ANN_MLP_create()"
   ]
  },
  {
   "cell_type": "markdown",
   "metadata": {},
   "source": [
    "- Set Network Layer\n",
    "    - `.setLayerSizes()` : Integer vector specifying the number of neurons in each layer including the input and output layers.\n",
    "    - Neural Network with\n",
    "        - 1 input layer with 3 neuron, \n",
    "        - 2 hidden layer with 5 and 4 neuron \n",
    "        - 1 ouput layer with 1 neuron\n",
    "        - the Network Layer should be `[3, 5, 4, 1]`"
   ]
  },
  {
   "cell_type": "code",
   "execution_count": 155,
   "metadata": {},
   "outputs": [],
   "source": [
    "slp.setLayerSizes(network_layer)"
   ]
  },
  {
   "cell_type": "markdown",
   "metadata": {},
   "source": [
    "- Set Activation Function\n",
    "    - `.setActivationFunction()` : Initialize the activation function for each neuron.\n",
    "    - Default : `cv2.ml.ANN_MLP_SIGMOID_SYM`\n",
    "        - $\\alpha$ default value is 0\n",
    "        - $\\beta$ default value is 0\n",
    "    - Other supported Activation Function : \n",
    "     - `cv2.mlANN_MLP_GAUSSIAN`,\n",
    "     - `cv2.ml.ANN_MLP_IDENTITY`,\n",
    "     - `cv2.ml.ANN_MLP_LEAKYRELU`,\n",
    "     - `cv2.ml.ANN_MLP_RELU`,\n",
    "     - `cv2.ml.ANN_MLP_SIGMOID_SYM`,"
   ]
  },
  {
   "cell_type": "code",
   "execution_count": 156,
   "metadata": {},
   "outputs": [],
   "source": [
    "slp.setActivationFunction(cv2.ml.ANN_MLP_SIGMOID_SYM)"
   ]
  },
  {
   "cell_type": "markdown",
   "metadata": {},
   "source": [
    "- Set Training Method : \n",
    "    - `.setTrainMethod()` : Sets training method and common parameters.\n",
    "    - Default : `cv2.ml.ANN_MLP_RPROP`\n",
    "    - Other supported Training Method : \n",
    "        - `cv2.ml.ANN_MLP_RPROP`\n",
    "        - `cv2.ml.ANN_MLP_BACKPROP`"
   ]
  },
  {
   "cell_type": "code",
   "execution_count": 157,
   "metadata": {},
   "outputs": [],
   "source": [
    "slp.setTrainMethod(cv2.ml.ANN_MLP_BACKPROP)"
   ]
  },
  {
   "cell_type": "markdown",
   "metadata": {},
   "source": [
    "- Train SLP\n",
    " - `.train()` : Train Neural Network\n",
    "     - X training samples (float 32 array)\n",
    "     - Sample Type : \n",
    "         - `cv2.ml.ROW_SAMPLE`\n",
    "         - `cv2.ml.COLUMN_SAMPLE`\n",
    "     - y training samples (float 32 array)"
   ]
  },
  {
   "cell_type": "code",
   "execution_count": 158,
   "metadata": {},
   "outputs": [
    {
     "data": {
      "text/plain": [
       "True"
      ]
     },
     "execution_count": 158,
     "metadata": {},
     "output_type": "execute_result"
    }
   ],
   "source": [
    "slp.train(X,\n",
    "          cv2.ml.ROW_SAMPLE,\n",
    "          y)"
   ]
  },
  {
   "cell_type": "markdown",
   "metadata": {},
   "source": [
    "- Predict SLP\n",
    "    - `.predict()`\n",
    "        - X test samples (float 32 array)"
   ]
  },
  {
   "cell_type": "code",
   "execution_count": 159,
   "metadata": {},
   "outputs": [],
   "source": [
    "X_test = np.array([[1, 0]]).astype(np.float32)"
   ]
  },
  {
   "cell_type": "code",
   "execution_count": 160,
   "metadata": {},
   "outputs": [
    {
     "data": {
      "text/plain": [
       "array([[0.]], dtype=float32)"
      ]
     },
     "execution_count": 160,
     "metadata": {},
     "output_type": "execute_result"
    }
   ],
   "source": [
    "slp.predict(X_test)[1].round()"
   ]
  },
  {
   "cell_type": "markdown",
   "metadata": {},
   "source": [
    "- Predict Multiple Test Samples"
   ]
  },
  {
   "cell_type": "code",
   "execution_count": 167,
   "metadata": {},
   "outputs": [],
   "source": [
    "X_test = np.random.random([500,2]).astype(np.float32)"
   ]
  },
  {
   "cell_type": "code",
   "execution_count": 168,
   "metadata": {},
   "outputs": [],
   "source": [
    "y_test = np.logical_and(X_test.round()[:, 0].astype(np.bool), X_test.round()[:, 1].astype(np.bool))"
   ]
  },
  {
   "cell_type": "code",
   "execution_count": 169,
   "metadata": {
    "scrolled": true
   },
   "outputs": [
    {
     "name": "stdout",
     "output_type": "stream",
     "text": [
      "x1 \t AND \t x2 \t y_test\n",
      "\n",
      "1 \t\t 0 \t 0\n",
      "1 \t\t 1 \t 1\n",
      "1 \t\t 0 \t 0\n",
      "0 \t\t 1 \t 0\n",
      "1 \t\t 0 \t 0\n",
      "0 \t\t 0 \t 0\n",
      "1 \t\t 0 \t 0\n",
      "1 \t\t 0 \t 0\n",
      "0 \t\t 0 \t 0\n",
      "1 \t\t 0 \t 0\n",
      "1 \t\t 1 \t 1\n",
      "0 \t\t 1 \t 0\n",
      "0 \t\t 0 \t 0\n",
      "1 \t\t 1 \t 1\n",
      "1 \t\t 1 \t 1\n",
      "1 \t\t 1 \t 1\n",
      "1 \t\t 1 \t 1\n",
      "0 \t\t 0 \t 0\n",
      "1 \t\t 0 \t 0\n",
      "1 \t\t 1 \t 1\n",
      "0 \t\t 1 \t 0\n",
      "0 \t\t 0 \t 0\n",
      "1 \t\t 1 \t 1\n",
      "1 \t\t 0 \t 0\n",
      "1 \t\t 1 \t 1\n",
      "0 \t\t 0 \t 0\n",
      "1 \t\t 0 \t 0\n",
      "0 \t\t 1 \t 0\n",
      "1 \t\t 0 \t 0\n",
      "0 \t\t 0 \t 0\n",
      "0 \t\t 0 \t 0\n",
      "1 \t\t 0 \t 0\n",
      "1 \t\t 0 \t 0\n",
      "0 \t\t 1 \t 0\n",
      "0 \t\t 0 \t 0\n",
      "0 \t\t 0 \t 0\n",
      "0 \t\t 1 \t 0\n",
      "0 \t\t 0 \t 0\n",
      "1 \t\t 1 \t 1\n",
      "1 \t\t 1 \t 1\n",
      "1 \t\t 1 \t 1\n",
      "1 \t\t 0 \t 0\n",
      "0 \t\t 1 \t 0\n",
      "0 \t\t 1 \t 0\n",
      "0 \t\t 1 \t 0\n",
      "1 \t\t 0 \t 0\n",
      "1 \t\t 1 \t 1\n",
      "1 \t\t 0 \t 0\n",
      "0 \t\t 1 \t 0\n",
      "1 \t\t 0 \t 0\n",
      "1 \t\t 0 \t 0\n",
      "1 \t\t 0 \t 0\n",
      "1 \t\t 1 \t 1\n",
      "1 \t\t 0 \t 0\n",
      "1 \t\t 0 \t 0\n",
      "1 \t\t 1 \t 1\n",
      "1 \t\t 0 \t 0\n",
      "0 \t\t 0 \t 0\n",
      "0 \t\t 0 \t 0\n",
      "0 \t\t 1 \t 0\n",
      "0 \t\t 1 \t 0\n",
      "0 \t\t 1 \t 0\n",
      "1 \t\t 1 \t 1\n",
      "1 \t\t 0 \t 0\n",
      "0 \t\t 0 \t 0\n",
      "1 \t\t 1 \t 1\n",
      "0 \t\t 0 \t 0\n",
      "0 \t\t 1 \t 0\n",
      "0 \t\t 0 \t 0\n",
      "0 \t\t 0 \t 0\n",
      "0 \t\t 0 \t 0\n",
      "0 \t\t 0 \t 0\n",
      "0 \t\t 0 \t 0\n",
      "1 \t\t 0 \t 0\n",
      "1 \t\t 0 \t 0\n",
      "1 \t\t 0 \t 0\n",
      "0 \t\t 1 \t 0\n",
      "1 \t\t 1 \t 1\n",
      "0 \t\t 1 \t 0\n",
      "1 \t\t 1 \t 1\n",
      "1 \t\t 0 \t 0\n",
      "1 \t\t 1 \t 1\n",
      "0 \t\t 1 \t 0\n",
      "1 \t\t 1 \t 1\n",
      "1 \t\t 0 \t 0\n",
      "0 \t\t 0 \t 0\n",
      "0 \t\t 0 \t 0\n",
      "0 \t\t 0 \t 0\n",
      "1 \t\t 1 \t 1\n",
      "1 \t\t 1 \t 1\n",
      "1 \t\t 0 \t 0\n",
      "1 \t\t 0 \t 0\n",
      "1 \t\t 1 \t 1\n",
      "0 \t\t 0 \t 0\n",
      "0 \t\t 0 \t 0\n",
      "1 \t\t 1 \t 1\n",
      "0 \t\t 1 \t 0\n",
      "1 \t\t 1 \t 1\n",
      "0 \t\t 1 \t 0\n",
      "1 \t\t 1 \t 1\n",
      "0 \t\t 0 \t 0\n",
      "0 \t\t 1 \t 0\n",
      "0 \t\t 0 \t 0\n",
      "1 \t\t 0 \t 0\n",
      "1 \t\t 1 \t 1\n",
      "0 \t\t 1 \t 0\n",
      "0 \t\t 0 \t 0\n",
      "0 \t\t 1 \t 0\n",
      "1 \t\t 1 \t 1\n",
      "0 \t\t 1 \t 0\n",
      "0 \t\t 1 \t 0\n",
      "0 \t\t 0 \t 0\n",
      "0 \t\t 1 \t 0\n",
      "0 \t\t 1 \t 0\n",
      "1 \t\t 0 \t 0\n",
      "1 \t\t 0 \t 0\n",
      "0 \t\t 0 \t 0\n",
      "1 \t\t 1 \t 1\n",
      "0 \t\t 1 \t 0\n",
      "1 \t\t 0 \t 0\n",
      "1 \t\t 1 \t 1\n",
      "0 \t\t 0 \t 0\n",
      "1 \t\t 0 \t 0\n",
      "0 \t\t 1 \t 0\n",
      "1 \t\t 1 \t 1\n",
      "0 \t\t 1 \t 0\n",
      "1 \t\t 0 \t 0\n",
      "1 \t\t 0 \t 0\n",
      "0 \t\t 1 \t 0\n",
      "0 \t\t 1 \t 0\n",
      "1 \t\t 0 \t 0\n",
      "0 \t\t 1 \t 0\n",
      "1 \t\t 1 \t 1\n",
      "0 \t\t 0 \t 0\n",
      "0 \t\t 1 \t 0\n",
      "1 \t\t 0 \t 0\n",
      "1 \t\t 0 \t 0\n",
      "1 \t\t 0 \t 0\n",
      "0 \t\t 1 \t 0\n",
      "0 \t\t 1 \t 0\n",
      "1 \t\t 1 \t 1\n",
      "0 \t\t 1 \t 0\n",
      "0 \t\t 0 \t 0\n",
      "0 \t\t 1 \t 0\n",
      "1 \t\t 1 \t 1\n",
      "1 \t\t 1 \t 1\n",
      "0 \t\t 0 \t 0\n",
      "1 \t\t 1 \t 1\n",
      "1 \t\t 1 \t 1\n",
      "0 \t\t 1 \t 0\n",
      "0 \t\t 0 \t 0\n",
      "1 \t\t 0 \t 0\n",
      "0 \t\t 1 \t 0\n",
      "0 \t\t 0 \t 0\n",
      "1 \t\t 1 \t 1\n",
      "0 \t\t 1 \t 0\n",
      "1 \t\t 0 \t 0\n",
      "1 \t\t 0 \t 0\n",
      "0 \t\t 1 \t 0\n",
      "0 \t\t 0 \t 0\n",
      "1 \t\t 1 \t 1\n",
      "1 \t\t 0 \t 0\n",
      "0 \t\t 0 \t 0\n",
      "1 \t\t 0 \t 0\n",
      "0 \t\t 0 \t 0\n",
      "1 \t\t 1 \t 1\n",
      "0 \t\t 0 \t 0\n",
      "0 \t\t 1 \t 0\n",
      "1 \t\t 1 \t 1\n",
      "0 \t\t 0 \t 0\n",
      "0 \t\t 0 \t 0\n",
      "0 \t\t 1 \t 0\n",
      "1 \t\t 1 \t 1\n",
      "0 \t\t 1 \t 0\n",
      "0 \t\t 1 \t 0\n",
      "1 \t\t 1 \t 1\n",
      "0 \t\t 1 \t 0\n",
      "0 \t\t 0 \t 0\n",
      "0 \t\t 0 \t 0\n",
      "0 \t\t 1 \t 0\n",
      "0 \t\t 0 \t 0\n",
      "1 \t\t 0 \t 0\n",
      "0 \t\t 0 \t 0\n",
      "1 \t\t 0 \t 0\n",
      "0 \t\t 1 \t 0\n",
      "0 \t\t 0 \t 0\n",
      "0 \t\t 1 \t 0\n",
      "0 \t\t 1 \t 0\n",
      "1 \t\t 1 \t 1\n",
      "1 \t\t 0 \t 0\n",
      "1 \t\t 0 \t 0\n",
      "1 \t\t 1 \t 1\n",
      "1 \t\t 1 \t 1\n",
      "0 \t\t 0 \t 0\n",
      "0 \t\t 0 \t 0\n",
      "1 \t\t 1 \t 1\n",
      "1 \t\t 0 \t 0\n",
      "1 \t\t 0 \t 0\n",
      "0 \t\t 1 \t 0\n",
      "1 \t\t 1 \t 1\n",
      "0 \t\t 0 \t 0\n",
      "1 \t\t 1 \t 1\n",
      "1 \t\t 1 \t 1\n",
      "0 \t\t 1 \t 0\n",
      "0 \t\t 1 \t 0\n",
      "0 \t\t 0 \t 0\n",
      "0 \t\t 0 \t 0\n",
      "1 \t\t 0 \t 0\n",
      "1 \t\t 0 \t 0\n",
      "1 \t\t 1 \t 1\n",
      "1 \t\t 0 \t 0\n",
      "1 \t\t 0 \t 0\n",
      "0 \t\t 1 \t 0\n",
      "1 \t\t 0 \t 0\n",
      "0 \t\t 1 \t 0\n",
      "0 \t\t 1 \t 0\n",
      "1 \t\t 1 \t 1\n",
      "1 \t\t 1 \t 1\n",
      "0 \t\t 1 \t 0\n",
      "0 \t\t 1 \t 0\n",
      "0 \t\t 0 \t 0\n",
      "1 \t\t 1 \t 1\n",
      "1 \t\t 0 \t 0\n",
      "0 \t\t 1 \t 0\n",
      "0 \t\t 1 \t 0\n",
      "0 \t\t 0 \t 0\n",
      "0 \t\t 1 \t 0\n",
      "0 \t\t 1 \t 0\n",
      "0 \t\t 0 \t 0\n",
      "1 \t\t 1 \t 1\n",
      "0 \t\t 1 \t 0\n",
      "0 \t\t 0 \t 0\n",
      "1 \t\t 0 \t 0\n",
      "1 \t\t 1 \t 1\n",
      "1 \t\t 1 \t 1\n",
      "1 \t\t 0 \t 0\n",
      "1 \t\t 1 \t 1\n",
      "0 \t\t 1 \t 0\n",
      "0 \t\t 1 \t 0\n",
      "1 \t\t 1 \t 1\n",
      "0 \t\t 1 \t 0\n",
      "1 \t\t 1 \t 1\n",
      "1 \t\t 1 \t 1\n",
      "0 \t\t 0 \t 0\n",
      "0 \t\t 0 \t 0\n",
      "1 \t\t 0 \t 0\n",
      "0 \t\t 1 \t 0\n",
      "1 \t\t 0 \t 0\n",
      "1 \t\t 1 \t 1\n",
      "0 \t\t 1 \t 0\n",
      "1 \t\t 1 \t 1\n",
      "1 \t\t 1 \t 1\n",
      "1 \t\t 0 \t 0\n",
      "1 \t\t 1 \t 1\n",
      "1 \t\t 1 \t 1\n",
      "1 \t\t 0 \t 0\n",
      "0 \t\t 0 \t 0\n",
      "1 \t\t 1 \t 1\n",
      "0 \t\t 1 \t 0\n",
      "1 \t\t 0 \t 0\n",
      "1 \t\t 1 \t 1\n",
      "1 \t\t 0 \t 0\n",
      "0 \t\t 1 \t 0\n",
      "0 \t\t 0 \t 0\n",
      "0 \t\t 1 \t 0\n",
      "0 \t\t 0 \t 0\n",
      "1 \t\t 1 \t 1\n",
      "1 \t\t 0 \t 0\n",
      "0 \t\t 0 \t 0\n",
      "1 \t\t 0 \t 0\n",
      "0 \t\t 1 \t 0\n",
      "1 \t\t 1 \t 1\n",
      "0 \t\t 1 \t 0\n",
      "1 \t\t 0 \t 0\n",
      "0 \t\t 0 \t 0\n",
      "0 \t\t 1 \t 0\n",
      "0 \t\t 1 \t 0\n",
      "1 \t\t 0 \t 0\n",
      "1 \t\t 1 \t 1\n",
      "1 \t\t 1 \t 1\n",
      "1 \t\t 1 \t 1\n",
      "0 \t\t 0 \t 0\n",
      "1 \t\t 0 \t 0\n",
      "0 \t\t 0 \t 0\n",
      "0 \t\t 0 \t 0\n",
      "0 \t\t 1 \t 0\n",
      "1 \t\t 1 \t 1\n",
      "0 \t\t 0 \t 0\n",
      "0 \t\t 0 \t 0\n",
      "1 \t\t 0 \t 0\n",
      "0 \t\t 0 \t 0\n",
      "1 \t\t 1 \t 1\n",
      "0 \t\t 0 \t 0\n",
      "0 \t\t 0 \t 0\n",
      "0 \t\t 1 \t 0\n",
      "1 \t\t 0 \t 0\n",
      "0 \t\t 0 \t 0\n",
      "0 \t\t 1 \t 0\n",
      "1 \t\t 1 \t 1\n",
      "1 \t\t 1 \t 1\n",
      "0 \t\t 0 \t 0\n",
      "0 \t\t 1 \t 0\n",
      "0 \t\t 0 \t 0\n",
      "1 \t\t 0 \t 0\n",
      "1 \t\t 0 \t 0\n",
      "0 \t\t 1 \t 0\n",
      "1 \t\t 1 \t 1\n",
      "1 \t\t 0 \t 0\n",
      "1 \t\t 0 \t 0\n",
      "1 \t\t 1 \t 1\n",
      "1 \t\t 0 \t 0\n",
      "1 \t\t 1 \t 1\n",
      "0 \t\t 1 \t 0\n",
      "1 \t\t 0 \t 0\n",
      "1 \t\t 1 \t 1\n",
      "0 \t\t 1 \t 0\n",
      "0 \t\t 0 \t 0\n",
      "0 \t\t 1 \t 0\n",
      "1 \t\t 1 \t 1\n",
      "1 \t\t 1 \t 1\n",
      "0 \t\t 0 \t 0\n",
      "0 \t\t 0 \t 0\n",
      "1 \t\t 0 \t 0\n",
      "0 \t\t 1 \t 0\n",
      "1 \t\t 0 \t 0\n",
      "1 \t\t 0 \t 0\n",
      "1 \t\t 1 \t 1\n",
      "0 \t\t 0 \t 0\n",
      "1 \t\t 0 \t 0\n",
      "0 \t\t 1 \t 0\n",
      "0 \t\t 1 \t 0\n",
      "0 \t\t 1 \t 0\n",
      "0 \t\t 0 \t 0\n",
      "1 \t\t 0 \t 0\n",
      "0 \t\t 0 \t 0\n",
      "0 \t\t 1 \t 0\n",
      "1 \t\t 1 \t 1\n",
      "1 \t\t 0 \t 0\n",
      "0 \t\t 0 \t 0\n",
      "1 \t\t 0 \t 0\n",
      "0 \t\t 1 \t 0\n",
      "1 \t\t 1 \t 1\n",
      "0 \t\t 0 \t 0\n",
      "1 \t\t 0 \t 0\n",
      "1 \t\t 0 \t 0\n",
      "1 \t\t 0 \t 0\n",
      "1 \t\t 0 \t 0\n",
      "1 \t\t 0 \t 0\n",
      "0 \t\t 0 \t 0\n",
      "1 \t\t 1 \t 1\n",
      "0 \t\t 1 \t 0\n",
      "1 \t\t 0 \t 0\n",
      "1 \t\t 0 \t 0\n",
      "1 \t\t 1 \t 1\n",
      "0 \t\t 1 \t 0\n",
      "0 \t\t 0 \t 0\n",
      "0 \t\t 1 \t 0\n",
      "1 \t\t 0 \t 0\n",
      "0 \t\t 1 \t 0\n",
      "0 \t\t 0 \t 0\n",
      "0 \t\t 0 \t 0\n",
      "1 \t\t 0 \t 0\n",
      "1 \t\t 1 \t 1\n",
      "1 \t\t 0 \t 0\n",
      "1 \t\t 1 \t 1\n",
      "1 \t\t 1 \t 1\n",
      "1 \t\t 1 \t 1\n",
      "1 \t\t 1 \t 1\n",
      "0 \t\t 0 \t 0\n",
      "1 \t\t 1 \t 1\n",
      "0 \t\t 0 \t 0\n",
      "0 \t\t 1 \t 0\n",
      "0 \t\t 1 \t 0\n",
      "0 \t\t 1 \t 0\n",
      "0 \t\t 1 \t 0\n",
      "0 \t\t 1 \t 0\n",
      "0 \t\t 0 \t 0\n",
      "1 \t\t 0 \t 0\n",
      "1 \t\t 0 \t 0\n",
      "0 \t\t 1 \t 0\n",
      "1 \t\t 0 \t 0\n",
      "1 \t\t 0 \t 0\n",
      "1 \t\t 0 \t 0\n",
      "0 \t\t 0 \t 0\n",
      "0 \t\t 0 \t 0\n",
      "0 \t\t 0 \t 0\n",
      "1 \t\t 1 \t 1\n",
      "1 \t\t 0 \t 0\n",
      "0 \t\t 0 \t 0\n",
      "1 \t\t 0 \t 0\n",
      "0 \t\t 0 \t 0\n",
      "0 \t\t 1 \t 0\n",
      "0 \t\t 0 \t 0\n",
      "1 \t\t 1 \t 1\n",
      "0 \t\t 1 \t 0\n",
      "1 \t\t 0 \t 0\n",
      "1 \t\t 1 \t 1\n",
      "0 \t\t 0 \t 0\n",
      "1 \t\t 1 \t 1\n",
      "1 \t\t 1 \t 1\n",
      "1 \t\t 0 \t 0\n",
      "0 \t\t 0 \t 0\n",
      "0 \t\t 1 \t 0\n",
      "0 \t\t 1 \t 0\n",
      "1 \t\t 1 \t 1\n",
      "1 \t\t 1 \t 1\n",
      "0 \t\t 0 \t 0\n",
      "1 \t\t 1 \t 1\n",
      "1 \t\t 1 \t 1\n",
      "1 \t\t 0 \t 0\n",
      "1 \t\t 0 \t 0\n",
      "0 \t\t 0 \t 0\n",
      "1 \t\t 1 \t 1\n",
      "0 \t\t 1 \t 0\n",
      "1 \t\t 0 \t 0\n",
      "1 \t\t 1 \t 1\n",
      "0 \t\t 0 \t 0\n",
      "0 \t\t 0 \t 0\n",
      "0 \t\t 0 \t 0\n",
      "1 \t\t 0 \t 0\n",
      "0 \t\t 1 \t 0\n",
      "1 \t\t 1 \t 1\n",
      "1 \t\t 0 \t 0\n",
      "0 \t\t 1 \t 0\n",
      "1 \t\t 0 \t 0\n",
      "0 \t\t 0 \t 0\n",
      "1 \t\t 1 \t 1\n",
      "1 \t\t 0 \t 0\n",
      "0 \t\t 0 \t 0\n",
      "0 \t\t 1 \t 0\n",
      "0 \t\t 0 \t 0\n",
      "1 \t\t 0 \t 0\n",
      "1 \t\t 1 \t 1\n",
      "0 \t\t 0 \t 0\n",
      "0 \t\t 0 \t 0\n",
      "1 \t\t 1 \t 1\n",
      "0 \t\t 0 \t 0\n",
      "0 \t\t 1 \t 0\n",
      "1 \t\t 0 \t 0\n",
      "1 \t\t 1 \t 1\n",
      "0 \t\t 1 \t 0\n",
      "0 \t\t 1 \t 0\n",
      "1 \t\t 1 \t 1\n",
      "1 \t\t 0 \t 0\n",
      "0 \t\t 0 \t 0\n",
      "1 \t\t 0 \t 0\n",
      "0 \t\t 0 \t 0\n",
      "1 \t\t 0 \t 0\n",
      "0 \t\t 0 \t 0\n",
      "0 \t\t 0 \t 0\n",
      "0 \t\t 0 \t 0\n",
      "0 \t\t 0 \t 0\n",
      "1 \t\t 0 \t 0\n",
      "1 \t\t 1 \t 1\n",
      "1 \t\t 1 \t 1\n",
      "1 \t\t 0 \t 0\n",
      "1 \t\t 0 \t 0\n",
      "0 \t\t 0 \t 0\n",
      "0 \t\t 0 \t 0\n",
      "1 \t\t 0 \t 0\n",
      "1 \t\t 0 \t 0\n",
      "0 \t\t 0 \t 0\n",
      "0 \t\t 1 \t 0\n",
      "0 \t\t 1 \t 0\n",
      "0 \t\t 1 \t 0\n",
      "1 \t\t 0 \t 0\n",
      "0 \t\t 0 \t 0\n",
      "1 \t\t 1 \t 1\n",
      "1 \t\t 0 \t 0\n",
      "1 \t\t 1 \t 1\n",
      "1 \t\t 1 \t 1\n",
      "0 \t\t 0 \t 0\n",
      "1 \t\t 1 \t 1\n",
      "0 \t\t 0 \t 0\n",
      "1 \t\t 0 \t 0\n",
      "1 \t\t 1 \t 1\n",
      "1 \t\t 1 \t 1\n",
      "0 \t\t 1 \t 0\n",
      "0 \t\t 1 \t 0\n",
      "0 \t\t 0 \t 0\n",
      "0 \t\t 0 \t 0\n",
      "1 \t\t 1 \t 1\n",
      "0 \t\t 0 \t 0\n",
      "1 \t\t 0 \t 0\n",
      "0 \t\t 1 \t 0\n",
      "1 \t\t 1 \t 1\n",
      "1 \t\t 0 \t 0\n",
      "0 \t\t 0 \t 0\n",
      "0 \t\t 1 \t 0\n",
      "0 \t\t 0 \t 0\n",
      "0 \t\t 1 \t 0\n",
      "1 \t\t 1 \t 1\n",
      "0 \t\t 1 \t 0\n",
      "0 \t\t 0 \t 0\n",
      "1 \t\t 1 \t 1\n",
      "1 \t\t 0 \t 0\n",
      "0 \t\t 0 \t 0\n",
      "0 \t\t 0 \t 0\n",
      "0 \t\t 1 \t 0\n",
      "0 \t\t 1 \t 0\n"
     ]
    }
   ],
   "source": [
    "print(\"x1 \\t AND \\t x2 \\t y_test\\n\")\n",
    "for (x1, x2), y1 in zip(X_test.round().astype(np.bool), y_test):\n",
    "    print(\"%d \\t\\t %d \\t %d\" % (x1, x2, y1))"
   ]
  },
  {
   "cell_type": "code",
   "execution_count": 170,
   "metadata": {},
   "outputs": [],
   "source": [
    "y_pred = slp.predict(X_test)[1].round()"
   ]
  },
  {
   "cell_type": "markdown",
   "metadata": {},
   "source": [
    "- Plot Result \n",
    "    - Tosca : `y_pred = 0`\n",
    "    - Purpple : `y_pred = 1`"
   ]
  },
  {
   "cell_type": "code",
   "execution_count": 171,
   "metadata": {},
   "outputs": [
    {
     "data": {
      "image/png": "[encoded data removed]",
      "text/plain": [
       "<Figure size 432x288 with 1 Axes>"
      ]
     },
     "metadata": {
      "needs_background": "light"
     },
     "output_type": "display_data"
    }
   ],
   "source": [
    "plt.scatter(X[:, 0], X[:, 1], c=y, s=150, cmap='viridis')\n",
    "plt.scatter(X_test[:, 0], X_test[:, 1], c=y_pred, s=50, cmap='cool')\n",
    "plt.show()"
   ]
  },
  {
   "cell_type": "code",
   "execution_count": null,
   "metadata": {},
   "outputs": [],
   "source": []
  },
  {
   "cell_type": "markdown",
   "metadata": {},
   "source": [
    "## 5 Model Evaluation\n",
    "- Install library Scikit-Learn: \\\n",
    "`conda install scikit-learn`"
   ]
  },
  {
   "cell_type": "markdown",
   "metadata": {},
   "source": [
    "<img src=\"resource/prec_rec.png\" style=\"width:700px\"></img>"
   ]
  },
  {
   "cell_type": "code",
   "execution_count": 172,
   "metadata": {},
   "outputs": [],
   "source": [
    "import itertools\n",
    "from sklearn.metrics import confusion_matrix\n",
    "from sklearn.metrics import classification_report"
   ]
  },
  {
   "cell_type": "code",
   "execution_count": 173,
   "metadata": {},
   "outputs": [],
   "source": [
    "def plot_confusion_matrix(cm, classes,\n",
    "                          normalize=False,\n",
    "                          title='Confusion matrix',\n",
    "                          cmap=plt.cm.Blues):\n",
    "    if normalize:\n",
    "        cm = cm.astype('float') / cm.sum(axis=1)[:, np.newaxis]\n",
    "\n",
    "    plt.figure(figsize=(6, 6))\n",
    "    \n",
    "    plt.imshow(cm, interpolation='nearest', cmap=cmap)\n",
    "    plt.title(title)\n",
    "    plt.colorbar()\n",
    "    tick_marks = np.arange(len(classes))\n",
    "    plt.xticks(tick_marks, classes, rotation=45)\n",
    "    plt.yticks(tick_marks, classes)\n",
    "\n",
    "    fmt = '.2f' if normalize else 'd'\n",
    "    thresh = cm.max() / 2.\n",
    "    for i, j in itertools.product(range(cm.shape[0]), range(cm.shape[1])):\n",
    "        plt.text(j, i, format(cm[i, j], fmt),\n",
    "                 horizontalalignment=\"center\",\n",
    "                 color=\"white\" if cm[i, j] > thresh else \"black\")\n",
    "\n",
    "    plt.tight_layout()\n",
    "    plt.ylabel('True label')\n",
    "    plt.xlabel('Predicted label')\n",
    "    plt.show()"
   ]
  },
  {
   "cell_type": "code",
   "execution_count": 174,
   "metadata": {},
   "outputs": [
    {
     "data": {
      "image/png": "[encoded data removed]",
      "text/plain": [
       "<Figure size 432x432 with 2 Axes>"
      ]
     },
     "metadata": {
      "needs_background": "light"
     },
     "output_type": "display_data"
    }
   ],
   "source": [
    "# Compute confusion matrix\n",
    "labels_vec = [0, 1]\n",
    "label_name = ['FALSE', 'TRUE']\n",
    "cnf_matrix = confusion_matrix(y_test, y_pred, labels=np.unique(labels_vec))\n",
    "np.set_printoptions(precision=2)\n",
    "\n",
    "\n",
    "# Plot non-normalized confusion matrix\n",
    "plot_confusion_matrix(cnf_matrix, classes=label_name,normalize=False,\n",
    "                      title='Confusion matrix')"
   ]
  },
  {
   "cell_type": "markdown",
   "metadata": {},
   "source": [
    "- Evaluation Report Summary (per-class)\n",
    "    - Precision\n",
    "    - Recall\n",
    "    - f1-score\n",
    "    - accuracy"
   ]
  },
  {
   "cell_type": "code",
   "execution_count": 175,
   "metadata": {},
   "outputs": [
    {
     "name": "stdout",
     "output_type": "stream",
     "text": [
      "              precision    recall  f1-score   support\n",
      "\n",
      "       FALSE       0.85      1.00      0.92       376\n",
      "        TRUE       1.00      0.47      0.64       124\n",
      "\n",
      "    accuracy                           0.87       500\n",
      "   macro avg       0.93      0.73      0.78       500\n",
      "weighted avg       0.89      0.87      0.85       500\n",
      "\n"
     ]
    }
   ],
   "source": [
    "print(classification_report(y_test, \n",
    "                            y_pred, \n",
    "                            target_names=label_name))"
   ]
  },
  {
   "cell_type": "code",
   "execution_count": null,
   "metadata": {},
   "outputs": [],
   "source": []
  },
  {
   "cell_type": "code",
   "execution_count": null,
   "metadata": {},
   "outputs": [],
   "source": []
  },
  {
   "cell_type": "code",
   "execution_count": null,
   "metadata": {},
   "outputs": [],
   "source": []
  }
 ],
 "metadata": {
  "kernelspec": {
   "display_name": "Python [conda env:opencv_env]",
   "language": "python",
   "name": "conda-env-opencv_env-py"
  },
  "language_info": {
   "codemirror_mode": {
    "name": "ipython",
    "version": 3
   },
   "file_extension": ".py",
   "mimetype": "text/x-python",
   "name": "python",
   "nbconvert_exporter": "python",
   "pygments_lexer": "ipython3",
   "version": "3.8.6"
  }
 },
 "nbformat": 4,
 "nbformat_minor": 4
}
