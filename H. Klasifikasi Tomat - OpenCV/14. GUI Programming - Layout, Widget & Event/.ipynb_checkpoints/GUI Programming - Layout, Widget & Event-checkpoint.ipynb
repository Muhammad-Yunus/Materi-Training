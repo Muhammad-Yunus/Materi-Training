{
 "cells": [
  {
   "cell_type": "markdown",
   "metadata": {},
   "source": [
    "# Pertemuan 14\n",
    "- Install PySimpleGUI\n",
    "- window, layout, widget text, widget button, widget image\n",
    "- widget & event handler\n",
    "- widget column & tab\n",
    "- Advance Widget : Browse File & Listbox\n"
   ]
  },
  {
   "cell_type": "markdown",
   "metadata": {},
   "source": [
    "### 1. Install library pySimple GUI"
   ]
  },
  {
   "cell_type": "markdown",
   "metadata": {},
   "source": [
    "- run command in conda prompt : \\\n",
    "`conda install pysimplegui`"
   ]
  },
  {
   "cell_type": "code",
   "execution_count": null,
   "metadata": {},
   "outputs": [],
   "source": [
    "import os\n",
    "import cv2\n",
    "import numpy as np\n",
    "import PySimpleGUI as sg \n",
    "import matplotlib.pyplot as plt"
   ]
  },
  {
   "cell_type": "markdown",
   "metadata": {},
   "source": [
    "___\n",
    "### 2 Create & Display Window"
   ]
  },
  {
   "cell_type": "code",
   "execution_count": null,
   "metadata": {
    "tags": [
     "readImage"
    ]
   },
   "outputs": [],
   "source": [
    "window = sg.Window(title=\"Klasifikasi Tomat\", layout=[[]], margins=(200, 100))\n",
    "window.read(timeout=6000)\n",
    "window.close()"
   ]
  },
  {
   "cell_type": "markdown",
   "metadata": {},
   "source": [
    "- Result : <br>\n",
    "<img src=\"resource/basic-ui.png\" style=\"width:400px\"></img>\n",
    "- One of the basic building blocks of PySimpleGUI is the `Window()`,\n",
    "- on the created window, we can add `title` and a `layout` and set the `margins`,\n",
    "- `margin` is margin for created layout `(margin-x, margin-y)`."
   ]
  },
  {
   "cell_type": "markdown",
   "metadata": {},
   "source": [
    "___\n",
    "### 3. Add text and button into layout"
   ]
  },
  {
   "cell_type": "code",
   "execution_count": null,
   "metadata": {},
   "outputs": [],
   "source": [
    "layout = [[sg.Text(\"Tekan Tombol 'OK'\")], \n",
    "          [sg.Button(\"OK\")]]\n",
    "\n",
    "window = sg.Window(title=\"Klasifikasi Tomat\", layout=layout, margins=(200, 100))\n",
    "\n",
    "window.read()\n",
    "window.close()"
   ]
  },
  {
   "cell_type": "markdown",
   "metadata": {},
   "source": [
    "- `window.read()` merupakan function yang dapat digunakan untuk menangkap event pada gui (klick, change value, dll)\n",
    "- `layout` pada pySimpleGUI menggunakan struktur list.\n",
    "- secara sederhana, \n",
    "    - element yang ingin diletakan sejajar **horizontal** berada pada list - row yang **sama**.\n",
    "    - element yang ingin diletakan sejajar **vertical** berada pada list - row yang **berbeda**."
   ]
  },
  {
   "cell_type": "markdown",
   "metadata": {},
   "source": [
    "- Result :<br>\n",
    "<img src=\"resource/text-n-button.png\" style=\"width:500px\"></img>\n",
    "- PySimpleGUI uses nested Python lists to lay out its elements. \n",
    "- In this case, you add a `Text()` element and a `Button()` element."
   ]
  },
  {
   "cell_type": "markdown",
   "metadata": {},
   "source": [
    "___\n",
    "### 4. Simple Image Viewer"
   ]
  },
  {
   "cell_type": "code",
   "execution_count": null,
   "metadata": {},
   "outputs": [],
   "source": [
    "image_viewer_layout= [\n",
    "    [sg.Text(\"Tomat.png\")],\n",
    "    [sg.Image(filename=\"Tomat.png\")],\n",
    "]\n",
    "\n",
    "window = sg.Window(title=\"Image Viewer\", layout=image_viewer_layout, margins=(30, 30))\n",
    "\n",
    "window.read()\n",
    "window.close()"
   ]
  },
  {
   "cell_type": "markdown",
   "metadata": {},
   "source": [
    "- result : <br>\n",
    "<img src=\"resource/image-viewer.png\" style=\"width:300px\"></img>\n",
    "- `Image()` :Image Element - show an image in the window for given `filename`. Should be a `GIF` or a `PNG` only."
   ]
  },
  {
   "cell_type": "markdown",
   "metadata": {},
   "source": [
    "___\n",
    "### 5. Image Viewer PySimpleGUI + OpenCV\n",
    "- convert matrix image ke png menggunakan `cv2.imencode()`\n",
    "- convert matrix `png` menjadi raw-data (bytes) menggunakan numpy function `.tobytes()`\n",
    "- menggunakan `window[key].update(data=image_byte)` untuk mengupdate data pada widget dengan `key` tersebut."
   ]
  },
  {
   "cell_type": "code",
   "execution_count": null,
   "metadata": {
    "tags": [
     "readImage"
    ]
   },
   "outputs": [],
   "source": [
    "# Funtion Convert Matrix Img to Byte\n",
    "\n",
    "def ImgToByte(filename):\n",
    "    img = cv2.imread(filename) \n",
    "    ret, frame_png = cv2.imencode('.png', img)\n",
    "    img_byte = frame_png.tobytes()\n",
    "    return img_byte"
   ]
  },
  {
   "cell_type": "code",
   "execution_count": null,
   "metadata": {
    "tags": [
     "readImage"
    ]
   },
   "outputs": [],
   "source": [
    "# create layout & window\n",
    "image_viewer_layout= [\n",
    "    [sg.Text(\"Tomat.jpg\")],\n",
    "    [sg.Image(filename='', key='-image-')],\n",
    "]\n",
    "\n",
    "window = sg.Window(title=\"Image Viewer\", finalize=True, layout=image_viewer_layout, margins=(10, 10))\n",
    "\n",
    "# load image as byte data\n",
    "img_byte = ImgToByte(filename = \"Tomat.jpg\")\n",
    "\n",
    "# update widget image by key on window\n",
    "window['-image-'].update(data=img_byte)\n",
    "\n",
    "window.read()\n",
    "window.close()"
   ]
  },
  {
   "cell_type": "markdown",
   "metadata": {},
   "source": [
    "- `finalize=True` digunakan untuk dapat meng-update content widget dengan `key` yang belum di `.read()`"
   ]
  },
  {
   "cell_type": "markdown",
   "metadata": {},
   "source": [
    "___\n",
    "### 6. Button Handler"
   ]
  },
  {
   "cell_type": "code",
   "execution_count": null,
   "metadata": {},
   "outputs": [],
   "source": [
    "layout = [[sg.Text(\"klik button untuk close window!\")], \n",
    "          [sg.Button(\"close\")]]\n",
    "\n",
    "window = sg.Window(title=\"Button Handler\", layout=layout, margins=(200, 100))\n",
    "\n",
    "event, values = window.read()\n",
    "if event == 'close':\n",
    "    print('button close, clicked!')\n",
    "\n",
    "window.close()"
   ]
  },
  {
   "cell_type": "markdown",
   "metadata": {},
   "source": [
    "- event value dari sebuah **button** sama dema dengan label yang dimiliki button tersebut, `\"close\"` "
   ]
  },
  {
   "cell_type": "markdown",
   "metadata": {},
   "source": [
    "- handler continuous run"
   ]
  },
  {
   "cell_type": "code",
   "execution_count": null,
   "metadata": {},
   "outputs": [],
   "source": [
    "layout = [[sg.Text(\"klik button untuk close window!\")], \n",
    "          [sg.Button(\"print\")]]\n",
    "\n",
    "window = sg.Window(title=\"Button Handler\", layout=layout, margins=(200, 100))\n",
    "\n",
    "while True:\n",
    "    event, values = window.read()\n",
    "    if event == 'print':\n",
    "        print('print, Hello World!')\n",
    "        \n",
    "    if event == sg.WIN_CLOSED:\n",
    "        break\n",
    "        \n",
    "window.close()"
   ]
  },
  {
   "cell_type": "markdown",
   "metadata": {},
   "source": [
    "- `sg.WIN_CLOSED` merupakan jenis event yang akan muncul jika window GUI di close via tombol close (**x**) pada GUI."
   ]
  },
  {
   "cell_type": "code",
   "execution_count": null,
   "metadata": {},
   "outputs": [],
   "source": []
  },
  {
   "cell_type": "markdown",
   "metadata": {},
   "source": [
    "### Task\n",
    "\n",
    "- Modifikasi program **handler continuous run** diatas,\n",
    "    - tambahkan **tombol close** dengan key `'close'`\n",
    "    - tambahkan handler untuk tombol close tersebut, jika `event == 'close'` maka `break` dari loop.\n",
    "    - tambahkan juga **tombol save** dengan key `'save'`\n",
    "    - tambahkan handler untuk tombol save tersebut, jika `event == 'save'` maka akan print `'File saved successfully!'`"
   ]
  },
  {
   "cell_type": "markdown",
   "metadata": {},
   "source": [
    "___\n",
    "### 7. Widget Input Text"
   ]
  },
  {
   "cell_type": "code",
   "execution_count": null,
   "metadata": {},
   "outputs": [],
   "source": [
    "layout = [[sg.Text(\"Dataset Folder :\"), sg.InputText(key='dataset_folder')], \n",
    "          [sg.Button(\"Save\")]]\n",
    "\n",
    "window = sg.Window(title=\"Widget Input Text\", layout=layout, margins=(50, 50))\n",
    "\n",
    "event, values = window.read()\n",
    "if event == 'Save':\n",
    "    print(event, values)\n",
    "    \n",
    "window.close()"
   ]
  },
  {
   "cell_type": "markdown",
   "metadata": {},
   "source": [
    "- multiple input"
   ]
  },
  {
   "cell_type": "code",
   "execution_count": null,
   "metadata": {},
   "outputs": [],
   "source": [
    "layout = [[sg.Text(\"Dataset Folder :\"), sg.InputText(key='dataset_folder')],\n",
    "          [sg.Text(\"Preprocessed Folder :\"), sg.InputText(key='preprocessed_folder')],\n",
    "          [sg.Button(\"Save\"), sg.Button(\"Cancel\")]]\n",
    "\n",
    "window = sg.Window(title=\"Input Text Demo\", layout=layout, margins=(50, 50))\n",
    "\n",
    "event, values = window.read()\n",
    "if event == 'Save':\n",
    "    print(event, values)\n",
    "    \n",
    "window.close()"
   ]
  },
  {
   "cell_type": "markdown",
   "metadata": {},
   "source": [
    "- styling form"
   ]
  },
  {
   "cell_type": "code",
   "execution_count": null,
   "metadata": {},
   "outputs": [],
   "source": [
    "layout = [[sg.Text(\"Setup Parameter\")],\n",
    "          [sg.Text(\"Dataset Folder \\t\\t:\", size=(15,1)), sg.InputText(key='dataset_folder')],\n",
    "          [sg.Text(\"Preprocessed Folder \\t\\t:\", size=(15,1)), sg.InputText(key='preprocessed_folder')],\n",
    "          [sg.Button(\"Save\", button_color=(\"white\", \"green\")), \n",
    "           sg.Button(\"Cancel\")]]\n",
    "\n",
    "window = sg.Window(title=\"Input Text Demo\", layout=layout, margins=(50, 50))\n",
    "\n",
    "event, values = window.read()\n",
    "if event == 'Save':\n",
    "    print(event, values)\n",
    "    \n",
    "window.close()"
   ]
  },
  {
   "cell_type": "markdown",
   "metadata": {},
   "source": [
    "- `size=(w,h)` pada widget text `sg.Text()` digunakan untuk mengatur lebar dan tinggi.\n",
    "- `button_color=(bg_color, text_color)` pada widget button `sg.Button()` digunakan untuk mengatur background & text color button."
   ]
  },
  {
   "cell_type": "markdown",
   "metadata": {},
   "source": [
    "___\n",
    "### 8. Column\n",
    "![](resource/column.png)"
   ]
  },
  {
   "cell_type": "code",
   "execution_count": null,
   "metadata": {},
   "outputs": [],
   "source": [
    "layout_left = [[sg.Image(filename=\"Tomat.png\")]]\n",
    "\n",
    "layout_right = [\n",
    "                [sg.Text(\"Nama File \\t\\t:\", size=(15,1)), sg.InputText(key='filename')],\n",
    "                [sg.Text(\"Kategori \\t\\t:\", size=(15,1)), sg.InputText(key='category')],\n",
    "                [sg.Button(\"Save\", button_color=(\"white\", \"green\")), sg.Button(\"Cancel\")]\n",
    "               ]\n",
    "\n",
    "layout = [\n",
    "    [\n",
    "        sg.Column(layout_left),\n",
    "        sg.Column(layout_right),\n",
    "    ]\n",
    "]\n",
    "\n",
    "\n",
    "window = sg.Window(title=\"Input Text Demo\", layout=layout, margins=(50, 50))\n",
    "\n",
    "event, values = window.read()\n",
    "if event == 'Save':\n",
    "    print(event, values)\n",
    "    \n",
    "window.close()"
   ]
  },
  {
   "cell_type": "markdown",
   "metadata": {},
   "source": [
    "___\n",
    "### 9. Vertical Separator\n",
    "- `sg.VSeperator()` untuk menambahkan vertical separator diantara kolom"
   ]
  },
  {
   "cell_type": "code",
   "execution_count": null,
   "metadata": {},
   "outputs": [],
   "source": [
    "layout_left = [[sg.Image(filename=\"Tomat.png\")]]\n",
    "\n",
    "layout_right = [\n",
    "                [sg.Text(\"Nama File \\t\\t:\", size=(15,1)), sg.InputText(key='filename')],\n",
    "                [sg.Text(\"Kategori \\t\\t:\", size=(15,1)), sg.InputText(key='category')],\n",
    "                [sg.Button(\"Save\", button_color=(\"white\", \"green\")), sg.Button(\"Cancel\")]\n",
    "               ]\n",
    "\n",
    "layout = [\n",
    "    [\n",
    "        sg.Column(layout_left),\n",
    "        sg.VSeperator(),\n",
    "        sg.Column(layout_right),\n",
    "    ]\n",
    "]\n",
    "\n",
    "\n",
    "window = sg.Window(title=\"Input Text Demo\", layout=layout, margins=(50, 50))\n",
    "\n",
    "event, values = window.read()\n",
    "if event == 'Save':\n",
    "    print(event, values)\n",
    "    \n",
    "window.close()"
   ]
  },
  {
   "cell_type": "code",
   "execution_count": null,
   "metadata": {},
   "outputs": [],
   "source": []
  },
  {
   "cell_type": "markdown",
   "metadata": {},
   "source": [
    "### Task\n",
    "- Modifikasi program **9. Vertical Separator** agar menampilkan gambar dari hasil pembacaat OpenCV\n",
    "- Gabungkan dengan program **5. Image Viewer PySimpleGUI + OpenCV** diatas, sehingga imput gambarnya dari OpenCV\n"
   ]
  },
  {
   "cell_type": "markdown",
   "metadata": {},
   "source": [
    "___\n",
    "### 10. Tab & Tab Group\n",
    "![](resource/tab.png)"
   ]
  },
  {
   "cell_type": "code",
   "execution_count": null,
   "metadata": {},
   "outputs": [],
   "source": [
    "layout_tab1 = [[sg.Text(\"Content Tab 1\", size=(80,20))]]\n",
    "layout_tab2 = [[sg.Text(\"Content Tab 2\", size=(80,20))]]\n",
    "\n",
    "layout = [[sg.TabGroup([\n",
    "                        [sg.Tab('Tab 1', layout_tab1), \n",
    "                         sg.Tab('Tab 2', layout_tab2)]\n",
    "                        ])\n",
    "          ]]\n",
    "\n",
    "window = sg.Window(title=\"Tab Widget\", layout=layout, margins=(10, 10))\n",
    "\n",
    "event, values = window.read()\n",
    "print(event, values)\n",
    "\n",
    "window.close()"
   ]
  },
  {
   "cell_type": "markdown",
   "metadata": {},
   "source": [
    "- more tab"
   ]
  },
  {
   "cell_type": "code",
   "execution_count": null,
   "metadata": {},
   "outputs": [],
   "source": [
    "layout_tab1 = [[sg.Text(\"Content Tab 1\", size=(80,20))]]\n",
    "layout_tab2 = [[sg.Text(\"Content Tab 2\", size=(80,20))]]\n",
    "layout_tab3 = [[sg.Text(\"Content Tab 3\", size=(80,20))]]\n",
    "layout_tab4 = [[sg.Text(\"Content Tab 4\", size=(80,20))]]\n",
    "\n",
    "layout = [[sg.TabGroup([\n",
    "                        [sg.Tab('Tab 1', layout_tab1), \n",
    "                         sg.Tab('Tab 2', layout_tab2),\n",
    "                         sg.Tab('Tab 3', layout_tab3), \n",
    "                         sg.Tab('Tab 4', layout_tab4)]\n",
    "                        ])\n",
    "          ]]\n",
    "\n",
    "window = sg.Window(title=\"Tab Widget\", layout=layout, margins=(10, 10))\n",
    "\n",
    "event, values = window.read()\n",
    "print(event, values)\n",
    "\n",
    "window.close()"
   ]
  },
  {
   "cell_type": "markdown",
   "metadata": {},
   "source": [
    "___\n",
    "### 11. Widget Browse File (Browse Image & View)"
   ]
  },
  {
   "cell_type": "markdown",
   "metadata": {},
   "source": [
    "- `sg.FileBrowse` digunakan untuk memunculkan tombol browse file,\n",
    "    - `file_types=((\"Image\", \"*.png\"),)` akan membatasi file yang di browse adalah gambar dengan extension `.png`\n",
    "- `enable_events=True` agar widget `sg.InputText` dapat menghandle event"
   ]
  },
  {
   "cell_type": "code",
   "execution_count": null,
   "metadata": {},
   "outputs": [],
   "source": [
    "# Funtion Convert Matrix Img to Byte\n",
    "def ImgToByte(filename):\n",
    "    img = cv2.imread(filename) \n",
    "    ret, frame_png = cv2.imencode('.png', img)\n",
    "    img_byte = frame_png.tobytes()\n",
    "    return img_byte\n",
    "\n",
    "# create layout & window\n",
    "layout = [[ \n",
    "            sg.Text(\"Image File\"),\n",
    "            sg.InputText(size=(25, 1), enable_events=True, key=\"image_path\"),\n",
    "            sg.FileBrowse(file_types=((\"Image\", \"*.png\"),(\"Image\", \"*.jpg\"))) \n",
    "          ],\n",
    "          [ \n",
    "            sg.Image(filename='', key='image_data') \n",
    "          ]]\n",
    "\n",
    "window = sg.Window(title=\"Image Browse & Viewer\", finalize=True, layout=layout, margins=(10, 10))\n",
    "\n",
    "# handling event\n",
    "while True :\n",
    "    event, values = window.read()\n",
    "    print(event, values)\n",
    "    if event == sg.WIN_CLOSED :\n",
    "        break\n",
    "    if event == 'image_path' :\n",
    "        filename = values['image_path']\n",
    "        # read image & convert to byte\n",
    "        img_byte = ImgToByte(filename = filename)\n",
    "        # update image widget        \n",
    "        window['image_data'].update(data=img_byte)\n",
    "\n",
    "window.close()"
   ]
  },
  {
   "cell_type": "code",
   "execution_count": null,
   "metadata": {},
   "outputs": [],
   "source": []
  },
  {
   "cell_type": "markdown",
   "metadata": {},
   "source": [
    "### Task\n",
    "- Gabungkan program **11. Widget Browse File (Browse Image & View)** dengan program **10. Tab & Tab Group** agar layout browsefile & image preview nya ada di Tab 1."
   ]
  },
  {
   "cell_type": "markdown",
   "metadata": {},
   "source": [
    "___\n",
    "### 12. Widget Browse File (Browse Image & View) | Add placeholder empty image before read image"
   ]
  },
  {
   "cell_type": "code",
   "execution_count": null,
   "metadata": {},
   "outputs": [],
   "source": [
    "# Funtion Convert Matrix Img to Byte\n",
    "def ImgToByte(filename):\n",
    "    img = cv2.imread(filename) \n",
    "    ret, frame_png = cv2.imencode('.png', img)\n",
    "    img_byte = frame_png.tobytes()\n",
    "    return img_byte\n",
    "\n",
    "# create layout & window\n",
    "layout = [[ \n",
    "            sg.Text(\"Image File\"),\n",
    "            sg.InputText(size=(25, 1), enable_events=True, key=\"image_path\"),\n",
    "            sg.FileBrowse(file_types=((\"Image\", \"*.png\"),(\"Image\", \"*.jpg\"))) \n",
    "          ],\n",
    "          [ \n",
    "            sg.Image(filename='empty.png', key='image_data') \n",
    "          ]]\n",
    "\n",
    "window = sg.Window(title=\"Image Browse & Viewer\", finalize=True, layout=layout, margins=(10, 10))\n",
    "\n",
    "# handling event\n",
    "while True :\n",
    "    event, values = window.read()\n",
    "    print(event, values)\n",
    "    if event == sg.WIN_CLOSED :\n",
    "        break\n",
    "    if event == 'image_path' :\n",
    "        filename = values['image_path']\n",
    "        # read image & convert to byte\n",
    "        img_byte = ImgToByte(filename = filename)\n",
    "        # update image widget        \n",
    "        window['image_data'].update(data=img_byte)\n",
    "\n",
    "window.close()"
   ]
  },
  {
   "cell_type": "code",
   "execution_count": null,
   "metadata": {},
   "outputs": [],
   "source": []
  },
  {
   "cell_type": "markdown",
   "metadata": {},
   "source": [
    "___\n",
    "### 13. Widget Listbox (Read Dataset Image and Show in List Box)\n",
    "- `sg.Listbox` digunakan untuk menampilkan listbox widget\n",
    "    - `enable_events=True` pada `sg.Listbox` akan mengakibatkan widget listbox mentrigger event ketika item nya di click"
   ]
  },
  {
   "cell_type": "code",
   "execution_count": null,
   "metadata": {},
   "outputs": [],
   "source": [
    "layout = [\n",
    "            [\n",
    "                sg.Text(\"Dataset Folder\"),\n",
    "                sg.In(size=(25, 1), enable_events=True, key=\"Dataset_Folder\"),\n",
    "                sg.FolderBrowse(),\n",
    "            ],\n",
    "            [\n",
    "                sg.Listbox(values=[], enable_events=True, size=(40, 20), key=\"File_List\")\n",
    "            ],\n",
    "        ]\n",
    "\n",
    "\n",
    "window = sg.Window(\"Dataset Reader\", layout=layout, margins=(10, 10))\n",
    "\n",
    "\n",
    "while True:\n",
    "    event, values = window.read(timeout=25)\n",
    "    if event == \"Exit\" or event == sg.WIN_CLOSED:\n",
    "        break\n",
    "        \n",
    "    if event == \"Dataset_Folder\":\n",
    "        # baca root folder yang di browse\n",
    "        root_folder = values[\"Dataset_Folder\"]\n",
    "\n",
    "        # baca seluruh file & folder untuk root folder yang di browse\n",
    "        file_paths = []\n",
    "        for folder in os.listdir(root_folder):\n",
    "            for file in os.listdir(os.path.join(root_folder, folder)):\n",
    "                path = os.path.join(folder, file)\n",
    "                file_paths.append(path)\n",
    "        \n",
    "        # update Listbox widget dengan list nama-nama file yang terbaca\n",
    "        window[\"File_List\"].update(file_paths)\n",
    "    \n",
    "    elif event == \"File_List\":  \n",
    "        # print jika element Listbox di click\n",
    "        path = values[\"File_List\"][0]\n",
    "        print(path)\n",
    "\n",
    "        \n",
    "window.close()"
   ]
  },
  {
   "cell_type": "code",
   "execution_count": null,
   "metadata": {},
   "outputs": [],
   "source": []
  },
  {
   "cell_type": "markdown",
   "metadata": {},
   "source": [
    "### 14. [Gabungan] Widget Listbox (Read Dataset Image and Show in List Box) & Widget Browse File (Browse Image & View)"
   ]
  },
  {
   "cell_type": "code",
   "execution_count": null,
   "metadata": {},
   "outputs": [],
   "source": [
    "# Funtion Convert Matrix Img to Byte\n",
    "def ImgToByte(filename):\n",
    "    img = cv2.imread(filename) \n",
    "    ret, frame_png = cv2.imencode('.png', img)\n",
    "    img_byte = frame_png.tobytes()\n",
    "    return img_byte\n",
    "\n",
    "layout_left = [\n",
    "                    [\n",
    "                        sg.Text(\"Dataset Folder\"),\n",
    "                        sg.In(size=(25, 1), enable_events=True, key=\"Dataset_Folder\"),\n",
    "                        sg.FolderBrowse(),\n",
    "                    ],\n",
    "                    [\n",
    "                        sg.Listbox(values=[], enable_events=True, size=(40, 20), key=\"File_List\")\n",
    "                    ],\n",
    "                ]\n",
    "\n",
    "layout_right = [\n",
    "                    [\n",
    "                        sg.Image(filename='empty.png', key='image_data') \n",
    "                    ]\n",
    "                ]\n",
    "\n",
    "\n",
    "layout = [\n",
    "            [\n",
    "                sg.Column(layout_left),\n",
    "                sg.VSeperator(),\n",
    "                sg.Column(layout_right),\n",
    "            ]\n",
    "        ]\n",
    "\n",
    "window = sg.Window(\"Dataset Reader\", layout=layout, margins=(10, 10))\n",
    "\n",
    "\n",
    "while True:\n",
    "    event, values = window.read(timeout=25)\n",
    "    if event == \"Exit\" or event == sg.WIN_CLOSED:\n",
    "        break\n",
    "        \n",
    "    if event == \"Dataset_Folder\":\n",
    "        # baca root folder yang di browse\n",
    "        root_folder = values[\"Dataset_Folder\"]\n",
    "\n",
    "        # baca seluruh file & folder untuk root folder yang di browse\n",
    "        file_paths = []\n",
    "        for folder in os.listdir(root_folder):\n",
    "            for file in os.listdir(os.path.join(root_folder, folder)):\n",
    "                path = os.path.join(folder, file)\n",
    "                file_paths.append(path)\n",
    "        \n",
    "        # update Listbox widget dengan list nama-nama file yang terbaca\n",
    "        window[\"File_List\"].update(file_paths)\n",
    "    \n",
    "    elif event == \"File_List\":  \n",
    "        root_folder = values[\"Dataset_Folder\"]\n",
    "        path = values[\"File_List\"][0]\n",
    "\n",
    "        img_byte = ImgToByte(filename = os.path.join(root_folder, path))\n",
    "     \n",
    "        window['image_data'].update(data=img_byte)\n",
    "\n",
    "        \n",
    "window.close()"
   ]
  },
  {
   "cell_type": "code",
   "execution_count": null,
   "metadata": {},
   "outputs": [],
   "source": []
  },
  {
   "cell_type": "code",
   "execution_count": null,
   "metadata": {},
   "outputs": [],
   "source": []
  },
  {
   "cell_type": "markdown",
   "metadata": {},
   "source": [
    "### Homework\n",
    "\n",
    "- Modifikasi program **14. [Gabungan] Widget Listbox (Read Dataset Image and Show in List Box) & Widget Browse File (Browse Image & View)** agar dapat menampilakn gambar dalam ukuran 200x200 pixel.<br><br>"
   ]
  },
  {
   "cell_type": "code",
   "execution_count": null,
   "metadata": {},
   "outputs": [],
   "source": [
    "def ImgToByte(filename):\n",
    "    img = cv2.imread(filename) \n",
    "    # resize image here using cv2.resize\n",
    "    ret, frame_png = cv2.imencode('.png', img)\n",
    "    #.....\n",
    "    #.....\n",
    "    #...."
   ]
  },
  {
   "cell_type": "code",
   "execution_count": null,
   "metadata": {},
   "outputs": [],
   "source": []
  }
 ],
 "metadata": {
  "kernelspec": {
   "display_name": "Python [conda env:opencv_env]",
   "language": "python",
   "name": "conda-env-opencv_env-py"
  },
  "language_info": {
   "codemirror_mode": {
    "name": "ipython",
    "version": 3
   },
   "file_extension": ".py",
   "mimetype": "text/x-python",
   "name": "python",
   "nbconvert_exporter": "python",
   "pygments_lexer": "ipython3",
   "version": "3.8.6"
  }
 },
 "nbformat": 4,
 "nbformat_minor": 4
}
