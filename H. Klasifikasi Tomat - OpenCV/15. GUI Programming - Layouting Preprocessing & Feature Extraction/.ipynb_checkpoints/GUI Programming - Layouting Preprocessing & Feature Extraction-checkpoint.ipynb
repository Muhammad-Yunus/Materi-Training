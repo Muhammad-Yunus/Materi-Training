{
 "cells": [
  {
   "cell_type": "markdown",
   "metadata": {},
   "source": [
    "# Pertemuan 15\n",
    "\n",
    "- Load Preprocessing & Feature Extraction Class as Module\n",
    "- Mockup Application\n",
    "- Layouting Preprocessing\n",
    "- Layouting Feature Extraction"
   ]
  },
  {
   "cell_type": "code",
   "execution_count": 2,
   "metadata": {},
   "outputs": [],
   "source": [
    "import os\n",
    "import cv2\n",
    "import json\n",
    "import numpy as np\n",
    "import PySimpleGUI as sg \n",
    "import matplotlib.pyplot as plt"
   ]
  },
  {
   "cell_type": "markdown",
   "metadata": {},
   "source": [
    "## 1. Load Preprocessing & Feature Extraction Class as Module"
   ]
  },
  {
   "cell_type": "markdown",
   "metadata": {},
   "source": [
    "- File `CoreService.py` menyimpan Class `Preprocessing()` dan `FeatureExtration()`\n",
    "- Dua class tersebut dapat digunakan dengan cara import module (seperti import library)"
   ]
  },
  {
   "cell_type": "code",
   "execution_count": 3,
   "metadata": {},
   "outputs": [],
   "source": [
    "from CoreService import Preprocessing\n",
    "from CoreService import FeatureExtraction"
   ]
  },
  {
   "cell_type": "markdown",
   "metadata": {},
   "source": [
    "- Create Object Preprocessing & Run Preprocessing Data"
   ]
  },
  {
   "cell_type": "code",
   "execution_count": 4,
   "metadata": {},
   "outputs": [],
   "source": [
    "Prepro = Preprocessing(DATASET_FOLDER = \"Dataset_Tomat/\")"
   ]
  },
  {
   "cell_type": "code",
   "execution_count": 5,
   "metadata": {},
   "outputs": [],
   "source": [
    "Prepro.ImageRead()\n",
    "Prepro.RangeTresholding()\n",
    "Prepro.EdgeDetection()\n",
    "Prepro.FindContour()\n",
    "Prepro.FilterContour()"
   ]
  },
  {
   "cell_type": "code",
   "execution_count": 6,
   "metadata": {
    "scrolled": true
   },
   "outputs": [],
   "source": [
    "Prepro.CropByContour()\n",
    "Prepro.Resize()"
   ]
  },
  {
   "cell_type": "code",
   "execution_count": 7,
   "metadata": {},
   "outputs": [],
   "source": [
    "Prepro.SaveAllImage(RESIZED_FOLDER = \"resized_tomato/\")"
   ]
  },
  {
   "cell_type": "markdown",
   "metadata": {},
   "source": [
    "- Create Object Feature Extraction & Run Feature Extration Data"
   ]
  },
  {
   "cell_type": "code",
   "execution_count": 8,
   "metadata": {},
   "outputs": [],
   "source": [
    "Feature = FeatureExtraction(PREPROCESSED_DATASET_FOLDER = \"resized_tomato/\")"
   ]
  },
  {
   "cell_type": "code",
   "execution_count": 9,
   "metadata": {},
   "outputs": [],
   "source": [
    "Feature.ImageRead()\n",
    "Feature.CalcStatisticalFeature()"
   ]
  },
  {
   "cell_type": "code",
   "execution_count": 10,
   "metadata": {},
   "outputs": [],
   "source": [
    "Feature.CalcGLCMMatrix()\n",
    "Feature.CalcGLCMTextureFeature()"
   ]
  },
  {
   "cell_type": "code",
   "execution_count": 13,
   "metadata": {},
   "outputs": [
    {
     "data": {
      "text/plain": [
       "{'mean': 23.704671444023795,\n",
       " 'std': 28.034154685093235,\n",
       " 'skewness': 1.4198125332816915}"
      ]
     },
     "execution_count": 13,
     "metadata": {},
     "output_type": "execute_result"
    }
   ],
   "source": [
    "Feature.statistical_features[0]['b']"
   ]
  },
  {
   "cell_type": "code",
   "execution_count": 15,
   "metadata": {},
   "outputs": [
    {
     "data": {
      "text/plain": [
       "{'correlation': [0.8277290936528066,\n",
       "  0.7784459436477297,\n",
       "  0.8377363601021491,\n",
       "  0.7822907880889438],\n",
       " 'homogeneity': [0.3308362272252789,\n",
       "  0.30638970798591003,\n",
       "  0.3300606434654482,\n",
       "  0.30224213401350175],\n",
       " 'contrast': [271.10774513803887,\n",
       "  349.18672412024256,\n",
       "  255.43832449340408,\n",
       "  343.12694504291954],\n",
       " 'energy': [0.1848310539912528,\n",
       "  0.17585071170520006,\n",
       "  0.1853118066620455,\n",
       "  0.17543764986195537]}"
      ]
     },
     "execution_count": 15,
     "metadata": {},
     "output_type": "execute_result"
    }
   ],
   "source": [
    "Feature.glcm_feature_list[0]['b']"
   ]
  },
  {
   "cell_type": "markdown",
   "metadata": {},
   "source": [
    "- Exception / Error Handling"
   ]
  },
  {
   "cell_type": "code",
   "execution_count": 17,
   "metadata": {},
   "outputs": [
    {
     "ename": "ZeroDivisionError",
     "evalue": "division by zero",
     "output_type": "error",
     "traceback": [
      "\u001b[1;31m---------------------------------------------------------------------------\u001b[0m",
      "\u001b[1;31mZeroDivisionError\u001b[0m                         Traceback (most recent call last)",
      "\u001b[1;32m<ipython-input-17-5ce971d91d9e>\u001b[0m in \u001b[0;36m<module>\u001b[1;34m\u001b[0m\n\u001b[1;32m----> 1\u001b[1;33m \u001b[1;36m1\u001b[0m\u001b[1;33m/\u001b[0m\u001b[1;36m0\u001b[0m\u001b[1;33m\u001b[0m\u001b[1;33m\u001b[0m\u001b[0m\n\u001b[0m\u001b[0;32m      2\u001b[0m \u001b[1;33m\u001b[0m\u001b[0m\n\u001b[0;32m      3\u001b[0m \u001b[0mprint\u001b[0m\u001b[1;33m(\u001b[0m\u001b[1;34m\"hello world\"\u001b[0m\u001b[1;33m)\u001b[0m\u001b[1;33m\u001b[0m\u001b[1;33m\u001b[0m\u001b[0m\n",
      "\u001b[1;31mZeroDivisionError\u001b[0m: division by zero"
     ]
    }
   ],
   "source": [
    "1/0\n",
    "\n",
    "print(\"hello world\")"
   ]
  },
  {
   "cell_type": "code",
   "execution_count": 19,
   "metadata": {},
   "outputs": [
    {
     "name": "stdin",
     "output_type": "stream",
     "text": [
      "a: 0\n"
     ]
    },
    {
     "name": "stdout",
     "output_type": "stream",
     "text": [
      "error operation!\n",
      "hello world\n"
     ]
    }
   ],
   "source": [
    "a = int(input(\"a:\"))\n",
    "\n",
    "try :\n",
    "    b = 1/a\n",
    "    print(\"1/%d=%.2f\" % (a, b))\n",
    "except :\n",
    "    print(\"error operation!\")\n",
    "\n",
    "print(\"hello world\")"
   ]
  },
  {
   "cell_type": "markdown",
   "metadata": {},
   "source": [
    "- System Error Message"
   ]
  },
  {
   "cell_type": "code",
   "execution_count": 20,
   "metadata": {},
   "outputs": [
    {
     "name": "stdin",
     "output_type": "stream",
     "text": [
      "a: 0\n"
     ]
    },
    {
     "name": "stdout",
     "output_type": "stream",
     "text": [
      "[ERROR] division by zero\n"
     ]
    }
   ],
   "source": [
    "a = int(input(\"a:\"))\n",
    "\n",
    "try :\n",
    "    b = 1/a\n",
    "    print(\"1/%d=%.2f\" % (a, b))\n",
    "except Exception as e:\n",
    "    print(\"[ERROR] %s\" % e)\n"
   ]
  },
  {
   "cell_type": "markdown",
   "metadata": {},
   "source": [
    "- Problem Layout as varible in Jupyter Lab "
   ]
  },
  {
   "cell_type": "code",
   "execution_count": 26,
   "metadata": {},
   "outputs": [],
   "source": [
    "Layout = [[sg.Text(\"Hello World!\")]]"
   ]
  },
  {
   "cell_type": "code",
   "execution_count": 27,
   "metadata": {},
   "outputs": [],
   "source": [
    "window = sg.Window(\"My Application\", layout=Layout, margins=(200, 100))\n",
    "window.read()\n",
    "window.close()"
   ]
  },
  {
   "cell_type": "markdown",
   "metadata": {},
   "source": [
    "- Layout as Function"
   ]
  },
  {
   "cell_type": "code",
   "execution_count": 28,
   "metadata": {},
   "outputs": [],
   "source": [
    "def Layout():\n",
    "    return [[sg.Text(\"Hello World!\")]]"
   ]
  },
  {
   "cell_type": "code",
   "execution_count": 30,
   "metadata": {},
   "outputs": [],
   "source": [
    "window = sg.Window(\"My Application\", layout=Layout(), margins=(200, 100))\n",
    "window.read()\n",
    "window.close()"
   ]
  },
  {
   "cell_type": "markdown",
   "metadata": {},
   "source": [
    "## 2. Mockup Application"
   ]
  },
  {
   "cell_type": "markdown",
   "metadata": {},
   "source": [
    "- **Screen Preprocessing** <br>\n",
    "<img src=\"resource/Screen4.png\"></img>\n",
    "\n",
    "- **Screen Feature Extraction** <br>\n",
    "<img src=\"resource/Screen3.png\"></img>\n",
    "\n",
    "- **Screen Training Model** <br>\n",
    "<img src=\"resource/Screen2.png\"></img>\n",
    "\n",
    "- **Screen Predict Data** <br>\n",
    "<img src=\"resource/Screen1.png\"></img>"
   ]
  },
  {
   "cell_type": "code",
   "execution_count": null,
   "metadata": {},
   "outputs": [],
   "source": []
  },
  {
   "cell_type": "markdown",
   "metadata": {},
   "source": [
    "## 3. Layouting Preprocessing"
   ]
  },
  {
   "cell_type": "markdown",
   "metadata": {},
   "source": [
    "<img src=\"resource/Screen4.png\"></img>"
   ]
  },
  {
   "cell_type": "code",
   "execution_count": 31,
   "metadata": {},
   "outputs": [],
   "source": [
    "# Layout Predict Data\n",
    "def layout_PredictData():\n",
    "    return [[sg.Text(\"Under Development\")]]"
   ]
  },
  {
   "cell_type": "code",
   "execution_count": 32,
   "metadata": {},
   "outputs": [],
   "source": [
    "# Layout Train Model\n",
    "def layout_TrainingModel():\n",
    "    return [[sg.Text(\"Under Development\")]]"
   ]
  },
  {
   "cell_type": "code",
   "execution_count": 33,
   "metadata": {},
   "outputs": [],
   "source": [
    "# Layout Feature Extraction\n",
    "def layout_FeatureExtraction():\n",
    "    return [[sg.Text(\"Under Development\")]]"
   ]
  },
  {
   "cell_type": "code",
   "execution_count": 34,
   "metadata": {},
   "outputs": [],
   "source": [
    "# Layout Preprocessing\n",
    "def layout_Preprocessing_left():\n",
    "    return [\n",
    "                [\n",
    "                    sg.Text(\"Dataset Folder\", key=\"label_browse\"),\n",
    "                    sg.In(size=(25, 1), enable_events=True, key=\"Dataset_Folder\"),\n",
    "                    sg.FolderBrowse(),\n",
    "                ],\n",
    "                [\n",
    "                    sg.Listbox(values=[], enable_events=True, size=(40, 20), key=\"File_List\")\n",
    "                ],\n",
    "            ]\n",
    "\n",
    "def layout_Preprocessing_right():\n",
    "    return [\n",
    "                [sg.Button(\"Run Preprocessing\", key=\"preprocessing\"), sg.Button(\"  Reset  \", key=\"reset\", visible=False)],\n",
    "                [sg.Image(filename='empty.png', key=\"image_data\")]\n",
    "            ]\n",
    "\n",
    "def layout_Preprocessing(): \n",
    "    return [\n",
    "                [\n",
    "                    sg.Column(layout_Preprocessing_left()),\n",
    "                    sg.VSeperator(),\n",
    "                    sg.Column(layout_Preprocessing_right()),\n",
    "                ]\n",
    "            ]"
   ]
  },
  {
   "cell_type": "code",
   "execution_count": 35,
   "metadata": {},
   "outputs": [],
   "source": [
    "# Main Layout\n",
    "\n",
    "def Layout():\n",
    "    return [[sg.TabGroup([\n",
    "                    [sg.Tab('Predict Data', layout_PredictData()), \n",
    "                     sg.Tab('Training Model', layout_TrainingModel()),\n",
    "                     sg.Tab('Feature Extraction', layout_FeatureExtraction()), \n",
    "                     sg.Tab('Preprocessing', layout_Preprocessing())]\n",
    "                    ])\n",
    "           ]]"
   ]
  },
  {
   "cell_type": "code",
   "execution_count": 36,
   "metadata": {},
   "outputs": [],
   "source": [
    "# Funtion Convert Matrix Img to Byte\n",
    "def ImgToByte(filename):\n",
    "    img = cv2.imread(filename) \n",
    "    ret, frame_png = cv2.imencode('.png', img)\n",
    "    img_byte = frame_png.tobytes()\n",
    "    return img_byte"
   ]
  },
  {
   "cell_type": "code",
   "execution_count": 37,
   "metadata": {},
   "outputs": [],
   "source": [
    "def GetFileList(root_folder):\n",
    "    # baca seluruh file & folder untuk root folder yang di browse\n",
    "    file_paths = []\n",
    "    for folder in os.listdir(root_folder):\n",
    "        for file in os.listdir(os.path.join(root_folder, folder)):\n",
    "            path = os.path.join(folder, file)\n",
    "            file_paths.append(path)\n",
    "    return file_paths"
   ]
  },
  {
   "cell_type": "code",
   "execution_count": 38,
   "metadata": {},
   "outputs": [],
   "source": [
    "# Main Program\n",
    "PREPROCESSED_FOLDER = \"resized_tomato/\"\n",
    "\n",
    "window = sg.Window(\"Tomato Grading Systems\", layout=Layout(), margins=(10, 10), finalize=True)\n",
    "window.set_min_size((800,500)) # akan mengatur minimum window size , w 800px, h 500px\n",
    "\n",
    "while True:\n",
    "    event, values = window.read(timeout=25)\n",
    "    if event == \"Exit\" or event == sg.WIN_CLOSED:\n",
    "        break\n",
    "        \n",
    "    if event == \"Dataset_Folder\":\n",
    "        # baca root folder yang di browse\n",
    "        root_folder = values[\"Dataset_Folder\"]\n",
    "        \n",
    "        file_paths = GetFileList(root_folder)\n",
    "        \n",
    "        # update Listbox widget dengan list nama-nama file yang terbaca\n",
    "        window[\"File_List\"].update(file_paths)\n",
    "        \n",
    "    elif event == \"File_List\":  \n",
    "        root_folder = values[\"Dataset_Folder\"]\n",
    "        path = values[\"File_List\"][0]\n",
    "        file_path = os.path.join(root_folder, path).replace(\"\\\\\",\"/\")\n",
    "        img_byte = ImgToByte(filename = file_path)\n",
    "     \n",
    "        window['image_data'].update(data=img_byte, size=(500,400)) \n",
    "        \n",
    "    elif event == \"preprocessing\" :\n",
    "        root_folder = values[\"Dataset_Folder\"]\n",
    "        if root_folder == \"\":\n",
    "            sg.popup(\"Please Select Dataset Folder First!\") # show Popup if Dataset not selected\n",
    "        else :\n",
    "            Prepro = Preprocessing(DATASET_FOLDER = root_folder)\n",
    "            Prepro.ImageRead()\n",
    "            Prepro.RangeTresholding()\n",
    "            Prepro.EdgeDetection()\n",
    "            Prepro.FindContour()\n",
    "            Prepro.FilterContour()\n",
    "            Prepro.CropByContour()\n",
    "            Prepro.Resize()\n",
    "            PREPROCESSED_PATH = os.path.join(os.path.dirname(root_folder), PREPROCESSED_FOLDER).replace(\"\\\\\",\"/\")\n",
    "            Prepro.SaveAllImage(RESIZED_FOLDER = PREPROCESSED_PATH) \n",
    "            sg.popup(\"Preprocessed data saved in folder %s\" % PREPROCESSED_FOLDER) # show Popup to notify preprocessed data saved successfully!\n",
    "            \n",
    "            # Cleanup window\n",
    "            window['image_data'].update(filename=\"empty.png\")\n",
    "            window['Dataset_Folder'].update(value=PREPROCESSED_PATH)\n",
    "        \n",
    "            file_paths = GetFileList(PREPROCESSED_PATH)\n",
    "            window['File_List'].update(file_paths)\n",
    "            window['label_browse'].update(value=\"Preprocessed Folder\")\n",
    "            window['preprocessing'].update(visible=False)\n",
    "            window['reset'].update(visible=True)\n",
    "        \n",
    "window.close()"
   ]
  },
  {
   "cell_type": "code",
   "execution_count": null,
   "metadata": {},
   "outputs": [],
   "source": [
    "c:/user/yunus/Dataset_Tomat"
   ]
  },
  {
   "cell_type": "code",
   "execution_count": null,
   "metadata": {},
   "outputs": [],
   "source": [
    "c:/user/yunus/resized_tomato"
   ]
  },
  {
   "cell_type": "code",
   "execution_count": null,
   "metadata": {},
   "outputs": [],
   "source": []
  },
  {
   "cell_type": "code",
   "execution_count": null,
   "metadata": {},
   "outputs": [],
   "source": []
  },
  {
   "cell_type": "markdown",
   "metadata": {},
   "source": [
    "## 4. Layouting Feature Extraction\n",
    "\n",
    "- Ubah function `layout_FeatureExtraction()` diatas menjadi seperti berikut,"
   ]
  },
  {
   "cell_type": "code",
   "execution_count": 39,
   "metadata": {},
   "outputs": [],
   "source": [
    "# Layout Predict Data\n",
    "def layout_PredictData():\n",
    "    return [[sg.Text(\"Under Development\")]]"
   ]
  },
  {
   "cell_type": "code",
   "execution_count": 40,
   "metadata": {},
   "outputs": [],
   "source": [
    "# Layout Train Model\n",
    "def layout_TrainingModel():\n",
    "    return [[sg.Text(\"Under Development\")]]"
   ]
  },
  {
   "cell_type": "code",
   "execution_count": 41,
   "metadata": {},
   "outputs": [],
   "source": [
    "# Layout Feature Extraction\n",
    "def layout_FeatureExtraction_left():\n",
    "    return [\n",
    "                [\n",
    "                    sg.Text(\"Preprocessed Folder\", key=\"preprocess_label\"),\n",
    "                    sg.In(size=(25, 1), enable_events=True, key=\"Preprocess_Folder\"),\n",
    "                    sg.FolderBrowse(),\n",
    "                ],\n",
    "                [\n",
    "                    sg.Listbox(values=[], enable_events=True, size=(40, 20), key=\"Preprocess_File_List\")\n",
    "                ],\n",
    "            ]\n",
    "\n",
    "def layout_FeatureExtraction_right():\n",
    "    return [\n",
    "                [sg.Button(\"Run Feature Extraction\", key=\"feature_extraction\"), sg.Button(\"  Reset  \", key=\"feature_reset\", visible=False)],\n",
    "                [\n",
    "                    sg.Column([[\n",
    "                                sg.Text(\"<no feature to show>\", \n",
    "                                        key=\"feature_output\", \n",
    "                                        size=(50,100), \n",
    "                                        background_color=\"#f0f3f7\", \n",
    "                                        text_color=\"#000000\")\n",
    "                            ]], scrollable=True, vertical_scroll_only=True, size=(400,350))\n",
    "                ]\n",
    "            ]\n",
    "\n",
    "def layout_FeatureExtraction(): \n",
    "    return [\n",
    "                [\n",
    "                    sg.Column(layout_FeatureExtraction_left()),\n",
    "                    sg.VSeperator(),\n",
    "                    sg.Column(layout_FeatureExtraction_right()),\n",
    "                ]\n",
    "            ]"
   ]
  },
  {
   "cell_type": "code",
   "execution_count": 42,
   "metadata": {},
   "outputs": [],
   "source": [
    "# Layout Preprocessing\n",
    "def layout_Preprocessing_left():\n",
    "    return [\n",
    "                [\n",
    "                    sg.Text(\"Dataset Folder\", key=\"label_browse\"),\n",
    "                    sg.In(size=(25, 1), enable_events=True, key=\"Dataset_Folder\"),\n",
    "                    sg.FolderBrowse(),\n",
    "                ],\n",
    "                [\n",
    "                    sg.Listbox(values=[], enable_events=True, size=(40, 20), key=\"File_List\")\n",
    "                ],\n",
    "            ]\n",
    "\n",
    "def layout_Preprocessing_right():\n",
    "    return [\n",
    "                [sg.Button(\"Run Preprocessing\", key=\"preprocessing\"), sg.Button(\"  Reset  \", key=\"reset\", visible=False)],\n",
    "                [sg.Image(filename='empty.png', key=\"image_data\")]\n",
    "            ]\n",
    "\n",
    "def layout_Preprocessing(): \n",
    "    return [\n",
    "                [\n",
    "                    sg.Column(layout_Preprocessing_left()),\n",
    "                    sg.VSeperator(),\n",
    "                    sg.Column(layout_Preprocessing_right()),\n",
    "                ]\n",
    "            ]"
   ]
  },
  {
   "cell_type": "code",
   "execution_count": 43,
   "metadata": {},
   "outputs": [],
   "source": [
    "# Main Layout\n",
    "\n",
    "def Layout():\n",
    "    return [[sg.TabGroup([\n",
    "                    [sg.Tab('Predict Data', layout_PredictData()), \n",
    "                     sg.Tab('Training Model', layout_TrainingModel()),\n",
    "                     sg.Tab('Feature Extraction', layout_FeatureExtraction()), \n",
    "                     sg.Tab('Preprocessing', layout_Preprocessing())]\n",
    "                    ])\n",
    "           ]]"
   ]
  },
  {
   "cell_type": "code",
   "execution_count": 44,
   "metadata": {},
   "outputs": [],
   "source": [
    "# Funtion Convert Matrix Img to Byte\n",
    "def ImgToByte(filename):\n",
    "    img = cv2.imread(filename) \n",
    "    ret, frame_png = cv2.imencode('.png', img)\n",
    "    img_byte = frame_png.tobytes()\n",
    "    return img_byte"
   ]
  },
  {
   "cell_type": "code",
   "execution_count": 45,
   "metadata": {},
   "outputs": [],
   "source": [
    "def GetFileList(root_folder):\n",
    "    # baca seluruh file & folder untuk root folder yang di browse\n",
    "    file_paths = []\n",
    "    for folder in os.listdir(root_folder):\n",
    "        for file in os.listdir(os.path.join(root_folder, folder)):\n",
    "            path = os.path.join(folder, file)\n",
    "            file_paths.append(path)\n",
    "    return file_paths"
   ]
  },
  {
   "cell_type": "code",
   "execution_count": 47,
   "metadata": {},
   "outputs": [],
   "source": [
    "# Main Program\n",
    "global Feature\n",
    "PREPROCESSED_FOLDER = \"resized_tomato/\"\n",
    "window = sg.Window(\"Tomato Grading Systems\", layout=Layout(), margins=(10, 10), finalize=True)\n",
    "window.set_min_size((800,450))\n",
    "\n",
    "while True:\n",
    "    event, values = window.read(timeout=25)\n",
    "    if event == \"Exit\" or event == sg.WIN_CLOSED:\n",
    "        break\n",
    "        \n",
    "    # Event Handler Preprocessing\n",
    "    if event == \"Dataset_Folder\":\n",
    "        # baca root folder yang di browse\n",
    "        root_folder = values[\"Dataset_Folder\"]\n",
    "        \n",
    "        file_paths = GetFileList(root_folder)\n",
    "        \n",
    "        # update Listbox widget dengan list nama-nama file yang terbaca\n",
    "        window[\"File_List\"].update(file_paths)\n",
    "        \n",
    "    elif event == \"File_List\":  \n",
    "        root_folder = values[\"Dataset_Folder\"]\n",
    "        path = values[\"File_List\"][0]\n",
    "        file_path = os.path.join(root_folder, path).replace(\"\\\\\",\"/\")\n",
    "        img_byte = ImgToByte(filename = file_path)\n",
    "     \n",
    "        window['image_data'].update(data=img_byte, size=(500,400)) \n",
    "        \n",
    "    elif event == \"preprocessing\" :\n",
    "        root_folder = values[\"Dataset_Folder\"]\n",
    "        if root_folder == \"\":\n",
    "            sg.popup(\"Please Select Dataset Folder First!\") # show Popup if Dataset not selected\n",
    "        else :\n",
    "            Prepro = Preprocessing(DATASET_FOLDER = root_folder)\n",
    "            Prepro.ImageRead()\n",
    "            Prepro.RangeTresholding()\n",
    "            Prepro.EdgeDetection()\n",
    "            Prepro.FindContour()\n",
    "            Prepro.FilterContour()\n",
    "            Prepro.CropByContour()\n",
    "            Prepro.Resize()\n",
    "            PREPROCESSED_PATH = os.path.join(os.path.dirname(root_folder), PREPROCESSED_FOLDER).replace(\"\\\\\",\"/\")\n",
    "            Prepro.SaveAllImage(RESIZED_FOLDER = PREPROCESSED_PATH) \n",
    "            sg.popup(\"Preprocessed data saved in folder %s\" % PREPROCESSED_FOLDER) # show Popup to notify preprocessed data saved successfully!\n",
    "            \n",
    "            # Cleanup window\n",
    "            window['image_data'].update(filename=\"empty.png\")\n",
    "            window['Dataset_Folder'].update(value=PREPROCESSED_PATH)\n",
    "        \n",
    "            file_paths = GetFileList(PREPROCESSED_PATH)\n",
    "            window['File_List'].update(file_paths)\n",
    "            window['label_browse'].update(value=\"Preprocessed Folder\")\n",
    "            window['preprocessing'].update(visible=False)\n",
    "            window['reset'].update(visible=True)\n",
    "            \n",
    "    # Event Handler Feature Extrcation\n",
    "    elif event == \"Preprocess_Folder\":\n",
    "        # baca root folder yang di browse\n",
    "        root_folder = values[\"Preprocess_Folder\"]\n",
    "        \n",
    "        file_paths = GetFileList(root_folder)\n",
    "        \n",
    "        # update Listbox widget dengan list nama-nama file yang terbaca\n",
    "        window[\"Preprocess_File_List\"].update(file_paths)\n",
    "        \n",
    "    elif event == \"Preprocess_File_List\":  \n",
    "        root_folder = values[\"Preprocess_Folder\"]\n",
    "        path = values[\"Preprocess_File_List\"][0]\n",
    "        try :\n",
    "            file_paths = GetFileList(root_folder)\n",
    "            idx = file_paths.index(path)\n",
    "\n",
    "            feature_stat = json.dumps(Feature.statistical_features[idx], indent=4, sort_keys=True)\n",
    "            feature_glcm = json.dumps(Feature.glcm_feature_list[idx], indent=4, sort_keys=True)\n",
    "\n",
    "            feature = \"*\"*30 + \"\\n\" + feature_stat + \"\\n\\n\" + \"*\"*30 + \"\\n\" + feature_glcm\n",
    "            window['feature_output'].update(feature)\n",
    "        except Exception as e:\n",
    "            sg.popup(e)\n",
    "        \n",
    "    elif event == \"feature_extraction\" :\n",
    "        root_folder = values[\"Preprocess_Folder\"]\n",
    "        if root_folder == \"\":\n",
    "            sg.popup(\"Please Select Preprocessed Folder First!\") # show Popup if Dataset not selected\n",
    "        else :\n",
    "            Feature = FeatureExtraction(PREPROCESSED_DATASET_FOLDER = root_folder)\n",
    "            Feature.ImageRead()\n",
    "            Feature.CalcStatisticalFeature()\n",
    "            Feature.CalcGLCMMatrix()\n",
    "            Feature.CalcGLCMTextureFeature()\n",
    "            sg.popup(\"Feature Extraction generated successfully! \") # show Popup to notify feature extrcation run successfully!\n",
    "            \n",
    "            # Cleanup window\n",
    "            window['feature_output'].update(\"<no feature to show>\")\n",
    "            window['feature_extraction'].update(visible=False)\n",
    "            window['feature_reset'].update(visible=True)\n",
    "        \n",
    "window.close()\n",
    "del Feature"
   ]
  },
  {
   "cell_type": "code",
   "execution_count": null,
   "metadata": {},
   "outputs": [],
   "source": []
  },
  {
   "cell_type": "code",
   "execution_count": null,
   "metadata": {},
   "outputs": [],
   "source": []
  }
 ],
 "metadata": {
  "kernelspec": {
   "display_name": "Python [conda env:opencv_env]",
   "language": "python",
   "name": "conda-env-opencv_env-py"
  },
  "language_info": {
   "codemirror_mode": {
    "name": "ipython",
    "version": 3
   },
   "file_extension": ".py",
   "mimetype": "text/x-python",
   "name": "python",
   "nbconvert_exporter": "python",
   "pygments_lexer": "ipython3",
   "version": "3.8.6"
  }
 },
 "nbformat": 4,
 "nbformat_minor": 4
}
