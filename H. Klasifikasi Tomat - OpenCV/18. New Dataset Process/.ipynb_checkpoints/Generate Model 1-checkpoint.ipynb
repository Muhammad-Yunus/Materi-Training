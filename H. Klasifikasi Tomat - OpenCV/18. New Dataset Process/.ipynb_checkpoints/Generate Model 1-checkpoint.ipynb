{
 "cells": [
  {
   "cell_type": "markdown",
   "metadata": {},
   "source": [
    "# Training Model 1\n",
    "\n",
    "- 1 sample (6 gambar)-> feature extraction + mlp -> 1 output"
   ]
  },
  {
   "cell_type": "code",
   "execution_count": 1,
   "metadata": {},
   "outputs": [],
   "source": [
    "# import library \n",
    "\n",
    "import os\n",
    "import cv2\n",
    "import shutil\n",
    "import numpy as np\n",
    "import matplotlib.pyplot as plt\n",
    "\n",
    "from scipy.stats import skew\n",
    "from skimage.feature import greycomatrix, greycoprops\n",
    "\n",
    "from sklearn.model_selection import train_test_split\n",
    "from sklearn.preprocessing import LabelEncoder\n",
    "from sklearn.preprocessing import OneHotEncoder\n",
    "\n",
    "from sklearn.metrics import confusion_matrix\n",
    "from sklearn.metrics import classification_report\n",
    "import itertools"
   ]
  },
  {
   "cell_type": "markdown",
   "metadata": {},
   "source": [
    "- create folder for original dataset"
   ]
  },
  {
   "cell_type": "code",
   "execution_count": 21,
   "metadata": {},
   "outputs": [],
   "source": [
    "if not os.path.exists(\"Original_Dataset_Tomat/\") :\n",
    "    os.mkdir(\"Original_Dataset_Tomat\")\n",
    "if not os.path.exists(\"Original_Dataset_Test/\") :\n",
    "    os.mkdir(\"Original_Dataset_Test\")\n",
    "    if not os.path.exists(\"Original_Dataset_Test/Test\"):\n",
    "        os.mkdir(\"Original_Dataset_Test/Test\")"
   ]
  },
  {
   "cell_type": "markdown",
   "metadata": {},
   "source": [
    "- move `Tomat Baik/` & `Tomat Buruk/` dataset folder to `Original_Dataset_Tomat/`\n",
    "- move `Tomat Ujicoba/` dataset folder to `Original_Dataset_Test/Test/`"
   ]
  },
  {
   "cell_type": "markdown",
   "metadata": {},
   "source": [
    "- Resize Original Dataset"
   ]
  },
  {
   "cell_type": "code",
   "execution_count": 2,
   "metadata": {},
   "outputs": [],
   "source": [
    "FOLDER = [[\"Original_Dataset_Tomat/\", \"Dataset_Tomat/\"], \n",
    "          [\"Original_Dataset_Test/\", \"Dataset_Test/\"]]\n",
    "\n",
    "for DATASET_FOLDER, TARGET_DATASET_FOLDER in FOLDER :\n",
    "    for folder in os.listdir(DATASET_FOLDER):\n",
    "        for sample in os.listdir(DATASET_FOLDER + folder):\n",
    "            for file in os.listdir(DATASET_FOLDER + folder + \"/\" + sample) :\n",
    "                img = cv2.imread(DATASET_FOLDER + folder + \"/\" + sample + \"/\" + file)\n",
    "                h, w, c = img.shape\n",
    "                pad = (h - w)//2\n",
    "                img = img[pad : -1*pad, :, :]\n",
    "                img = cv2.resize(img, (500,500))\n",
    "                target_dir = TARGET_DATASET_FOLDER + folder + \"/\" + sample + \"/\"\n",
    "                if not os.path.exists(target_dir) :\n",
    "                    os.makedirs(target_dir)\n",
    "                cv2.imwrite(target_dir + file, img)"
   ]
  },
  {
   "cell_type": "markdown",
   "metadata": {},
   "source": [
    "___\n",
    "# 1. Preprocess Dataset Tomat"
   ]
  },
  {
   "cell_type": "code",
   "execution_count": 2,
   "metadata": {},
   "outputs": [],
   "source": [
    "class Preprocessing : \n",
    "    def __init__(self, DATASET_FOLDER = \"Dataset_Tomat/\"):\n",
    "        self.labels = []\n",
    "        self.image_list = []\n",
    "        self.image_range = []\n",
    "        self.image_edged = []\n",
    "        self.contours_list = []\n",
    "        self.filtered_contours_list = []\n",
    "        self.image_croped = []\n",
    "        self.image_resized = []\n",
    "        self.DATASET_FOLDER = DATASET_FOLDER\n",
    "        \n",
    "        # define range of red color in HSV\n",
    "        self.lower_red = np.array([-10, 75, 50])\n",
    "        self.upper_red = np.array([10, 255, 255])\n",
    "\n",
    "        # define range of green color in HSV\n",
    "        self.lower_green = np.array([35, 100, 50])\n",
    "        self.upper_green = np.array([70, 255, 255])\n",
    "        \n",
    "        # define range of yellow color in HSV\n",
    "        self.lower_yellow = np.array([10, 125, 50])\n",
    "        self.upper_yellow = np.array([35, 255, 255])\n",
    "        \n",
    "        # define range of black color in HSV\n",
    "        self.lower_black = np.array([0, 0, 0])\n",
    "        self.upper_black = np.array([255, 255, 50])\n",
    "        \n",
    "    def ImageRead(self):\n",
    "        for folder in os.listdir(self.DATASET_FOLDER):\n",
    "            for sample in os.listdir(self.DATASET_FOLDER + folder):\n",
    "                sample_imgs = []\n",
    "                for file in os.listdir(self.DATASET_FOLDER + folder + \"/\" + sample) :\n",
    "                    img = cv2.imread(self.DATASET_FOLDER + folder + \"/\" + sample + \"/\" + file)\n",
    "                    sample_imgs.append(img)\n",
    "                self.image_list.append(sample_imgs)\n",
    "                self.labels.append(folder) # append label (name) of image\n",
    "                            \n",
    "    def RangeTresholding(self):\n",
    "        for sample_imgs in self.image_list : \n",
    "            sample_range_imgs = []\n",
    "            for img in sample_imgs :\n",
    "                # convert to hsv\n",
    "                hsv = cv2.cvtColor(img, cv2.COLOR_BGR2HSV)\n",
    "\n",
    "                # apply range thresholding\n",
    "                mask_green = cv2.inRange(hsv.copy(), self.lower_green, self.upper_green)\n",
    "                mask_red = cv2.inRange(hsv.copy(), self.lower_red, self.upper_red)\n",
    "                mask_yellow = cv2.inRange(hsv.copy(), self.lower_yellow, self.upper_yellow)\n",
    "                mask_black = cv2.inRange(hsv.copy(), self.lower_black, self.upper_black)\n",
    "\n",
    "                mask = mask_green + mask_red + mask_yellow + mask_black \n",
    "                res = cv2.bitwise_and(img, img, mask= mask)\n",
    "                sample_range_imgs.append(res)\n",
    "            self.image_range.append(sample_range_imgs)\n",
    "            \n",
    "    def EdgeDetection(self):\n",
    "        for sample_imgs in self.image_range :\n",
    "            sample_eged_imgs = []\n",
    "            for img in sample_imgs :\n",
    "                edged = cv2.Canny(img, 200, 210)\n",
    "                sample_eged_imgs.append(edged)\n",
    "            self.image_edged.append(sample_eged_imgs)\n",
    "            \n",
    "    def FindContour(self):\n",
    "        for sample_imgs in self.image_edged:\n",
    "            sample_contours = []\n",
    "            for img in sample_imgs:\n",
    "                # find contour\n",
    "                contours, hierarchy = cv2.findContours(img, cv2.RETR_EXTERNAL, cv2.CHAIN_APPROX_NONE)\n",
    "                sample_contours.append(contours)\n",
    "            self.contours_list.append(sample_contours)\n",
    "        self.image_edged = []\n",
    "        \n",
    "    def FilterContour(self, min_area=50, min_w=10, min_h=10):\n",
    "        for sample_contours in self.contours_list:\n",
    "            sample_filtered_contours = []\n",
    "            for contours in sample_contours :\n",
    "                filtered_contours = []\n",
    "                for cnt in contours:\n",
    "                    x, y, w, h = cv2.boundingRect(cnt)\n",
    "                    area = w*h\n",
    "                    if not (area < min_area or w < min_w or h < min_h) :\n",
    "                        filtered_contours.append(cnt)\n",
    "                sample_filtered_contours.append(filtered_contours)\n",
    "            self.filtered_contours_list.append(sample_filtered_contours)\n",
    "        \n",
    "    def CropByContour(self):\n",
    "        for i in range(len(self.image_range)): # crop all removed background image by contour \n",
    "            sample_roi = []\n",
    "            for j in range(len(self.image_range[i])):\n",
    "                img = self.image_range[i][j]\n",
    "                cnt = np.concatenate(self.filtered_contours_list[i][j], axis=0) # concate all remaining contour each image\n",
    "                x, y, w, h = cv2.boundingRect(cnt)\n",
    "                roi = img[y:y+h, x:x+w]\n",
    "                sample_roi.append(roi)\n",
    "            self.image_croped.append(sample_roi)\n",
    "        self.image_range = []        \n",
    "        \n",
    "    def Resize(self, size=(172,172)):\n",
    "        for sample_imgs in self.image_croped:\n",
    "            sample_resize = []\n",
    "            for img in sample_imgs :\n",
    "                resized = cv2.resize(img, (size[0], size[1]))\n",
    "                sample_resize.append(resized)\n",
    "            self.image_resized.append(sample_resize)\n",
    "        self.image_croped = []\n",
    "        \n",
    "    def SaveAllImage(self, RESIZED_FOLDER = \"resized_tomato/\"):\n",
    "        if not os.path.exists(RESIZED_FOLDER) :\n",
    "            os.mkdir(RESIZED_FOLDER)    \n",
    "            \n",
    "        try :\n",
    "            shutil.rmtree(RESIZED_FOLDER)\n",
    "            os.mkdir(RESIZED_FOLDER)\n",
    "        except Exception as e:\n",
    "            print(\"[ERROR] \", e)\n",
    "            \n",
    "        for i in range(len(self.image_resized)):\n",
    "            # check if folder exist. if not, create that folder    \n",
    "            folder_path = RESIZED_FOLDER + self.labels[i] + \"/\"\n",
    "            if not os.path.exists(folder_path) :\n",
    "                os.mkdir(folder_path)\n",
    "                \n",
    "            for j in range(len(self.image_resized[i])):\n",
    "                # get image\n",
    "                img = self.image_resized[i][j]\n",
    "\n",
    "                if img is None :\n",
    "                    continue\n",
    "\n",
    "                # check if folder per sample is exist. if not, create that folder    \n",
    "                sample_path = RESIZED_FOLDER + self.labels[i] + \"/\" + \"sample_%03d\" % i + \"/\"\n",
    "                if not os.path.exists(sample_path) :\n",
    "                    os.mkdir(sample_path)\n",
    "\n",
    "                # save image\n",
    "                file_name = \"img_%03d.jpg\" % j\n",
    "                file_path = sample_path + file_name\n",
    "\n",
    "                cv2.imwrite(file_path, img)\n",
    "        self.image_resized = []"
   ]
  },
  {
   "cell_type": "code",
   "execution_count": 3,
   "metadata": {},
   "outputs": [],
   "source": [
    "Prepro = Preprocessing()"
   ]
  },
  {
   "cell_type": "code",
   "execution_count": 4,
   "metadata": {},
   "outputs": [],
   "source": [
    "Prepro.ImageRead()\n",
    "Prepro.RangeTresholding()\n",
    "Prepro.EdgeDetection()\n",
    "Prepro.FindContour()\n",
    "Prepro.FilterContour()"
   ]
  },
  {
   "cell_type": "code",
   "execution_count": 5,
   "metadata": {
    "scrolled": true
   },
   "outputs": [],
   "source": [
    "Prepro.CropByContour()\n",
    "Prepro.Resize()"
   ]
  },
  {
   "cell_type": "code",
   "execution_count": 6,
   "metadata": {},
   "outputs": [],
   "source": [
    "Prepro.SaveAllImage()"
   ]
  },
  {
   "cell_type": "code",
   "execution_count": null,
   "metadata": {},
   "outputs": [],
   "source": []
  },
  {
   "cell_type": "markdown",
   "metadata": {},
   "source": [
    "___\n",
    "# 2. Feature Extraction Dataset Tomat"
   ]
  },
  {
   "cell_type": "code",
   "execution_count": 7,
   "metadata": {},
   "outputs": [],
   "source": [
    "class FeatureExtraction : \n",
    "    def __init__(self, PREPROCESSED_DATASET_FOLDER = \"resized_tomato/\"):\n",
    "        self.labels = []\n",
    "        self.image_list = []\n",
    "        self.statistical_features = []\n",
    "        self.glcm_matrix_list = []\n",
    "        self.color_ch = ['b', 'g', 'r']\n",
    "        self.glcm_feature_list = []\n",
    "        self.texture_feature_labels = ['correlation', 'homogeneity', 'contrast', 'energy']\n",
    "        self.PREPROCESSED_DATASET_FOLDER = PREPROCESSED_DATASET_FOLDER\n",
    "        \n",
    "    def ImageRead(self):\n",
    "        for folder in os.listdir(self.PREPROCESSED_DATASET_FOLDER):\n",
    "            for sample in os.listdir(self.PREPROCESSED_DATASET_FOLDER + folder):\n",
    "                sample_imgs = []\n",
    "                for file in os.listdir(self.PREPROCESSED_DATASET_FOLDER + folder + \"/\" + sample):\n",
    "                    img = cv2.imread(self.PREPROCESSED_DATASET_FOLDER + folder + \"/\" + sample + \"/\" + file)\n",
    "                    sample_imgs.append(img)\n",
    "                self.image_list.append(sample_imgs)\n",
    "                self.labels.append(folder) # append label (name) of image\n",
    "                \n",
    "    def CalcStatisticalFeature(self):\n",
    "        for sample  in self.image_list:\n",
    "            sample_feature = []\n",
    "            for img in sample : \n",
    "                feature_ch = {}\n",
    "                for i in range(len(self.color_ch)):\n",
    "                    feature_ch[self.color_ch[i]] = {\n",
    "                        'mean' : img[:,:,i].mean(),\n",
    "                        'std' : img[:,:,i].std(),\n",
    "                        'skewness' : skew(img[:,:,i].reshape(-1))\n",
    "                    }\n",
    "                sample_feature.append(feature_ch)\n",
    "            self.statistical_features.append(sample_feature)\n",
    "            \n",
    "    def CalcGLCMMatrix(self):\n",
    "        for sample in self.image_list:\n",
    "            sample_matrix = []\n",
    "            for img in sample :\n",
    "                matrix_ch = {}\n",
    "                for i in range(len(self.color_ch)):\n",
    "                    # grab r, g, b channel\n",
    "                    img_ch = img[:,:,i]\n",
    "\n",
    "                    # calculate GLCM \n",
    "                    glcm_img = greycomatrix(img_ch, \n",
    "                                        distances=[1],  # distance 1 pixel\n",
    "                                        angles=[0, np.pi/4, np.pi/2, 3*np.pi/4],  # angel 0, 45, 90, 135 degre\n",
    "                                        levels=256, # number of grey-levels counted in 8 bit grayscale image\n",
    "                                        symmetric=True, \n",
    "                                        normed=True)\n",
    "\n",
    "                    matrix_ch[self.color_ch[i]] = glcm_img\n",
    "                sample_matrix.append(matrix_ch)\n",
    "            self.glcm_matrix_list.append(sample_matrix)\n",
    "            \n",
    "    def CalcGLCMTextureFeature(self):\n",
    "        for sample_matrix in self.glcm_matrix_list:\n",
    "            sample_feature = []\n",
    "            for glcm_matrix in sample_matrix :\n",
    "                feature_ch = {}\n",
    "                for ch in self.color_ch:\n",
    "                    feature_item = {}\n",
    "                    for feature in self.texture_feature_labels:\n",
    "                        out = greycoprops(glcm_matrix[ch], feature)[0]\n",
    "                        feature_item[feature] = out\n",
    "                    feature_ch[ch] = feature_item\n",
    "                sample_feature.append(feature_ch)\n",
    "            self.glcm_feature_list.append(sample_feature)"
   ]
  },
  {
   "cell_type": "code",
   "execution_count": 8,
   "metadata": {},
   "outputs": [],
   "source": [
    "Feature = FeatureExtraction()"
   ]
  },
  {
   "cell_type": "code",
   "execution_count": 9,
   "metadata": {},
   "outputs": [],
   "source": [
    "Feature.ImageRead()\n",
    "Feature.CalcStatisticalFeature()"
   ]
  },
  {
   "cell_type": "code",
   "execution_count": 10,
   "metadata": {},
   "outputs": [],
   "source": [
    "Feature.CalcGLCMMatrix()\n",
    "Feature.CalcGLCMTextureFeature()"
   ]
  },
  {
   "cell_type": "markdown",
   "metadata": {},
   "source": [
    "___\n",
    "# 3. Postprocssing Data"
   ]
  },
  {
   "cell_type": "code",
   "execution_count": 55,
   "metadata": {},
   "outputs": [],
   "source": [
    "class Postprocessing :\n",
    "    def __init__ (self, statistical_features, glcm_feature_list, labels):\n",
    "        self.X = []\n",
    "        self.y = []\n",
    "        self.X_train = []\n",
    "        self.X_test = [] \n",
    "        self.y_train = []\n",
    "        self.y_test = []\n",
    "        self.statistical_features = statistical_features\n",
    "        self.glcm_feature_list = glcm_feature_list\n",
    "        self.labels = labels\n",
    "        self.labels_name = []\n",
    "        self.labels_vec = []\n",
    "        self.test_size = 0.33\n",
    "        \n",
    "        \n",
    "    def transformX(self):\n",
    "        # transform statistical feature to 2D matrix\n",
    "        x1 = []\n",
    "        for sample in self.statistical_features : \n",
    "            sample_x = []\n",
    "            for channel in sample :\n",
    "                x = []\n",
    "                for feature in list(channel.values()) :\n",
    "                    data = list(feature.values())\n",
    "                    x.extend(data)\n",
    "                sample_x.extend(x)\n",
    "            x1.append(sample_x)\n",
    "\n",
    "        # transform GLCM feature to 2D matrix\n",
    "        x2 = []\n",
    "        for sample in self.glcm_feature_list: \n",
    "            sample_x = []\n",
    "            for channel in sample :\n",
    "                x = []\n",
    "                for features in list(channel.values()):\n",
    "                    item_feature = []\n",
    "                    for item in list(features.values()) :\n",
    "                        item_feature.extend(item)\n",
    "                    x.extend(item_feature)\n",
    "                sample_x.extend(x)\n",
    "            x2.append(sample_x)\n",
    "            \n",
    "        # concate 2d Matrix\n",
    "        x1 = np.array(x1).astype(np.float32)\n",
    "        x2 = np.array(x2).astype(np.float32)\n",
    "        self.X = np.concatenate((x1, x2), axis=1)\n",
    "        print(\"X size :\\n\", self.X.shape)\n",
    "        \n",
    "    def transformY(self):\n",
    "        \n",
    "        enc = OneHotEncoder(handle_unknown='ignore')\n",
    "        y = np.array(self.labels).reshape(-1, 1)\n",
    "        enc.fit(y)\n",
    "        self.labels_name = enc.categories_[0]\n",
    "        print(\"labels_name :\\n\", self.labels_name)\n",
    "        self.labels_vec = enc.transform(y).toarray()\n",
    "        print(\"labels_vec unique :\\n\", np.unique(self.labels_vec))\n",
    "        self.y = np.array(self.labels_vec).astype(np.float32)\n",
    "\n",
    "        print(\"y size :\\n\", self.y.shape)\n",
    "        \n",
    "    def splitData(self):\n",
    "        self.X_train, self.X_test, self.y_train, self.y_test = train_test_split(\n",
    "                                    self.X, self.y, test_size=self.test_size, random_state=42)\n",
    "        print(\"Split size :\\n\", self.X_train.shape, self.X_test.shape, self.y_train.shape, self.y_test.shape)"
   ]
  },
  {
   "cell_type": "code",
   "execution_count": 56,
   "metadata": {},
   "outputs": [
    {
     "name": "stdout",
     "output_type": "stream",
     "text": [
      "X size :\n",
      " (30, 342)\n",
      "labels_name :\n",
      " ['Tomat Baik' 'Tomat Buruk']\n",
      "labels_vec unique :\n",
      " [0. 1.]\n",
      "y size :\n",
      " (30, 2)\n",
      "Split size :\n",
      " (20, 342) (10, 342) (20, 2) (10, 2)\n"
     ]
    }
   ],
   "source": [
    "Postpro = Postprocessing(Feature.statistical_features, \n",
    "                         Feature.glcm_feature_list, \n",
    "                         Feature.labels)\n",
    "\n",
    "Postpro.transformX()\n",
    "Postpro.transformY()\n",
    "Postpro.splitData()"
   ]
  },
  {
   "cell_type": "code",
   "execution_count": 57,
   "metadata": {},
   "outputs": [
    {
     "data": {
      "text/plain": [
       "342"
      ]
     },
     "execution_count": 57,
     "metadata": {},
     "output_type": "execute_result"
    }
   ],
   "source": [
    "# 6 image/sample x 3 channel x 3 stat feature = 54\n",
    "# 6 image/sample x 3 channel x 4 feature x 4 angel = 288\n",
    "\n",
    "6*3*3 + 4*4*3*6"
   ]
  },
  {
   "cell_type": "markdown",
   "metadata": {},
   "source": [
    "___\n",
    "# 4. Training Model Klasifikasi Tomat"
   ]
  },
  {
   "cell_type": "code",
   "execution_count": 70,
   "metadata": {},
   "outputs": [],
   "source": [
    "class TrainingMLP:\n",
    "    def __init__(self, X_train, y_train, X_test, y_test, labels_vec, labels_name, max_iteartion=100, min_accuracy=0.9, input_dim=2):\n",
    "        self.mlp = cv2.ml.ANN_MLP_create()\n",
    "        \n",
    "        input_dim = X_train.shape[1] if X_train is not None else input_dim\n",
    "        output_dim = len(labels_name)\n",
    "        print(\"dim\", input_dim, output_dim)\n",
    "        network_layer = np.array([input_dim, 32, output_dim]).astype(np.uint0)\n",
    "        self.mlp.setLayerSizes(network_layer)\n",
    "        self.mlp.setActivationFunction(cv2.ml.ANN_MLP_SIGMOID_SYM)\n",
    "        self.mlp.setTrainMethod(cv2.ml.ANN_MLP_BACKPROP)\n",
    "        \n",
    "        # set term criteria : maximum 100 iteration or stop when achieve 90% accuracy\n",
    "        self.mlp.setTermCriteria((cv2.TERM_CRITERIA_MAX_ITER + cv2.TERM_CRITERIA_EPS, max_iteartion, min_accuracy))\n",
    "        \n",
    "        self.X_train = X_train\n",
    "        self.y_train = y_train\n",
    "        self.X_test = X_test\n",
    "        self.y_test = y_test\n",
    "        self.y_pred = []\n",
    "        self.labels_vec = labels_vec\n",
    "        self.labels_name = labels_name\n",
    "        \n",
    "        self.base_path = os.path.expanduser('~/Tomato Grading Systems')\n",
    "        if not os.path.exists(self.base_path):\n",
    "            os.mkdir(self.base_path)\n",
    "        self.model_name = os.path.join(self.base_path, 'klasifikasi_tomat_mlp_model.xml')\n",
    "        \n",
    "    def train(self):\n",
    "        self.mlp.train(self.X_train, cv2.ml.ROW_SAMPLE, self.y_train)\n",
    "        self.mlp.save(self.model_name)\n",
    "        \n",
    "    def validate(self, title='Confusion matrix - Klasifikasi Tomat'):\n",
    "        self.mlp.load(self.model_name)\n",
    "        self.y_pred = self.mlp.predict(self.X_test)[1]\n",
    "        \n",
    "        # Compute confusion matrix\n",
    "        cnf_matrix = confusion_matrix(self.y_test.argmax(axis=1), self.y_pred.argmax(axis=1), labels=np.unique(self.labels_vec))\n",
    "        np.set_printoptions(precision=2)\n",
    "\n",
    "\n",
    "        # Plot non-normalized confusion matrix\n",
    "        self.plot_confusion_matrix(cnf_matrix, classes=self.labels_name, normalize=False,\n",
    "                              title=title)\n",
    "        \n",
    "        # Print Classification Report\n",
    "        print(classification_report(self.y_test.argmax(axis=1), \n",
    "                                    self.y_pred.argmax(axis=1), \n",
    "                                    target_names=self.labels_name))\n",
    "        \n",
    "        report = classification_report(self.y_test.argmax(axis=1), \n",
    "                                    self.y_pred.argmax(axis=1), \n",
    "                                    target_names=self.labels_name)\n",
    "\n",
    "        report_path = os.path.join(self.base_path, 'Report %s.txt' % title)\n",
    "        with open(report_path, \"w\") as text_file:\n",
    "            text_file.write(report)\n",
    "        \n",
    "        \n",
    "    def plot_confusion_matrix(self, cm, classes,\n",
    "                              normalize=False,\n",
    "                              title='Confusion matrix',\n",
    "                              cmap=plt.cm.Blues):\n",
    "        if normalize:\n",
    "            cm = cm.astype('float') / cm.sum(axis=1)[:, np.newaxis]\n",
    "\n",
    "        plt.figure(figsize=(5, 4))\n",
    "\n",
    "        plt.imshow(cm, interpolation='nearest', cmap=cmap)\n",
    "        plt.title(title)\n",
    "        plt.colorbar()\n",
    "        tick_marks = np.arange(len(classes))\n",
    "        plt.xticks(tick_marks, classes, rotation=45)\n",
    "        plt.yticks(tick_marks, classes)\n",
    "\n",
    "        fmt = '.2f' if normalize else 'd'\n",
    "        thresh = cm.max() / 2.\n",
    "        for i, j in itertools.product(range(cm.shape[0]), range(cm.shape[1])):\n",
    "            plt.text(j, i, format(cm[i, j], fmt),\n",
    "                     horizontalalignment=\"center\",\n",
    "                     color=\"white\" if cm[i, j] > thresh else \"black\")\n",
    "\n",
    "        plt.tight_layout()\n",
    "        plt.ylabel('True label')\n",
    "        plt.xlabel('Predicted label')\n",
    "        \n",
    "        cm_path = os.path.join(self.base_path, '%s.png' % title)\n",
    "        plt.savefig(cm_path, bbox_inches='tight')\n",
    "        plt.show()"
   ]
  },
  {
   "cell_type": "code",
   "execution_count": 71,
   "metadata": {},
   "outputs": [
    {
     "name": "stdout",
     "output_type": "stream",
     "text": [
      "dim 342 2\n"
     ]
    }
   ],
   "source": [
    "mlp_model = TrainingMLP(Postpro.X_train, \n",
    "                      Postpro.y_train, \n",
    "                      Postpro.X_test, \n",
    "                      Postpro.y_test, \n",
    "                      Postpro.labels_vec, \n",
    "                      Postpro.labels_name)"
   ]
  },
  {
   "cell_type": "code",
   "execution_count": 72,
   "metadata": {},
   "outputs": [
    {
     "data": {
      "image/png": "[encoded data removed]",
      "text/plain": [
       "<Figure size 360x288 with 2 Axes>"
      ]
     },
     "metadata": {
      "needs_background": "light"
     },
     "output_type": "display_data"
    },
    {
     "name": "stdout",
     "output_type": "stream",
     "text": [
      "              precision    recall  f1-score   support\n",
      "\n",
      "  Tomat Baik       0.80      1.00      0.89         4\n",
      " Tomat Buruk       1.00      0.83      0.91         6\n",
      "\n",
      "    accuracy                           0.90        10\n",
      "   macro avg       0.90      0.92      0.90        10\n",
      "weighted avg       0.92      0.90      0.90        10\n",
      "\n"
     ]
    }
   ],
   "source": [
    "mlp_model.train()\n",
    "mlp_model.validate()"
   ]
  },
  {
   "cell_type": "code",
   "execution_count": null,
   "metadata": {},
   "outputs": [],
   "source": []
  }
 ],
 "metadata": {
  "kernelspec": {
   "display_name": "Python [conda env:opencv_env]",
   "language": "python",
   "name": "conda-env-opencv_env-py"
  },
  "language_info": {
   "codemirror_mode": {
    "name": "ipython",
    "version": 3
   },
   "file_extension": ".py",
   "mimetype": "text/x-python",
   "name": "python",
   "nbconvert_exporter": "python",
   "pygments_lexer": "ipython3",
   "version": "3.8.6"
  }
 },
 "nbformat": 4,
 "nbformat_minor": 4
}
